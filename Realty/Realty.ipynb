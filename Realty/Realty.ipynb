{
 "cells": [
  {
   "cell_type": "markdown",
   "metadata": {
    "toc": true
   },
   "source": [
    "<h1>Содержание<span class=\"tocSkip\"></span></h1>\n",
    "<div class=\"toc\"><ul class=\"toc-item\"><li><span><a href=\"#Изучение-данных-из-файла\" data-toc-modified-id=\"Изучение-данных-из-файла-1\"><span class=\"toc-item-num\">1&nbsp;&nbsp;</span>Изучение данных из файла</a></span><ul class=\"toc-item\"><li><span><a href=\"#Вывод\" data-toc-modified-id=\"Вывод-1.1\"><span class=\"toc-item-num\">1.1&nbsp;&nbsp;</span>Вывод</a></span></li></ul></li><li><span><a href=\"#Предобработка-данных\" data-toc-modified-id=\"Предобработка-данных-2\"><span class=\"toc-item-num\">2&nbsp;&nbsp;</span>Предобработка данных</a></span></li><li><span><a href=\"#Расчёты-и-добавление-результатов-в-таблицу\" data-toc-modified-id=\"Расчёты-и-добавление-результатов-в-таблицу-3\"><span class=\"toc-item-num\">3&nbsp;&nbsp;</span>Расчёты и добавление результатов в таблицу</a></span></li><li><span><a href=\"#Исследовательский-анализ-данных\" data-toc-modified-id=\"Исследовательский-анализ-данных-4\"><span class=\"toc-item-num\">4&nbsp;&nbsp;</span>Исследовательский анализ данных</a></span><ul class=\"toc-item\"><li><span><a href=\"#Вывод\" data-toc-modified-id=\"Вывод-4.1\"><span class=\"toc-item-num\">4.1&nbsp;&nbsp;</span>Вывод</a></span></li><li><span><a href=\"#Вывод\" data-toc-modified-id=\"Вывод-4.2\"><span class=\"toc-item-num\">4.2&nbsp;&nbsp;</span>Вывод</a></span></li><li><span><a href=\"#Вывод\" data-toc-modified-id=\"Вывод-4.3\"><span class=\"toc-item-num\">4.3&nbsp;&nbsp;</span>Вывод</a></span></li><li><span><a href=\"#Вывод\" data-toc-modified-id=\"Вывод-4.4\"><span class=\"toc-item-num\">4.4&nbsp;&nbsp;</span>Вывод</a></span></li><li><span><a href=\"#Вывод\" data-toc-modified-id=\"Вывод-4.5\"><span class=\"toc-item-num\">4.5&nbsp;&nbsp;</span>Вывод</a></span></li><li><span><a href=\"#Вывод\" data-toc-modified-id=\"Вывод-4.6\"><span class=\"toc-item-num\">4.6&nbsp;&nbsp;</span>Вывод</a></span></li><li><span><a href=\"#Вывод\" data-toc-modified-id=\"Вывод-4.7\"><span class=\"toc-item-num\">4.7&nbsp;&nbsp;</span>Вывод</a></span></li><li><span><a href=\"#Вывод\" data-toc-modified-id=\"Вывод-4.8\"><span class=\"toc-item-num\">4.8&nbsp;&nbsp;</span>Вывод</a></span></li><li><span><a href=\"#Вывод\" data-toc-modified-id=\"Вывод-4.9\"><span class=\"toc-item-num\">4.9&nbsp;&nbsp;</span>Вывод</a></span></li></ul></li><li><span><a href=\"#Общий-вывод\" data-toc-modified-id=\"Общий-вывод-5\"><span class=\"toc-item-num\">5&nbsp;&nbsp;</span>Общий вывод</a></span></li><li><span><a href=\"#Чек-лист-готовности-проекта\" data-toc-modified-id=\"Чек-лист-готовности-проекта-6\"><span class=\"toc-item-num\">6&nbsp;&nbsp;</span>Чек-лист готовности проекта</a></span></li></ul></div>"
   ]
  },
  {
   "cell_type": "markdown",
   "metadata": {},
   "source": [
    "## Изучение данных из файла"
   ]
  },
  {
   "cell_type": "code",
   "execution_count": 1,
   "metadata": {},
   "outputs": [
    {
     "data": {
      "text/html": [
       "<div>\n",
       "<style scoped>\n",
       "    .dataframe tbody tr th:only-of-type {\n",
       "        vertical-align: middle;\n",
       "    }\n",
       "\n",
       "    .dataframe tbody tr th {\n",
       "        vertical-align: top;\n",
       "    }\n",
       "\n",
       "    .dataframe thead th {\n",
       "        text-align: right;\n",
       "    }\n",
       "</style>\n",
       "<table border=\"1\" class=\"dataframe\">\n",
       "  <thead>\n",
       "    <tr style=\"text-align: right;\">\n",
       "      <th></th>\n",
       "      <th>total_images</th>\n",
       "      <th>last_price</th>\n",
       "      <th>total_area</th>\n",
       "      <th>first_day_exposition</th>\n",
       "      <th>rooms</th>\n",
       "      <th>ceiling_height</th>\n",
       "      <th>floors_total</th>\n",
       "      <th>living_area</th>\n",
       "      <th>floor</th>\n",
       "      <th>is_apartment</th>\n",
       "      <th>...</th>\n",
       "      <th>kitchen_area</th>\n",
       "      <th>balcony</th>\n",
       "      <th>locality_name</th>\n",
       "      <th>airports_nearest</th>\n",
       "      <th>cityCenters_nearest</th>\n",
       "      <th>parks_around3000</th>\n",
       "      <th>parks_nearest</th>\n",
       "      <th>ponds_around3000</th>\n",
       "      <th>ponds_nearest</th>\n",
       "      <th>days_exposition</th>\n",
       "    </tr>\n",
       "  </thead>\n",
       "  <tbody>\n",
       "    <tr>\n",
       "      <td>0</td>\n",
       "      <td>20</td>\n",
       "      <td>13000000.0</td>\n",
       "      <td>108.00</td>\n",
       "      <td>2019-03-07T00:00:00</td>\n",
       "      <td>3</td>\n",
       "      <td>2.70</td>\n",
       "      <td>16.0</td>\n",
       "      <td>51.0</td>\n",
       "      <td>8</td>\n",
       "      <td>NaN</td>\n",
       "      <td>...</td>\n",
       "      <td>25.00</td>\n",
       "      <td>NaN</td>\n",
       "      <td>Санкт-Петербург</td>\n",
       "      <td>18863.0</td>\n",
       "      <td>16028.0</td>\n",
       "      <td>1.0</td>\n",
       "      <td>482.0</td>\n",
       "      <td>2.0</td>\n",
       "      <td>755.0</td>\n",
       "      <td>NaN</td>\n",
       "    </tr>\n",
       "    <tr>\n",
       "      <td>1</td>\n",
       "      <td>7</td>\n",
       "      <td>3350000.0</td>\n",
       "      <td>40.40</td>\n",
       "      <td>2018-12-04T00:00:00</td>\n",
       "      <td>1</td>\n",
       "      <td>NaN</td>\n",
       "      <td>11.0</td>\n",
       "      <td>18.6</td>\n",
       "      <td>1</td>\n",
       "      <td>NaN</td>\n",
       "      <td>...</td>\n",
       "      <td>11.00</td>\n",
       "      <td>2.0</td>\n",
       "      <td>посёлок Шушары</td>\n",
       "      <td>12817.0</td>\n",
       "      <td>18603.0</td>\n",
       "      <td>0.0</td>\n",
       "      <td>NaN</td>\n",
       "      <td>0.0</td>\n",
       "      <td>NaN</td>\n",
       "      <td>81.0</td>\n",
       "    </tr>\n",
       "    <tr>\n",
       "      <td>2</td>\n",
       "      <td>10</td>\n",
       "      <td>5196000.0</td>\n",
       "      <td>56.00</td>\n",
       "      <td>2015-08-20T00:00:00</td>\n",
       "      <td>2</td>\n",
       "      <td>NaN</td>\n",
       "      <td>5.0</td>\n",
       "      <td>34.3</td>\n",
       "      <td>4</td>\n",
       "      <td>NaN</td>\n",
       "      <td>...</td>\n",
       "      <td>8.30</td>\n",
       "      <td>0.0</td>\n",
       "      <td>Санкт-Петербург</td>\n",
       "      <td>21741.0</td>\n",
       "      <td>13933.0</td>\n",
       "      <td>1.0</td>\n",
       "      <td>90.0</td>\n",
       "      <td>2.0</td>\n",
       "      <td>574.0</td>\n",
       "      <td>558.0</td>\n",
       "    </tr>\n",
       "    <tr>\n",
       "      <td>3</td>\n",
       "      <td>0</td>\n",
       "      <td>64900000.0</td>\n",
       "      <td>159.00</td>\n",
       "      <td>2015-07-24T00:00:00</td>\n",
       "      <td>3</td>\n",
       "      <td>NaN</td>\n",
       "      <td>14.0</td>\n",
       "      <td>NaN</td>\n",
       "      <td>9</td>\n",
       "      <td>NaN</td>\n",
       "      <td>...</td>\n",
       "      <td>NaN</td>\n",
       "      <td>0.0</td>\n",
       "      <td>Санкт-Петербург</td>\n",
       "      <td>28098.0</td>\n",
       "      <td>6800.0</td>\n",
       "      <td>2.0</td>\n",
       "      <td>84.0</td>\n",
       "      <td>3.0</td>\n",
       "      <td>234.0</td>\n",
       "      <td>424.0</td>\n",
       "    </tr>\n",
       "    <tr>\n",
       "      <td>4</td>\n",
       "      <td>2</td>\n",
       "      <td>10000000.0</td>\n",
       "      <td>100.00</td>\n",
       "      <td>2018-06-19T00:00:00</td>\n",
       "      <td>2</td>\n",
       "      <td>3.03</td>\n",
       "      <td>14.0</td>\n",
       "      <td>32.0</td>\n",
       "      <td>13</td>\n",
       "      <td>NaN</td>\n",
       "      <td>...</td>\n",
       "      <td>41.00</td>\n",
       "      <td>NaN</td>\n",
       "      <td>Санкт-Петербург</td>\n",
       "      <td>31856.0</td>\n",
       "      <td>8098.0</td>\n",
       "      <td>2.0</td>\n",
       "      <td>112.0</td>\n",
       "      <td>1.0</td>\n",
       "      <td>48.0</td>\n",
       "      <td>121.0</td>\n",
       "    </tr>\n",
       "    <tr>\n",
       "      <td>...</td>\n",
       "      <td>...</td>\n",
       "      <td>...</td>\n",
       "      <td>...</td>\n",
       "      <td>...</td>\n",
       "      <td>...</td>\n",
       "      <td>...</td>\n",
       "      <td>...</td>\n",
       "      <td>...</td>\n",
       "      <td>...</td>\n",
       "      <td>...</td>\n",
       "      <td>...</td>\n",
       "      <td>...</td>\n",
       "      <td>...</td>\n",
       "      <td>...</td>\n",
       "      <td>...</td>\n",
       "      <td>...</td>\n",
       "      <td>...</td>\n",
       "      <td>...</td>\n",
       "      <td>...</td>\n",
       "      <td>...</td>\n",
       "      <td>...</td>\n",
       "    </tr>\n",
       "    <tr>\n",
       "      <td>23694</td>\n",
       "      <td>9</td>\n",
       "      <td>9700000.0</td>\n",
       "      <td>133.81</td>\n",
       "      <td>2017-03-21T00:00:00</td>\n",
       "      <td>3</td>\n",
       "      <td>3.70</td>\n",
       "      <td>5.0</td>\n",
       "      <td>73.3</td>\n",
       "      <td>3</td>\n",
       "      <td>NaN</td>\n",
       "      <td>...</td>\n",
       "      <td>13.83</td>\n",
       "      <td>NaN</td>\n",
       "      <td>Санкт-Петербург</td>\n",
       "      <td>24665.0</td>\n",
       "      <td>4232.0</td>\n",
       "      <td>1.0</td>\n",
       "      <td>796.0</td>\n",
       "      <td>3.0</td>\n",
       "      <td>381.0</td>\n",
       "      <td>NaN</td>\n",
       "    </tr>\n",
       "    <tr>\n",
       "      <td>23695</td>\n",
       "      <td>14</td>\n",
       "      <td>3100000.0</td>\n",
       "      <td>59.00</td>\n",
       "      <td>2018-01-15T00:00:00</td>\n",
       "      <td>3</td>\n",
       "      <td>NaN</td>\n",
       "      <td>5.0</td>\n",
       "      <td>38.0</td>\n",
       "      <td>4</td>\n",
       "      <td>NaN</td>\n",
       "      <td>...</td>\n",
       "      <td>8.50</td>\n",
       "      <td>NaN</td>\n",
       "      <td>Тосно</td>\n",
       "      <td>NaN</td>\n",
       "      <td>NaN</td>\n",
       "      <td>NaN</td>\n",
       "      <td>NaN</td>\n",
       "      <td>NaN</td>\n",
       "      <td>NaN</td>\n",
       "      <td>45.0</td>\n",
       "    </tr>\n",
       "    <tr>\n",
       "      <td>23696</td>\n",
       "      <td>18</td>\n",
       "      <td>2500000.0</td>\n",
       "      <td>56.70</td>\n",
       "      <td>2018-02-11T00:00:00</td>\n",
       "      <td>2</td>\n",
       "      <td>NaN</td>\n",
       "      <td>3.0</td>\n",
       "      <td>29.7</td>\n",
       "      <td>1</td>\n",
       "      <td>NaN</td>\n",
       "      <td>...</td>\n",
       "      <td>NaN</td>\n",
       "      <td>NaN</td>\n",
       "      <td>село Рождествено</td>\n",
       "      <td>NaN</td>\n",
       "      <td>NaN</td>\n",
       "      <td>NaN</td>\n",
       "      <td>NaN</td>\n",
       "      <td>NaN</td>\n",
       "      <td>NaN</td>\n",
       "      <td>NaN</td>\n",
       "    </tr>\n",
       "    <tr>\n",
       "      <td>23697</td>\n",
       "      <td>13</td>\n",
       "      <td>11475000.0</td>\n",
       "      <td>76.75</td>\n",
       "      <td>2017-03-28T00:00:00</td>\n",
       "      <td>2</td>\n",
       "      <td>3.00</td>\n",
       "      <td>17.0</td>\n",
       "      <td>NaN</td>\n",
       "      <td>12</td>\n",
       "      <td>NaN</td>\n",
       "      <td>...</td>\n",
       "      <td>23.30</td>\n",
       "      <td>2.0</td>\n",
       "      <td>Санкт-Петербург</td>\n",
       "      <td>39140.0</td>\n",
       "      <td>10364.0</td>\n",
       "      <td>2.0</td>\n",
       "      <td>173.0</td>\n",
       "      <td>3.0</td>\n",
       "      <td>196.0</td>\n",
       "      <td>602.0</td>\n",
       "    </tr>\n",
       "    <tr>\n",
       "      <td>23698</td>\n",
       "      <td>4</td>\n",
       "      <td>1350000.0</td>\n",
       "      <td>32.30</td>\n",
       "      <td>2017-07-21T00:00:00</td>\n",
       "      <td>1</td>\n",
       "      <td>2.50</td>\n",
       "      <td>5.0</td>\n",
       "      <td>12.3</td>\n",
       "      <td>1</td>\n",
       "      <td>NaN</td>\n",
       "      <td>...</td>\n",
       "      <td>9.00</td>\n",
       "      <td>NaN</td>\n",
       "      <td>поселок Новый Учхоз</td>\n",
       "      <td>NaN</td>\n",
       "      <td>NaN</td>\n",
       "      <td>NaN</td>\n",
       "      <td>NaN</td>\n",
       "      <td>NaN</td>\n",
       "      <td>NaN</td>\n",
       "      <td>NaN</td>\n",
       "    </tr>\n",
       "  </tbody>\n",
       "</table>\n",
       "<p>23699 rows × 22 columns</p>\n",
       "</div>"
      ],
      "text/plain": [
       "       total_images  last_price  total_area first_day_exposition  rooms  \\\n",
       "0                20  13000000.0      108.00  2019-03-07T00:00:00      3   \n",
       "1                 7   3350000.0       40.40  2018-12-04T00:00:00      1   \n",
       "2                10   5196000.0       56.00  2015-08-20T00:00:00      2   \n",
       "3                 0  64900000.0      159.00  2015-07-24T00:00:00      3   \n",
       "4                 2  10000000.0      100.00  2018-06-19T00:00:00      2   \n",
       "...             ...         ...         ...                  ...    ...   \n",
       "23694             9   9700000.0      133.81  2017-03-21T00:00:00      3   \n",
       "23695            14   3100000.0       59.00  2018-01-15T00:00:00      3   \n",
       "23696            18   2500000.0       56.70  2018-02-11T00:00:00      2   \n",
       "23697            13  11475000.0       76.75  2017-03-28T00:00:00      2   \n",
       "23698             4   1350000.0       32.30  2017-07-21T00:00:00      1   \n",
       "\n",
       "       ceiling_height  floors_total  living_area  floor is_apartment  ...  \\\n",
       "0                2.70          16.0         51.0      8          NaN  ...   \n",
       "1                 NaN          11.0         18.6      1          NaN  ...   \n",
       "2                 NaN           5.0         34.3      4          NaN  ...   \n",
       "3                 NaN          14.0          NaN      9          NaN  ...   \n",
       "4                3.03          14.0         32.0     13          NaN  ...   \n",
       "...               ...           ...          ...    ...          ...  ...   \n",
       "23694            3.70           5.0         73.3      3          NaN  ...   \n",
       "23695             NaN           5.0         38.0      4          NaN  ...   \n",
       "23696             NaN           3.0         29.7      1          NaN  ...   \n",
       "23697            3.00          17.0          NaN     12          NaN  ...   \n",
       "23698            2.50           5.0         12.3      1          NaN  ...   \n",
       "\n",
       "       kitchen_area  balcony        locality_name  airports_nearest  \\\n",
       "0             25.00      NaN      Санкт-Петербург           18863.0   \n",
       "1             11.00      2.0       посёлок Шушары           12817.0   \n",
       "2              8.30      0.0      Санкт-Петербург           21741.0   \n",
       "3               NaN      0.0      Санкт-Петербург           28098.0   \n",
       "4             41.00      NaN      Санкт-Петербург           31856.0   \n",
       "...             ...      ...                  ...               ...   \n",
       "23694         13.83      NaN      Санкт-Петербург           24665.0   \n",
       "23695          8.50      NaN                Тосно               NaN   \n",
       "23696           NaN      NaN     село Рождествено               NaN   \n",
       "23697         23.30      2.0      Санкт-Петербург           39140.0   \n",
       "23698          9.00      NaN  поселок Новый Учхоз               NaN   \n",
       "\n",
       "      cityCenters_nearest  parks_around3000  parks_nearest  ponds_around3000  \\\n",
       "0                 16028.0               1.0          482.0               2.0   \n",
       "1                 18603.0               0.0            NaN               0.0   \n",
       "2                 13933.0               1.0           90.0               2.0   \n",
       "3                  6800.0               2.0           84.0               3.0   \n",
       "4                  8098.0               2.0          112.0               1.0   \n",
       "...                   ...               ...            ...               ...   \n",
       "23694              4232.0               1.0          796.0               3.0   \n",
       "23695                 NaN               NaN            NaN               NaN   \n",
       "23696                 NaN               NaN            NaN               NaN   \n",
       "23697             10364.0               2.0          173.0               3.0   \n",
       "23698                 NaN               NaN            NaN               NaN   \n",
       "\n",
       "       ponds_nearest  days_exposition  \n",
       "0              755.0              NaN  \n",
       "1                NaN             81.0  \n",
       "2              574.0            558.0  \n",
       "3              234.0            424.0  \n",
       "4               48.0            121.0  \n",
       "...              ...              ...  \n",
       "23694          381.0              NaN  \n",
       "23695            NaN             45.0  \n",
       "23696            NaN              NaN  \n",
       "23697          196.0            602.0  \n",
       "23698            NaN              NaN  \n",
       "\n",
       "[23699 rows x 22 columns]"
      ]
     },
     "metadata": {},
     "output_type": "display_data"
    },
    {
     "name": "stdout",
     "output_type": "stream",
     "text": [
      "<class 'pandas.core.frame.DataFrame'>\n",
      "RangeIndex: 23699 entries, 0 to 23698\n",
      "Data columns (total 22 columns):\n",
      "total_images            23699 non-null int64\n",
      "last_price              23699 non-null float64\n",
      "total_area              23699 non-null float64\n",
      "first_day_exposition    23699 non-null object\n",
      "rooms                   23699 non-null int64\n",
      "ceiling_height          14504 non-null float64\n",
      "floors_total            23613 non-null float64\n",
      "living_area             21796 non-null float64\n",
      "floor                   23699 non-null int64\n",
      "is_apartment            2775 non-null object\n",
      "studio                  23699 non-null bool\n",
      "open_plan               23699 non-null bool\n",
      "kitchen_area            21421 non-null float64\n",
      "balcony                 12180 non-null float64\n",
      "locality_name           23650 non-null object\n",
      "airports_nearest        18157 non-null float64\n",
      "cityCenters_nearest     18180 non-null float64\n",
      "parks_around3000        18181 non-null float64\n",
      "parks_nearest           8079 non-null float64\n",
      "ponds_around3000        18181 non-null float64\n",
      "ponds_nearest           9110 non-null float64\n",
      "days_exposition         20518 non-null float64\n",
      "dtypes: bool(2), float64(14), int64(3), object(3)\n",
      "memory usage: 3.7+ MB\n"
     ]
    }
   ],
   "source": [
    "import pandas as pd\n",
    "import matplotlib.pyplot as plt\n",
    "df = pd.read_csv('/datasets/real_estate_data.csv', sep='\\t')\n",
    "display(df)\n",
    "df.info()"
   ]
  },
  {
   "cell_type": "markdown",
   "metadata": {},
   "source": [
    "### Вывод"
   ]
  },
  {
   "cell_type": "markdown",
   "metadata": {},
   "source": [
    "<div class=\"alert alert-info\">\n",
    "<b>Комментарий:</b>\n",
    "<br>При первоначальном поверхностном знакомстве с данными были замечены следующие проблемы с данными:<br>\n",
    "first_day_exposition (дата публикации) имеет неверный тип данных. Является строкой<br>\n",
    "floors_total (количество этажей в доме) можно из float перевести в int. Тк не может быть дробное количество этажей.<br>\n",
    "is_apartment имеет типа данных строка. Должно быть булевым значением. Однако столбец в исследовании нам не нужен.<br>\n",
    "balcony можно смело менять на int. Не бывает дробное число балконов.<br>\n",
    "days_exposition имеет неверный тип данных.<br>\n",
    "Так же во многих столбцах имеется значение NaN. Возможно данные заполнялись пользователем и эти поля значения не были указаны.\n",
    "</div>"
   ]
  },
  {
   "cell_type": "markdown",
   "metadata": {},
   "source": [
    "## Предобработка данных"
   ]
  },
  {
   "cell_type": "code",
   "execution_count": 2,
   "metadata": {
    "scrolled": true
   },
   "outputs": [
    {
     "name": "stdout",
     "output_type": "stream",
     "text": [
      "0.9963711549010507\n"
     ]
    }
   ],
   "source": [
    "# Начнем с приведения значений в столбцах к требуемому типу данных.\n",
    "# Приведем first_day_exposition к типу datetime\n",
    "df['first_day_exposition'] = pd.to_datetime(df['first_day_exposition'], format='%Y-%m-%d')\n",
    "\n",
    "# Значений NaN в столбце floors_total менее 1%. Решаю отсечь эти строки.\n",
    "print(df['floors_total'].count()/len(df))\n",
    "df = df[df['floors_total'].notna()]\n",
    "\n",
    "df['is_apartment'] = df['is_apartment'].fillna(False)\n",
    "\n",
    "\n",
    "#Удалим помещения без комнат\n",
    "df = df[df['rooms'] >= 1]\n",
    "\n",
    "# Приведем значения столбца floors_total к int.\n",
    "df['floors_total'] = df['floors_total'].astype(int)"
   ]
  },
  {
   "cell_type": "code",
   "execution_count": 3,
   "metadata": {},
   "outputs": [
    {
     "name": "stdout",
     "output_type": "stream",
     "text": [
      "0.13484777317562663\n"
     ]
    }
   ],
   "source": [
    "# Разберемся с is_apartment\n",
    "# Столбец в исследовании не участвует. Тип данный на будевый менять не будем, иначе все значения NaN изменятся на True.\n",
    "\n",
    "# Значения NaN в столбце balcony меняем на 0. Приводим столбец к типу int\n",
    "df['balcony'] = df['balcony'].fillna(0).astype(int)\n",
    "\n",
    "#  days_exposition не трогаем. Доля не снятых объявлений 13.4%\n",
    "print(df['days_exposition'].isna().sum() /len(df))\n",
    "df['days_exposition'] = df['days_exposition'].fillna(0).astype(int)"
   ]
  },
  {
   "cell_type": "code",
   "execution_count": 4,
   "metadata": {},
   "outputs": [
    {
     "name": "stdout",
     "output_type": "stream",
     "text": [
      "total_images                0\n",
      "last_price                  0\n",
      "total_area                  0\n",
      "first_day_exposition        0\n",
      "rooms                       0\n",
      "ceiling_height           9006\n",
      "floors_total                0\n",
      "living_area              1859\n",
      "floor                       0\n",
      "is_apartment                0\n",
      "studio                      0\n",
      "open_plan                   0\n",
      "kitchen_area             2037\n",
      "balcony                     0\n",
      "locality_name              48\n",
      "airports_nearest         5455\n",
      "cityCenters_nearest      5432\n",
      "parks_around3000         5431\n",
      "parks_nearest           15402\n",
      "ponds_around3000         5431\n",
      "ponds_nearest           14426\n",
      "days_exposition             0\n",
      "dtype: int64\n",
      "Дубликатов явных: 0\n",
      "\n"
     ]
    }
   ],
   "source": [
    "# Займемся поиском пропусков по всей таблице и  поиском дубликатов\n",
    "print(df.isna().sum())\n",
    "\n",
    "# Пропуски в living_area, возможно, говорят о том, что это помещение не относится к жилым.\n",
    "# Пропуски в kitchen_area, возможно, говорят о том, что эта недвижимость не имеет кухни.\n",
    "# Пропуски в locality_name заменить невозможно. Их мало. Можно удалить.\n",
    "# Значения NaN в parks_around3000 можно заменить на 0. Если нет парка в радиусе 3000м, до ближайшего значение будет NaN.\n",
    "# Та же история с водоемами\n",
    "\n",
    "# Дубликатов в таблице нет.\n",
    "print('Дубликатов явных:', df.duplicated().sum())\n",
    "\n",
    "# Удаляем строки с неизвестным населенным пунктом\n",
    "df = df[df['locality_name'].notna()]\n",
    "\n",
    "# Заменяем значения NaN в столбцах с парками\n",
    "df['parks_around3000'] = df['parks_around3000'].fillna(0).astype(int)\n",
    "\n",
    "print()\n",
    "# Заменяем значения NaN в столбцах с водоемами\n",
    "df['ponds_around3000'] = df['ponds_around3000'].fillna(0).astype(int)\n",
    "\n",
    "#Столбцы airports_nearest и cityCenters_nearest не трогаю. Тк нет рядом аэропорта или населенный пункт не город.\n",
    "\n",
    "# В ceiling_height заменяю пропуски и значения больше 5м на медианное значение\n",
    "ceiling_height_median = df['ceiling_height'].median()\n",
    "df['ceiling_height'] = df['ceiling_height'].fillna(ceiling_height_median)\n",
    "df.loc[(df['ceiling_height'] > 5, 'ceiling_height')] = ceiling_height_median"
   ]
  },
  {
   "cell_type": "code",
   "execution_count": 5,
   "metadata": {},
   "outputs": [
    {
     "name": "stdout",
     "output_type": "stream",
     "text": [
      "total_images                0\n",
      "last_price                  0\n",
      "total_area                  0\n",
      "first_day_exposition        0\n",
      "rooms                       0\n",
      "ceiling_height              0\n",
      "floors_total                0\n",
      "living_area              1854\n",
      "floor                       0\n",
      "is_apartment                0\n",
      "studio                      0\n",
      "open_plan                   0\n",
      "kitchen_area             2028\n",
      "balcony                     0\n",
      "locality_name               0\n",
      "airports_nearest         5447\n",
      "cityCenters_nearest      5424\n",
      "parks_around3000            0\n",
      "parks_nearest           15369\n",
      "ponds_around3000            0\n",
      "ponds_nearest           14403\n",
      "days_exposition             0\n",
      "dtype: int64\n"
     ]
    }
   ],
   "source": [
    "print(df.isna().sum())"
   ]
  },
  {
   "cell_type": "markdown",
   "metadata": {},
   "source": [
    "<div class=\"alert alert-info\">\n",
    "<b>Комментарий:</b><br>\n",
    "Поработал с пропусками в тех столбцах, где это имеет смысл.<br>\n",
    "Привел те столбцы к другим типам данных, где это имеет смысл.\n",
    "</div>"
   ]
  },
  {
   "cell_type": "markdown",
   "metadata": {},
   "source": [
    "## Расчёты и добавление результатов в таблицу"
   ]
  },
  {
   "cell_type": "code",
   "execution_count": 6,
   "metadata": {},
   "outputs": [
    {
     "data": {
      "text/html": [
       "<div>\n",
       "<style scoped>\n",
       "    .dataframe tbody tr th:only-of-type {\n",
       "        vertical-align: middle;\n",
       "    }\n",
       "\n",
       "    .dataframe tbody tr th {\n",
       "        vertical-align: top;\n",
       "    }\n",
       "\n",
       "    .dataframe thead th {\n",
       "        text-align: right;\n",
       "    }\n",
       "</style>\n",
       "<table border=\"1\" class=\"dataframe\">\n",
       "  <thead>\n",
       "    <tr style=\"text-align: right;\">\n",
       "      <th></th>\n",
       "      <th>total_images</th>\n",
       "      <th>last_price</th>\n",
       "      <th>total_area</th>\n",
       "      <th>first_day_exposition</th>\n",
       "      <th>rooms</th>\n",
       "      <th>ceiling_height</th>\n",
       "      <th>floors_total</th>\n",
       "      <th>living_area</th>\n",
       "      <th>floor</th>\n",
       "      <th>is_apartment</th>\n",
       "      <th>...</th>\n",
       "      <th>parks_nearest</th>\n",
       "      <th>ponds_around3000</th>\n",
       "      <th>ponds_nearest</th>\n",
       "      <th>days_exposition</th>\n",
       "      <th>square_meter</th>\n",
       "      <th>day_name</th>\n",
       "      <th>month_year</th>\n",
       "      <th>apartment_floor</th>\n",
       "      <th>living_total_area</th>\n",
       "      <th>kitchen_total_are</th>\n",
       "    </tr>\n",
       "  </thead>\n",
       "  <tbody>\n",
       "    <tr>\n",
       "      <td>0</td>\n",
       "      <td>20</td>\n",
       "      <td>13000000.0</td>\n",
       "      <td>108.00</td>\n",
       "      <td>2019-03-07</td>\n",
       "      <td>3</td>\n",
       "      <td>2.70</td>\n",
       "      <td>16</td>\n",
       "      <td>51.0</td>\n",
       "      <td>8</td>\n",
       "      <td>False</td>\n",
       "      <td>...</td>\n",
       "      <td>482.0</td>\n",
       "      <td>2</td>\n",
       "      <td>755.0</td>\n",
       "      <td>0</td>\n",
       "      <td>120370.370370</td>\n",
       "      <td>Thursday</td>\n",
       "      <td>03-2019</td>\n",
       "      <td>другой</td>\n",
       "      <td>0.472222</td>\n",
       "      <td>0.231481</td>\n",
       "    </tr>\n",
       "    <tr>\n",
       "      <td>1</td>\n",
       "      <td>7</td>\n",
       "      <td>3350000.0</td>\n",
       "      <td>40.40</td>\n",
       "      <td>2018-12-04</td>\n",
       "      <td>1</td>\n",
       "      <td>2.65</td>\n",
       "      <td>11</td>\n",
       "      <td>18.6</td>\n",
       "      <td>1</td>\n",
       "      <td>False</td>\n",
       "      <td>...</td>\n",
       "      <td>NaN</td>\n",
       "      <td>0</td>\n",
       "      <td>NaN</td>\n",
       "      <td>81</td>\n",
       "      <td>82920.792079</td>\n",
       "      <td>Tuesday</td>\n",
       "      <td>12-2018</td>\n",
       "      <td>первый</td>\n",
       "      <td>0.460396</td>\n",
       "      <td>0.272277</td>\n",
       "    </tr>\n",
       "    <tr>\n",
       "      <td>2</td>\n",
       "      <td>10</td>\n",
       "      <td>5196000.0</td>\n",
       "      <td>56.00</td>\n",
       "      <td>2015-08-20</td>\n",
       "      <td>2</td>\n",
       "      <td>2.65</td>\n",
       "      <td>5</td>\n",
       "      <td>34.3</td>\n",
       "      <td>4</td>\n",
       "      <td>False</td>\n",
       "      <td>...</td>\n",
       "      <td>90.0</td>\n",
       "      <td>2</td>\n",
       "      <td>574.0</td>\n",
       "      <td>558</td>\n",
       "      <td>92785.714286</td>\n",
       "      <td>Thursday</td>\n",
       "      <td>08-2015</td>\n",
       "      <td>другой</td>\n",
       "      <td>0.612500</td>\n",
       "      <td>0.148214</td>\n",
       "    </tr>\n",
       "    <tr>\n",
       "      <td>3</td>\n",
       "      <td>0</td>\n",
       "      <td>64900000.0</td>\n",
       "      <td>159.00</td>\n",
       "      <td>2015-07-24</td>\n",
       "      <td>3</td>\n",
       "      <td>2.65</td>\n",
       "      <td>14</td>\n",
       "      <td>NaN</td>\n",
       "      <td>9</td>\n",
       "      <td>False</td>\n",
       "      <td>...</td>\n",
       "      <td>84.0</td>\n",
       "      <td>3</td>\n",
       "      <td>234.0</td>\n",
       "      <td>424</td>\n",
       "      <td>408176.100629</td>\n",
       "      <td>Friday</td>\n",
       "      <td>07-2015</td>\n",
       "      <td>другой</td>\n",
       "      <td>NaN</td>\n",
       "      <td>NaN</td>\n",
       "    </tr>\n",
       "    <tr>\n",
       "      <td>4</td>\n",
       "      <td>2</td>\n",
       "      <td>10000000.0</td>\n",
       "      <td>100.00</td>\n",
       "      <td>2018-06-19</td>\n",
       "      <td>2</td>\n",
       "      <td>3.03</td>\n",
       "      <td>14</td>\n",
       "      <td>32.0</td>\n",
       "      <td>13</td>\n",
       "      <td>False</td>\n",
       "      <td>...</td>\n",
       "      <td>112.0</td>\n",
       "      <td>1</td>\n",
       "      <td>48.0</td>\n",
       "      <td>121</td>\n",
       "      <td>100000.000000</td>\n",
       "      <td>Tuesday</td>\n",
       "      <td>06-2018</td>\n",
       "      <td>другой</td>\n",
       "      <td>0.320000</td>\n",
       "      <td>0.410000</td>\n",
       "    </tr>\n",
       "    <tr>\n",
       "      <td>...</td>\n",
       "      <td>...</td>\n",
       "      <td>...</td>\n",
       "      <td>...</td>\n",
       "      <td>...</td>\n",
       "      <td>...</td>\n",
       "      <td>...</td>\n",
       "      <td>...</td>\n",
       "      <td>...</td>\n",
       "      <td>...</td>\n",
       "      <td>...</td>\n",
       "      <td>...</td>\n",
       "      <td>...</td>\n",
       "      <td>...</td>\n",
       "      <td>...</td>\n",
       "      <td>...</td>\n",
       "      <td>...</td>\n",
       "      <td>...</td>\n",
       "      <td>...</td>\n",
       "      <td>...</td>\n",
       "      <td>...</td>\n",
       "      <td>...</td>\n",
       "    </tr>\n",
       "    <tr>\n",
       "      <td>23694</td>\n",
       "      <td>9</td>\n",
       "      <td>9700000.0</td>\n",
       "      <td>133.81</td>\n",
       "      <td>2017-03-21</td>\n",
       "      <td>3</td>\n",
       "      <td>3.70</td>\n",
       "      <td>5</td>\n",
       "      <td>73.3</td>\n",
       "      <td>3</td>\n",
       "      <td>False</td>\n",
       "      <td>...</td>\n",
       "      <td>796.0</td>\n",
       "      <td>3</td>\n",
       "      <td>381.0</td>\n",
       "      <td>0</td>\n",
       "      <td>72490.845228</td>\n",
       "      <td>Tuesday</td>\n",
       "      <td>03-2017</td>\n",
       "      <td>другой</td>\n",
       "      <td>0.547792</td>\n",
       "      <td>0.103356</td>\n",
       "    </tr>\n",
       "    <tr>\n",
       "      <td>23695</td>\n",
       "      <td>14</td>\n",
       "      <td>3100000.0</td>\n",
       "      <td>59.00</td>\n",
       "      <td>2018-01-15</td>\n",
       "      <td>3</td>\n",
       "      <td>2.65</td>\n",
       "      <td>5</td>\n",
       "      <td>38.0</td>\n",
       "      <td>4</td>\n",
       "      <td>False</td>\n",
       "      <td>...</td>\n",
       "      <td>NaN</td>\n",
       "      <td>0</td>\n",
       "      <td>NaN</td>\n",
       "      <td>45</td>\n",
       "      <td>52542.372881</td>\n",
       "      <td>Monday</td>\n",
       "      <td>01-2018</td>\n",
       "      <td>другой</td>\n",
       "      <td>0.644068</td>\n",
       "      <td>0.144068</td>\n",
       "    </tr>\n",
       "    <tr>\n",
       "      <td>23696</td>\n",
       "      <td>18</td>\n",
       "      <td>2500000.0</td>\n",
       "      <td>56.70</td>\n",
       "      <td>2018-02-11</td>\n",
       "      <td>2</td>\n",
       "      <td>2.65</td>\n",
       "      <td>3</td>\n",
       "      <td>29.7</td>\n",
       "      <td>1</td>\n",
       "      <td>False</td>\n",
       "      <td>...</td>\n",
       "      <td>NaN</td>\n",
       "      <td>0</td>\n",
       "      <td>NaN</td>\n",
       "      <td>0</td>\n",
       "      <td>44091.710758</td>\n",
       "      <td>Sunday</td>\n",
       "      <td>02-2018</td>\n",
       "      <td>первый</td>\n",
       "      <td>0.523810</td>\n",
       "      <td>NaN</td>\n",
       "    </tr>\n",
       "    <tr>\n",
       "      <td>23697</td>\n",
       "      <td>13</td>\n",
       "      <td>11475000.0</td>\n",
       "      <td>76.75</td>\n",
       "      <td>2017-03-28</td>\n",
       "      <td>2</td>\n",
       "      <td>3.00</td>\n",
       "      <td>17</td>\n",
       "      <td>NaN</td>\n",
       "      <td>12</td>\n",
       "      <td>False</td>\n",
       "      <td>...</td>\n",
       "      <td>173.0</td>\n",
       "      <td>3</td>\n",
       "      <td>196.0</td>\n",
       "      <td>602</td>\n",
       "      <td>149511.400651</td>\n",
       "      <td>Tuesday</td>\n",
       "      <td>03-2017</td>\n",
       "      <td>другой</td>\n",
       "      <td>NaN</td>\n",
       "      <td>0.303583</td>\n",
       "    </tr>\n",
       "    <tr>\n",
       "      <td>23698</td>\n",
       "      <td>4</td>\n",
       "      <td>1350000.0</td>\n",
       "      <td>32.30</td>\n",
       "      <td>2017-07-21</td>\n",
       "      <td>1</td>\n",
       "      <td>2.50</td>\n",
       "      <td>5</td>\n",
       "      <td>12.3</td>\n",
       "      <td>1</td>\n",
       "      <td>False</td>\n",
       "      <td>...</td>\n",
       "      <td>NaN</td>\n",
       "      <td>0</td>\n",
       "      <td>NaN</td>\n",
       "      <td>0</td>\n",
       "      <td>41795.665635</td>\n",
       "      <td>Friday</td>\n",
       "      <td>07-2017</td>\n",
       "      <td>первый</td>\n",
       "      <td>0.380805</td>\n",
       "      <td>0.278638</td>\n",
       "    </tr>\n",
       "  </tbody>\n",
       "</table>\n",
       "<p>23371 rows × 28 columns</p>\n",
       "</div>"
      ],
      "text/plain": [
       "       total_images  last_price  total_area first_day_exposition  rooms  \\\n",
       "0                20  13000000.0      108.00           2019-03-07      3   \n",
       "1                 7   3350000.0       40.40           2018-12-04      1   \n",
       "2                10   5196000.0       56.00           2015-08-20      2   \n",
       "3                 0  64900000.0      159.00           2015-07-24      3   \n",
       "4                 2  10000000.0      100.00           2018-06-19      2   \n",
       "...             ...         ...         ...                  ...    ...   \n",
       "23694             9   9700000.0      133.81           2017-03-21      3   \n",
       "23695            14   3100000.0       59.00           2018-01-15      3   \n",
       "23696            18   2500000.0       56.70           2018-02-11      2   \n",
       "23697            13  11475000.0       76.75           2017-03-28      2   \n",
       "23698             4   1350000.0       32.30           2017-07-21      1   \n",
       "\n",
       "       ceiling_height  floors_total  living_area  floor  is_apartment  ...  \\\n",
       "0                2.70            16         51.0      8         False  ...   \n",
       "1                2.65            11         18.6      1         False  ...   \n",
       "2                2.65             5         34.3      4         False  ...   \n",
       "3                2.65            14          NaN      9         False  ...   \n",
       "4                3.03            14         32.0     13         False  ...   \n",
       "...               ...           ...          ...    ...           ...  ...   \n",
       "23694            3.70             5         73.3      3         False  ...   \n",
       "23695            2.65             5         38.0      4         False  ...   \n",
       "23696            2.65             3         29.7      1         False  ...   \n",
       "23697            3.00            17          NaN     12         False  ...   \n",
       "23698            2.50             5         12.3      1         False  ...   \n",
       "\n",
       "       parks_nearest  ponds_around3000  ponds_nearest  days_exposition  \\\n",
       "0              482.0                 2          755.0                0   \n",
       "1                NaN                 0            NaN               81   \n",
       "2               90.0                 2          574.0              558   \n",
       "3               84.0                 3          234.0              424   \n",
       "4              112.0                 1           48.0              121   \n",
       "...              ...               ...            ...              ...   \n",
       "23694          796.0                 3          381.0                0   \n",
       "23695            NaN                 0            NaN               45   \n",
       "23696            NaN                 0            NaN                0   \n",
       "23697          173.0                 3          196.0              602   \n",
       "23698            NaN                 0            NaN                0   \n",
       "\n",
       "        square_meter  day_name  month_year  apartment_floor  \\\n",
       "0      120370.370370  Thursday     03-2019           другой   \n",
       "1       82920.792079   Tuesday     12-2018           первый   \n",
       "2       92785.714286  Thursday     08-2015           другой   \n",
       "3      408176.100629    Friday     07-2015           другой   \n",
       "4      100000.000000   Tuesday     06-2018           другой   \n",
       "...              ...       ...         ...              ...   \n",
       "23694   72490.845228   Tuesday     03-2017           другой   \n",
       "23695   52542.372881    Monday     01-2018           другой   \n",
       "23696   44091.710758    Sunday     02-2018           первый   \n",
       "23697  149511.400651   Tuesday     03-2017           другой   \n",
       "23698   41795.665635    Friday     07-2017           первый   \n",
       "\n",
       "       living_total_area  kitchen_total_are  \n",
       "0               0.472222           0.231481  \n",
       "1               0.460396           0.272277  \n",
       "2               0.612500           0.148214  \n",
       "3                    NaN                NaN  \n",
       "4               0.320000           0.410000  \n",
       "...                  ...                ...  \n",
       "23694           0.547792           0.103356  \n",
       "23695           0.644068           0.144068  \n",
       "23696           0.523810                NaN  \n",
       "23697                NaN           0.303583  \n",
       "23698           0.380805           0.278638  \n",
       "\n",
       "[23371 rows x 28 columns]"
      ]
     },
     "metadata": {},
     "output_type": "display_data"
    }
   ],
   "source": [
    "# Рассчёт и добавление цены квадратного метра\n",
    "df['square_meter'] = df['last_price'] / df['total_area']\n",
    "\n",
    "# Добавляю столбцы день недели/месяц и год публикации\n",
    "df['day_name'] = (df['first_day_exposition'].dt.day_name())\n",
    "df['month_year'] = df['first_day_exposition'].apply(lambda x: x.strftime('%m-%Y'))\n",
    "\n",
    "# Добавляю столбец с этажем квартиры.\n",
    "def apartment_floor (row):      \n",
    "        try:\n",
    "            if row['floor'] == 1:\n",
    "                return 'первый'\n",
    "            if row['floor'] == row['floors_total']:\n",
    "                return 'последний'\n",
    "            else:\n",
    "                return 'другой'\n",
    "        except:\n",
    "            return 'не могу определить'\n",
    "\n",
    "df['apartment_floor'] = df.apply(apartment_floor, axis=1)\n",
    "\n",
    "# Добавляю столбец отношения жилой и общей площади\n",
    "df['living_total_area'] = df['living_area'] / df['total_area']\n",
    "\n",
    "# Добавляю столбец отношения площади кухни к общей\n",
    "df['kitchen_total_are'] = df['kitchen_area'] / df['total_area']\n",
    "display(df)"
   ]
  },
  {
   "cell_type": "markdown",
   "metadata": {},
   "source": [
    "## Исследовательский анализ данных"
   ]
  },
  {
   "cell_type": "code",
   "execution_count": 7,
   "metadata": {},
   "outputs": [
    {
     "data": {
      "text/html": [
       "<div>\n",
       "<style scoped>\n",
       "    .dataframe tbody tr th:only-of-type {\n",
       "        vertical-align: middle;\n",
       "    }\n",
       "\n",
       "    .dataframe tbody tr th {\n",
       "        vertical-align: top;\n",
       "    }\n",
       "\n",
       "    .dataframe thead th {\n",
       "        text-align: right;\n",
       "    }\n",
       "</style>\n",
       "<table border=\"1\" class=\"dataframe\">\n",
       "  <thead>\n",
       "    <tr style=\"text-align: right;\">\n",
       "      <th></th>\n",
       "      <th>total_area</th>\n",
       "      <th>last_price</th>\n",
       "      <th>rooms</th>\n",
       "      <th>ceiling_height</th>\n",
       "    </tr>\n",
       "  </thead>\n",
       "  <tbody>\n",
       "    <tr>\n",
       "      <td>0</td>\n",
       "      <td>108.00</td>\n",
       "      <td>13000000.0</td>\n",
       "      <td>3</td>\n",
       "      <td>2.70</td>\n",
       "    </tr>\n",
       "    <tr>\n",
       "      <td>1</td>\n",
       "      <td>40.40</td>\n",
       "      <td>3350000.0</td>\n",
       "      <td>1</td>\n",
       "      <td>2.65</td>\n",
       "    </tr>\n",
       "    <tr>\n",
       "      <td>2</td>\n",
       "      <td>56.00</td>\n",
       "      <td>5196000.0</td>\n",
       "      <td>2</td>\n",
       "      <td>2.65</td>\n",
       "    </tr>\n",
       "    <tr>\n",
       "      <td>3</td>\n",
       "      <td>159.00</td>\n",
       "      <td>64900000.0</td>\n",
       "      <td>3</td>\n",
       "      <td>2.65</td>\n",
       "    </tr>\n",
       "    <tr>\n",
       "      <td>4</td>\n",
       "      <td>100.00</td>\n",
       "      <td>10000000.0</td>\n",
       "      <td>2</td>\n",
       "      <td>3.03</td>\n",
       "    </tr>\n",
       "    <tr>\n",
       "      <td>...</td>\n",
       "      <td>...</td>\n",
       "      <td>...</td>\n",
       "      <td>...</td>\n",
       "      <td>...</td>\n",
       "    </tr>\n",
       "    <tr>\n",
       "      <td>23694</td>\n",
       "      <td>133.81</td>\n",
       "      <td>9700000.0</td>\n",
       "      <td>3</td>\n",
       "      <td>3.70</td>\n",
       "    </tr>\n",
       "    <tr>\n",
       "      <td>23695</td>\n",
       "      <td>59.00</td>\n",
       "      <td>3100000.0</td>\n",
       "      <td>3</td>\n",
       "      <td>2.65</td>\n",
       "    </tr>\n",
       "    <tr>\n",
       "      <td>23696</td>\n",
       "      <td>56.70</td>\n",
       "      <td>2500000.0</td>\n",
       "      <td>2</td>\n",
       "      <td>2.65</td>\n",
       "    </tr>\n",
       "    <tr>\n",
       "      <td>23697</td>\n",
       "      <td>76.75</td>\n",
       "      <td>11475000.0</td>\n",
       "      <td>2</td>\n",
       "      <td>3.00</td>\n",
       "    </tr>\n",
       "    <tr>\n",
       "      <td>23698</td>\n",
       "      <td>32.30</td>\n",
       "      <td>1350000.0</td>\n",
       "      <td>1</td>\n",
       "      <td>2.50</td>\n",
       "    </tr>\n",
       "  </tbody>\n",
       "</table>\n",
       "<p>23371 rows × 4 columns</p>\n",
       "</div>"
      ],
      "text/plain": [
       "       total_area  last_price  rooms  ceiling_height\n",
       "0          108.00  13000000.0      3            2.70\n",
       "1           40.40   3350000.0      1            2.65\n",
       "2           56.00   5196000.0      2            2.65\n",
       "3          159.00  64900000.0      3            2.65\n",
       "4          100.00  10000000.0      2            3.03\n",
       "...           ...         ...    ...             ...\n",
       "23694      133.81   9700000.0      3            3.70\n",
       "23695       59.00   3100000.0      3            2.65\n",
       "23696       56.70   2500000.0      2            2.65\n",
       "23697       76.75  11475000.0      2            3.00\n",
       "23698       32.30   1350000.0      1            2.50\n",
       "\n",
       "[23371 rows x 4 columns]"
      ]
     },
     "metadata": {},
     "output_type": "display_data"
    }
   ],
   "source": [
    "display(df[['total_area', 'last_price', 'rooms', 'ceiling_height']])"
   ]
  },
  {
   "cell_type": "code",
   "execution_count": 8,
   "metadata": {},
   "outputs": [
    {
     "data": {
      "text/plain": [
       "<matplotlib.axes._subplots.AxesSubplot at 0x7f8766b9ff90>"
      ]
     },
     "execution_count": 8,
     "metadata": {},
     "output_type": "execute_result"
    },
    {
     "data": {
      "image/png": "[encoded data removed]",
      "text/plain": [
       "<Figure size 432x288 with 1 Axes>"
      ]
     },
     "metadata": {
      "needs_background": "light"
     },
     "output_type": "display_data"
    }
   ],
   "source": [
    "# Гистограмма для total_area\n",
    "df['total_area'].hist(bins=100, range=(0, 400))"
   ]
  },
  {
   "cell_type": "code",
   "execution_count": 9,
   "metadata": {},
   "outputs": [
    {
     "data": {
      "text/plain": [
       "<matplotlib.axes._subplots.AxesSubplot at 0x7f8766b8f090>"
      ]
     },
     "execution_count": 9,
     "metadata": {},
     "output_type": "execute_result"
    },
    {
     "data": {
      "image/png": "[encoded data removed]",
      "text/plain": [
       "<Figure size 432x288 with 1 Axes>"
      ]
     },
     "metadata": {
      "needs_background": "light"
     },
     "output_type": "display_data"
    }
   ],
   "source": [
    "# Гистограмма для last_price\n",
    "df['last_price'].hist(bins=50, range=(0, 19000000))"
   ]
  },
  {
   "cell_type": "code",
   "execution_count": 10,
   "metadata": {},
   "outputs": [
    {
     "data": {
      "text/plain": [
       "<matplotlib.axes._subplots.AxesSubplot at 0x7f87669ced10>"
      ]
     },
     "execution_count": 10,
     "metadata": {},
     "output_type": "execute_result"
    },
    {
     "data": {
      "image/png": "[encoded data removed]",
      "text/plain": [
       "<Figure size 432x288 with 1 Axes>"
      ]
     },
     "metadata": {
      "needs_background": "light"
     },
     "output_type": "display_data"
    }
   ],
   "source": [
    "# Гистограмма для rooms\n",
    "df['rooms'].hist(bins=10, range=(0, 10))"
   ]
  },
  {
   "cell_type": "code",
   "execution_count": 11,
   "metadata": {},
   "outputs": [
    {
     "data": {
      "text/plain": [
       "<matplotlib.axes._subplots.AxesSubplot at 0x7f8766137e50>"
      ]
     },
     "execution_count": 11,
     "metadata": {},
     "output_type": "execute_result"
    },
    {
     "data": {
      "image/png": "[encoded data removed]",
      "text/plain": [
       "<Figure size 432x288 with 1 Axes>"
      ]
     },
     "metadata": {
      "needs_background": "light"
     },
     "output_type": "display_data"
    }
   ],
   "source": [
    "# Гистограмма для ceiling_height\n",
    "df['ceiling_height'].hist(bins=10, range=(1, 5))"
   ]
  },
  {
   "cell_type": "code",
   "execution_count": 12,
   "metadata": {},
   "outputs": [
    {
     "data": {
      "text/plain": [
       "<matplotlib.axes._subplots.AxesSubplot at 0x7f876769ec90>"
      ]
     },
     "execution_count": 12,
     "metadata": {},
     "output_type": "execute_result"
    },
    {
     "data": {
      "image/png": "[encoded data removed]",
      "text/plain": [
       "<Figure size 432x288 with 1 Axes>"
      ]
     },
     "metadata": {
      "needs_background": "light"
     },
     "output_type": "display_data"
    }
   ],
   "source": [
    "# время продажи квартиры\n",
    "df['days_exposition'].hist(bins=100, range=(0, 1400))"
   ]
  },
  {
   "cell_type": "code",
   "execution_count": 13,
   "metadata": {},
   "outputs": [],
   "source": [
    "# Среднее количество времени по продаже квартиры.\n",
    "avg_days_exposition = df['days_exposition'].mean()\n",
    "\n",
    "# Медиана времени по продаже квартиры.\n",
    "median_days_exposition = df['days_exposition'].median()"
   ]
  },
  {
   "cell_type": "code",
   "execution_count": 14,
   "metadata": {},
   "outputs": [
    {
     "name": "stdout",
     "output_type": "stream",
     "text": [
      "count    23371.000000\n",
      "mean       156.868855\n",
      "std        213.871607\n",
      "min          0.000000\n",
      "25%         22.000000\n",
      "50%         74.000000\n",
      "75%        199.000000\n",
      "max       1580.000000\n",
      "Name: days_exposition, dtype: float64\n"
     ]
    }
   ],
   "source": [
    "print(df['days_exposition'].describe())"
   ]
  },
  {
   "cell_type": "markdown",
   "metadata": {},
   "source": [
    "### Вывод\n",
    "<div class=\"alert alert-info\">\n",
    "<b>Комментарий:</b><br>\n",
    "Будем считать, что продажи длились слишком быстро, при продаже квартиры раньше 25 дней включительно.<br>\n",
    "Будем считать, что продажи длились необычно додго, при продаже квартиры дольше 850 дней включительно.<br>\n",
    "Значения за пределами этого диапазона редки.\n",
    "</div>"
   ]
  },
  {
   "cell_type": "code",
   "execution_count": 15,
   "metadata": {},
   "outputs": [],
   "source": [
    "# Создам переменную query_df и сохраню в неё значения где кв продалась в промежутке от 25 до 850 дней.\n",
    "query_df = df.query('days_exposition >= 25 and days_exposition <= 850')\n"
   ]
  },
  {
   "cell_type": "code",
   "execution_count": 16,
   "metadata": {
    "scrolled": true
   },
   "outputs": [
    {
     "data": {
      "text/plain": [
       "<matplotlib.axes._subplots.AxesSubplot at 0x7f8765e98090>"
      ]
     },
     "execution_count": 16,
     "metadata": {},
     "output_type": "execute_result"
    },
    {
     "data": {
      "image/png": "[encoded data removed]",
      "text/plain": [
       "<Figure size 432x288 with 1 Axes>"
      ]
     },
     "metadata": {
      "needs_background": "light"
     },
     "output_type": "display_data"
    }
   ],
   "source": [
    "query_df['days_exposition'].hist(bins=50, range=(20, 900))"
   ]
  },
  {
   "cell_type": "markdown",
   "metadata": {},
   "source": [
    "<div class=\"alert alert-info\">\n",
    "<b>Комментарий:</b><br>\n",
    "На значениях days_exposition равных 45, 60, 90 наблюдаются большие скачки.<br>\n",
    "Решаю убрать их, чтобы не искажали данные.\n",
    "</div>"
   ]
  },
  {
   "cell_type": "code",
   "execution_count": 17,
   "metadata": {},
   "outputs": [],
   "source": [
    "query_df = query_df.query('days_exposition != 45 and days_exposition != 60 and days_exposition != 90')"
   ]
  },
  {
   "cell_type": "code",
   "execution_count": 18,
   "metadata": {},
   "outputs": [
    {
     "data": {
      "text/plain": [
       "<matplotlib.axes._subplots.AxesSubplot at 0x7f8765de6550>"
      ]
     },
     "execution_count": 18,
     "metadata": {},
     "output_type": "execute_result"
    },
    {
     "data": {
      "image/png": "[encoded data removed]",
      "text/plain": [
       "<Figure size 432x288 with 1 Axes>"
      ]
     },
     "metadata": {
      "needs_background": "light"
     },
     "output_type": "display_data"
    }
   ],
   "source": [
    "# Очищенные от пиков данные.\n",
    "query_df['days_exposition'].hist(bins=50, range=(20, 900))"
   ]
  },
  {
   "cell_type": "code",
   "execution_count": 19,
   "metadata": {},
   "outputs": [
    {
     "name": "stdout",
     "output_type": "stream",
     "text": [
      "count    15182.000000\n",
      "mean       198.497563\n",
      "std        176.177980\n",
      "min         25.000000\n",
      "25%         68.000000\n",
      "50%        135.000000\n",
      "75%        274.000000\n",
      "max        850.000000\n",
      "Name: days_exposition, dtype: float64\n"
     ]
    },
    {
     "data": {
      "text/html": [
       "<div>\n",
       "<style scoped>\n",
       "    .dataframe tbody tr th:only-of-type {\n",
       "        vertical-align: middle;\n",
       "    }\n",
       "\n",
       "    .dataframe tbody tr th {\n",
       "        vertical-align: top;\n",
       "    }\n",
       "\n",
       "    .dataframe thead th {\n",
       "        text-align: right;\n",
       "    }\n",
       "</style>\n",
       "<table border=\"1\" class=\"dataframe\">\n",
       "  <thead>\n",
       "    <tr style=\"text-align: right;\">\n",
       "      <th></th>\n",
       "      <th>total_images</th>\n",
       "      <th>last_price</th>\n",
       "      <th>total_area</th>\n",
       "      <th>first_day_exposition</th>\n",
       "      <th>rooms</th>\n",
       "      <th>ceiling_height</th>\n",
       "      <th>floors_total</th>\n",
       "      <th>living_area</th>\n",
       "      <th>floor</th>\n",
       "      <th>is_apartment</th>\n",
       "      <th>...</th>\n",
       "      <th>parks_nearest</th>\n",
       "      <th>ponds_around3000</th>\n",
       "      <th>ponds_nearest</th>\n",
       "      <th>days_exposition</th>\n",
       "      <th>square_meter</th>\n",
       "      <th>day_name</th>\n",
       "      <th>month_year</th>\n",
       "      <th>apartment_floor</th>\n",
       "      <th>living_total_area</th>\n",
       "      <th>kitchen_total_are</th>\n",
       "    </tr>\n",
       "  </thead>\n",
       "  <tbody>\n",
       "    <tr>\n",
       "      <td>1</td>\n",
       "      <td>7</td>\n",
       "      <td>3350000.0</td>\n",
       "      <td>40.40</td>\n",
       "      <td>2018-12-04</td>\n",
       "      <td>1</td>\n",
       "      <td>2.65</td>\n",
       "      <td>11</td>\n",
       "      <td>18.6</td>\n",
       "      <td>1</td>\n",
       "      <td>False</td>\n",
       "      <td>...</td>\n",
       "      <td>NaN</td>\n",
       "      <td>0</td>\n",
       "      <td>NaN</td>\n",
       "      <td>81</td>\n",
       "      <td>82920.792079</td>\n",
       "      <td>Tuesday</td>\n",
       "      <td>12-2018</td>\n",
       "      <td>первый</td>\n",
       "      <td>0.460396</td>\n",
       "      <td>0.272277</td>\n",
       "    </tr>\n",
       "    <tr>\n",
       "      <td>2</td>\n",
       "      <td>10</td>\n",
       "      <td>5196000.0</td>\n",
       "      <td>56.00</td>\n",
       "      <td>2015-08-20</td>\n",
       "      <td>2</td>\n",
       "      <td>2.65</td>\n",
       "      <td>5</td>\n",
       "      <td>34.3</td>\n",
       "      <td>4</td>\n",
       "      <td>False</td>\n",
       "      <td>...</td>\n",
       "      <td>90.0</td>\n",
       "      <td>2</td>\n",
       "      <td>574.0</td>\n",
       "      <td>558</td>\n",
       "      <td>92785.714286</td>\n",
       "      <td>Thursday</td>\n",
       "      <td>08-2015</td>\n",
       "      <td>другой</td>\n",
       "      <td>0.612500</td>\n",
       "      <td>0.148214</td>\n",
       "    </tr>\n",
       "    <tr>\n",
       "      <td>3</td>\n",
       "      <td>0</td>\n",
       "      <td>64900000.0</td>\n",
       "      <td>159.00</td>\n",
       "      <td>2015-07-24</td>\n",
       "      <td>3</td>\n",
       "      <td>2.65</td>\n",
       "      <td>14</td>\n",
       "      <td>NaN</td>\n",
       "      <td>9</td>\n",
       "      <td>False</td>\n",
       "      <td>...</td>\n",
       "      <td>84.0</td>\n",
       "      <td>3</td>\n",
       "      <td>234.0</td>\n",
       "      <td>424</td>\n",
       "      <td>408176.100629</td>\n",
       "      <td>Friday</td>\n",
       "      <td>07-2015</td>\n",
       "      <td>другой</td>\n",
       "      <td>NaN</td>\n",
       "      <td>NaN</td>\n",
       "    </tr>\n",
       "    <tr>\n",
       "      <td>4</td>\n",
       "      <td>2</td>\n",
       "      <td>10000000.0</td>\n",
       "      <td>100.00</td>\n",
       "      <td>2018-06-19</td>\n",
       "      <td>2</td>\n",
       "      <td>3.03</td>\n",
       "      <td>14</td>\n",
       "      <td>32.0</td>\n",
       "      <td>13</td>\n",
       "      <td>False</td>\n",
       "      <td>...</td>\n",
       "      <td>112.0</td>\n",
       "      <td>1</td>\n",
       "      <td>48.0</td>\n",
       "      <td>121</td>\n",
       "      <td>100000.000000</td>\n",
       "      <td>Tuesday</td>\n",
       "      <td>06-2018</td>\n",
       "      <td>другой</td>\n",
       "      <td>0.320000</td>\n",
       "      <td>0.410000</td>\n",
       "    </tr>\n",
       "    <tr>\n",
       "      <td>5</td>\n",
       "      <td>10</td>\n",
       "      <td>2890000.0</td>\n",
       "      <td>30.40</td>\n",
       "      <td>2018-09-10</td>\n",
       "      <td>1</td>\n",
       "      <td>2.65</td>\n",
       "      <td>12</td>\n",
       "      <td>14.4</td>\n",
       "      <td>5</td>\n",
       "      <td>False</td>\n",
       "      <td>...</td>\n",
       "      <td>NaN</td>\n",
       "      <td>0</td>\n",
       "      <td>NaN</td>\n",
       "      <td>55</td>\n",
       "      <td>95065.789474</td>\n",
       "      <td>Monday</td>\n",
       "      <td>09-2018</td>\n",
       "      <td>другой</td>\n",
       "      <td>0.473684</td>\n",
       "      <td>0.299342</td>\n",
       "    </tr>\n",
       "    <tr>\n",
       "      <td>...</td>\n",
       "      <td>...</td>\n",
       "      <td>...</td>\n",
       "      <td>...</td>\n",
       "      <td>...</td>\n",
       "      <td>...</td>\n",
       "      <td>...</td>\n",
       "      <td>...</td>\n",
       "      <td>...</td>\n",
       "      <td>...</td>\n",
       "      <td>...</td>\n",
       "      <td>...</td>\n",
       "      <td>...</td>\n",
       "      <td>...</td>\n",
       "      <td>...</td>\n",
       "      <td>...</td>\n",
       "      <td>...</td>\n",
       "      <td>...</td>\n",
       "      <td>...</td>\n",
       "      <td>...</td>\n",
       "      <td>...</td>\n",
       "      <td>...</td>\n",
       "    </tr>\n",
       "    <tr>\n",
       "      <td>23689</td>\n",
       "      <td>13</td>\n",
       "      <td>3550000.0</td>\n",
       "      <td>35.30</td>\n",
       "      <td>2018-02-28</td>\n",
       "      <td>1</td>\n",
       "      <td>2.86</td>\n",
       "      <td>15</td>\n",
       "      <td>16.3</td>\n",
       "      <td>4</td>\n",
       "      <td>False</td>\n",
       "      <td>...</td>\n",
       "      <td>353.0</td>\n",
       "      <td>2</td>\n",
       "      <td>652.0</td>\n",
       "      <td>29</td>\n",
       "      <td>100566.572238</td>\n",
       "      <td>Wednesday</td>\n",
       "      <td>02-2018</td>\n",
       "      <td>другой</td>\n",
       "      <td>0.461756</td>\n",
       "      <td>0.257790</td>\n",
       "    </tr>\n",
       "    <tr>\n",
       "      <td>23691</td>\n",
       "      <td>11</td>\n",
       "      <td>9470000.0</td>\n",
       "      <td>72.90</td>\n",
       "      <td>2016-10-13</td>\n",
       "      <td>2</td>\n",
       "      <td>2.75</td>\n",
       "      <td>25</td>\n",
       "      <td>40.3</td>\n",
       "      <td>7</td>\n",
       "      <td>False</td>\n",
       "      <td>...</td>\n",
       "      <td>NaN</td>\n",
       "      <td>1</td>\n",
       "      <td>806.0</td>\n",
       "      <td>519</td>\n",
       "      <td>129903.978052</td>\n",
       "      <td>Thursday</td>\n",
       "      <td>10-2016</td>\n",
       "      <td>другой</td>\n",
       "      <td>0.552812</td>\n",
       "      <td>0.145405</td>\n",
       "    </tr>\n",
       "    <tr>\n",
       "      <td>23692</td>\n",
       "      <td>2</td>\n",
       "      <td>1350000.0</td>\n",
       "      <td>30.00</td>\n",
       "      <td>2017-07-07</td>\n",
       "      <td>1</td>\n",
       "      <td>2.65</td>\n",
       "      <td>5</td>\n",
       "      <td>17.5</td>\n",
       "      <td>4</td>\n",
       "      <td>False</td>\n",
       "      <td>...</td>\n",
       "      <td>NaN</td>\n",
       "      <td>0</td>\n",
       "      <td>NaN</td>\n",
       "      <td>413</td>\n",
       "      <td>45000.000000</td>\n",
       "      <td>Friday</td>\n",
       "      <td>07-2017</td>\n",
       "      <td>другой</td>\n",
       "      <td>0.583333</td>\n",
       "      <td>0.200000</td>\n",
       "    </tr>\n",
       "    <tr>\n",
       "      <td>23693</td>\n",
       "      <td>9</td>\n",
       "      <td>4600000.0</td>\n",
       "      <td>62.40</td>\n",
       "      <td>2016-08-05</td>\n",
       "      <td>3</td>\n",
       "      <td>2.60</td>\n",
       "      <td>9</td>\n",
       "      <td>40.0</td>\n",
       "      <td>8</td>\n",
       "      <td>False</td>\n",
       "      <td>...</td>\n",
       "      <td>352.0</td>\n",
       "      <td>1</td>\n",
       "      <td>675.0</td>\n",
       "      <td>239</td>\n",
       "      <td>73717.948718</td>\n",
       "      <td>Friday</td>\n",
       "      <td>08-2016</td>\n",
       "      <td>другой</td>\n",
       "      <td>0.641026</td>\n",
       "      <td>0.128205</td>\n",
       "    </tr>\n",
       "    <tr>\n",
       "      <td>23697</td>\n",
       "      <td>13</td>\n",
       "      <td>11475000.0</td>\n",
       "      <td>76.75</td>\n",
       "      <td>2017-03-28</td>\n",
       "      <td>2</td>\n",
       "      <td>3.00</td>\n",
       "      <td>17</td>\n",
       "      <td>NaN</td>\n",
       "      <td>12</td>\n",
       "      <td>False</td>\n",
       "      <td>...</td>\n",
       "      <td>173.0</td>\n",
       "      <td>3</td>\n",
       "      <td>196.0</td>\n",
       "      <td>602</td>\n",
       "      <td>149511.400651</td>\n",
       "      <td>Tuesday</td>\n",
       "      <td>03-2017</td>\n",
       "      <td>другой</td>\n",
       "      <td>NaN</td>\n",
       "      <td>0.303583</td>\n",
       "    </tr>\n",
       "  </tbody>\n",
       "</table>\n",
       "<p>15182 rows × 28 columns</p>\n",
       "</div>"
      ],
      "text/plain": [
       "       total_images  last_price  total_area first_day_exposition  rooms  \\\n",
       "1                 7   3350000.0       40.40           2018-12-04      1   \n",
       "2                10   5196000.0       56.00           2015-08-20      2   \n",
       "3                 0  64900000.0      159.00           2015-07-24      3   \n",
       "4                 2  10000000.0      100.00           2018-06-19      2   \n",
       "5                10   2890000.0       30.40           2018-09-10      1   \n",
       "...             ...         ...         ...                  ...    ...   \n",
       "23689            13   3550000.0       35.30           2018-02-28      1   \n",
       "23691            11   9470000.0       72.90           2016-10-13      2   \n",
       "23692             2   1350000.0       30.00           2017-07-07      1   \n",
       "23693             9   4600000.0       62.40           2016-08-05      3   \n",
       "23697            13  11475000.0       76.75           2017-03-28      2   \n",
       "\n",
       "       ceiling_height  floors_total  living_area  floor  is_apartment  ...  \\\n",
       "1                2.65            11         18.6      1         False  ...   \n",
       "2                2.65             5         34.3      4         False  ...   \n",
       "3                2.65            14          NaN      9         False  ...   \n",
       "4                3.03            14         32.0     13         False  ...   \n",
       "5                2.65            12         14.4      5         False  ...   \n",
       "...               ...           ...          ...    ...           ...  ...   \n",
       "23689            2.86            15         16.3      4         False  ...   \n",
       "23691            2.75            25         40.3      7         False  ...   \n",
       "23692            2.65             5         17.5      4         False  ...   \n",
       "23693            2.60             9         40.0      8         False  ...   \n",
       "23697            3.00            17          NaN     12         False  ...   \n",
       "\n",
       "       parks_nearest  ponds_around3000  ponds_nearest  days_exposition  \\\n",
       "1                NaN                 0            NaN               81   \n",
       "2               90.0                 2          574.0              558   \n",
       "3               84.0                 3          234.0              424   \n",
       "4              112.0                 1           48.0              121   \n",
       "5                NaN                 0            NaN               55   \n",
       "...              ...               ...            ...              ...   \n",
       "23689          353.0                 2          652.0               29   \n",
       "23691            NaN                 1          806.0              519   \n",
       "23692            NaN                 0            NaN              413   \n",
       "23693          352.0                 1          675.0              239   \n",
       "23697          173.0                 3          196.0              602   \n",
       "\n",
       "        square_meter   day_name  month_year  apartment_floor  \\\n",
       "1       82920.792079    Tuesday     12-2018           первый   \n",
       "2       92785.714286   Thursday     08-2015           другой   \n",
       "3      408176.100629     Friday     07-2015           другой   \n",
       "4      100000.000000    Tuesday     06-2018           другой   \n",
       "5       95065.789474     Monday     09-2018           другой   \n",
       "...              ...        ...         ...              ...   \n",
       "23689  100566.572238  Wednesday     02-2018           другой   \n",
       "23691  129903.978052   Thursday     10-2016           другой   \n",
       "23692   45000.000000     Friday     07-2017           другой   \n",
       "23693   73717.948718     Friday     08-2016           другой   \n",
       "23697  149511.400651    Tuesday     03-2017           другой   \n",
       "\n",
       "       living_total_area  kitchen_total_are  \n",
       "1               0.460396           0.272277  \n",
       "2               0.612500           0.148214  \n",
       "3                    NaN                NaN  \n",
       "4               0.320000           0.410000  \n",
       "5               0.473684           0.299342  \n",
       "...                  ...                ...  \n",
       "23689           0.461756           0.257790  \n",
       "23691           0.552812           0.145405  \n",
       "23692           0.583333           0.200000  \n",
       "23693           0.641026           0.128205  \n",
       "23697                NaN           0.303583  \n",
       "\n",
       "[15182 rows x 28 columns]"
      ]
     },
     "metadata": {},
     "output_type": "display_data"
    }
   ],
   "source": [
    "print(query_df['days_exposition'].describe())\n",
    "display(query_df)"
   ]
  },
  {
   "cell_type": "markdown",
   "metadata": {},
   "source": [
    "### Вывод\n",
    "<div class=\"alert alert-info\">\n",
    "<b>Комментарий:</b><br>\n",
    "Большое количество продаж происходят до 200 дней.\n",
    "</div>"
   ]
  },
  {
   "cell_type": "code",
   "execution_count": 20,
   "metadata": {},
   "outputs": [
    {
     "data": {
      "text/html": [
       "<div>\n",
       "<style scoped>\n",
       "    .dataframe tbody tr th:only-of-type {\n",
       "        vertical-align: middle;\n",
       "    }\n",
       "\n",
       "    .dataframe tbody tr th {\n",
       "        vertical-align: top;\n",
       "    }\n",
       "\n",
       "    .dataframe thead th {\n",
       "        text-align: right;\n",
       "    }\n",
       "</style>\n",
       "<table border=\"1\" class=\"dataframe\">\n",
       "  <thead>\n",
       "    <tr style=\"text-align: right;\">\n",
       "      <th></th>\n",
       "      <th>total_area</th>\n",
       "      <th>rooms</th>\n",
       "      <th>cityCenters_nearest</th>\n",
       "      <th>last_price</th>\n",
       "    </tr>\n",
       "  </thead>\n",
       "  <tbody>\n",
       "    <tr>\n",
       "      <td>1</td>\n",
       "      <td>40.40</td>\n",
       "      <td>1</td>\n",
       "      <td>18603.0</td>\n",
       "      <td>3350000.0</td>\n",
       "    </tr>\n",
       "    <tr>\n",
       "      <td>2</td>\n",
       "      <td>56.00</td>\n",
       "      <td>2</td>\n",
       "      <td>13933.0</td>\n",
       "      <td>5196000.0</td>\n",
       "    </tr>\n",
       "    <tr>\n",
       "      <td>3</td>\n",
       "      <td>159.00</td>\n",
       "      <td>3</td>\n",
       "      <td>6800.0</td>\n",
       "      <td>64900000.0</td>\n",
       "    </tr>\n",
       "    <tr>\n",
       "      <td>4</td>\n",
       "      <td>100.00</td>\n",
       "      <td>2</td>\n",
       "      <td>8098.0</td>\n",
       "      <td>10000000.0</td>\n",
       "    </tr>\n",
       "    <tr>\n",
       "      <td>5</td>\n",
       "      <td>30.40</td>\n",
       "      <td>1</td>\n",
       "      <td>NaN</td>\n",
       "      <td>2890000.0</td>\n",
       "    </tr>\n",
       "    <tr>\n",
       "      <td>...</td>\n",
       "      <td>...</td>\n",
       "      <td>...</td>\n",
       "      <td>...</td>\n",
       "      <td>...</td>\n",
       "    </tr>\n",
       "    <tr>\n",
       "      <td>23689</td>\n",
       "      <td>35.30</td>\n",
       "      <td>1</td>\n",
       "      <td>16081.0</td>\n",
       "      <td>3550000.0</td>\n",
       "    </tr>\n",
       "    <tr>\n",
       "      <td>23691</td>\n",
       "      <td>72.90</td>\n",
       "      <td>2</td>\n",
       "      <td>4489.0</td>\n",
       "      <td>9470000.0</td>\n",
       "    </tr>\n",
       "    <tr>\n",
       "      <td>23692</td>\n",
       "      <td>30.00</td>\n",
       "      <td>1</td>\n",
       "      <td>NaN</td>\n",
       "      <td>1350000.0</td>\n",
       "    </tr>\n",
       "    <tr>\n",
       "      <td>23693</td>\n",
       "      <td>62.40</td>\n",
       "      <td>3</td>\n",
       "      <td>34104.0</td>\n",
       "      <td>4600000.0</td>\n",
       "    </tr>\n",
       "    <tr>\n",
       "      <td>23697</td>\n",
       "      <td>76.75</td>\n",
       "      <td>2</td>\n",
       "      <td>10364.0</td>\n",
       "      <td>11475000.0</td>\n",
       "    </tr>\n",
       "  </tbody>\n",
       "</table>\n",
       "<p>15182 rows × 4 columns</p>\n",
       "</div>"
      ],
      "text/plain": [
       "       total_area  rooms  cityCenters_nearest  last_price\n",
       "1           40.40      1              18603.0   3350000.0\n",
       "2           56.00      2              13933.0   5196000.0\n",
       "3          159.00      3               6800.0  64900000.0\n",
       "4          100.00      2               8098.0  10000000.0\n",
       "5           30.40      1                  NaN   2890000.0\n",
       "...           ...    ...                  ...         ...\n",
       "23689       35.30      1              16081.0   3550000.0\n",
       "23691       72.90      2               4489.0   9470000.0\n",
       "23692       30.00      1                  NaN   1350000.0\n",
       "23693       62.40      3              34104.0   4600000.0\n",
       "23697       76.75      2              10364.0  11475000.0\n",
       "\n",
       "[15182 rows x 4 columns]"
      ]
     },
     "metadata": {},
     "output_type": "display_data"
    },
    {
     "name": "stdout",
     "output_type": "stream",
     "text": [
      "                     total_area     rooms  cityCenters_nearest  last_price\n",
      "total_area             1.000000  0.767172            -0.236324    0.642310\n",
      "rooms                  0.767172  1.000000            -0.196466    0.352108\n",
      "cityCenters_nearest   -0.236324 -0.196466             1.000000   -0.186252\n",
      "last_price             0.642310  0.352108            -0.186252    1.000000\n"
     ]
    },
    {
     "data": {
      "image/png": "[encoded data removed]",
      "text/plain": [
       "<Figure size 648x648 with 16 Axes>"
      ]
     },
     "metadata": {
      "needs_background": "light"
     },
     "output_type": "display_data"
    }
   ],
   "source": [
    "# Зависит ли цена от площади, числа комнат, удалённости от центра.\n",
    "query_df_multi = query_df[['total_area', 'rooms', 'cityCenters_nearest', 'last_price']]\n",
    "display(query_df_multi)\n",
    "print(query_df_multi.corr())\n",
    "pd.plotting.scatter_matrix(query_df_multi, figsize=(9, 9), grid=True)\n",
    "plt.show()"
   ]
  },
  {
   "cell_type": "markdown",
   "metadata": {},
   "source": [
    "### Вывод\n",
    "<div class=\"alert alert-info\">\n",
    "<b>Комментарий:</b><br>\n",
    "Из очевидного:<br>\n",
    "На диагарммах видно, что квартиры с большей площадью имеют больше комнат и находятся дальше от центра и цена их выше.<br>\n",
    "Квартиры с маньшей площадью, в основном до 250, находятся ближе к центру и имеют меньше комнат и меньше стоимость.<br><br>\n",
    "Если исследовать зависимость цены от площади, количества комнат и расстояния до центра более детально, то в глаза бросаются следующие факты:<br>\n",
    "Цена увеличивается с увеличением площади квартиры и количества комнат, при этом снижается при отдалении от центра.\n",
    "</div>"
   ]
  },
  {
   "cell_type": "code",
   "execution_count": 21,
   "metadata": {
    "scrolled": false
   },
   "outputs": [
    {
     "data": {
      "text/html": [
       "<div>\n",
       "<style scoped>\n",
       "    .dataframe tbody tr th:only-of-type {\n",
       "        vertical-align: middle;\n",
       "    }\n",
       "\n",
       "    .dataframe tbody tr th {\n",
       "        vertical-align: top;\n",
       "    }\n",
       "\n",
       "    .dataframe thead th {\n",
       "        text-align: right;\n",
       "    }\n",
       "</style>\n",
       "<table border=\"1\" class=\"dataframe\">\n",
       "  <thead>\n",
       "    <tr style=\"text-align: right;\">\n",
       "      <th></th>\n",
       "      <th>last_price</th>\n",
       "      <th>apartment_floor</th>\n",
       "    </tr>\n",
       "  </thead>\n",
       "  <tbody>\n",
       "    <tr>\n",
       "      <td>0</td>\n",
       "      <td>13000000.0</td>\n",
       "      <td>другой</td>\n",
       "    </tr>\n",
       "    <tr>\n",
       "      <td>1</td>\n",
       "      <td>3350000.0</td>\n",
       "      <td>первый</td>\n",
       "    </tr>\n",
       "    <tr>\n",
       "      <td>2</td>\n",
       "      <td>5196000.0</td>\n",
       "      <td>другой</td>\n",
       "    </tr>\n",
       "    <tr>\n",
       "      <td>3</td>\n",
       "      <td>64900000.0</td>\n",
       "      <td>другой</td>\n",
       "    </tr>\n",
       "    <tr>\n",
       "      <td>4</td>\n",
       "      <td>10000000.0</td>\n",
       "      <td>другой</td>\n",
       "    </tr>\n",
       "    <tr>\n",
       "      <td>...</td>\n",
       "      <td>...</td>\n",
       "      <td>...</td>\n",
       "    </tr>\n",
       "    <tr>\n",
       "      <td>23694</td>\n",
       "      <td>9700000.0</td>\n",
       "      <td>другой</td>\n",
       "    </tr>\n",
       "    <tr>\n",
       "      <td>23695</td>\n",
       "      <td>3100000.0</td>\n",
       "      <td>другой</td>\n",
       "    </tr>\n",
       "    <tr>\n",
       "      <td>23696</td>\n",
       "      <td>2500000.0</td>\n",
       "      <td>первый</td>\n",
       "    </tr>\n",
       "    <tr>\n",
       "      <td>23697</td>\n",
       "      <td>11475000.0</td>\n",
       "      <td>другой</td>\n",
       "    </tr>\n",
       "    <tr>\n",
       "      <td>23698</td>\n",
       "      <td>1350000.0</td>\n",
       "      <td>первый</td>\n",
       "    </tr>\n",
       "  </tbody>\n",
       "</table>\n",
       "<p>23371 rows × 2 columns</p>\n",
       "</div>"
      ],
      "text/plain": [
       "       last_price apartment_floor\n",
       "0      13000000.0          другой\n",
       "1       3350000.0          первый\n",
       "2       5196000.0          другой\n",
       "3      64900000.0          другой\n",
       "4      10000000.0          другой\n",
       "...           ...             ...\n",
       "23694   9700000.0          другой\n",
       "23695   3100000.0          другой\n",
       "23696   2500000.0          первый\n",
       "23697  11475000.0          другой\n",
       "23698   1350000.0          первый\n",
       "\n",
       "[23371 rows x 2 columns]"
      ]
     },
     "metadata": {},
     "output_type": "display_data"
    },
    {
     "data": {
      "image/png": "[encoded data removed]",
      "text/plain": [
       "<Figure size 432x288 with 1 Axes>"
      ]
     },
     "metadata": {
      "needs_background": "light"
     },
     "output_type": "display_data"
    }
   ],
   "source": [
    "# Зависимость цены от того, на каком этаже расположена квартира: первом, последнем или другом\n",
    "df_price_floor = df[['last_price', 'apartment_floor']]\n",
    "display(df_price_floor)\n",
    "\n",
    "# Сводная таблица с медианным значением цены по этажу. Тк этажей \"другой\" больше и среднее значение в этом случае\n",
    "# рассматривать не очень корректно.\n",
    "df_price_floor_pivot = df_price_floor.pivot_table(index='apartment_floor', values='last_price', aggfunc='mean')\n",
    "df_price_floor_pivot.plot.bar()\n",
    "plt.xlabel(\"Зависимость цены от этажа\", fontsize=14, fontweight=\"bold\")\n",
    "plt.show()"
   ]
  },
  {
   "cell_type": "markdown",
   "metadata": {},
   "source": [
    "### Вывод\n",
    "<div class=\"alert alert-info\">\n",
    "<b>Комментарий:</b><br>\n",
    "На диаграмме явно видно, что цена ниже, если этаж первый.<br>\n",
    "При этом большим спросом пользуются квартиры на \"другом\" этаже. Медианная цена на них самая высокая.\n",
    "</div>"
   ]
  },
  {
   "cell_type": "code",
   "execution_count": 22,
   "metadata": {},
   "outputs": [
    {
     "data": {
      "image/png": "[encoded data removed]",
      "text/plain": [
       "<Figure size 432x288 with 1 Axes>"
      ]
     },
     "metadata": {
      "needs_background": "light"
     },
     "output_type": "display_data"
    }
   ],
   "source": [
    "# Изучить зависимость цены от даты размещения: дня недели, месяца и года.\n",
    "# Сравним средние значения зависимости цены от дня недели. \n",
    "df_price_week = df.pivot_table(index='day_name', values='last_price', aggfunc='mean')\n",
    "df_price_week.plot.bar(width=0.3, legend=None, grid=True)\n",
    "plt.xlabel(\"Зависимость цены от дня недели\", fontsize=14, fontweight=\"bold\")\n",
    "plt.show()\n"
   ]
  },
  {
   "cell_type": "markdown",
   "metadata": {},
   "source": [
    "### Вывод\n",
    "<div class=\"alert alert-info\">\n",
    "<b>Комментарий:</b><br>\n",
    "Можно сделать вывод, что наиболее высокую среднюю цену имеют квартиры, объявления о продаже которых выставлены в субботу.<br>\n",
    "Самые дешевые квартиры выкладывают в воскресенье.\n",
    "</div>"
   ]
  },
  {
   "cell_type": "markdown",
   "metadata": {},
   "source": [
    "### Вывод\n",
    "<div class=\"alert alert-info\">\n",
    "<b>Комментарий студента:</b><br>\n",
    "Наибольшие цены на квартиры в январе 2015 года<br>\n",
    "Самые дешевые квартиры выкладывали в августе 2016.\n",
    "</div>"
   ]
  },
  {
   "cell_type": "code",
   "execution_count": 29,
   "metadata": {},
   "outputs": [
    {
     "name": "stdout",
     "output_type": "stream",
     "text": [
      "Санкт-Петербург      10127\n",
      "посёлок Мурино         362\n",
      "посёлок Шушары         311\n",
      "Всеволожск             265\n",
      "Пушкин                 233\n",
      "посёлок Парголово      218\n",
      "Колпино                212\n",
      "деревня Кудрово        207\n",
      "Гатчина                202\n",
      "Выборг                 154\n",
      "Name: locality_name, dtype: int64\n"
     ]
    }
   ],
   "source": [
    "# Топ 10 населенных пунктов по объявлением по продаже недвижимости.\n",
    "print(query_df['locality_name'].value_counts().head(10))"
   ]
  },
  {
   "cell_type": "code",
   "execution_count": 40,
   "metadata": {
    "scrolled": false
   },
   "outputs": [
    {
     "name": "stdout",
     "output_type": "stream",
     "text": [
      "Средняя цена за квадратный метр в Санкт-Петербурге: 112340.374\n",
      "Средняя цена за квадратный метр в посёлке Мурино: 84855.223\n",
      "Средняя цена за квадратный метр в посёлке Шушары: 77693.178\n",
      "Средняя цена за квадратный метр в Всеволжске: 68866.303\n",
      "Средняя цена за квадратный метр в Пушкине: 101971.511\n",
      "Средняя цена за квадратный метр в посёлке Парголово: 89632.120\n",
      "Средняя цена за квадратный метр в Колпино: 74556.146\n",
      "Средняя цена за квадратный метр в деревне Кудрово: 92329.388\n",
      "Средняя цена за квадратный метр в Гатчине: 66940.281\n",
      "Средняя цена за квадратный метр в Выборге: 56529.546\n"
     ]
    }
   ],
   "source": [
    "# Cредняя цена квадратного метра в этих населённых пунктах\n",
    "\n",
    "# Санкт-Петербург\n",
    "df_spb = query_df.query('locality_name == \"Санкт-Петербург\"')\n",
    "df_spb = df_spb[['total_area', 'last_price']]\n",
    "df_spb['price_for_one_metre'] = df_spb['last_price'] / df_spb['total_area']\n",
    "mean_price_for_metre_spb = df_spb['price_for_one_metre'].mean()\n",
    "print('Средняя цена за квадратный метр в Санкт-Петербурге:', '{:.3f}'.format(mean_price_for_metre_spb))\n",
    "\n",
    "# посёлок Мурино\n",
    "df_murino = query_df.query('locality_name == \"посёлок Мурино\"')\n",
    "df_murino = df_murino[['total_area', 'last_price']]\n",
    "df_murino['price_for_one_metre'] = df_murino['last_price'] / df_murino['total_area']\n",
    "mean_price_for_metre_murino = df_murino['price_for_one_metre'].mean()\n",
    "print('Средняя цена за квадратный метр в посёлке Мурино:', '{:.3f}'.format(mean_price_for_metre_murino))\n",
    "\n",
    "# посёлок Шушары\n",
    "df_shushari = query_df.query('locality_name == \"посёлок Шушары\"')\n",
    "df_shushari = df_shushari[['total_area', 'last_price']]\n",
    "df_shushari['price_for_one_metre'] = df_shushari['last_price'] / df_shushari['total_area']\n",
    "mean_price_for_metre_shushari = df_shushari['price_for_one_metre'].mean()\n",
    "print('Средняя цена за квадратный метр в посёлке Шушары:', '{:.3f}'.format(mean_price_for_metre_shushari))\n",
    "\n",
    "# Всеволожск\n",
    "df_vsevoljsk = query_df.query('locality_name == \"Всеволожск\"')\n",
    "df_vsevoljsk = df_vsevoljsk[['total_area', 'last_price']]\n",
    "df_vsevoljsk['price_for_one_metre'] = df_vsevoljsk['last_price'] / df_vsevoljsk['total_area']\n",
    "mean_price_for_metre_vsevoljsk = df_vsevoljsk['price_for_one_metre'].mean()\n",
    "print('Средняя цена за квадратный метр в Всеволжске:', '{:.3f}'.format(mean_price_for_metre_vsevoljsk))\n",
    "\n",
    "# Пушкин\n",
    "df_pushkin = query_df.query('locality_name == \"Пушкин\"')\n",
    "df_pushkin = df_pushkin[['total_area', 'last_price']]\n",
    "df_pushkin['price_for_one_metre'] = df_pushkin['last_price'] / df_pushkin['total_area']\n",
    "mean_price_for_metre_pushkin = df_pushkin['price_for_one_metre'].mean()\n",
    "print('Средняя цена за квадратный метр в Пушкине:', '{:.3f}'.format(mean_price_for_metre_pushkin))\n",
    "\n",
    "# посёлок Парголово\n",
    "df_parglovo = query_df.query('locality_name == \"посёлок Парголово\"')\n",
    "df_parglovo = df_parglovo[['total_area', 'last_price']]\n",
    "df_parglovo['price_for_one_metre'] = df_parglovo['last_price'] / df_parglovo['total_area']\n",
    "mean_price_for_metre_parglovo = df_parglovo['price_for_one_metre'].mean()\n",
    "print('Средняя цена за квадратный метр в посёлке Парголово:', '{:.3f}'.format(mean_price_for_metre_parglovo))\n",
    "\n",
    "# Колпино\n",
    "df_kolpino = query_df.query('locality_name == \"Колпино\"')\n",
    "df_kolpino = df_kolpino[['total_area', 'last_price']]\n",
    "df_kolpino['price_for_one_metre'] = df_kolpino['last_price'] / df_kolpino['total_area']\n",
    "mean_price_for_metre_kolpino = df_kolpino['price_for_one_metre'].mean()\n",
    "print('Средняя цена за квадратный метр в Колпино:', '{:.3f}'.format(mean_price_for_metre_kolpino))\n",
    "\n",
    "# деревня Кудрово\n",
    "df_kudrovo = query_df.query('locality_name == \"деревня Кудрово\"')\n",
    "df_kudrovo = df_kudrovo[['total_area', 'last_price']]\n",
    "df_kudrovo['price_for_one_metre'] = df_kudrovo['last_price'] / df_kudrovo['total_area']\n",
    "mean_price_for_metre_kudrovo = df_kudrovo['price_for_one_metre'].mean()\n",
    "print('Средняя цена за квадратный метр в деревне Кудрово:', '{:.3f}'.format(mean_price_for_metre_kudrovo))\n",
    "\n",
    "# Гатчина\n",
    "df_gatchina = query_df.query('locality_name == \"Гатчина\"')\n",
    "df_gatchina = df_gatchina[['total_area', 'last_price']]\n",
    "df_gatchina['price_for_one_metre'] = df_gatchina['last_price'] / df_gatchina['total_area']\n",
    "mean_price_for_metre_gatchina = df_gatchina['price_for_one_metre'].mean()\n",
    "print('Средняя цена за квадратный метр в Гатчине:', '{:.3f}'.format(mean_price_for_metre_gatchina))\n",
    "\n",
    "# Выборг\n",
    "df_viborg = query_df.query('locality_name == \"Выборг\"')\n",
    "df_viborg = df_viborg[['total_area', 'last_price']]\n",
    "df_viborg['price_for_one_metre'] = df_viborg['last_price'] / df_viborg['total_area']\n",
    "mean_price_for_metre_viborg = df_viborg['price_for_one_metre'].mean()\n",
    "print('Средняя цена за квадратный метр в Выборге:', '{:.3f}'.format(mean_price_for_metre_viborg))"
   ]
  },
  {
   "cell_type": "markdown",
   "metadata": {},
   "source": [
    "### Вывод\n",
    "<div class=\"alert alert-info\">\n",
    "<b>Комментарий:</b><br>\n",
    "Самая низкая средняя цена за квадратный метр в Выборге и составляет 56529.546<br>\n",
    "Самая высокая средняя цена за квадратный метр в Санкт-Петербурге и составляет 112340.374\n",
    "</div>"
   ]
  },
  {
   "cell_type": "code",
   "execution_count": 62,
   "metadata": {},
   "outputs": [
    {
     "data": {
      "text/plain": [
       "<matplotlib.axes._subplots.AxesSubplot at 0x7f87516583d0>"
      ]
     },
     "execution_count": 62,
     "metadata": {},
     "output_type": "execute_result"
    },
    {
     "data": {
      "image/png": "[encoded data removed]",
      "text/plain": [
       "<Figure size 432x288 with 1 Axes>"
      ]
     },
     "metadata": {
      "needs_background": "light"
     },
     "output_type": "display_data"
    }
   ],
   "source": [
    "# Изучим предложения квартир. Выделим квартиры в Санкт-Петербурге\n",
    "center_spb = query_df.query('locality_name == \"Санкт-Петербург\"')\n",
    "center_spb['cityCenters_nearest'].hist(bins=30, range=(200, 30000))"
   ]
  },
  {
   "cell_type": "code",
   "execution_count": 63,
   "metadata": {},
   "outputs": [
    {
     "name": "stdout",
     "output_type": "stream",
     "text": [
      "count    10111.000000\n",
      "mean     11634.418158\n",
      "std       4814.980108\n",
      "min        208.000000\n",
      "25%       8398.000000\n",
      "50%      12264.000000\n",
      "75%      14943.000000\n",
      "max      29343.000000\n",
      "Name: cityCenters_nearest, dtype: float64\n"
     ]
    }
   ],
   "source": [
    "print(center_spb['cityCenters_nearest'].describe())"
   ]
  },
  {
   "cell_type": "code",
   "execution_count": 84,
   "metadata": {},
   "outputs": [],
   "source": [
    "# Избавляюсь от NaN  и 0(причину, почему оставил, описал выше), чтобы привести к int. Создаю столбец расстояния в км\n",
    "center_spb = center_spb[center_spb['cityCenters_nearest'].notna()]\n",
    "center_spb['cityCenters_nearest'] = center_spb['cityCenters_nearest'].astype(int)\n",
    "center_spb['centers_nearest_km'] = (center_spb['cityCenters_nearest'] / 1000).astype(int)\n",
    "center_spb = center_spb.query('centers_nearest_km > 0')"
   ]
  },
  {
   "cell_type": "code",
   "execution_count": 113,
   "metadata": {},
   "outputs": [
    {
     "data": {
      "image/png": "[encoded data removed]",
      "text/plain": [
       "<Figure size 432x288 with 1 Axes>"
      ]
     },
     "metadata": {
      "needs_background": "light"
     },
     "output_type": "display_data"
    }
   ],
   "source": [
    "center_spb_km = center_spb[['centers_nearest_km','last_price']].reset_index(drop=True)\n",
    "center_spb_km['price_for_km'] = center_spb_km['last_price'] / center_spb_km['centers_nearest_km']\n",
    "center_spb_km_pivot = center_spb_km.pivot_table(index='centers_nearest_km', values='price_for_km', aggfunc='mean')\n",
    "center_spb_km_pivot.hist(bins=30, range=(0, 5000000))\n",
    "plt.show()"
   ]
  },
  {
   "cell_type": "markdown",
   "metadata": {},
   "source": [
    "### Вывод\n",
    "<div class=\"alert alert-info\">\n",
    "<b>Комментарий:</b><br>\n",
    "Квартирами в центре можно считать те квартиры, что удалены от центра не более, чем на 4 км.\n",
    "</div>"
   ]
  },
  {
   "cell_type": "code",
   "execution_count": 126,
   "metadata": {},
   "outputs": [
    {
     "name": "stdout",
     "output_type": "stream",
     "text": [
      "                total_area     rooms  ceiling_height  last_price\n",
      "total_area        1.000000  0.751728        0.213583    0.532458\n",
      "rooms             0.751728  1.000000        0.183190    0.258408\n",
      "ceiling_height    0.213583  0.183190        1.000000    0.084727\n",
      "last_price        0.532458  0.258408        0.084727    1.000000\n"
     ]
    },
    {
     "data": {
      "image/png": "[encoded data removed]",
      "text/plain": [
       "<Figure size 648x648 with 16 Axes>"
      ]
     },
     "metadata": {
      "needs_background": "light"
     },
     "output_type": "display_data"
    }
   ],
   "source": [
    "# Анализ квартир в центре.\n",
    "flat_in_center_spb = center_spb.query('centers_nearest_km <= 4').reset_index(drop=True)\n",
    "\n",
    "flat_in_center_spb_multi = flat_in_center_spb[['total_area', 'rooms', 'ceiling_height', 'last_price']]\n",
    "print(flat_in_center_spb_multi.corr())\n",
    "pd.plotting.scatter_matrix(flat_in_center_spb_multi, figsize=(9, 9), grid=True)\n",
    "plt.show()"
   ]
  },
  {
   "cell_type": "code",
   "execution_count": 127,
   "metadata": {},
   "outputs": [
    {
     "name": "stdout",
     "output_type": "stream",
     "text": [
      "                        floor     rooms  cityCenters_nearest  last_price\n",
      "floor                1.000000  0.000987             0.223946    0.160214\n",
      "rooms                0.000987  1.000000            -0.081804    0.258408\n",
      "cityCenters_nearest  0.223946 -0.081804             1.000000   -0.056081\n",
      "last_price           0.160214  0.258408            -0.056081    1.000000\n"
     ]
    },
    {
     "data": {
      "image/png": "[encoded data removed]",
      "text/plain": [
       "<Figure size 648x648 with 16 Axes>"
      ]
     },
     "metadata": {
      "needs_background": "light"
     },
     "output_type": "display_data"
    }
   ],
   "source": [
    "flat_in_center_spb_multi2 = flat_in_center_spb[['floor', 'rooms', 'cityCenters_nearest', 'first_day_exposition',\n",
    "                                               'last_price']]\n",
    "print(flat_in_center_spb_multi2.corr())\n",
    "pd.plotting.scatter_matrix(flat_in_center_spb_multi2, figsize=(9, 9), grid=True)\n",
    "plt.show()"
   ]
  },
  {
   "cell_type": "markdown",
   "metadata": {},
   "source": [
    "### Вывод\n",
    "<div class=\"alert alert-info\">\n",
    "<b>Комментарий:</b><br>\n",
    "Из бросающихся в глаза зависимостей можно смело выделить следующие:<br>\n",
    "Чаще всего увеличение цены зависит от этажа (выше на 3-5 этажах), количества комнат (выше кв с 4-5 комнатами) и с увеличением общей площади.<br>\n",
    "Высота потолков и удаленность от центра оказывают слабое влияние на цену<br><br>\n",
    "Влияние различных факторов на цены в Санкт-Петербурге схоже с влиянием по всей базе.\n",
    "</div>"
   ]
  },
  {
   "cell_type": "markdown",
   "metadata": {},
   "source": [
    "## Общий вывод"
   ]
  },
  {
   "cell_type": "markdown",
   "metadata": {},
   "source": [
    "<div class=\"alert alert-info\">\n",
    "Было проведенно исследование недвижимости в городе Санкт-Петербург и ближайших населенных пунктах.<br><br>\n",
    "Наиболее сильно влияющими на цены факторами оказались: общая площадь, количество комнат и этаж.<br>\n",
    "Так же можно заметить, что с отдаленим от центра населенного пункта, цена на недвижимость снижается. Однако этот факт влияет на изменение цены меньше, чем вышеизложенные.<br><br>\n",
    "Квартиры с большей площадью имеют больше комнат, что логично, и находятся дальше от центра и цена их выше.<br>\n",
    "Квартиры с меньшей площадью, в основном до 250, находятся ближе к центру и имеют меньше комнат и, следовательно, меньше стоимость.<br><br>\n",
    "Самая низкая средняя цена за квадратный метр в Выборге и составляет 56529.546<br>\n",
    "Самая высокая средняя цена за квадратный метр в Санкт-Петербурге и составляет 112340.374<br><br>\n",
    "Наибольшие цены на квартиры установлены в январе 2015 года<br>\n",
    "Самые дешевые квартиры выкладывали в августе 2016.\n",
    "</div>"
   ]
  }
 ],
 "metadata": {
  "ExecuteTimeLog": [
   {
    "duration": 634,
    "start_time": "2022-02-17T06:27:25.851Z"
   },
   {
    "duration": 66,
    "start_time": "2022-02-17T06:28:40.276Z"
   },
   {
    "duration": 68,
    "start_time": "2022-02-17T06:28:43.843Z"
   },
   {
    "duration": 61,
    "start_time": "2022-02-17T06:28:48.311Z"
   },
   {
    "duration": 102,
    "start_time": "2022-02-17T06:30:33.344Z"
   },
   {
    "duration": 9,
    "start_time": "2022-02-17T06:52:13.037Z"
   },
   {
    "duration": 12,
    "start_time": "2022-02-17T06:52:20.920Z"
   },
   {
    "duration": 42,
    "start_time": "2022-02-17T06:52:35.453Z"
   },
   {
    "duration": 238,
    "start_time": "2022-02-17T06:53:15.583Z"
   },
   {
    "duration": 203,
    "start_time": "2022-02-17T06:53:56.126Z"
   },
   {
    "duration": 212,
    "start_time": "2022-02-17T06:54:02.133Z"
   },
   {
    "duration": 185,
    "start_time": "2022-02-17T06:54:13.170Z"
   },
   {
    "duration": 9,
    "start_time": "2022-02-17T06:56:42.213Z"
   },
   {
    "duration": 17,
    "start_time": "2022-02-17T06:57:03.612Z"
   },
   {
    "duration": 23,
    "start_time": "2022-02-17T06:57:14.046Z"
   },
   {
    "duration": 8,
    "start_time": "2022-02-17T07:09:06.427Z"
   },
   {
    "duration": 178,
    "start_time": "2022-02-17T07:09:22.275Z"
   },
   {
    "duration": 26,
    "start_time": "2022-02-17T07:09:29.280Z"
   },
   {
    "duration": 7,
    "start_time": "2022-02-17T07:10:09.724Z"
   },
   {
    "duration": 8,
    "start_time": "2022-02-17T07:10:21.805Z"
   },
   {
    "duration": 7,
    "start_time": "2022-02-17T07:11:15.586Z"
   },
   {
    "duration": 7,
    "start_time": "2022-02-17T07:11:23.033Z"
   },
   {
    "duration": 193,
    "start_time": "2022-02-17T07:11:35.228Z"
   },
   {
    "duration": 5,
    "start_time": "2022-02-17T07:11:56.265Z"
   },
   {
    "duration": 5,
    "start_time": "2022-02-17T07:12:03.071Z"
   },
   {
    "duration": 6,
    "start_time": "2022-02-17T07:12:11.649Z"
   },
   {
    "duration": 188,
    "start_time": "2022-02-17T07:12:42.952Z"
   },
   {
    "duration": 8,
    "start_time": "2022-02-17T07:12:53.041Z"
   },
   {
    "duration": 4574,
    "start_time": "2022-02-17T07:19:48.245Z"
   },
   {
    "duration": 198,
    "start_time": "2022-02-17T07:20:09.441Z"
   },
   {
    "duration": 184,
    "start_time": "2022-02-17T07:20:16.586Z"
   },
   {
    "duration": 170,
    "start_time": "2022-02-17T07:20:34.643Z"
   },
   {
    "duration": -2228,
    "start_time": "2022-02-17T07:32:40.909Z"
   },
   {
    "duration": 6,
    "start_time": "2022-02-17T07:33:26.132Z"
   },
   {
    "duration": 6,
    "start_time": "2022-02-17T07:34:11.060Z"
   },
   {
    "duration": 8,
    "start_time": "2022-02-17T07:34:46.092Z"
   },
   {
    "duration": 13,
    "start_time": "2022-02-17T07:35:08.148Z"
   },
   {
    "duration": 196,
    "start_time": "2022-02-17T07:35:44.230Z"
   },
   {
    "duration": 2384,
    "start_time": "2022-02-17T07:36:20.600Z"
   },
   {
    "duration": 291,
    "start_time": "2022-02-17T07:36:30.424Z"
   },
   {
    "duration": 5,
    "start_time": "2022-02-17T07:36:57.293Z"
   },
   {
    "duration": 372,
    "start_time": "2022-02-17T09:14:20.008Z"
   },
   {
    "duration": 680,
    "start_time": "2022-02-17T09:14:34.174Z"
   },
   {
    "duration": 10,
    "start_time": "2022-02-17T09:14:38.579Z"
   },
   {
    "duration": 6,
    "start_time": "2022-02-17T09:14:59.706Z"
   },
   {
    "duration": 6,
    "start_time": "2022-02-17T09:17:03.383Z"
   },
   {
    "duration": 8,
    "start_time": "2022-02-17T09:18:12.978Z"
   },
   {
    "duration": 5,
    "start_time": "2022-02-17T09:19:03.750Z"
   },
   {
    "duration": 6,
    "start_time": "2022-02-17T09:19:10.788Z"
   },
   {
    "duration": 5,
    "start_time": "2022-02-17T09:20:29.743Z"
   },
   {
    "duration": 8,
    "start_time": "2022-02-17T09:23:09.020Z"
   },
   {
    "duration": 10,
    "start_time": "2022-02-17T09:23:18.171Z"
   },
   {
    "duration": 97,
    "start_time": "2022-02-17T09:23:27.352Z"
   },
   {
    "duration": 13,
    "start_time": "2022-02-17T09:23:29.236Z"
   },
   {
    "duration": 106,
    "start_time": "2022-02-17T09:28:29.815Z"
   },
   {
    "duration": 331,
    "start_time": "2022-02-17T09:28:31.782Z"
   },
   {
    "duration": 105,
    "start_time": "2022-02-17T09:29:16.806Z"
   },
   {
    "duration": 376,
    "start_time": "2022-02-17T09:29:23.198Z"
   },
   {
    "duration": 100,
    "start_time": "2022-02-17T09:29:38.247Z"
   },
   {
    "duration": 41,
    "start_time": "2022-02-17T09:29:45.253Z"
   },
   {
    "duration": 10,
    "start_time": "2022-02-17T09:31:30.013Z"
   },
   {
    "duration": 14,
    "start_time": "2022-02-17T09:31:36.770Z"
   },
   {
    "duration": 15,
    "start_time": "2022-02-17T09:32:26.658Z"
   },
   {
    "duration": 16,
    "start_time": "2022-02-17T09:33:39.721Z"
   },
   {
    "duration": 39,
    "start_time": "2022-02-17T09:33:58.355Z"
   },
   {
    "duration": 95,
    "start_time": "2022-02-17T09:34:46.473Z"
   },
   {
    "duration": 13,
    "start_time": "2022-02-17T09:34:48.751Z"
   },
   {
    "duration": 6,
    "start_time": "2022-02-17T09:37:20.607Z"
   },
   {
    "duration": 8,
    "start_time": "2022-02-17T09:37:54.458Z"
   },
   {
    "duration": 8,
    "start_time": "2022-02-17T09:40:16.647Z"
   },
   {
    "duration": 12,
    "start_time": "2022-02-17T09:40:25.927Z"
   },
   {
    "duration": 43,
    "start_time": "2022-02-17T09:43:26.415Z"
   },
   {
    "duration": 7,
    "start_time": "2022-02-17T09:44:48.427Z"
   },
   {
    "duration": 5,
    "start_time": "2022-02-17T09:46:11.488Z"
   },
   {
    "duration": 9,
    "start_time": "2022-02-17T09:46:19.325Z"
   },
   {
    "duration": 98,
    "start_time": "2022-02-17T09:46:27.250Z"
   },
   {
    "duration": 12,
    "start_time": "2022-02-17T09:46:27.349Z"
   },
   {
    "duration": 4,
    "start_time": "2022-02-17T09:47:31.599Z"
   },
   {
    "duration": 6,
    "start_time": "2022-02-17T09:52:50.961Z"
   },
   {
    "duration": 5,
    "start_time": "2022-02-17T09:53:16.694Z"
   },
   {
    "duration": 5,
    "start_time": "2022-02-17T09:54:59.458Z"
   },
   {
    "duration": 5,
    "start_time": "2022-02-17T09:55:13.466Z"
   },
   {
    "duration": 93,
    "start_time": "2022-02-17T09:55:56.481Z"
   },
   {
    "duration": 14,
    "start_time": "2022-02-17T09:55:58.965Z"
   },
   {
    "duration": 99,
    "start_time": "2022-02-17T09:56:05.801Z"
   },
   {
    "duration": 12,
    "start_time": "2022-02-17T09:56:07.246Z"
   },
   {
    "duration": 6,
    "start_time": "2022-02-17T10:16:20.020Z"
   },
   {
    "duration": 9,
    "start_time": "2022-02-17T10:20:18.003Z"
   },
   {
    "duration": 24,
    "start_time": "2022-02-17T10:42:57.150Z"
   },
   {
    "duration": 27,
    "start_time": "2022-02-17T10:53:57.634Z"
   },
   {
    "duration": 3822,
    "start_time": "2022-02-17T11:14:33.954Z"
   },
   {
    "duration": 93,
    "start_time": "2022-02-17T11:15:02.114Z"
   },
   {
    "duration": 12,
    "start_time": "2022-02-17T11:15:02.209Z"
   },
   {
    "duration": 13,
    "start_time": "2022-02-17T11:15:02.222Z"
   },
   {
    "duration": 3926,
    "start_time": "2022-02-17T11:15:04.060Z"
   },
   {
    "duration": 98,
    "start_time": "2022-02-17T11:16:33.633Z"
   },
   {
    "duration": 14,
    "start_time": "2022-02-17T11:16:33.733Z"
   },
   {
    "duration": 6,
    "start_time": "2022-02-17T11:16:33.748Z"
   },
   {
    "duration": 4503,
    "start_time": "2022-02-17T11:16:34.966Z"
   },
   {
    "duration": 100,
    "start_time": "2022-02-17T11:17:02.058Z"
   },
   {
    "duration": 12,
    "start_time": "2022-02-17T11:17:02.159Z"
   },
   {
    "duration": 14,
    "start_time": "2022-02-17T11:17:02.173Z"
   },
   {
    "duration": 3950,
    "start_time": "2022-02-17T11:17:09.637Z"
   },
   {
    "duration": 3902,
    "start_time": "2022-02-17T11:18:12.696Z"
   },
   {
    "duration": 98,
    "start_time": "2022-02-17T11:18:22.355Z"
   },
   {
    "duration": 11,
    "start_time": "2022-02-17T11:18:22.455Z"
   },
   {
    "duration": 4,
    "start_time": "2022-02-17T11:18:22.468Z"
   },
   {
    "duration": 34,
    "start_time": "2022-02-17T11:18:24.157Z"
   },
   {
    "duration": 97,
    "start_time": "2022-02-17T11:18:50.497Z"
   },
   {
    "duration": 13,
    "start_time": "2022-02-17T11:18:50.596Z"
   },
   {
    "duration": 22,
    "start_time": "2022-02-17T11:18:50.611Z"
   },
   {
    "duration": 63,
    "start_time": "2022-02-17T11:18:53.980Z"
   },
   {
    "duration": 96,
    "start_time": "2022-02-17T11:19:17.281Z"
   },
   {
    "duration": 14,
    "start_time": "2022-02-17T11:19:17.378Z"
   },
   {
    "duration": 5,
    "start_time": "2022-02-17T11:19:17.393Z"
   },
   {
    "duration": 35,
    "start_time": "2022-02-17T11:19:18.738Z"
   },
   {
    "duration": 100,
    "start_time": "2022-02-17T11:19:40.072Z"
   },
   {
    "duration": 20,
    "start_time": "2022-02-17T11:19:40.174Z"
   },
   {
    "duration": 13,
    "start_time": "2022-02-17T11:19:40.197Z"
   },
   {
    "duration": 75,
    "start_time": "2022-02-17T11:19:42.140Z"
   },
   {
    "duration": 98,
    "start_time": "2022-02-17T11:20:14.710Z"
   },
   {
    "duration": 22,
    "start_time": "2022-02-17T11:20:14.810Z"
   },
   {
    "duration": 6,
    "start_time": "2022-02-17T11:20:14.833Z"
   },
   {
    "duration": 37,
    "start_time": "2022-02-17T11:20:16.099Z"
   },
   {
    "duration": 97,
    "start_time": "2022-02-17T11:20:26.147Z"
   },
   {
    "duration": 13,
    "start_time": "2022-02-17T11:20:26.246Z"
   },
   {
    "duration": 5,
    "start_time": "2022-02-17T11:20:26.260Z"
   },
   {
    "duration": 36,
    "start_time": "2022-02-17T11:20:27.457Z"
   },
   {
    "duration": 5,
    "start_time": "2022-02-17T11:23:00.060Z"
   },
   {
    "duration": 310,
    "start_time": "2022-02-17T11:23:44.280Z"
   },
   {
    "duration": 5,
    "start_time": "2022-02-17T11:23:49.232Z"
   },
   {
    "duration": 5,
    "start_time": "2022-02-17T11:23:56.174Z"
   },
   {
    "duration": 17,
    "start_time": "2022-02-17T11:24:38.991Z"
   },
   {
    "duration": 13,
    "start_time": "2022-02-17T11:24:44.331Z"
   },
   {
    "duration": 35,
    "start_time": "2022-02-17T11:25:09.450Z"
   },
   {
    "duration": 13,
    "start_time": "2022-02-17T11:25:50.220Z"
   },
   {
    "duration": 14,
    "start_time": "2022-02-17T11:26:05.496Z"
   },
   {
    "duration": 17,
    "start_time": "2022-02-17T11:26:12.816Z"
   },
   {
    "duration": 39,
    "start_time": "2022-02-17T11:26:22.718Z"
   },
   {
    "duration": 36,
    "start_time": "2022-02-17T11:26:40.104Z"
   },
   {
    "duration": 10,
    "start_time": "2022-02-17T11:32:17.889Z"
   },
   {
    "duration": 97,
    "start_time": "2022-02-17T11:34:26.266Z"
   },
   {
    "duration": 14,
    "start_time": "2022-02-17T11:34:26.364Z"
   },
   {
    "duration": 5,
    "start_time": "2022-02-17T11:34:26.380Z"
   },
   {
    "duration": 97,
    "start_time": "2022-02-17T11:35:41.197Z"
   },
   {
    "duration": 16,
    "start_time": "2022-02-17T11:35:41.296Z"
   },
   {
    "duration": 18,
    "start_time": "2022-02-17T11:35:41.314Z"
   },
   {
    "duration": 33,
    "start_time": "2022-02-17T11:35:42.808Z"
   },
   {
    "duration": 14,
    "start_time": "2022-02-17T11:35:52.334Z"
   },
   {
    "duration": 9,
    "start_time": "2022-02-17T11:37:11.663Z"
   },
   {
    "duration": 7,
    "start_time": "2022-02-17T11:42:53.910Z"
   },
   {
    "duration": 48,
    "start_time": "2022-02-17T11:43:09.358Z"
   },
   {
    "duration": 102,
    "start_time": "2022-02-17T11:52:48.402Z"
   },
   {
    "duration": 578,
    "start_time": "2022-02-17T11:52:54.459Z"
   },
   {
    "duration": 12,
    "start_time": "2022-02-17T11:53:19.482Z"
   },
   {
    "duration": 46,
    "start_time": "2022-02-17T11:53:29.090Z"
   },
   {
    "duration": 56,
    "start_time": "2022-02-17T11:54:06.758Z"
   },
   {
    "duration": 137,
    "start_time": "2022-02-17T11:55:04.858Z"
   },
   {
    "duration": 145,
    "start_time": "2022-02-17T11:55:19.406Z"
   },
   {
    "duration": 136,
    "start_time": "2022-02-17T11:55:39.014Z"
   },
   {
    "duration": 81,
    "start_time": "2022-02-17T12:00:12.319Z"
   },
   {
    "duration": 84,
    "start_time": "2022-02-17T12:00:26.950Z"
   },
   {
    "duration": 476,
    "start_time": "2022-02-17T12:19:20.988Z"
   },
   {
    "duration": 1240,
    "start_time": "2022-02-17T12:23:44.336Z"
   },
   {
    "duration": 1220,
    "start_time": "2022-02-17T12:26:31.334Z"
   },
   {
    "duration": 371,
    "start_time": "2022-02-17T12:27:33.872Z"
   },
   {
    "duration": 544,
    "start_time": "2022-02-17T12:29:04.158Z"
   },
   {
    "duration": 27747,
    "start_time": "2022-02-17T12:36:45.088Z"
   },
   {
    "duration": 20725,
    "start_time": "2022-02-17T12:39:53.249Z"
   },
   {
    "duration": 1194,
    "start_time": "2022-02-17T12:43:26.002Z"
   },
   {
    "duration": 1744,
    "start_time": "2022-02-17T12:43:54.485Z"
   },
   {
    "duration": 3371,
    "start_time": "2022-02-17T12:44:28.248Z"
   },
   {
    "duration": 891,
    "start_time": "2022-02-17T12:45:12.585Z"
   },
   {
    "duration": 927,
    "start_time": "2022-02-17T12:48:00.447Z"
   },
   {
    "duration": 86,
    "start_time": "2022-02-17T12:50:24.622Z"
   },
   {
    "duration": 353,
    "start_time": "2022-02-17T12:51:32.758Z"
   },
   {
    "duration": 1285,
    "start_time": "2022-02-18T08:16:44.800Z"
   },
   {
    "duration": 23,
    "start_time": "2022-02-18T08:19:30.252Z"
   },
   {
    "duration": 8,
    "start_time": "2022-02-18T08:19:31.395Z"
   },
   {
    "duration": 11,
    "start_time": "2022-02-18T08:19:34.290Z"
   },
   {
    "duration": 1140,
    "start_time": "2022-02-18T08:19:59.431Z"
   },
   {
    "duration": 26,
    "start_time": "2022-02-18T08:20:20.726Z"
   },
   {
    "duration": 159,
    "start_time": "2022-02-18T08:20:50.574Z"
   },
   {
    "duration": 23,
    "start_time": "2022-02-18T08:20:50.736Z"
   },
   {
    "duration": 8,
    "start_time": "2022-02-18T08:20:50.762Z"
   },
   {
    "duration": 61,
    "start_time": "2022-02-18T08:20:54.958Z"
   },
   {
    "duration": 10,
    "start_time": "2022-02-18T08:20:58.274Z"
   },
   {
    "duration": 1111,
    "start_time": "2022-02-18T08:21:00.180Z"
   },
   {
    "duration": 23,
    "start_time": "2022-02-18T08:21:04.217Z"
   },
   {
    "duration": 728,
    "start_time": "2022-02-18T08:22:11.180Z"
   },
   {
    "duration": 442,
    "start_time": "2022-02-18T08:22:37.012Z"
   },
   {
    "duration": 318,
    "start_time": "2022-02-18T08:22:45.311Z"
   },
   {
    "duration": 344,
    "start_time": "2022-02-18T08:22:54.552Z"
   },
   {
    "duration": 601,
    "start_time": "2022-02-18T08:23:19.628Z"
   },
   {
    "duration": 6,
    "start_time": "2022-02-18T08:26:09.188Z"
   },
   {
    "duration": 7,
    "start_time": "2022-02-18T08:32:22.732Z"
   },
   {
    "duration": 7,
    "start_time": "2022-02-18T08:32:38.682Z"
   },
   {
    "duration": 8,
    "start_time": "2022-02-18T08:33:27.419Z"
   },
   {
    "duration": 7,
    "start_time": "2022-02-18T08:34:39.044Z"
   },
   {
    "duration": 157,
    "start_time": "2022-02-18T08:37:15.992Z"
   },
   {
    "duration": 21,
    "start_time": "2022-02-18T08:37:16.151Z"
   },
   {
    "duration": 8,
    "start_time": "2022-02-18T08:37:16.175Z"
   },
   {
    "duration": 95,
    "start_time": "2022-02-18T08:37:16.186Z"
   },
   {
    "duration": 10,
    "start_time": "2022-02-18T08:37:16.284Z"
   },
   {
    "duration": 1246,
    "start_time": "2022-02-18T08:37:16.297Z"
   },
   {
    "duration": 28,
    "start_time": "2022-02-18T08:37:17.546Z"
   },
   {
    "duration": 622,
    "start_time": "2022-02-18T08:37:17.577Z"
   },
   {
    "duration": 471,
    "start_time": "2022-02-18T08:37:18.204Z"
   },
   {
    "duration": 336,
    "start_time": "2022-02-18T08:37:18.678Z"
   },
   {
    "duration": 359,
    "start_time": "2022-02-18T08:37:19.016Z"
   },
   {
    "duration": 613,
    "start_time": "2022-02-18T08:37:19.378Z"
   },
   {
    "duration": 7,
    "start_time": "2022-02-18T08:37:19.993Z"
   },
   {
    "duration": 1388,
    "start_time": "2022-02-18T08:38:05.254Z"
   },
   {
    "duration": 623,
    "start_time": "2022-02-18T08:38:16.595Z"
   },
   {
    "duration": 566,
    "start_time": "2022-02-18T08:39:12.242Z"
   },
   {
    "duration": 109,
    "start_time": "2022-02-18T08:40:37.245Z"
   },
   {
    "duration": 13,
    "start_time": "2022-02-18T08:40:51.780Z"
   },
   {
    "duration": 6,
    "start_time": "2022-02-18T08:41:11.381Z"
   },
   {
    "duration": 9,
    "start_time": "2022-02-18T08:43:35.068Z"
   },
   {
    "duration": 12,
    "start_time": "2022-02-18T08:43:43.982Z"
   },
   {
    "duration": 8,
    "start_time": "2022-02-18T08:43:47.037Z"
   },
   {
    "duration": 10,
    "start_time": "2022-02-18T08:43:50.149Z"
   },
   {
    "duration": 10,
    "start_time": "2022-02-18T08:43:56.566Z"
   },
   {
    "duration": 8,
    "start_time": "2022-02-18T08:43:59.531Z"
   },
   {
    "duration": 12,
    "start_time": "2022-02-18T08:44:02.473Z"
   },
   {
    "duration": 12,
    "start_time": "2022-02-18T08:48:24.673Z"
   },
   {
    "duration": 14,
    "start_time": "2022-02-18T08:48:33.593Z"
   },
   {
    "duration": 10,
    "start_time": "2022-02-18T08:48:38.590Z"
   },
   {
    "duration": 13,
    "start_time": "2022-02-18T08:56:30.557Z"
   },
   {
    "duration": 12,
    "start_time": "2022-02-18T08:56:43.979Z"
   },
   {
    "duration": 19,
    "start_time": "2022-02-18T08:56:46.500Z"
   },
   {
    "duration": 20,
    "start_time": "2022-02-18T08:57:03.643Z"
   },
   {
    "duration": 18,
    "start_time": "2022-02-18T08:57:28.979Z"
   },
   {
    "duration": 16,
    "start_time": "2022-02-18T08:57:41.755Z"
   },
   {
    "duration": 18,
    "start_time": "2022-02-18T08:57:58.787Z"
   },
   {
    "duration": 598,
    "start_time": "2022-02-18T09:00:03.048Z"
   },
   {
    "duration": 576,
    "start_time": "2022-02-18T09:00:31.308Z"
   },
   {
    "duration": 559,
    "start_time": "2022-02-18T09:01:00.952Z"
   },
   {
    "duration": 10,
    "start_time": "2022-02-18T09:03:28.976Z"
   },
   {
    "duration": 6577,
    "start_time": "2022-02-18T09:04:08.765Z"
   },
   {
    "duration": 262,
    "start_time": "2022-02-18T09:04:38.148Z"
   },
   {
    "duration": 9,
    "start_time": "2022-02-18T09:05:30.008Z"
   },
   {
    "duration": 38,
    "start_time": "2022-02-18T09:06:29.277Z"
   },
   {
    "duration": 41,
    "start_time": "2022-02-18T09:07:26.715Z"
   },
   {
    "duration": 10247,
    "start_time": "2022-02-18T09:08:09.779Z"
   },
   {
    "duration": 581,
    "start_time": "2022-02-18T09:09:08.006Z"
   },
   {
    "duration": 566,
    "start_time": "2022-02-18T09:09:31.155Z"
   },
   {
    "duration": 534,
    "start_time": "2022-02-18T09:09:41.680Z"
   },
   {
    "duration": 14,
    "start_time": "2022-02-18T09:10:22.874Z"
   },
   {
    "duration": 971,
    "start_time": "2022-02-18T09:10:25.440Z"
   },
   {
    "duration": 11,
    "start_time": "2022-02-18T09:10:55.408Z"
   },
   {
    "duration": 11,
    "start_time": "2022-02-18T09:11:34.160Z"
   },
   {
    "duration": 573,
    "start_time": "2022-02-18T09:13:08.028Z"
   },
   {
    "duration": 587,
    "start_time": "2022-02-18T09:13:46.495Z"
   },
   {
    "duration": 588,
    "start_time": "2022-02-18T09:14:03.509Z"
   },
   {
    "duration": 12,
    "start_time": "2022-02-18T09:14:20.349Z"
   },
   {
    "duration": 542,
    "start_time": "2022-02-18T09:14:21.787Z"
   },
   {
    "duration": 13,
    "start_time": "2022-02-18T09:14:29.503Z"
   },
   {
    "duration": 14,
    "start_time": "2022-02-18T09:14:49.810Z"
   },
   {
    "duration": 555,
    "start_time": "2022-02-18T09:14:51.948Z"
   },
   {
    "duration": 12,
    "start_time": "2022-02-18T09:14:54.064Z"
   },
   {
    "duration": 86,
    "start_time": "2022-02-18T09:16:29.670Z"
   },
   {
    "duration": 10,
    "start_time": "2022-02-18T09:16:50.682Z"
   },
   {
    "duration": 718,
    "start_time": "2022-02-18T09:16:53.486Z"
   },
   {
    "duration": 15,
    "start_time": "2022-02-18T09:17:01.350Z"
   },
   {
    "duration": 546,
    "start_time": "2022-02-18T09:17:02.092Z"
   },
   {
    "duration": 11,
    "start_time": "2022-02-18T09:17:18.323Z"
   },
   {
    "duration": 566,
    "start_time": "2022-02-18T09:17:21.418Z"
   },
   {
    "duration": 11,
    "start_time": "2022-02-18T09:17:29.425Z"
   },
   {
    "duration": 550,
    "start_time": "2022-02-18T09:17:30.722Z"
   },
   {
    "duration": 11,
    "start_time": "2022-02-18T09:18:58.597Z"
   },
   {
    "duration": 12,
    "start_time": "2022-02-18T09:26:06.078Z"
   },
   {
    "duration": 663,
    "start_time": "2022-02-18T09:26:06.910Z"
   },
   {
    "duration": 10,
    "start_time": "2022-02-18T09:26:14.975Z"
   },
   {
    "duration": 15,
    "start_time": "2022-02-18T09:28:28.620Z"
   },
   {
    "duration": 827,
    "start_time": "2022-02-18T09:28:29.245Z"
   },
   {
    "duration": 11,
    "start_time": "2022-02-18T09:29:13.885Z"
   },
   {
    "duration": 15,
    "start_time": "2022-02-18T09:29:26.760Z"
   },
   {
    "duration": 14,
    "start_time": "2022-02-18T09:29:43.427Z"
   },
   {
    "duration": 17,
    "start_time": "2022-02-18T09:29:46.624Z"
   },
   {
    "duration": 569,
    "start_time": "2022-02-18T09:29:48.125Z"
   },
   {
    "duration": 8,
    "start_time": "2022-02-18T09:30:00.223Z"
   },
   {
    "duration": 12,
    "start_time": "2022-02-18T09:30:03.151Z"
   },
   {
    "duration": 9,
    "start_time": "2022-02-18T09:30:06.743Z"
   },
   {
    "duration": 12,
    "start_time": "2022-02-18T09:30:22.387Z"
   },
   {
    "duration": 575,
    "start_time": "2022-02-18T09:30:23.363Z"
   },
   {
    "duration": 8,
    "start_time": "2022-02-18T09:30:25.201Z"
   },
   {
    "duration": 11,
    "start_time": "2022-02-18T09:30:31.493Z"
   },
   {
    "duration": 12,
    "start_time": "2022-02-18T09:31:12.812Z"
   },
   {
    "duration": 575,
    "start_time": "2022-02-18T09:31:13.753Z"
   },
   {
    "duration": 12,
    "start_time": "2022-02-18T09:31:24.519Z"
   },
   {
    "duration": 14,
    "start_time": "2022-02-18T09:31:39.564Z"
   },
   {
    "duration": 575,
    "start_time": "2022-02-18T09:31:42.754Z"
   },
   {
    "duration": 10,
    "start_time": "2022-02-18T09:31:45.039Z"
   },
   {
    "duration": 77,
    "start_time": "2022-02-18T09:38:03.558Z"
   },
   {
    "duration": 3464,
    "start_time": "2022-02-18T09:46:25.867Z"
   },
   {
    "duration": 277,
    "start_time": "2022-02-18T09:49:24.956Z"
   },
   {
    "duration": 11,
    "start_time": "2022-02-18T09:49:28.005Z"
   },
   {
    "duration": 25,
    "start_time": "2022-02-18T09:50:37.835Z"
   },
   {
    "duration": 161,
    "start_time": "2022-02-18T09:50:49.883Z"
   },
   {
    "duration": 31,
    "start_time": "2022-02-18T09:50:50.047Z"
   },
   {
    "duration": 45,
    "start_time": "2022-02-18T09:50:50.082Z"
   },
   {
    "duration": 63,
    "start_time": "2022-02-18T09:50:50.130Z"
   },
   {
    "duration": 37,
    "start_time": "2022-02-18T09:50:50.196Z"
   },
   {
    "duration": 1318,
    "start_time": "2022-02-18T09:50:50.236Z"
   },
   {
    "duration": 24,
    "start_time": "2022-02-18T09:50:51.557Z"
   },
   {
    "duration": 20,
    "start_time": "2022-02-18T09:50:56.414Z"
   },
   {
    "duration": 585,
    "start_time": "2022-02-18T09:50:58.315Z"
   },
   {
    "duration": 439,
    "start_time": "2022-02-18T09:51:01.969Z"
   },
   {
    "duration": 316,
    "start_time": "2022-02-18T09:51:03.453Z"
   },
   {
    "duration": 341,
    "start_time": "2022-02-18T09:51:05.257Z"
   },
   {
    "duration": 585,
    "start_time": "2022-02-18T09:51:07.308Z"
   },
   {
    "duration": 6,
    "start_time": "2022-02-18T09:51:09.697Z"
   },
   {
    "duration": 12,
    "start_time": "2022-02-18T09:51:11.266Z"
   },
   {
    "duration": 13,
    "start_time": "2022-02-18T09:51:17.831Z"
   },
   {
    "duration": 599,
    "start_time": "2022-02-18T09:51:19.156Z"
   },
   {
    "duration": 73,
    "start_time": "2022-02-18T09:51:22.822Z"
   },
   {
    "duration": 3649,
    "start_time": "2022-02-18T09:51:34.719Z"
   },
   {
    "duration": 6,
    "start_time": "2022-02-18T09:52:15.177Z"
   },
   {
    "duration": 7385,
    "start_time": "2022-02-18T09:56:10.055Z"
   },
   {
    "duration": 169,
    "start_time": "2022-02-18T11:08:00.670Z"
   },
   {
    "duration": 29,
    "start_time": "2022-02-18T11:08:00.842Z"
   },
   {
    "duration": 8,
    "start_time": "2022-02-18T11:08:00.874Z"
   },
   {
    "duration": 98,
    "start_time": "2022-02-18T11:08:00.885Z"
   },
   {
    "duration": 42,
    "start_time": "2022-02-18T11:08:00.987Z"
   },
   {
    "duration": 1138,
    "start_time": "2022-02-18T11:08:01.032Z"
   },
   {
    "duration": 26,
    "start_time": "2022-02-18T11:08:02.173Z"
   },
   {
    "duration": 593,
    "start_time": "2022-02-18T11:08:02.227Z"
   },
   {
    "duration": 461,
    "start_time": "2022-02-18T11:08:02.827Z"
   },
   {
    "duration": 357,
    "start_time": "2022-02-18T11:08:03.290Z"
   },
   {
    "duration": 367,
    "start_time": "2022-02-18T11:08:03.650Z"
   },
   {
    "duration": 619,
    "start_time": "2022-02-18T11:08:04.020Z"
   },
   {
    "duration": 6,
    "start_time": "2022-02-18T11:08:04.642Z"
   },
   {
    "duration": 54,
    "start_time": "2022-02-18T11:08:04.650Z"
   },
   {
    "duration": 22,
    "start_time": "2022-02-18T11:08:04.707Z"
   },
   {
    "duration": 591,
    "start_time": "2022-02-18T11:08:04.732Z"
   },
   {
    "duration": 74,
    "start_time": "2022-02-18T11:08:05.326Z"
   },
   {
    "duration": 6773,
    "start_time": "2022-02-18T11:08:07.675Z"
   },
   {
    "duration": 6213,
    "start_time": "2022-02-18T11:10:12.738Z"
   },
   {
    "duration": 6676,
    "start_time": "2022-02-18T11:12:21.129Z"
   },
   {
    "duration": 13,
    "start_time": "2022-02-18T11:15:34.351Z"
   },
   {
    "duration": 11,
    "start_time": "2022-02-18T11:15:51.854Z"
   },
   {
    "duration": 3,
    "start_time": "2022-02-18T11:19:36.484Z"
   },
   {
    "duration": 448,
    "start_time": "2022-02-18T11:23:17.416Z"
   },
   {
    "duration": 364,
    "start_time": "2022-02-18T11:25:02.854Z"
   },
   {
    "duration": 321,
    "start_time": "2022-02-18T11:25:13.701Z"
   },
   {
    "duration": -1090,
    "start_time": "2022-02-18T11:35:45.325Z"
   },
   {
    "duration": 56580,
    "start_time": "2022-02-18T11:35:45.688Z"
   },
   {
    "duration": 4039,
    "start_time": "2022-02-18T11:36:44.427Z"
   },
   {
    "duration": 347,
    "start_time": "2022-02-18T11:37:36.116Z"
   },
   {
    "duration": 1134,
    "start_time": "2022-02-18T11:39:21.480Z"
   },
   {
    "duration": 52991,
    "start_time": "2022-02-18T11:39:31.753Z"
   },
   {
    "duration": 6937,
    "start_time": "2022-02-18T11:42:12.074Z"
   },
   {
    "duration": 21,
    "start_time": "2022-02-18T11:42:41.910Z"
   },
   {
    "duration": 248,
    "start_time": "2022-02-18T11:42:49.702Z"
   },
   {
    "duration": 241,
    "start_time": "2022-02-18T11:49:05.792Z"
   },
   {
    "duration": 238,
    "start_time": "2022-02-18T11:50:13.280Z"
   },
   {
    "duration": 6,
    "start_time": "2022-02-18T11:51:22.538Z"
   },
   {
    "duration": 18,
    "start_time": "2022-02-18T11:51:32.926Z"
   },
   {
    "duration": 352,
    "start_time": "2022-02-18T11:53:12.578Z"
   },
   {
    "duration": 30,
    "start_time": "2022-02-18T11:53:37.533Z"
   },
   {
    "duration": 42,
    "start_time": "2022-02-18T11:55:58.502Z"
   },
   {
    "duration": 19895,
    "start_time": "2022-02-18T11:56:37.887Z"
   },
   {
    "duration": 292,
    "start_time": "2022-02-18T11:57:29.472Z"
   },
   {
    "duration": 304,
    "start_time": "2022-02-18T11:58:24.116Z"
   },
   {
    "duration": 71242,
    "start_time": "2022-02-18T11:58:40.395Z"
   },
   {
    "duration": 626,
    "start_time": "2022-02-18T11:59:52.271Z"
   },
   {
    "duration": 46,
    "start_time": "2022-02-18T12:00:26.268Z"
   },
   {
    "duration": 54,
    "start_time": "2022-02-18T12:03:22.272Z"
   },
   {
    "duration": 18,
    "start_time": "2022-02-18T12:04:07.242Z"
   },
   {
    "duration": -896,
    "start_time": "2022-02-18T12:06:31.869Z"
   },
   {
    "duration": 292,
    "start_time": "2022-02-18T12:07:25.710Z"
   },
   {
    "duration": 367,
    "start_time": "2022-02-18T12:08:03.811Z"
   },
   {
    "duration": 86302,
    "start_time": "2022-02-18T12:09:26.445Z"
   },
   {
    "duration": 52,
    "start_time": "2022-02-18T12:12:11.160Z"
   },
   {
    "duration": 57,
    "start_time": "2022-02-18T12:12:17.062Z"
   },
   {
    "duration": 60,
    "start_time": "2022-02-18T12:12:45.886Z"
   },
   {
    "duration": 92,
    "start_time": "2022-02-18T12:13:36.770Z"
   },
   {
    "duration": 62,
    "start_time": "2022-02-18T12:14:33.128Z"
   },
   {
    "duration": 346,
    "start_time": "2022-02-18T12:14:56.221Z"
   },
   {
    "duration": 355,
    "start_time": "2022-02-18T12:15:53.036Z"
   },
   {
    "duration": 33,
    "start_time": "2022-02-18T12:17:17.123Z"
   },
   {
    "duration": 35,
    "start_time": "2022-02-18T12:17:55.390Z"
   },
   {
    "duration": 274,
    "start_time": "2022-02-18T12:19:05.667Z"
   },
   {
    "duration": 190,
    "start_time": "2022-02-18T12:49:01.755Z"
   },
   {
    "duration": 25,
    "start_time": "2022-02-18T12:49:01.948Z"
   },
   {
    "duration": 9,
    "start_time": "2022-02-18T12:49:01.977Z"
   },
   {
    "duration": 78,
    "start_time": "2022-02-18T12:49:01.989Z"
   },
   {
    "duration": 11,
    "start_time": "2022-02-18T12:49:02.069Z"
   },
   {
    "duration": 1363,
    "start_time": "2022-02-18T12:49:02.083Z"
   },
   {
    "duration": 29,
    "start_time": "2022-02-18T12:49:03.449Z"
   },
   {
    "duration": 602,
    "start_time": "2022-02-18T12:49:03.481Z"
   },
   {
    "duration": 585,
    "start_time": "2022-02-18T12:49:04.087Z"
   },
   {
    "duration": 383,
    "start_time": "2022-02-18T12:49:04.675Z"
   },
   {
    "duration": 356,
    "start_time": "2022-02-18T12:49:05.061Z"
   },
   {
    "duration": 796,
    "start_time": "2022-02-18T12:49:05.419Z"
   },
   {
    "duration": 12,
    "start_time": "2022-02-18T12:49:06.218Z"
   },
   {
    "duration": 20,
    "start_time": "2022-02-18T12:49:06.233Z"
   },
   {
    "duration": 37,
    "start_time": "2022-02-18T12:49:06.257Z"
   },
   {
    "duration": 614,
    "start_time": "2022-02-18T12:49:06.296Z"
   },
   {
    "duration": 90,
    "start_time": "2022-02-18T12:49:06.913Z"
   },
   {
    "duration": 6832,
    "start_time": "2022-02-18T12:49:07.006Z"
   },
   {
    "duration": 322,
    "start_time": "2022-02-18T12:49:13.841Z"
   },
   {
    "duration": 1417,
    "start_time": "2022-02-18T12:51:38.435Z"
   },
   {
    "duration": 1332,
    "start_time": "2022-02-18T12:51:52.886Z"
   },
   {
    "duration": 178,
    "start_time": "2022-02-18T12:52:10.090Z"
   },
   {
    "duration": 27,
    "start_time": "2022-02-18T12:52:10.271Z"
   },
   {
    "duration": 10,
    "start_time": "2022-02-18T12:52:10.326Z"
   },
   {
    "duration": 92,
    "start_time": "2022-02-18T12:52:10.339Z"
   },
   {
    "duration": 11,
    "start_time": "2022-02-18T12:52:10.434Z"
   },
   {
    "duration": 1298,
    "start_time": "2022-02-18T12:52:10.448Z"
   },
   {
    "duration": 26,
    "start_time": "2022-02-18T12:52:11.748Z"
   },
   {
    "duration": 613,
    "start_time": "2022-02-18T12:52:11.777Z"
   },
   {
    "duration": 462,
    "start_time": "2022-02-18T12:52:12.395Z"
   },
   {
    "duration": 333,
    "start_time": "2022-02-18T12:52:12.860Z"
   },
   {
    "duration": 362,
    "start_time": "2022-02-18T12:52:13.195Z"
   },
   {
    "duration": 726,
    "start_time": "2022-02-18T12:52:13.559Z"
   },
   {
    "duration": 6,
    "start_time": "2022-02-18T12:52:14.287Z"
   },
   {
    "duration": 33,
    "start_time": "2022-02-18T12:52:14.295Z"
   },
   {
    "duration": 13,
    "start_time": "2022-02-18T12:52:14.330Z"
   },
   {
    "duration": 605,
    "start_time": "2022-02-18T12:52:14.346Z"
   },
   {
    "duration": 95,
    "start_time": "2022-02-18T12:52:14.953Z"
   },
   {
    "duration": 6489,
    "start_time": "2022-02-18T12:52:15.051Z"
   },
   {
    "duration": 317,
    "start_time": "2022-02-18T12:52:21.543Z"
   },
   {
    "duration": 730,
    "start_time": "2022-02-18T17:32:40.594Z"
   },
   {
    "duration": 33,
    "start_time": "2022-02-18T17:32:41.326Z"
   },
   {
    "duration": 7,
    "start_time": "2022-02-18T17:32:41.362Z"
   },
   {
    "duration": 44,
    "start_time": "2022-02-18T17:32:41.372Z"
   },
   {
    "duration": 8,
    "start_time": "2022-02-18T17:32:41.418Z"
   },
   {
    "duration": 810,
    "start_time": "2022-02-18T17:32:41.428Z"
   },
   {
    "duration": 23,
    "start_time": "2022-02-18T17:32:42.240Z"
   },
   {
    "duration": 367,
    "start_time": "2022-02-18T17:32:42.266Z"
   },
   {
    "duration": 284,
    "start_time": "2022-02-18T17:32:42.636Z"
   },
   {
    "duration": 202,
    "start_time": "2022-02-18T17:32:42.922Z"
   },
   {
    "duration": 223,
    "start_time": "2022-02-18T17:32:43.126Z"
   },
   {
    "duration": 381,
    "start_time": "2022-02-18T17:32:43.359Z"
   },
   {
    "duration": 6,
    "start_time": "2022-02-18T17:32:43.742Z"
   },
   {
    "duration": 17,
    "start_time": "2022-02-18T17:32:43.749Z"
   },
   {
    "duration": 12,
    "start_time": "2022-02-18T17:32:43.768Z"
   },
   {
    "duration": 356,
    "start_time": "2022-02-18T17:32:43.782Z"
   },
   {
    "duration": 56,
    "start_time": "2022-02-18T17:32:44.140Z"
   },
   {
    "duration": 4172,
    "start_time": "2022-02-18T17:32:44.198Z"
   },
   {
    "duration": 181,
    "start_time": "2022-02-18T17:32:48.372Z"
   },
   {
    "duration": 6,
    "start_time": "2022-02-18T17:35:21.573Z"
   },
   {
    "duration": 10,
    "start_time": "2022-02-18T17:37:06.647Z"
   },
   {
    "duration": 116,
    "start_time": "2022-02-18T17:37:25.967Z"
   },
   {
    "duration": 10,
    "start_time": "2022-02-18T17:37:29.474Z"
   },
   {
    "duration": 6,
    "start_time": "2022-02-18T17:38:08.860Z"
   },
   {
    "duration": 691,
    "start_time": "2022-02-18T17:38:42.216Z"
   },
   {
    "duration": 22,
    "start_time": "2022-02-18T17:38:42.909Z"
   },
   {
    "duration": 6,
    "start_time": "2022-02-18T17:38:42.933Z"
   },
   {
    "duration": 59,
    "start_time": "2022-02-18T17:38:42.941Z"
   },
   {
    "duration": 6,
    "start_time": "2022-02-18T17:38:43.002Z"
   },
   {
    "duration": 830,
    "start_time": "2022-02-18T17:38:43.010Z"
   },
   {
    "duration": 20,
    "start_time": "2022-02-18T17:38:43.842Z"
   },
   {
    "duration": 339,
    "start_time": "2022-02-18T17:38:43.863Z"
   },
   {
    "duration": 261,
    "start_time": "2022-02-18T17:38:44.205Z"
   },
   {
    "duration": 193,
    "start_time": "2022-02-18T17:38:44.468Z"
   },
   {
    "duration": 216,
    "start_time": "2022-02-18T17:38:44.662Z"
   },
   {
    "duration": 367,
    "start_time": "2022-02-18T17:38:44.880Z"
   },
   {
    "duration": 4,
    "start_time": "2022-02-18T17:38:45.249Z"
   },
   {
    "duration": 10,
    "start_time": "2022-02-18T17:38:45.255Z"
   },
   {
    "duration": 9,
    "start_time": "2022-02-18T17:38:45.266Z"
   },
   {
    "duration": 347,
    "start_time": "2022-02-18T17:38:45.277Z"
   },
   {
    "duration": 48,
    "start_time": "2022-02-18T17:38:45.625Z"
   },
   {
    "duration": 4190,
    "start_time": "2022-02-18T17:38:45.675Z"
   },
   {
    "duration": 190,
    "start_time": "2022-02-18T17:38:49.867Z"
   },
   {
    "duration": 6,
    "start_time": "2022-02-18T17:40:19.205Z"
   },
   {
    "duration": 9,
    "start_time": "2022-02-18T17:41:47.176Z"
   },
   {
    "duration": 378,
    "start_time": "2022-02-18T17:43:07.028Z"
   },
   {
    "duration": 7,
    "start_time": "2022-02-18T17:46:52.192Z"
   },
   {
    "duration": 6,
    "start_time": "2022-02-18T17:46:57.322Z"
   },
   {
    "duration": 7,
    "start_time": "2022-02-18T17:47:01.886Z"
   },
   {
    "duration": 6,
    "start_time": "2022-02-18T17:47:06.110Z"
   },
   {
    "duration": 8,
    "start_time": "2022-02-18T17:47:10.588Z"
   },
   {
    "duration": 8,
    "start_time": "2022-02-18T17:47:17.304Z"
   },
   {
    "duration": 14,
    "start_time": "2022-02-18T17:50:43.403Z"
   },
   {
    "duration": 241,
    "start_time": "2022-02-18T17:52:06.081Z"
   },
   {
    "duration": 25,
    "start_time": "2022-02-18T17:58:11.912Z"
   },
   {
    "duration": 64,
    "start_time": "2022-02-18T17:58:21.807Z"
   },
   {
    "duration": 7,
    "start_time": "2022-02-18T17:58:51.080Z"
   },
   {
    "duration": 23,
    "start_time": "2022-02-18T17:59:10.444Z"
   },
   {
    "duration": 11,
    "start_time": "2022-02-18T18:00:33.596Z"
   },
   {
    "duration": 16,
    "start_time": "2022-02-18T18:00:37.741Z"
   },
   {
    "duration": 150,
    "start_time": "2022-02-18T18:01:43.862Z"
   },
   {
    "duration": 24,
    "start_time": "2022-02-18T18:01:44.013Z"
   },
   {
    "duration": 25,
    "start_time": "2022-02-18T18:01:44.040Z"
   },
   {
    "duration": 11,
    "start_time": "2022-02-18T18:01:44.067Z"
   },
   {
    "duration": 39,
    "start_time": "2022-02-18T18:01:44.080Z"
   },
   {
    "duration": 7,
    "start_time": "2022-02-18T18:01:44.120Z"
   },
   {
    "duration": 927,
    "start_time": "2022-02-18T18:01:44.160Z"
   },
   {
    "duration": 23,
    "start_time": "2022-02-18T18:03:11.447Z"
   },
   {
    "duration": 380,
    "start_time": "2022-02-18T18:03:13.787Z"
   },
   {
    "duration": 294,
    "start_time": "2022-02-18T18:03:18.095Z"
   },
   {
    "duration": 260,
    "start_time": "2022-02-18T18:03:20.475Z"
   },
   {
    "duration": 220,
    "start_time": "2022-02-18T18:03:21.947Z"
   },
   {
    "duration": 357,
    "start_time": "2022-02-18T18:03:27.371Z"
   },
   {
    "duration": 4,
    "start_time": "2022-02-18T18:03:35.575Z"
   },
   {
    "duration": 9,
    "start_time": "2022-02-18T18:03:38.431Z"
   },
   {
    "duration": 11,
    "start_time": "2022-02-18T18:03:46.628Z"
   },
   {
    "duration": 356,
    "start_time": "2022-02-18T18:03:48.669Z"
   },
   {
    "duration": 14,
    "start_time": "2022-02-18T18:03:55.623Z"
   },
   {
    "duration": 8,
    "start_time": "2022-02-18T18:04:32.828Z"
   },
   {
    "duration": 7,
    "start_time": "2022-02-18T18:06:59.216Z"
   },
   {
    "duration": 10,
    "start_time": "2022-02-18T18:07:04.631Z"
   },
   {
    "duration": 9,
    "start_time": "2022-02-18T18:07:25.926Z"
   },
   {
    "duration": 197,
    "start_time": "2022-02-18T18:08:26.441Z"
   },
   {
    "duration": 388,
    "start_time": "2022-02-18T18:08:33.406Z"
   },
   {
    "duration": 13,
    "start_time": "2022-02-18T18:08:52.554Z"
   },
   {
    "duration": 7,
    "start_time": "2022-02-18T18:09:06.380Z"
   },
   {
    "duration": 36,
    "start_time": "2022-02-18T18:10:19.662Z"
   },
   {
    "duration": 35,
    "start_time": "2022-02-18T18:10:37.394Z"
   },
   {
    "duration": 44,
    "start_time": "2022-02-18T18:10:46.871Z"
   },
   {
    "duration": 40,
    "start_time": "2022-02-18T18:12:00.212Z"
   },
   {
    "duration": 242,
    "start_time": "2022-02-18T18:13:13.421Z"
   },
   {
    "duration": 273,
    "start_time": "2022-02-18T18:14:27.380Z"
   },
   {
    "duration": 268,
    "start_time": "2022-02-18T18:14:35.723Z"
   },
   {
    "duration": 268,
    "start_time": "2022-02-18T18:15:15.245Z"
   },
   {
    "duration": 268,
    "start_time": "2022-02-18T18:15:24.148Z"
   },
   {
    "duration": 37,
    "start_time": "2022-02-18T18:15:31.329Z"
   },
   {
    "duration": 36,
    "start_time": "2022-02-18T18:15:35.231Z"
   },
   {
    "duration": 39,
    "start_time": "2022-02-18T18:16:01.009Z"
   },
   {
    "duration": 261,
    "start_time": "2022-02-18T18:16:08.329Z"
   },
   {
    "duration": 41,
    "start_time": "2022-02-18T18:17:08.212Z"
   },
   {
    "duration": 242,
    "start_time": "2022-02-18T18:17:43.564Z"
   },
   {
    "duration": 115,
    "start_time": "2022-02-18T18:18:51.319Z"
   },
   {
    "duration": 30,
    "start_time": "2022-02-18T18:18:51.435Z"
   },
   {
    "duration": 7,
    "start_time": "2022-02-18T18:18:51.467Z"
   },
   {
    "duration": 37,
    "start_time": "2022-02-18T18:18:51.476Z"
   },
   {
    "duration": 6,
    "start_time": "2022-02-18T18:18:51.514Z"
   },
   {
    "duration": 911,
    "start_time": "2022-02-18T18:18:51.522Z"
   },
   {
    "duration": 25,
    "start_time": "2022-02-18T18:18:52.435Z"
   },
   {
    "duration": 366,
    "start_time": "2022-02-18T18:18:52.462Z"
   },
   {
    "duration": 280,
    "start_time": "2022-02-18T18:18:52.831Z"
   },
   {
    "duration": 205,
    "start_time": "2022-02-18T18:18:53.113Z"
   },
   {
    "duration": 221,
    "start_time": "2022-02-18T18:18:53.319Z"
   },
   {
    "duration": 364,
    "start_time": "2022-02-18T18:18:59.900Z"
   },
   {
    "duration": 5,
    "start_time": "2022-02-18T18:19:03.136Z"
   },
   {
    "duration": 8,
    "start_time": "2022-02-18T18:19:05.429Z"
   },
   {
    "duration": 11,
    "start_time": "2022-02-18T18:19:11.565Z"
   },
   {
    "duration": 9,
    "start_time": "2022-02-18T18:19:20.827Z"
   },
   {
    "duration": 248,
    "start_time": "2022-02-18T18:19:23.446Z"
   },
   {
    "duration": 11,
    "start_time": "2022-02-18T18:20:30.794Z"
   },
   {
    "duration": 251,
    "start_time": "2022-02-18T18:20:45.985Z"
   },
   {
    "duration": 251,
    "start_time": "2022-02-18T18:21:03.033Z"
   },
   {
    "duration": 53,
    "start_time": "2022-02-18T18:21:34.151Z"
   },
   {
    "duration": 3836,
    "start_time": "2022-02-18T18:22:33.792Z"
   },
   {
    "duration": 212,
    "start_time": "2022-02-18T18:22:44.149Z"
   },
   {
    "duration": 197,
    "start_time": "2022-02-18T18:25:25.406Z"
   },
   {
    "duration": 5,
    "start_time": "2022-02-18T18:25:29.730Z"
   },
   {
    "duration": 13,
    "start_time": "2022-02-18T18:25:39.570Z"
   },
   {
    "duration": 13,
    "start_time": "2022-02-18T18:26:45.812Z"
   },
   {
    "duration": 17,
    "start_time": "2022-02-18T18:27:41.959Z"
   },
   {
    "duration": 16,
    "start_time": "2022-02-18T18:27:52.899Z"
   },
   {
    "duration": 17,
    "start_time": "2022-02-18T18:28:31.001Z"
   },
   {
    "duration": 17,
    "start_time": "2022-02-18T18:28:38.423Z"
   },
   {
    "duration": 16,
    "start_time": "2022-02-18T18:28:43.601Z"
   },
   {
    "duration": 220,
    "start_time": "2022-02-18T18:29:06.342Z"
   },
   {
    "duration": 27,
    "start_time": "2022-02-18T18:29:23.621Z"
   },
   {
    "duration": 16,
    "start_time": "2022-02-18T18:31:03.754Z"
   },
   {
    "duration": 205,
    "start_time": "2022-02-18T18:31:21.453Z"
   },
   {
    "duration": 349,
    "start_time": "2022-02-18T18:31:53.310Z"
   },
   {
    "duration": 354,
    "start_time": "2022-02-18T18:32:07.100Z"
   },
   {
    "duration": 362,
    "start_time": "2022-02-18T18:32:46.030Z"
   },
   {
    "duration": 197,
    "start_time": "2022-02-18T18:32:53.754Z"
   },
   {
    "duration": 196,
    "start_time": "2022-02-18T18:32:59.170Z"
   },
   {
    "duration": 189,
    "start_time": "2022-02-18T18:34:02.526Z"
   },
   {
    "duration": 196,
    "start_time": "2022-02-18T18:34:07.108Z"
   },
   {
    "duration": 352,
    "start_time": "2022-02-18T18:34:26.770Z"
   },
   {
    "duration": 195,
    "start_time": "2022-02-18T18:34:31.408Z"
   },
   {
    "duration": 176,
    "start_time": "2022-02-18T18:37:53.910Z"
   },
   {
    "duration": 173,
    "start_time": "2022-02-18T18:38:28.532Z"
   },
   {
    "duration": 196,
    "start_time": "2022-02-18T18:38:35.043Z"
   },
   {
    "duration": 196,
    "start_time": "2022-02-18T18:38:46.861Z"
   },
   {
    "duration": 179,
    "start_time": "2022-02-18T18:39:03.290Z"
   },
   {
    "duration": 166,
    "start_time": "2022-02-18T18:39:34.277Z"
   },
   {
    "duration": 172,
    "start_time": "2022-02-18T18:40:06.248Z"
   },
   {
    "duration": 332,
    "start_time": "2022-02-18T18:42:57.788Z"
   },
   {
    "duration": 365,
    "start_time": "2022-02-18T18:43:34.398Z"
   },
   {
    "duration": 203,
    "start_time": "2022-02-18T18:46:11.357Z"
   },
   {
    "duration": 183,
    "start_time": "2022-02-18T18:46:24.120Z"
   },
   {
    "duration": 177,
    "start_time": "2022-02-18T18:46:31.948Z"
   },
   {
    "duration": 3915,
    "start_time": "2022-02-18T18:46:43.785Z"
   },
   {
    "duration": 188,
    "start_time": "2022-02-18T18:47:18.953Z"
   },
   {
    "duration": 180,
    "start_time": "2022-02-18T18:54:08.067Z"
   },
   {
    "duration": 784,
    "start_time": "2022-02-18T18:54:16.677Z"
   },
   {
    "duration": 776,
    "start_time": "2022-02-18T18:54:43.148Z"
   },
   {
    "duration": 777,
    "start_time": "2022-02-18T18:54:49.163Z"
   },
   {
    "duration": 790,
    "start_time": "2022-02-18T18:56:08.231Z"
   },
   {
    "duration": 805,
    "start_time": "2022-02-18T18:56:14.092Z"
   },
   {
    "duration": 784,
    "start_time": "2022-02-18T18:56:20.636Z"
   },
   {
    "duration": 787,
    "start_time": "2022-02-18T18:56:27.791Z"
   },
   {
    "duration": 80,
    "start_time": "2022-02-18T18:58:11.924Z"
   },
   {
    "duration": 5504,
    "start_time": "2022-02-18T18:58:21.559Z"
   },
   {
    "duration": 795,
    "start_time": "2022-02-18T18:58:52.731Z"
   },
   {
    "duration": 811,
    "start_time": "2022-02-18T19:10:03.239Z"
   },
   {
    "duration": 841,
    "start_time": "2022-02-18T19:13:03.903Z"
   },
   {
    "duration": 4490,
    "start_time": "2022-02-18T19:13:30.732Z"
   },
   {
    "duration": 196,
    "start_time": "2022-02-18T19:13:50.375Z"
   },
   {
    "duration": 195,
    "start_time": "2022-02-18T19:14:08.174Z"
   },
   {
    "duration": 599,
    "start_time": "2022-02-18T19:14:40.945Z"
   },
   {
    "duration": 784,
    "start_time": "2022-02-18T19:14:54.483Z"
   },
   {
    "duration": 771,
    "start_time": "2022-02-18T19:20:03.698Z"
   },
   {
    "duration": 4542,
    "start_time": "2022-02-18T19:20:51.022Z"
   },
   {
    "duration": 818,
    "start_time": "2022-02-18T19:21:29.447Z"
   },
   {
    "duration": 1102,
    "start_time": "2022-02-19T09:29:44.993Z"
   },
   {
    "duration": 39,
    "start_time": "2022-02-19T09:29:46.098Z"
   },
   {
    "duration": 9,
    "start_time": "2022-02-19T09:29:46.139Z"
   },
   {
    "duration": 83,
    "start_time": "2022-02-19T09:29:46.152Z"
   },
   {
    "duration": 9,
    "start_time": "2022-02-19T09:29:46.238Z"
   },
   {
    "duration": 1285,
    "start_time": "2022-02-19T09:29:46.249Z"
   },
   {
    "duration": 26,
    "start_time": "2022-02-19T09:29:47.537Z"
   },
   {
    "duration": 618,
    "start_time": "2022-02-19T09:29:47.567Z"
   },
   {
    "duration": 448,
    "start_time": "2022-02-19T09:29:48.188Z"
   },
   {
    "duration": 317,
    "start_time": "2022-02-19T09:29:48.639Z"
   },
   {
    "duration": 356,
    "start_time": "2022-02-19T09:29:48.959Z"
   },
   {
    "duration": 557,
    "start_time": "2022-02-19T09:29:49.318Z"
   },
   {
    "duration": 5,
    "start_time": "2022-02-19T09:29:49.878Z"
   },
   {
    "duration": 31,
    "start_time": "2022-02-19T09:29:49.886Z"
   },
   {
    "duration": 13,
    "start_time": "2022-02-19T09:29:49.920Z"
   },
   {
    "duration": 408,
    "start_time": "2022-02-19T09:29:49.936Z"
   },
   {
    "duration": 16,
    "start_time": "2022-02-19T09:29:50.347Z"
   },
   {
    "duration": 509,
    "start_time": "2022-02-19T09:29:50.365Z"
   },
   {
    "duration": 88,
    "start_time": "2022-02-19T09:29:50.876Z"
   },
   {
    "duration": 6502,
    "start_time": "2022-02-19T09:29:50.968Z"
   },
   {
    "duration": 289,
    "start_time": "2022-02-19T09:29:57.474Z"
   },
   {
    "duration": 304,
    "start_time": "2022-02-19T09:29:57.766Z"
   },
   {
    "duration": 1339,
    "start_time": "2022-02-19T09:29:58.074Z"
   },
   {
    "duration": 7,
    "start_time": "2022-02-19T09:33:56.128Z"
   },
   {
    "duration": 70,
    "start_time": "2022-02-19T09:34:21.480Z"
   },
   {
    "duration": 7,
    "start_time": "2022-02-19T09:34:54.010Z"
   },
   {
    "duration": 4,
    "start_time": "2022-02-19T09:35:25.875Z"
   },
   {
    "duration": 10,
    "start_time": "2022-02-19T09:36:30.487Z"
   },
   {
    "duration": 9,
    "start_time": "2022-02-19T09:36:41.615Z"
   },
   {
    "duration": 633,
    "start_time": "2022-02-19T09:47:43.042Z"
   },
   {
    "duration": 68,
    "start_time": "2022-02-19T09:48:10.492Z"
   },
   {
    "duration": 21,
    "start_time": "2022-02-19T09:48:45.273Z"
   },
   {
    "duration": 25,
    "start_time": "2022-02-19T09:50:05.354Z"
   },
   {
    "duration": 15,
    "start_time": "2022-02-19T09:50:45.211Z"
   },
   {
    "duration": 16,
    "start_time": "2022-02-19T09:51:13.438Z"
   },
   {
    "duration": 176,
    "start_time": "2022-02-19T09:51:31.962Z"
   },
   {
    "duration": 15,
    "start_time": "2022-02-19T09:51:54.257Z"
   },
   {
    "duration": 14,
    "start_time": "2022-02-19T09:54:20.223Z"
   },
   {
    "duration": 25,
    "start_time": "2022-02-19T09:55:59.921Z"
   },
   {
    "duration": 97,
    "start_time": "2022-02-19T10:04:31.817Z"
   },
   {
    "duration": 14,
    "start_time": "2022-02-19T10:19:10.255Z"
   },
   {
    "duration": 12,
    "start_time": "2022-02-19T10:25:20.703Z"
   },
   {
    "duration": 402,
    "start_time": "2022-02-19T10:26:39.337Z"
   },
   {
    "duration": 387,
    "start_time": "2022-02-19T10:29:27.198Z"
   },
   {
    "duration": 23300,
    "start_time": "2022-02-19T10:31:09.695Z"
   },
   {
    "duration": 657,
    "start_time": "2022-02-19T10:31:38.008Z"
   },
   {
    "duration": 586,
    "start_time": "2022-02-19T10:32:04.034Z"
   },
   {
    "duration": 746,
    "start_time": "2022-02-19T10:32:17.216Z"
   },
   {
    "duration": 354,
    "start_time": "2022-02-19T10:32:23.449Z"
   },
   {
    "duration": 466,
    "start_time": "2022-02-19T10:36:35.529Z"
   },
   {
    "duration": 415,
    "start_time": "2022-02-19T10:36:43.072Z"
   },
   {
    "duration": 11,
    "start_time": "2022-02-19T10:37:30.360Z"
   },
   {
    "duration": 471,
    "start_time": "2022-02-19T10:38:45.844Z"
   },
   {
    "duration": 380,
    "start_time": "2022-02-19T10:38:53.168Z"
   },
   {
    "duration": 439,
    "start_time": "2022-02-19T10:38:57.555Z"
   },
   {
    "duration": 363,
    "start_time": "2022-02-19T10:39:07.862Z"
   },
   {
    "duration": 533,
    "start_time": "2022-02-19T10:39:13.604Z"
   },
   {
    "duration": 374,
    "start_time": "2022-02-19T10:39:20.651Z"
   },
   {
    "duration": 345,
    "start_time": "2022-02-19T10:39:28.932Z"
   },
   {
    "duration": 339,
    "start_time": "2022-02-19T10:41:46.843Z"
   },
   {
    "duration": 26,
    "start_time": "2022-02-19T10:41:47.186Z"
   },
   {
    "duration": 419,
    "start_time": "2022-02-19T10:48:19.898Z"
   },
   {
    "duration": 14,
    "start_time": "2022-02-19T10:48:21.311Z"
   },
   {
    "duration": 443,
    "start_time": "2022-02-19T10:50:57.019Z"
   },
   {
    "duration": 391,
    "start_time": "2022-02-19T10:52:37.402Z"
   },
   {
    "duration": 12,
    "start_time": "2022-02-19T10:52:45.719Z"
   },
   {
    "duration": 10,
    "start_time": "2022-02-19T10:53:02.634Z"
   },
   {
    "duration": 66,
    "start_time": "2022-02-19T10:55:18.794Z"
   },
   {
    "duration": 14,
    "start_time": "2022-02-19T10:55:40.393Z"
   },
   {
    "duration": 10,
    "start_time": "2022-02-19T10:58:20.336Z"
   },
   {
    "duration": 21,
    "start_time": "2022-02-19T10:58:35.368Z"
   },
   {
    "duration": 10,
    "start_time": "2022-02-19T10:58:56.364Z"
   },
   {
    "duration": 61,
    "start_time": "2022-02-19T10:59:10.740Z"
   },
   {
    "duration": 15,
    "start_time": "2022-02-19T11:04:08.438Z"
   },
   {
    "duration": 21,
    "start_time": "2022-02-19T11:06:39.394Z"
   },
   {
    "duration": 17,
    "start_time": "2022-02-19T11:07:40.458Z"
   },
   {
    "duration": 24,
    "start_time": "2022-02-19T11:07:43.464Z"
   },
   {
    "duration": 18,
    "start_time": "2022-02-19T11:08:14.437Z"
   },
   {
    "duration": 23,
    "start_time": "2022-02-19T11:08:17.279Z"
   },
   {
    "duration": 28,
    "start_time": "2022-02-19T11:08:52.549Z"
   },
   {
    "duration": 25,
    "start_time": "2022-02-19T11:09:02.299Z"
   },
   {
    "duration": 29,
    "start_time": "2022-02-19T11:09:06.130Z"
   },
   {
    "duration": 26,
    "start_time": "2022-02-19T11:09:09.185Z"
   },
   {
    "duration": 17,
    "start_time": "2022-02-19T11:10:13.389Z"
   },
   {
    "duration": 21,
    "start_time": "2022-02-19T11:10:21.772Z"
   },
   {
    "duration": 399,
    "start_time": "2022-02-19T11:12:12.416Z"
   },
   {
    "duration": 337,
    "start_time": "2022-02-19T11:12:38.338Z"
   },
   {
    "duration": 362,
    "start_time": "2022-02-19T11:12:45.562Z"
   },
   {
    "duration": 328,
    "start_time": "2022-02-19T11:12:48.628Z"
   },
   {
    "duration": 350,
    "start_time": "2022-02-19T11:12:52.493Z"
   },
   {
    "duration": 422,
    "start_time": "2022-02-19T11:12:57.058Z"
   },
   {
    "duration": 395,
    "start_time": "2022-02-19T11:14:43.896Z"
   },
   {
    "duration": 684,
    "start_time": "2022-02-19T11:14:53.180Z"
   },
   {
    "duration": 16,
    "start_time": "2022-02-19T11:15:45.956Z"
   },
   {
    "duration": 20,
    "start_time": "2022-02-19T11:17:16.288Z"
   },
   {
    "duration": 20,
    "start_time": "2022-02-19T11:19:16.091Z"
   },
   {
    "duration": 394,
    "start_time": "2022-02-19T11:20:27.354Z"
   },
   {
    "duration": 400,
    "start_time": "2022-02-19T11:20:42.202Z"
   },
   {
    "duration": 20,
    "start_time": "2022-02-19T11:21:01.164Z"
   },
   {
    "duration": 18,
    "start_time": "2022-02-19T11:21:39.328Z"
   },
   {
    "duration": 297,
    "start_time": "2022-02-19T11:23:53.880Z"
   },
   {
    "duration": 325,
    "start_time": "2022-02-19T11:24:10.493Z"
   },
   {
    "duration": 392,
    "start_time": "2022-02-19T11:24:39.500Z"
   },
   {
    "duration": 412,
    "start_time": "2022-02-19T11:24:52.604Z"
   },
   {
    "duration": 316,
    "start_time": "2022-02-19T11:25:07.468Z"
   },
   {
    "duration": 310,
    "start_time": "2022-02-19T11:25:52.624Z"
   },
   {
    "duration": 308,
    "start_time": "2022-02-19T11:26:04.966Z"
   },
   {
    "duration": 395,
    "start_time": "2022-02-19T11:26:34.269Z"
   },
   {
    "duration": 433,
    "start_time": "2022-02-19T11:26:44.219Z"
   },
   {
    "duration": 129,
    "start_time": "2022-02-19T11:29:02.807Z"
   },
   {
    "duration": 443,
    "start_time": "2022-02-19T11:29:12.352Z"
   },
   {
    "duration": 411,
    "start_time": "2022-02-19T11:29:21.682Z"
   },
   {
    "duration": 459,
    "start_time": "2022-02-19T11:29:36.688Z"
   },
   {
    "duration": 9,
    "start_time": "2022-02-19T11:31:22.627Z"
   },
   {
    "duration": 66,
    "start_time": "2022-02-19T11:31:35.689Z"
   },
   {
    "duration": 61,
    "start_time": "2022-02-19T11:31:49.128Z"
   },
   {
    "duration": 9,
    "start_time": "2022-02-19T11:32:49.495Z"
   },
   {
    "duration": 16,
    "start_time": "2022-02-19T11:33:50.312Z"
   },
   {
    "duration": 17,
    "start_time": "2022-02-19T11:34:21.288Z"
   },
   {
    "duration": 30,
    "start_time": "2022-02-19T11:35:50.590Z"
   },
   {
    "duration": 3023,
    "start_time": "2022-02-19T11:37:43.965Z"
   },
   {
    "duration": 1453,
    "start_time": "2022-02-19T11:40:14.942Z"
   },
   {
    "duration": 2871,
    "start_time": "2022-02-19T11:43:44.450Z"
   },
   {
    "duration": 399,
    "start_time": "2022-02-19T11:44:33.516Z"
   },
   {
    "duration": 3137,
    "start_time": "2022-02-19T11:45:03.021Z"
   },
   {
    "duration": 2667,
    "start_time": "2022-02-19T11:54:10.002Z"
   },
   {
    "duration": 2576,
    "start_time": "2022-02-19T11:54:14.825Z"
   }
  ],
  "kernelspec": {
   "display_name": "Python 3 (ipykernel)",
   "language": "python",
   "name": "python3"
  },
  "language_info": {
   "codemirror_mode": {
    "name": "ipython",
    "version": 3
   },
   "file_extension": ".py",
   "mimetype": "text/x-python",
   "name": "python",
   "nbconvert_exporter": "python",
   "pygments_lexer": "ipython3",
   "version": "3.9.5"
  },
  "toc": {
   "base_numbering": 1,
   "nav_menu": {},
   "number_sections": true,
   "sideBar": true,
   "skip_h1_title": true,
   "title_cell": "Содержание",
   "title_sidebar": "Contents",
   "toc_cell": true,
   "toc_position": {
    "height": "calc(100% - 180px)",
    "left": "10px",
    "top": "150px",
    "width": "219.594px"
   },
   "toc_section_display": true,
   "toc_window_display": true
  }
 },
 "nbformat": 4,
 "nbformat_minor": 4
}
