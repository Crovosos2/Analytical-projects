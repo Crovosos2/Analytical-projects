{
 "cells": [
  {
   "cell_type": "markdown",
   "metadata": {
    "id": "VUC88oWjTJw2"
   },
   "source": [
    "**Цель исследования** — проверьте три гипотезы:\n",
    "1. Активность пользователей зависит от дня недели. Причём в Москве и Петербурге это проявляется по-разному.\n",
    "2. В понедельник утром в Москве преобладают одни жанры, а в Петербурге — другие. Так же и вечером пятницы преобладают разные жанры — в зависимости от города. \n",
    "3. Москва и Петербург предпочитают разные жанры музыки. В Москве чаще слушают поп-музыку, в Петербурге — русский рэп.\n",
    "\n",
    "**Ход исследования**\n",
    "\n",
    "Данные о поведении пользователей вы получите из файла `yandex_music_project.csv`. О качестве данных ничего не известно. "
   ]
  },
  {
   "cell_type": "markdown",
   "metadata": {
    "id": "Ml1hmfXC_Zcs"
   },
   "source": [
    "## Обзор данных\n"
   ]
  },
  {
   "cell_type": "code",
   "execution_count": 1,
   "metadata": {
    "id": "AXN7PHPN_Zcs"
   },
   "outputs": [],
   "source": [
    "import pandas as pd"
   ]
  },
  {
   "cell_type": "code",
   "execution_count": 2,
   "metadata": {
    "id": "fFVu7vqh_Zct"
   },
   "outputs": [],
   "source": [
    "df = pd.read_csv('/datasets/yandex_music_project.csv')"
   ]
  },
  {
   "cell_type": "code",
   "execution_count": 3,
   "metadata": {
    "id": "oWTVX3gW_Zct"
   },
   "outputs": [
    {
     "data": {
      "text/html": [
       "<div>\n",
       "<style scoped>\n",
       "    .dataframe tbody tr th:only-of-type {\n",
       "        vertical-align: middle;\n",
       "    }\n",
       "\n",
       "    .dataframe tbody tr th {\n",
       "        vertical-align: top;\n",
       "    }\n",
       "\n",
       "    .dataframe thead th {\n",
       "        text-align: right;\n",
       "    }\n",
       "</style>\n",
       "<table border=\"1\" class=\"dataframe\">\n",
       "  <thead>\n",
       "    <tr style=\"text-align: right;\">\n",
       "      <th></th>\n",
       "      <th>userID</th>\n",
       "      <th>Track</th>\n",
       "      <th>artist</th>\n",
       "      <th>genre</th>\n",
       "      <th>City</th>\n",
       "      <th>time</th>\n",
       "      <th>Day</th>\n",
       "    </tr>\n",
       "  </thead>\n",
       "  <tbody>\n",
       "    <tr>\n",
       "      <td>0</td>\n",
       "      <td>FFB692EC</td>\n",
       "      <td>Kamigata To Boots</td>\n",
       "      <td>The Mass Missile</td>\n",
       "      <td>rock</td>\n",
       "      <td>Saint-Petersburg</td>\n",
       "      <td>20:28:33</td>\n",
       "      <td>Wednesday</td>\n",
       "    </tr>\n",
       "    <tr>\n",
       "      <td>1</td>\n",
       "      <td>55204538</td>\n",
       "      <td>Delayed Because of Accident</td>\n",
       "      <td>Andreas Rönnberg</td>\n",
       "      <td>rock</td>\n",
       "      <td>Moscow</td>\n",
       "      <td>14:07:09</td>\n",
       "      <td>Friday</td>\n",
       "    </tr>\n",
       "    <tr>\n",
       "      <td>2</td>\n",
       "      <td>20EC38</td>\n",
       "      <td>Funiculì funiculà</td>\n",
       "      <td>Mario Lanza</td>\n",
       "      <td>pop</td>\n",
       "      <td>Saint-Petersburg</td>\n",
       "      <td>20:58:07</td>\n",
       "      <td>Wednesday</td>\n",
       "    </tr>\n",
       "    <tr>\n",
       "      <td>3</td>\n",
       "      <td>A3DD03C9</td>\n",
       "      <td>Dragons in the Sunset</td>\n",
       "      <td>Fire + Ice</td>\n",
       "      <td>folk</td>\n",
       "      <td>Saint-Petersburg</td>\n",
       "      <td>08:37:09</td>\n",
       "      <td>Monday</td>\n",
       "    </tr>\n",
       "    <tr>\n",
       "      <td>4</td>\n",
       "      <td>E2DC1FAE</td>\n",
       "      <td>Soul People</td>\n",
       "      <td>Space Echo</td>\n",
       "      <td>dance</td>\n",
       "      <td>Moscow</td>\n",
       "      <td>08:34:34</td>\n",
       "      <td>Monday</td>\n",
       "    </tr>\n",
       "    <tr>\n",
       "      <td>5</td>\n",
       "      <td>842029A1</td>\n",
       "      <td>Преданная</td>\n",
       "      <td>IMPERVTOR</td>\n",
       "      <td>rusrap</td>\n",
       "      <td>Saint-Petersburg</td>\n",
       "      <td>13:09:41</td>\n",
       "      <td>Friday</td>\n",
       "    </tr>\n",
       "    <tr>\n",
       "      <td>6</td>\n",
       "      <td>4CB90AA5</td>\n",
       "      <td>True</td>\n",
       "      <td>Roman Messer</td>\n",
       "      <td>dance</td>\n",
       "      <td>Moscow</td>\n",
       "      <td>13:00:07</td>\n",
       "      <td>Wednesday</td>\n",
       "    </tr>\n",
       "    <tr>\n",
       "      <td>7</td>\n",
       "      <td>F03E1C1F</td>\n",
       "      <td>Feeling This Way</td>\n",
       "      <td>Polina Griffith</td>\n",
       "      <td>dance</td>\n",
       "      <td>Moscow</td>\n",
       "      <td>20:47:49</td>\n",
       "      <td>Wednesday</td>\n",
       "    </tr>\n",
       "    <tr>\n",
       "      <td>8</td>\n",
       "      <td>8FA1D3BE</td>\n",
       "      <td>И вновь продолжается бой</td>\n",
       "      <td>NaN</td>\n",
       "      <td>ruspop</td>\n",
       "      <td>Moscow</td>\n",
       "      <td>09:17:40</td>\n",
       "      <td>Friday</td>\n",
       "    </tr>\n",
       "    <tr>\n",
       "      <td>9</td>\n",
       "      <td>E772D5C0</td>\n",
       "      <td>Pessimist</td>\n",
       "      <td>NaN</td>\n",
       "      <td>dance</td>\n",
       "      <td>Saint-Petersburg</td>\n",
       "      <td>21:20:49</td>\n",
       "      <td>Wednesday</td>\n",
       "    </tr>\n",
       "  </tbody>\n",
       "</table>\n",
       "</div>"
      ],
      "text/plain": [
       "     userID                        Track            artist   genre  \\\n",
       "0  FFB692EC            Kamigata To Boots  The Mass Missile    rock   \n",
       "1  55204538  Delayed Because of Accident  Andreas Rönnberg    rock   \n",
       "2    20EC38            Funiculì funiculà       Mario Lanza     pop   \n",
       "3  A3DD03C9        Dragons in the Sunset        Fire + Ice    folk   \n",
       "4  E2DC1FAE                  Soul People        Space Echo   dance   \n",
       "5  842029A1                    Преданная         IMPERVTOR  rusrap   \n",
       "6  4CB90AA5                         True      Roman Messer   dance   \n",
       "7  F03E1C1F             Feeling This Way   Polina Griffith   dance   \n",
       "8  8FA1D3BE     И вновь продолжается бой               NaN  ruspop   \n",
       "9  E772D5C0                    Pessimist               NaN   dance   \n",
       "\n",
       "             City        time        Day  \n",
       "0  Saint-Petersburg  20:28:33  Wednesday  \n",
       "1            Moscow  14:07:09     Friday  \n",
       "2  Saint-Petersburg  20:58:07  Wednesday  \n",
       "3  Saint-Petersburg  08:37:09     Monday  \n",
       "4            Moscow  08:34:34     Monday  \n",
       "5  Saint-Petersburg  13:09:41     Friday  \n",
       "6            Moscow  13:00:07  Wednesday  \n",
       "7            Moscow  20:47:49  Wednesday  \n",
       "8            Moscow  09:17:40     Friday  \n",
       "9  Saint-Petersburg  21:20:49  Wednesday  "
      ]
     },
     "metadata": {},
     "output_type": "display_data"
    }
   ],
   "source": [
    "display(df.head(10))"
   ]
  },
  {
   "cell_type": "code",
   "execution_count": 4,
   "metadata": {
    "id": "DSf2kIb-_Zct"
   },
   "outputs": [
    {
     "name": "stdout",
     "output_type": "stream",
     "text": [
      "<class 'pandas.core.frame.DataFrame'>\n",
      "RangeIndex: 65079 entries, 0 to 65078\n",
      "Data columns (total 7 columns):\n",
      "  userID    65079 non-null object\n",
      "Track       63848 non-null object\n",
      "artist      57876 non-null object\n",
      "genre       63881 non-null object\n",
      "  City      65079 non-null object\n",
      "time        65079 non-null object\n",
      "Day         65079 non-null object\n",
      "dtypes: object(7)\n",
      "memory usage: 3.5+ MB\n"
     ]
    }
   ],
   "source": [
    "df.info()"
   ]
  },
  {
   "cell_type": "markdown",
   "metadata": {
    "id": "TaQ2Iwbr_Zct"
   },
   "source": [
    "Итак, в таблице семь столбцов. Тип данных во всех столбцах — `object`.\n",
    "\n",
    "* `userID` — идентификатор пользователя;\n",
    "* `Track` — название трека;  \n",
    "* `artist` — имя исполнителя;\n",
    "* `genre` — название жанра;\n",
    "* `City` — город пользователя;\n",
    "* `time` — время начала прослушивания;\n",
    "* `Day` — день недели."
   ]
  },
  {
   "cell_type": "markdown",
   "metadata": {
    "id": "MCB6-dXG_Zct"
   },
   "source": [
    "**Выводы**\n",
    "\n",
    "В каждой строке таблицы — данные о прослушанном треке. Часть колонок описывает саму композицию: название, исполнителя и жанр. Остальные данные рассказывают о пользователе: из какого он города, когда он слушал музыку. \n",
    "\n",
    "Предварительно можно утверждать, что, данных достаточно для проверки гипотез. Но встречаются пропуски в данных, а в названиях колонок — расхождения с хорошим стилем.\n",
    "\n",
    "Чтобы двигаться дальше, нужно устранить проблемы в данных."
   ]
  },
  {
   "cell_type": "markdown",
   "metadata": {
    "id": "SjYF6Ub9_Zct"
   },
   "source": [
    "## Предобработка данных"
   ]
  },
  {
   "cell_type": "markdown",
   "metadata": {
    "id": "dIaKXr29_Zct"
   },
   "source": [
    "### Стиль заголовков\n"
   ]
  },
  {
   "cell_type": "code",
   "execution_count": 5,
   "metadata": {
    "id": "oKOTdF_Q_Zct"
   },
   "outputs": [
    {
     "data": {
      "text/plain": [
       "Index(['  userID', 'Track', 'artist', 'genre', '  City  ', 'time', 'Day'], dtype='object')"
      ]
     },
     "metadata": {},
     "output_type": "display_data"
    }
   ],
   "source": [
    "display(df.columns)"
   ]
  },
  {
   "cell_type": "code",
   "execution_count": 6,
   "metadata": {
    "id": "ISlFqs5y_Zct"
   },
   "outputs": [],
   "source": [
    "df = df.rename(columns = {\n",
    "    '  userID': 'user_id',\n",
    "    'Track': 'track',\n",
    "    '  City  ': 'city',\n",
    "    'Day': 'day',\n",
    "})"
   ]
  },
  {
   "cell_type": "code",
   "execution_count": 7,
   "metadata": {
    "id": "d4NOAmTW_Zct"
   },
   "outputs": [
    {
     "data": {
      "text/plain": [
       "Index(['user_id', 'track', 'artist', 'genre', 'city', 'time', 'day'], dtype='object')"
      ]
     },
     "metadata": {},
     "output_type": "display_data"
    }
   ],
   "source": [
    "display(df.columns)"
   ]
  },
  {
   "cell_type": "markdown",
   "metadata": {
    "id": "5ISfbcfY_Zct"
   },
   "source": [
    "### Пропуски значений"
   ]
  },
  {
   "cell_type": "code",
   "execution_count": 8,
   "metadata": {
    "id": "RskX29qr_Zct"
   },
   "outputs": [
    {
     "name": "stdout",
     "output_type": "stream",
     "text": [
      "user_id       0\n",
      "track      1231\n",
      "artist     7203\n",
      "genre      1198\n",
      "city          0\n",
      "time          0\n",
      "day           0\n",
      "dtype: int64\n"
     ]
    }
   ],
   "source": [
    "print(df.isna().sum())"
   ]
  },
  {
   "cell_type": "markdown",
   "metadata": {
    "id": "qubhgnlO_Zct"
   },
   "source": [
    "Не все пропущенные значения влияют на исследование. Так в `track` и `artist` пропуски не важны для вашей работы. Достаточно заменить их явными обозначениями.\n",
    "\n",
    "Но пропуски в `genre` могут помешать сравнению музыкальных вкусов в Москве и Санкт-Петербурге."
   ]
  },
  {
   "cell_type": "code",
   "execution_count": 9,
   "metadata": {
    "id": "KplB5qWs_Zct"
   },
   "outputs": [],
   "source": [
    "columns_to_replace = ['track', 'artist', 'genre']\n",
    "for column in columns_to_replace:\n",
    "    df[column] = df[column].fillna('unknown')"
   ]
  },
  {
   "cell_type": "code",
   "execution_count": 10,
   "metadata": {
    "id": "Tq4nYRX4_Zct"
   },
   "outputs": [
    {
     "name": "stdout",
     "output_type": "stream",
     "text": [
      "user_id    0\n",
      "track      0\n",
      "artist     0\n",
      "genre      0\n",
      "city       0\n",
      "time       0\n",
      "day        0\n",
      "dtype: int64\n"
     ]
    }
   ],
   "source": [
    "print(df.isna().sum())"
   ]
  },
  {
   "cell_type": "markdown",
   "metadata": {
    "id": "BWKRtBJ3_Zct"
   },
   "source": [
    "### Дубликаты"
   ]
  },
  {
   "cell_type": "code",
   "execution_count": 11,
   "metadata": {
    "id": "36eES_S0_Zct"
   },
   "outputs": [
    {
     "name": "stdout",
     "output_type": "stream",
     "text": [
      "3826\n"
     ]
    }
   ],
   "source": [
    "print(df.duplicated().sum())"
   ]
  },
  {
   "cell_type": "code",
   "execution_count": 12,
   "metadata": {
    "id": "exFHq6tt_Zct"
   },
   "outputs": [],
   "source": [
    "df = df.drop_duplicates().reset_index(drop=True)"
   ]
  },
  {
   "cell_type": "code",
   "execution_count": 13,
   "metadata": {
    "id": "-8PuNWQ0_Zct"
   },
   "outputs": [
    {
     "name": "stdout",
     "output_type": "stream",
     "text": [
      "0\n"
     ]
    }
   ],
   "source": [
    "print(df.duplicated().sum())"
   ]
  },
  {
   "cell_type": "code",
   "execution_count": 14,
   "metadata": {
    "id": "JIUcqzZN_Zct"
   },
   "outputs": [
    {
     "name": "stdout",
     "output_type": "stream",
     "text": [
      "['acid' 'acoustic' 'action' 'adult' 'africa' 'afrikaans' 'alternative'\n",
      " 'alternativepunk' 'ambient' 'americana' 'animated' 'anime' 'arabesk'\n",
      " 'arabic' 'arena' 'argentinetango' 'art' 'audiobook' 'author' 'avantgarde'\n",
      " 'axé' 'baile' 'balkan' 'beats' 'bigroom' 'black' 'bluegrass' 'blues'\n",
      " 'bollywood' 'bossa' 'brazilian' 'breakbeat' 'breaks' 'broadway'\n",
      " 'cantautori' 'cantopop' 'canzone' 'caribbean' 'caucasian' 'celtic'\n",
      " 'chamber' 'chanson' 'children' 'chill' 'chinese' 'choral' 'christian'\n",
      " 'christmas' 'classical' 'classicmetal' 'club' 'colombian' 'comedy'\n",
      " 'conjazz' 'contemporary' 'country' 'cuban' 'dance' 'dancehall' 'dancepop'\n",
      " 'dark' 'death' 'deep' 'deutschrock' 'deutschspr' 'dirty' 'disco' 'dnb'\n",
      " 'documentary' 'downbeat' 'downtempo' 'drum' 'dub' 'dubstep' 'eastern'\n",
      " 'easy' 'electronic' 'electropop' 'emo' 'entehno' 'epicmetal' 'estrada'\n",
      " 'ethnic' 'eurofolk' 'european' 'experimental' 'extrememetal' 'fado'\n",
      " 'fairytail' 'film' 'fitness' 'flamenco' 'folk' 'folklore' 'folkmetal'\n",
      " 'folkrock' 'folktronica' 'forró' 'frankreich' 'französisch' 'french'\n",
      " 'funk' 'future' 'gangsta' 'garage' 'german' 'ghazal' 'gitarre' 'glitch'\n",
      " 'gospel' 'gothic' 'grime' 'grunge' 'gypsy' 'handsup' \"hard'n'heavy\"\n",
      " 'hardcore' 'hardstyle' 'hardtechno' 'hip' 'hip-hop' 'hiphop' 'historisch'\n",
      " 'holiday' 'hop' 'horror' 'house' 'hymn' 'idm' 'independent' 'indian'\n",
      " 'indie' 'indipop' 'industrial' 'inspirational' 'instrumental'\n",
      " 'international' 'irish' 'jam' 'japanese' 'jazz' 'jewish' 'jpop' 'jungle'\n",
      " 'k-pop' 'karadeniz' 'karaoke' 'kayokyoku' 'korean' 'laiko' 'latin'\n",
      " 'latino' 'leftfield' 'local' 'lounge' 'loungeelectronic' 'lovers'\n",
      " 'malaysian' 'mandopop' 'marschmusik' 'meditative' 'mediterranean'\n",
      " 'melodic' 'metal' 'metalcore' 'mexican' 'middle' 'minimal'\n",
      " 'miscellaneous' 'modern' 'mood' 'mpb' 'muslim' 'native' 'neoklassik'\n",
      " 'neue' 'new' 'newage' 'newwave' 'nu' 'nujazz' 'numetal' 'oceania' 'old'\n",
      " 'opera' 'orchestral' 'other' 'piano' 'podcasts' 'pop' 'popdance'\n",
      " 'popelectronic' 'popeurodance' 'poprussian' 'post' 'posthardcore'\n",
      " 'postrock' 'power' 'progmetal' 'progressive' 'psychedelic' 'punjabi'\n",
      " 'punk' 'quebecois' 'ragga' 'ram' 'rancheras' 'rap' 'rave' 'reggae'\n",
      " 'reggaeton' 'regional' 'relax' 'religious' 'retro' 'rhythm' 'rnb' 'rnr'\n",
      " 'rock' 'rockabilly' 'rockalternative' 'rockindie' 'rockother' 'romance'\n",
      " 'roots' 'ruspop' 'rusrap' 'rusrock' 'russian' 'salsa' 'samba' 'scenic'\n",
      " 'schlager' 'self' 'sertanejo' 'shanson' 'shoegazing' 'showtunes' 'singer'\n",
      " 'ska' 'skarock' 'slow' 'smooth' 'soft' 'soul' 'soulful' 'sound'\n",
      " 'soundtrack' 'southern' 'specialty' 'speech' 'spiritual' 'sport'\n",
      " 'stonerrock' 'surf' 'swing' 'synthpop' 'synthrock' 'sängerportrait'\n",
      " 'tango' 'tanzorchester' 'taraftar' 'tatar' 'tech' 'techno' 'teen'\n",
      " 'thrash' 'top' 'traditional' 'tradjazz' 'trance' 'tribal' 'trip'\n",
      " 'triphop' 'tropical' 'türk' 'türkçe' 'ukrrock' 'unknown' 'urban' 'uzbek'\n",
      " 'variété' 'vi' 'videogame' 'vocal' 'western' 'world' 'worldbeat' 'ïîï'\n",
      " 'электроника']\n"
     ]
    }
   ],
   "source": [
    "print(df['genre'].sort_values().unique())"
   ]
  },
  {
   "cell_type": "code",
   "execution_count": 15,
   "metadata": {
    "id": "ErNDkmns_Zct"
   },
   "outputs": [],
   "source": [
    "def replace_wrong_genres(wrong_genres, correct_genre):\n",
    "    for genre in wrong_genres:\n",
    "        df['genre'] = df['genre'].replace(genre, correct_genre)"
   ]
  },
  {
   "cell_type": "code",
   "execution_count": 16,
   "metadata": {
    "id": "YN5i2hpmSo09"
   },
   "outputs": [],
   "source": [
    "replace_wrong_genres(['hip', 'hop', 'hip-hop'], 'hiphop')"
   ]
  },
  {
   "cell_type": "code",
   "execution_count": 17,
   "metadata": {
    "id": "wvixALnFG15m"
   },
   "outputs": [
    {
     "name": "stdout",
     "output_type": "stream",
     "text": [
      "['acid' 'acoustic' 'action' 'adult' 'africa' 'afrikaans' 'alternative'\n",
      " 'alternativepunk' 'ambient' 'americana' 'animated' 'anime' 'arabesk'\n",
      " 'arabic' 'arena' 'argentinetango' 'art' 'audiobook' 'author' 'avantgarde'\n",
      " 'axé' 'baile' 'balkan' 'beats' 'bigroom' 'black' 'bluegrass' 'blues'\n",
      " 'bollywood' 'bossa' 'brazilian' 'breakbeat' 'breaks' 'broadway'\n",
      " 'cantautori' 'cantopop' 'canzone' 'caribbean' 'caucasian' 'celtic'\n",
      " 'chamber' 'chanson' 'children' 'chill' 'chinese' 'choral' 'christian'\n",
      " 'christmas' 'classical' 'classicmetal' 'club' 'colombian' 'comedy'\n",
      " 'conjazz' 'contemporary' 'country' 'cuban' 'dance' 'dancehall' 'dancepop'\n",
      " 'dark' 'death' 'deep' 'deutschrock' 'deutschspr' 'dirty' 'disco' 'dnb'\n",
      " 'documentary' 'downbeat' 'downtempo' 'drum' 'dub' 'dubstep' 'eastern'\n",
      " 'easy' 'electronic' 'electropop' 'emo' 'entehno' 'epicmetal' 'estrada'\n",
      " 'ethnic' 'eurofolk' 'european' 'experimental' 'extrememetal' 'fado'\n",
      " 'fairytail' 'film' 'fitness' 'flamenco' 'folk' 'folklore' 'folkmetal'\n",
      " 'folkrock' 'folktronica' 'forró' 'frankreich' 'französisch' 'french'\n",
      " 'funk' 'future' 'gangsta' 'garage' 'german' 'ghazal' 'gitarre' 'glitch'\n",
      " 'gospel' 'gothic' 'grime' 'grunge' 'gypsy' 'handsup' \"hard'n'heavy\"\n",
      " 'hardcore' 'hardstyle' 'hardtechno' 'hiphop' 'historisch' 'holiday'\n",
      " 'horror' 'house' 'hymn' 'idm' 'independent' 'indian' 'indie' 'indipop'\n",
      " 'industrial' 'inspirational' 'instrumental' 'international' 'irish' 'jam'\n",
      " 'japanese' 'jazz' 'jewish' 'jpop' 'jungle' 'k-pop' 'karadeniz' 'karaoke'\n",
      " 'kayokyoku' 'korean' 'laiko' 'latin' 'latino' 'leftfield' 'local'\n",
      " 'lounge' 'loungeelectronic' 'lovers' 'malaysian' 'mandopop' 'marschmusik'\n",
      " 'meditative' 'mediterranean' 'melodic' 'metal' 'metalcore' 'mexican'\n",
      " 'middle' 'minimal' 'miscellaneous' 'modern' 'mood' 'mpb' 'muslim'\n",
      " 'native' 'neoklassik' 'neue' 'new' 'newage' 'newwave' 'nu' 'nujazz'\n",
      " 'numetal' 'oceania' 'old' 'opera' 'orchestral' 'other' 'piano' 'podcasts'\n",
      " 'pop' 'popdance' 'popelectronic' 'popeurodance' 'poprussian' 'post'\n",
      " 'posthardcore' 'postrock' 'power' 'progmetal' 'progressive' 'psychedelic'\n",
      " 'punjabi' 'punk' 'quebecois' 'ragga' 'ram' 'rancheras' 'rap' 'rave'\n",
      " 'reggae' 'reggaeton' 'regional' 'relax' 'religious' 'retro' 'rhythm'\n",
      " 'rnb' 'rnr' 'rock' 'rockabilly' 'rockalternative' 'rockindie' 'rockother'\n",
      " 'romance' 'roots' 'ruspop' 'rusrap' 'rusrock' 'russian' 'salsa' 'samba'\n",
      " 'scenic' 'schlager' 'self' 'sertanejo' 'shanson' 'shoegazing' 'showtunes'\n",
      " 'singer' 'ska' 'skarock' 'slow' 'smooth' 'soft' 'soul' 'soulful' 'sound'\n",
      " 'soundtrack' 'southern' 'specialty' 'speech' 'spiritual' 'sport'\n",
      " 'stonerrock' 'surf' 'swing' 'synthpop' 'synthrock' 'sängerportrait'\n",
      " 'tango' 'tanzorchester' 'taraftar' 'tatar' 'tech' 'techno' 'teen'\n",
      " 'thrash' 'top' 'traditional' 'tradjazz' 'trance' 'tribal' 'trip'\n",
      " 'triphop' 'tropical' 'türk' 'türkçe' 'ukrrock' 'unknown' 'urban' 'uzbek'\n",
      " 'variété' 'vi' 'videogame' 'vocal' 'western' 'world' 'worldbeat' 'ïîï'\n",
      " 'электроника']\n"
     ]
    }
   ],
   "source": [
    "print(df['genre'].sort_values().unique())"
   ]
  },
  {
   "cell_type": "markdown",
   "metadata": {
    "id": "jz6a9-7HQUDd"
   },
   "source": [
    "**Выводы**\n",
    "\n",
    "Предобработка обнаружила три проблемы в данных:\n",
    "\n",
    "- нарушения в стиле заголовков,\n",
    "- пропущенные значения,\n",
    "- дубликаты — явные и неявные."
   ]
  },
  {
   "cell_type": "markdown",
   "metadata": {
    "id": "WttZHXH0SqKk"
   },
   "source": [
    "## Проверка гипотез"
   ]
  },
  {
   "cell_type": "markdown",
   "metadata": {
    "id": "Im936VVi_Zcu"
   },
   "source": [
    "### Сравнение поведения пользователей двух столиц"
   ]
  },
  {
   "cell_type": "markdown",
   "metadata": {
    "id": "nwt_MuaL_Zcu"
   },
   "source": [
    "Первая гипотеза утверждает, что пользователи по-разному слушают музыку в Москве и Санкт-Петербурге. Проверим это предположение по данным о трёх днях недели — понедельнике, среде и пятнице. Для этого:\n",
    "\n",
    "* Разделим пользователей Москвы и Санкт-Петербурга\n",
    "* Сравним, сколько треков послушала каждая группа пользователей в понедельник, среду и пятницу.\n"
   ]
  },
  {
   "cell_type": "code",
   "execution_count": 18,
   "metadata": {
    "id": "0_Qs96oh_Zcu"
   },
   "outputs": [
    {
     "name": "stdout",
     "output_type": "stream",
     "text": [
      "42741\n",
      "18512\n"
     ]
    }
   ],
   "source": [
    "df_moscow = df[df['city'] == 'Moscow']['user_id']\n",
    "df_moscow_count = df_moscow.count()\n",
    "print(df_moscow_count)\n",
    "\n",
    "df_spb = df[df['city'] == 'Saint-Petersburg']['user_id']\n",
    "df_spb_count = df_spb.count()\n",
    "print(df_spb_count)"
   ]
  },
  {
   "cell_type": "markdown",
   "metadata": {
    "id": "dzli3w8o_Zcu"
   },
   "source": [
    "В Москве прослушиваний больше, чем в Петербурге. Из этого не следует, что московские пользователи чаще слушают музыку. Просто самих пользователей в Москве больше.\n",
    "\n",
    "Теперь сгруппируйте данные по дню недели и подсчитайте прослушивания в понедельник, среду и пятницу."
   ]
  },
  {
   "cell_type": "code",
   "execution_count": 19,
   "metadata": {
    "id": "uZMKjiJz_Zcu"
   },
   "outputs": [
    {
     "data": {
      "text/plain": [
       "day        city            \n",
       "Friday     Moscow              15945\n",
       "           Saint-Petersburg     5895\n",
       "Monday     Moscow              15740\n",
       "           Saint-Petersburg     5614\n",
       "Wednesday  Moscow              11056\n",
       "           Saint-Petersburg     7003\n",
       "Name: city, dtype: int64"
      ]
     },
     "execution_count": 19,
     "metadata": {},
     "output_type": "execute_result"
    }
   ],
   "source": [
    "df.groupby(['day','city'])['city'].count()\n"
   ]
  },
  {
   "cell_type": "markdown",
   "metadata": {
    "id": "cC2tNrlL_Zcu"
   },
   "source": [
    "В среднем пользователи из двух городов менее активны по средам. Но картина может измениться, если рассмотреть каждый город в отдельности."
   ]
  },
  {
   "cell_type": "code",
   "execution_count": 20,
   "metadata": {
    "id": "Nz3GdQB1_Zcu"
   },
   "outputs": [],
   "source": [
    "def number_tracks(day, city):\n",
    "    track_list = df[(df['day'] == day) & (df['city'] == city)]\n",
    "    track_list_count = track_list['user_id'].count()\n",
    "    return track_list_count"
   ]
  },
  {
   "cell_type": "code",
   "execution_count": 21,
   "metadata": {
    "id": "rJcRATNQ_Zcu"
   },
   "outputs": [
    {
     "data": {
      "text/plain": [
       "15740"
      ]
     },
     "execution_count": 21,
     "metadata": {},
     "output_type": "execute_result"
    }
   ],
   "source": [
    "number_tracks('Monday', 'Moscow')"
   ]
  },
  {
   "cell_type": "code",
   "execution_count": 22,
   "metadata": {
    "id": "hq_ncZ5T_Zcu"
   },
   "outputs": [
    {
     "data": {
      "text/plain": [
       "5614"
      ]
     },
     "execution_count": 22,
     "metadata": {},
     "output_type": "execute_result"
    }
   ],
   "source": [
    "number_tracks('Monday', 'Saint-Petersburg')"
   ]
  },
  {
   "cell_type": "code",
   "execution_count": 30,
   "metadata": {
    "id": "_NTy2VPU_Zcu"
   },
   "outputs": [
    {
     "data": {
      "text/plain": [
       "11056"
      ]
     },
     "execution_count": 30,
     "metadata": {},
     "output_type": "execute_result"
    }
   ],
   "source": [
    "number_tracks('Wednesday', 'Moscow')"
   ]
  },
  {
   "cell_type": "code",
   "execution_count": 31,
   "metadata": {
    "id": "j2y3TAwo_Zcu"
   },
   "outputs": [
    {
     "data": {
      "text/plain": [
       "7003"
      ]
     },
     "execution_count": 31,
     "metadata": {},
     "output_type": "execute_result"
    }
   ],
   "source": [
    "number_tracks('Wednesday', 'Saint-Petersburg')"
   ]
  },
  {
   "cell_type": "code",
   "execution_count": 32,
   "metadata": {
    "id": "vYDw5u_K_Zcu"
   },
   "outputs": [
    {
     "data": {
      "text/plain": [
       "15945"
      ]
     },
     "execution_count": 32,
     "metadata": {},
     "output_type": "execute_result"
    }
   ],
   "source": [
    "number_tracks('Friday', 'Moscow')"
   ]
  },
  {
   "cell_type": "code",
   "execution_count": 33,
   "metadata": {
    "id": "8_yzFtW3_Zcu"
   },
   "outputs": [
    {
     "data": {
      "text/plain": [
       "5895"
      ]
     },
     "execution_count": 33,
     "metadata": {},
     "output_type": "execute_result"
    }
   ],
   "source": [
    "number_tracks('Friday', 'Saint-Petersburg')"
   ]
  },
  {
   "cell_type": "code",
   "execution_count": 27,
   "metadata": {
    "id": "APAcLpOr_Zcu"
   },
   "outputs": [
    {
     "data": {
      "text/html": [
       "<div>\n",
       "<style scoped>\n",
       "    .dataframe tbody tr th:only-of-type {\n",
       "        vertical-align: middle;\n",
       "    }\n",
       "\n",
       "    .dataframe tbody tr th {\n",
       "        vertical-align: top;\n",
       "    }\n",
       "\n",
       "    .dataframe thead th {\n",
       "        text-align: right;\n",
       "    }\n",
       "</style>\n",
       "<table border=\"1\" class=\"dataframe\">\n",
       "  <thead>\n",
       "    <tr style=\"text-align: right;\">\n",
       "      <th></th>\n",
       "      <th>city</th>\n",
       "      <th>monday</th>\n",
       "      <th>wednesday</th>\n",
       "      <th>friday</th>\n",
       "    </tr>\n",
       "  </thead>\n",
       "  <tbody>\n",
       "    <tr>\n",
       "      <td>0</td>\n",
       "      <td>Moscow</td>\n",
       "      <td>15740</td>\n",
       "      <td>11056</td>\n",
       "      <td>15945</td>\n",
       "    </tr>\n",
       "    <tr>\n",
       "      <td>1</td>\n",
       "      <td>Saint-Petersburg</td>\n",
       "      <td>5614</td>\n",
       "      <td>7003</td>\n",
       "      <td>5895</td>\n",
       "    </tr>\n",
       "  </tbody>\n",
       "</table>\n",
       "</div>"
      ],
      "text/plain": [
       "               city  monday  wednesday  friday\n",
       "0            Moscow   15740      11056   15945\n",
       "1  Saint-Petersburg    5614       7003    5895"
      ]
     },
     "metadata": {},
     "output_type": "display_data"
    }
   ],
   "source": [
    "data_day_city = [\n",
    "    ['Moscow', 15740, 11056, 15945],\n",
    "    ['Saint-Petersburg', 5614, 7003, 5895]\n",
    "]\n",
    "df_day_city = pd.DataFrame(data=data_day_city ,columns=['city', 'monday', 'wednesday', 'friday'])\n",
    "display(df_day_city)"
   ]
  },
  {
   "cell_type": "markdown",
   "metadata": {
    "id": "-EgPIHYu_Zcu"
   },
   "source": [
    "**Выводы**\n",
    "\n",
    "Данные показывают разницу поведения пользователей:\n",
    "\n",
    "- В Москве пик прослушиваний приходится на понедельник и пятницу, а в среду заметен спад.\n",
    "- В Петербурге, наоборот, больше слушают музыку по средам. Активность в понедельник и пятницу здесь почти в равной мере уступает среде.\n",
    "\n",
    "Значит, данные говорят в пользу первой гипотезы."
   ]
  },
  {
   "cell_type": "markdown",
   "metadata": {
    "id": "atZAxtq4_Zcu"
   },
   "source": [
    "### Музыка в начале и в конце недели"
   ]
  },
  {
   "cell_type": "markdown",
   "metadata": {
    "id": "eXrQqXFH_Zcu"
   },
   "source": [
    "Согласно второй гипотезе, утром в понедельник в Москве преобладают одни жанры, а в Петербурге — другие. Так же и вечером пятницы преобладают разные жанры — в зависимости от города."
   ]
  },
  {
   "cell_type": "code",
   "execution_count": 28,
   "metadata": {
    "id": "qeaFfM_P_Zcu"
   },
   "outputs": [],
   "source": [
    "moscow_general = df[df['city'] == 'Moscow']"
   ]
  },
  {
   "cell_type": "code",
   "execution_count": 29,
   "metadata": {
    "id": "ORaVRKto_Zcu"
   },
   "outputs": [],
   "source": [
    "spb_general = df[df['city'] == 'Saint-Petersburg']"
   ]
  },
  {
   "cell_type": "markdown",
   "metadata": {
    "id": "MEJV-CX2_Zcu"
   },
   "source": [
    "Создаем функцию `genre_weekday()` с четырьмя параметрами:\n",
    "* таблица (датафрейм) с данными,\n",
    "* день недели,\n",
    "* начальная временная метка в формате 'hh:mm', \n",
    "* последняя временная метка в формате 'hh:mm'.\n",
    "\n",
    "Функция должна вернуть информацию о топ-10 жанров тех треков, которые прослушивали в указанный день, в промежутке между двумя отметками времени."
   ]
  },
  {
   "cell_type": "code",
   "execution_count": 30,
   "metadata": {
    "id": "laJT9BYl_Zcu"
   },
   "outputs": [],
   "source": [
    "def genre_weekday(table, day, time1, time2):\n",
    "    genre_df = table[table['day'] == day]\n",
    "    genre_df = genre_df[genre_df['time'] > time1]\n",
    "    genre_df = genre_df[genre_df['time'] < time2]\n",
    "    genre_df_count = genre_df.groupby(['genre'])['time'].count()\n",
    "    genre_df_sorted = genre_df_count.sort_values(ascending=False)\n",
    "    return genre_df_sorted.head(10)"
   ]
  },
  {
   "cell_type": "markdown",
   "metadata": {
    "id": "la2s2_PF_Zcu"
   },
   "source": [
    "Cравним результаты функции `genre_weekday()` для Москвы и Санкт-Петербурга в понедельник утром (с 7:00 до 11:00) и в пятницу вечером (с 17:00 до 23:00):"
   ]
  },
  {
   "cell_type": "code",
   "execution_count": 31,
   "metadata": {
    "id": "yz7itPUQ_Zcu"
   },
   "outputs": [
    {
     "name": "stdout",
     "output_type": "stream",
     "text": [
      "genre\n",
      "pop            781\n",
      "dance          549\n",
      "electronic     480\n",
      "rock           474\n",
      "hiphop         286\n",
      "ruspop         186\n",
      "world          181\n",
      "rusrap         175\n",
      "alternative    164\n",
      "unknown        161\n",
      "Name: time, dtype: int64\n"
     ]
    }
   ],
   "source": [
    "print(genre_weekday(moscow_general, 'Monday', '07:00', '11:00'))"
   ]
  },
  {
   "cell_type": "code",
   "execution_count": 32,
   "metadata": {
    "id": "kwUcHPdy_Zcu"
   },
   "outputs": [
    {
     "name": "stdout",
     "output_type": "stream",
     "text": [
      "genre\n",
      "pop            218\n",
      "dance          182\n",
      "rock           162\n",
      "electronic     147\n",
      "hiphop          80\n",
      "ruspop          64\n",
      "alternative     58\n",
      "rusrap          55\n",
      "jazz            44\n",
      "classical       40\n",
      "Name: time, dtype: int64\n"
     ]
    }
   ],
   "source": [
    "print(genre_weekday(spb_general, 'Monday', '07:00', '11:00'))"
   ]
  },
  {
   "cell_type": "code",
   "execution_count": 33,
   "metadata": {
    "id": "EzXVRE1o_Zcu"
   },
   "outputs": [
    {
     "name": "stdout",
     "output_type": "stream",
     "text": [
      "genre\n",
      "pop            713\n",
      "rock           517\n",
      "dance          495\n",
      "electronic     482\n",
      "hiphop         273\n",
      "world          208\n",
      "ruspop         170\n",
      "alternative    163\n",
      "classical      163\n",
      "rusrap         142\n",
      "Name: time, dtype: int64\n"
     ]
    }
   ],
   "source": [
    "print(genre_weekday(moscow_general, 'Friday', '17:00', '23:00'))"
   ]
  },
  {
   "cell_type": "code",
   "execution_count": 34,
   "metadata": {
    "id": "JZaEKu5v_Zcu"
   },
   "outputs": [
    {
     "name": "stdout",
     "output_type": "stream",
     "text": [
      "genre\n",
      "pop            256\n",
      "rock           216\n",
      "electronic     216\n",
      "dance          210\n",
      "hiphop          97\n",
      "alternative     63\n",
      "jazz            61\n",
      "classical       60\n",
      "rusrap          59\n",
      "world           54\n",
      "Name: time, dtype: int64\n"
     ]
    }
   ],
   "source": [
    "print(genre_weekday(spb_general, 'Friday', '17:00', '23:00'))"
   ]
  },
  {
   "cell_type": "markdown",
   "metadata": {
    "id": "wrCe4MNX_Zcu"
   },
   "source": [
    "**Выводы**\n",
    "\n",
    "Если сравнить топ-10 жанров в понедельник утром, можно сделать такие выводы:\n",
    "\n",
    "1. В Москве и Петербурге слушают похожую музыку. Единственное отличие — в московский рейтинг вошёл жанр “world”, а в петербургский — джаз и классика.\n",
    "\n",
    "2. В Москве пропущенных значений оказалось так много, что значение `'unknown'` заняло десятое место среди самых популярных жанров. Значит, пропущенные значения занимают существенную долю в данных и угрожают достоверности исследования.\n",
    "\n",
    "Вечер пятницы не меняет эту картину. Некоторые жанры поднимаются немного выше, другие спускаются, но в целом топ-10 остаётся тем же самым.\n",
    "\n",
    "Таким образом, вторая гипотеза подтвердилась лишь частично:\n",
    "* Пользователи слушают похожую музыку в начале недели и в конце.\n",
    "* Разница между Москвой и Петербургом не слишком выражена. В Москве чаще слушают русскую популярную музыку, в Петербурге — джаз.\n",
    "\n",
    "Однако пропуски в данных ставят под сомнение этот результат. В Москве их так много, что рейтинг топ-10 мог бы выглядеть иначе, если бы не утерянные  данные о жанрах."
   ]
  },
  {
   "cell_type": "markdown",
   "metadata": {
    "id": "JolODAqr_Zcu"
   },
   "source": [
    "### Жанровые предпочтения в Москве и Петербурге\n",
    "\n",
    "Гипотеза: Петербург — столица рэпа, музыку этого жанра там слушают чаще, чем в Москве.  А Москва — город контрастов, в котором, тем не менее, преобладает поп-музыка."
   ]
  },
  {
   "cell_type": "code",
   "execution_count": 35,
   "metadata": {
    "id": "r19lIPke_Zcu"
   },
   "outputs": [],
   "source": [
    "moscow_genres = moscow_general.groupby('genre')['city'].count().sort_values(ascending=False)"
   ]
  },
  {
   "cell_type": "code",
   "execution_count": 36,
   "metadata": {
    "id": "WhCSooF8_Zcv"
   },
   "outputs": [
    {
     "name": "stdout",
     "output_type": "stream",
     "text": [
      "genre\n",
      "pop            5892\n",
      "dance          4435\n",
      "rock           3965\n",
      "electronic     3786\n",
      "hiphop         2096\n",
      "classical      1616\n",
      "world          1432\n",
      "alternative    1379\n",
      "ruspop         1372\n",
      "rusrap         1161\n",
      "Name: city, dtype: int64\n"
     ]
    }
   ],
   "source": [
    "print(moscow_genres.head(10))"
   ]
  },
  {
   "cell_type": "markdown",
   "metadata": {
    "id": "cnPG2vnN_Zcv"
   },
   "source": [
    "Теперь то же и для Петербурга.\n"
   ]
  },
  {
   "cell_type": "code",
   "execution_count": 37,
   "metadata": {
    "id": "gluLIpE7_Zcv"
   },
   "outputs": [],
   "source": [
    "spb_genres = spb_general.groupby('genre')['city'].count().sort_values(ascending=False)"
   ]
  },
  {
   "cell_type": "code",
   "execution_count": 38,
   "metadata": {
    "id": "uaGJHjVU_Zcv"
   },
   "outputs": [
    {
     "name": "stdout",
     "output_type": "stream",
     "text": [
      "genre\n",
      "pop            2431\n",
      "dance          1932\n",
      "rock           1879\n",
      "electronic     1736\n",
      "hiphop          960\n",
      "alternative     649\n",
      "classical       646\n",
      "rusrap          564\n",
      "ruspop          538\n",
      "world           515\n",
      "Name: city, dtype: int64\n"
     ]
    }
   ],
   "source": [
    "print(spb_genres.head(10))"
   ]
  },
  {
   "cell_type": "markdown",
   "metadata": {
    "id": "RY51YJYu_Zcv"
   },
   "source": [
    "**Выводы**"
   ]
  },
  {
   "cell_type": "markdown",
   "metadata": {
    "id": "nVhnJEm__Zcv"
   },
   "source": [
    "Гипотеза частично подтвердилась:\n",
    "* Поп-музыка — самый популярный жанр в Москве, как и предполагала гипотеза. Более того, в топ-10 жанров встречается близкий жанр — русская популярная музыка.\n",
    "* Вопреки ожиданиям, рэп одинаково популярен в Москве и Петербурге. \n"
   ]
  },
  {
   "cell_type": "markdown",
   "metadata": {
    "id": "ykKQ0N65_Zcv"
   },
   "source": [
    "## Итоги исследования"
   ]
  },
  {
   "cell_type": "markdown",
   "metadata": {
    "id": "tjUwbHb3_Zcv"
   },
   "source": [
    "Проверили три гипотезы и установили:\n",
    "\n",
    "1. День недели по-разному влияет на активность пользователей в Москве и Петербурге. \n",
    "\n",
    "Первая гипотеза полностью подтвердилась.\n",
    "\n",
    "2. Музыкальные предпочтения не сильно меняются в течение недели — будь то Москва или Петербург. Небольшие различия заметны в начале недели, по понедельникам:\n",
    "* в Москве слушают музыку жанра “world”,\n",
    "* в Петербурге — джаз и классику.\n",
    "\n",
    "Таким образом, вторая гипотеза подтвердилась лишь отчасти. Этот результат мог оказаться иным, если бы не пропуски в данных.\n",
    "\n",
    "3. Во вкусах пользователей Москвы и Петербурга больше общего чем различий. Вопреки ожиданиям, предпочтения жанров в Петербурге напоминают московские.\n",
    "\n",
    "Третья гипотеза не подтвердилась. Если различия в предпочтениях и существуют, на основной массе пользователей они незаметны.\n"
   ]
  },
  {
   "cell_type": "markdown",
   "metadata": {},
   "source": []
  }
 ],
 "metadata": {
  "ExecuteTimeLog": [
   {
    "duration": 352,
    "start_time": "2022-01-19T14:27:54.357Z"
   },
   {
    "duration": 292,
    "start_time": "2022-01-19T14:28:01.559Z"
   },
   {
    "duration": 781,
    "start_time": "2022-01-19T14:28:07.044Z"
   },
   {
    "duration": 177,
    "start_time": "2022-01-19T14:28:09.924Z"
   },
   {
    "duration": 26,
    "start_time": "2022-01-19T14:28:13.820Z"
   },
   {
    "duration": 772,
    "start_time": "2022-01-19T14:28:21.211Z"
   },
   {
    "duration": 174,
    "start_time": "2022-01-19T14:28:24.391Z"
   },
   {
    "duration": 30,
    "start_time": "2022-01-19T14:28:26.252Z"
   },
   {
    "duration": 35,
    "start_time": "2022-01-19T14:28:52.125Z"
   },
   {
    "duration": 7,
    "start_time": "2022-01-19T14:31:53.620Z"
   },
   {
    "duration": 7,
    "start_time": "2022-01-19T14:32:00.174Z"
   },
   {
    "duration": 27,
    "start_time": "2022-01-19T14:34:15.193Z"
   },
   {
    "duration": 7,
    "start_time": "2022-01-19T14:34:20.241Z"
   },
   {
    "duration": 30,
    "start_time": "2022-01-19T14:36:01.191Z"
   },
   {
    "duration": 24,
    "start_time": "2022-01-19T14:39:23.249Z"
   },
   {
    "duration": 32,
    "start_time": "2022-01-19T14:39:47.676Z"
   },
   {
    "duration": 77,
    "start_time": "2022-01-19T14:40:05.462Z"
   },
   {
    "duration": 101,
    "start_time": "2022-01-19T14:40:34.043Z"
   },
   {
    "duration": 80,
    "start_time": "2022-01-19T14:40:43.154Z"
   },
   {
    "duration": 62,
    "start_time": "2022-01-19T14:43:23.595Z"
   },
   {
    "duration": 4,
    "start_time": "2022-01-19T14:47:30.237Z"
   },
   {
    "duration": 19,
    "start_time": "2022-01-19T14:48:36.288Z"
   },
   {
    "duration": 91,
    "start_time": "2022-01-19T14:48:57.865Z"
   },
   {
    "duration": 19,
    "start_time": "2022-01-19T14:54:14.826Z"
   },
   {
    "duration": 32,
    "start_time": "2022-01-19T14:55:04.045Z"
   },
   {
    "duration": 380,
    "start_time": "2022-01-19T16:16:44.969Z"
   },
   {
    "duration": 744,
    "start_time": "2022-01-19T16:17:16.144Z"
   },
   {
    "duration": 185,
    "start_time": "2022-01-19T16:17:16.890Z"
   },
   {
    "duration": 18,
    "start_time": "2022-01-19T16:17:17.077Z"
   },
   {
    "duration": 28,
    "start_time": "2022-01-19T16:17:17.097Z"
   },
   {
    "duration": 9,
    "start_time": "2022-01-19T16:17:17.127Z"
   },
   {
    "duration": 30,
    "start_time": "2022-01-19T16:17:17.161Z"
   },
   {
    "duration": 13,
    "start_time": "2022-01-19T16:17:17.193Z"
   },
   {
    "duration": 33,
    "start_time": "2022-01-19T16:17:17.209Z"
   },
   {
    "duration": 35,
    "start_time": "2022-01-19T16:17:17.245Z"
   },
   {
    "duration": 59,
    "start_time": "2022-01-19T16:17:17.282Z"
   },
   {
    "duration": 63,
    "start_time": "2022-01-19T16:17:17.343Z"
   },
   {
    "duration": 79,
    "start_time": "2022-01-19T16:17:17.408Z"
   },
   {
    "duration": 55,
    "start_time": "2022-01-19T16:17:17.489Z"
   },
   {
    "duration": 53,
    "start_time": "2022-01-19T16:17:17.546Z"
   },
   {
    "duration": 15,
    "start_time": "2022-01-19T16:17:17.601Z"
   },
   {
    "duration": 21,
    "start_time": "2022-01-19T16:17:17.618Z"
   },
   {
    "duration": 46,
    "start_time": "2022-01-19T16:17:17.641Z"
   },
   {
    "duration": 291,
    "start_time": "2022-01-19T16:17:22.384Z"
   },
   {
    "duration": 2,
    "start_time": "2022-01-19T16:17:29.608Z"
   },
   {
    "duration": 157,
    "start_time": "2022-01-19T16:17:29.612Z"
   },
   {
    "duration": 11,
    "start_time": "2022-01-19T16:17:29.771Z"
   },
   {
    "duration": 34,
    "start_time": "2022-01-19T16:17:29.784Z"
   },
   {
    "duration": 8,
    "start_time": "2022-01-19T16:17:29.820Z"
   },
   {
    "duration": 32,
    "start_time": "2022-01-19T16:17:29.829Z"
   },
   {
    "duration": 5,
    "start_time": "2022-01-19T16:17:29.863Z"
   },
   {
    "duration": 28,
    "start_time": "2022-01-19T16:17:29.870Z"
   },
   {
    "duration": 31,
    "start_time": "2022-01-19T16:17:29.902Z"
   },
   {
    "duration": 62,
    "start_time": "2022-01-19T16:17:29.936Z"
   },
   {
    "duration": 77,
    "start_time": "2022-01-19T16:17:30.000Z"
   },
   {
    "duration": 68,
    "start_time": "2022-01-19T16:17:30.079Z"
   },
   {
    "duration": 62,
    "start_time": "2022-01-19T16:17:30.149Z"
   },
   {
    "duration": 57,
    "start_time": "2022-01-19T16:17:30.213Z"
   },
   {
    "duration": 3,
    "start_time": "2022-01-19T16:17:30.273Z"
   },
   {
    "duration": 20,
    "start_time": "2022-01-19T16:17:30.278Z"
   },
   {
    "duration": 47,
    "start_time": "2022-01-19T16:17:30.300Z"
   },
   {
    "duration": 45,
    "start_time": "2022-01-19T16:17:30.349Z"
   },
   {
    "duration": 586,
    "start_time": "2022-01-19T16:17:47.186Z"
   },
   {
    "duration": 148,
    "start_time": "2022-01-19T16:17:47.774Z"
   },
   {
    "duration": 17,
    "start_time": "2022-01-19T16:17:47.924Z"
   },
   {
    "duration": 34,
    "start_time": "2022-01-19T16:17:47.943Z"
   },
   {
    "duration": 4,
    "start_time": "2022-01-19T16:17:47.979Z"
   },
   {
    "duration": 24,
    "start_time": "2022-01-19T16:17:47.985Z"
   },
   {
    "duration": 4,
    "start_time": "2022-01-19T16:17:48.010Z"
   },
   {
    "duration": 53,
    "start_time": "2022-01-19T16:17:48.018Z"
   },
   {
    "duration": 20,
    "start_time": "2022-01-19T16:17:48.073Z"
   },
   {
    "duration": 31,
    "start_time": "2022-01-19T16:17:48.095Z"
   },
   {
    "duration": 79,
    "start_time": "2022-01-19T16:17:48.128Z"
   },
   {
    "duration": 89,
    "start_time": "2022-01-19T16:17:48.209Z"
   },
   {
    "duration": 64,
    "start_time": "2022-01-19T16:17:48.300Z"
   },
   {
    "duration": 44,
    "start_time": "2022-01-19T16:17:48.367Z"
   },
   {
    "duration": 16,
    "start_time": "2022-01-19T16:17:48.413Z"
   },
   {
    "duration": 14,
    "start_time": "2022-01-19T16:17:48.431Z"
   },
   {
    "duration": 50,
    "start_time": "2022-01-19T16:17:48.447Z"
   },
   {
    "duration": 41,
    "start_time": "2022-01-19T16:17:48.499Z"
   },
   {
    "duration": 365,
    "start_time": "2022-01-19T16:17:52.426Z"
   },
   {
    "duration": 464,
    "start_time": "2022-01-19T16:19:08.602Z"
   },
   {
    "duration": 269,
    "start_time": "2022-01-19T16:20:40.142Z"
   },
   {
    "duration": 633,
    "start_time": "2022-01-19T16:20:55.875Z"
   },
   {
    "duration": 145,
    "start_time": "2022-01-19T16:20:59.020Z"
   },
   {
    "duration": 18,
    "start_time": "2022-01-19T16:21:01.171Z"
   },
   {
    "duration": 25,
    "start_time": "2022-01-19T16:21:03.962Z"
   },
   {
    "duration": 5,
    "start_time": "2022-01-19T16:21:09.320Z"
   },
   {
    "duration": 23,
    "start_time": "2022-01-19T16:21:11.674Z"
   },
   {
    "duration": 4,
    "start_time": "2022-01-19T16:21:14.284Z"
   },
   {
    "duration": 24,
    "start_time": "2022-01-19T16:21:16.652Z"
   },
   {
    "duration": 25,
    "start_time": "2022-01-19T16:21:23.329Z"
   },
   {
    "duration": 23,
    "start_time": "2022-01-19T16:21:25.091Z"
   },
   {
    "duration": 64,
    "start_time": "2022-01-19T16:21:27.143Z"
   },
   {
    "duration": 83,
    "start_time": "2022-01-19T16:21:30.760Z"
   },
   {
    "duration": 54,
    "start_time": "2022-01-19T16:21:32.573Z"
   },
   {
    "duration": 41,
    "start_time": "2022-01-19T16:21:35.277Z"
   },
   {
    "duration": 4,
    "start_time": "2022-01-19T16:21:38.278Z"
   },
   {
    "duration": 11,
    "start_time": "2022-01-19T16:21:40.081Z"
   },
   {
    "duration": 39,
    "start_time": "2022-01-19T16:21:42.343Z"
   },
   {
    "duration": 22,
    "start_time": "2022-01-19T16:21:46.275Z"
   },
   {
    "duration": 315,
    "start_time": "2022-01-19T16:21:48.669Z"
   },
   {
    "duration": 254,
    "start_time": "2022-01-19T16:23:17.318Z"
   },
   {
    "duration": 256,
    "start_time": "2022-01-19T16:23:29.413Z"
   },
   {
    "duration": 260,
    "start_time": "2022-01-19T16:24:26.614Z"
   },
   {
    "duration": 259,
    "start_time": "2022-01-19T16:26:34.149Z"
   },
   {
    "duration": 255,
    "start_time": "2022-01-19T16:26:55.726Z"
   },
   {
    "duration": 246,
    "start_time": "2022-01-19T16:27:39.592Z"
   },
   {
    "duration": 311,
    "start_time": "2022-01-19T16:30:45.347Z"
   },
   {
    "duration": 577,
    "start_time": "2022-01-19T16:31:06.080Z"
   },
   {
    "duration": 140,
    "start_time": "2022-01-19T16:31:06.659Z"
   },
   {
    "duration": 17,
    "start_time": "2022-01-19T16:31:06.801Z"
   },
   {
    "duration": 26,
    "start_time": "2022-01-19T16:31:06.820Z"
   },
   {
    "duration": 4,
    "start_time": "2022-01-19T16:31:06.860Z"
   },
   {
    "duration": 26,
    "start_time": "2022-01-19T16:31:06.866Z"
   },
   {
    "duration": 4,
    "start_time": "2022-01-19T16:31:06.894Z"
   },
   {
    "duration": 25,
    "start_time": "2022-01-19T16:31:06.900Z"
   },
   {
    "duration": 37,
    "start_time": "2022-01-19T16:31:06.927Z"
   },
   {
    "duration": 22,
    "start_time": "2022-01-19T16:31:06.965Z"
   },
   {
    "duration": 73,
    "start_time": "2022-01-19T16:31:06.989Z"
   },
   {
    "duration": 73,
    "start_time": "2022-01-19T16:31:07.064Z"
   },
   {
    "duration": 64,
    "start_time": "2022-01-19T16:31:07.139Z"
   },
   {
    "duration": 59,
    "start_time": "2022-01-19T16:31:07.205Z"
   },
   {
    "duration": 3,
    "start_time": "2022-01-19T16:31:07.266Z"
   },
   {
    "duration": 12,
    "start_time": "2022-01-19T16:31:07.271Z"
   },
   {
    "duration": 37,
    "start_time": "2022-01-19T16:31:07.285Z"
   },
   {
    "duration": 46,
    "start_time": "2022-01-19T16:31:07.324Z"
   },
   {
    "duration": 340,
    "start_time": "2022-01-19T16:31:17.194Z"
   },
   {
    "duration": 249,
    "start_time": "2022-01-19T16:32:34.280Z"
   },
   {
    "duration": 272,
    "start_time": "2022-01-19T16:33:54.451Z"
   },
   {
    "duration": 259,
    "start_time": "2022-01-19T16:37:22.580Z"
   },
   {
    "duration": 251,
    "start_time": "2022-01-19T16:37:37.017Z"
   },
   {
    "duration": 252,
    "start_time": "2022-01-19T16:37:48.735Z"
   },
   {
    "duration": 3581,
    "start_time": "2022-01-19T16:38:01.759Z"
   },
   {
    "duration": 79,
    "start_time": "2022-01-19T16:38:57.457Z"
   },
   {
    "duration": 263,
    "start_time": "2022-01-19T16:39:06.191Z"
   },
   {
    "duration": 363,
    "start_time": "2022-01-19T16:42:33.090Z"
   },
   {
    "duration": 250,
    "start_time": "2022-01-19T16:44:14.407Z"
   },
   {
    "duration": 254,
    "start_time": "2022-01-19T16:44:28.252Z"
   },
   {
    "duration": 295,
    "start_time": "2022-01-19T16:45:16.654Z"
   },
   {
    "duration": 674,
    "start_time": "2022-01-19T16:45:54.624Z"
   },
   {
    "duration": 309,
    "start_time": "2022-01-19T16:46:07.553Z"
   },
   {
    "duration": 255,
    "start_time": "2022-01-19T16:46:18.674Z"
   },
   {
    "duration": 23,
    "start_time": "2022-01-19T16:46:44.895Z"
   },
   {
    "duration": 33,
    "start_time": "2022-01-19T16:48:01.318Z"
   },
   {
    "duration": 11,
    "start_time": "2022-01-19T16:49:46.918Z"
   },
   {
    "duration": 267,
    "start_time": "2022-01-19T16:50:34.667Z"
   },
   {
    "duration": 331,
    "start_time": "2022-01-19T16:50:59.870Z"
   },
   {
    "duration": 11,
    "start_time": "2022-01-19T16:51:14.555Z"
   },
   {
    "duration": 33,
    "start_time": "2022-01-19T16:52:27.087Z"
   },
   {
    "duration": 10,
    "start_time": "2022-01-19T16:53:23.154Z"
   },
   {
    "duration": 89,
    "start_time": "2022-01-19T16:54:25.175Z"
   },
   {
    "duration": 251,
    "start_time": "2022-01-19T16:54:44.295Z"
   },
   {
    "duration": 1038,
    "start_time": "2022-01-19T16:56:59.228Z"
   },
   {
    "duration": 81,
    "start_time": "2022-01-19T16:57:22.322Z"
   },
   {
    "duration": 306,
    "start_time": "2022-01-19T16:57:26.852Z"
   },
   {
    "duration": 274,
    "start_time": "2022-01-19T16:58:14.546Z"
   },
   {
    "duration": 11,
    "start_time": "2022-01-19T16:58:44.880Z"
   },
   {
    "duration": 35,
    "start_time": "2022-01-19T17:18:52.192Z"
   },
   {
    "duration": 17,
    "start_time": "2022-01-19T17:19:08.139Z"
   },
   {
    "duration": 15,
    "start_time": "2022-01-19T17:20:59.872Z"
   },
   {
    "duration": 45,
    "start_time": "2022-01-19T17:21:42.444Z"
   },
   {
    "duration": 15,
    "start_time": "2022-01-19T17:22:32.418Z"
   },
   {
    "duration": 607,
    "start_time": "2022-01-19T20:08:03.161Z"
   },
   {
    "duration": 140,
    "start_time": "2022-01-19T20:08:03.769Z"
   },
   {
    "duration": 16,
    "start_time": "2022-01-19T20:08:03.912Z"
   },
   {
    "duration": 35,
    "start_time": "2022-01-19T20:08:03.930Z"
   },
   {
    "duration": 4,
    "start_time": "2022-01-19T20:08:03.967Z"
   },
   {
    "duration": 24,
    "start_time": "2022-01-19T20:08:03.972Z"
   },
   {
    "duration": 4,
    "start_time": "2022-01-19T20:08:03.997Z"
   },
   {
    "duration": 25,
    "start_time": "2022-01-19T20:08:04.004Z"
   },
   {
    "duration": 42,
    "start_time": "2022-01-19T20:08:04.032Z"
   },
   {
    "duration": 23,
    "start_time": "2022-01-19T20:08:04.076Z"
   },
   {
    "duration": 90,
    "start_time": "2022-01-19T20:08:04.101Z"
   },
   {
    "duration": 84,
    "start_time": "2022-01-19T20:08:04.193Z"
   },
   {
    "duration": 52,
    "start_time": "2022-01-19T20:08:04.279Z"
   },
   {
    "duration": 49,
    "start_time": "2022-01-19T20:08:04.332Z"
   },
   {
    "duration": 3,
    "start_time": "2022-01-19T20:08:04.383Z"
   },
   {
    "duration": 11,
    "start_time": "2022-01-19T20:08:04.388Z"
   },
   {
    "duration": 61,
    "start_time": "2022-01-19T20:08:04.401Z"
   },
   {
    "duration": 24,
    "start_time": "2022-01-19T20:08:04.464Z"
   },
   {
    "duration": 3,
    "start_time": "2022-01-19T20:16:17.768Z"
   },
   {
    "duration": 20,
    "start_time": "2022-01-19T20:18:20.929Z"
   },
   {
    "duration": 22,
    "start_time": "2022-01-19T20:18:40.903Z"
   },
   {
    "duration": 20,
    "start_time": "2022-01-19T20:19:59.984Z"
   },
   {
    "duration": 19,
    "start_time": "2022-01-19T20:20:03.855Z"
   },
   {
    "duration": 23,
    "start_time": "2022-01-19T20:20:05.823Z"
   },
   {
    "duration": 20,
    "start_time": "2022-01-19T20:20:07.622Z"
   },
   {
    "duration": 8,
    "start_time": "2022-01-19T20:28:50.486Z"
   },
   {
    "duration": 11,
    "start_time": "2022-01-19T20:29:02.630Z"
   },
   {
    "duration": 17,
    "start_time": "2022-01-19T20:29:15.291Z"
   },
   {
    "duration": 7,
    "start_time": "2022-01-19T20:35:16.658Z"
   },
   {
    "duration": 1354,
    "start_time": "2022-01-19T20:35:18.804Z"
   },
   {
    "duration": 3,
    "start_time": "2022-01-19T20:35:40.043Z"
   },
   {
    "duration": 24,
    "start_time": "2022-01-19T20:35:42.252Z"
   },
   {
    "duration": 21,
    "start_time": "2022-01-19T20:55:06.478Z"
   },
   {
    "duration": 20,
    "start_time": "2022-01-19T20:55:46.050Z"
   },
   {
    "duration": 25,
    "start_time": "2022-01-19T20:56:23.549Z"
   },
   {
    "duration": 12,
    "start_time": "2022-01-19T20:56:29.777Z"
   },
   {
    "duration": 560,
    "start_time": "2022-01-20T06:38:28.097Z"
   },
   {
    "duration": 146,
    "start_time": "2022-01-20T06:38:28.659Z"
   },
   {
    "duration": 17,
    "start_time": "2022-01-20T06:38:28.807Z"
   },
   {
    "duration": 24,
    "start_time": "2022-01-20T06:38:28.826Z"
   },
   {
    "duration": 3,
    "start_time": "2022-01-20T06:38:28.861Z"
   },
   {
    "duration": 23,
    "start_time": "2022-01-20T06:38:28.866Z"
   },
   {
    "duration": 3,
    "start_time": "2022-01-20T06:38:28.891Z"
   },
   {
    "duration": 27,
    "start_time": "2022-01-20T06:38:28.895Z"
   },
   {
    "duration": 38,
    "start_time": "2022-01-20T06:38:28.925Z"
   },
   {
    "duration": 21,
    "start_time": "2022-01-20T06:38:28.965Z"
   },
   {
    "duration": 58,
    "start_time": "2022-01-20T06:38:28.988Z"
   },
   {
    "duration": 78,
    "start_time": "2022-01-20T06:38:29.048Z"
   },
   {
    "duration": 65,
    "start_time": "2022-01-20T06:38:29.127Z"
   },
   {
    "duration": 39,
    "start_time": "2022-01-20T06:38:29.194Z"
   },
   {
    "duration": 2,
    "start_time": "2022-01-20T06:38:29.235Z"
   },
   {
    "duration": 25,
    "start_time": "2022-01-20T06:38:29.239Z"
   },
   {
    "duration": 38,
    "start_time": "2022-01-20T06:38:29.266Z"
   },
   {
    "duration": 20,
    "start_time": "2022-01-20T06:38:29.306Z"
   },
   {
    "duration": 35,
    "start_time": "2022-01-20T06:38:29.328Z"
   },
   {
    "duration": 2,
    "start_time": "2022-01-20T06:38:29.365Z"
   },
   {
    "duration": 24,
    "start_time": "2022-01-20T06:38:29.369Z"
   },
   {
    "duration": 17,
    "start_time": "2022-01-20T06:38:29.395Z"
   },
   {
    "duration": 19,
    "start_time": "2022-01-20T06:38:29.414Z"
   },
   {
    "duration": 43,
    "start_time": "2022-01-20T06:38:29.434Z"
   },
   {
    "duration": 21,
    "start_time": "2022-01-20T06:38:29.478Z"
   },
   {
    "duration": 18,
    "start_time": "2022-01-20T06:38:29.500Z"
   },
   {
    "duration": 8,
    "start_time": "2022-01-20T06:38:29.521Z"
   },
   {
    "duration": 12,
    "start_time": "2022-01-20T06:38:29.561Z"
   },
   {
    "duration": 4,
    "start_time": "2022-01-20T06:49:23.208Z"
   },
   {
    "duration": 772,
    "start_time": "2022-01-20T06:50:35.221Z"
   },
   {
    "duration": 4,
    "start_time": "2022-01-20T06:51:50.857Z"
   },
   {
    "duration": -35,
    "start_time": "2022-01-20T06:52:00.145Z"
   },
   {
    "duration": 9189,
    "start_time": "2022-01-20T06:52:11.638Z"
   },
   {
    "duration": 160,
    "start_time": "2022-01-20T06:54:12.699Z"
   },
   {
    "duration": 23,
    "start_time": "2022-01-20T06:54:27.555Z"
   },
   {
    "duration": 24,
    "start_time": "2022-01-20T06:55:06.271Z"
   },
   {
    "duration": 17,
    "start_time": "2022-01-20T06:55:28.887Z"
   },
   {
    "duration": 24,
    "start_time": "2022-01-20T06:55:44.161Z"
   },
   {
    "duration": 22,
    "start_time": "2022-01-20T06:56:09.842Z"
   },
   {
    "duration": 7609,
    "start_time": "2022-01-20T06:57:29.328Z"
   },
   {
    "duration": 279,
    "start_time": "2022-01-20T07:00:57.001Z"
   },
   {
    "duration": 9019,
    "start_time": "2022-01-20T07:01:32.415Z"
   },
   {
    "duration": 22,
    "start_time": "2022-01-20T07:03:02.228Z"
   },
   {
    "duration": 3,
    "start_time": "2022-01-20T07:03:49.793Z"
   },
   {
    "duration": 501,
    "start_time": "2022-01-20T07:03:54.992Z"
   },
   {
    "duration": 5,
    "start_time": "2022-01-20T07:04:30.034Z"
   },
   {
    "duration": 24,
    "start_time": "2022-01-20T07:04:34.967Z"
   },
   {
    "duration": 4,
    "start_time": "2022-01-20T07:05:30.528Z"
   },
   {
    "duration": 563,
    "start_time": "2022-01-20T07:05:32.941Z"
   },
   {
    "duration": 5,
    "start_time": "2022-01-20T07:05:58.421Z"
   },
   {
    "duration": 695,
    "start_time": "2022-01-20T07:06:01.386Z"
   },
   {
    "duration": 4,
    "start_time": "2022-01-20T07:06:07.281Z"
   },
   {
    "duration": 22,
    "start_time": "2022-01-20T07:06:09.283Z"
   },
   {
    "duration": 22,
    "start_time": "2022-01-20T07:07:10.136Z"
   },
   {
    "duration": 23,
    "start_time": "2022-01-20T07:07:21.283Z"
   },
   {
    "duration": 4,
    "start_time": "2022-01-20T07:08:02.371Z"
   },
   {
    "duration": 672,
    "start_time": "2022-01-20T07:08:05.320Z"
   },
   {
    "duration": 4,
    "start_time": "2022-01-20T07:08:18.099Z"
   },
   {
    "duration": 21,
    "start_time": "2022-01-20T07:08:19.996Z"
   },
   {
    "duration": 1068,
    "start_time": "2022-01-20T07:08:59.515Z"
   },
   {
    "duration": 9,
    "start_time": "2022-01-20T07:09:08.253Z"
   },
   {
    "duration": 4,
    "start_time": "2022-01-20T07:09:11.496Z"
   },
   {
    "duration": 20,
    "start_time": "2022-01-20T07:09:13.903Z"
   },
   {
    "duration": 13,
    "start_time": "2022-01-20T07:09:17.051Z"
   },
   {
    "duration": 19,
    "start_time": "2022-01-20T07:10:01.985Z"
   },
   {
    "duration": 13,
    "start_time": "2022-01-20T07:10:20.284Z"
   },
   {
    "duration": 276,
    "start_time": "2022-01-20T07:36:33.782Z"
   },
   {
    "duration": 25,
    "start_time": "2022-01-20T07:36:53.441Z"
   },
   {
    "duration": 265,
    "start_time": "2022-01-20T07:37:51.856Z"
   },
   {
    "duration": 11,
    "start_time": "2022-01-20T07:38:08.081Z"
   },
   {
    "duration": 8,
    "start_time": "2022-01-20T07:39:53.524Z"
   },
   {
    "duration": 4,
    "start_time": "2022-01-20T07:39:55.348Z"
   },
   {
    "duration": 6,
    "start_time": "2022-01-20T07:40:01.287Z"
   },
   {
    "duration": 5,
    "start_time": "2022-01-20T07:40:09.172Z"
   },
   {
    "duration": 7,
    "start_time": "2022-01-20T07:40:17.002Z"
   },
   {
    "duration": 5,
    "start_time": "2022-01-20T07:40:36.848Z"
   },
   {
    "duration": 6,
    "start_time": "2022-01-20T07:43:26.878Z"
   },
   {
    "duration": 4,
    "start_time": "2022-01-20T07:43:28.742Z"
   },
   {
    "duration": 663,
    "start_time": "2022-01-24T13:26:20.212Z"
   },
   {
    "duration": 131,
    "start_time": "2022-01-24T13:26:20.877Z"
   },
   {
    "duration": 17,
    "start_time": "2022-01-24T13:26:21.010Z"
   },
   {
    "duration": 25,
    "start_time": "2022-01-24T13:26:21.029Z"
   },
   {
    "duration": 4,
    "start_time": "2022-01-24T13:26:21.056Z"
   },
   {
    "duration": 22,
    "start_time": "2022-01-24T13:26:21.061Z"
   },
   {
    "duration": 28,
    "start_time": "2022-01-24T13:26:21.085Z"
   },
   {
    "duration": 22,
    "start_time": "2022-01-24T13:26:21.115Z"
   },
   {
    "duration": 17,
    "start_time": "2022-01-24T13:26:21.140Z"
   },
   {
    "duration": 22,
    "start_time": "2022-01-24T13:26:21.159Z"
   },
   {
    "duration": 80,
    "start_time": "2022-01-24T13:26:21.183Z"
   },
   {
    "duration": 82,
    "start_time": "2022-01-24T13:26:21.265Z"
   },
   {
    "duration": 48,
    "start_time": "2022-01-24T13:26:21.349Z"
   },
   {
    "duration": 47,
    "start_time": "2022-01-24T13:26:21.399Z"
   },
   {
    "duration": 2,
    "start_time": "2022-01-24T13:26:21.448Z"
   },
   {
    "duration": 11,
    "start_time": "2022-01-24T13:26:21.452Z"
   },
   {
    "duration": 60,
    "start_time": "2022-01-24T13:26:21.465Z"
   },
   {
    "duration": 20,
    "start_time": "2022-01-24T13:26:21.527Z"
   },
   {
    "duration": 21,
    "start_time": "2022-01-24T13:26:21.549Z"
   },
   {
    "duration": 3,
    "start_time": "2022-01-24T13:26:21.572Z"
   },
   {
    "duration": 49,
    "start_time": "2022-01-24T13:26:21.577Z"
   },
   {
    "duration": 16,
    "start_time": "2022-01-24T13:26:21.628Z"
   },
   {
    "duration": 17,
    "start_time": "2022-01-24T13:26:21.645Z"
   },
   {
    "duration": 50,
    "start_time": "2022-01-24T13:26:21.664Z"
   },
   {
    "duration": 20,
    "start_time": "2022-01-24T13:26:21.715Z"
   },
   {
    "duration": 19,
    "start_time": "2022-01-24T13:26:21.737Z"
   },
   {
    "duration": 8,
    "start_time": "2022-01-24T13:26:21.759Z"
   },
   {
    "duration": 48,
    "start_time": "2022-01-24T13:26:21.769Z"
   },
   {
    "duration": 10,
    "start_time": "2022-01-24T13:26:21.819Z"
   },
   {
    "duration": 4,
    "start_time": "2022-01-24T13:26:21.831Z"
   },
   {
    "duration": 22,
    "start_time": "2022-01-24T13:26:21.837Z"
   },
   {
    "duration": 11,
    "start_time": "2022-01-24T13:26:21.860Z"
   },
   {
    "duration": 48,
    "start_time": "2022-01-24T13:26:21.872Z"
   },
   {
    "duration": 11,
    "start_time": "2022-01-24T13:26:21.921Z"
   },
   {
    "duration": 8,
    "start_time": "2022-01-24T13:26:21.933Z"
   },
   {
    "duration": 3,
    "start_time": "2022-01-24T13:26:21.943Z"
   },
   {
    "duration": 7,
    "start_time": "2022-01-24T13:26:21.948Z"
   },
   {
    "duration": 4,
    "start_time": "2022-01-24T13:26:21.956Z"
   },
   {
    "duration": 95,
    "start_time": "2022-01-24T13:34:54.082Z"
   },
   {
    "duration": 8,
    "start_time": "2022-01-24T15:07:03.117Z"
   },
   {
    "duration": 717,
    "start_time": "2022-01-24T16:25:17.855Z"
   },
   {
    "duration": 152,
    "start_time": "2022-01-24T16:25:18.574Z"
   },
   {
    "duration": 19,
    "start_time": "2022-01-24T16:25:18.728Z"
   },
   {
    "duration": 87,
    "start_time": "2022-01-24T16:25:18.749Z"
   },
   {
    "duration": 19,
    "start_time": "2022-01-24T16:25:18.838Z"
   },
   {
    "duration": 27,
    "start_time": "2022-01-24T16:25:18.859Z"
   },
   {
    "duration": 22,
    "start_time": "2022-01-24T16:25:18.888Z"
   },
   {
    "duration": 41,
    "start_time": "2022-01-24T16:25:18.913Z"
   },
   {
    "duration": 33,
    "start_time": "2022-01-24T16:25:18.956Z"
   },
   {
    "duration": 45,
    "start_time": "2022-01-24T16:25:18.991Z"
   },
   {
    "duration": 74,
    "start_time": "2022-01-24T16:25:19.038Z"
   },
   {
    "duration": 78,
    "start_time": "2022-01-24T16:25:19.114Z"
   },
   {
    "duration": 59,
    "start_time": "2022-01-24T16:25:19.194Z"
   },
   {
    "duration": 57,
    "start_time": "2022-01-24T16:25:19.256Z"
   },
   {
    "duration": 3,
    "start_time": "2022-01-24T16:25:19.315Z"
   },
   {
    "duration": 14,
    "start_time": "2022-01-24T16:25:19.320Z"
   },
   {
    "duration": 43,
    "start_time": "2022-01-24T16:25:19.337Z"
   },
   {
    "duration": 44,
    "start_time": "2022-01-24T16:25:19.382Z"
   },
   {
    "duration": 16,
    "start_time": "2022-01-24T16:25:19.428Z"
   },
   {
    "duration": 4,
    "start_time": "2022-01-24T16:25:24.154Z"
   },
   {
    "duration": 18,
    "start_time": "2022-01-24T16:25:26.860Z"
   },
   {
    "duration": 15,
    "start_time": "2022-01-24T16:25:29.860Z"
   },
   {
    "duration": 75,
    "start_time": "2022-01-24T16:27:58.708Z"
   },
   {
    "duration": 84,
    "start_time": "2022-01-24T16:29:29.052Z"
   },
   {
    "duration": 90,
    "start_time": "2022-01-24T16:29:45.196Z"
   },
   {
    "duration": 80,
    "start_time": "2022-01-24T16:29:54.392Z"
   },
   {
    "duration": 80,
    "start_time": "2022-01-24T16:33:27.097Z"
   },
   {
    "duration": 80,
    "start_time": "2022-01-24T16:33:34.896Z"
   },
   {
    "duration": 90,
    "start_time": "2022-01-24T16:33:47.490Z"
   },
   {
    "duration": 18,
    "start_time": "2022-01-24T16:35:55.670Z"
   },
   {
    "duration": 16,
    "start_time": "2022-01-24T16:35:57.343Z"
   },
   {
    "duration": 17,
    "start_time": "2022-01-24T16:35:57.824Z"
   },
   {
    "duration": 16,
    "start_time": "2022-01-24T16:35:58.282Z"
   }
  ],
  "colab": {
   "collapsed_sections": [
    "E0vqbgi9ay0H",
    "VUC88oWjTJw2"
   ],
   "name": "yandex_music_project_2021.2.ipynb",
   "provenance": []
  },
  "kernelspec": {
   "display_name": "Python 3 (ipykernel)",
   "language": "python",
   "name": "python3"
  },
  "language_info": {
   "codemirror_mode": {
    "name": "ipython",
    "version": 3
   },
   "file_extension": ".py",
   "mimetype": "text/x-python",
   "name": "python",
   "nbconvert_exporter": "python",
   "pygments_lexer": "ipython3",
   "version": "3.9.5"
  },
  "toc": {
   "base_numbering": 1,
   "nav_menu": {},
   "number_sections": true,
   "sideBar": true,
   "skip_h1_title": true,
   "title_cell": "Table of Contents",
   "title_sidebar": "Contents",
   "toc_cell": false,
   "toc_position": {},
   "toc_section_display": true,
   "toc_window_display": true
  }
 },
 "nbformat": 4,
 "nbformat_minor": 1
}
