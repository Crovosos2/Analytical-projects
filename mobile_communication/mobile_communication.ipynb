{
 "cells": [
  {
   "cell_type": "markdown",
   "metadata": {},
   "source": [
    "## Открытие файлов с данными и изучение общей информации"
   ]
  },
  {
   "cell_type": "code",
   "execution_count": 105,
   "metadata": {},
   "outputs": [],
   "source": [
    "import pandas as pd\n",
    "import numpy as np\n",
    "from scipy import stats as st\n",
    "import matplotlib.pyplot as plt\n",
    "import math\n",
    "# Поочередно открываем датасеты\n",
    "calls_df = pd.read_csv('/datasets/calls.csv')\n",
    "internet_df = pd.read_csv('/datasets/internet.csv')\n",
    "messages_df = pd.read_csv('/datasets/messages.csv')\n",
    "tariffs_df = pd.read_csv('/datasets/tariffs.csv')\n",
    "users_df = pd.read_csv('/datasets/users.csv')"
   ]
  },
  {
   "cell_type": "markdown",
   "metadata": {},
   "source": [
    "## Подготовка данных"
   ]
  },
  {
   "cell_type": "markdown",
   "metadata": {},
   "source": [
    "### Подготовка данных датасета calls_df"
   ]
  },
  {
   "cell_type": "code",
   "execution_count": 106,
   "metadata": {},
   "outputs": [
    {
     "name": "stdout",
     "output_type": "stream",
     "text": [
      "<class 'pandas.core.frame.DataFrame'>\n",
      "RangeIndex: 202607 entries, 0 to 202606\n",
      "Data columns (total 4 columns):\n",
      "id           202607 non-null object\n",
      "call_date    202607 non-null object\n",
      "duration     202607 non-null float64\n",
      "user_id      202607 non-null int64\n",
      "dtypes: float64(1), int64(1), object(2)\n",
      "memory usage: 6.2+ MB\n"
     ]
    }
   ],
   "source": [
    "calls_df.info()\n",
    "# приведение call_date к типу datetime\n",
    "calls_df['call_date'] = pd.to_datetime(calls_df['call_date'], format=\"%Y/%m/%d\")"
   ]
  },
  {
   "cell_type": "code",
   "execution_count": 107,
   "metadata": {},
   "outputs": [
    {
     "data": {
      "text/html": [
       "<div>\n",
       "<style scoped>\n",
       "    .dataframe tbody tr th:only-of-type {\n",
       "        vertical-align: middle;\n",
       "    }\n",
       "\n",
       "    .dataframe tbody tr th {\n",
       "        vertical-align: top;\n",
       "    }\n",
       "\n",
       "    .dataframe thead th {\n",
       "        text-align: right;\n",
       "    }\n",
       "</style>\n",
       "<table border=\"1\" class=\"dataframe\">\n",
       "  <thead>\n",
       "    <tr style=\"text-align: right;\">\n",
       "      <th></th>\n",
       "      <th>id</th>\n",
       "      <th>call_date</th>\n",
       "      <th>duration</th>\n",
       "      <th>user_id</th>\n",
       "    </tr>\n",
       "  </thead>\n",
       "  <tbody>\n",
       "    <tr>\n",
       "      <td>0</td>\n",
       "      <td>1000_0</td>\n",
       "      <td>2018-07-25</td>\n",
       "      <td>0.00</td>\n",
       "      <td>1000</td>\n",
       "    </tr>\n",
       "    <tr>\n",
       "      <td>1</td>\n",
       "      <td>1000_1</td>\n",
       "      <td>2018-08-17</td>\n",
       "      <td>0.00</td>\n",
       "      <td>1000</td>\n",
       "    </tr>\n",
       "    <tr>\n",
       "      <td>2</td>\n",
       "      <td>1000_2</td>\n",
       "      <td>2018-06-11</td>\n",
       "      <td>2.85</td>\n",
       "      <td>1000</td>\n",
       "    </tr>\n",
       "    <tr>\n",
       "      <td>3</td>\n",
       "      <td>1000_3</td>\n",
       "      <td>2018-09-21</td>\n",
       "      <td>13.80</td>\n",
       "      <td>1000</td>\n",
       "    </tr>\n",
       "    <tr>\n",
       "      <td>4</td>\n",
       "      <td>1000_4</td>\n",
       "      <td>2018-12-15</td>\n",
       "      <td>5.18</td>\n",
       "      <td>1000</td>\n",
       "    </tr>\n",
       "    <tr>\n",
       "      <td>...</td>\n",
       "      <td>...</td>\n",
       "      <td>...</td>\n",
       "      <td>...</td>\n",
       "      <td>...</td>\n",
       "    </tr>\n",
       "    <tr>\n",
       "      <td>202602</td>\n",
       "      <td>1499_215</td>\n",
       "      <td>2018-12-26</td>\n",
       "      <td>0.76</td>\n",
       "      <td>1499</td>\n",
       "    </tr>\n",
       "    <tr>\n",
       "      <td>202603</td>\n",
       "      <td>1499_216</td>\n",
       "      <td>2018-10-18</td>\n",
       "      <td>18.83</td>\n",
       "      <td>1499</td>\n",
       "    </tr>\n",
       "    <tr>\n",
       "      <td>202604</td>\n",
       "      <td>1499_217</td>\n",
       "      <td>2018-11-10</td>\n",
       "      <td>10.81</td>\n",
       "      <td>1499</td>\n",
       "    </tr>\n",
       "    <tr>\n",
       "      <td>202605</td>\n",
       "      <td>1499_218</td>\n",
       "      <td>2018-10-06</td>\n",
       "      <td>4.27</td>\n",
       "      <td>1499</td>\n",
       "    </tr>\n",
       "    <tr>\n",
       "      <td>202606</td>\n",
       "      <td>1499_219</td>\n",
       "      <td>2018-12-14</td>\n",
       "      <td>19.62</td>\n",
       "      <td>1499</td>\n",
       "    </tr>\n",
       "  </tbody>\n",
       "</table>\n",
       "<p>202607 rows × 4 columns</p>\n",
       "</div>"
      ],
      "text/plain": [
       "              id  call_date  duration  user_id\n",
       "0         1000_0 2018-07-25      0.00     1000\n",
       "1         1000_1 2018-08-17      0.00     1000\n",
       "2         1000_2 2018-06-11      2.85     1000\n",
       "3         1000_3 2018-09-21     13.80     1000\n",
       "4         1000_4 2018-12-15      5.18     1000\n",
       "...          ...        ...       ...      ...\n",
       "202602  1499_215 2018-12-26      0.76     1499\n",
       "202603  1499_216 2018-10-18     18.83     1499\n",
       "202604  1499_217 2018-11-10     10.81     1499\n",
       "202605  1499_218 2018-10-06      4.27     1499\n",
       "202606  1499_219 2018-12-14     19.62     1499\n",
       "\n",
       "[202607 rows x 4 columns]"
      ]
     },
     "metadata": {},
     "output_type": "display_data"
    }
   ],
   "source": [
    "display(calls_df)"
   ]
  },
  {
   "cell_type": "code",
   "execution_count": 108,
   "metadata": {},
   "outputs": [
    {
     "name": "stdout",
     "output_type": "stream",
     "text": [
      "id           0\n",
      "call_date    0\n",
      "duration     0\n",
      "user_id      0\n",
      "dtype: int64\n",
      "0\n"
     ]
    }
   ],
   "source": [
    "# проверка датасета на наличие пропусков и дубликатов\n",
    "print(calls_df.isna().sum())\n",
    "print(calls_df.duplicated().sum())"
   ]
  },
  {
   "cell_type": "markdown",
   "metadata": {},
   "source": [
    "<div class=\"alert alert-info\">\n",
    "<b>Комментарий:</b><br>\n",
    "• Столбец call_date был приведен к типу datetime\n",
    "</div>"
   ]
  },
  {
   "cell_type": "markdown",
   "metadata": {},
   "source": [
    "### Подготовка данных датасета internet_df"
   ]
  },
  {
   "cell_type": "code",
   "execution_count": 109,
   "metadata": {},
   "outputs": [
    {
     "name": "stdout",
     "output_type": "stream",
     "text": [
      "<class 'pandas.core.frame.DataFrame'>\n",
      "RangeIndex: 149396 entries, 0 to 149395\n",
      "Data columns (total 5 columns):\n",
      "Unnamed: 0      149396 non-null int64\n",
      "id              149396 non-null object\n",
      "mb_used         149396 non-null float64\n",
      "session_date    149396 non-null object\n",
      "user_id         149396 non-null int64\n",
      "dtypes: float64(1), int64(2), object(2)\n",
      "memory usage: 5.7+ MB\n"
     ]
    }
   ],
   "source": [
    "internet_df.info()"
   ]
  },
  {
   "cell_type": "code",
   "execution_count": 110,
   "metadata": {},
   "outputs": [
    {
     "data": {
      "text/html": [
       "<div>\n",
       "<style scoped>\n",
       "    .dataframe tbody tr th:only-of-type {\n",
       "        vertical-align: middle;\n",
       "    }\n",
       "\n",
       "    .dataframe tbody tr th {\n",
       "        vertical-align: top;\n",
       "    }\n",
       "\n",
       "    .dataframe thead th {\n",
       "        text-align: right;\n",
       "    }\n",
       "</style>\n",
       "<table border=\"1\" class=\"dataframe\">\n",
       "  <thead>\n",
       "    <tr style=\"text-align: right;\">\n",
       "      <th></th>\n",
       "      <th>Unnamed: 0</th>\n",
       "      <th>id</th>\n",
       "      <th>mb_used</th>\n",
       "      <th>session_date</th>\n",
       "      <th>user_id</th>\n",
       "    </tr>\n",
       "  </thead>\n",
       "  <tbody>\n",
       "    <tr>\n",
       "      <td>0</td>\n",
       "      <td>0</td>\n",
       "      <td>1000_0</td>\n",
       "      <td>112.95</td>\n",
       "      <td>2018-11-25</td>\n",
       "      <td>1000</td>\n",
       "    </tr>\n",
       "    <tr>\n",
       "      <td>1</td>\n",
       "      <td>1</td>\n",
       "      <td>1000_1</td>\n",
       "      <td>1052.81</td>\n",
       "      <td>2018-09-07</td>\n",
       "      <td>1000</td>\n",
       "    </tr>\n",
       "    <tr>\n",
       "      <td>2</td>\n",
       "      <td>2</td>\n",
       "      <td>1000_2</td>\n",
       "      <td>1197.26</td>\n",
       "      <td>2018-06-25</td>\n",
       "      <td>1000</td>\n",
       "    </tr>\n",
       "    <tr>\n",
       "      <td>3</td>\n",
       "      <td>3</td>\n",
       "      <td>1000_3</td>\n",
       "      <td>550.27</td>\n",
       "      <td>2018-08-22</td>\n",
       "      <td>1000</td>\n",
       "    </tr>\n",
       "    <tr>\n",
       "      <td>4</td>\n",
       "      <td>4</td>\n",
       "      <td>1000_4</td>\n",
       "      <td>302.56</td>\n",
       "      <td>2018-09-24</td>\n",
       "      <td>1000</td>\n",
       "    </tr>\n",
       "    <tr>\n",
       "      <td>...</td>\n",
       "      <td>...</td>\n",
       "      <td>...</td>\n",
       "      <td>...</td>\n",
       "      <td>...</td>\n",
       "      <td>...</td>\n",
       "    </tr>\n",
       "    <tr>\n",
       "      <td>149391</td>\n",
       "      <td>149391</td>\n",
       "      <td>1499_152</td>\n",
       "      <td>318.90</td>\n",
       "      <td>2018-10-03</td>\n",
       "      <td>1499</td>\n",
       "    </tr>\n",
       "    <tr>\n",
       "      <td>149392</td>\n",
       "      <td>149392</td>\n",
       "      <td>1499_153</td>\n",
       "      <td>490.13</td>\n",
       "      <td>2018-12-14</td>\n",
       "      <td>1499</td>\n",
       "    </tr>\n",
       "    <tr>\n",
       "      <td>149393</td>\n",
       "      <td>149393</td>\n",
       "      <td>1499_154</td>\n",
       "      <td>0.00</td>\n",
       "      <td>2018-10-27</td>\n",
       "      <td>1499</td>\n",
       "    </tr>\n",
       "    <tr>\n",
       "      <td>149394</td>\n",
       "      <td>149394</td>\n",
       "      <td>1499_155</td>\n",
       "      <td>1246.32</td>\n",
       "      <td>2018-11-26</td>\n",
       "      <td>1499</td>\n",
       "    </tr>\n",
       "    <tr>\n",
       "      <td>149395</td>\n",
       "      <td>149395</td>\n",
       "      <td>1499_156</td>\n",
       "      <td>544.37</td>\n",
       "      <td>2018-10-26</td>\n",
       "      <td>1499</td>\n",
       "    </tr>\n",
       "  </tbody>\n",
       "</table>\n",
       "<p>149396 rows × 5 columns</p>\n",
       "</div>"
      ],
      "text/plain": [
       "        Unnamed: 0        id  mb_used session_date  user_id\n",
       "0                0    1000_0   112.95   2018-11-25     1000\n",
       "1                1    1000_1  1052.81   2018-09-07     1000\n",
       "2                2    1000_2  1197.26   2018-06-25     1000\n",
       "3                3    1000_3   550.27   2018-08-22     1000\n",
       "4                4    1000_4   302.56   2018-09-24     1000\n",
       "...            ...       ...      ...          ...      ...\n",
       "149391      149391  1499_152   318.90   2018-10-03     1499\n",
       "149392      149392  1499_153   490.13   2018-12-14     1499\n",
       "149393      149393  1499_154     0.00   2018-10-27     1499\n",
       "149394      149394  1499_155  1246.32   2018-11-26     1499\n",
       "149395      149395  1499_156   544.37   2018-10-26     1499\n",
       "\n",
       "[149396 rows x 5 columns]"
      ]
     },
     "metadata": {},
     "output_type": "display_data"
    }
   ],
   "source": [
    "display(internet_df)"
   ]
  },
  {
   "cell_type": "code",
   "execution_count": 111,
   "metadata": {},
   "outputs": [],
   "source": [
    "# Удаление столбца Unnamed: 0 и приведение session_date к datetime\n",
    "del internet_df['Unnamed: 0']\n",
    "internet_df['session_date'] = pd.to_datetime(internet_df['session_date'], format=\"%Y/%m/%d\")"
   ]
  },
  {
   "cell_type": "code",
   "execution_count": 112,
   "metadata": {},
   "outputs": [
    {
     "name": "stdout",
     "output_type": "stream",
     "text": [
      "id              0\n",
      "mb_used         0\n",
      "session_date    0\n",
      "user_id         0\n",
      "dtype: int64\n",
      "0\n"
     ]
    }
   ],
   "source": [
    "# проверка датасета на наличие пропусков и дубликатов\n",
    "print(internet_df.isna().sum())\n",
    "print(internet_df.duplicated().sum())"
   ]
  },
  {
   "cell_type": "code",
   "execution_count": 113,
   "metadata": {},
   "outputs": [
    {
     "name": "stdout",
     "output_type": "stream",
     "text": [
      "id              19598\n",
      "mb_used         19598\n",
      "session_date    19598\n",
      "user_id         19598\n",
      "dtype: int64\n"
     ]
    }
   ],
   "source": [
    "# Имеются записи, где объём потраченного за сессию интернет-трафика равен 0. Коль сессия была (есть запись), то 0 быть не может.\n",
    "# Подсчёт количества таких записей\n",
    "print(internet_df[internet_df['mb_used'] == 0].count())\n",
    "# Т.к. 0 быть не может, то удаляем эти записи из дф\n",
    "internet_df = internet_df[internet_df['mb_used'] > 0].reset_index(drop=True)"
   ]
  },
  {
   "cell_type": "markdown",
   "metadata": {},
   "source": [
    "<div class=\"alert alert-info\">\n",
    "<b>Комментарий:</b><br>\n",
    "• Был обнаружен и удален столбец Unnamed: 0.<br>\n",
    "• Столбец session_date был приведен к типу datetime.<br>\n",
    "• Были обнаружены записи, где интернет-трафик равен 0, что невозможно при выходе в интернет. Записи были удалены.<br>\n",
    "</div>"
   ]
  },
  {
   "cell_type": "markdown",
   "metadata": {},
   "source": [
    "### Подготовка данных датасета messages_df"
   ]
  },
  {
   "cell_type": "code",
   "execution_count": 114,
   "metadata": {},
   "outputs": [
    {
     "name": "stdout",
     "output_type": "stream",
     "text": [
      "<class 'pandas.core.frame.DataFrame'>\n",
      "RangeIndex: 123036 entries, 0 to 123035\n",
      "Data columns (total 3 columns):\n",
      "id              123036 non-null object\n",
      "message_date    123036 non-null object\n",
      "user_id         123036 non-null int64\n",
      "dtypes: int64(1), object(2)\n",
      "memory usage: 2.8+ MB\n"
     ]
    },
    {
     "data": {
      "text/html": [
       "<div>\n",
       "<style scoped>\n",
       "    .dataframe tbody tr th:only-of-type {\n",
       "        vertical-align: middle;\n",
       "    }\n",
       "\n",
       "    .dataframe tbody tr th {\n",
       "        vertical-align: top;\n",
       "    }\n",
       "\n",
       "    .dataframe thead th {\n",
       "        text-align: right;\n",
       "    }\n",
       "</style>\n",
       "<table border=\"1\" class=\"dataframe\">\n",
       "  <thead>\n",
       "    <tr style=\"text-align: right;\">\n",
       "      <th></th>\n",
       "      <th>id</th>\n",
       "      <th>message_date</th>\n",
       "      <th>user_id</th>\n",
       "    </tr>\n",
       "  </thead>\n",
       "  <tbody>\n",
       "    <tr>\n",
       "      <td>0</td>\n",
       "      <td>1000_0</td>\n",
       "      <td>2018-06-27</td>\n",
       "      <td>1000</td>\n",
       "    </tr>\n",
       "    <tr>\n",
       "      <td>1</td>\n",
       "      <td>1000_1</td>\n",
       "      <td>2018-10-08</td>\n",
       "      <td>1000</td>\n",
       "    </tr>\n",
       "    <tr>\n",
       "      <td>2</td>\n",
       "      <td>1000_2</td>\n",
       "      <td>2018-08-04</td>\n",
       "      <td>1000</td>\n",
       "    </tr>\n",
       "    <tr>\n",
       "      <td>3</td>\n",
       "      <td>1000_3</td>\n",
       "      <td>2018-06-16</td>\n",
       "      <td>1000</td>\n",
       "    </tr>\n",
       "    <tr>\n",
       "      <td>4</td>\n",
       "      <td>1000_4</td>\n",
       "      <td>2018-12-05</td>\n",
       "      <td>1000</td>\n",
       "    </tr>\n",
       "    <tr>\n",
       "      <td>...</td>\n",
       "      <td>...</td>\n",
       "      <td>...</td>\n",
       "      <td>...</td>\n",
       "    </tr>\n",
       "    <tr>\n",
       "      <td>123031</td>\n",
       "      <td>1499_179</td>\n",
       "      <td>2018-12-12</td>\n",
       "      <td>1499</td>\n",
       "    </tr>\n",
       "    <tr>\n",
       "      <td>123032</td>\n",
       "      <td>1499_180</td>\n",
       "      <td>2018-09-28</td>\n",
       "      <td>1499</td>\n",
       "    </tr>\n",
       "    <tr>\n",
       "      <td>123033</td>\n",
       "      <td>1499_181</td>\n",
       "      <td>2018-09-27</td>\n",
       "      <td>1499</td>\n",
       "    </tr>\n",
       "    <tr>\n",
       "      <td>123034</td>\n",
       "      <td>1499_182</td>\n",
       "      <td>2018-11-15</td>\n",
       "      <td>1499</td>\n",
       "    </tr>\n",
       "    <tr>\n",
       "      <td>123035</td>\n",
       "      <td>1499_183</td>\n",
       "      <td>2018-11-16</td>\n",
       "      <td>1499</td>\n",
       "    </tr>\n",
       "  </tbody>\n",
       "</table>\n",
       "<p>123036 rows × 3 columns</p>\n",
       "</div>"
      ],
      "text/plain": [
       "              id message_date  user_id\n",
       "0         1000_0   2018-06-27     1000\n",
       "1         1000_1   2018-10-08     1000\n",
       "2         1000_2   2018-08-04     1000\n",
       "3         1000_3   2018-06-16     1000\n",
       "4         1000_4   2018-12-05     1000\n",
       "...          ...          ...      ...\n",
       "123031  1499_179   2018-12-12     1499\n",
       "123032  1499_180   2018-09-28     1499\n",
       "123033  1499_181   2018-09-27     1499\n",
       "123034  1499_182   2018-11-15     1499\n",
       "123035  1499_183   2018-11-16     1499\n",
       "\n",
       "[123036 rows x 3 columns]"
      ]
     },
     "metadata": {},
     "output_type": "display_data"
    }
   ],
   "source": [
    "messages_df.info()\n",
    "display(messages_df)"
   ]
  },
  {
   "cell_type": "code",
   "execution_count": 115,
   "metadata": {},
   "outputs": [],
   "source": [
    "# Приведение massage_date к datetime\n",
    "messages_df['message_date'] = pd.to_datetime(messages_df['message_date'], format=\"%Y/%m/%d\")"
   ]
  },
  {
   "cell_type": "code",
   "execution_count": 116,
   "metadata": {},
   "outputs": [
    {
     "name": "stdout",
     "output_type": "stream",
     "text": [
      "id              0\n",
      "message_date    0\n",
      "user_id         0\n",
      "dtype: int64\n",
      "0\n"
     ]
    }
   ],
   "source": [
    "# проверка датасета на наличие пропусков и дубликатов\n",
    "print(messages_df.isna().sum())\n",
    "print(messages_df.duplicated().sum())"
   ]
  },
  {
   "cell_type": "markdown",
   "metadata": {},
   "source": [
    "<div class=\"alert alert-info\">\n",
    "<b>Комментарий:</b><br>\n",
    "• Столбец message_date был приведет к типу datetime.\n",
    "</div>"
   ]
  },
  {
   "cell_type": "markdown",
   "metadata": {},
   "source": [
    "### Подготовка данных датасета tariffs_df"
   ]
  },
  {
   "cell_type": "code",
   "execution_count": 117,
   "metadata": {},
   "outputs": [
    {
     "name": "stdout",
     "output_type": "stream",
     "text": [
      "<class 'pandas.core.frame.DataFrame'>\n",
      "RangeIndex: 2 entries, 0 to 1\n",
      "Data columns (total 8 columns):\n",
      "messages_included        2 non-null int64\n",
      "mb_per_month_included    2 non-null int64\n",
      "minutes_included         2 non-null int64\n",
      "rub_monthly_fee          2 non-null int64\n",
      "rub_per_gb               2 non-null int64\n",
      "rub_per_message          2 non-null int64\n",
      "rub_per_minute           2 non-null int64\n",
      "tariff_name              2 non-null object\n",
      "dtypes: int64(7), object(1)\n",
      "memory usage: 256.0+ bytes\n"
     ]
    },
    {
     "data": {
      "text/html": [
       "<div>\n",
       "<style scoped>\n",
       "    .dataframe tbody tr th:only-of-type {\n",
       "        vertical-align: middle;\n",
       "    }\n",
       "\n",
       "    .dataframe tbody tr th {\n",
       "        vertical-align: top;\n",
       "    }\n",
       "\n",
       "    .dataframe thead th {\n",
       "        text-align: right;\n",
       "    }\n",
       "</style>\n",
       "<table border=\"1\" class=\"dataframe\">\n",
       "  <thead>\n",
       "    <tr style=\"text-align: right;\">\n",
       "      <th></th>\n",
       "      <th>messages_included</th>\n",
       "      <th>mb_per_month_included</th>\n",
       "      <th>minutes_included</th>\n",
       "      <th>rub_monthly_fee</th>\n",
       "      <th>rub_per_gb</th>\n",
       "      <th>rub_per_message</th>\n",
       "      <th>rub_per_minute</th>\n",
       "      <th>tariff_name</th>\n",
       "    </tr>\n",
       "  </thead>\n",
       "  <tbody>\n",
       "    <tr>\n",
       "      <td>0</td>\n",
       "      <td>50</td>\n",
       "      <td>15360</td>\n",
       "      <td>500</td>\n",
       "      <td>550</td>\n",
       "      <td>200</td>\n",
       "      <td>3</td>\n",
       "      <td>3</td>\n",
       "      <td>smart</td>\n",
       "    </tr>\n",
       "    <tr>\n",
       "      <td>1</td>\n",
       "      <td>1000</td>\n",
       "      <td>30720</td>\n",
       "      <td>3000</td>\n",
       "      <td>1950</td>\n",
       "      <td>150</td>\n",
       "      <td>1</td>\n",
       "      <td>1</td>\n",
       "      <td>ultra</td>\n",
       "    </tr>\n",
       "  </tbody>\n",
       "</table>\n",
       "</div>"
      ],
      "text/plain": [
       "   messages_included  mb_per_month_included  minutes_included  \\\n",
       "0                 50                  15360               500   \n",
       "1               1000                  30720              3000   \n",
       "\n",
       "   rub_monthly_fee  rub_per_gb  rub_per_message  rub_per_minute tariff_name  \n",
       "0              550         200                3               3       smart  \n",
       "1             1950         150                1               1       ultra  "
      ]
     },
     "metadata": {},
     "output_type": "display_data"
    }
   ],
   "source": [
    "tariffs_df.info()\n",
    "display(tariffs_df)"
   ]
  },
  {
   "cell_type": "markdown",
   "metadata": {},
   "source": [
    "### Подготовка данных датасета users_df"
   ]
  },
  {
   "cell_type": "code",
   "execution_count": 118,
   "metadata": {},
   "outputs": [
    {
     "name": "stdout",
     "output_type": "stream",
     "text": [
      "<class 'pandas.core.frame.DataFrame'>\n",
      "RangeIndex: 500 entries, 0 to 499\n",
      "Data columns (total 8 columns):\n",
      "user_id       500 non-null int64\n",
      "age           500 non-null int64\n",
      "churn_date    38 non-null object\n",
      "city          500 non-null object\n",
      "first_name    500 non-null object\n",
      "last_name     500 non-null object\n",
      "reg_date      500 non-null object\n",
      "tariff        500 non-null object\n",
      "dtypes: int64(2), object(6)\n",
      "memory usage: 31.4+ KB\n"
     ]
    },
    {
     "data": {
      "text/html": [
       "<div>\n",
       "<style scoped>\n",
       "    .dataframe tbody tr th:only-of-type {\n",
       "        vertical-align: middle;\n",
       "    }\n",
       "\n",
       "    .dataframe tbody tr th {\n",
       "        vertical-align: top;\n",
       "    }\n",
       "\n",
       "    .dataframe thead th {\n",
       "        text-align: right;\n",
       "    }\n",
       "</style>\n",
       "<table border=\"1\" class=\"dataframe\">\n",
       "  <thead>\n",
       "    <tr style=\"text-align: right;\">\n",
       "      <th></th>\n",
       "      <th>user_id</th>\n",
       "      <th>age</th>\n",
       "      <th>churn_date</th>\n",
       "      <th>city</th>\n",
       "      <th>first_name</th>\n",
       "      <th>last_name</th>\n",
       "      <th>reg_date</th>\n",
       "      <th>tariff</th>\n",
       "    </tr>\n",
       "  </thead>\n",
       "  <tbody>\n",
       "    <tr>\n",
       "      <td>0</td>\n",
       "      <td>1000</td>\n",
       "      <td>52</td>\n",
       "      <td>NaN</td>\n",
       "      <td>Краснодар</td>\n",
       "      <td>Рафаил</td>\n",
       "      <td>Верещагин</td>\n",
       "      <td>2018-05-25</td>\n",
       "      <td>ultra</td>\n",
       "    </tr>\n",
       "    <tr>\n",
       "      <td>1</td>\n",
       "      <td>1001</td>\n",
       "      <td>41</td>\n",
       "      <td>NaN</td>\n",
       "      <td>Москва</td>\n",
       "      <td>Иван</td>\n",
       "      <td>Ежов</td>\n",
       "      <td>2018-11-01</td>\n",
       "      <td>smart</td>\n",
       "    </tr>\n",
       "    <tr>\n",
       "      <td>2</td>\n",
       "      <td>1002</td>\n",
       "      <td>59</td>\n",
       "      <td>NaN</td>\n",
       "      <td>Стерлитамак</td>\n",
       "      <td>Евгений</td>\n",
       "      <td>Абрамович</td>\n",
       "      <td>2018-06-17</td>\n",
       "      <td>smart</td>\n",
       "    </tr>\n",
       "    <tr>\n",
       "      <td>3</td>\n",
       "      <td>1003</td>\n",
       "      <td>23</td>\n",
       "      <td>NaN</td>\n",
       "      <td>Москва</td>\n",
       "      <td>Белла</td>\n",
       "      <td>Белякова</td>\n",
       "      <td>2018-08-17</td>\n",
       "      <td>ultra</td>\n",
       "    </tr>\n",
       "    <tr>\n",
       "      <td>4</td>\n",
       "      <td>1004</td>\n",
       "      <td>68</td>\n",
       "      <td>NaN</td>\n",
       "      <td>Новокузнецк</td>\n",
       "      <td>Татьяна</td>\n",
       "      <td>Авдеенко</td>\n",
       "      <td>2018-05-14</td>\n",
       "      <td>ultra</td>\n",
       "    </tr>\n",
       "    <tr>\n",
       "      <td>...</td>\n",
       "      <td>...</td>\n",
       "      <td>...</td>\n",
       "      <td>...</td>\n",
       "      <td>...</td>\n",
       "      <td>...</td>\n",
       "      <td>...</td>\n",
       "      <td>...</td>\n",
       "      <td>...</td>\n",
       "    </tr>\n",
       "    <tr>\n",
       "      <td>495</td>\n",
       "      <td>1495</td>\n",
       "      <td>65</td>\n",
       "      <td>NaN</td>\n",
       "      <td>Иркутск</td>\n",
       "      <td>Авксентий</td>\n",
       "      <td>Фокин</td>\n",
       "      <td>2018-08-28</td>\n",
       "      <td>ultra</td>\n",
       "    </tr>\n",
       "    <tr>\n",
       "      <td>496</td>\n",
       "      <td>1496</td>\n",
       "      <td>36</td>\n",
       "      <td>NaN</td>\n",
       "      <td>Вологда</td>\n",
       "      <td>Трифон</td>\n",
       "      <td>Блохин</td>\n",
       "      <td>2018-01-27</td>\n",
       "      <td>smart</td>\n",
       "    </tr>\n",
       "    <tr>\n",
       "      <td>497</td>\n",
       "      <td>1497</td>\n",
       "      <td>32</td>\n",
       "      <td>NaN</td>\n",
       "      <td>Челябинск</td>\n",
       "      <td>Каролина</td>\n",
       "      <td>Агеева</td>\n",
       "      <td>2018-10-09</td>\n",
       "      <td>smart</td>\n",
       "    </tr>\n",
       "    <tr>\n",
       "      <td>498</td>\n",
       "      <td>1498</td>\n",
       "      <td>68</td>\n",
       "      <td>2018-10-25</td>\n",
       "      <td>Владикавказ</td>\n",
       "      <td>Всеволод</td>\n",
       "      <td>Акимчин</td>\n",
       "      <td>2018-07-19</td>\n",
       "      <td>smart</td>\n",
       "    </tr>\n",
       "    <tr>\n",
       "      <td>499</td>\n",
       "      <td>1499</td>\n",
       "      <td>35</td>\n",
       "      <td>NaN</td>\n",
       "      <td>Пермь</td>\n",
       "      <td>Гектор</td>\n",
       "      <td>Корнилов</td>\n",
       "      <td>2018-09-27</td>\n",
       "      <td>smart</td>\n",
       "    </tr>\n",
       "  </tbody>\n",
       "</table>\n",
       "<p>500 rows × 8 columns</p>\n",
       "</div>"
      ],
      "text/plain": [
       "     user_id  age  churn_date         city first_name  last_name    reg_date  \\\n",
       "0       1000   52         NaN    Краснодар     Рафаил  Верещагин  2018-05-25   \n",
       "1       1001   41         NaN       Москва       Иван       Ежов  2018-11-01   \n",
       "2       1002   59         NaN  Стерлитамак    Евгений  Абрамович  2018-06-17   \n",
       "3       1003   23         NaN       Москва      Белла   Белякова  2018-08-17   \n",
       "4       1004   68         NaN  Новокузнецк    Татьяна   Авдеенко  2018-05-14   \n",
       "..       ...  ...         ...          ...        ...        ...         ...   \n",
       "495     1495   65         NaN      Иркутск  Авксентий      Фокин  2018-08-28   \n",
       "496     1496   36         NaN      Вологда     Трифон     Блохин  2018-01-27   \n",
       "497     1497   32         NaN    Челябинск   Каролина     Агеева  2018-10-09   \n",
       "498     1498   68  2018-10-25  Владикавказ   Всеволод    Акимчин  2018-07-19   \n",
       "499     1499   35         NaN        Пермь     Гектор   Корнилов  2018-09-27   \n",
       "\n",
       "    tariff  \n",
       "0    ultra  \n",
       "1    smart  \n",
       "2    smart  \n",
       "3    ultra  \n",
       "4    ultra  \n",
       "..     ...  \n",
       "495  ultra  \n",
       "496  smart  \n",
       "497  smart  \n",
       "498  smart  \n",
       "499  smart  \n",
       "\n",
       "[500 rows x 8 columns]"
      ]
     },
     "metadata": {},
     "output_type": "display_data"
    }
   ],
   "source": [
    "users_df.info()\n",
    "display(users_df)"
   ]
  },
  {
   "cell_type": "code",
   "execution_count": 119,
   "metadata": {},
   "outputs": [],
   "source": [
    "# Приведение churn_date и reg_date к datetime\n",
    "users_df['churn_date'] = pd.to_datetime(users_df['churn_date'], format=\"%Y/%m/%d\")\n",
    "users_df['reg_date'] = pd.to_datetime(users_df['reg_date'], format=\"%Y/%m/%d\")"
   ]
  },
  {
   "cell_type": "code",
   "execution_count": 120,
   "metadata": {},
   "outputs": [
    {
     "name": "stdout",
     "output_type": "stream",
     "text": [
      "<class 'pandas.core.frame.DataFrame'>\n",
      "RangeIndex: 500 entries, 0 to 499\n",
      "Data columns (total 8 columns):\n",
      "user_id       500 non-null int64\n",
      "age           500 non-null int64\n",
      "churn_date    38 non-null datetime64[ns]\n",
      "city          500 non-null object\n",
      "first_name    500 non-null object\n",
      "last_name     500 non-null object\n",
      "reg_date      500 non-null datetime64[ns]\n",
      "tariff        500 non-null object\n",
      "dtypes: datetime64[ns](2), int64(2), object(4)\n",
      "memory usage: 31.4+ KB\n"
     ]
    }
   ],
   "source": [
    "users_df.info()"
   ]
  },
  {
   "cell_type": "code",
   "execution_count": 121,
   "metadata": {},
   "outputs": [
    {
     "name": "stdout",
     "output_type": "stream",
     "text": [
      "user_id         0\n",
      "age             0\n",
      "churn_date    462\n",
      "city            0\n",
      "first_name      0\n",
      "last_name       0\n",
      "reg_date        0\n",
      "tariff          0\n",
      "dtype: int64\n",
      "0\n"
     ]
    }
   ],
   "source": [
    "# проверка датасета на наличие пропусков и дубликатов\n",
    "print(users_df.isna().sum())\n",
    "print(users_df.duplicated().sum())"
   ]
  },
  {
   "cell_type": "markdown",
   "metadata": {},
   "source": [
    "<div class=\"alert alert-info\">\n",
    "<b>Комментарий:</b><br>\n",
    "• Столбец churn_date был приведет к типу datetime.<br>\n",
    "• Столбец reg_date был приведет к типу datetime.\n",
    "</div>"
   ]
  },
  {
   "cell_type": "markdown",
   "metadata": {},
   "source": [
    "### Подсчёты для каждого пользователя:"
   ]
  },
  {
   "cell_type": "markdown",
   "metadata": {},
   "source": [
    "#### Количество сделанных звонков и израсходованных минут разговора по месяцам"
   ]
  },
  {
   "cell_type": "code",
   "execution_count": 122,
   "metadata": {},
   "outputs": [],
   "source": [
    "# создание копии calls_df с новым столбцом месяца\n",
    "calls_df_with_month = calls_df\n",
    "calls_df_with_month['duration'] = np.ceil(calls_df_with_month['duration']).astype(int)\n",
    "calls_df_with_month['month'] = pd.DatetimeIndex(calls_df['call_date']).month"
   ]
  },
  {
   "cell_type": "code",
   "execution_count": 123,
   "metadata": {},
   "outputs": [
    {
     "data": {
      "text/html": [
       "<div>\n",
       "<style scoped>\n",
       "    .dataframe tbody tr th:only-of-type {\n",
       "        vertical-align: middle;\n",
       "    }\n",
       "\n",
       "    .dataframe tbody tr th {\n",
       "        vertical-align: top;\n",
       "    }\n",
       "\n",
       "    .dataframe thead th {\n",
       "        text-align: right;\n",
       "    }\n",
       "</style>\n",
       "<table border=\"1\" class=\"dataframe\">\n",
       "  <thead>\n",
       "    <tr style=\"text-align: right;\">\n",
       "      <th></th>\n",
       "      <th>id</th>\n",
       "      <th>call_date</th>\n",
       "      <th>duration</th>\n",
       "      <th>user_id</th>\n",
       "      <th>month</th>\n",
       "    </tr>\n",
       "  </thead>\n",
       "  <tbody>\n",
       "    <tr>\n",
       "      <td>0</td>\n",
       "      <td>1000_0</td>\n",
       "      <td>2018-07-25</td>\n",
       "      <td>0</td>\n",
       "      <td>1000</td>\n",
       "      <td>7</td>\n",
       "    </tr>\n",
       "    <tr>\n",
       "      <td>1</td>\n",
       "      <td>1000_1</td>\n",
       "      <td>2018-08-17</td>\n",
       "      <td>0</td>\n",
       "      <td>1000</td>\n",
       "      <td>8</td>\n",
       "    </tr>\n",
       "    <tr>\n",
       "      <td>2</td>\n",
       "      <td>1000_2</td>\n",
       "      <td>2018-06-11</td>\n",
       "      <td>3</td>\n",
       "      <td>1000</td>\n",
       "      <td>6</td>\n",
       "    </tr>\n",
       "    <tr>\n",
       "      <td>3</td>\n",
       "      <td>1000_3</td>\n",
       "      <td>2018-09-21</td>\n",
       "      <td>14</td>\n",
       "      <td>1000</td>\n",
       "      <td>9</td>\n",
       "    </tr>\n",
       "    <tr>\n",
       "      <td>4</td>\n",
       "      <td>1000_4</td>\n",
       "      <td>2018-12-15</td>\n",
       "      <td>6</td>\n",
       "      <td>1000</td>\n",
       "      <td>12</td>\n",
       "    </tr>\n",
       "    <tr>\n",
       "      <td>5</td>\n",
       "      <td>1000_5</td>\n",
       "      <td>2018-11-02</td>\n",
       "      <td>0</td>\n",
       "      <td>1000</td>\n",
       "      <td>11</td>\n",
       "    </tr>\n",
       "    <tr>\n",
       "      <td>6</td>\n",
       "      <td>1000_6</td>\n",
       "      <td>2018-10-18</td>\n",
       "      <td>0</td>\n",
       "      <td>1000</td>\n",
       "      <td>10</td>\n",
       "    </tr>\n",
       "    <tr>\n",
       "      <td>7</td>\n",
       "      <td>1000_7</td>\n",
       "      <td>2018-08-22</td>\n",
       "      <td>19</td>\n",
       "      <td>1000</td>\n",
       "      <td>8</td>\n",
       "    </tr>\n",
       "    <tr>\n",
       "      <td>8</td>\n",
       "      <td>1000_8</td>\n",
       "      <td>2018-09-15</td>\n",
       "      <td>19</td>\n",
       "      <td>1000</td>\n",
       "      <td>9</td>\n",
       "    </tr>\n",
       "    <tr>\n",
       "      <td>9</td>\n",
       "      <td>1000_9</td>\n",
       "      <td>2018-08-15</td>\n",
       "      <td>0</td>\n",
       "      <td>1000</td>\n",
       "      <td>8</td>\n",
       "    </tr>\n",
       "  </tbody>\n",
       "</table>\n",
       "</div>"
      ],
      "text/plain": [
       "       id  call_date  duration  user_id  month\n",
       "0  1000_0 2018-07-25         0     1000      7\n",
       "1  1000_1 2018-08-17         0     1000      8\n",
       "2  1000_2 2018-06-11         3     1000      6\n",
       "3  1000_3 2018-09-21        14     1000      9\n",
       "4  1000_4 2018-12-15         6     1000     12\n",
       "5  1000_5 2018-11-02         0     1000     11\n",
       "6  1000_6 2018-10-18         0     1000     10\n",
       "7  1000_7 2018-08-22        19     1000      8\n",
       "8  1000_8 2018-09-15        19     1000      9\n",
       "9  1000_9 2018-08-15         0     1000      8"
      ]
     },
     "metadata": {},
     "output_type": "display_data"
    }
   ],
   "source": [
    "display(calls_df_with_month.head(10))"
   ]
  },
  {
   "cell_type": "markdown",
   "metadata": {},
   "source": [
    "##### Количество сделанных звонков каждым пользователем"
   ]
  },
  {
   "cell_type": "code",
   "execution_count": 124,
   "metadata": {},
   "outputs": [
    {
     "data": {
      "text/html": [
       "<div>\n",
       "<style scoped>\n",
       "    .dataframe tbody tr th:only-of-type {\n",
       "        vertical-align: middle;\n",
       "    }\n",
       "\n",
       "    .dataframe tbody tr th {\n",
       "        vertical-align: top;\n",
       "    }\n",
       "\n",
       "    .dataframe thead th {\n",
       "        text-align: right;\n",
       "    }\n",
       "</style>\n",
       "<table border=\"1\" class=\"dataframe\">\n",
       "  <thead>\n",
       "    <tr style=\"text-align: right;\">\n",
       "      <th></th>\n",
       "      <th>user_id</th>\n",
       "      <th>month</th>\n",
       "      <th>duration</th>\n",
       "    </tr>\n",
       "  </thead>\n",
       "  <tbody>\n",
       "    <tr>\n",
       "      <td>0</td>\n",
       "      <td>1000</td>\n",
       "      <td>7</td>\n",
       "      <td>0</td>\n",
       "    </tr>\n",
       "    <tr>\n",
       "      <td>1</td>\n",
       "      <td>1000</td>\n",
       "      <td>8</td>\n",
       "      <td>0</td>\n",
       "    </tr>\n",
       "    <tr>\n",
       "      <td>2</td>\n",
       "      <td>1000</td>\n",
       "      <td>6</td>\n",
       "      <td>3</td>\n",
       "    </tr>\n",
       "    <tr>\n",
       "      <td>3</td>\n",
       "      <td>1000</td>\n",
       "      <td>9</td>\n",
       "      <td>14</td>\n",
       "    </tr>\n",
       "    <tr>\n",
       "      <td>4</td>\n",
       "      <td>1000</td>\n",
       "      <td>12</td>\n",
       "      <td>6</td>\n",
       "    </tr>\n",
       "    <tr>\n",
       "      <td>...</td>\n",
       "      <td>...</td>\n",
       "      <td>...</td>\n",
       "      <td>...</td>\n",
       "    </tr>\n",
       "    <tr>\n",
       "      <td>202602</td>\n",
       "      <td>1499</td>\n",
       "      <td>12</td>\n",
       "      <td>1</td>\n",
       "    </tr>\n",
       "    <tr>\n",
       "      <td>202603</td>\n",
       "      <td>1499</td>\n",
       "      <td>10</td>\n",
       "      <td>19</td>\n",
       "    </tr>\n",
       "    <tr>\n",
       "      <td>202604</td>\n",
       "      <td>1499</td>\n",
       "      <td>11</td>\n",
       "      <td>11</td>\n",
       "    </tr>\n",
       "    <tr>\n",
       "      <td>202605</td>\n",
       "      <td>1499</td>\n",
       "      <td>10</td>\n",
       "      <td>5</td>\n",
       "    </tr>\n",
       "    <tr>\n",
       "      <td>202606</td>\n",
       "      <td>1499</td>\n",
       "      <td>12</td>\n",
       "      <td>20</td>\n",
       "    </tr>\n",
       "  </tbody>\n",
       "</table>\n",
       "<p>202607 rows × 3 columns</p>\n",
       "</div>"
      ],
      "text/plain": [
       "        user_id  month  duration\n",
       "0          1000      7         0\n",
       "1          1000      8         0\n",
       "2          1000      6         3\n",
       "3          1000      9        14\n",
       "4          1000     12         6\n",
       "...         ...    ...       ...\n",
       "202602     1499     12         1\n",
       "202603     1499     10        19\n",
       "202604     1499     11        11\n",
       "202605     1499     10         5\n",
       "202606     1499     12        20\n",
       "\n",
       "[202607 rows x 3 columns]"
      ]
     },
     "metadata": {},
     "output_type": "display_data"
    }
   ],
   "source": [
    "#time_for_each_user = calls_df_with_month.pivot_table(index=['user_id', 'month'], values='id', aggfunc='count')\n",
    "#time_for_each_user2= time_for_each_user2.rename(columns={'id': 'number_of_calls'})\n",
    "time_for_each_user = calls_df_with_month[['user_id', 'month', 'duration']]\n",
    "display(time_for_each_user)"
   ]
  },
  {
   "cell_type": "code",
   "execution_count": 125,
   "metadata": {},
   "outputs": [],
   "source": [
    "time_for_each_user1= time_for_each_user.groupby(\n",
    "    ['user_id', 'month'], as_index=False).agg({'duration': 'count'}).reset_index(drop=True)\n",
    "time_for_each_user1 = time_for_each_user1.rename(columns={'duration': 'count_calls'})"
   ]
  },
  {
   "cell_type": "code",
   "execution_count": 126,
   "metadata": {
    "scrolled": false
   },
   "outputs": [
    {
     "data": {
      "text/html": [
       "<div>\n",
       "<style scoped>\n",
       "    .dataframe tbody tr th:only-of-type {\n",
       "        vertical-align: middle;\n",
       "    }\n",
       "\n",
       "    .dataframe tbody tr th {\n",
       "        vertical-align: top;\n",
       "    }\n",
       "\n",
       "    .dataframe thead th {\n",
       "        text-align: right;\n",
       "    }\n",
       "</style>\n",
       "<table border=\"1\" class=\"dataframe\">\n",
       "  <thead>\n",
       "    <tr style=\"text-align: right;\">\n",
       "      <th></th>\n",
       "      <th>user_id</th>\n",
       "      <th>month</th>\n",
       "      <th>count_calls</th>\n",
       "    </tr>\n",
       "  </thead>\n",
       "  <tbody>\n",
       "    <tr>\n",
       "      <td>0</td>\n",
       "      <td>1000</td>\n",
       "      <td>5</td>\n",
       "      <td>22</td>\n",
       "    </tr>\n",
       "    <tr>\n",
       "      <td>1</td>\n",
       "      <td>1000</td>\n",
       "      <td>6</td>\n",
       "      <td>43</td>\n",
       "    </tr>\n",
       "    <tr>\n",
       "      <td>2</td>\n",
       "      <td>1000</td>\n",
       "      <td>7</td>\n",
       "      <td>47</td>\n",
       "    </tr>\n",
       "    <tr>\n",
       "      <td>3</td>\n",
       "      <td>1000</td>\n",
       "      <td>8</td>\n",
       "      <td>52</td>\n",
       "    </tr>\n",
       "    <tr>\n",
       "      <td>4</td>\n",
       "      <td>1000</td>\n",
       "      <td>9</td>\n",
       "      <td>58</td>\n",
       "    </tr>\n",
       "    <tr>\n",
       "      <td>...</td>\n",
       "      <td>...</td>\n",
       "      <td>...</td>\n",
       "      <td>...</td>\n",
       "    </tr>\n",
       "    <tr>\n",
       "      <td>3169</td>\n",
       "      <td>1498</td>\n",
       "      <td>10</td>\n",
       "      <td>41</td>\n",
       "    </tr>\n",
       "    <tr>\n",
       "      <td>3170</td>\n",
       "      <td>1499</td>\n",
       "      <td>9</td>\n",
       "      <td>9</td>\n",
       "    </tr>\n",
       "    <tr>\n",
       "      <td>3171</td>\n",
       "      <td>1499</td>\n",
       "      <td>10</td>\n",
       "      <td>68</td>\n",
       "    </tr>\n",
       "    <tr>\n",
       "      <td>3172</td>\n",
       "      <td>1499</td>\n",
       "      <td>11</td>\n",
       "      <td>74</td>\n",
       "    </tr>\n",
       "    <tr>\n",
       "      <td>3173</td>\n",
       "      <td>1499</td>\n",
       "      <td>12</td>\n",
       "      <td>69</td>\n",
       "    </tr>\n",
       "  </tbody>\n",
       "</table>\n",
       "<p>3174 rows × 3 columns</p>\n",
       "</div>"
      ],
      "text/plain": [
       "      user_id  month  count_calls\n",
       "0        1000      5           22\n",
       "1        1000      6           43\n",
       "2        1000      7           47\n",
       "3        1000      8           52\n",
       "4        1000      9           58\n",
       "...       ...    ...          ...\n",
       "3169     1498     10           41\n",
       "3170     1499      9            9\n",
       "3171     1499     10           68\n",
       "3172     1499     11           74\n",
       "3173     1499     12           69\n",
       "\n",
       "[3174 rows x 3 columns]"
      ]
     },
     "metadata": {},
     "output_type": "display_data"
    }
   ],
   "source": [
    "display(time_for_each_user1)"
   ]
  },
  {
   "cell_type": "markdown",
   "metadata": {},
   "source": [
    "##### Количество израсходованных минут разговора по месяцам каждым пользователем"
   ]
  },
  {
   "cell_type": "code",
   "execution_count": 127,
   "metadata": {},
   "outputs": [
    {
     "data": {
      "text/html": [
       "<div>\n",
       "<style scoped>\n",
       "    .dataframe tbody tr th:only-of-type {\n",
       "        vertical-align: middle;\n",
       "    }\n",
       "\n",
       "    .dataframe tbody tr th {\n",
       "        vertical-align: top;\n",
       "    }\n",
       "\n",
       "    .dataframe thead th {\n",
       "        text-align: right;\n",
       "    }\n",
       "</style>\n",
       "<table border=\"1\" class=\"dataframe\">\n",
       "  <thead>\n",
       "    <tr style=\"text-align: right;\">\n",
       "      <th></th>\n",
       "      <th>user_id</th>\n",
       "      <th>month</th>\n",
       "      <th>duration</th>\n",
       "    </tr>\n",
       "  </thead>\n",
       "  <tbody>\n",
       "    <tr>\n",
       "      <td>0</td>\n",
       "      <td>1000</td>\n",
       "      <td>5</td>\n",
       "      <td>159</td>\n",
       "    </tr>\n",
       "    <tr>\n",
       "      <td>1</td>\n",
       "      <td>1000</td>\n",
       "      <td>6</td>\n",
       "      <td>172</td>\n",
       "    </tr>\n",
       "    <tr>\n",
       "      <td>2</td>\n",
       "      <td>1000</td>\n",
       "      <td>7</td>\n",
       "      <td>340</td>\n",
       "    </tr>\n",
       "    <tr>\n",
       "      <td>3</td>\n",
       "      <td>1000</td>\n",
       "      <td>8</td>\n",
       "      <td>408</td>\n",
       "    </tr>\n",
       "    <tr>\n",
       "      <td>4</td>\n",
       "      <td>1000</td>\n",
       "      <td>9</td>\n",
       "      <td>466</td>\n",
       "    </tr>\n",
       "    <tr>\n",
       "      <td>...</td>\n",
       "      <td>...</td>\n",
       "      <td>...</td>\n",
       "      <td>...</td>\n",
       "    </tr>\n",
       "    <tr>\n",
       "      <td>3169</td>\n",
       "      <td>1498</td>\n",
       "      <td>10</td>\n",
       "      <td>247</td>\n",
       "    </tr>\n",
       "    <tr>\n",
       "      <td>3170</td>\n",
       "      <td>1499</td>\n",
       "      <td>9</td>\n",
       "      <td>70</td>\n",
       "    </tr>\n",
       "    <tr>\n",
       "      <td>3171</td>\n",
       "      <td>1499</td>\n",
       "      <td>10</td>\n",
       "      <td>449</td>\n",
       "    </tr>\n",
       "    <tr>\n",
       "      <td>3172</td>\n",
       "      <td>1499</td>\n",
       "      <td>11</td>\n",
       "      <td>612</td>\n",
       "    </tr>\n",
       "    <tr>\n",
       "      <td>3173</td>\n",
       "      <td>1499</td>\n",
       "      <td>12</td>\n",
       "      <td>492</td>\n",
       "    </tr>\n",
       "  </tbody>\n",
       "</table>\n",
       "<p>3174 rows × 3 columns</p>\n",
       "</div>"
      ],
      "text/plain": [
       "      user_id  month  duration\n",
       "0        1000      5       159\n",
       "1        1000      6       172\n",
       "2        1000      7       340\n",
       "3        1000      8       408\n",
       "4        1000      9       466\n",
       "...       ...    ...       ...\n",
       "3169     1498     10       247\n",
       "3170     1499      9        70\n",
       "3171     1499     10       449\n",
       "3172     1499     11       612\n",
       "3173     1499     12       492\n",
       "\n",
       "[3174 rows x 3 columns]"
      ]
     },
     "metadata": {},
     "output_type": "display_data"
    }
   ],
   "source": [
    "count_minutes_by_months = calls_df_with_month.groupby(\n",
    "    ['user_id', 'month'], as_index=False).agg({'duration': 'sum'}).reset_index(drop=True)\n",
    "display(count_minutes_by_months)"
   ]
  },
  {
   "cell_type": "markdown",
   "metadata": {},
   "source": [
    "#### Количество отправленных сообщений по месяцам"
   ]
  },
  {
   "cell_type": "code",
   "execution_count": 128,
   "metadata": {},
   "outputs": [
    {
     "data": {
      "text/html": [
       "<div>\n",
       "<style scoped>\n",
       "    .dataframe tbody tr th:only-of-type {\n",
       "        vertical-align: middle;\n",
       "    }\n",
       "\n",
       "    .dataframe tbody tr th {\n",
       "        vertical-align: top;\n",
       "    }\n",
       "\n",
       "    .dataframe thead th {\n",
       "        text-align: right;\n",
       "    }\n",
       "</style>\n",
       "<table border=\"1\" class=\"dataframe\">\n",
       "  <thead>\n",
       "    <tr style=\"text-align: right;\">\n",
       "      <th></th>\n",
       "      <th>id</th>\n",
       "      <th>message_date</th>\n",
       "      <th>user_id</th>\n",
       "      <th>month</th>\n",
       "    </tr>\n",
       "  </thead>\n",
       "  <tbody>\n",
       "    <tr>\n",
       "      <td>0</td>\n",
       "      <td>1000_0</td>\n",
       "      <td>2018-06-27</td>\n",
       "      <td>1000</td>\n",
       "      <td>6</td>\n",
       "    </tr>\n",
       "    <tr>\n",
       "      <td>1</td>\n",
       "      <td>1000_1</td>\n",
       "      <td>2018-10-08</td>\n",
       "      <td>1000</td>\n",
       "      <td>10</td>\n",
       "    </tr>\n",
       "    <tr>\n",
       "      <td>2</td>\n",
       "      <td>1000_2</td>\n",
       "      <td>2018-08-04</td>\n",
       "      <td>1000</td>\n",
       "      <td>8</td>\n",
       "    </tr>\n",
       "    <tr>\n",
       "      <td>3</td>\n",
       "      <td>1000_3</td>\n",
       "      <td>2018-06-16</td>\n",
       "      <td>1000</td>\n",
       "      <td>6</td>\n",
       "    </tr>\n",
       "    <tr>\n",
       "      <td>4</td>\n",
       "      <td>1000_4</td>\n",
       "      <td>2018-12-05</td>\n",
       "      <td>1000</td>\n",
       "      <td>12</td>\n",
       "    </tr>\n",
       "    <tr>\n",
       "      <td>...</td>\n",
       "      <td>...</td>\n",
       "      <td>...</td>\n",
       "      <td>...</td>\n",
       "      <td>...</td>\n",
       "    </tr>\n",
       "    <tr>\n",
       "      <td>123031</td>\n",
       "      <td>1499_179</td>\n",
       "      <td>2018-12-12</td>\n",
       "      <td>1499</td>\n",
       "      <td>12</td>\n",
       "    </tr>\n",
       "    <tr>\n",
       "      <td>123032</td>\n",
       "      <td>1499_180</td>\n",
       "      <td>2018-09-28</td>\n",
       "      <td>1499</td>\n",
       "      <td>9</td>\n",
       "    </tr>\n",
       "    <tr>\n",
       "      <td>123033</td>\n",
       "      <td>1499_181</td>\n",
       "      <td>2018-09-27</td>\n",
       "      <td>1499</td>\n",
       "      <td>9</td>\n",
       "    </tr>\n",
       "    <tr>\n",
       "      <td>123034</td>\n",
       "      <td>1499_182</td>\n",
       "      <td>2018-11-15</td>\n",
       "      <td>1499</td>\n",
       "      <td>11</td>\n",
       "    </tr>\n",
       "    <tr>\n",
       "      <td>123035</td>\n",
       "      <td>1499_183</td>\n",
       "      <td>2018-11-16</td>\n",
       "      <td>1499</td>\n",
       "      <td>11</td>\n",
       "    </tr>\n",
       "  </tbody>\n",
       "</table>\n",
       "<p>123036 rows × 4 columns</p>\n",
       "</div>"
      ],
      "text/plain": [
       "              id message_date  user_id  month\n",
       "0         1000_0   2018-06-27     1000      6\n",
       "1         1000_1   2018-10-08     1000     10\n",
       "2         1000_2   2018-08-04     1000      8\n",
       "3         1000_3   2018-06-16     1000      6\n",
       "4         1000_4   2018-12-05     1000     12\n",
       "...          ...          ...      ...    ...\n",
       "123031  1499_179   2018-12-12     1499     12\n",
       "123032  1499_180   2018-09-28     1499      9\n",
       "123033  1499_181   2018-09-27     1499      9\n",
       "123034  1499_182   2018-11-15     1499     11\n",
       "123035  1499_183   2018-11-16     1499     11\n",
       "\n",
       "[123036 rows x 4 columns]"
      ]
     },
     "metadata": {},
     "output_type": "display_data"
    }
   ],
   "source": [
    "# создание копии messages_df с новым столбцом месяца\n",
    "messages_df_with_month = messages_df\n",
    "messages_df_with_month['month'] = pd.DatetimeIndex(messages_df['message_date']).month\n",
    "display(messages_df_with_month)"
   ]
  },
  {
   "cell_type": "code",
   "execution_count": 129,
   "metadata": {},
   "outputs": [
    {
     "data": {
      "text/html": [
       "<div>\n",
       "<style scoped>\n",
       "    .dataframe tbody tr th:only-of-type {\n",
       "        vertical-align: middle;\n",
       "    }\n",
       "\n",
       "    .dataframe tbody tr th {\n",
       "        vertical-align: top;\n",
       "    }\n",
       "\n",
       "    .dataframe thead th {\n",
       "        text-align: right;\n",
       "    }\n",
       "</style>\n",
       "<table border=\"1\" class=\"dataframe\">\n",
       "  <thead>\n",
       "    <tr style=\"text-align: right;\">\n",
       "      <th></th>\n",
       "      <th>user_id</th>\n",
       "      <th>month</th>\n",
       "      <th>number_of_messages</th>\n",
       "    </tr>\n",
       "  </thead>\n",
       "  <tbody>\n",
       "    <tr>\n",
       "      <td>0</td>\n",
       "      <td>1000</td>\n",
       "      <td>5</td>\n",
       "      <td>22</td>\n",
       "    </tr>\n",
       "    <tr>\n",
       "      <td>1</td>\n",
       "      <td>1000</td>\n",
       "      <td>6</td>\n",
       "      <td>60</td>\n",
       "    </tr>\n",
       "    <tr>\n",
       "      <td>2</td>\n",
       "      <td>1000</td>\n",
       "      <td>7</td>\n",
       "      <td>75</td>\n",
       "    </tr>\n",
       "    <tr>\n",
       "      <td>3</td>\n",
       "      <td>1000</td>\n",
       "      <td>8</td>\n",
       "      <td>81</td>\n",
       "    </tr>\n",
       "    <tr>\n",
       "      <td>4</td>\n",
       "      <td>1000</td>\n",
       "      <td>9</td>\n",
       "      <td>57</td>\n",
       "    </tr>\n",
       "    <tr>\n",
       "      <td>...</td>\n",
       "      <td>...</td>\n",
       "      <td>...</td>\n",
       "      <td>...</td>\n",
       "    </tr>\n",
       "    <tr>\n",
       "      <td>2712</td>\n",
       "      <td>1498</td>\n",
       "      <td>10</td>\n",
       "      <td>42</td>\n",
       "    </tr>\n",
       "    <tr>\n",
       "      <td>2713</td>\n",
       "      <td>1499</td>\n",
       "      <td>9</td>\n",
       "      <td>11</td>\n",
       "    </tr>\n",
       "    <tr>\n",
       "      <td>2714</td>\n",
       "      <td>1499</td>\n",
       "      <td>10</td>\n",
       "      <td>48</td>\n",
       "    </tr>\n",
       "    <tr>\n",
       "      <td>2715</td>\n",
       "      <td>1499</td>\n",
       "      <td>11</td>\n",
       "      <td>59</td>\n",
       "    </tr>\n",
       "    <tr>\n",
       "      <td>2716</td>\n",
       "      <td>1499</td>\n",
       "      <td>12</td>\n",
       "      <td>66</td>\n",
       "    </tr>\n",
       "  </tbody>\n",
       "</table>\n",
       "<p>2717 rows × 3 columns</p>\n",
       "</div>"
      ],
      "text/plain": [
       "      user_id  month  number_of_messages\n",
       "0        1000      5                  22\n",
       "1        1000      6                  60\n",
       "2        1000      7                  75\n",
       "3        1000      8                  81\n",
       "4        1000      9                  57\n",
       "...       ...    ...                 ...\n",
       "2712     1498     10                  42\n",
       "2713     1499      9                  11\n",
       "2714     1499     10                  48\n",
       "2715     1499     11                  59\n",
       "2716     1499     12                  66\n",
       "\n",
       "[2717 rows x 3 columns]"
      ]
     },
     "metadata": {},
     "output_type": "display_data"
    }
   ],
   "source": [
    "count_messages_by_months = messages_df_with_month.groupby(\n",
    "    ['user_id', 'month'], as_index=False).agg({'message_date': 'count'}).reset_index(drop=True)\n",
    "count_messages_by_months= count_messages_by_months.rename(columns={'message_date': 'number_of_messages'})\n",
    "display(count_messages_by_months)"
   ]
  },
  {
   "cell_type": "markdown",
   "metadata": {},
   "source": [
    "#### Объем израсходованного интернет-трафика по месяцам"
   ]
  },
  {
   "cell_type": "code",
   "execution_count": 130,
   "metadata": {},
   "outputs": [
    {
     "data": {
      "text/html": [
       "<div>\n",
       "<style scoped>\n",
       "    .dataframe tbody tr th:only-of-type {\n",
       "        vertical-align: middle;\n",
       "    }\n",
       "\n",
       "    .dataframe tbody tr th {\n",
       "        vertical-align: top;\n",
       "    }\n",
       "\n",
       "    .dataframe thead th {\n",
       "        text-align: right;\n",
       "    }\n",
       "</style>\n",
       "<table border=\"1\" class=\"dataframe\">\n",
       "  <thead>\n",
       "    <tr style=\"text-align: right;\">\n",
       "      <th></th>\n",
       "      <th>id</th>\n",
       "      <th>mb_used</th>\n",
       "      <th>session_date</th>\n",
       "      <th>user_id</th>\n",
       "      <th>month</th>\n",
       "    </tr>\n",
       "  </thead>\n",
       "  <tbody>\n",
       "    <tr>\n",
       "      <td>0</td>\n",
       "      <td>1000_0</td>\n",
       "      <td>112.95</td>\n",
       "      <td>2018-11-25</td>\n",
       "      <td>1000</td>\n",
       "      <td>11</td>\n",
       "    </tr>\n",
       "    <tr>\n",
       "      <td>1</td>\n",
       "      <td>1000_1</td>\n",
       "      <td>1052.81</td>\n",
       "      <td>2018-09-07</td>\n",
       "      <td>1000</td>\n",
       "      <td>9</td>\n",
       "    </tr>\n",
       "    <tr>\n",
       "      <td>2</td>\n",
       "      <td>1000_2</td>\n",
       "      <td>1197.26</td>\n",
       "      <td>2018-06-25</td>\n",
       "      <td>1000</td>\n",
       "      <td>6</td>\n",
       "    </tr>\n",
       "    <tr>\n",
       "      <td>3</td>\n",
       "      <td>1000_3</td>\n",
       "      <td>550.27</td>\n",
       "      <td>2018-08-22</td>\n",
       "      <td>1000</td>\n",
       "      <td>8</td>\n",
       "    </tr>\n",
       "    <tr>\n",
       "      <td>4</td>\n",
       "      <td>1000_4</td>\n",
       "      <td>302.56</td>\n",
       "      <td>2018-09-24</td>\n",
       "      <td>1000</td>\n",
       "      <td>9</td>\n",
       "    </tr>\n",
       "    <tr>\n",
       "      <td>...</td>\n",
       "      <td>...</td>\n",
       "      <td>...</td>\n",
       "      <td>...</td>\n",
       "      <td>...</td>\n",
       "      <td>...</td>\n",
       "    </tr>\n",
       "    <tr>\n",
       "      <td>129793</td>\n",
       "      <td>1499_151</td>\n",
       "      <td>752.72</td>\n",
       "      <td>2018-10-11</td>\n",
       "      <td>1499</td>\n",
       "      <td>10</td>\n",
       "    </tr>\n",
       "    <tr>\n",
       "      <td>129794</td>\n",
       "      <td>1499_152</td>\n",
       "      <td>318.90</td>\n",
       "      <td>2018-10-03</td>\n",
       "      <td>1499</td>\n",
       "      <td>10</td>\n",
       "    </tr>\n",
       "    <tr>\n",
       "      <td>129795</td>\n",
       "      <td>1499_153</td>\n",
       "      <td>490.13</td>\n",
       "      <td>2018-12-14</td>\n",
       "      <td>1499</td>\n",
       "      <td>12</td>\n",
       "    </tr>\n",
       "    <tr>\n",
       "      <td>129796</td>\n",
       "      <td>1499_155</td>\n",
       "      <td>1246.32</td>\n",
       "      <td>2018-11-26</td>\n",
       "      <td>1499</td>\n",
       "      <td>11</td>\n",
       "    </tr>\n",
       "    <tr>\n",
       "      <td>129797</td>\n",
       "      <td>1499_156</td>\n",
       "      <td>544.37</td>\n",
       "      <td>2018-10-26</td>\n",
       "      <td>1499</td>\n",
       "      <td>10</td>\n",
       "    </tr>\n",
       "  </tbody>\n",
       "</table>\n",
       "<p>129798 rows × 5 columns</p>\n",
       "</div>"
      ],
      "text/plain": [
       "              id  mb_used session_date  user_id  month\n",
       "0         1000_0   112.95   2018-11-25     1000     11\n",
       "1         1000_1  1052.81   2018-09-07     1000      9\n",
       "2         1000_2  1197.26   2018-06-25     1000      6\n",
       "3         1000_3   550.27   2018-08-22     1000      8\n",
       "4         1000_4   302.56   2018-09-24     1000      9\n",
       "...          ...      ...          ...      ...    ...\n",
       "129793  1499_151   752.72   2018-10-11     1499     10\n",
       "129794  1499_152   318.90   2018-10-03     1499     10\n",
       "129795  1499_153   490.13   2018-12-14     1499     12\n",
       "129796  1499_155  1246.32   2018-11-26     1499     11\n",
       "129797  1499_156   544.37   2018-10-26     1499     10\n",
       "\n",
       "[129798 rows x 5 columns]"
      ]
     },
     "metadata": {},
     "output_type": "display_data"
    }
   ],
   "source": [
    "# создание копии internet_df с новым столбцом месяца\n",
    "internet_df_with_month = internet_df\n",
    "internet_df_with_month['month'] = pd.DatetimeIndex(internet_df['session_date']).month\n",
    "display(internet_df_with_month)"
   ]
  },
  {
   "cell_type": "code",
   "execution_count": 131,
   "metadata": {},
   "outputs": [
    {
     "data": {
      "text/html": [
       "<div>\n",
       "<style scoped>\n",
       "    .dataframe tbody tr th:only-of-type {\n",
       "        vertical-align: middle;\n",
       "    }\n",
       "\n",
       "    .dataframe tbody tr th {\n",
       "        vertical-align: top;\n",
       "    }\n",
       "\n",
       "    .dataframe thead th {\n",
       "        text-align: right;\n",
       "    }\n",
       "</style>\n",
       "<table border=\"1\" class=\"dataframe\">\n",
       "  <thead>\n",
       "    <tr style=\"text-align: right;\">\n",
       "      <th></th>\n",
       "      <th>user_id</th>\n",
       "      <th>month</th>\n",
       "      <th>mb_used</th>\n",
       "    </tr>\n",
       "  </thead>\n",
       "  <tbody>\n",
       "    <tr>\n",
       "      <td>0</td>\n",
       "      <td>1000</td>\n",
       "      <td>5</td>\n",
       "      <td>2253.49</td>\n",
       "    </tr>\n",
       "    <tr>\n",
       "      <td>1</td>\n",
       "      <td>1000</td>\n",
       "      <td>6</td>\n",
       "      <td>23233.77</td>\n",
       "    </tr>\n",
       "    <tr>\n",
       "      <td>2</td>\n",
       "      <td>1000</td>\n",
       "      <td>7</td>\n",
       "      <td>14003.64</td>\n",
       "    </tr>\n",
       "    <tr>\n",
       "      <td>3</td>\n",
       "      <td>1000</td>\n",
       "      <td>8</td>\n",
       "      <td>14055.93</td>\n",
       "    </tr>\n",
       "    <tr>\n",
       "      <td>4</td>\n",
       "      <td>1000</td>\n",
       "      <td>9</td>\n",
       "      <td>14568.91</td>\n",
       "    </tr>\n",
       "    <tr>\n",
       "      <td>...</td>\n",
       "      <td>...</td>\n",
       "      <td>...</td>\n",
       "      <td>...</td>\n",
       "    </tr>\n",
       "    <tr>\n",
       "      <td>3196</td>\n",
       "      <td>1498</td>\n",
       "      <td>10</td>\n",
       "      <td>20579.36</td>\n",
       "    </tr>\n",
       "    <tr>\n",
       "      <td>3197</td>\n",
       "      <td>1499</td>\n",
       "      <td>9</td>\n",
       "      <td>1845.75</td>\n",
       "    </tr>\n",
       "    <tr>\n",
       "      <td>3198</td>\n",
       "      <td>1499</td>\n",
       "      <td>10</td>\n",
       "      <td>17788.51</td>\n",
       "    </tr>\n",
       "    <tr>\n",
       "      <td>3199</td>\n",
       "      <td>1499</td>\n",
       "      <td>11</td>\n",
       "      <td>17963.31</td>\n",
       "    </tr>\n",
       "    <tr>\n",
       "      <td>3200</td>\n",
       "      <td>1499</td>\n",
       "      <td>12</td>\n",
       "      <td>13055.58</td>\n",
       "    </tr>\n",
       "  </tbody>\n",
       "</table>\n",
       "<p>3201 rows × 3 columns</p>\n",
       "</div>"
      ],
      "text/plain": [
       "      user_id  month   mb_used\n",
       "0        1000      5   2253.49\n",
       "1        1000      6  23233.77\n",
       "2        1000      7  14003.64\n",
       "3        1000      8  14055.93\n",
       "4        1000      9  14568.91\n",
       "...       ...    ...       ...\n",
       "3196     1498     10  20579.36\n",
       "3197     1499      9   1845.75\n",
       "3198     1499     10  17788.51\n",
       "3199     1499     11  17963.31\n",
       "3200     1499     12  13055.58\n",
       "\n",
       "[3201 rows x 3 columns]"
      ]
     },
     "metadata": {},
     "output_type": "display_data"
    }
   ],
   "source": [
    "internet_df_with_month = internet_df_with_month.groupby(\n",
    "    ['user_id', 'month'], as_index=False).agg({'mb_used': 'sum'}).reset_index(drop=True)\n",
    "display(internet_df_with_month)"
   ]
  },
  {
   "cell_type": "code",
   "execution_count": 132,
   "metadata": {},
   "outputs": [
    {
     "name": "stdout",
     "output_type": "stream",
     "text": [
      "user_id    0\n",
      "month      0\n",
      "mb_used    0\n",
      "dtype: int64\n"
     ]
    }
   ],
   "source": [
    "print(internet_df_with_month.isna().sum())"
   ]
  },
  {
   "cell_type": "markdown",
   "metadata": {},
   "source": [
    "#### Помесячная выручка с каждого пользователя"
   ]
  },
  {
   "cell_type": "code",
   "execution_count": 133,
   "metadata": {},
   "outputs": [],
   "source": [
    "df = time_for_each_user1.merge(\n",
    "    count_minutes_by_months, left_on=['user_id', 'month'], right_on=['user_id', 'month'], how='outer').merge(\n",
    "    count_messages_by_months, left_on=['user_id', 'month'], right_on=['user_id', 'month'], how='outer').merge(\n",
    "    internet_df_with_month, left_on=['user_id', 'month'], right_on=['user_id', 'month'], how='outer')\n",
    "df = df.fillna(0)"
   ]
  },
  {
   "cell_type": "code",
   "execution_count": 134,
   "metadata": {},
   "outputs": [
    {
     "data": {
      "text/html": [
       "<div>\n",
       "<style scoped>\n",
       "    .dataframe tbody tr th:only-of-type {\n",
       "        vertical-align: middle;\n",
       "    }\n",
       "\n",
       "    .dataframe tbody tr th {\n",
       "        vertical-align: top;\n",
       "    }\n",
       "\n",
       "    .dataframe thead th {\n",
       "        text-align: right;\n",
       "    }\n",
       "</style>\n",
       "<table border=\"1\" class=\"dataframe\">\n",
       "  <thead>\n",
       "    <tr style=\"text-align: right;\">\n",
       "      <th></th>\n",
       "      <th>user_id</th>\n",
       "      <th>month</th>\n",
       "      <th>count_calls</th>\n",
       "      <th>duration</th>\n",
       "      <th>number_of_messages</th>\n",
       "      <th>mb_used</th>\n",
       "    </tr>\n",
       "  </thead>\n",
       "  <tbody>\n",
       "    <tr>\n",
       "      <td>0</td>\n",
       "      <td>1000</td>\n",
       "      <td>5</td>\n",
       "      <td>22.0</td>\n",
       "      <td>159.0</td>\n",
       "      <td>22.0</td>\n",
       "      <td>2253.49</td>\n",
       "    </tr>\n",
       "    <tr>\n",
       "      <td>1</td>\n",
       "      <td>1000</td>\n",
       "      <td>6</td>\n",
       "      <td>43.0</td>\n",
       "      <td>172.0</td>\n",
       "      <td>60.0</td>\n",
       "      <td>23233.77</td>\n",
       "    </tr>\n",
       "    <tr>\n",
       "      <td>2</td>\n",
       "      <td>1000</td>\n",
       "      <td>7</td>\n",
       "      <td>47.0</td>\n",
       "      <td>340.0</td>\n",
       "      <td>75.0</td>\n",
       "      <td>14003.64</td>\n",
       "    </tr>\n",
       "    <tr>\n",
       "      <td>3</td>\n",
       "      <td>1000</td>\n",
       "      <td>8</td>\n",
       "      <td>52.0</td>\n",
       "      <td>408.0</td>\n",
       "      <td>81.0</td>\n",
       "      <td>14055.93</td>\n",
       "    </tr>\n",
       "    <tr>\n",
       "      <td>4</td>\n",
       "      <td>1000</td>\n",
       "      <td>9</td>\n",
       "      <td>58.0</td>\n",
       "      <td>466.0</td>\n",
       "      <td>57.0</td>\n",
       "      <td>14568.91</td>\n",
       "    </tr>\n",
       "    <tr>\n",
       "      <td>...</td>\n",
       "      <td>...</td>\n",
       "      <td>...</td>\n",
       "      <td>...</td>\n",
       "      <td>...</td>\n",
       "      <td>...</td>\n",
       "      <td>...</td>\n",
       "    </tr>\n",
       "    <tr>\n",
       "      <td>3209</td>\n",
       "      <td>1489</td>\n",
       "      <td>9</td>\n",
       "      <td>0.0</td>\n",
       "      <td>0.0</td>\n",
       "      <td>32.0</td>\n",
       "      <td>17206.30</td>\n",
       "    </tr>\n",
       "    <tr>\n",
       "      <td>3210</td>\n",
       "      <td>1489</td>\n",
       "      <td>10</td>\n",
       "      <td>0.0</td>\n",
       "      <td>0.0</td>\n",
       "      <td>21.0</td>\n",
       "      <td>19559.44</td>\n",
       "    </tr>\n",
       "    <tr>\n",
       "      <td>3211</td>\n",
       "      <td>1489</td>\n",
       "      <td>11</td>\n",
       "      <td>0.0</td>\n",
       "      <td>0.0</td>\n",
       "      <td>20.0</td>\n",
       "      <td>17491.56</td>\n",
       "    </tr>\n",
       "    <tr>\n",
       "      <td>3212</td>\n",
       "      <td>1489</td>\n",
       "      <td>12</td>\n",
       "      <td>0.0</td>\n",
       "      <td>0.0</td>\n",
       "      <td>35.0</td>\n",
       "      <td>17322.51</td>\n",
       "    </tr>\n",
       "    <tr>\n",
       "      <td>3213</td>\n",
       "      <td>1476</td>\n",
       "      <td>4</td>\n",
       "      <td>0.0</td>\n",
       "      <td>0.0</td>\n",
       "      <td>0.0</td>\n",
       "      <td>530.78</td>\n",
       "    </tr>\n",
       "  </tbody>\n",
       "</table>\n",
       "<p>3214 rows × 6 columns</p>\n",
       "</div>"
      ],
      "text/plain": [
       "      user_id  month  count_calls  duration  number_of_messages   mb_used\n",
       "0        1000      5         22.0     159.0                22.0   2253.49\n",
       "1        1000      6         43.0     172.0                60.0  23233.77\n",
       "2        1000      7         47.0     340.0                75.0  14003.64\n",
       "3        1000      8         52.0     408.0                81.0  14055.93\n",
       "4        1000      9         58.0     466.0                57.0  14568.91\n",
       "...       ...    ...          ...       ...                 ...       ...\n",
       "3209     1489      9          0.0       0.0                32.0  17206.30\n",
       "3210     1489     10          0.0       0.0                21.0  19559.44\n",
       "3211     1489     11          0.0       0.0                20.0  17491.56\n",
       "3212     1489     12          0.0       0.0                35.0  17322.51\n",
       "3213     1476      4          0.0       0.0                 0.0    530.78\n",
       "\n",
       "[3214 rows x 6 columns]"
      ]
     },
     "metadata": {},
     "output_type": "display_data"
    }
   ],
   "source": [
    "display(df)"
   ]
  },
  {
   "cell_type": "code",
   "execution_count": 135,
   "metadata": {
    "scrolled": false
   },
   "outputs": [
    {
     "data": {
      "text/html": [
       "<div>\n",
       "<style scoped>\n",
       "    .dataframe tbody tr th:only-of-type {\n",
       "        vertical-align: middle;\n",
       "    }\n",
       "\n",
       "    .dataframe tbody tr th {\n",
       "        vertical-align: top;\n",
       "    }\n",
       "\n",
       "    .dataframe thead th {\n",
       "        text-align: right;\n",
       "    }\n",
       "</style>\n",
       "<table border=\"1\" class=\"dataframe\">\n",
       "  <thead>\n",
       "    <tr style=\"text-align: right;\">\n",
       "      <th></th>\n",
       "      <th>user_id</th>\n",
       "      <th>month</th>\n",
       "      <th>count_calls</th>\n",
       "      <th>duration</th>\n",
       "      <th>number_of_messages</th>\n",
       "      <th>mb_used</th>\n",
       "      <th>tariff</th>\n",
       "    </tr>\n",
       "  </thead>\n",
       "  <tbody>\n",
       "    <tr>\n",
       "      <td>0</td>\n",
       "      <td>1000</td>\n",
       "      <td>5</td>\n",
       "      <td>22.0</td>\n",
       "      <td>159.0</td>\n",
       "      <td>22.0</td>\n",
       "      <td>2253.49</td>\n",
       "      <td>ultra</td>\n",
       "    </tr>\n",
       "    <tr>\n",
       "      <td>1</td>\n",
       "      <td>1000</td>\n",
       "      <td>6</td>\n",
       "      <td>43.0</td>\n",
       "      <td>172.0</td>\n",
       "      <td>60.0</td>\n",
       "      <td>23233.77</td>\n",
       "      <td>ultra</td>\n",
       "    </tr>\n",
       "    <tr>\n",
       "      <td>2</td>\n",
       "      <td>1000</td>\n",
       "      <td>7</td>\n",
       "      <td>47.0</td>\n",
       "      <td>340.0</td>\n",
       "      <td>75.0</td>\n",
       "      <td>14003.64</td>\n",
       "      <td>ultra</td>\n",
       "    </tr>\n",
       "    <tr>\n",
       "      <td>3</td>\n",
       "      <td>1000</td>\n",
       "      <td>8</td>\n",
       "      <td>52.0</td>\n",
       "      <td>408.0</td>\n",
       "      <td>81.0</td>\n",
       "      <td>14055.93</td>\n",
       "      <td>ultra</td>\n",
       "    </tr>\n",
       "    <tr>\n",
       "      <td>4</td>\n",
       "      <td>1000</td>\n",
       "      <td>9</td>\n",
       "      <td>58.0</td>\n",
       "      <td>466.0</td>\n",
       "      <td>57.0</td>\n",
       "      <td>14568.91</td>\n",
       "      <td>ultra</td>\n",
       "    </tr>\n",
       "    <tr>\n",
       "      <td>...</td>\n",
       "      <td>...</td>\n",
       "      <td>...</td>\n",
       "      <td>...</td>\n",
       "      <td>...</td>\n",
       "      <td>...</td>\n",
       "      <td>...</td>\n",
       "      <td>...</td>\n",
       "    </tr>\n",
       "    <tr>\n",
       "      <td>3209</td>\n",
       "      <td>1489</td>\n",
       "      <td>9</td>\n",
       "      <td>0.0</td>\n",
       "      <td>0.0</td>\n",
       "      <td>32.0</td>\n",
       "      <td>17206.30</td>\n",
       "      <td>smart</td>\n",
       "    </tr>\n",
       "    <tr>\n",
       "      <td>3210</td>\n",
       "      <td>1489</td>\n",
       "      <td>10</td>\n",
       "      <td>0.0</td>\n",
       "      <td>0.0</td>\n",
       "      <td>21.0</td>\n",
       "      <td>19559.44</td>\n",
       "      <td>smart</td>\n",
       "    </tr>\n",
       "    <tr>\n",
       "      <td>3211</td>\n",
       "      <td>1489</td>\n",
       "      <td>11</td>\n",
       "      <td>0.0</td>\n",
       "      <td>0.0</td>\n",
       "      <td>20.0</td>\n",
       "      <td>17491.56</td>\n",
       "      <td>smart</td>\n",
       "    </tr>\n",
       "    <tr>\n",
       "      <td>3212</td>\n",
       "      <td>1489</td>\n",
       "      <td>12</td>\n",
       "      <td>0.0</td>\n",
       "      <td>0.0</td>\n",
       "      <td>35.0</td>\n",
       "      <td>17322.51</td>\n",
       "      <td>smart</td>\n",
       "    </tr>\n",
       "    <tr>\n",
       "      <td>3213</td>\n",
       "      <td>1476</td>\n",
       "      <td>4</td>\n",
       "      <td>0.0</td>\n",
       "      <td>0.0</td>\n",
       "      <td>0.0</td>\n",
       "      <td>530.78</td>\n",
       "      <td>ultra</td>\n",
       "    </tr>\n",
       "  </tbody>\n",
       "</table>\n",
       "<p>3214 rows × 7 columns</p>\n",
       "</div>"
      ],
      "text/plain": [
       "      user_id  month  count_calls  duration  number_of_messages   mb_used  \\\n",
       "0        1000      5         22.0     159.0                22.0   2253.49   \n",
       "1        1000      6         43.0     172.0                60.0  23233.77   \n",
       "2        1000      7         47.0     340.0                75.0  14003.64   \n",
       "3        1000      8         52.0     408.0                81.0  14055.93   \n",
       "4        1000      9         58.0     466.0                57.0  14568.91   \n",
       "...       ...    ...          ...       ...                 ...       ...   \n",
       "3209     1489      9          0.0       0.0                32.0  17206.30   \n",
       "3210     1489     10          0.0       0.0                21.0  19559.44   \n",
       "3211     1489     11          0.0       0.0                20.0  17491.56   \n",
       "3212     1489     12          0.0       0.0                35.0  17322.51   \n",
       "3213     1476      4          0.0       0.0                 0.0    530.78   \n",
       "\n",
       "     tariff  \n",
       "0     ultra  \n",
       "1     ultra  \n",
       "2     ultra  \n",
       "3     ultra  \n",
       "4     ultra  \n",
       "...     ...  \n",
       "3209  smart  \n",
       "3210  smart  \n",
       "3211  smart  \n",
       "3212  smart  \n",
       "3213  ultra  \n",
       "\n",
       "[3214 rows x 7 columns]"
      ]
     },
     "metadata": {},
     "output_type": "display_data"
    }
   ],
   "source": [
    "# Добавление тарифа в таблицу\n",
    "smart_tariff = []\n",
    "ultra_tariff = []\n",
    "def tariff(row):\n",
    "    if row['tariff'] == 'ultra':\n",
    "        ultra_tariff.append(row['user_id'])\n",
    "    else:\n",
    "        smart_tariff.append(row['user_id'])\n",
    "        \n",
    "        \n",
    "users_df.apply(tariff, axis=1)\n",
    "\n",
    "def add_tariff(row):\n",
    "    if row['user_id'] in smart_tariff:\n",
    "        return 'smart'\n",
    "    else:\n",
    "        return 'ultra'\n",
    "\n",
    "\n",
    "\n",
    "df['tariff'] = df.apply(add_tariff, axis=1)\n",
    "display(df)"
   ]
  },
  {
   "cell_type": "code",
   "execution_count": 136,
   "metadata": {},
   "outputs": [
    {
     "data": {
      "text/html": [
       "<div>\n",
       "<style scoped>\n",
       "    .dataframe tbody tr th:only-of-type {\n",
       "        vertical-align: middle;\n",
       "    }\n",
       "\n",
       "    .dataframe tbody tr th {\n",
       "        vertical-align: top;\n",
       "    }\n",
       "\n",
       "    .dataframe thead th {\n",
       "        text-align: right;\n",
       "    }\n",
       "</style>\n",
       "<table border=\"1\" class=\"dataframe\">\n",
       "  <thead>\n",
       "    <tr style=\"text-align: right;\">\n",
       "      <th></th>\n",
       "      <th>messages_included</th>\n",
       "      <th>mb_per_month_included</th>\n",
       "      <th>minutes_included</th>\n",
       "      <th>rub_monthly_fee</th>\n",
       "      <th>rub_per_gb</th>\n",
       "      <th>rub_per_message</th>\n",
       "      <th>rub_per_minute</th>\n",
       "      <th>tariff_name</th>\n",
       "    </tr>\n",
       "  </thead>\n",
       "  <tbody>\n",
       "    <tr>\n",
       "      <td>0</td>\n",
       "      <td>50</td>\n",
       "      <td>15360</td>\n",
       "      <td>500</td>\n",
       "      <td>550</td>\n",
       "      <td>200</td>\n",
       "      <td>3</td>\n",
       "      <td>3</td>\n",
       "      <td>smart</td>\n",
       "    </tr>\n",
       "    <tr>\n",
       "      <td>1</td>\n",
       "      <td>1000</td>\n",
       "      <td>30720</td>\n",
       "      <td>3000</td>\n",
       "      <td>1950</td>\n",
       "      <td>150</td>\n",
       "      <td>1</td>\n",
       "      <td>1</td>\n",
       "      <td>ultra</td>\n",
       "    </tr>\n",
       "  </tbody>\n",
       "</table>\n",
       "</div>"
      ],
      "text/plain": [
       "   messages_included  mb_per_month_included  minutes_included  \\\n",
       "0                 50                  15360               500   \n",
       "1               1000                  30720              3000   \n",
       "\n",
       "   rub_monthly_fee  rub_per_gb  rub_per_message  rub_per_minute tariff_name  \n",
       "0              550         200                3               3       smart  \n",
       "1             1950         150                1               1       ultra  "
      ]
     },
     "metadata": {},
     "output_type": "display_data"
    }
   ],
   "source": [
    "display(tariffs_df)"
   ]
  },
  {
   "cell_type": "code",
   "execution_count": 137,
   "metadata": {},
   "outputs": [
    {
     "data": {
      "text/html": [
       "<div>\n",
       "<style scoped>\n",
       "    .dataframe tbody tr th:only-of-type {\n",
       "        vertical-align: middle;\n",
       "    }\n",
       "\n",
       "    .dataframe tbody tr th {\n",
       "        vertical-align: top;\n",
       "    }\n",
       "\n",
       "    .dataframe thead th {\n",
       "        text-align: right;\n",
       "    }\n",
       "</style>\n",
       "<table border=\"1\" class=\"dataframe\">\n",
       "  <thead>\n",
       "    <tr style=\"text-align: right;\">\n",
       "      <th></th>\n",
       "      <th>user_id</th>\n",
       "      <th>month</th>\n",
       "      <th>count_calls</th>\n",
       "      <th>duration</th>\n",
       "      <th>number_of_messages</th>\n",
       "      <th>mb_used</th>\n",
       "      <th>tariff</th>\n",
       "      <th>revenue</th>\n",
       "    </tr>\n",
       "  </thead>\n",
       "  <tbody>\n",
       "    <tr>\n",
       "      <td>0</td>\n",
       "      <td>1000</td>\n",
       "      <td>5</td>\n",
       "      <td>22.0</td>\n",
       "      <td>159.0</td>\n",
       "      <td>22.0</td>\n",
       "      <td>2253.49</td>\n",
       "      <td>ultra</td>\n",
       "      <td>1950.0</td>\n",
       "    </tr>\n",
       "    <tr>\n",
       "      <td>1</td>\n",
       "      <td>1000</td>\n",
       "      <td>6</td>\n",
       "      <td>43.0</td>\n",
       "      <td>172.0</td>\n",
       "      <td>60.0</td>\n",
       "      <td>23233.77</td>\n",
       "      <td>ultra</td>\n",
       "      <td>1950.0</td>\n",
       "    </tr>\n",
       "    <tr>\n",
       "      <td>2</td>\n",
       "      <td>1000</td>\n",
       "      <td>7</td>\n",
       "      <td>47.0</td>\n",
       "      <td>340.0</td>\n",
       "      <td>75.0</td>\n",
       "      <td>14003.64</td>\n",
       "      <td>ultra</td>\n",
       "      <td>1950.0</td>\n",
       "    </tr>\n",
       "    <tr>\n",
       "      <td>3</td>\n",
       "      <td>1000</td>\n",
       "      <td>8</td>\n",
       "      <td>52.0</td>\n",
       "      <td>408.0</td>\n",
       "      <td>81.0</td>\n",
       "      <td>14055.93</td>\n",
       "      <td>ultra</td>\n",
       "      <td>1950.0</td>\n",
       "    </tr>\n",
       "    <tr>\n",
       "      <td>4</td>\n",
       "      <td>1000</td>\n",
       "      <td>9</td>\n",
       "      <td>58.0</td>\n",
       "      <td>466.0</td>\n",
       "      <td>57.0</td>\n",
       "      <td>14568.91</td>\n",
       "      <td>ultra</td>\n",
       "      <td>1950.0</td>\n",
       "    </tr>\n",
       "    <tr>\n",
       "      <td>...</td>\n",
       "      <td>...</td>\n",
       "      <td>...</td>\n",
       "      <td>...</td>\n",
       "      <td>...</td>\n",
       "      <td>...</td>\n",
       "      <td>...</td>\n",
       "      <td>...</td>\n",
       "      <td>...</td>\n",
       "    </tr>\n",
       "    <tr>\n",
       "      <td>3209</td>\n",
       "      <td>1489</td>\n",
       "      <td>9</td>\n",
       "      <td>0.0</td>\n",
       "      <td>0.0</td>\n",
       "      <td>32.0</td>\n",
       "      <td>17206.30</td>\n",
       "      <td>smart</td>\n",
       "      <td>950.0</td>\n",
       "    </tr>\n",
       "    <tr>\n",
       "      <td>3210</td>\n",
       "      <td>1489</td>\n",
       "      <td>10</td>\n",
       "      <td>0.0</td>\n",
       "      <td>0.0</td>\n",
       "      <td>21.0</td>\n",
       "      <td>19559.44</td>\n",
       "      <td>smart</td>\n",
       "      <td>1550.0</td>\n",
       "    </tr>\n",
       "    <tr>\n",
       "      <td>3211</td>\n",
       "      <td>1489</td>\n",
       "      <td>11</td>\n",
       "      <td>0.0</td>\n",
       "      <td>0.0</td>\n",
       "      <td>20.0</td>\n",
       "      <td>17491.56</td>\n",
       "      <td>smart</td>\n",
       "      <td>1150.0</td>\n",
       "    </tr>\n",
       "    <tr>\n",
       "      <td>3212</td>\n",
       "      <td>1489</td>\n",
       "      <td>12</td>\n",
       "      <td>0.0</td>\n",
       "      <td>0.0</td>\n",
       "      <td>35.0</td>\n",
       "      <td>17322.51</td>\n",
       "      <td>smart</td>\n",
       "      <td>950.0</td>\n",
       "    </tr>\n",
       "    <tr>\n",
       "      <td>3213</td>\n",
       "      <td>1476</td>\n",
       "      <td>4</td>\n",
       "      <td>0.0</td>\n",
       "      <td>0.0</td>\n",
       "      <td>0.0</td>\n",
       "      <td>530.78</td>\n",
       "      <td>ultra</td>\n",
       "      <td>1950.0</td>\n",
       "    </tr>\n",
       "  </tbody>\n",
       "</table>\n",
       "<p>3214 rows × 8 columns</p>\n",
       "</div>"
      ],
      "text/plain": [
       "      user_id  month  count_calls  duration  number_of_messages   mb_used  \\\n",
       "0        1000      5         22.0     159.0                22.0   2253.49   \n",
       "1        1000      6         43.0     172.0                60.0  23233.77   \n",
       "2        1000      7         47.0     340.0                75.0  14003.64   \n",
       "3        1000      8         52.0     408.0                81.0  14055.93   \n",
       "4        1000      9         58.0     466.0                57.0  14568.91   \n",
       "...       ...    ...          ...       ...                 ...       ...   \n",
       "3209     1489      9          0.0       0.0                32.0  17206.30   \n",
       "3210     1489     10          0.0       0.0                21.0  19559.44   \n",
       "3211     1489     11          0.0       0.0                20.0  17491.56   \n",
       "3212     1489     12          0.0       0.0                35.0  17322.51   \n",
       "3213     1476      4          0.0       0.0                 0.0    530.78   \n",
       "\n",
       "     tariff  revenue  \n",
       "0     ultra   1950.0  \n",
       "1     ultra   1950.0  \n",
       "2     ultra   1950.0  \n",
       "3     ultra   1950.0  \n",
       "4     ultra   1950.0  \n",
       "...     ...      ...  \n",
       "3209  smart    950.0  \n",
       "3210  smart   1550.0  \n",
       "3211  smart   1150.0  \n",
       "3212  smart    950.0  \n",
       "3213  ultra   1950.0  \n",
       "\n",
       "[3214 rows x 8 columns]"
      ]
     },
     "metadata": {},
     "output_type": "display_data"
    }
   ],
   "source": [
    "# Подсчёт помесячной выручки с каждого пользователя\n",
    "\n",
    "def revenue_per_user(row):\n",
    "    revenue = 0\n",
    "    try:\n",
    "        if row['tariff'] == 'smart':\n",
    "            if row['duration'] > tariffs_df.loc[0]['minutes_included']:\n",
    "                revenue += (row['duration'] - tariffs_df.loc[0]['minutes_included']) * tariffs_df.loc[0]['rub_per_minute']\n",
    "            if row['number_of_messages'] > tariffs_df.loc[0]['messages_included']:\n",
    "                revenue += ((row['number_of_messages'] - tariffs_df.loc[0]['messages_included']) \n",
    "                            * tariffs_df.loc[0]['rub_per_message'])\n",
    "            if math.ceil(row['mb_used']/1024) > (tariffs_df.loc[0]['mb_per_month_included']/1024):\n",
    "                revenue += ((math.ceil(row['mb_used']/1024) - (tariffs_df.loc[0]['mb_per_month_included']/1024))\n",
    "                            * tariffs_df.loc[0]['rub_per_gb'])\n",
    "            revenue += tariffs_df.loc[0]['rub_monthly_fee']\n",
    "            return revenue\n",
    "        else:\n",
    "            if row['duration'] > tariffs_df.loc[1]['minutes_included']:\n",
    "                revenue += (row['duration'] - tariffs_df.loc[1]['minutes_included']) * tariffs_df.loc[1]['rub_per_minute']\n",
    "            if row['number_of_messages'] > tariffs_df.loc[1]['messages_included']:\n",
    "                revenue += ((row['number_of_messages'] - tariffs_df.loc[1]['messages_included']) \n",
    "                            * tariffs_df.loc[1]['rub_per_message'])\n",
    "            if math.ceil(row['mb_used']/1024) > (tariffs_df.loc[1]['mb_per_month_included']/1024):\n",
    "                revenue += ((math.ceil(row['mb_used']/1024) - (tariffs_df.loc[1]['mb_per_month_included']/1024))\n",
    "                            * tariffs_df.loc[1]['rub_per_gb'])\n",
    "            revenue += tariffs_df.loc[1]['rub_monthly_fee']\n",
    "            return revenue\n",
    "    except:\n",
    "        return 'Не удалось посчитать'\n",
    "\n",
    "df['revenue'] = round(df.apply(revenue_per_user, axis=1))\n",
    "display(df)"
   ]
  },
  {
   "cell_type": "markdown",
   "metadata": {},
   "source": [
    "<div class=\"alert alert-info\">\n",
    "<b>Комментарий:</b><br>\n",
    "• Была сформирована таблица с месячными показателями каждого пользователя. Выручка округлена.\n",
    "</div>"
   ]
  },
  {
   "cell_type": "markdown",
   "metadata": {},
   "source": [
    "## Анализ данных"
   ]
  },
  {
   "cell_type": "code",
   "execution_count": 138,
   "metadata": {},
   "outputs": [
    {
     "data": {
      "text/html": [
       "<div>\n",
       "<style scoped>\n",
       "    .dataframe tbody tr th:only-of-type {\n",
       "        vertical-align: middle;\n",
       "    }\n",
       "\n",
       "    .dataframe tbody tr th {\n",
       "        vertical-align: top;\n",
       "    }\n",
       "\n",
       "    .dataframe thead th {\n",
       "        text-align: right;\n",
       "    }\n",
       "</style>\n",
       "<table border=\"1\" class=\"dataframe\">\n",
       "  <thead>\n",
       "    <tr style=\"text-align: right;\">\n",
       "      <th></th>\n",
       "      <th>mean</th>\n",
       "      <th>var</th>\n",
       "      <th>std</th>\n",
       "    </tr>\n",
       "    <tr>\n",
       "      <th>tariff</th>\n",
       "      <th></th>\n",
       "      <th></th>\n",
       "      <th></th>\n",
       "    </tr>\n",
       "  </thead>\n",
       "  <tbody>\n",
       "    <tr>\n",
       "      <td>smart</td>\n",
       "      <td>417.934948</td>\n",
       "      <td>36219.315784</td>\n",
       "      <td>190.313730</td>\n",
       "    </tr>\n",
       "    <tr>\n",
       "      <td>ultra</td>\n",
       "      <td>526.623350</td>\n",
       "      <td>100873.633397</td>\n",
       "      <td>317.606098</td>\n",
       "    </tr>\n",
       "  </tbody>\n",
       "</table>\n",
       "</div>"
      ],
      "text/plain": [
       "              mean            var         std\n",
       "tariff                                       \n",
       "smart   417.934948   36219.315784  190.313730\n",
       "ultra   526.623350  100873.633397  317.606098"
      ]
     },
     "metadata": {},
     "output_type": "display_data"
    },
    {
     "data": {
      "text/html": [
       "<div>\n",
       "<style scoped>\n",
       "    .dataframe tbody tr th:only-of-type {\n",
       "        vertical-align: middle;\n",
       "    }\n",
       "\n",
       "    .dataframe tbody tr th {\n",
       "        vertical-align: top;\n",
       "    }\n",
       "\n",
       "    .dataframe thead th {\n",
       "        text-align: right;\n",
       "    }\n",
       "</style>\n",
       "<table border=\"1\" class=\"dataframe\">\n",
       "  <thead>\n",
       "    <tr style=\"text-align: right;\">\n",
       "      <th></th>\n",
       "      <th>mean</th>\n",
       "      <th>var</th>\n",
       "      <th>std</th>\n",
       "    </tr>\n",
       "    <tr>\n",
       "      <th>tariff</th>\n",
       "      <th></th>\n",
       "      <th></th>\n",
       "      <th></th>\n",
       "    </tr>\n",
       "  </thead>\n",
       "  <tbody>\n",
       "    <tr>\n",
       "      <td>smart</td>\n",
       "      <td>33.384029</td>\n",
       "      <td>796.812958</td>\n",
       "      <td>28.227876</td>\n",
       "    </tr>\n",
       "    <tr>\n",
       "      <td>ultra</td>\n",
       "      <td>49.363452</td>\n",
       "      <td>2285.266143</td>\n",
       "      <td>47.804457</td>\n",
       "    </tr>\n",
       "  </tbody>\n",
       "</table>\n",
       "</div>"
      ],
      "text/plain": [
       "             mean          var        std\n",
       "tariff                                   \n",
       "smart   33.384029   796.812958  28.227876\n",
       "ultra   49.363452  2285.266143  47.804457"
      ]
     },
     "metadata": {},
     "output_type": "display_data"
    },
    {
     "data": {
      "text/html": [
       "<div>\n",
       "<style scoped>\n",
       "    .dataframe tbody tr th:only-of-type {\n",
       "        vertical-align: middle;\n",
       "    }\n",
       "\n",
       "    .dataframe tbody tr th {\n",
       "        vertical-align: top;\n",
       "    }\n",
       "\n",
       "    .dataframe thead th {\n",
       "        text-align: right;\n",
       "    }\n",
       "</style>\n",
       "<table border=\"1\" class=\"dataframe\">\n",
       "  <thead>\n",
       "    <tr style=\"text-align: right;\">\n",
       "      <th></th>\n",
       "      <th>mean</th>\n",
       "      <th>var</th>\n",
       "      <th>std</th>\n",
       "    </tr>\n",
       "    <tr>\n",
       "      <th>tariff</th>\n",
       "      <th></th>\n",
       "      <th></th>\n",
       "      <th></th>\n",
       "    </tr>\n",
       "  </thead>\n",
       "  <tbody>\n",
       "    <tr>\n",
       "      <td>smart</td>\n",
       "      <td>16208.386990</td>\n",
       "      <td>3.446250e+07</td>\n",
       "      <td>5870.476681</td>\n",
       "    </tr>\n",
       "    <tr>\n",
       "      <td>ultra</td>\n",
       "      <td>19468.805208</td>\n",
       "      <td>1.017510e+08</td>\n",
       "      <td>10087.170752</td>\n",
       "    </tr>\n",
       "  </tbody>\n",
       "</table>\n",
       "</div>"
      ],
      "text/plain": [
       "                mean           var           std\n",
       "tariff                                          \n",
       "smart   16208.386990  3.446250e+07   5870.476681\n",
       "ultra   19468.805208  1.017510e+08  10087.170752"
      ]
     },
     "metadata": {},
     "output_type": "display_data"
    }
   ],
   "source": [
    "# Создание таблиц со средним, дисперсией и стандартным отклонением.\n",
    "df_mean_var_std_duration = df.groupby(['tariff'])['duration'].agg(['mean', 'var', 'std'])\n",
    "df_mean_var_std_messages = df.groupby(['tariff'])['number_of_messages'].agg(['mean', 'var', 'std'])\n",
    "df_mean_var_std_mb = df.groupby(['tariff'])['mb_used'].agg(['mean', 'var', 'std'])\n",
    "#df_mean_var_std = df.pivot_table(index= 'tariff', values='revenue', aggfunc= ['mean', 'var','std'])\n",
    "display(df_mean_var_std_duration)\n",
    "display(df_mean_var_std_messages)\n",
    "display(df_mean_var_std_mb)"
   ]
  },
  {
   "cell_type": "code",
   "execution_count": 139,
   "metadata": {},
   "outputs": [
    {
     "name": "stdout",
     "output_type": "stream",
     "text": [
      "AxesSubplot(0.125,0.125;0.775x0.755)\n",
      "AxesSubplot(0.125,0.125;0.775x0.755)\n"
     ]
    },
    {
     "data": {
      "image/png": "[encoded data removed]",
      "text/plain": [
       "<Figure size 432x288 with 1 Axes>"
      ]
     },
     "metadata": {
      "needs_background": "light"
     },
     "output_type": "display_data"
    }
   ],
   "source": [
    "# Гистограмма длительности.\n",
    "print(df.query('tariff == \"smart\"')['duration'].hist(bins=10, alpha=0.5, color='red'))\n",
    "print(df.query('tariff == \"ultra\"')['duration'].hist(bins=10, alpha=0.5, color='green'))"
   ]
  },
  {
   "cell_type": "markdown",
   "metadata": {},
   "source": [
    "<div class=\"alert alert-info\">\n",
    "<b>Комментарий:</b><br>\n",
    "Гистограмма длительности звонков.<br>\n",
    "Виднеется большая разница в количестве звонков между пользователями разных тарифов. Преобладают клиенты \"Смарт\"\n",
    "</div>"
   ]
  },
  {
   "cell_type": "code",
   "execution_count": 140,
   "metadata": {},
   "outputs": [
    {
     "name": "stdout",
     "output_type": "stream",
     "text": [
      "AxesSubplot(0.125,0.125;0.775x0.755)\n",
      "AxesSubplot(0.125,0.125;0.775x0.755)\n"
     ]
    },
    {
     "data": {
      "image/png": "[encoded data removed]",
      "text/plain": [
       "<Figure size 432x288 with 1 Axes>"
      ]
     },
     "metadata": {
      "needs_background": "light"
     },
     "output_type": "display_data"
    }
   ],
   "source": [
    "# Гистограмма смс.\n",
    "print(df.query('tariff == \"smart\"')['number_of_messages'].hist(bins=10, alpha=0.5, color='red'))\n",
    "print(df.query('tariff == \"ultra\"')['number_of_messages'].hist(bins=10, alpha=0.5, color='green'))"
   ]
  },
  {
   "cell_type": "markdown",
   "metadata": {},
   "source": [
    "<div class=\"alert alert-info\">\n",
    "<b>Комментарий:</b><br>\n",
    "Гистограмма количества смс.<br>\n",
    "Пользователи различных тарифов приблизительно равны по количеству отправленных смс.\n",
    "</div>"
   ]
  },
  {
   "cell_type": "code",
   "execution_count": 141,
   "metadata": {},
   "outputs": [
    {
     "name": "stdout",
     "output_type": "stream",
     "text": [
      "AxesSubplot(0.125,0.125;0.775x0.755)\n",
      "AxesSubplot(0.125,0.125;0.775x0.755)\n"
     ]
    },
    {
     "data": {
      "image/png": "[encoded data removed]",
      "text/plain": [
       "<Figure size 432x288 with 1 Axes>"
      ]
     },
     "metadata": {
      "needs_background": "light"
     },
     "output_type": "display_data"
    }
   ],
   "source": [
    "# Гистограмма интернету.\n",
    "print(df.query('tariff == \"smart\"')['mb_used'].hist(bins=10, alpha=0.5, color='red'))\n",
    "print(df.query('tariff == \"ultra\"')['mb_used'].hist(bins=10, alpha=0.5, color='green'))"
   ]
  },
  {
   "cell_type": "markdown",
   "metadata": {},
   "source": [
    "<div class=\"alert alert-info\">\n",
    "<b>Комментарий:</b><br>\n",
    "Гистограмма затраченного трафика на интернет.\n",
    "</div>"
   ]
  },
  {
   "cell_type": "markdown",
   "metadata": {},
   "source": [
    "## Проверка гипотез"
   ]
  },
  {
   "cell_type": "markdown",
   "metadata": {},
   "source": [
    "#### Cредняя выручка пользователей тарифов «Ультра» и «Смарт» различаются"
   ]
  },
  {
   "cell_type": "markdown",
   "metadata": {},
   "source": [
    "<div class=\"alert alert-info\">\n",
    "<b>Комментарий :</b><br>\n",
    "Примем за нулевую гипотезу, что средняя выручка пользователей различных тарифов равны.<br>\n",
    "За альтернативную гипотезу возьмем, что выручка за тариф Ультра отличается от Смарт.\n",
    "</div>"
   ]
  },
  {
   "cell_type": "code",
   "execution_count": 142,
   "metadata": {},
   "outputs": [
    {
     "name": "stdout",
     "output_type": "stream",
     "text": [
      "p-значение: 1.4229814360764067e-160\n",
      "Отвергаем нулевую гипотезу\n"
     ]
    }
   ],
   "source": [
    "alpha = 0.05\n",
    "# Двусторонняя гипотеза\n",
    "results = st.ttest_ind(df.query('tariff == \"smart\"')['revenue'], df.query('tariff == \"ultra\"')['revenue'])\n",
    "\n",
    "print('p-значение:', results.pvalue)\n",
    "\n",
    "if (results.pvalue < alpha):\n",
    "    print(\"Отвергаем нулевую гипотезу\")\n",
    "else:\n",
    "    print(\"Не получилось отвергнуть нулевую гипотезу\") "
   ]
  },
  {
   "cell_type": "markdown",
   "metadata": {},
   "source": [
    "##### Вывод:\n",
    "<div class=\"alert alert-info\">\n",
    "<b>Комментарий:</b><br>\n",
    "Была отвергнута нулевая гипотеза о равенстве выручки. Средняя выручка по тарифам действительно отличается.<br>\n",
    "</div>"
   ]
  },
  {
   "cell_type": "markdown",
   "metadata": {},
   "source": [
    "#### Cредняя выручка пользователей из Москвы отличается от выручки пользователей из других регионов"
   ]
  },
  {
   "cell_type": "markdown",
   "metadata": {},
   "source": [
    "<div class=\"alert alert-info\">\n",
    "<b>Комментарий:</b><br>\n",
    "Примем за нулевую гипотезу, что средняя выручка пользователей из Москвы равна выручке пользователей из других регионов.<br>\n",
    "За альтернативную гипотезу возьмем, что средняя выручка отличается.\n",
    "</div>"
   ]
  },
  {
   "cell_type": "code",
   "execution_count": null,
   "metadata": {},
   "outputs": [],
   "source": [
    "alpha = 0.05\n",
    "# Двусторонняя гипотеза\n",
    "results = st.ttest_ind(df.query('index != \"Москва\"')['revenue'], df.query('index == \"Москва\"')['revenue'])\n",
    "\n",
    "print('p-значение:', results.pvalue)\n",
    "\n",
    "if (results.pvalue < alpha):\n",
    "    print(\"Отвергаем нулевую гипотезу\")\n",
    "else:\n",
    "    print(\"Не получилось отвергнуть нулевую гипотезу\") "
   ]
  },
  {
   "cell_type": "markdown",
   "metadata": {},
   "source": [
    "##### Вывод:\n",
    "<div class=\"alert alert-info\">\n",
    "<b>Комментарий:</b><br>\n",
    "Не удалось отвергнуть нулевую гипотезу.<br>\n",
    "</div>"
   ]
  },
  {
   "cell_type": "markdown",
   "metadata": {},
   "source": [
    "## Общий вывод:"
   ]
  },
  {
   "cell_type": "markdown",
   "metadata": {},
   "source": [
    "<div class=\"alert alert-info\">\n",
    "<b>Комментарий:</b><br>\n",
    "В ходе проведения исследования и проверки гипотез можно сделать следующие выводы:<br>\n",
    "Проверялись две гипотезы: средняя выручка между тарифами отличаются; средняя выручка между регионами и Москвой отличаются.<br>\n",
    "Отвергнута была лишь первая гипотеза в пользу альтернативной.<br><br>\n",
    "Исследуя гистограмы показателей по тарифами, видно, что частота тарифа Смарт больше почти по всем метрикам. Это связано с большим количеством пользователей этого тарифа.<br>\n",
    "Более выгодным тарифом можно считать Ультра. Тк статистические показатели этого тарифа больше.\n",
    "</div>"
   ]
  }
 ],
 "metadata": {
  "ExecuteTimeLog": [
   {
    "duration": 1304,
    "start_time": "2022-03-03T07:12:04.555Z"
   },
   {
    "duration": 352,
    "start_time": "2022-03-03T07:12:58.965Z"
   },
   {
    "duration": 446,
    "start_time": "2022-03-03T07:13:39.869Z"
   },
   {
    "duration": 483,
    "start_time": "2022-03-03T07:14:22.100Z"
   },
   {
    "duration": 16,
    "start_time": "2022-03-03T07:22:52.714Z"
   },
   {
    "duration": 41,
    "start_time": "2022-03-03T07:23:02.545Z"
   },
   {
    "duration": 59,
    "start_time": "2022-03-03T07:25:44.758Z"
   },
   {
    "duration": 37,
    "start_time": "2022-03-03T07:25:53.655Z"
   },
   {
    "duration": 453,
    "start_time": "2022-03-03T07:26:07.875Z"
   },
   {
    "duration": 60,
    "start_time": "2022-03-03T07:26:11.971Z"
   },
   {
    "duration": 23,
    "start_time": "2022-03-03T07:27:00.379Z"
   },
   {
    "duration": 17,
    "start_time": "2022-03-03T07:27:46.771Z"
   },
   {
    "duration": 16,
    "start_time": "2022-03-03T07:29:26.156Z"
   },
   {
    "duration": 115,
    "start_time": "2022-03-03T07:30:04.649Z"
   },
   {
    "duration": 115,
    "start_time": "2022-03-03T07:30:21.953Z"
   },
   {
    "duration": 124,
    "start_time": "2022-03-03T07:31:48.564Z"
   },
   {
    "duration": 112,
    "start_time": "2022-03-03T07:32:06.439Z"
   },
   {
    "duration": 18,
    "start_time": "2022-03-03T07:32:53.414Z"
   },
   {
    "duration": 463,
    "start_time": "2022-03-03T07:33:04.388Z"
   },
   {
    "duration": 61,
    "start_time": "2022-03-03T07:33:04.854Z"
   },
   {
    "duration": 42,
    "start_time": "2022-03-03T07:33:04.919Z"
   },
   {
    "duration": 126,
    "start_time": "2022-03-03T07:33:04.965Z"
   },
   {
    "duration": 24,
    "start_time": "2022-03-03T07:33:05.093Z"
   },
   {
    "duration": 21,
    "start_time": "2022-03-03T07:33:07.658Z"
   },
   {
    "duration": 463,
    "start_time": "2022-03-03T07:33:22.088Z"
   },
   {
    "duration": 466,
    "start_time": "2022-03-03T07:33:27.642Z"
   },
   {
    "duration": 446,
    "start_time": "2022-03-03T07:33:38.962Z"
   },
   {
    "duration": 61,
    "start_time": "2022-03-03T07:33:39.411Z"
   },
   {
    "duration": 18,
    "start_time": "2022-03-03T07:33:39.476Z"
   },
   {
    "duration": 134,
    "start_time": "2022-03-03T07:33:39.497Z"
   },
   {
    "duration": 35,
    "start_time": "2022-03-03T07:33:39.634Z"
   },
   {
    "duration": 21,
    "start_time": "2022-03-03T07:33:41.063Z"
   },
   {
    "duration": 30,
    "start_time": "2022-03-03T07:37:06.208Z"
   },
   {
    "duration": 16,
    "start_time": "2022-03-03T07:37:15.274Z"
   },
   {
    "duration": 59,
    "start_time": "2022-03-03T07:40:05.494Z"
   },
   {
    "duration": 71,
    "start_time": "2022-03-03T07:40:35.487Z"
   },
   {
    "duration": 59,
    "start_time": "2022-03-03T07:40:42.601Z"
   },
   {
    "duration": 342,
    "start_time": "2022-03-03T07:43:38.526Z"
   },
   {
    "duration": 12,
    "start_time": "2022-03-03T07:43:46.088Z"
   },
   {
    "duration": 22,
    "start_time": "2022-03-03T07:47:16.580Z"
   },
   {
    "duration": 7,
    "start_time": "2022-03-03T07:47:23.294Z"
   },
   {
    "duration": 17,
    "start_time": "2022-03-03T07:49:43.760Z"
   },
   {
    "duration": 13,
    "start_time": "2022-03-03T07:49:54.324Z"
   },
   {
    "duration": 28,
    "start_time": "2022-03-03T07:50:20.836Z"
   },
   {
    "duration": 19,
    "start_time": "2022-03-03T07:57:32.620Z"
   },
   {
    "duration": 5860,
    "start_time": "2022-03-03T07:57:37.745Z"
   },
   {
    "duration": 26,
    "start_time": "2022-03-03T07:57:59.791Z"
   },
   {
    "duration": 17,
    "start_time": "2022-03-03T07:58:01.932Z"
   },
   {
    "duration": 18,
    "start_time": "2022-03-03T07:59:01.188Z"
   },
   {
    "duration": 9,
    "start_time": "2022-03-03T08:14:33.778Z"
   },
   {
    "duration": 22,
    "start_time": "2022-03-03T08:14:39.929Z"
   },
   {
    "duration": 5588,
    "start_time": "2022-03-03T08:49:35.136Z"
   },
   {
    "duration": 5547,
    "start_time": "2022-03-03T08:49:48.113Z"
   },
   {
    "duration": 12,
    "start_time": "2022-03-03T08:49:55.931Z"
   },
   {
    "duration": 10,
    "start_time": "2022-03-03T08:50:05.565Z"
   },
   {
    "duration": 22,
    "start_time": "2022-03-03T08:50:22.775Z"
   },
   {
    "duration": 68,
    "start_time": "2022-03-03T08:51:40.444Z"
   },
   {
    "duration": 10,
    "start_time": "2022-03-03T08:51:53.737Z"
   },
   {
    "duration": 18,
    "start_time": "2022-03-03T08:52:56.904Z"
   },
   {
    "duration": 13,
    "start_time": "2022-03-03T08:53:04.585Z"
   },
   {
    "duration": 13,
    "start_time": "2022-03-03T08:53:39.650Z"
   },
   {
    "duration": 517,
    "start_time": "2022-03-03T08:55:02.946Z"
   },
   {
    "duration": 64,
    "start_time": "2022-03-03T08:55:03.466Z"
   },
   {
    "duration": 26,
    "start_time": "2022-03-03T08:55:03.533Z"
   },
   {
    "duration": 145,
    "start_time": "2022-03-03T08:55:03.561Z"
   },
   {
    "duration": 49,
    "start_time": "2022-03-03T08:55:03.708Z"
   },
   {
    "duration": 19,
    "start_time": "2022-03-03T08:55:03.759Z"
   },
   {
    "duration": 31,
    "start_time": "2022-03-03T08:55:03.780Z"
   },
   {
    "duration": 11,
    "start_time": "2022-03-03T08:55:03.814Z"
   },
   {
    "duration": 59,
    "start_time": "2022-03-03T08:55:03.853Z"
   },
   {
    "duration": 25,
    "start_time": "2022-03-03T08:55:15.992Z"
   },
   {
    "duration": 450,
    "start_time": "2022-03-03T08:55:26.835Z"
   },
   {
    "duration": 61,
    "start_time": "2022-03-03T08:55:27.288Z"
   },
   {
    "duration": 16,
    "start_time": "2022-03-03T08:55:27.352Z"
   },
   {
    "duration": 134,
    "start_time": "2022-03-03T08:55:27.371Z"
   },
   {
    "duration": 24,
    "start_time": "2022-03-03T08:55:27.508Z"
   },
   {
    "duration": 34,
    "start_time": "2022-03-03T08:55:27.534Z"
   },
   {
    "duration": 29,
    "start_time": "2022-03-03T08:55:27.571Z"
   },
   {
    "duration": 92,
    "start_time": "2022-03-03T08:55:27.603Z"
   },
   {
    "duration": 25,
    "start_time": "2022-03-03T08:55:27.698Z"
   },
   {
    "duration": 45,
    "start_time": "2022-03-03T08:55:27.726Z"
   },
   {
    "duration": 24,
    "start_time": "2022-03-03T08:55:27.773Z"
   },
   {
    "duration": 86,
    "start_time": "2022-03-03T08:55:27.800Z"
   },
   {
    "duration": 16,
    "start_time": "2022-03-03T08:55:27.888Z"
   },
   {
    "duration": 47,
    "start_time": "2022-03-03T08:55:27.906Z"
   },
   {
    "duration": 9,
    "start_time": "2022-03-03T08:55:27.956Z"
   },
   {
    "duration": 14,
    "start_time": "2022-03-03T08:55:27.967Z"
   },
   {
    "duration": 10,
    "start_time": "2022-03-03T08:55:29.840Z"
   },
   {
    "duration": 16,
    "start_time": "2022-03-03T08:58:38.801Z"
   },
   {
    "duration": 392,
    "start_time": "2022-03-03T09:00:04.308Z"
   },
   {
    "duration": 12,
    "start_time": "2022-03-03T09:00:15.576Z"
   },
   {
    "duration": 20,
    "start_time": "2022-03-03T09:00:56.443Z"
   },
   {
    "duration": 10,
    "start_time": "2022-03-03T09:01:10.236Z"
   },
   {
    "duration": 461,
    "start_time": "2022-03-03T09:03:38.123Z"
   },
   {
    "duration": 17,
    "start_time": "2022-03-03T09:03:41.133Z"
   },
   {
    "duration": 405,
    "start_time": "2022-03-03T09:04:30.908Z"
   },
   {
    "duration": 13,
    "start_time": "2022-03-03T09:04:32.000Z"
   },
   {
    "duration": 856,
    "start_time": "2022-03-03T09:05:02.662Z"
   },
   {
    "duration": 391,
    "start_time": "2022-03-03T09:05:52.396Z"
   },
   {
    "duration": 14,
    "start_time": "2022-03-03T09:05:53.744Z"
   },
   {
    "duration": 12,
    "start_time": "2022-03-03T09:06:09.478Z"
   },
   {
    "duration": 5966,
    "start_time": "2022-03-03T09:06:54.733Z"
   },
   {
    "duration": 31,
    "start_time": "2022-03-03T09:07:39.965Z"
   },
   {
    "duration": 20,
    "start_time": "2022-03-03T09:07:51.416Z"
   },
   {
    "duration": 461,
    "start_time": "2022-03-03T09:09:12.254Z"
   },
   {
    "duration": 61,
    "start_time": "2022-03-03T09:09:12.718Z"
   },
   {
    "duration": 17,
    "start_time": "2022-03-03T09:09:12.782Z"
   },
   {
    "duration": 131,
    "start_time": "2022-03-03T09:09:12.802Z"
   },
   {
    "duration": 30,
    "start_time": "2022-03-03T09:09:12.935Z"
   },
   {
    "duration": 19,
    "start_time": "2022-03-03T09:09:12.967Z"
   },
   {
    "duration": 29,
    "start_time": "2022-03-03T09:09:12.988Z"
   },
   {
    "duration": 80,
    "start_time": "2022-03-03T09:09:13.019Z"
   },
   {
    "duration": 25,
    "start_time": "2022-03-03T09:09:13.102Z"
   },
   {
    "duration": 35,
    "start_time": "2022-03-03T09:09:13.150Z"
   },
   {
    "duration": 25,
    "start_time": "2022-03-03T09:09:13.187Z"
   },
   {
    "duration": 87,
    "start_time": "2022-03-03T09:09:13.215Z"
   },
   {
    "duration": 17,
    "start_time": "2022-03-03T09:09:13.305Z"
   },
   {
    "duration": 44,
    "start_time": "2022-03-03T09:09:13.324Z"
   },
   {
    "duration": 8,
    "start_time": "2022-03-03T09:09:13.371Z"
   },
   {
    "duration": 10,
    "start_time": "2022-03-03T09:09:13.382Z"
   },
   {
    "duration": 14,
    "start_time": "2022-03-03T09:09:13.394Z"
   },
   {
    "duration": 3,
    "start_time": "2022-03-03T09:09:17.086Z"
   },
   {
    "duration": 31,
    "start_time": "2022-03-03T09:09:48.858Z"
   },
   {
    "duration": 20,
    "start_time": "2022-03-03T09:09:49.767Z"
   },
   {
    "duration": 70,
    "start_time": "2022-03-03T09:16:38.974Z"
   },
   {
    "duration": 601,
    "start_time": "2022-03-03T09:17:23.386Z"
   },
   {
    "duration": 64,
    "start_time": "2022-03-03T09:17:23.990Z"
   },
   {
    "duration": 18,
    "start_time": "2022-03-03T09:17:24.058Z"
   },
   {
    "duration": 154,
    "start_time": "2022-03-03T09:17:24.080Z"
   },
   {
    "duration": 43,
    "start_time": "2022-03-03T09:17:24.236Z"
   },
   {
    "duration": 20,
    "start_time": "2022-03-03T09:17:24.282Z"
   },
   {
    "duration": 68,
    "start_time": "2022-03-03T09:17:24.304Z"
   },
   {
    "duration": 59,
    "start_time": "2022-03-03T09:17:24.375Z"
   },
   {
    "duration": 28,
    "start_time": "2022-03-03T09:17:24.454Z"
   },
   {
    "duration": 29,
    "start_time": "2022-03-03T09:17:24.484Z"
   },
   {
    "duration": 61,
    "start_time": "2022-03-03T09:17:24.516Z"
   },
   {
    "duration": 56,
    "start_time": "2022-03-03T09:17:24.580Z"
   },
   {
    "duration": 19,
    "start_time": "2022-03-03T09:17:24.652Z"
   },
   {
    "duration": 26,
    "start_time": "2022-03-03T09:17:24.674Z"
   },
   {
    "duration": 8,
    "start_time": "2022-03-03T09:17:24.702Z"
   },
   {
    "duration": 27,
    "start_time": "2022-03-03T09:17:24.756Z"
   },
   {
    "duration": 16,
    "start_time": "2022-03-03T09:17:24.785Z"
   },
   {
    "duration": 62,
    "start_time": "2022-03-03T09:17:24.804Z"
   },
   {
    "duration": 19,
    "start_time": "2022-03-03T09:17:24.869Z"
   },
   {
    "duration": 48,
    "start_time": "2022-03-03T09:17:26.928Z"
   },
   {
    "duration": 6198,
    "start_time": "2022-03-03T09:19:17.678Z"
   },
   {
    "duration": 9557,
    "start_time": "2022-03-03T09:19:31.855Z"
   },
   {
    "duration": 513,
    "start_time": "2022-03-03T09:19:53.018Z"
   },
   {
    "duration": 8427,
    "start_time": "2022-03-03T09:20:00.893Z"
   },
   {
    "duration": 7905,
    "start_time": "2022-03-03T09:20:20.128Z"
   },
   {
    "duration": 267,
    "start_time": "2022-03-03T09:20:32.482Z"
   },
   {
    "duration": 415,
    "start_time": "2022-03-03T09:23:10.136Z"
   },
   {
    "duration": 339,
    "start_time": "2022-03-03T09:23:26.185Z"
   },
   {
    "duration": 307,
    "start_time": "2022-03-03T09:23:30.795Z"
   },
   {
    "duration": 519,
    "start_time": "2022-03-03T09:23:41.532Z"
   },
   {
    "duration": 8498,
    "start_time": "2022-03-03T09:25:15.958Z"
   },
   {
    "duration": 8360,
    "start_time": "2022-03-03T09:25:43.577Z"
   },
   {
    "duration": 8716,
    "start_time": "2022-03-03T09:26:25.643Z"
   },
   {
    "duration": 72,
    "start_time": "2022-03-03T09:30:07.036Z"
   },
   {
    "duration": 53,
    "start_time": "2022-03-03T09:33:03.115Z"
   },
   {
    "duration": 48,
    "start_time": "2022-03-03T09:36:50.205Z"
   },
   {
    "duration": 5564,
    "start_time": "2022-03-03T09:40:38.151Z"
   },
   {
    "duration": 32,
    "start_time": "2022-03-03T09:40:49.388Z"
   },
   {
    "duration": 51,
    "start_time": "2022-03-03T09:42:28.250Z"
   },
   {
    "duration": 44,
    "start_time": "2022-03-03T09:42:45.267Z"
   },
   {
    "duration": 36,
    "start_time": "2022-03-03T09:44:26.719Z"
   },
   {
    "duration": 39,
    "start_time": "2022-03-03T09:45:08.161Z"
   },
   {
    "duration": 5,
    "start_time": "2022-03-03T09:53:19.803Z"
   },
   {
    "duration": 21,
    "start_time": "2022-03-03T09:53:25.946Z"
   },
   {
    "duration": 226,
    "start_time": "2022-03-03T09:54:09.022Z"
   },
   {
    "duration": 12,
    "start_time": "2022-03-03T09:55:32.624Z"
   },
   {
    "duration": 24,
    "start_time": "2022-03-03T09:55:33.924Z"
   },
   {
    "duration": 48,
    "start_time": "2022-03-03T09:57:09.020Z"
   },
   {
    "duration": 28,
    "start_time": "2022-03-03T09:58:21.952Z"
   },
   {
    "duration": 50,
    "start_time": "2022-03-03T09:58:36.026Z"
   },
   {
    "duration": 15,
    "start_time": "2022-03-03T09:59:32.351Z"
   },
   {
    "duration": 24,
    "start_time": "2022-03-03T09:59:35.665Z"
   },
   {
    "duration": 38,
    "start_time": "2022-03-03T10:14:25.242Z"
   },
   {
    "duration": 21,
    "start_time": "2022-03-03T10:14:26.277Z"
   },
   {
    "duration": 49,
    "start_time": "2022-03-03T10:22:07.454Z"
   },
   {
    "duration": 22,
    "start_time": "2022-03-03T10:22:08.828Z"
   },
   {
    "duration": 30,
    "start_time": "2022-03-03T10:22:56.303Z"
   },
   {
    "duration": 21,
    "start_time": "2022-03-03T10:22:58.524Z"
   },
   {
    "duration": 474,
    "start_time": "2022-03-03T10:23:06.521Z"
   },
   {
    "duration": 101,
    "start_time": "2022-03-03T10:23:06.998Z"
   },
   {
    "duration": 23,
    "start_time": "2022-03-03T10:23:07.103Z"
   },
   {
    "duration": 132,
    "start_time": "2022-03-03T10:23:07.130Z"
   },
   {
    "duration": 22,
    "start_time": "2022-03-03T10:23:07.265Z"
   },
   {
    "duration": 19,
    "start_time": "2022-03-03T10:23:07.290Z"
   },
   {
    "duration": 65,
    "start_time": "2022-03-03T10:23:07.312Z"
   },
   {
    "duration": 82,
    "start_time": "2022-03-03T10:23:07.380Z"
   },
   {
    "duration": 24,
    "start_time": "2022-03-03T10:23:07.468Z"
   },
   {
    "duration": 26,
    "start_time": "2022-03-03T10:23:07.495Z"
   },
   {
    "duration": 23,
    "start_time": "2022-03-03T10:23:07.552Z"
   },
   {
    "duration": 74,
    "start_time": "2022-03-03T10:23:07.577Z"
   },
   {
    "duration": 16,
    "start_time": "2022-03-03T10:23:07.654Z"
   },
   {
    "duration": 24,
    "start_time": "2022-03-03T10:23:07.672Z"
   },
   {
    "duration": 10,
    "start_time": "2022-03-03T10:23:07.699Z"
   },
   {
    "duration": 48,
    "start_time": "2022-03-03T10:23:07.711Z"
   },
   {
    "duration": 11,
    "start_time": "2022-03-03T10:23:07.761Z"
   },
   {
    "duration": 34,
    "start_time": "2022-03-03T10:23:07.775Z"
   },
   {
    "duration": 54,
    "start_time": "2022-03-03T10:23:07.812Z"
   },
   {
    "duration": 43,
    "start_time": "2022-03-03T10:23:07.869Z"
   },
   {
    "duration": 70,
    "start_time": "2022-03-03T10:23:07.915Z"
   },
   {
    "duration": 31,
    "start_time": "2022-03-03T10:23:07.988Z"
   },
   {
    "duration": 69,
    "start_time": "2022-03-03T10:23:08.021Z"
   },
   {
    "duration": 33,
    "start_time": "2022-03-03T10:23:08.092Z"
   },
   {
    "duration": 56,
    "start_time": "2022-03-03T10:23:08.128Z"
   },
   {
    "duration": 18,
    "start_time": "2022-03-03T10:23:08.186Z"
   },
   {
    "duration": 47,
    "start_time": "2022-03-03T10:23:08.208Z"
   },
   {
    "duration": 250,
    "start_time": "2022-03-03T10:23:26.732Z"
   },
   {
    "duration": 307,
    "start_time": "2022-03-03T10:25:01.120Z"
   },
   {
    "duration": 287,
    "start_time": "2022-03-03T10:25:14.283Z"
   },
   {
    "duration": 271,
    "start_time": "2022-03-03T10:25:40.060Z"
   },
   {
    "duration": 257,
    "start_time": "2022-03-03T10:26:25.941Z"
   },
   {
    "duration": 358,
    "start_time": "2022-03-03T10:28:14.719Z"
   },
   {
    "duration": 239,
    "start_time": "2022-03-03T10:29:09.521Z"
   },
   {
    "duration": 222,
    "start_time": "2022-03-03T10:35:40.223Z"
   },
   {
    "duration": 274,
    "start_time": "2022-03-03T10:36:15.186Z"
   },
   {
    "duration": 21,
    "start_time": "2022-03-03T10:36:55.398Z"
   },
   {
    "duration": 7,
    "start_time": "2022-03-03T10:36:58.134Z"
   },
   {
    "duration": 11,
    "start_time": "2022-03-03T10:37:17.989Z"
   },
   {
    "duration": 25,
    "start_time": "2022-03-03T10:37:20.539Z"
   },
   {
    "duration": 20,
    "start_time": "2022-03-03T10:37:34.350Z"
   },
   {
    "duration": 7,
    "start_time": "2022-03-03T10:37:35.543Z"
   },
   {
    "duration": 20,
    "start_time": "2022-03-03T10:37:51.213Z"
   },
   {
    "duration": 7,
    "start_time": "2022-03-03T10:37:53.090Z"
   },
   {
    "duration": 20,
    "start_time": "2022-03-03T10:37:59.688Z"
   },
   {
    "duration": 7,
    "start_time": "2022-03-03T10:38:00.785Z"
   },
   {
    "duration": 21,
    "start_time": "2022-03-03T10:38:05.090Z"
   },
   {
    "duration": 7,
    "start_time": "2022-03-03T10:38:06.719Z"
   },
   {
    "duration": 12,
    "start_time": "2022-03-03T10:39:01.582Z"
   },
   {
    "duration": 24,
    "start_time": "2022-03-03T10:39:02.287Z"
   },
   {
    "duration": 452,
    "start_time": "2022-03-03T10:42:10.001Z"
   },
   {
    "duration": 65,
    "start_time": "2022-03-03T10:42:10.456Z"
   },
   {
    "duration": 32,
    "start_time": "2022-03-03T10:42:10.524Z"
   },
   {
    "duration": 152,
    "start_time": "2022-03-03T10:42:10.559Z"
   },
   {
    "duration": 23,
    "start_time": "2022-03-03T10:42:10.713Z"
   },
   {
    "duration": 20,
    "start_time": "2022-03-03T10:42:10.751Z"
   },
   {
    "duration": 38,
    "start_time": "2022-03-03T10:42:10.773Z"
   },
   {
    "duration": 85,
    "start_time": "2022-03-03T10:42:10.814Z"
   },
   {
    "duration": 23,
    "start_time": "2022-03-03T10:42:10.902Z"
   },
   {
    "duration": 44,
    "start_time": "2022-03-03T10:42:10.927Z"
   },
   {
    "duration": 25,
    "start_time": "2022-03-03T10:42:10.974Z"
   },
   {
    "duration": 83,
    "start_time": "2022-03-03T10:42:11.001Z"
   },
   {
    "duration": 15,
    "start_time": "2022-03-03T10:42:11.086Z"
   },
   {
    "duration": 47,
    "start_time": "2022-03-03T10:42:11.104Z"
   },
   {
    "duration": 11,
    "start_time": "2022-03-03T10:42:11.154Z"
   },
   {
    "duration": 13,
    "start_time": "2022-03-03T10:42:11.168Z"
   },
   {
    "duration": 12,
    "start_time": "2022-03-03T10:42:11.184Z"
   },
   {
    "duration": 73,
    "start_time": "2022-03-03T10:42:11.199Z"
   },
   {
    "duration": 19,
    "start_time": "2022-03-03T10:42:11.274Z"
   },
   {
    "duration": 291,
    "start_time": "2022-03-03T10:42:11.295Z"
   },
   {
    "duration": -1255,
    "start_time": "2022-03-03T10:42:12.844Z"
   },
   {
    "duration": -1258,
    "start_time": "2022-03-03T10:42:12.848Z"
   },
   {
    "duration": -1259,
    "start_time": "2022-03-03T10:42:12.851Z"
   },
   {
    "duration": -1260,
    "start_time": "2022-03-03T10:42:12.853Z"
   },
   {
    "duration": -1260,
    "start_time": "2022-03-03T10:42:12.854Z"
   },
   {
    "duration": -1263,
    "start_time": "2022-03-03T10:42:12.859Z"
   },
   {
    "duration": -1263,
    "start_time": "2022-03-03T10:42:12.860Z"
   },
   {
    "duration": 462,
    "start_time": "2022-03-03T10:42:23.505Z"
   },
   {
    "duration": 69,
    "start_time": "2022-03-03T10:42:23.970Z"
   },
   {
    "duration": 20,
    "start_time": "2022-03-03T10:42:24.043Z"
   },
   {
    "duration": 153,
    "start_time": "2022-03-03T10:42:24.066Z"
   },
   {
    "duration": 37,
    "start_time": "2022-03-03T10:42:24.221Z"
   },
   {
    "duration": 20,
    "start_time": "2022-03-03T10:42:24.260Z"
   },
   {
    "duration": 32,
    "start_time": "2022-03-03T10:42:24.283Z"
   },
   {
    "duration": 90,
    "start_time": "2022-03-03T10:42:24.318Z"
   },
   {
    "duration": 47,
    "start_time": "2022-03-03T10:42:24.413Z"
   },
   {
    "duration": 31,
    "start_time": "2022-03-03T10:42:24.465Z"
   },
   {
    "duration": 60,
    "start_time": "2022-03-03T10:42:24.499Z"
   },
   {
    "duration": 58,
    "start_time": "2022-03-03T10:42:24.561Z"
   },
   {
    "duration": 37,
    "start_time": "2022-03-03T10:42:24.623Z"
   },
   {
    "duration": 29,
    "start_time": "2022-03-03T10:42:24.663Z"
   },
   {
    "duration": 9,
    "start_time": "2022-03-03T10:42:24.694Z"
   },
   {
    "duration": 45,
    "start_time": "2022-03-03T10:42:24.706Z"
   },
   {
    "duration": 11,
    "start_time": "2022-03-03T10:42:24.754Z"
   },
   {
    "duration": 41,
    "start_time": "2022-03-03T10:42:24.768Z"
   },
   {
    "duration": 49,
    "start_time": "2022-03-03T10:42:24.811Z"
   },
   {
    "duration": 52,
    "start_time": "2022-03-03T10:42:24.862Z"
   },
   {
    "duration": 57,
    "start_time": "2022-03-03T10:42:24.916Z"
   },
   {
    "duration": 34,
    "start_time": "2022-03-03T10:42:24.975Z"
   },
   {
    "duration": 68,
    "start_time": "2022-03-03T10:42:25.011Z"
   },
   {
    "duration": 35,
    "start_time": "2022-03-03T10:42:25.082Z"
   },
   {
    "duration": 56,
    "start_time": "2022-03-03T10:42:25.119Z"
   },
   {
    "duration": 16,
    "start_time": "2022-03-03T10:42:25.178Z"
   },
   {
    "duration": 51,
    "start_time": "2022-03-03T10:42:25.200Z"
   },
   {
    "duration": 54,
    "start_time": "2022-03-03T10:44:58.831Z"
   },
   {
    "duration": 12,
    "start_time": "2022-03-03T10:45:06.152Z"
   },
   {
    "duration": 24,
    "start_time": "2022-03-03T10:45:08.825Z"
   },
   {
    "duration": 22,
    "start_time": "2022-03-03T10:47:07.810Z"
   },
   {
    "duration": 6,
    "start_time": "2022-03-03T10:47:08.619Z"
   },
   {
    "duration": 12,
    "start_time": "2022-03-03T10:47:13.953Z"
   },
   {
    "duration": 23,
    "start_time": "2022-03-03T10:47:14.582Z"
   },
   {
    "duration": 12,
    "start_time": "2022-03-03T10:59:03.052Z"
   },
   {
    "duration": 435,
    "start_time": "2022-03-03T11:20:13.033Z"
   },
   {
    "duration": 67,
    "start_time": "2022-03-03T11:20:13.470Z"
   },
   {
    "duration": 21,
    "start_time": "2022-03-03T11:20:13.541Z"
   },
   {
    "duration": 126,
    "start_time": "2022-03-03T11:20:13.565Z"
   },
   {
    "duration": 26,
    "start_time": "2022-03-03T11:20:13.693Z"
   },
   {
    "duration": 38,
    "start_time": "2022-03-03T11:20:13.722Z"
   },
   {
    "duration": 34,
    "start_time": "2022-03-03T11:20:13.763Z"
   },
   {
    "duration": 92,
    "start_time": "2022-03-03T11:20:13.799Z"
   },
   {
    "duration": 26,
    "start_time": "2022-03-03T11:20:13.896Z"
   },
   {
    "duration": 44,
    "start_time": "2022-03-03T11:20:13.925Z"
   },
   {
    "duration": 24,
    "start_time": "2022-03-03T11:20:13.971Z"
   },
   {
    "duration": 88,
    "start_time": "2022-03-03T11:20:13.998Z"
   },
   {
    "duration": 16,
    "start_time": "2022-03-03T11:20:14.088Z"
   },
   {
    "duration": 48,
    "start_time": "2022-03-03T11:20:14.106Z"
   },
   {
    "duration": 9,
    "start_time": "2022-03-03T11:20:14.156Z"
   },
   {
    "duration": 13,
    "start_time": "2022-03-03T11:20:14.167Z"
   },
   {
    "duration": 11,
    "start_time": "2022-03-03T11:20:14.183Z"
   },
   {
    "duration": 70,
    "start_time": "2022-03-03T11:20:14.196Z"
   },
   {
    "duration": 19,
    "start_time": "2022-03-03T11:20:14.268Z"
   },
   {
    "duration": 83,
    "start_time": "2022-03-03T11:20:14.290Z"
   },
   {
    "duration": 40,
    "start_time": "2022-03-03T11:20:14.375Z"
   },
   {
    "duration": 54,
    "start_time": "2022-03-03T11:20:14.417Z"
   },
   {
    "duration": 45,
    "start_time": "2022-03-03T11:20:14.473Z"
   },
   {
    "duration": 55,
    "start_time": "2022-03-03T11:20:14.520Z"
   },
   {
    "duration": 34,
    "start_time": "2022-03-03T11:20:14.577Z"
   },
   {
    "duration": 38,
    "start_time": "2022-03-03T11:20:14.614Z"
   },
   {
    "duration": 26,
    "start_time": "2022-03-03T11:20:16.994Z"
   },
   {
    "duration": 15,
    "start_time": "2022-03-03T11:21:17.832Z"
   },
   {
    "duration": 13,
    "start_time": "2022-03-03T11:22:26.450Z"
   },
   {
    "duration": 7,
    "start_time": "2022-03-03T11:22:37.081Z"
   },
   {
    "duration": 6,
    "start_time": "2022-03-03T11:23:39.735Z"
   },
   {
    "duration": 23,
    "start_time": "2022-03-03T11:28:27.556Z"
   },
   {
    "duration": 1453,
    "start_time": "2022-03-03T13:47:31.577Z"
   },
   {
    "duration": 53,
    "start_time": "2022-03-03T13:47:33.031Z"
   },
   {
    "duration": 14,
    "start_time": "2022-03-03T13:47:33.086Z"
   },
   {
    "duration": 119,
    "start_time": "2022-03-03T13:47:33.102Z"
   },
   {
    "duration": 17,
    "start_time": "2022-03-03T13:47:33.223Z"
   },
   {
    "duration": 31,
    "start_time": "2022-03-03T13:47:33.241Z"
   },
   {
    "duration": 25,
    "start_time": "2022-03-03T13:47:33.274Z"
   },
   {
    "duration": 58,
    "start_time": "2022-03-03T13:47:33.301Z"
   },
   {
    "duration": 20,
    "start_time": "2022-03-03T13:47:33.362Z"
   },
   {
    "duration": 20,
    "start_time": "2022-03-03T13:47:33.384Z"
   },
   {
    "duration": 17,
    "start_time": "2022-03-03T13:47:33.406Z"
   },
   {
    "duration": 68,
    "start_time": "2022-03-03T13:47:33.425Z"
   },
   {
    "duration": 11,
    "start_time": "2022-03-03T13:47:33.495Z"
   },
   {
    "duration": 19,
    "start_time": "2022-03-03T13:47:33.507Z"
   },
   {
    "duration": 33,
    "start_time": "2022-03-03T13:47:33.528Z"
   },
   {
    "duration": 10,
    "start_time": "2022-03-03T13:47:33.563Z"
   },
   {
    "duration": 9,
    "start_time": "2022-03-03T13:47:33.575Z"
   },
   {
    "duration": 24,
    "start_time": "2022-03-03T13:47:33.586Z"
   },
   {
    "duration": 13,
    "start_time": "2022-03-03T13:47:33.611Z"
   },
   {
    "duration": 76,
    "start_time": "2022-03-03T13:47:33.626Z"
   },
   {
    "duration": 33,
    "start_time": "2022-03-03T13:47:33.703Z"
   },
   {
    "duration": 40,
    "start_time": "2022-03-03T13:47:33.737Z"
   },
   {
    "duration": 32,
    "start_time": "2022-03-03T13:47:33.780Z"
   },
   {
    "duration": 46,
    "start_time": "2022-03-03T13:47:33.814Z"
   },
   {
    "duration": 28,
    "start_time": "2022-03-03T13:47:33.862Z"
   },
   {
    "duration": 4,
    "start_time": "2022-03-03T13:47:33.892Z"
   },
   {
    "duration": 29,
    "start_time": "2022-03-03T13:47:33.897Z"
   },
   {
    "duration": 39,
    "start_time": "2022-03-03T13:47:33.928Z"
   },
   {
    "duration": 5,
    "start_time": "2022-03-03T13:47:33.969Z"
   },
   {
    "duration": 10,
    "start_time": "2022-03-03T13:47:33.976Z"
   },
   {
    "duration": 10,
    "start_time": "2022-03-03T13:47:48.792Z"
   },
   {
    "duration": 16,
    "start_time": "2022-03-03T13:47:50.189Z"
   },
   {
    "duration": 5,
    "start_time": "2022-03-03T13:47:52.306Z"
   },
   {
    "duration": 369,
    "start_time": "2022-03-04T07:25:49.774Z"
   },
   {
    "duration": 1867,
    "start_time": "2022-03-04T07:26:02.061Z"
   },
   {
    "duration": 71,
    "start_time": "2022-03-04T07:26:03.930Z"
   },
   {
    "duration": 30,
    "start_time": "2022-03-04T07:26:04.004Z"
   },
   {
    "duration": 139,
    "start_time": "2022-03-04T07:26:04.037Z"
   },
   {
    "duration": 24,
    "start_time": "2022-03-04T07:26:04.178Z"
   },
   {
    "duration": 43,
    "start_time": "2022-03-04T07:26:04.205Z"
   },
   {
    "duration": 33,
    "start_time": "2022-03-04T07:26:04.250Z"
   },
   {
    "duration": 80,
    "start_time": "2022-03-04T07:26:04.285Z"
   },
   {
    "duration": 24,
    "start_time": "2022-03-04T07:26:04.369Z"
   },
   {
    "duration": 51,
    "start_time": "2022-03-04T07:26:04.396Z"
   },
   {
    "duration": 24,
    "start_time": "2022-03-04T07:26:04.449Z"
   },
   {
    "duration": 88,
    "start_time": "2022-03-04T07:26:04.476Z"
   },
   {
    "duration": 16,
    "start_time": "2022-03-04T07:26:04.566Z"
   },
   {
    "duration": 50,
    "start_time": "2022-03-04T07:26:04.584Z"
   },
   {
    "duration": 8,
    "start_time": "2022-03-04T07:26:04.636Z"
   },
   {
    "duration": 12,
    "start_time": "2022-03-04T07:26:04.646Z"
   },
   {
    "duration": 10,
    "start_time": "2022-03-04T07:26:04.660Z"
   },
   {
    "duration": 64,
    "start_time": "2022-03-04T07:26:04.672Z"
   },
   {
    "duration": 20,
    "start_time": "2022-03-04T07:26:07.065Z"
   },
   {
    "duration": 19,
    "start_time": "2022-03-04T07:26:08.632Z"
   },
   {
    "duration": 36,
    "start_time": "2022-03-04T07:29:27.692Z"
   },
   {
    "duration": 33,
    "start_time": "2022-03-04T07:29:39.210Z"
   },
   {
    "duration": 25,
    "start_time": "2022-03-04T07:30:22.627Z"
   },
   {
    "duration": 10,
    "start_time": "2022-03-04T07:30:25.063Z"
   },
   {
    "duration": 4,
    "start_time": "2022-03-04T07:32:10.718Z"
   },
   {
    "duration": 10,
    "start_time": "2022-03-04T07:32:11.788Z"
   },
   {
    "duration": 390,
    "start_time": "2022-03-04T07:32:23.578Z"
   },
   {
    "duration": 529,
    "start_time": "2022-03-04T07:32:35.548Z"
   },
   {
    "duration": 68,
    "start_time": "2022-03-04T07:32:36.080Z"
   },
   {
    "duration": 18,
    "start_time": "2022-03-04T07:32:36.152Z"
   },
   {
    "duration": 169,
    "start_time": "2022-03-04T07:32:36.173Z"
   },
   {
    "duration": 25,
    "start_time": "2022-03-04T07:32:36.345Z"
   },
   {
    "duration": 20,
    "start_time": "2022-03-04T07:32:36.373Z"
   },
   {
    "duration": 66,
    "start_time": "2022-03-04T07:32:36.395Z"
   },
   {
    "duration": 72,
    "start_time": "2022-03-04T07:32:36.463Z"
   },
   {
    "duration": 24,
    "start_time": "2022-03-04T07:32:36.539Z"
   },
   {
    "duration": 28,
    "start_time": "2022-03-04T07:32:36.565Z"
   },
   {
    "duration": 58,
    "start_time": "2022-03-04T07:32:36.595Z"
   },
   {
    "duration": 82,
    "start_time": "2022-03-04T07:32:36.655Z"
   },
   {
    "duration": 19,
    "start_time": "2022-03-04T07:32:36.740Z"
   },
   {
    "duration": 26,
    "start_time": "2022-03-04T07:32:36.762Z"
   },
   {
    "duration": 9,
    "start_time": "2022-03-04T07:32:36.791Z"
   },
   {
    "duration": 13,
    "start_time": "2022-03-04T07:32:36.833Z"
   },
   {
    "duration": 10,
    "start_time": "2022-03-04T07:32:36.848Z"
   },
   {
    "duration": 40,
    "start_time": "2022-03-04T07:32:36.860Z"
   },
   {
    "duration": 48,
    "start_time": "2022-03-04T07:32:36.902Z"
   },
   {
    "duration": 17,
    "start_time": "2022-03-04T07:32:36.952Z"
   },
   {
    "duration": 4,
    "start_time": "2022-03-04T07:32:45.997Z"
   },
   {
    "duration": 14,
    "start_time": "2022-03-04T07:32:47.440Z"
   },
   {
    "duration": 6,
    "start_time": "2022-03-04T07:32:59.798Z"
   },
   {
    "duration": 386,
    "start_time": "2022-03-04T07:33:11.775Z"
   },
   {
    "duration": 513,
    "start_time": "2022-03-04T07:33:16.403Z"
   },
   {
    "duration": 74,
    "start_time": "2022-03-04T07:33:16.920Z"
   },
   {
    "duration": 16,
    "start_time": "2022-03-04T07:33:16.997Z"
   },
   {
    "duration": 153,
    "start_time": "2022-03-04T07:33:17.017Z"
   },
   {
    "duration": 24,
    "start_time": "2022-03-04T07:33:17.173Z"
   },
   {
    "duration": 44,
    "start_time": "2022-03-04T07:33:17.200Z"
   },
   {
    "duration": 32,
    "start_time": "2022-03-04T07:33:17.247Z"
   },
   {
    "duration": 99,
    "start_time": "2022-03-04T07:33:17.282Z"
   },
   {
    "duration": 25,
    "start_time": "2022-03-04T07:33:17.387Z"
   },
   {
    "duration": 31,
    "start_time": "2022-03-04T07:33:17.434Z"
   },
   {
    "duration": 28,
    "start_time": "2022-03-04T07:33:17.468Z"
   },
   {
    "duration": 86,
    "start_time": "2022-03-04T07:33:17.498Z"
   },
   {
    "duration": 46,
    "start_time": "2022-03-04T07:33:17.587Z"
   },
   {
    "duration": 25,
    "start_time": "2022-03-04T07:33:17.636Z"
   },
   {
    "duration": 8,
    "start_time": "2022-03-04T07:33:17.663Z"
   },
   {
    "duration": 11,
    "start_time": "2022-03-04T07:33:17.673Z"
   },
   {
    "duration": 52,
    "start_time": "2022-03-04T07:33:17.686Z"
   },
   {
    "duration": 36,
    "start_time": "2022-03-04T07:33:17.741Z"
   },
   {
    "duration": 20,
    "start_time": "2022-03-04T07:33:17.779Z"
   },
   {
    "duration": 47,
    "start_time": "2022-03-04T07:33:17.801Z"
   },
   {
    "duration": 4,
    "start_time": "2022-03-04T07:33:19.085Z"
   },
   {
    "duration": 6,
    "start_time": "2022-03-04T07:33:20.239Z"
   },
   {
    "duration": 4,
    "start_time": "2022-03-04T07:33:30.747Z"
   },
   {
    "duration": 510,
    "start_time": "2022-03-04T07:35:34.652Z"
   },
   {
    "duration": 67,
    "start_time": "2022-03-04T07:35:35.165Z"
   },
   {
    "duration": 16,
    "start_time": "2022-03-04T07:35:35.235Z"
   },
   {
    "duration": 146,
    "start_time": "2022-03-04T07:35:35.254Z"
   },
   {
    "duration": 36,
    "start_time": "2022-03-04T07:35:35.403Z"
   },
   {
    "duration": 21,
    "start_time": "2022-03-04T07:35:35.441Z"
   },
   {
    "duration": 34,
    "start_time": "2022-03-04T07:35:35.464Z"
   },
   {
    "duration": 88,
    "start_time": "2022-03-04T07:35:35.502Z"
   },
   {
    "duration": 41,
    "start_time": "2022-03-04T07:35:35.593Z"
   },
   {
    "duration": 29,
    "start_time": "2022-03-04T07:35:35.636Z"
   },
   {
    "duration": 25,
    "start_time": "2022-03-04T07:35:35.668Z"
   },
   {
    "duration": 85,
    "start_time": "2022-03-04T07:35:35.695Z"
   },
   {
    "duration": 17,
    "start_time": "2022-03-04T07:35:35.782Z"
   },
   {
    "duration": 51,
    "start_time": "2022-03-04T07:35:35.802Z"
   },
   {
    "duration": 8,
    "start_time": "2022-03-04T07:35:35.856Z"
   },
   {
    "duration": 11,
    "start_time": "2022-03-04T07:35:35.866Z"
   },
   {
    "duration": 14,
    "start_time": "2022-03-04T07:35:35.879Z"
   },
   {
    "duration": 35,
    "start_time": "2022-03-04T07:35:35.932Z"
   },
   {
    "duration": 18,
    "start_time": "2022-03-04T07:35:35.969Z"
   },
   {
    "duration": 18,
    "start_time": "2022-03-04T07:35:37.775Z"
   },
   {
    "duration": 23,
    "start_time": "2022-03-04T07:36:01.111Z"
   },
   {
    "duration": 13,
    "start_time": "2022-03-04T07:37:17.795Z"
   },
   {
    "duration": 26,
    "start_time": "2022-03-04T07:38:15.596Z"
   },
   {
    "duration": 13,
    "start_time": "2022-03-04T07:38:17.388Z"
   },
   {
    "duration": 16,
    "start_time": "2022-03-04T07:38:39.247Z"
   },
   {
    "duration": 6,
    "start_time": "2022-03-04T07:38:40.630Z"
   },
   {
    "duration": 318,
    "start_time": "2022-03-04T07:38:53.736Z"
   },
   {
    "duration": 502,
    "start_time": "2022-03-04T07:42:17.765Z"
   },
   {
    "duration": 63,
    "start_time": "2022-03-04T07:42:18.269Z"
   },
   {
    "duration": 16,
    "start_time": "2022-03-04T07:42:18.335Z"
   },
   {
    "duration": 140,
    "start_time": "2022-03-04T07:42:18.354Z"
   },
   {
    "duration": 23,
    "start_time": "2022-03-04T07:42:18.496Z"
   },
   {
    "duration": 20,
    "start_time": "2022-03-04T07:42:18.534Z"
   },
   {
    "duration": 45,
    "start_time": "2022-03-04T07:42:18.558Z"
   },
   {
    "duration": 110,
    "start_time": "2022-03-04T07:42:18.606Z"
   },
   {
    "duration": 33,
    "start_time": "2022-03-04T07:42:18.733Z"
   },
   {
    "duration": 67,
    "start_time": "2022-03-04T07:42:18.770Z"
   },
   {
    "duration": 37,
    "start_time": "2022-03-04T07:42:18.840Z"
   },
   {
    "duration": 96,
    "start_time": "2022-03-04T07:42:18.880Z"
   },
   {
    "duration": 22,
    "start_time": "2022-03-04T07:42:18.979Z"
   },
   {
    "duration": 53,
    "start_time": "2022-03-04T07:42:19.004Z"
   },
   {
    "duration": 12,
    "start_time": "2022-03-04T07:42:19.060Z"
   },
   {
    "duration": 13,
    "start_time": "2022-03-04T07:42:19.074Z"
   },
   {
    "duration": 50,
    "start_time": "2022-03-04T07:42:19.090Z"
   },
   {
    "duration": 47,
    "start_time": "2022-03-04T07:42:19.143Z"
   },
   {
    "duration": 47,
    "start_time": "2022-03-04T07:42:19.193Z"
   },
   {
    "duration": 25,
    "start_time": "2022-03-04T07:42:19.243Z"
   },
   {
    "duration": 27,
    "start_time": "2022-03-04T07:42:21.548Z"
   },
   {
    "duration": 703,
    "start_time": "2022-03-04T07:42:36.725Z"
   },
   {
    "duration": 109,
    "start_time": "2022-03-04T07:42:37.432Z"
   },
   {
    "duration": 17,
    "start_time": "2022-03-04T07:42:37.545Z"
   },
   {
    "duration": 139,
    "start_time": "2022-03-04T07:42:37.565Z"
   },
   {
    "duration": 33,
    "start_time": "2022-03-04T07:42:37.706Z"
   },
   {
    "duration": 19,
    "start_time": "2022-03-04T07:42:37.741Z"
   },
   {
    "duration": 33,
    "start_time": "2022-03-04T07:42:37.763Z"
   },
   {
    "duration": 96,
    "start_time": "2022-03-04T07:42:37.799Z"
   },
   {
    "duration": 41,
    "start_time": "2022-03-04T07:42:37.901Z"
   },
   {
    "duration": 28,
    "start_time": "2022-03-04T07:42:37.946Z"
   },
   {
    "duration": 56,
    "start_time": "2022-03-04T07:42:37.976Z"
   },
   {
    "duration": 59,
    "start_time": "2022-03-04T07:42:38.035Z"
   },
   {
    "duration": 38,
    "start_time": "2022-03-04T07:42:38.096Z"
   },
   {
    "duration": 26,
    "start_time": "2022-03-04T07:42:38.136Z"
   },
   {
    "duration": 8,
    "start_time": "2022-03-04T07:42:38.165Z"
   },
   {
    "duration": 10,
    "start_time": "2022-03-04T07:42:38.176Z"
   },
   {
    "duration": 49,
    "start_time": "2022-03-04T07:42:38.188Z"
   },
   {
    "duration": 37,
    "start_time": "2022-03-04T07:42:38.239Z"
   },
   {
    "duration": 18,
    "start_time": "2022-03-04T07:42:38.278Z"
   },
   {
    "duration": 41,
    "start_time": "2022-03-04T07:42:38.298Z"
   },
   {
    "duration": 21,
    "start_time": "2022-03-04T07:42:40.088Z"
   },
   {
    "duration": 15,
    "start_time": "2022-03-04T07:42:41.974Z"
   },
   {
    "duration": 704,
    "start_time": "2022-03-04T07:45:53.923Z"
   },
   {
    "duration": 106,
    "start_time": "2022-03-04T07:45:54.630Z"
   },
   {
    "duration": 21,
    "start_time": "2022-03-04T07:45:54.740Z"
   },
   {
    "duration": 199,
    "start_time": "2022-03-04T07:45:54.764Z"
   },
   {
    "duration": 23,
    "start_time": "2022-03-04T07:45:54.966Z"
   },
   {
    "duration": 44,
    "start_time": "2022-03-04T07:45:54.991Z"
   },
   {
    "duration": 36,
    "start_time": "2022-03-04T07:45:55.037Z"
   },
   {
    "duration": 78,
    "start_time": "2022-03-04T07:45:55.077Z"
   },
   {
    "duration": 24,
    "start_time": "2022-03-04T07:45:55.158Z"
   },
   {
    "duration": 49,
    "start_time": "2022-03-04T07:45:55.184Z"
   },
   {
    "duration": 24,
    "start_time": "2022-03-04T07:45:55.235Z"
   },
   {
    "duration": 82,
    "start_time": "2022-03-04T07:45:55.262Z"
   },
   {
    "duration": 16,
    "start_time": "2022-03-04T07:45:55.347Z"
   },
   {
    "duration": 33,
    "start_time": "2022-03-04T07:45:55.366Z"
   },
   {
    "duration": 11,
    "start_time": "2022-03-04T07:45:55.433Z"
   },
   {
    "duration": 13,
    "start_time": "2022-03-04T07:45:55.447Z"
   },
   {
    "duration": 13,
    "start_time": "2022-03-04T07:45:55.463Z"
   },
   {
    "duration": 86,
    "start_time": "2022-03-04T07:45:55.479Z"
   },
   {
    "duration": 27,
    "start_time": "2022-03-04T07:45:55.568Z"
   },
   {
    "duration": 44,
    "start_time": "2022-03-04T07:45:55.598Z"
   },
   {
    "duration": 24,
    "start_time": "2022-03-04T07:45:57.428Z"
   },
   {
    "duration": 13,
    "start_time": "2022-03-04T07:45:58.589Z"
   },
   {
    "duration": 15,
    "start_time": "2022-03-04T08:02:21.664Z"
   },
   {
    "duration": 504,
    "start_time": "2022-03-04T08:02:53.903Z"
   },
   {
    "duration": 67,
    "start_time": "2022-03-04T08:02:54.410Z"
   },
   {
    "duration": 16,
    "start_time": "2022-03-04T08:02:54.480Z"
   },
   {
    "duration": 160,
    "start_time": "2022-03-04T08:02:54.500Z"
   },
   {
    "duration": 25,
    "start_time": "2022-03-04T08:02:54.663Z"
   },
   {
    "duration": 52,
    "start_time": "2022-03-04T08:02:54.691Z"
   },
   {
    "duration": 32,
    "start_time": "2022-03-04T08:02:54.746Z"
   },
   {
    "duration": 97,
    "start_time": "2022-03-04T08:02:54.781Z"
   },
   {
    "duration": 26,
    "start_time": "2022-03-04T08:02:54.883Z"
   },
   {
    "duration": 47,
    "start_time": "2022-03-04T08:02:54.913Z"
   },
   {
    "duration": 27,
    "start_time": "2022-03-04T08:02:54.964Z"
   },
   {
    "duration": 93,
    "start_time": "2022-03-04T08:02:54.993Z"
   },
   {
    "duration": 18,
    "start_time": "2022-03-04T08:02:55.089Z"
   },
   {
    "duration": 25,
    "start_time": "2022-03-04T08:02:55.133Z"
   },
   {
    "duration": 9,
    "start_time": "2022-03-04T08:02:55.161Z"
   },
   {
    "duration": 12,
    "start_time": "2022-03-04T08:02:55.173Z"
   },
   {
    "duration": 46,
    "start_time": "2022-03-04T08:02:55.187Z"
   },
   {
    "duration": 38,
    "start_time": "2022-03-04T08:02:55.235Z"
   },
   {
    "duration": 20,
    "start_time": "2022-03-04T08:02:55.275Z"
   },
   {
    "duration": 47,
    "start_time": "2022-03-04T08:02:55.297Z"
   },
   {
    "duration": 23,
    "start_time": "2022-03-04T08:02:57.372Z"
   },
   {
    "duration": 13,
    "start_time": "2022-03-04T08:02:58.501Z"
   },
   {
    "duration": 510,
    "start_time": "2022-03-04T08:05:39.732Z"
   },
   {
    "duration": 68,
    "start_time": "2022-03-04T08:05:40.244Z"
   },
   {
    "duration": 24,
    "start_time": "2022-03-04T08:05:40.315Z"
   },
   {
    "duration": 158,
    "start_time": "2022-03-04T08:05:40.342Z"
   },
   {
    "duration": 36,
    "start_time": "2022-03-04T08:05:40.502Z"
   },
   {
    "duration": 18,
    "start_time": "2022-03-04T08:05:40.541Z"
   },
   {
    "duration": 30,
    "start_time": "2022-03-04T08:05:40.562Z"
   },
   {
    "duration": 92,
    "start_time": "2022-03-04T08:05:40.595Z"
   },
   {
    "duration": 24,
    "start_time": "2022-03-04T08:05:40.691Z"
   },
   {
    "duration": 30,
    "start_time": "2022-03-04T08:05:40.734Z"
   },
   {
    "duration": 27,
    "start_time": "2022-03-04T08:05:40.766Z"
   },
   {
    "duration": 95,
    "start_time": "2022-03-04T08:05:40.795Z"
   },
   {
    "duration": 40,
    "start_time": "2022-03-04T08:05:40.892Z"
   },
   {
    "duration": 23,
    "start_time": "2022-03-04T08:05:40.935Z"
   },
   {
    "duration": 9,
    "start_time": "2022-03-04T08:05:40.960Z"
   },
   {
    "duration": 11,
    "start_time": "2022-03-04T08:05:40.971Z"
   },
   {
    "duration": 52,
    "start_time": "2022-03-04T08:05:40.985Z"
   },
   {
    "duration": 35,
    "start_time": "2022-03-04T08:05:41.040Z"
   },
   {
    "duration": 20,
    "start_time": "2022-03-04T08:05:41.077Z"
   },
   {
    "duration": 49,
    "start_time": "2022-03-04T08:05:41.099Z"
   },
   {
    "duration": 368,
    "start_time": "2022-03-04T08:05:42.963Z"
   },
   {
    "duration": 24,
    "start_time": "2022-03-04T08:10:50.658Z"
   },
   {
    "duration": 14,
    "start_time": "2022-03-04T08:10:53.097Z"
   },
   {
    "duration": 520,
    "start_time": "2022-03-04T09:33:02.070Z"
   },
   {
    "duration": 64,
    "start_time": "2022-03-04T09:33:02.593Z"
   },
   {
    "duration": 15,
    "start_time": "2022-03-04T09:33:02.661Z"
   },
   {
    "duration": 163,
    "start_time": "2022-03-04T09:33:02.679Z"
   },
   {
    "duration": 24,
    "start_time": "2022-03-04T09:33:02.844Z"
   },
   {
    "duration": 18,
    "start_time": "2022-03-04T09:33:02.871Z"
   },
   {
    "duration": 65,
    "start_time": "2022-03-04T09:33:02.892Z"
   },
   {
    "duration": 62,
    "start_time": "2022-03-04T09:33:02.959Z"
   },
   {
    "duration": 25,
    "start_time": "2022-03-04T09:33:03.034Z"
   },
   {
    "duration": 28,
    "start_time": "2022-03-04T09:33:03.062Z"
   },
   {
    "duration": 58,
    "start_time": "2022-03-04T09:33:03.092Z"
   },
   {
    "duration": 55,
    "start_time": "2022-03-04T09:33:03.152Z"
   },
   {
    "duration": 33,
    "start_time": "2022-03-04T09:33:03.209Z"
   },
   {
    "duration": 25,
    "start_time": "2022-03-04T09:33:03.244Z"
   },
   {
    "duration": 9,
    "start_time": "2022-03-04T09:33:03.271Z"
   },
   {
    "duration": 12,
    "start_time": "2022-03-04T09:33:03.282Z"
   },
   {
    "duration": 44,
    "start_time": "2022-03-04T09:33:03.296Z"
   },
   {
    "duration": 37,
    "start_time": "2022-03-04T09:33:03.342Z"
   },
   {
    "duration": 19,
    "start_time": "2022-03-04T09:33:03.381Z"
   },
   {
    "duration": 51,
    "start_time": "2022-03-04T09:33:07.512Z"
   },
   {
    "duration": 43,
    "start_time": "2022-03-04T09:33:13.457Z"
   },
   {
    "duration": 35,
    "start_time": "2022-03-04T09:33:16.246Z"
   },
   {
    "duration": 47,
    "start_time": "2022-03-04T09:33:17.990Z"
   },
   {
    "duration": 35,
    "start_time": "2022-03-04T09:33:20.012Z"
   },
   {
    "duration": 36,
    "start_time": "2022-03-04T09:33:21.851Z"
   },
   {
    "duration": 6,
    "start_time": "2022-03-04T09:33:23.692Z"
   },
   {
    "duration": 365,
    "start_time": "2022-03-04T09:33:26.734Z"
   },
   {
    "duration": 384,
    "start_time": "2022-03-04T09:34:05.640Z"
   },
   {
    "duration": 507,
    "start_time": "2022-03-04T09:34:32.295Z"
   },
   {
    "duration": 67,
    "start_time": "2022-03-04T09:34:32.805Z"
   },
   {
    "duration": 18,
    "start_time": "2022-03-04T09:34:32.876Z"
   },
   {
    "duration": 156,
    "start_time": "2022-03-04T09:34:32.897Z"
   },
   {
    "duration": 25,
    "start_time": "2022-03-04T09:34:33.056Z"
   },
   {
    "duration": 53,
    "start_time": "2022-03-04T09:34:33.084Z"
   },
   {
    "duration": 33,
    "start_time": "2022-03-04T09:34:33.140Z"
   },
   {
    "duration": 93,
    "start_time": "2022-03-04T09:34:33.175Z"
   },
   {
    "duration": 24,
    "start_time": "2022-03-04T09:34:33.272Z"
   },
   {
    "duration": 48,
    "start_time": "2022-03-04T09:34:33.299Z"
   },
   {
    "duration": 24,
    "start_time": "2022-03-04T09:34:33.350Z"
   },
   {
    "duration": 85,
    "start_time": "2022-03-04T09:34:33.376Z"
   },
   {
    "duration": 16,
    "start_time": "2022-03-04T09:34:33.463Z"
   },
   {
    "duration": 29,
    "start_time": "2022-03-04T09:34:33.481Z"
   },
   {
    "duration": 9,
    "start_time": "2022-03-04T09:34:33.532Z"
   },
   {
    "duration": 11,
    "start_time": "2022-03-04T09:34:33.543Z"
   },
   {
    "duration": 24,
    "start_time": "2022-03-04T09:34:33.556Z"
   },
   {
    "duration": 60,
    "start_time": "2022-03-04T09:34:33.582Z"
   },
   {
    "duration": 18,
    "start_time": "2022-03-04T09:34:33.644Z"
   },
   {
    "duration": 68,
    "start_time": "2022-03-04T09:34:33.664Z"
   },
   {
    "duration": 3,
    "start_time": "2022-03-04T09:34:33.734Z"
   },
   {
    "duration": 8,
    "start_time": "2022-03-04T09:34:33.739Z"
   },
   {
    "duration": 58,
    "start_time": "2022-03-04T09:34:33.749Z"
   },
   {
    "duration": 42,
    "start_time": "2022-03-04T09:34:33.809Z"
   },
   {
    "duration": 46,
    "start_time": "2022-03-04T09:34:33.853Z"
   },
   {
    "duration": 53,
    "start_time": "2022-03-04T09:34:33.902Z"
   },
   {
    "duration": 35,
    "start_time": "2022-03-04T09:34:33.959Z"
   },
   {
    "duration": 5,
    "start_time": "2022-03-04T09:34:33.996Z"
   },
   {
    "duration": 53,
    "start_time": "2022-03-04T09:35:53.726Z"
   },
   {
    "duration": 39,
    "start_time": "2022-03-04T09:35:56.596Z"
   },
   {
    "duration": 30,
    "start_time": "2022-03-04T09:35:58.496Z"
   },
   {
    "duration": 47,
    "start_time": "2022-03-04T09:36:00.155Z"
   },
   {
    "duration": 35,
    "start_time": "2022-03-04T09:36:01.485Z"
   },
   {
    "duration": 53,
    "start_time": "2022-03-04T09:36:02.860Z"
   },
   {
    "duration": 7,
    "start_time": "2022-03-04T09:36:04.476Z"
   },
   {
    "duration": 18,
    "start_time": "2022-03-04T09:36:05.786Z"
   },
   {
    "duration": 24,
    "start_time": "2022-03-04T09:36:07.209Z"
   },
   {
    "duration": 311,
    "start_time": "2022-03-04T09:56:19.319Z"
   },
   {
    "duration": 46,
    "start_time": "2022-03-04T09:56:26.304Z"
   },
   {
    "duration": 4,
    "start_time": "2022-03-04T10:00:12.573Z"
   },
   {
    "duration": 2377,
    "start_time": "2022-03-04T11:45:48.948Z"
   },
   {
    "duration": 51,
    "start_time": "2022-03-04T11:45:51.327Z"
   },
   {
    "duration": 15,
    "start_time": "2022-03-04T11:45:51.380Z"
   },
   {
    "duration": 128,
    "start_time": "2022-03-04T11:45:51.398Z"
   },
   {
    "duration": 23,
    "start_time": "2022-03-04T11:45:51.528Z"
   },
   {
    "duration": 13,
    "start_time": "2022-03-04T11:45:51.553Z"
   },
   {
    "duration": 29,
    "start_time": "2022-03-04T11:45:51.567Z"
   },
   {
    "duration": 76,
    "start_time": "2022-03-04T11:45:51.598Z"
   },
   {
    "duration": 23,
    "start_time": "2022-03-04T11:45:51.677Z"
   },
   {
    "duration": 45,
    "start_time": "2022-03-04T11:45:51.702Z"
   },
   {
    "duration": 18,
    "start_time": "2022-03-04T11:45:51.749Z"
   },
   {
    "duration": 44,
    "start_time": "2022-03-04T11:45:51.769Z"
   },
   {
    "duration": 32,
    "start_time": "2022-03-04T11:45:51.815Z"
   },
   {
    "duration": 17,
    "start_time": "2022-03-04T11:45:51.849Z"
   },
   {
    "duration": 6,
    "start_time": "2022-03-04T11:45:51.868Z"
   },
   {
    "duration": 18,
    "start_time": "2022-03-04T11:45:51.876Z"
   },
   {
    "duration": 12,
    "start_time": "2022-03-04T11:45:51.895Z"
   },
   {
    "duration": 51,
    "start_time": "2022-03-04T11:45:51.909Z"
   },
   {
    "duration": 13,
    "start_time": "2022-03-04T11:45:51.962Z"
   },
   {
    "duration": 265,
    "start_time": "2022-03-04T11:46:05.675Z"
   },
   {
    "duration": 370,
    "start_time": "2022-03-04T11:46:29.214Z"
   },
   {
    "duration": 47,
    "start_time": "2022-03-04T11:46:29.585Z"
   },
   {
    "duration": 11,
    "start_time": "2022-03-04T11:46:29.634Z"
   },
   {
    "duration": 113,
    "start_time": "2022-03-04T11:46:29.647Z"
   },
   {
    "duration": 17,
    "start_time": "2022-03-04T11:46:29.761Z"
   },
   {
    "duration": 16,
    "start_time": "2022-03-04T11:46:29.780Z"
   },
   {
    "duration": 33,
    "start_time": "2022-03-04T11:46:29.798Z"
   },
   {
    "duration": 46,
    "start_time": "2022-03-04T11:46:29.833Z"
   },
   {
    "duration": 20,
    "start_time": "2022-03-04T11:46:29.883Z"
   },
   {
    "duration": 43,
    "start_time": "2022-03-04T11:46:29.906Z"
   },
   {
    "duration": 19,
    "start_time": "2022-03-04T11:46:29.950Z"
   },
   {
    "duration": 86,
    "start_time": "2022-03-04T11:46:29.970Z"
   },
   {
    "duration": 24,
    "start_time": "2022-03-04T11:46:30.058Z"
   },
   {
    "duration": 35,
    "start_time": "2022-03-04T11:46:30.084Z"
   },
   {
    "duration": 21,
    "start_time": "2022-03-04T11:46:30.121Z"
   },
   {
    "duration": 26,
    "start_time": "2022-03-04T11:46:30.144Z"
   },
   {
    "duration": 23,
    "start_time": "2022-03-04T11:46:30.173Z"
   },
   {
    "duration": 33,
    "start_time": "2022-03-04T11:46:30.198Z"
   },
   {
    "duration": 28,
    "start_time": "2022-03-04T11:46:30.232Z"
   },
   {
    "duration": 18,
    "start_time": "2022-03-04T11:46:32.459Z"
   },
   {
    "duration": 59,
    "start_time": "2022-03-04T11:47:41.257Z"
   },
   {
    "duration": 25,
    "start_time": "2022-03-04T11:47:46.456Z"
   },
   {
    "duration": 6,
    "start_time": "2022-03-04T11:47:47.634Z"
   },
   {
    "duration": 13,
    "start_time": "2022-03-04T11:48:10.473Z"
   },
   {
    "duration": 8,
    "start_time": "2022-03-04T11:48:11.570Z"
   },
   {
    "duration": 193,
    "start_time": "2022-03-04T11:49:25.151Z"
   },
   {
    "duration": 25,
    "start_time": "2022-03-04T11:49:43.985Z"
   },
   {
    "duration": 24,
    "start_time": "2022-03-04T11:49:49.372Z"
   },
   {
    "duration": 8,
    "start_time": "2022-03-04T11:49:50.767Z"
   },
   {
    "duration": 17,
    "start_time": "2022-03-04T11:50:17.423Z"
   },
   {
    "duration": 8,
    "start_time": "2022-03-04T11:50:18.206Z"
   },
   {
    "duration": 14,
    "start_time": "2022-03-04T11:52:10.762Z"
   },
   {
    "duration": 13,
    "start_time": "2022-03-04T11:52:12.577Z"
   },
   {
    "duration": 16,
    "start_time": "2022-03-04T11:52:35.058Z"
   },
   {
    "duration": 13,
    "start_time": "2022-03-04T11:52:42.719Z"
   },
   {
    "duration": 8,
    "start_time": "2022-03-04T11:52:47.227Z"
   },
   {
    "duration": 15,
    "start_time": "2022-03-04T11:55:44.561Z"
   },
   {
    "duration": 8,
    "start_time": "2022-03-04T11:55:48.034Z"
   },
   {
    "duration": 14,
    "start_time": "2022-03-04T11:56:05.218Z"
   },
   {
    "duration": 10,
    "start_time": "2022-03-04T11:56:06.305Z"
   },
   {
    "duration": 16,
    "start_time": "2022-03-04T11:57:21.691Z"
   },
   {
    "duration": 9,
    "start_time": "2022-03-04T11:57:22.628Z"
   },
   {
    "duration": 15,
    "start_time": "2022-03-04T11:59:10.505Z"
   },
   {
    "duration": 9,
    "start_time": "2022-03-04T11:59:12.434Z"
   },
   {
    "duration": 16,
    "start_time": "2022-03-04T12:00:24.761Z"
   },
   {
    "duration": 9,
    "start_time": "2022-03-04T12:00:25.654Z"
   },
   {
    "duration": 16,
    "start_time": "2022-03-04T12:00:35.203Z"
   },
   {
    "duration": 8,
    "start_time": "2022-03-04T12:00:37.411Z"
   },
   {
    "duration": 21,
    "start_time": "2022-03-04T12:00:41.202Z"
   },
   {
    "duration": 184,
    "start_time": "2022-03-04T12:08:52.152Z"
   },
   {
    "duration": 23,
    "start_time": "2022-03-04T12:08:59.020Z"
   },
   {
    "duration": 20,
    "start_time": "2022-03-04T12:09:00.745Z"
   },
   {
    "duration": 24,
    "start_time": "2022-03-04T12:09:16.586Z"
   },
   {
    "duration": 19,
    "start_time": "2022-03-04T12:09:43.585Z"
   },
   {
    "duration": 5,
    "start_time": "2022-03-04T12:09:48.998Z"
   },
   {
    "duration": 7,
    "start_time": "2022-03-04T12:15:25.626Z"
   },
   {
    "duration": 10,
    "start_time": "2022-03-04T12:15:27.664Z"
   },
   {
    "duration": 18,
    "start_time": "2022-03-04T12:17:21.718Z"
   },
   {
    "duration": 15,
    "start_time": "2022-03-04T12:17:23.791Z"
   },
   {
    "duration": 227,
    "start_time": "2022-03-04T12:19:00.879Z"
   },
   {
    "duration": 59,
    "start_time": "2022-03-04T12:19:39.487Z"
   },
   {
    "duration": 239,
    "start_time": "2022-03-04T12:19:42.547Z"
   },
   {
    "duration": 16,
    "start_time": "2022-03-04T12:20:08.777Z"
   },
   {
    "duration": 4,
    "start_time": "2022-03-04T12:20:09.829Z"
   },
   {
    "duration": 17,
    "start_time": "2022-03-04T12:20:35.191Z"
   },
   {
    "duration": 14,
    "start_time": "2022-03-04T12:20:36.123Z"
   },
   {
    "duration": 17,
    "start_time": "2022-03-04T12:21:15.968Z"
   },
   {
    "duration": 13,
    "start_time": "2022-03-04T12:21:16.863Z"
   },
   {
    "duration": 203,
    "start_time": "2022-03-04T12:23:10.909Z"
   },
   {
    "duration": 380,
    "start_time": "2022-03-04T12:23:50.377Z"
   },
   {
    "duration": 48,
    "start_time": "2022-03-04T12:23:50.759Z"
   },
   {
    "duration": 13,
    "start_time": "2022-03-04T12:23:50.809Z"
   },
   {
    "duration": 115,
    "start_time": "2022-03-04T12:23:50.824Z"
   },
   {
    "duration": 17,
    "start_time": "2022-03-04T12:23:50.941Z"
   },
   {
    "duration": 14,
    "start_time": "2022-03-04T12:23:50.960Z"
   },
   {
    "duration": 23,
    "start_time": "2022-03-04T12:23:50.976Z"
   },
   {
    "duration": 71,
    "start_time": "2022-03-04T12:23:51.000Z"
   },
   {
    "duration": 21,
    "start_time": "2022-03-04T12:23:51.074Z"
   },
   {
    "duration": 41,
    "start_time": "2022-03-04T12:23:51.098Z"
   },
   {
    "duration": 18,
    "start_time": "2022-03-04T12:23:51.141Z"
   },
   {
    "duration": 45,
    "start_time": "2022-03-04T12:23:51.161Z"
   },
   {
    "duration": 36,
    "start_time": "2022-03-04T12:23:51.208Z"
   },
   {
    "duration": 18,
    "start_time": "2022-03-04T12:23:51.246Z"
   },
   {
    "duration": 6,
    "start_time": "2022-03-04T12:23:51.266Z"
   },
   {
    "duration": 8,
    "start_time": "2022-03-04T12:23:51.274Z"
   },
   {
    "duration": 7,
    "start_time": "2022-03-04T12:23:51.284Z"
   },
   {
    "duration": 58,
    "start_time": "2022-03-04T12:23:51.293Z"
   },
   {
    "duration": 12,
    "start_time": "2022-03-04T12:23:51.353Z"
   },
   {
    "duration": 13,
    "start_time": "2022-03-04T12:23:51.366Z"
   },
   {
    "duration": 15,
    "start_time": "2022-03-04T12:23:51.381Z"
   },
   {
    "duration": 8,
    "start_time": "2022-03-04T12:23:51.397Z"
   },
   {
    "duration": 50,
    "start_time": "2022-03-04T12:23:51.406Z"
   },
   {
    "duration": 24,
    "start_time": "2022-03-04T12:23:51.458Z"
   },
   {
    "duration": 19,
    "start_time": "2022-03-04T12:23:51.484Z"
   },
   {
    "duration": 51,
    "start_time": "2022-03-04T12:23:51.505Z"
   },
   {
    "duration": 21,
    "start_time": "2022-03-04T12:23:51.560Z"
   },
   {
    "duration": 5,
    "start_time": "2022-03-04T12:23:51.584Z"
   },
   {
    "duration": 210,
    "start_time": "2022-03-04T12:25:24.661Z"
   },
   {
    "duration": 229,
    "start_time": "2022-03-04T12:27:07.567Z"
   },
   {
    "duration": 17,
    "start_time": "2022-03-04T12:27:35.556Z"
   },
   {
    "duration": 12,
    "start_time": "2022-03-04T12:27:37.627Z"
   },
   {
    "duration": 3498,
    "start_time": "2022-03-04T12:30:46.765Z"
   },
   {
    "duration": 193,
    "start_time": "2022-03-04T12:31:21.582Z"
   },
   {
    "duration": 405,
    "start_time": "2022-03-04T12:41:26.064Z"
   },
   {
    "duration": 48,
    "start_time": "2022-03-04T12:41:26.471Z"
   },
   {
    "duration": 11,
    "start_time": "2022-03-04T12:41:26.522Z"
   },
   {
    "duration": 108,
    "start_time": "2022-03-04T12:41:26.536Z"
   },
   {
    "duration": 18,
    "start_time": "2022-03-04T12:41:26.647Z"
   },
   {
    "duration": 14,
    "start_time": "2022-03-04T12:41:26.667Z"
   },
   {
    "duration": 30,
    "start_time": "2022-03-04T12:41:26.683Z"
   },
   {
    "duration": 69,
    "start_time": "2022-03-04T12:41:26.715Z"
   },
   {
    "duration": 22,
    "start_time": "2022-03-04T12:41:26.788Z"
   },
   {
    "duration": 45,
    "start_time": "2022-03-04T12:41:26.813Z"
   },
   {
    "duration": 21,
    "start_time": "2022-03-04T12:41:26.860Z"
   },
   {
    "duration": 70,
    "start_time": "2022-03-04T12:41:26.882Z"
   },
   {
    "duration": 13,
    "start_time": "2022-03-04T12:41:26.954Z"
   },
   {
    "duration": 19,
    "start_time": "2022-03-04T12:41:26.969Z"
   },
   {
    "duration": 6,
    "start_time": "2022-03-04T12:41:26.990Z"
   },
   {
    "duration": 40,
    "start_time": "2022-03-04T12:41:26.998Z"
   },
   {
    "duration": 8,
    "start_time": "2022-03-04T12:41:27.039Z"
   },
   {
    "duration": 28,
    "start_time": "2022-03-04T12:41:27.048Z"
   },
   {
    "duration": 12,
    "start_time": "2022-03-04T12:41:27.078Z"
   },
   {
    "duration": 12,
    "start_time": "2022-03-04T12:41:27.092Z"
   },
   {
    "duration": 44,
    "start_time": "2022-03-04T12:41:27.105Z"
   },
   {
    "duration": 8,
    "start_time": "2022-03-04T12:41:27.151Z"
   },
   {
    "duration": 27,
    "start_time": "2022-03-04T12:41:27.160Z"
   },
   {
    "duration": 24,
    "start_time": "2022-03-04T12:41:27.189Z"
   },
   {
    "duration": 35,
    "start_time": "2022-03-04T12:41:27.215Z"
   },
   {
    "duration": 24,
    "start_time": "2022-03-04T12:41:27.252Z"
   },
   {
    "duration": 19,
    "start_time": "2022-03-04T12:41:27.279Z"
   },
   {
    "duration": 4,
    "start_time": "2022-03-04T12:41:27.299Z"
   },
   {
    "duration": 44,
    "start_time": "2022-03-04T12:41:27.305Z"
   },
   {
    "duration": 12,
    "start_time": "2022-03-04T12:41:27.351Z"
   },
   {
    "duration": 207,
    "start_time": "2022-03-04T12:41:27.365Z"
   },
   {
    "duration": 126,
    "start_time": "2022-03-04T12:51:12.574Z"
   },
   {
    "duration": 121,
    "start_time": "2022-03-04T12:52:27.875Z"
   },
   {
    "duration": 126,
    "start_time": "2022-03-04T12:54:52.139Z"
   },
   {
    "duration": 1901,
    "start_time": "2022-03-05T07:10:15.968Z"
   },
   {
    "duration": 72,
    "start_time": "2022-03-05T07:10:17.872Z"
   },
   {
    "duration": 33,
    "start_time": "2022-03-05T07:10:17.947Z"
   },
   {
    "duration": 155,
    "start_time": "2022-03-05T07:10:17.983Z"
   },
   {
    "duration": 35,
    "start_time": "2022-03-05T07:10:18.141Z"
   },
   {
    "duration": 19,
    "start_time": "2022-03-05T07:10:18.178Z"
   },
   {
    "duration": 35,
    "start_time": "2022-03-05T07:10:18.200Z"
   },
   {
    "duration": 99,
    "start_time": "2022-03-05T07:10:18.239Z"
   },
   {
    "duration": 43,
    "start_time": "2022-03-05T07:10:18.341Z"
   },
   {
    "duration": 30,
    "start_time": "2022-03-05T07:10:18.387Z"
   },
   {
    "duration": 53,
    "start_time": "2022-03-05T07:10:18.420Z"
   },
   {
    "duration": 61,
    "start_time": "2022-03-05T07:10:18.475Z"
   },
   {
    "duration": 35,
    "start_time": "2022-03-05T07:10:18.538Z"
   },
   {
    "duration": 24,
    "start_time": "2022-03-05T07:10:18.575Z"
   },
   {
    "duration": 10,
    "start_time": "2022-03-05T07:10:18.602Z"
   },
   {
    "duration": 14,
    "start_time": "2022-03-05T07:10:18.614Z"
   },
   {
    "duration": 49,
    "start_time": "2022-03-05T07:10:18.631Z"
   },
   {
    "duration": 35,
    "start_time": "2022-03-05T07:10:18.682Z"
   },
   {
    "duration": 19,
    "start_time": "2022-03-05T07:10:18.721Z"
   },
   {
    "duration": 48,
    "start_time": "2022-03-05T07:10:18.742Z"
   },
   {
    "duration": 25,
    "start_time": "2022-03-05T07:10:18.792Z"
   },
   {
    "duration": 14,
    "start_time": "2022-03-05T07:10:18.819Z"
   },
   {
    "duration": 31,
    "start_time": "2022-03-05T07:10:18.873Z"
   },
   {
    "duration": 33,
    "start_time": "2022-03-05T07:10:18.907Z"
   },
   {
    "duration": 50,
    "start_time": "2022-03-05T07:10:18.942Z"
   },
   {
    "duration": 36,
    "start_time": "2022-03-05T07:10:18.995Z"
   },
   {
    "duration": 56,
    "start_time": "2022-03-05T07:10:19.033Z"
   },
   {
    "duration": 6,
    "start_time": "2022-03-05T07:10:19.091Z"
   },
   {
    "duration": 26,
    "start_time": "2022-03-05T07:10:19.099Z"
   },
   {
    "duration": 47,
    "start_time": "2022-03-05T07:10:19.128Z"
   },
   {
    "duration": 315,
    "start_time": "2022-03-05T07:10:19.177Z"
   },
   {
    "duration": 214,
    "start_time": "2022-03-05T07:10:19.494Z"
   },
   {
    "duration": 491,
    "start_time": "2022-03-05T07:34:15.198Z"
   },
   {
    "duration": 65,
    "start_time": "2022-03-05T07:34:15.692Z"
   },
   {
    "duration": 16,
    "start_time": "2022-03-05T07:34:15.760Z"
   },
   {
    "duration": 162,
    "start_time": "2022-03-05T07:34:15.779Z"
   },
   {
    "duration": 37,
    "start_time": "2022-03-05T07:34:15.944Z"
   },
   {
    "duration": 29,
    "start_time": "2022-03-05T07:34:15.984Z"
   },
   {
    "duration": 37,
    "start_time": "2022-03-05T07:34:16.016Z"
   },
   {
    "duration": 79,
    "start_time": "2022-03-05T07:34:16.057Z"
   },
   {
    "duration": 43,
    "start_time": "2022-03-05T07:34:16.139Z"
   },
   {
    "duration": 30,
    "start_time": "2022-03-05T07:34:16.184Z"
   },
   {
    "duration": 26,
    "start_time": "2022-03-05T07:34:16.217Z"
   },
   {
    "duration": 89,
    "start_time": "2022-03-05T07:34:16.246Z"
   },
   {
    "duration": 38,
    "start_time": "2022-03-05T07:34:16.337Z"
   },
   {
    "duration": 26,
    "start_time": "2022-03-05T07:34:16.377Z"
   },
   {
    "duration": 15,
    "start_time": "2022-03-05T07:34:16.406Z"
   },
   {
    "duration": 18,
    "start_time": "2022-03-05T07:34:16.423Z"
   },
   {
    "duration": 34,
    "start_time": "2022-03-05T07:34:16.443Z"
   },
   {
    "duration": 43,
    "start_time": "2022-03-05T07:34:16.479Z"
   },
   {
    "duration": 18,
    "start_time": "2022-03-05T07:34:16.525Z"
   },
   {
    "duration": 42,
    "start_time": "2022-03-05T07:34:16.545Z"
   },
   {
    "duration": 25,
    "start_time": "2022-03-05T07:34:16.589Z"
   },
   {
    "duration": 11,
    "start_time": "2022-03-05T07:34:16.617Z"
   },
   {
    "duration": 58,
    "start_time": "2022-03-05T07:34:16.635Z"
   },
   {
    "duration": 36,
    "start_time": "2022-03-05T07:34:16.696Z"
   },
   {
    "duration": 57,
    "start_time": "2022-03-05T07:34:16.735Z"
   },
   {
    "duration": 37,
    "start_time": "2022-03-05T07:34:16.795Z"
   },
   {
    "duration": 56,
    "start_time": "2022-03-05T07:34:16.835Z"
   },
   {
    "duration": 6,
    "start_time": "2022-03-05T07:34:16.893Z"
   },
   {
    "duration": 37,
    "start_time": "2022-03-05T07:34:16.902Z"
   },
   {
    "duration": 34,
    "start_time": "2022-03-05T07:34:16.941Z"
   },
   {
    "duration": 313,
    "start_time": "2022-03-05T07:34:16.978Z"
   },
   {
    "duration": 219,
    "start_time": "2022-03-05T07:34:17.293Z"
   },
   {
    "duration": 31,
    "start_time": "2022-03-05T07:35:23.215Z"
   },
   {
    "duration": 28,
    "start_time": "2022-03-05T07:35:44.678Z"
   },
   {
    "duration": 4,
    "start_time": "2022-03-05T07:50:29.937Z"
   },
   {
    "duration": 14,
    "start_time": "2022-03-05T07:53:12.433Z"
   },
   {
    "duration": 15,
    "start_time": "2022-03-05T08:04:22.772Z"
   },
   {
    "duration": 33,
    "start_time": "2022-03-05T08:22:06.387Z"
   },
   {
    "duration": 500,
    "start_time": "2022-03-05T08:39:03.050Z"
   },
   {
    "duration": 70,
    "start_time": "2022-03-05T08:39:03.552Z"
   },
   {
    "duration": 16,
    "start_time": "2022-03-05T08:39:03.625Z"
   },
   {
    "duration": 179,
    "start_time": "2022-03-05T08:39:03.644Z"
   },
   {
    "duration": 22,
    "start_time": "2022-03-05T08:39:03.825Z"
   },
   {
    "duration": 42,
    "start_time": "2022-03-05T08:39:03.850Z"
   },
   {
    "duration": 37,
    "start_time": "2022-03-05T08:39:03.895Z"
   },
   {
    "duration": 100,
    "start_time": "2022-03-05T08:39:03.935Z"
   },
   {
    "duration": 49,
    "start_time": "2022-03-05T08:39:04.041Z"
   },
   {
    "duration": 32,
    "start_time": "2022-03-05T08:39:04.093Z"
   },
   {
    "duration": 58,
    "start_time": "2022-03-05T08:39:04.128Z"
   },
   {
    "duration": 87,
    "start_time": "2022-03-05T08:39:04.189Z"
   },
   {
    "duration": 16,
    "start_time": "2022-03-05T08:39:04.279Z"
   },
   {
    "duration": 26,
    "start_time": "2022-03-05T08:39:04.298Z"
   },
   {
    "duration": 9,
    "start_time": "2022-03-05T08:39:04.327Z"
   },
   {
    "duration": 11,
    "start_time": "2022-03-05T08:39:04.374Z"
   },
   {
    "duration": 19,
    "start_time": "2022-03-05T08:39:04.387Z"
   },
   {
    "duration": 66,
    "start_time": "2022-03-05T08:39:04.409Z"
   },
   {
    "duration": 21,
    "start_time": "2022-03-05T08:39:04.478Z"
   },
   {
    "duration": 19,
    "start_time": "2022-03-05T08:39:04.501Z"
   },
   {
    "duration": 53,
    "start_time": "2022-03-05T08:39:04.522Z"
   },
   {
    "duration": 12,
    "start_time": "2022-03-05T08:39:04.578Z"
   },
   {
    "duration": 44,
    "start_time": "2022-03-05T08:39:04.593Z"
   },
   {
    "duration": 52,
    "start_time": "2022-03-05T08:39:04.640Z"
   },
   {
    "duration": 26,
    "start_time": "2022-03-05T08:39:04.694Z"
   },
   {
    "duration": 57,
    "start_time": "2022-03-05T08:39:04.723Z"
   },
   {
    "duration": 27,
    "start_time": "2022-03-05T08:39:04.784Z"
   },
   {
    "duration": 7,
    "start_time": "2022-03-05T08:39:04.814Z"
   },
   {
    "duration": 56,
    "start_time": "2022-03-05T08:39:04.823Z"
   },
   {
    "duration": 19,
    "start_time": "2022-03-05T08:39:04.882Z"
   },
   {
    "duration": 324,
    "start_time": "2022-03-05T08:39:04.903Z"
   },
   {
    "duration": 220,
    "start_time": "2022-03-05T08:39:05.229Z"
   },
   {
    "duration": 91,
    "start_time": "2022-03-05T08:39:11.378Z"
   },
   {
    "duration": 85,
    "start_time": "2022-03-05T08:39:21.144Z"
   },
   {
    "duration": 36,
    "start_time": "2022-03-05T08:39:29.676Z"
   },
   {
    "duration": 475,
    "start_time": "2022-03-05T08:45:39.743Z"
   },
   {
    "duration": 62,
    "start_time": "2022-03-05T08:45:40.220Z"
   },
   {
    "duration": 15,
    "start_time": "2022-03-05T08:45:40.286Z"
   },
   {
    "duration": 147,
    "start_time": "2022-03-05T08:45:40.303Z"
   },
   {
    "duration": 30,
    "start_time": "2022-03-05T08:45:40.453Z"
   },
   {
    "duration": 19,
    "start_time": "2022-03-05T08:45:40.486Z"
   },
   {
    "duration": 33,
    "start_time": "2022-03-05T08:45:40.507Z"
   },
   {
    "duration": 91,
    "start_time": "2022-03-05T08:45:40.543Z"
   },
   {
    "duration": 46,
    "start_time": "2022-03-05T08:45:40.638Z"
   },
   {
    "duration": 29,
    "start_time": "2022-03-05T08:45:40.687Z"
   },
   {
    "duration": 26,
    "start_time": "2022-03-05T08:45:40.719Z"
   },
   {
    "duration": 91,
    "start_time": "2022-03-05T08:45:40.747Z"
   },
   {
    "duration": 34,
    "start_time": "2022-03-05T08:45:40.840Z"
   },
   {
    "duration": 25,
    "start_time": "2022-03-05T08:45:40.876Z"
   },
   {
    "duration": 9,
    "start_time": "2022-03-05T08:45:40.903Z"
   },
   {
    "duration": 19,
    "start_time": "2022-03-05T08:45:40.915Z"
   },
   {
    "duration": 45,
    "start_time": "2022-03-05T08:45:40.936Z"
   },
   {
    "duration": 39,
    "start_time": "2022-03-05T08:45:40.984Z"
   },
   {
    "duration": 19,
    "start_time": "2022-03-05T08:45:41.026Z"
   },
   {
    "duration": 18,
    "start_time": "2022-03-05T08:45:41.074Z"
   },
   {
    "duration": 21,
    "start_time": "2022-03-05T08:45:41.094Z"
   },
   {
    "duration": 12,
    "start_time": "2022-03-05T08:45:41.117Z"
   },
   {
    "duration": 68,
    "start_time": "2022-03-05T08:45:41.132Z"
   },
   {
    "duration": 36,
    "start_time": "2022-03-05T08:45:41.202Z"
   },
   {
    "duration": 51,
    "start_time": "2022-03-05T08:45:41.240Z"
   },
   {
    "duration": 36,
    "start_time": "2022-03-05T08:45:41.293Z"
   },
   {
    "duration": 55,
    "start_time": "2022-03-05T08:45:41.333Z"
   },
   {
    "duration": 6,
    "start_time": "2022-03-05T08:45:41.391Z"
   },
   {
    "duration": 30,
    "start_time": "2022-03-05T08:45:41.399Z"
   },
   {
    "duration": 17,
    "start_time": "2022-03-05T08:45:41.432Z"
   },
   {
    "duration": 330,
    "start_time": "2022-03-05T08:45:41.451Z"
   },
   {
    "duration": 218,
    "start_time": "2022-03-05T08:45:41.784Z"
   },
   {
    "duration": 380,
    "start_time": "2022-03-05T08:45:47.204Z"
   },
   {
    "duration": 34,
    "start_time": "2022-03-05T08:46:21.225Z"
   },
   {
    "duration": 503,
    "start_time": "2022-03-05T08:49:32.946Z"
   },
   {
    "duration": 70,
    "start_time": "2022-03-05T08:49:33.451Z"
   },
   {
    "duration": 17,
    "start_time": "2022-03-05T08:49:33.524Z"
   },
   {
    "duration": 169,
    "start_time": "2022-03-05T08:49:33.543Z"
   },
   {
    "duration": 23,
    "start_time": "2022-03-05T08:49:33.715Z"
   },
   {
    "duration": 45,
    "start_time": "2022-03-05T08:49:33.741Z"
   },
   {
    "duration": 37,
    "start_time": "2022-03-05T08:49:33.788Z"
   },
   {
    "duration": 95,
    "start_time": "2022-03-05T08:49:33.830Z"
   },
   {
    "duration": 45,
    "start_time": "2022-03-05T08:49:33.928Z"
   },
   {
    "duration": 32,
    "start_time": "2022-03-05T08:49:33.976Z"
   },
   {
    "duration": 28,
    "start_time": "2022-03-05T08:49:34.010Z"
   },
   {
    "duration": 97,
    "start_time": "2022-03-05T08:49:34.041Z"
   },
   {
    "duration": 35,
    "start_time": "2022-03-05T08:49:34.140Z"
   },
   {
    "duration": 27,
    "start_time": "2022-03-05T08:49:34.178Z"
   },
   {
    "duration": 9,
    "start_time": "2022-03-05T08:49:34.208Z"
   },
   {
    "duration": 13,
    "start_time": "2022-03-05T08:49:34.220Z"
   },
   {
    "duration": 45,
    "start_time": "2022-03-05T08:49:34.235Z"
   },
   {
    "duration": 37,
    "start_time": "2022-03-05T08:49:34.282Z"
   },
   {
    "duration": 19,
    "start_time": "2022-03-05T08:49:34.321Z"
   },
   {
    "duration": 47,
    "start_time": "2022-03-05T08:49:34.342Z"
   },
   {
    "duration": 21,
    "start_time": "2022-03-05T08:49:34.392Z"
   },
   {
    "duration": 12,
    "start_time": "2022-03-05T08:49:34.415Z"
   },
   {
    "duration": 63,
    "start_time": "2022-03-05T08:49:34.431Z"
   },
   {
    "duration": 51,
    "start_time": "2022-03-05T08:49:34.496Z"
   },
   {
    "duration": 27,
    "start_time": "2022-03-05T08:49:34.574Z"
   },
   {
    "duration": 35,
    "start_time": "2022-03-05T08:49:34.604Z"
   },
   {
    "duration": 52,
    "start_time": "2022-03-05T08:49:34.642Z"
   },
   {
    "duration": 6,
    "start_time": "2022-03-05T08:49:34.696Z"
   },
   {
    "duration": 34,
    "start_time": "2022-03-05T08:49:34.704Z"
   },
   {
    "duration": 35,
    "start_time": "2022-03-05T08:49:34.740Z"
   },
   {
    "duration": 315,
    "start_time": "2022-03-05T08:49:34.777Z"
   },
   {
    "duration": 221,
    "start_time": "2022-03-05T08:49:35.094Z"
   },
   {
    "duration": 12,
    "start_time": "2022-03-05T08:49:39.095Z"
   },
   {
    "duration": 26,
    "start_time": "2022-03-05T08:52:23.187Z"
   },
   {
    "duration": 301,
    "start_time": "2022-03-05T09:00:02.609Z"
   },
   {
    "duration": 716,
    "start_time": "2022-03-05T09:07:39.087Z"
   },
   {
    "duration": 36,
    "start_time": "2022-03-05T09:07:56.650Z"
   },
   {
    "duration": 4,
    "start_time": "2022-03-05T09:08:05.868Z"
   },
   {
    "duration": 21,
    "start_time": "2022-03-05T09:12:09.599Z"
   },
   {
    "duration": 32,
    "start_time": "2022-03-05T09:13:03.541Z"
   },
   {
    "duration": 861,
    "start_time": "2022-03-05T09:14:41.198Z"
   },
   {
    "duration": 499,
    "start_time": "2022-03-05T09:16:29.611Z"
   },
   {
    "duration": 28,
    "start_time": "2022-03-05T09:18:40.190Z"
   },
   {
    "duration": 318,
    "start_time": "2022-03-05T09:19:56.155Z"
   },
   {
    "duration": 7052,
    "start_time": "2022-03-05T09:20:14.442Z"
   },
   {
    "duration": 10072,
    "start_time": "2022-03-05T09:20:33.293Z"
   },
   {
    "duration": 314,
    "start_time": "2022-03-05T09:20:57.230Z"
   },
   {
    "duration": 262,
    "start_time": "2022-03-05T09:22:07.231Z"
   },
   {
    "duration": 262,
    "start_time": "2022-03-05T09:22:24.186Z"
   },
   {
    "duration": 256,
    "start_time": "2022-03-05T09:22:50.935Z"
   },
   {
    "duration": 19,
    "start_time": "2022-03-05T09:23:45.049Z"
   },
   {
    "duration": 10642,
    "start_time": "2022-03-05T09:25:02.635Z"
   },
   {
    "duration": 9,
    "start_time": "2022-03-05T09:25:27.225Z"
   },
   {
    "duration": 9,
    "start_time": "2022-03-05T09:31:12.352Z"
   },
   {
    "duration": 519,
    "start_time": "2022-03-05T11:26:29.315Z"
   },
   {
    "duration": 72,
    "start_time": "2022-03-05T11:26:29.837Z"
   },
   {
    "duration": 17,
    "start_time": "2022-03-05T11:26:29.912Z"
   },
   {
    "duration": 176,
    "start_time": "2022-03-05T11:26:29.931Z"
   },
   {
    "duration": 22,
    "start_time": "2022-03-05T11:26:30.109Z"
   },
   {
    "duration": 52,
    "start_time": "2022-03-05T11:26:30.134Z"
   },
   {
    "duration": 44,
    "start_time": "2022-03-05T11:26:30.189Z"
   },
   {
    "duration": 91,
    "start_time": "2022-03-05T11:26:30.236Z"
   },
   {
    "duration": 43,
    "start_time": "2022-03-05T11:26:30.332Z"
   },
   {
    "duration": 33,
    "start_time": "2022-03-05T11:26:30.380Z"
   },
   {
    "duration": 36,
    "start_time": "2022-03-05T11:26:30.416Z"
   },
   {
    "duration": 91,
    "start_time": "2022-03-05T11:26:30.455Z"
   },
   {
    "duration": 43,
    "start_time": "2022-03-05T11:26:30.548Z"
   },
   {
    "duration": 29,
    "start_time": "2022-03-05T11:26:30.594Z"
   },
   {
    "duration": 15,
    "start_time": "2022-03-05T11:26:30.625Z"
   },
   {
    "duration": 42,
    "start_time": "2022-03-05T11:26:30.643Z"
   },
   {
    "duration": 24,
    "start_time": "2022-03-05T11:26:30.689Z"
   },
   {
    "duration": 40,
    "start_time": "2022-03-05T11:26:30.715Z"
   },
   {
    "duration": 32,
    "start_time": "2022-03-05T11:26:30.774Z"
   },
   {
    "duration": 81,
    "start_time": "2022-03-05T11:26:30.808Z"
   },
   {
    "duration": 23,
    "start_time": "2022-03-05T11:26:30.892Z"
   },
   {
    "duration": 12,
    "start_time": "2022-03-05T11:26:30.918Z"
   },
   {
    "duration": 66,
    "start_time": "2022-03-05T11:26:30.932Z"
   },
   {
    "duration": 36,
    "start_time": "2022-03-05T11:26:31.000Z"
   },
   {
    "duration": 55,
    "start_time": "2022-03-05T11:26:31.038Z"
   },
   {
    "duration": 35,
    "start_time": "2022-03-05T11:26:31.095Z"
   },
   {
    "duration": 59,
    "start_time": "2022-03-05T11:26:31.135Z"
   },
   {
    "duration": 7,
    "start_time": "2022-03-05T11:26:31.196Z"
   },
   {
    "duration": 30,
    "start_time": "2022-03-05T11:26:31.205Z"
   },
   {
    "duration": 39,
    "start_time": "2022-03-05T11:26:31.238Z"
   },
   {
    "duration": 363,
    "start_time": "2022-03-05T11:26:31.280Z"
   },
   {
    "duration": 218,
    "start_time": "2022-03-05T11:26:34.039Z"
   },
   {
    "duration": 41,
    "start_time": "2022-03-05T11:28:31.522Z"
   },
   {
    "duration": 716,
    "start_time": "2022-03-05T11:47:38.518Z"
   },
   {
    "duration": 720,
    "start_time": "2022-03-05T11:48:22.659Z"
   },
   {
    "duration": 712,
    "start_time": "2022-03-05T11:48:49.389Z"
   },
   {
    "duration": 789,
    "start_time": "2022-03-05T11:48:59.891Z"
   },
   {
    "duration": 772,
    "start_time": "2022-03-05T11:49:08.913Z"
   },
   {
    "duration": 1891,
    "start_time": "2022-03-05T11:54:43.244Z"
   },
   {
    "duration": 1068,
    "start_time": "2022-03-05T11:55:38.857Z"
   },
   {
    "duration": 1148,
    "start_time": "2022-03-05T11:55:59.887Z"
   },
   {
    "duration": 712,
    "start_time": "2022-03-05T11:56:09.701Z"
   },
   {
    "duration": 878,
    "start_time": "2022-03-05T11:56:22.748Z"
   },
   {
    "duration": 1107,
    "start_time": "2022-03-05T11:56:29.088Z"
   },
   {
    "duration": 1633,
    "start_time": "2022-03-05T11:56:35.840Z"
   },
   {
    "duration": 676,
    "start_time": "2022-03-05T11:56:44.270Z"
   },
   {
    "duration": 624,
    "start_time": "2022-03-05T11:56:50.103Z"
   },
   {
    "duration": 627,
    "start_time": "2022-03-05T11:57:01.212Z"
   },
   {
    "duration": 1014,
    "start_time": "2022-03-05T11:57:17.662Z"
   },
   {
    "duration": 963,
    "start_time": "2022-03-05T11:57:27.491Z"
   },
   {
    "duration": 6297,
    "start_time": "2022-03-05T12:04:12.800Z"
   },
   {
    "duration": 10,
    "start_time": "2022-03-05T12:05:57.653Z"
   },
   {
    "duration": 13,
    "start_time": "2022-03-05T12:06:54.220Z"
   },
   {
    "duration": 27,
    "start_time": "2022-03-05T12:07:07.074Z"
   },
   {
    "duration": 314,
    "start_time": "2022-03-05T12:10:52.597Z"
   },
   {
    "duration": 99,
    "start_time": "2022-03-05T12:13:14.129Z"
   },
   {
    "duration": 42,
    "start_time": "2022-03-05T12:13:17.892Z"
   },
   {
    "duration": 84,
    "start_time": "2022-03-05T12:19:00.826Z"
   },
   {
    "duration": 22,
    "start_time": "2022-03-05T12:19:18.568Z"
   },
   {
    "duration": 264,
    "start_time": "2022-03-05T12:20:04.525Z"
   },
   {
    "duration": 18,
    "start_time": "2022-03-05T12:20:14.559Z"
   },
   {
    "duration": 560,
    "start_time": "2022-03-05T12:20:42.005Z"
   },
   {
    "duration": 75,
    "start_time": "2022-03-05T12:20:42.568Z"
   },
   {
    "duration": 34,
    "start_time": "2022-03-05T12:20:42.647Z"
   },
   {
    "duration": 164,
    "start_time": "2022-03-05T12:20:42.685Z"
   },
   {
    "duration": 41,
    "start_time": "2022-03-05T12:20:42.851Z"
   },
   {
    "duration": 20,
    "start_time": "2022-03-05T12:20:42.895Z"
   },
   {
    "duration": 64,
    "start_time": "2022-03-05T12:20:42.917Z"
   },
   {
    "duration": 110,
    "start_time": "2022-03-05T12:20:42.988Z"
   },
   {
    "duration": 31,
    "start_time": "2022-03-05T12:20:43.102Z"
   },
   {
    "duration": 61,
    "start_time": "2022-03-05T12:20:43.137Z"
   },
   {
    "duration": 30,
    "start_time": "2022-03-05T12:20:43.201Z"
   },
   {
    "duration": 104,
    "start_time": "2022-03-05T12:20:43.233Z"
   },
   {
    "duration": 35,
    "start_time": "2022-03-05T12:20:43.339Z"
   },
   {
    "duration": 28,
    "start_time": "2022-03-05T12:20:43.378Z"
   },
   {
    "duration": 9,
    "start_time": "2022-03-05T12:20:43.409Z"
   },
   {
    "duration": 12,
    "start_time": "2022-03-05T12:20:43.421Z"
   },
   {
    "duration": 21,
    "start_time": "2022-03-05T12:20:43.473Z"
   },
   {
    "duration": 39,
    "start_time": "2022-03-05T12:20:43.497Z"
   },
   {
    "duration": 51,
    "start_time": "2022-03-05T12:20:43.539Z"
   },
   {
    "duration": 19,
    "start_time": "2022-03-05T12:20:43.593Z"
   },
   {
    "duration": 21,
    "start_time": "2022-03-05T12:20:43.614Z"
   },
   {
    "duration": 39,
    "start_time": "2022-03-05T12:20:43.638Z"
   },
   {
    "duration": 37,
    "start_time": "2022-03-05T12:20:43.684Z"
   },
   {
    "duration": 71,
    "start_time": "2022-03-05T12:20:43.724Z"
   },
   {
    "duration": 28,
    "start_time": "2022-03-05T12:20:43.798Z"
   },
   {
    "duration": 63,
    "start_time": "2022-03-05T12:20:43.828Z"
   },
   {
    "duration": 28,
    "start_time": "2022-03-05T12:20:43.893Z"
   },
   {
    "duration": 7,
    "start_time": "2022-03-05T12:20:43.924Z"
   },
   {
    "duration": 68,
    "start_time": "2022-03-05T12:20:43.933Z"
   },
   {
    "duration": 26,
    "start_time": "2022-03-05T12:20:44.003Z"
   },
   {
    "duration": 332,
    "start_time": "2022-03-05T12:20:44.032Z"
   },
   {
    "duration": 228,
    "start_time": "2022-03-05T12:20:44.373Z"
   },
   {
    "duration": 4,
    "start_time": "2022-03-05T12:20:44.603Z"
   },
   {
    "duration": 17,
    "start_time": "2022-03-05T12:20:46.934Z"
   },
   {
    "duration": 8,
    "start_time": "2022-03-05T12:21:06.522Z"
   },
   {
    "duration": 6140,
    "start_time": "2022-03-05T12:21:28.664Z"
   },
   {
    "duration": 287,
    "start_time": "2022-03-05T12:21:49.865Z"
   },
   {
    "duration": 7,
    "start_time": "2022-03-05T12:22:08.206Z"
   },
   {
    "duration": 359,
    "start_time": "2022-03-05T12:22:49.040Z"
   },
   {
    "duration": 7,
    "start_time": "2022-03-05T12:22:56.336Z"
   },
   {
    "duration": 336,
    "start_time": "2022-03-05T12:23:06.141Z"
   },
   {
    "duration": 317,
    "start_time": "2022-03-05T12:23:15.818Z"
   },
   {
    "duration": 311,
    "start_time": "2022-03-05T12:23:20.039Z"
   },
   {
    "duration": 309,
    "start_time": "2022-03-05T12:23:23.773Z"
   },
   {
    "duration": 304,
    "start_time": "2022-03-05T12:23:35.814Z"
   },
   {
    "duration": 310,
    "start_time": "2022-03-05T12:23:44.485Z"
   },
   {
    "duration": 295,
    "start_time": "2022-03-05T12:24:52.123Z"
   },
   {
    "duration": 303,
    "start_time": "2022-03-05T12:24:56.649Z"
   },
   {
    "duration": 301,
    "start_time": "2022-03-05T12:25:00.754Z"
   },
   {
    "duration": 325,
    "start_time": "2022-03-05T12:25:03.991Z"
   },
   {
    "duration": 295,
    "start_time": "2022-03-05T12:25:06.649Z"
   },
   {
    "duration": 266,
    "start_time": "2022-03-05T12:25:10.405Z"
   },
   {
    "duration": 273,
    "start_time": "2022-03-05T12:25:13.782Z"
   },
   {
    "duration": 302,
    "start_time": "2022-03-05T12:29:50.758Z"
   },
   {
    "duration": 278,
    "start_time": "2022-03-05T12:30:15.147Z"
   },
   {
    "duration": 308,
    "start_time": "2022-03-05T12:30:22.475Z"
   },
   {
    "duration": 311,
    "start_time": "2022-03-05T12:30:38.513Z"
   },
   {
    "duration": 304,
    "start_time": "2022-03-05T12:30:59.624Z"
   },
   {
    "duration": 288,
    "start_time": "2022-03-05T12:31:35.462Z"
   },
   {
    "duration": 295,
    "start_time": "2022-03-05T12:31:39.348Z"
   },
   {
    "duration": 302,
    "start_time": "2022-03-05T12:31:42.922Z"
   },
   {
    "duration": 491,
    "start_time": "2022-03-05T12:31:46.909Z"
   },
   {
    "duration": 294,
    "start_time": "2022-03-05T12:31:55.528Z"
   },
   {
    "duration": 287,
    "start_time": "2022-03-05T12:31:59.457Z"
   },
   {
    "duration": 293,
    "start_time": "2022-03-05T12:32:02.363Z"
   },
   {
    "duration": 297,
    "start_time": "2022-03-05T12:32:05.657Z"
   },
   {
    "duration": 305,
    "start_time": "2022-03-05T12:32:10.744Z"
   },
   {
    "duration": 349,
    "start_time": "2022-03-05T12:33:12.582Z"
   },
   {
    "duration": 271,
    "start_time": "2022-03-05T12:33:15.812Z"
   },
   {
    "duration": 289,
    "start_time": "2022-03-05T12:33:21.503Z"
   },
   {
    "duration": 252,
    "start_time": "2022-03-05T12:36:48.385Z"
   },
   {
    "duration": 24,
    "start_time": "2022-03-05T12:37:17.601Z"
   },
   {
    "duration": 404,
    "start_time": "2022-03-05T12:37:31.136Z"
   },
   {
    "duration": 300,
    "start_time": "2022-03-05T12:37:52.767Z"
   },
   {
    "duration": 310,
    "start_time": "2022-03-05T12:37:58.351Z"
   },
   {
    "duration": 310,
    "start_time": "2022-03-05T12:38:04.003Z"
   },
   {
    "duration": 311,
    "start_time": "2022-03-05T12:38:09.720Z"
   },
   {
    "duration": 440,
    "start_time": "2022-03-05T12:38:18.245Z"
   },
   {
    "duration": 368,
    "start_time": "2022-03-05T12:38:29.538Z"
   },
   {
    "duration": 546,
    "start_time": "2022-03-05T12:38:36.132Z"
   },
   {
    "duration": 378,
    "start_time": "2022-03-05T12:38:41.526Z"
   },
   {
    "duration": 406,
    "start_time": "2022-03-05T12:39:30.563Z"
   },
   {
    "duration": 472,
    "start_time": "2022-03-05T12:40:41.918Z"
   },
   {
    "duration": 475,
    "start_time": "2022-03-05T12:40:50.127Z"
   },
   {
    "duration": 479,
    "start_time": "2022-03-05T12:40:53.946Z"
   },
   {
    "duration": 661,
    "start_time": "2022-03-05T12:41:32.748Z"
   },
   {
    "duration": 401,
    "start_time": "2022-03-05T12:41:50.726Z"
   },
   {
    "duration": 414,
    "start_time": "2022-03-05T12:42:04.136Z"
   },
   {
    "duration": 405,
    "start_time": "2022-03-05T12:42:17.760Z"
   },
   {
    "duration": 493,
    "start_time": "2022-03-05T12:48:30.169Z"
   },
   {
    "duration": 350,
    "start_time": "2022-03-05T12:48:39.686Z"
   },
   {
    "duration": 345,
    "start_time": "2022-03-05T12:48:52.097Z"
   },
   {
    "duration": 325,
    "start_time": "2022-03-05T12:49:00.698Z"
   },
   {
    "duration": 426,
    "start_time": "2022-03-05T12:49:15.763Z"
   },
   {
    "duration": 357,
    "start_time": "2022-03-05T12:49:35.975Z"
   },
   {
    "duration": 353,
    "start_time": "2022-03-05T12:49:47.035Z"
   },
   {
    "duration": 340,
    "start_time": "2022-03-05T12:49:55.734Z"
   },
   {
    "duration": 904,
    "start_time": "2022-03-05T12:50:03.862Z"
   },
   {
    "duration": 2489,
    "start_time": "2022-03-05T12:50:11.203Z"
   },
   {
    "duration": 341,
    "start_time": "2022-03-05T12:50:20.418Z"
   },
   {
    "duration": 307,
    "start_time": "2022-03-05T12:55:47.228Z"
   },
   {
    "duration": 288,
    "start_time": "2022-03-05T12:55:55.586Z"
   },
   {
    "duration": 344,
    "start_time": "2022-03-05T12:55:59.651Z"
   },
   {
    "duration": 554,
    "start_time": "2022-03-05T12:56:52.765Z"
   },
   {
    "duration": 691,
    "start_time": "2022-03-05T12:59:18.420Z"
   },
   {
    "duration": 343,
    "start_time": "2022-03-05T12:59:29.137Z"
   },
   {
    "duration": 381,
    "start_time": "2022-03-05T13:00:00.684Z"
   },
   {
    "duration": 366,
    "start_time": "2022-03-05T13:00:27.732Z"
   },
   {
    "duration": 256,
    "start_time": "2022-03-05T13:16:56.841Z"
   },
   {
    "duration": 270,
    "start_time": "2022-03-05T13:17:04.048Z"
   },
   {
    "duration": 11,
    "start_time": "2022-03-05T13:18:59.863Z"
   },
   {
    "duration": 10,
    "start_time": "2022-03-05T13:30:46.960Z"
   },
   {
    "duration": 9,
    "start_time": "2022-03-05T13:33:04.025Z"
   },
   {
    "duration": 17,
    "start_time": "2022-03-05T13:40:02.408Z"
   },
   {
    "duration": 20,
    "start_time": "2022-03-05T13:41:43.510Z"
   },
   {
    "duration": 15,
    "start_time": "2022-03-05T13:42:59.553Z"
   },
   {
    "duration": 11,
    "start_time": "2022-03-05T13:43:56.215Z"
   },
   {
    "duration": 15,
    "start_time": "2022-03-05T13:44:39.147Z"
   },
   {
    "duration": 12,
    "start_time": "2022-03-05T13:46:01.327Z"
   },
   {
    "duration": 12,
    "start_time": "2022-03-05T13:47:04.612Z"
   },
   {
    "duration": 82,
    "start_time": "2022-03-06T10:41:49.689Z"
   },
   {
    "duration": 310,
    "start_time": "2022-03-06T10:42:01.954Z"
   },
   {
    "duration": 1808,
    "start_time": "2022-03-06T10:42:11.706Z"
   },
   {
    "duration": 69,
    "start_time": "2022-03-06T10:42:13.516Z"
   },
   {
    "duration": 20,
    "start_time": "2022-03-06T10:42:13.588Z"
   },
   {
    "duration": 138,
    "start_time": "2022-03-06T10:42:13.610Z"
   },
   {
    "duration": 23,
    "start_time": "2022-03-06T10:42:13.750Z"
   },
   {
    "duration": 18,
    "start_time": "2022-03-06T10:42:13.788Z"
   },
   {
    "duration": 35,
    "start_time": "2022-03-06T10:42:13.808Z"
   },
   {
    "duration": 86,
    "start_time": "2022-03-06T10:42:13.845Z"
   },
   {
    "duration": 23,
    "start_time": "2022-03-06T10:42:13.935Z"
   },
   {
    "duration": 45,
    "start_time": "2022-03-06T10:42:13.961Z"
   },
   {
    "duration": 26,
    "start_time": "2022-03-06T10:42:14.008Z"
   },
   {
    "duration": 89,
    "start_time": "2022-03-06T10:42:14.036Z"
   },
   {
    "duration": 17,
    "start_time": "2022-03-06T10:42:14.128Z"
   },
   {
    "duration": 48,
    "start_time": "2022-03-06T10:42:14.149Z"
   },
   {
    "duration": 17,
    "start_time": "2022-03-06T10:42:14.200Z"
   },
   {
    "duration": 22,
    "start_time": "2022-03-06T10:42:14.219Z"
   },
   {
    "duration": 17,
    "start_time": "2022-03-06T10:42:14.244Z"
   },
   {
    "duration": 43,
    "start_time": "2022-03-06T10:42:14.264Z"
   },
   {
    "duration": 17,
    "start_time": "2022-03-06T10:42:14.309Z"
   },
   {
    "duration": 23,
    "start_time": "2022-03-06T10:42:14.328Z"
   },
   {
    "duration": 44,
    "start_time": "2022-03-06T10:42:14.354Z"
   },
   {
    "duration": 11,
    "start_time": "2022-03-06T10:42:14.400Z"
   },
   {
    "duration": 39,
    "start_time": "2022-03-06T10:42:14.413Z"
   },
   {
    "duration": 52,
    "start_time": "2022-03-06T10:42:14.454Z"
   },
   {
    "duration": 24,
    "start_time": "2022-03-06T10:42:14.508Z"
   },
   {
    "duration": 34,
    "start_time": "2022-03-06T10:42:14.534Z"
   },
   {
    "duration": 26,
    "start_time": "2022-03-06T10:42:14.590Z"
   },
   {
    "duration": 5,
    "start_time": "2022-03-06T10:42:14.619Z"
   },
   {
    "duration": 38,
    "start_time": "2022-03-06T10:42:14.626Z"
   },
   {
    "duration": 32,
    "start_time": "2022-03-06T10:42:14.666Z"
   },
   {
    "duration": 323,
    "start_time": "2022-03-06T10:42:14.701Z"
   },
   {
    "duration": 225,
    "start_time": "2022-03-06T10:42:15.027Z"
   },
   {
    "duration": 40,
    "start_time": "2022-03-06T10:42:20.727Z"
   },
   {
    "duration": 338,
    "start_time": "2022-03-06T10:42:36.915Z"
   },
   {
    "duration": 317,
    "start_time": "2022-03-06T10:42:44.629Z"
   },
   {
    "duration": 321,
    "start_time": "2022-03-06T10:42:48.600Z"
   },
   {
    "duration": 12,
    "start_time": "2022-03-06T10:46:55.790Z"
   },
   {
    "duration": 22,
    "start_time": "2022-03-06T10:47:59.261Z"
   },
   {
    "duration": 322,
    "start_time": "2022-03-06T10:48:01.416Z"
   },
   {
    "duration": 324,
    "start_time": "2022-03-06T10:48:09.998Z"
   },
   {
    "duration": 306,
    "start_time": "2022-03-06T10:48:14.423Z"
   },
   {
    "duration": 11,
    "start_time": "2022-03-06T10:48:20.036Z"
   },
   {
    "duration": 22,
    "start_time": "2022-03-06T11:04:13.726Z"
   },
   {
    "duration": 315,
    "start_time": "2022-03-06T11:06:39.737Z"
   },
   {
    "duration": 241,
    "start_time": "2022-03-06T11:07:12.663Z"
   },
   {
    "duration": 5554,
    "start_time": "2022-03-06T11:08:27.951Z"
   },
   {
    "duration": 36,
    "start_time": "2022-03-06T11:08:43.608Z"
   },
   {
    "duration": 275,
    "start_time": "2022-03-06T11:09:52.690Z"
   },
   {
    "duration": 29,
    "start_time": "2022-03-06T11:10:08.707Z"
   },
   {
    "duration": 35,
    "start_time": "2022-03-06T11:10:23.424Z"
   },
   {
    "duration": 270,
    "start_time": "2022-03-06T11:10:41.534Z"
   },
   {
    "duration": 25,
    "start_time": "2022-03-06T11:10:57.667Z"
   },
   {
    "duration": 24,
    "start_time": "2022-03-06T11:11:14.900Z"
   },
   {
    "duration": 88,
    "start_time": "2022-03-06T11:11:43.959Z"
   },
   {
    "duration": 25,
    "start_time": "2022-03-06T11:11:54.744Z"
   },
   {
    "duration": 7,
    "start_time": "2022-03-06T11:12:18.352Z"
   },
   {
    "duration": 10,
    "start_time": "2022-03-06T11:14:29.719Z"
   },
   {
    "duration": 11,
    "start_time": "2022-03-06T11:14:40.720Z"
   },
   {
    "duration": 15,
    "start_time": "2022-03-06T11:14:48.187Z"
   },
   {
    "duration": 16,
    "start_time": "2022-03-06T11:16:16.448Z"
   },
   {
    "duration": 16,
    "start_time": "2022-03-06T11:17:56.889Z"
   },
   {
    "duration": 16,
    "start_time": "2022-03-06T11:18:19.937Z"
   },
   {
    "duration": 11,
    "start_time": "2022-03-06T11:20:55.603Z"
   },
   {
    "duration": 10,
    "start_time": "2022-03-06T11:22:06.135Z"
   },
   {
    "duration": 11,
    "start_time": "2022-03-06T11:22:13.641Z"
   },
   {
    "duration": 12,
    "start_time": "2022-03-06T11:22:54.777Z"
   },
   {
    "duration": 476,
    "start_time": "2022-03-06T11:23:14.043Z"
   },
   {
    "duration": 64,
    "start_time": "2022-03-06T11:23:14.522Z"
   },
   {
    "duration": 16,
    "start_time": "2022-03-06T11:23:14.589Z"
   },
   {
    "duration": 146,
    "start_time": "2022-03-06T11:23:14.608Z"
   },
   {
    "duration": 34,
    "start_time": "2022-03-06T11:23:14.757Z"
   },
   {
    "duration": 19,
    "start_time": "2022-03-06T11:23:14.794Z"
   },
   {
    "duration": 72,
    "start_time": "2022-03-06T11:23:14.816Z"
   },
   {
    "duration": 66,
    "start_time": "2022-03-06T11:23:14.891Z"
   },
   {
    "duration": 45,
    "start_time": "2022-03-06T11:23:14.961Z"
   },
   {
    "duration": 29,
    "start_time": "2022-03-06T11:23:15.009Z"
   },
   {
    "duration": 53,
    "start_time": "2022-03-06T11:23:15.041Z"
   },
   {
    "duration": 61,
    "start_time": "2022-03-06T11:23:15.096Z"
   },
   {
    "duration": 33,
    "start_time": "2022-03-06T11:23:15.159Z"
   },
   {
    "duration": 26,
    "start_time": "2022-03-06T11:23:15.194Z"
   },
   {
    "duration": 8,
    "start_time": "2022-03-06T11:23:15.222Z"
   },
   {
    "duration": 55,
    "start_time": "2022-03-06T11:23:15.232Z"
   },
   {
    "duration": 14,
    "start_time": "2022-03-06T11:23:15.290Z"
   },
   {
    "duration": 41,
    "start_time": "2022-03-06T11:23:15.306Z"
   },
   {
    "duration": 40,
    "start_time": "2022-03-06T11:23:15.349Z"
   },
   {
    "duration": 18,
    "start_time": "2022-03-06T11:23:15.391Z"
   },
   {
    "duration": 30,
    "start_time": "2022-03-06T11:23:15.411Z"
   },
   {
    "duration": 43,
    "start_time": "2022-03-06T11:23:15.444Z"
   },
   {
    "duration": 41,
    "start_time": "2022-03-06T11:23:15.491Z"
   },
   {
    "duration": 73,
    "start_time": "2022-03-06T11:23:15.535Z"
   },
   {
    "duration": 39,
    "start_time": "2022-03-06T11:23:15.611Z"
   },
   {
    "duration": 68,
    "start_time": "2022-03-06T11:23:15.653Z"
   },
   {
    "duration": 41,
    "start_time": "2022-03-06T11:23:15.729Z"
   },
   {
    "duration": 8,
    "start_time": "2022-03-06T11:23:15.788Z"
   },
   {
    "duration": 28,
    "start_time": "2022-03-06T11:23:15.798Z"
   },
   {
    "duration": 17,
    "start_time": "2022-03-06T11:23:15.828Z"
   },
   {
    "duration": 340,
    "start_time": "2022-03-06T11:23:15.847Z"
   },
   {
    "duration": 225,
    "start_time": "2022-03-06T11:23:16.189Z"
   },
   {
    "duration": 22,
    "start_time": "2022-03-06T11:23:16.417Z"
   },
   {
    "duration": 357,
    "start_time": "2022-03-06T11:23:16.441Z"
   },
   {
    "duration": 396,
    "start_time": "2022-03-06T11:23:16.800Z"
   },
   {
    "duration": 324,
    "start_time": "2022-03-06T11:23:17.199Z"
   },
   {
    "duration": 11,
    "start_time": "2022-03-06T11:23:17.526Z"
   },
   {
    "duration": 27,
    "start_time": "2022-03-06T11:23:17.539Z"
   },
   {
    "duration": 16,
    "start_time": "2022-03-06T11:23:20.176Z"
   },
   {
    "duration": 11,
    "start_time": "2022-03-06T11:23:41.271Z"
   },
   {
    "duration": 12,
    "start_time": "2022-03-06T11:23:59.096Z"
   },
   {
    "duration": 4,
    "start_time": "2022-03-06T11:29:52.568Z"
   },
   {
    "duration": 12,
    "start_time": "2022-03-06T11:34:45.397Z"
   },
   {
    "duration": 17,
    "start_time": "2022-03-06T11:36:03.277Z"
   },
   {
    "duration": 14,
    "start_time": "2022-03-06T11:37:06.498Z"
   },
   {
    "duration": 12,
    "start_time": "2022-03-06T11:37:29.729Z"
   },
   {
    "duration": 267,
    "start_time": "2022-03-06T11:38:18.882Z"
   },
   {
    "duration": 264,
    "start_time": "2022-03-06T11:38:35.538Z"
   },
   {
    "duration": 248,
    "start_time": "2022-03-06T11:38:52.383Z"
   },
   {
    "duration": 220,
    "start_time": "2022-03-06T11:44:10.329Z"
   },
   {
    "duration": 13,
    "start_time": "2022-03-06T11:44:21.299Z"
   },
   {
    "duration": 1654,
    "start_time": "2022-03-14T10:33:10.365Z"
   },
   {
    "duration": 58,
    "start_time": "2022-03-14T10:33:12.022Z"
   },
   {
    "duration": 21,
    "start_time": "2022-03-14T10:33:12.082Z"
   },
   {
    "duration": 122,
    "start_time": "2022-03-14T10:33:12.105Z"
   },
   {
    "duration": 19,
    "start_time": "2022-03-14T10:33:12.229Z"
   },
   {
    "duration": 14,
    "start_time": "2022-03-14T10:33:12.251Z"
   },
   {
    "duration": 61,
    "start_time": "2022-03-14T10:33:12.268Z"
   },
   {
    "duration": 52,
    "start_time": "2022-03-14T10:33:12.332Z"
   },
   {
    "duration": 32,
    "start_time": "2022-03-14T10:33:12.386Z"
   },
   {
    "duration": 24,
    "start_time": "2022-03-14T10:33:12.420Z"
   },
   {
    "duration": 20,
    "start_time": "2022-03-14T10:33:12.446Z"
   },
   {
    "duration": 76,
    "start_time": "2022-03-14T10:33:12.468Z"
   },
   {
    "duration": 14,
    "start_time": "2022-03-14T10:33:12.547Z"
   },
   {
    "duration": 41,
    "start_time": "2022-03-14T10:33:12.562Z"
   },
   {
    "duration": 11,
    "start_time": "2022-03-14T10:33:12.606Z"
   },
   {
    "duration": 16,
    "start_time": "2022-03-14T10:33:12.619Z"
   },
   {
    "duration": 11,
    "start_time": "2022-03-14T10:33:12.637Z"
   },
   {
    "duration": 29,
    "start_time": "2022-03-14T10:35:02.268Z"
   },
   {
    "duration": 13,
    "start_time": "2022-03-14T10:35:05.052Z"
   },
   {
    "duration": 410,
    "start_time": "2022-03-14T10:35:16.584Z"
   },
   {
    "duration": 51,
    "start_time": "2022-03-14T10:35:16.996Z"
   },
   {
    "duration": 13,
    "start_time": "2022-03-14T10:35:17.050Z"
   },
   {
    "duration": 124,
    "start_time": "2022-03-14T10:35:17.065Z"
   },
   {
    "duration": 23,
    "start_time": "2022-03-14T10:35:17.191Z"
   },
   {
    "duration": 23,
    "start_time": "2022-03-14T10:35:17.216Z"
   },
   {
    "duration": 27,
    "start_time": "2022-03-14T10:35:17.241Z"
   },
   {
    "duration": 65,
    "start_time": "2022-03-14T10:35:17.272Z"
   },
   {
    "duration": 22,
    "start_time": "2022-03-14T10:35:17.340Z"
   },
   {
    "duration": 46,
    "start_time": "2022-03-14T10:35:17.364Z"
   },
   {
    "duration": 28,
    "start_time": "2022-03-14T10:35:17.411Z"
   },
   {
    "duration": 61,
    "start_time": "2022-03-14T10:35:17.440Z"
   },
   {
    "duration": 12,
    "start_time": "2022-03-14T10:35:17.503Z"
   },
   {
    "duration": 18,
    "start_time": "2022-03-14T10:35:17.517Z"
   },
   {
    "duration": 10,
    "start_time": "2022-03-14T10:35:17.537Z"
   },
   {
    "duration": 15,
    "start_time": "2022-03-14T10:35:17.549Z"
   },
   {
    "duration": 36,
    "start_time": "2022-03-14T10:35:17.566Z"
   },
   {
    "duration": 28,
    "start_time": "2022-03-14T10:35:19.831Z"
   },
   {
    "duration": 15,
    "start_time": "2022-03-14T10:35:21.244Z"
   },
   {
    "duration": 353,
    "start_time": "2022-03-14T10:36:20.552Z"
   },
   {
    "duration": 28,
    "start_time": "2022-03-14T10:38:36.178Z"
   },
   {
    "duration": 15,
    "start_time": "2022-03-14T10:38:38.610Z"
   },
   {
    "duration": 10,
    "start_time": "2022-03-14T10:38:55.660Z"
   },
   {
    "duration": 18,
    "start_time": "2022-03-14T10:39:05.300Z"
   },
   {
    "duration": 18,
    "start_time": "2022-03-14T10:39:08.081Z"
   },
   {
    "duration": 10,
    "start_time": "2022-03-14T10:39:10.679Z"
   },
   {
    "duration": 22,
    "start_time": "2022-03-14T10:39:13.319Z"
   },
   {
    "duration": 25,
    "start_time": "2022-03-14T10:39:26.499Z"
   },
   {
    "duration": 20,
    "start_time": "2022-03-14T10:39:28.193Z"
   },
   {
    "duration": 26,
    "start_time": "2022-03-14T10:39:29.801Z"
   },
   {
    "duration": 21,
    "start_time": "2022-03-14T10:39:31.332Z"
   },
   {
    "duration": 5,
    "start_time": "2022-03-14T10:39:33.557Z"
   },
   {
    "duration": 19,
    "start_time": "2022-03-14T10:40:40.838Z"
   },
   {
    "duration": 13,
    "start_time": "2022-03-14T10:40:43.976Z"
   },
   {
    "duration": 218,
    "start_time": "2022-03-14T10:40:49.895Z"
   },
   {
    "duration": 134,
    "start_time": "2022-03-14T10:40:52.439Z"
   },
   {
    "duration": 3,
    "start_time": "2022-03-14T10:54:13.834Z"
   },
   {
    "duration": 11,
    "start_time": "2022-03-14T11:28:32.282Z"
   },
   {
    "duration": 3860,
    "start_time": "2022-03-14T11:37:31.326Z"
   },
   {
    "duration": 33,
    "start_time": "2022-03-14T12:03:29.201Z"
   },
   {
    "duration": 29,
    "start_time": "2022-03-14T12:18:16.528Z"
   },
   {
    "duration": 265,
    "start_time": "2022-03-14T12:39:49.910Z"
   },
   {
    "duration": 398,
    "start_time": "2022-03-14T12:40:15.330Z"
   },
   {
    "duration": 52,
    "start_time": "2022-03-14T12:40:15.730Z"
   },
   {
    "duration": 11,
    "start_time": "2022-03-14T12:40:15.784Z"
   },
   {
    "duration": 119,
    "start_time": "2022-03-14T12:40:15.797Z"
   },
   {
    "duration": 20,
    "start_time": "2022-03-14T12:40:15.919Z"
   },
   {
    "duration": 16,
    "start_time": "2022-03-14T12:40:15.942Z"
   },
   {
    "duration": 52,
    "start_time": "2022-03-14T12:40:15.960Z"
   },
   {
    "duration": 52,
    "start_time": "2022-03-14T12:40:16.016Z"
   },
   {
    "duration": 42,
    "start_time": "2022-03-14T12:40:16.071Z"
   },
   {
    "duration": 23,
    "start_time": "2022-03-14T12:40:16.115Z"
   },
   {
    "duration": 21,
    "start_time": "2022-03-14T12:40:16.140Z"
   },
   {
    "duration": 81,
    "start_time": "2022-03-14T12:40:16.162Z"
   },
   {
    "duration": 13,
    "start_time": "2022-03-14T12:40:16.244Z"
   },
   {
    "duration": 23,
    "start_time": "2022-03-14T12:40:16.258Z"
   },
   {
    "duration": 9,
    "start_time": "2022-03-14T12:40:16.300Z"
   },
   {
    "duration": 19,
    "start_time": "2022-03-14T12:40:16.311Z"
   },
   {
    "duration": 18,
    "start_time": "2022-03-14T12:40:16.332Z"
   },
   {
    "duration": 43,
    "start_time": "2022-03-14T12:40:16.352Z"
   },
   {
    "duration": 12,
    "start_time": "2022-03-14T12:40:16.402Z"
   },
   {
    "duration": 21,
    "start_time": "2022-03-14T12:40:16.416Z"
   },
   {
    "duration": 18,
    "start_time": "2022-03-14T12:40:16.438Z"
   },
   {
    "duration": 8,
    "start_time": "2022-03-14T12:40:16.458Z"
   },
   {
    "duration": 23,
    "start_time": "2022-03-14T12:40:16.500Z"
   },
   {
    "duration": 29,
    "start_time": "2022-03-14T12:40:16.525Z"
   },
   {
    "duration": 20,
    "start_time": "2022-03-14T12:40:16.556Z"
   },
   {
    "duration": 46,
    "start_time": "2022-03-14T12:40:16.578Z"
   },
   {
    "duration": 20,
    "start_time": "2022-03-14T12:40:16.626Z"
   },
   {
    "duration": 17,
    "start_time": "2022-03-14T12:40:16.648Z"
   },
   {
    "duration": 37,
    "start_time": "2022-03-14T12:40:16.666Z"
   },
   {
    "duration": 13,
    "start_time": "2022-03-14T12:40:16.705Z"
   },
   {
    "duration": 226,
    "start_time": "2022-03-14T12:40:16.720Z"
   },
   {
    "duration": 7,
    "start_time": "2022-03-14T12:40:16.948Z"
   },
   {
    "duration": 2395,
    "start_time": "2022-03-14T12:40:16.957Z"
   },
   {
    "duration": 29,
    "start_time": "2022-03-14T12:40:19.665Z"
   },
   {
    "duration": 257,
    "start_time": "2022-03-14T12:40:38.899Z"
   },
   {
    "duration": 269,
    "start_time": "2022-03-14T12:42:42.521Z"
   },
   {
    "duration": 273,
    "start_time": "2022-03-14T12:43:39.904Z"
   },
   {
    "duration": 272,
    "start_time": "2022-03-14T12:45:49.681Z"
   },
   {
    "duration": 303,
    "start_time": "2022-03-14T12:45:56.686Z"
   },
   {
    "duration": 6927,
    "start_time": "2022-03-14T12:46:39.082Z"
   },
   {
    "duration": 191,
    "start_time": "2022-03-14T12:46:47.751Z"
   },
   {
    "duration": 253,
    "start_time": "2022-03-14T12:47:47.052Z"
   },
   {
    "duration": 784,
    "start_time": "2022-03-14T12:48:19.495Z"
   },
   {
    "duration": 654,
    "start_time": "2022-03-14T12:48:24.272Z"
   },
   {
    "duration": 185,
    "start_time": "2022-03-14T12:48:50.421Z"
   },
   {
    "duration": 312,
    "start_time": "2022-03-14T12:50:53.799Z"
   },
   {
    "duration": 260,
    "start_time": "2022-03-14T12:51:07.394Z"
   },
   {
    "duration": 441,
    "start_time": "2022-03-14T12:51:16.043Z"
   },
   {
    "duration": 574,
    "start_time": "2022-03-14T12:53:02.041Z"
   },
   {
    "duration": 338,
    "start_time": "2022-03-14T12:53:14.785Z"
   },
   {
    "duration": 6496,
    "start_time": "2022-03-14T12:53:59.064Z"
   },
   {
    "duration": 7101,
    "start_time": "2022-03-14T12:54:19.555Z"
   },
   {
    "duration": 6501,
    "start_time": "2022-03-14T12:54:33.776Z"
   },
   {
    "duration": 549,
    "start_time": "2022-03-14T12:54:43.153Z"
   },
   {
    "duration": 326,
    "start_time": "2022-03-14T12:54:56.935Z"
   },
   {
    "duration": 343,
    "start_time": "2022-03-14T12:55:03.024Z"
   },
   {
    "duration": 331,
    "start_time": "2022-03-14T12:55:08.394Z"
   },
   {
    "duration": 320,
    "start_time": "2022-03-14T12:55:19.474Z"
   },
   {
    "duration": 384,
    "start_time": "2022-03-14T12:55:25.474Z"
   },
   {
    "duration": 343,
    "start_time": "2022-03-14T12:55:36.344Z"
   },
   {
    "duration": 249,
    "start_time": "2022-03-14T12:58:21.568Z"
   },
   {
    "duration": 351,
    "start_time": "2022-03-14T12:58:23.800Z"
   },
   {
    "duration": 271,
    "start_time": "2022-03-14T12:58:40.704Z"
   },
   {
    "duration": 252,
    "start_time": "2022-03-14T12:58:50.875Z"
   },
   {
    "duration": 277,
    "start_time": "2022-03-14T13:37:34.269Z"
   },
   {
    "duration": 17,
    "start_time": "2022-03-14T13:58:15.937Z"
   },
   {
    "duration": 14,
    "start_time": "2022-03-14T13:58:22.616Z"
   },
   {
    "duration": 6746,
    "start_time": "2022-03-14T14:03:23.787Z"
   },
   {
    "duration": 11,
    "start_time": "2022-03-14T14:04:05.207Z"
   },
   {
    "duration": 338,
    "start_time": "2022-03-14T14:08:54.198Z"
   },
   {
    "duration": 20,
    "start_time": "2022-03-14T14:09:03.391Z"
   },
   {
    "duration": 12,
    "start_time": "2022-03-14T14:09:05.066Z"
   },
   {
    "duration": 97,
    "start_time": "2022-03-14T16:55:36.161Z"
   },
   {
    "duration": 1995,
    "start_time": "2022-03-14T17:05:28.957Z"
   },
   {
    "duration": 72,
    "start_time": "2022-03-14T17:05:30.955Z"
   },
   {
    "duration": 952,
    "start_time": "2022-03-14T17:05:31.030Z"
   },
   {
    "duration": 648,
    "start_time": "2022-03-14T17:05:31.984Z"
   },
   {
    "duration": 377,
    "start_time": "2022-03-14T17:05:32.634Z"
   },
   {
    "duration": 561,
    "start_time": "2022-03-14T17:05:33.014Z"
   },
   {
    "duration": 656,
    "start_time": "2022-03-14T17:05:33.578Z"
   },
   {
    "duration": 661,
    "start_time": "2022-03-14T17:05:34.238Z"
   },
   {
    "duration": 240,
    "start_time": "2022-03-14T17:05:34.904Z"
   },
   {
    "duration": 537,
    "start_time": "2022-03-14T17:05:35.147Z"
   },
   {
    "duration": 641,
    "start_time": "2022-03-14T17:05:35.686Z"
   },
   {
    "duration": 976,
    "start_time": "2022-03-14T17:05:36.329Z"
   },
   {
    "duration": 1407,
    "start_time": "2022-03-14T17:05:37.307Z"
   },
   {
    "duration": 959,
    "start_time": "2022-03-14T17:05:38.716Z"
   },
   {
    "duration": 630,
    "start_time": "2022-03-14T17:05:39.678Z"
   },
   {
    "duration": 831,
    "start_time": "2022-03-14T17:05:40.311Z"
   },
   {
    "duration": 657,
    "start_time": "2022-03-14T17:05:41.145Z"
   },
   {
    "duration": 988,
    "start_time": "2022-03-14T17:05:41.804Z"
   },
   {
    "duration": 575,
    "start_time": "2022-03-14T17:05:42.794Z"
   },
   {
    "duration": 931,
    "start_time": "2022-03-14T17:05:43.371Z"
   },
   {
    "duration": 855,
    "start_time": "2022-03-14T17:05:44.305Z"
   },
   {
    "duration": 723,
    "start_time": "2022-03-14T17:05:45.162Z"
   },
   {
    "duration": 859,
    "start_time": "2022-03-14T17:05:45.890Z"
   },
   {
    "duration": 714,
    "start_time": "2022-03-14T17:05:46.751Z"
   },
   {
    "duration": 472,
    "start_time": "2022-03-14T17:05:47.468Z"
   },
   {
    "duration": 499,
    "start_time": "2022-03-14T17:05:47.943Z"
   },
   {
    "duration": 870,
    "start_time": "2022-03-14T17:05:48.445Z"
   },
   {
    "duration": 352,
    "start_time": "2022-03-14T17:05:49.317Z"
   },
   {
    "duration": 374,
    "start_time": "2022-03-14T17:05:49.672Z"
   },
   {
    "duration": 210,
    "start_time": "2022-03-14T17:05:50.049Z"
   },
   {
    "duration": 572,
    "start_time": "2022-03-14T17:05:50.261Z"
   },
   {
    "duration": 23,
    "start_time": "2022-03-14T17:05:50.836Z"
   },
   {
    "duration": 6166,
    "start_time": "2022-03-14T17:06:00.673Z"
   },
   {
    "duration": 44,
    "start_time": "2022-03-14T17:11:26.955Z"
   },
   {
    "duration": 24,
    "start_time": "2022-03-14T17:13:58.248Z"
   },
   {
    "duration": 12,
    "start_time": "2022-03-14T17:16:48.683Z"
   },
   {
    "duration": 10,
    "start_time": "2022-03-14T17:17:00.552Z"
   },
   {
    "duration": 494,
    "start_time": "2022-03-14T17:17:13.614Z"
   },
   {
    "duration": 64,
    "start_time": "2022-03-14T17:17:14.111Z"
   },
   {
    "duration": 232,
    "start_time": "2022-03-14T17:17:14.180Z"
   },
   {
    "duration": 790,
    "start_time": "2022-03-14T17:17:14.416Z"
   },
   {
    "duration": 508,
    "start_time": "2022-03-14T17:17:15.209Z"
   },
   {
    "duration": 708,
    "start_time": "2022-03-14T17:17:15.720Z"
   },
   {
    "duration": 549,
    "start_time": "2022-03-14T17:17:16.431Z"
   },
   {
    "duration": 524,
    "start_time": "2022-03-14T17:17:16.982Z"
   },
   {
    "duration": 487,
    "start_time": "2022-03-14T17:17:17.510Z"
   },
   {
    "duration": 516,
    "start_time": "2022-03-14T17:17:18.001Z"
   },
   {
    "duration": 817,
    "start_time": "2022-03-14T17:17:18.519Z"
   },
   {
    "duration": 592,
    "start_time": "2022-03-14T17:17:19.338Z"
   },
   {
    "duration": 358,
    "start_time": "2022-03-14T17:17:19.932Z"
   },
   {
    "duration": 514,
    "start_time": "2022-03-14T17:17:20.292Z"
   },
   {
    "duration": 540,
    "start_time": "2022-03-14T17:17:20.809Z"
   },
   {
    "duration": 646,
    "start_time": "2022-03-14T17:17:21.352Z"
   },
   {
    "duration": 644,
    "start_time": "2022-03-14T17:17:22.001Z"
   },
   {
    "duration": 1057,
    "start_time": "2022-03-14T17:17:22.648Z"
   },
   {
    "duration": 1239,
    "start_time": "2022-03-14T17:17:23.708Z"
   },
   {
    "duration": 749,
    "start_time": "2022-03-14T17:17:24.949Z"
   },
   {
    "duration": 615,
    "start_time": "2022-03-14T17:17:25.700Z"
   },
   {
    "duration": 271,
    "start_time": "2022-03-14T17:17:26.318Z"
   },
   {
    "duration": 284,
    "start_time": "2022-03-14T17:17:26.591Z"
   },
   {
    "duration": 239,
    "start_time": "2022-03-14T17:17:26.877Z"
   },
   {
    "duration": 311,
    "start_time": "2022-03-14T17:17:27.118Z"
   },
   {
    "duration": 248,
    "start_time": "2022-03-14T17:17:27.431Z"
   },
   {
    "duration": 465,
    "start_time": "2022-03-14T17:17:27.684Z"
   },
   {
    "duration": 301,
    "start_time": "2022-03-14T17:17:28.152Z"
   },
   {
    "duration": 459,
    "start_time": "2022-03-14T17:17:28.456Z"
   },
   {
    "duration": 507,
    "start_time": "2022-03-14T17:17:28.917Z"
   },
   {
    "duration": 656,
    "start_time": "2022-03-14T17:17:29.427Z"
   },
   {
    "duration": 83,
    "start_time": "2022-03-14T17:17:30.085Z"
   },
   {
    "duration": 5780,
    "start_time": "2022-03-14T17:17:30.171Z"
   },
   {
    "duration": 39,
    "start_time": "2022-03-14T17:17:35.953Z"
   },
   {
    "duration": 795,
    "start_time": "2022-03-14T17:17:35.994Z"
   },
   {
    "duration": 67,
    "start_time": "2022-03-14T17:17:36.793Z"
   },
   {
    "duration": 20,
    "start_time": "2022-03-14T17:18:39.969Z"
   },
   {
    "duration": 18,
    "start_time": "2022-03-14T17:19:29.888Z"
   },
   {
    "duration": 1052,
    "start_time": "2022-03-14T17:20:12.819Z"
   },
   {
    "duration": 1015,
    "start_time": "2022-03-14T17:48:07.764Z"
   },
   {
    "duration": 925,
    "start_time": "2022-03-14T17:48:34.998Z"
   },
   {
    "duration": 369,
    "start_time": "2022-03-14T17:48:42.911Z"
   },
   {
    "duration": 386,
    "start_time": "2022-03-14T17:49:04.639Z"
   },
   {
    "duration": 485,
    "start_time": "2022-03-14T17:49:13.734Z"
   },
   {
    "duration": 425,
    "start_time": "2022-03-14T17:49:43.512Z"
   },
   {
    "duration": 395,
    "start_time": "2022-03-14T17:49:51.264Z"
   },
   {
    "duration": 343,
    "start_time": "2022-03-14T17:51:04.974Z"
   },
   {
    "duration": 346,
    "start_time": "2022-03-14T17:52:12.260Z"
   },
   {
    "duration": 351,
    "start_time": "2022-03-14T17:52:25.528Z"
   },
   {
    "duration": 507,
    "start_time": "2022-03-14T17:52:30.248Z"
   },
   {
    "duration": 343,
    "start_time": "2022-03-14T17:54:04.131Z"
   },
   {
    "duration": 341,
    "start_time": "2022-03-14T17:59:44.036Z"
   },
   {
    "duration": 334,
    "start_time": "2022-03-14T18:00:14.260Z"
   },
   {
    "duration": 7,
    "start_time": "2022-03-14T18:13:24.165Z"
   },
   {
    "duration": 17,
    "start_time": "2022-03-14T18:18:44.148Z"
   },
   {
    "duration": 24,
    "start_time": "2022-03-14T18:22:54.169Z"
   },
   {
    "duration": 26,
    "start_time": "2022-03-14T18:22:59.277Z"
   },
   {
    "duration": 28,
    "start_time": "2022-03-14T18:24:13.713Z"
   },
   {
    "duration": 10,
    "start_time": "2022-03-14T18:24:29.736Z"
   },
   {
    "duration": 11,
    "start_time": "2022-03-14T18:24:33.846Z"
   },
   {
    "duration": 11,
    "start_time": "2022-03-14T18:24:39.073Z"
   },
   {
    "duration": 10,
    "start_time": "2022-03-14T18:24:45.930Z"
   },
   {
    "duration": 13,
    "start_time": "2022-03-14T18:24:49.076Z"
   },
   {
    "duration": 10,
    "start_time": "2022-03-14T18:25:08.395Z"
   },
   {
    "duration": 15,
    "start_time": "2022-03-14T18:28:54.302Z"
   },
   {
    "duration": 387,
    "start_time": "2022-03-14T18:29:07.828Z"
   },
   {
    "duration": 14,
    "start_time": "2022-03-14T18:29:29.292Z"
   },
   {
    "duration": 511,
    "start_time": "2022-03-14T18:30:41.136Z"
   },
   {
    "duration": 64,
    "start_time": "2022-03-14T18:30:41.650Z"
   },
   {
    "duration": 191,
    "start_time": "2022-03-14T18:30:41.718Z"
   },
   {
    "duration": 294,
    "start_time": "2022-03-14T18:30:41.912Z"
   },
   {
    "duration": 23,
    "start_time": "2022-03-14T18:30:42.209Z"
   },
   {
    "duration": 184,
    "start_time": "2022-03-14T18:30:42.235Z"
   },
   {
    "duration": 391,
    "start_time": "2022-03-14T18:30:42.421Z"
   },
   {
    "duration": 270,
    "start_time": "2022-03-14T18:30:42.815Z"
   },
   {
    "duration": 188,
    "start_time": "2022-03-14T18:30:43.089Z"
   },
   {
    "duration": 88,
    "start_time": "2022-03-14T18:30:43.280Z"
   },
   {
    "duration": 132,
    "start_time": "2022-03-14T18:30:43.370Z"
   },
   {
    "duration": 152,
    "start_time": "2022-03-14T18:30:43.504Z"
   },
   {
    "duration": 114,
    "start_time": "2022-03-14T18:30:43.659Z"
   },
   {
    "duration": 163,
    "start_time": "2022-03-14T18:30:43.775Z"
   },
   {
    "duration": 247,
    "start_time": "2022-03-14T18:30:43.940Z"
   },
   {
    "duration": 193,
    "start_time": "2022-03-14T18:30:44.190Z"
   },
   {
    "duration": 159,
    "start_time": "2022-03-14T18:30:44.386Z"
   },
   {
    "duration": 238,
    "start_time": "2022-03-14T18:30:44.548Z"
   },
   {
    "duration": 321,
    "start_time": "2022-03-14T18:30:44.788Z"
   },
   {
    "duration": 268,
    "start_time": "2022-03-14T18:30:45.112Z"
   },
   {
    "duration": 368,
    "start_time": "2022-03-14T18:30:45.383Z"
   },
   {
    "duration": 184,
    "start_time": "2022-03-14T18:30:45.754Z"
   },
   {
    "duration": 96,
    "start_time": "2022-03-14T18:30:45.941Z"
   },
   {
    "duration": 144,
    "start_time": "2022-03-14T18:30:46.041Z"
   },
   {
    "duration": 172,
    "start_time": "2022-03-14T18:30:46.188Z"
   },
   {
    "duration": 172,
    "start_time": "2022-03-14T18:30:46.362Z"
   },
   {
    "duration": 303,
    "start_time": "2022-03-14T18:30:46.539Z"
   },
   {
    "duration": 319,
    "start_time": "2022-03-14T18:30:46.845Z"
   },
   {
    "duration": 137,
    "start_time": "2022-03-14T18:30:47.167Z"
   },
   {
    "duration": 194,
    "start_time": "2022-03-14T18:30:47.307Z"
   },
   {
    "duration": 668,
    "start_time": "2022-03-14T18:30:47.504Z"
   },
   {
    "duration": 115,
    "start_time": "2022-03-14T18:30:48.175Z"
   },
   {
    "duration": 5607,
    "start_time": "2022-03-14T18:30:48.292Z"
   },
   {
    "duration": 53,
    "start_time": "2022-03-14T18:30:53.901Z"
   },
   {
    "duration": 510,
    "start_time": "2022-03-14T18:30:53.956Z"
   },
   {
    "duration": 376,
    "start_time": "2022-03-14T18:30:54.469Z"
   },
   {
    "duration": 360,
    "start_time": "2022-03-14T18:30:54.847Z"
   },
   {
    "duration": 15,
    "start_time": "2022-03-14T18:30:55.209Z"
   },
   {
    "duration": 122,
    "start_time": "2022-03-14T18:30:55.226Z"
   },
   {
    "duration": 577,
    "start_time": "2022-03-14T18:30:55.351Z"
   },
   {
    "duration": 97,
    "start_time": "2022-03-15T05:56:27.491Z"
   }
  ],
  "kernelspec": {
   "display_name": "Python 3 (ipykernel)",
   "language": "python",
   "name": "python3"
  },
  "language_info": {
   "codemirror_mode": {
    "name": "ipython",
    "version": 3
   },
   "file_extension": ".py",
   "mimetype": "text/x-python",
   "name": "python",
   "nbconvert_exporter": "python",
   "pygments_lexer": "ipython3",
   "version": "3.9.5"
  },
  "toc": {
   "base_numbering": 1,
   "nav_menu": {},
   "number_sections": true,
   "sideBar": true,
   "skip_h1_title": true,
   "title_cell": "Table of Contents",
   "title_sidebar": "Contents",
   "toc_cell": false,
   "toc_position": {},
   "toc_section_display": true,
   "toc_window_display": false
  }
 },
 "nbformat": 4,
 "nbformat_minor": 2
}
