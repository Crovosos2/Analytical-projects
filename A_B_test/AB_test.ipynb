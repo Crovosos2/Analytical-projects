{
 "cells": [
  {
   "cell_type": "markdown",
   "metadata": {},
   "source": [
    "# Описание\n",
    "Требуется приоритизировать гипотезы, запустить A/B-тест и проанализировать результаты.\n",
    "\n",
    "**Часть 1. Приоритизация гипотез**.<br>\n",
    "В файле * `/datasets/hypothesis.csv` 9 гипотез по увеличению выручки интернет-магазина с указанными параметрами `Reach`, `Impact`, `Confidence`, `Effort`.<br><br>\n",
    "\n",
    "**Задача**<br>\n",
    "• Применить фреймворк `ICE` для приоритизации гипотез. Отсортировать по убыванию приоритета.<br>\n",
    "• Применить фреймворк `RICE` для приоритизации гипотез. Отсортировать по убыванию приоритета.<br>\n",
    "• Указать, как изменилась приоритизация гипотез при применении `RICE` вместо `ICE`. Почему так произошло.<br><br>\n",
    "\n",
    "\n",
    "**Часть 2. Анализ A/B-теста**<br>\n",
    "Проведен A/B-тест и получены результаты, которые описаны в файлах `/datasets/orders.csv` и `/datasets/visitors.csv`.<br><br>\n",
    "\n",
    "\n",
    "**Задача**<br>\n",
    "Проанализировать A/B-тест:<br>\n",
    "1. Построить график кумулятивной выручки по группам. Сделать выводы и предположения.\n",
    "2. Построить график кумулятивного среднего чека по группам. Сделать выводы и предположения.\n",
    "3. Построить график относительного изменения кумулятивного среднего чека группы B к группе A. Сделать выводы и предположения.\n",
    "4. Построить график кумулятивной конверсии по группам. Сделать выводы и предположения.\n",
    "5. Построить график относительного изменения кумулятивной конверсии группы B к группе A. Сделать выводы и предположения.\n",
    "6. Построить точечный график количества заказов по пользователям. Сделать выводы и предположения.\n",
    "7. Посчитать 95-й и 99-й перцентили количества заказов на пользователя. Выбрать границу для определения аномальных пользователей.\n",
    "8. Построить точечный график стоимостей заказов. Сделать выводы и предположения.\n",
    "9. Посчитайте 95-й и 99-й перцентили стоимости заказов. Выбрать границу для определения аномальных заказов.\n",
    "10. Посчитать статистическую значимость различий в конверсии между группами по «сырым» данным. Сделать выводы и предположения.\n",
    "11. Посчитать статистическую значимость различий в среднем чеке заказа между группами по «сырым» данным. Сделать выводы и предположения.\n",
    "12. Посчитать статистическую значимость различий в конверсии между группами по «очищенным» данным. Сделать выводы и предположения.\n",
    "13. Посчитать статистическую значимость различий в среднем чеке заказа между группами по «очищенным» данным. Сделать выводы и предположения.\n",
    "14. Принять решение по результатам теста и объяснить его. Варианты решений: 1. Остановить тест, зафиксировать победу одной из групп. 2. Остановить тест, зафиксировать отсутствие различий между группами. 3. Продолжить тест."
   ]
  },
  {
   "cell_type": "markdown",
   "metadata": {},
   "source": [
    "# Описание данных \n",
    "\n",
    "*Данные для первой части*\n",
    "\n",
    "Файл `/datasets/hypothesis.csv`\n",
    "\n",
    "* `Hypothesis` — краткое описание гипотезы;\n",
    "* `Reach` — охват пользователей по 10-балльной шкале;\n",
    "* `Impact` — влияние на пользователей по 10-балльной шкале;\n",
    "* `Confidence` — уверенность в гипотезе по 10-балльной шкале;\n",
    "* `Efforts` — затраты ресурсов на проверку гипотезы по 10-балльной шкале. Чем больше значение Efforts, тем дороже проверка гипотезы.\n",
    "\n",
    "*Данные для второй части*\n",
    "\n",
    "Файл `/datasets/orders.csv`\n",
    "\n",
    "* `transactionId` — идентификатор заказа;\n",
    "* `visitorId` — идентификатор пользователя, совершившего заказ;\n",
    "* `date` — дата, когда был совершён заказ;\n",
    "* `revenue` — выручка заказа;\n",
    "* `group` — группа A/B-теста, в которую попал заказ.\n",
    "\n",
    "\n",
    "Файл `/datasets/visitors.csv`\n",
    "\n",
    "* `date` — дата;\n",
    "* `group` — группа A/B-теста;\n",
    "* `visitors` — количество пользователей в указанную дату в указанной группе A/B-теста"
   ]
  },
  {
   "cell_type": "markdown",
   "metadata": {},
   "source": [
    "## Приоритизация гипотез."
   ]
  },
  {
   "cell_type": "code",
   "execution_count": 1,
   "metadata": {},
   "outputs": [],
   "source": [
    "import pandas as pd\n",
    "import scipy.stats as stats\n",
    "import datetime as dt\n",
    "import numpy as np\n",
    "import matplotlib.pyplot as plt"
   ]
  },
  {
   "cell_type": "code",
   "execution_count": 2,
   "metadata": {},
   "outputs": [
    {
     "data": {
      "text/html": [
       "<div>\n",
       "<style scoped>\n",
       "    .dataframe tbody tr th:only-of-type {\n",
       "        vertical-align: middle;\n",
       "    }\n",
       "\n",
       "    .dataframe tbody tr th {\n",
       "        vertical-align: top;\n",
       "    }\n",
       "\n",
       "    .dataframe thead th {\n",
       "        text-align: right;\n",
       "    }\n",
       "</style>\n",
       "<table border=\"1\" class=\"dataframe\">\n",
       "  <thead>\n",
       "    <tr style=\"text-align: right;\">\n",
       "      <th></th>\n",
       "      <th>Hypothesis</th>\n",
       "      <th>Reach</th>\n",
       "      <th>Impact</th>\n",
       "      <th>Confidence</th>\n",
       "      <th>Efforts</th>\n",
       "    </tr>\n",
       "  </thead>\n",
       "  <tbody>\n",
       "    <tr>\n",
       "      <th>0</th>\n",
       "      <td>Добавить два новых канала привлечения трафика,...</td>\n",
       "      <td>3</td>\n",
       "      <td>10</td>\n",
       "      <td>8</td>\n",
       "      <td>6</td>\n",
       "    </tr>\n",
       "    <tr>\n",
       "      <th>1</th>\n",
       "      <td>Запустить собственную службу доставки, что сок...</td>\n",
       "      <td>2</td>\n",
       "      <td>5</td>\n",
       "      <td>4</td>\n",
       "      <td>10</td>\n",
       "    </tr>\n",
       "    <tr>\n",
       "      <th>2</th>\n",
       "      <td>Добавить блоки рекомендаций товаров на сайт ин...</td>\n",
       "      <td>8</td>\n",
       "      <td>3</td>\n",
       "      <td>7</td>\n",
       "      <td>3</td>\n",
       "    </tr>\n",
       "    <tr>\n",
       "      <th>3</th>\n",
       "      <td>Изменить структура категорий, что увеличит кон...</td>\n",
       "      <td>8</td>\n",
       "      <td>3</td>\n",
       "      <td>3</td>\n",
       "      <td>8</td>\n",
       "    </tr>\n",
       "    <tr>\n",
       "      <th>4</th>\n",
       "      <td>Изменить цвет фона главной страницы, чтобы уве...</td>\n",
       "      <td>3</td>\n",
       "      <td>1</td>\n",
       "      <td>1</td>\n",
       "      <td>1</td>\n",
       "    </tr>\n",
       "    <tr>\n",
       "      <th>5</th>\n",
       "      <td>Добавить страницу отзывов клиентов о магазине,...</td>\n",
       "      <td>3</td>\n",
       "      <td>2</td>\n",
       "      <td>2</td>\n",
       "      <td>3</td>\n",
       "    </tr>\n",
       "    <tr>\n",
       "      <th>6</th>\n",
       "      <td>Показать на главной странице баннеры с актуаль...</td>\n",
       "      <td>5</td>\n",
       "      <td>3</td>\n",
       "      <td>8</td>\n",
       "      <td>3</td>\n",
       "    </tr>\n",
       "    <tr>\n",
       "      <th>7</th>\n",
       "      <td>Добавить форму подписки на все основные страни...</td>\n",
       "      <td>10</td>\n",
       "      <td>7</td>\n",
       "      <td>8</td>\n",
       "      <td>5</td>\n",
       "    </tr>\n",
       "    <tr>\n",
       "      <th>8</th>\n",
       "      <td>Запустить акцию, дающую скидку на товар в день...</td>\n",
       "      <td>1</td>\n",
       "      <td>9</td>\n",
       "      <td>9</td>\n",
       "      <td>5</td>\n",
       "    </tr>\n",
       "  </tbody>\n",
       "</table>\n",
       "</div>"
      ],
      "text/plain": [
       "                                          Hypothesis  Reach  Impact  \\\n",
       "0  Добавить два новых канала привлечения трафика,...      3      10   \n",
       "1  Запустить собственную службу доставки, что сок...      2       5   \n",
       "2  Добавить блоки рекомендаций товаров на сайт ин...      8       3   \n",
       "3  Изменить структура категорий, что увеличит кон...      8       3   \n",
       "4  Изменить цвет фона главной страницы, чтобы уве...      3       1   \n",
       "5  Добавить страницу отзывов клиентов о магазине,...      3       2   \n",
       "6  Показать на главной странице баннеры с актуаль...      5       3   \n",
       "7  Добавить форму подписки на все основные страни...     10       7   \n",
       "8  Запустить акцию, дающую скидку на товар в день...      1       9   \n",
       "\n",
       "   Confidence  Efforts  \n",
       "0           8        6  \n",
       "1           4       10  \n",
       "2           7        3  \n",
       "3           3        8  \n",
       "4           1        1  \n",
       "5           2        3  \n",
       "6           8        3  \n",
       "7           8        5  \n",
       "8           9        5  "
      ]
     },
     "metadata": {},
     "output_type": "display_data"
    },
    {
     "name": "stdout",
     "output_type": "stream",
     "text": [
      "<class 'pandas.core.frame.DataFrame'>\n",
      "RangeIndex: 9 entries, 0 to 8\n",
      "Data columns (total 5 columns):\n",
      " #   Column      Non-Null Count  Dtype \n",
      "---  ------      --------------  ----- \n",
      " 0   Hypothesis  9 non-null      object\n",
      " 1   Reach       9 non-null      int64 \n",
      " 2   Impact      9 non-null      int64 \n",
      " 3   Confidence  9 non-null      int64 \n",
      " 4   Efforts     9 non-null      int64 \n",
      "dtypes: int64(4), object(1)\n",
      "memory usage: 488.0+ bytes\n"
     ]
    }
   ],
   "source": [
    "# открытие файла с гипотезами и знакомство с данными\n",
    "\n",
    "hypothesis = pd.read_csv('/datasets/hypothesis.csv')\n",
    "display(hypothesis.head(10))\n",
    "hypothesis.info()"
   ]
  },
  {
   "cell_type": "code",
   "execution_count": 3,
   "metadata": {},
   "outputs": [],
   "source": [
    "hypothesis.columns = map(str.lower, hypothesis.columns)"
   ]
  },
  {
   "cell_type": "markdown",
   "metadata": {},
   "source": [
    "### Приоритизация гипотез фреймворком ICE."
   ]
  },
  {
   "cell_type": "code",
   "execution_count": 4,
   "metadata": {},
   "outputs": [
    {
     "data": {
      "text/html": [
       "<div>\n",
       "<style scoped>\n",
       "    .dataframe tbody tr th:only-of-type {\n",
       "        vertical-align: middle;\n",
       "    }\n",
       "\n",
       "    .dataframe tbody tr th {\n",
       "        vertical-align: top;\n",
       "    }\n",
       "\n",
       "    .dataframe thead th {\n",
       "        text-align: right;\n",
       "    }\n",
       "</style>\n",
       "<table border=\"1\" class=\"dataframe\">\n",
       "  <thead>\n",
       "    <tr style=\"text-align: right;\">\n",
       "      <th></th>\n",
       "      <th>hypothesis</th>\n",
       "      <th>ICE</th>\n",
       "    </tr>\n",
       "  </thead>\n",
       "  <tbody>\n",
       "    <tr>\n",
       "      <th>8</th>\n",
       "      <td>Запустить акцию, дающую скидку на товар в день...</td>\n",
       "      <td>16.200000</td>\n",
       "    </tr>\n",
       "    <tr>\n",
       "      <th>0</th>\n",
       "      <td>Добавить два новых канала привлечения трафика,...</td>\n",
       "      <td>13.333333</td>\n",
       "    </tr>\n",
       "    <tr>\n",
       "      <th>7</th>\n",
       "      <td>Добавить форму подписки на все основные страни...</td>\n",
       "      <td>11.200000</td>\n",
       "    </tr>\n",
       "    <tr>\n",
       "      <th>6</th>\n",
       "      <td>Показать на главной странице баннеры с актуаль...</td>\n",
       "      <td>8.000000</td>\n",
       "    </tr>\n",
       "    <tr>\n",
       "      <th>2</th>\n",
       "      <td>Добавить блоки рекомендаций товаров на сайт ин...</td>\n",
       "      <td>7.000000</td>\n",
       "    </tr>\n",
       "    <tr>\n",
       "      <th>1</th>\n",
       "      <td>Запустить собственную службу доставки, что сок...</td>\n",
       "      <td>2.000000</td>\n",
       "    </tr>\n",
       "    <tr>\n",
       "      <th>5</th>\n",
       "      <td>Добавить страницу отзывов клиентов о магазине,...</td>\n",
       "      <td>1.333333</td>\n",
       "    </tr>\n",
       "    <tr>\n",
       "      <th>3</th>\n",
       "      <td>Изменить структура категорий, что увеличит кон...</td>\n",
       "      <td>1.125000</td>\n",
       "    </tr>\n",
       "    <tr>\n",
       "      <th>4</th>\n",
       "      <td>Изменить цвет фона главной страницы, чтобы уве...</td>\n",
       "      <td>1.000000</td>\n",
       "    </tr>\n",
       "  </tbody>\n",
       "</table>\n",
       "</div>"
      ],
      "text/plain": [
       "                                          hypothesis        ICE\n",
       "8  Запустить акцию, дающую скидку на товар в день...  16.200000\n",
       "0  Добавить два новых канала привлечения трафика,...  13.333333\n",
       "7  Добавить форму подписки на все основные страни...  11.200000\n",
       "6  Показать на главной странице баннеры с актуаль...   8.000000\n",
       "2  Добавить блоки рекомендаций товаров на сайт ин...   7.000000\n",
       "1  Запустить собственную службу доставки, что сок...   2.000000\n",
       "5  Добавить страницу отзывов клиентов о магазине,...   1.333333\n",
       "3  Изменить структура категорий, что увеличит кон...   1.125000\n",
       "4  Изменить цвет фона главной страницы, чтобы уве...   1.000000"
      ]
     },
     "metadata": {},
     "output_type": "display_data"
    }
   ],
   "source": [
    "# добавление столбца с результатом приоритизации ICE\n",
    "hypothesis['ICE'] = (hypothesis['impact'] * hypothesis['confidence']) / hypothesis['efforts']\n",
    "display(hypothesis[['hypothesis', 'ICE']].sort_values(by='ICE', ascending=False))"
   ]
  },
  {
   "cell_type": "markdown",
   "metadata": {},
   "source": [
    "<div class=\"alert alert-info\">\n",
    "<b>Комментарий:</b><br>\n",
    "Представлена таблица по убыванию приоритета гипотез, сформированная при помощи фреймворка ICE.\n",
    "</div>"
   ]
  },
  {
   "cell_type": "markdown",
   "metadata": {},
   "source": [
    "### Приоритизация гипотез фреймворком RICE"
   ]
  },
  {
   "cell_type": "code",
   "execution_count": 5,
   "metadata": {},
   "outputs": [
    {
     "data": {
      "text/html": [
       "<div>\n",
       "<style scoped>\n",
       "    .dataframe tbody tr th:only-of-type {\n",
       "        vertical-align: middle;\n",
       "    }\n",
       "\n",
       "    .dataframe tbody tr th {\n",
       "        vertical-align: top;\n",
       "    }\n",
       "\n",
       "    .dataframe thead th {\n",
       "        text-align: right;\n",
       "    }\n",
       "</style>\n",
       "<table border=\"1\" class=\"dataframe\">\n",
       "  <thead>\n",
       "    <tr style=\"text-align: right;\">\n",
       "      <th></th>\n",
       "      <th>hypothesis</th>\n",
       "      <th>RICE</th>\n",
       "    </tr>\n",
       "  </thead>\n",
       "  <tbody>\n",
       "    <tr>\n",
       "      <th>7</th>\n",
       "      <td>Добавить форму подписки на все основные страни...</td>\n",
       "      <td>112.0</td>\n",
       "    </tr>\n",
       "    <tr>\n",
       "      <th>2</th>\n",
       "      <td>Добавить блоки рекомендаций товаров на сайт ин...</td>\n",
       "      <td>56.0</td>\n",
       "    </tr>\n",
       "    <tr>\n",
       "      <th>0</th>\n",
       "      <td>Добавить два новых канала привлечения трафика,...</td>\n",
       "      <td>40.0</td>\n",
       "    </tr>\n",
       "    <tr>\n",
       "      <th>6</th>\n",
       "      <td>Показать на главной странице баннеры с актуаль...</td>\n",
       "      <td>40.0</td>\n",
       "    </tr>\n",
       "    <tr>\n",
       "      <th>8</th>\n",
       "      <td>Запустить акцию, дающую скидку на товар в день...</td>\n",
       "      <td>16.2</td>\n",
       "    </tr>\n",
       "    <tr>\n",
       "      <th>3</th>\n",
       "      <td>Изменить структура категорий, что увеличит кон...</td>\n",
       "      <td>9.0</td>\n",
       "    </tr>\n",
       "    <tr>\n",
       "      <th>1</th>\n",
       "      <td>Запустить собственную службу доставки, что сок...</td>\n",
       "      <td>4.0</td>\n",
       "    </tr>\n",
       "    <tr>\n",
       "      <th>5</th>\n",
       "      <td>Добавить страницу отзывов клиентов о магазине,...</td>\n",
       "      <td>4.0</td>\n",
       "    </tr>\n",
       "    <tr>\n",
       "      <th>4</th>\n",
       "      <td>Изменить цвет фона главной страницы, чтобы уве...</td>\n",
       "      <td>3.0</td>\n",
       "    </tr>\n",
       "  </tbody>\n",
       "</table>\n",
       "</div>"
      ],
      "text/plain": [
       "                                          hypothesis   RICE\n",
       "7  Добавить форму подписки на все основные страни...  112.0\n",
       "2  Добавить блоки рекомендаций товаров на сайт ин...   56.0\n",
       "0  Добавить два новых канала привлечения трафика,...   40.0\n",
       "6  Показать на главной странице баннеры с актуаль...   40.0\n",
       "8  Запустить акцию, дающую скидку на товар в день...   16.2\n",
       "3  Изменить структура категорий, что увеличит кон...    9.0\n",
       "1  Запустить собственную службу доставки, что сок...    4.0\n",
       "5  Добавить страницу отзывов клиентов о магазине,...    4.0\n",
       "4  Изменить цвет фона главной страницы, чтобы уве...    3.0"
      ]
     },
     "metadata": {},
     "output_type": "display_data"
    }
   ],
   "source": [
    "# добавление столбца с результатом приоритизации RICE\n",
    "hypothesis['RICE'] = (hypothesis['reach'] * hypothesis['impact'] * hypothesis['confidence']) / hypothesis['efforts']\n",
    "display(hypothesis[['hypothesis', 'RICE']].sort_values(by='RICE', ascending=False))"
   ]
  },
  {
   "cell_type": "markdown",
   "metadata": {},
   "source": [
    "<div class=\"alert alert-info\">\n",
    "<b>Комментарий:</b><br>\n",
    "Представлена таблица по убыванию приоритета гипотез, сформированная при помощи фреймворка RICE.<br>\n",
    "</div>"
   ]
  },
  {
   "cell_type": "markdown",
   "metadata": {},
   "source": [
    "### Изменение приоритизации. Объяснение"
   ]
  },
  {
   "cell_type": "markdown",
   "metadata": {},
   "source": [
    "В топ-5 приоритетных гипотез остались те же самые гипотезы: 0, 2, 6, 7, 8.<br>\n",
    "На изменение приоритетности при применении `RICE` повлиял компонент `Reach`, показыващий охват пользователей.<br>\n",
    "Следовательно приоритетность поменялась с учетом охвата."
   ]
  },
  {
   "cell_type": "markdown",
   "metadata": {},
   "source": [
    "## Анализ A/B-теста"
   ]
  },
  {
   "cell_type": "code",
   "execution_count": 6,
   "metadata": {},
   "outputs": [],
   "source": [
    "# считывание файлов\n",
    "orders = pd.read_csv('/datasets/orders.csv')\n",
    "visitors = pd.read_csv('/datasets/visitors.csv')"
   ]
  },
  {
   "cell_type": "code",
   "execution_count": 7,
   "metadata": {},
   "outputs": [
    {
     "data": {
      "text/html": [
       "<div>\n",
       "<style scoped>\n",
       "    .dataframe tbody tr th:only-of-type {\n",
       "        vertical-align: middle;\n",
       "    }\n",
       "\n",
       "    .dataframe tbody tr th {\n",
       "        vertical-align: top;\n",
       "    }\n",
       "\n",
       "    .dataframe thead th {\n",
       "        text-align: right;\n",
       "    }\n",
       "</style>\n",
       "<table border=\"1\" class=\"dataframe\">\n",
       "  <thead>\n",
       "    <tr style=\"text-align: right;\">\n",
       "      <th></th>\n",
       "      <th>transactionId</th>\n",
       "      <th>visitorId</th>\n",
       "      <th>date</th>\n",
       "      <th>revenue</th>\n",
       "      <th>group</th>\n",
       "    </tr>\n",
       "  </thead>\n",
       "  <tbody>\n",
       "    <tr>\n",
       "      <th>0</th>\n",
       "      <td>3667963787</td>\n",
       "      <td>3312258926</td>\n",
       "      <td>2019-08-15</td>\n",
       "      <td>1650</td>\n",
       "      <td>B</td>\n",
       "    </tr>\n",
       "    <tr>\n",
       "      <th>1</th>\n",
       "      <td>2804400009</td>\n",
       "      <td>3642806036</td>\n",
       "      <td>2019-08-15</td>\n",
       "      <td>730</td>\n",
       "      <td>B</td>\n",
       "    </tr>\n",
       "    <tr>\n",
       "      <th>2</th>\n",
       "      <td>2961555356</td>\n",
       "      <td>4069496402</td>\n",
       "      <td>2019-08-15</td>\n",
       "      <td>400</td>\n",
       "      <td>A</td>\n",
       "    </tr>\n",
       "    <tr>\n",
       "      <th>3</th>\n",
       "      <td>3797467345</td>\n",
       "      <td>1196621759</td>\n",
       "      <td>2019-08-15</td>\n",
       "      <td>9759</td>\n",
       "      <td>B</td>\n",
       "    </tr>\n",
       "    <tr>\n",
       "      <th>4</th>\n",
       "      <td>2282983706</td>\n",
       "      <td>2322279887</td>\n",
       "      <td>2019-08-15</td>\n",
       "      <td>2308</td>\n",
       "      <td>B</td>\n",
       "    </tr>\n",
       "    <tr>\n",
       "      <th>5</th>\n",
       "      <td>182168103</td>\n",
       "      <td>935554773</td>\n",
       "      <td>2019-08-15</td>\n",
       "      <td>2210</td>\n",
       "      <td>B</td>\n",
       "    </tr>\n",
       "    <tr>\n",
       "      <th>6</th>\n",
       "      <td>398296753</td>\n",
       "      <td>2900797465</td>\n",
       "      <td>2019-08-15</td>\n",
       "      <td>1860</td>\n",
       "      <td>B</td>\n",
       "    </tr>\n",
       "    <tr>\n",
       "      <th>7</th>\n",
       "      <td>2626614568</td>\n",
       "      <td>78758296</td>\n",
       "      <td>2019-08-15</td>\n",
       "      <td>1044</td>\n",
       "      <td>A</td>\n",
       "    </tr>\n",
       "    <tr>\n",
       "      <th>8</th>\n",
       "      <td>1576988021</td>\n",
       "      <td>295230930</td>\n",
       "      <td>2019-08-15</td>\n",
       "      <td>13710</td>\n",
       "      <td>A</td>\n",
       "    </tr>\n",
       "    <tr>\n",
       "      <th>9</th>\n",
       "      <td>1506739906</td>\n",
       "      <td>1882260405</td>\n",
       "      <td>2019-08-15</td>\n",
       "      <td>1855</td>\n",
       "      <td>B</td>\n",
       "    </tr>\n",
       "  </tbody>\n",
       "</table>\n",
       "</div>"
      ],
      "text/plain": [
       "   transactionId   visitorId        date  revenue group\n",
       "0     3667963787  3312258926  2019-08-15     1650     B\n",
       "1     2804400009  3642806036  2019-08-15      730     B\n",
       "2     2961555356  4069496402  2019-08-15      400     A\n",
       "3     3797467345  1196621759  2019-08-15     9759     B\n",
       "4     2282983706  2322279887  2019-08-15     2308     B\n",
       "5      182168103   935554773  2019-08-15     2210     B\n",
       "6      398296753  2900797465  2019-08-15     1860     B\n",
       "7     2626614568    78758296  2019-08-15     1044     A\n",
       "8     1576988021   295230930  2019-08-15    13710     A\n",
       "9     1506739906  1882260405  2019-08-15     1855     B"
      ]
     },
     "metadata": {},
     "output_type": "display_data"
    },
    {
     "name": "stdout",
     "output_type": "stream",
     "text": [
      "<class 'pandas.core.frame.DataFrame'>\n",
      "RangeIndex: 1197 entries, 0 to 1196\n",
      "Data columns (total 5 columns):\n",
      " #   Column         Non-Null Count  Dtype \n",
      "---  ------         --------------  ----- \n",
      " 0   transactionId  1197 non-null   int64 \n",
      " 1   visitorId      1197 non-null   int64 \n",
      " 2   date           1197 non-null   object\n",
      " 3   revenue        1197 non-null   int64 \n",
      " 4   group          1197 non-null   object\n",
      "dtypes: int64(3), object(2)\n",
      "memory usage: 46.9+ KB\n"
     ]
    }
   ],
   "source": [
    "display(orders.head(10))\n",
    "orders.info()"
   ]
  },
  {
   "cell_type": "code",
   "execution_count": 8,
   "metadata": {},
   "outputs": [],
   "source": [
    "# приведение столбца date к нужному типу\n",
    "orders['date'] = orders['date'].map(lambda x: dt.datetime.strptime(x, '%Y-%m-%d'))"
   ]
  },
  {
   "cell_type": "code",
   "execution_count": 9,
   "metadata": {},
   "outputs": [
    {
     "data": {
      "text/html": [
       "<div>\n",
       "<style scoped>\n",
       "    .dataframe tbody tr th:only-of-type {\n",
       "        vertical-align: middle;\n",
       "    }\n",
       "\n",
       "    .dataframe tbody tr th {\n",
       "        vertical-align: top;\n",
       "    }\n",
       "\n",
       "    .dataframe thead th {\n",
       "        text-align: right;\n",
       "    }\n",
       "</style>\n",
       "<table border=\"1\" class=\"dataframe\">\n",
       "  <thead>\n",
       "    <tr style=\"text-align: right;\">\n",
       "      <th></th>\n",
       "      <th>date</th>\n",
       "      <th>group</th>\n",
       "      <th>visitors</th>\n",
       "    </tr>\n",
       "  </thead>\n",
       "  <tbody>\n",
       "    <tr>\n",
       "      <th>0</th>\n",
       "      <td>2019-08-01</td>\n",
       "      <td>A</td>\n",
       "      <td>719</td>\n",
       "    </tr>\n",
       "    <tr>\n",
       "      <th>1</th>\n",
       "      <td>2019-08-02</td>\n",
       "      <td>A</td>\n",
       "      <td>619</td>\n",
       "    </tr>\n",
       "    <tr>\n",
       "      <th>2</th>\n",
       "      <td>2019-08-03</td>\n",
       "      <td>A</td>\n",
       "      <td>507</td>\n",
       "    </tr>\n",
       "    <tr>\n",
       "      <th>3</th>\n",
       "      <td>2019-08-04</td>\n",
       "      <td>A</td>\n",
       "      <td>717</td>\n",
       "    </tr>\n",
       "    <tr>\n",
       "      <th>4</th>\n",
       "      <td>2019-08-05</td>\n",
       "      <td>A</td>\n",
       "      <td>756</td>\n",
       "    </tr>\n",
       "    <tr>\n",
       "      <th>5</th>\n",
       "      <td>2019-08-06</td>\n",
       "      <td>A</td>\n",
       "      <td>667</td>\n",
       "    </tr>\n",
       "    <tr>\n",
       "      <th>6</th>\n",
       "      <td>2019-08-07</td>\n",
       "      <td>A</td>\n",
       "      <td>644</td>\n",
       "    </tr>\n",
       "    <tr>\n",
       "      <th>7</th>\n",
       "      <td>2019-08-08</td>\n",
       "      <td>A</td>\n",
       "      <td>610</td>\n",
       "    </tr>\n",
       "    <tr>\n",
       "      <th>8</th>\n",
       "      <td>2019-08-09</td>\n",
       "      <td>A</td>\n",
       "      <td>617</td>\n",
       "    </tr>\n",
       "    <tr>\n",
       "      <th>9</th>\n",
       "      <td>2019-08-10</td>\n",
       "      <td>A</td>\n",
       "      <td>406</td>\n",
       "    </tr>\n",
       "  </tbody>\n",
       "</table>\n",
       "</div>"
      ],
      "text/plain": [
       "         date group  visitors\n",
       "0  2019-08-01     A       719\n",
       "1  2019-08-02     A       619\n",
       "2  2019-08-03     A       507\n",
       "3  2019-08-04     A       717\n",
       "4  2019-08-05     A       756\n",
       "5  2019-08-06     A       667\n",
       "6  2019-08-07     A       644\n",
       "7  2019-08-08     A       610\n",
       "8  2019-08-09     A       617\n",
       "9  2019-08-10     A       406"
      ]
     },
     "metadata": {},
     "output_type": "display_data"
    },
    {
     "name": "stdout",
     "output_type": "stream",
     "text": [
      "<class 'pandas.core.frame.DataFrame'>\n",
      "RangeIndex: 62 entries, 0 to 61\n",
      "Data columns (total 3 columns):\n",
      " #   Column    Non-Null Count  Dtype \n",
      "---  ------    --------------  ----- \n",
      " 0   date      62 non-null     object\n",
      " 1   group     62 non-null     object\n",
      " 2   visitors  62 non-null     int64 \n",
      "dtypes: int64(1), object(2)\n",
      "memory usage: 1.6+ KB\n"
     ]
    }
   ],
   "source": [
    "display(visitors.head(10))\n",
    "visitors.info()"
   ]
  },
  {
   "cell_type": "code",
   "execution_count": 10,
   "metadata": {},
   "outputs": [],
   "source": [
    "# приведение столбца date к нужному типу\n",
    "visitors['date'] = visitors['date'].map(lambda x: dt.datetime.strptime(x, '%Y-%m-%d'))"
   ]
  },
  {
   "cell_type": "markdown",
   "metadata": {},
   "source": [
    "<div class=\"alert alert-info\">\n",
    "<b>Комментарий V2:</b><br>\n",
    "Ознакомился с данными о заказах и посетителях. Данные приведены к нужному для дальнейшей работы типу<br>\n",
    "</div>"
   ]
  },
  {
   "cell_type": "code",
   "execution_count": 11,
   "metadata": {},
   "outputs": [
    {
     "name": "stdout",
     "output_type": "stream",
     "text": [
      "Число пользователей, находящихся одновременно в двух группах = 92\n"
     ]
    }
   ],
   "source": [
    "# Проверка наличия пользователя в двух группах одновременно\n",
    "a_list = []\n",
    "a_b_list = []\n",
    "for i in range(len(orders)):\n",
    "    if orders['group'][i] == 'A':\n",
    "        a_list.append(orders['visitorId'][i])\n",
    "        \n",
    "for z in range(len(orders)):\n",
    "    if (orders['group'][z] == 'B') and (orders['visitorId'][z] in a_list):\n",
    "        a_b_list.append(orders['visitorId'][z])\n",
    "        \n",
    "print('Число пользователей, находящихся одновременно в двух группах =', len(a_b_list))"
   ]
  },
  {
   "cell_type": "code",
   "execution_count": 12,
   "metadata": {},
   "outputs": [],
   "source": [
    "#orders = orders.query('visitorId not in @a_b_list')"
   ]
  },
  {
   "cell_type": "markdown",
   "metadata": {},
   "source": [
    "### Построение графика кумулятивной выручки по группам"
   ]
  },
  {
   "cell_type": "code",
   "execution_count": 13,
   "metadata": {},
   "outputs": [],
   "source": [
    "# создаем массив уникальных пар значений дат и групп теста\n",
    "datesGroups = orders[['date','group']].drop_duplicates() "
   ]
  },
  {
   "cell_type": "code",
   "execution_count": 14,
   "metadata": {},
   "outputs": [],
   "source": [
    "# Вычислим максимальную дату. Для группы рассчитаем максимум. Найдём число уникальных ID заказов и пользователей. \n",
    "# Подсчитаем сумму средних чеков\n",
    "ordersAggregated = datesGroups.apply(\n",
    "    lambda x: orders[np.logical_and(orders['date'] <= x['date'], orders['group'] == x['group'])]\\\n",
    ".agg({'date' : 'max', 'group' : 'max', 'transactionId' : 'nunique', 'visitorId' : 'nunique', 'revenue' : 'sum'}), axis=1).sort_values(\n",
    "    by=['date','group'])"
   ]
  },
  {
   "cell_type": "code",
   "execution_count": 15,
   "metadata": {},
   "outputs": [],
   "source": [
    "# Аналогично получим агрегированные кумулятивные по дням данные о посетителях интернет-магазина\n",
    "visitorsAggregated = datesGroups.apply(\n",
    "    lambda x: visitors[np.logical_and(visitors['date'] <= x['date'], visitors['group'] == x['group'])]\n",
    "    .agg({'date' : 'max', 'group' : 'max', 'visitors' : 'sum'}), axis=1).sort_values(by=['date','group'])"
   ]
  },
  {
   "cell_type": "code",
   "execution_count": 16,
   "metadata": {},
   "outputs": [
    {
     "name": "stdout",
     "output_type": "stream",
     "text": [
      "        date group  orders  buyers  revenue  visitors\n",
      "0 2019-08-01     A      24      20   148579       719\n",
      "1 2019-08-01     B      21      20   101217       713\n",
      "2 2019-08-02     A      44      38   242401      1338\n",
      "3 2019-08-02     B      45      43   266748      1294\n",
      "4 2019-08-03     A      68      62   354874      1845\n"
     ]
    }
   ],
   "source": [
    "# объединяем кумулятивные данные в одной таблице и присваиваем ее столбцам понятные названия\n",
    "cumulativeData = ordersAggregated.merge(visitorsAggregated, left_on=['date', 'group'], right_on=['date', 'group'])\n",
    "cumulativeData.columns = ['date', 'group', 'orders', 'buyers', 'revenue', 'visitors']\n",
    "\n",
    "print(cumulativeData.head(5)) "
   ]
  },
  {
   "cell_type": "code",
   "execution_count": 17,
   "metadata": {},
   "outputs": [
    {
     "data": {
      "text/plain": [
       "<matplotlib.legend.Legend at 0x7f62477136a0>"
      ]
     },
     "execution_count": 17,
     "metadata": {},
     "output_type": "execute_result"
    },
    {
     "data": {
      "image/png": "[encoded data removed]",
      "text/plain": [
       "<Figure size 432x288 with 1 Axes>"
      ]
     },
     "metadata": {
      "needs_background": "light"
     },
     "output_type": "display_data"
    }
   ],
   "source": [
    "# датафрейм с кумулятивным количеством заказов и кумулятивной выручкой по дням в группе А\n",
    "cumulativeRevenueA = cumulativeData[cumulativeData['group']=='A'][['date','revenue', 'orders']]\n",
    "\n",
    "# датафрейм с кумулятивным количеством заказов и кумулятивной выручкой по дням в группе B\n",
    "cumulativeRevenueB = cumulativeData[cumulativeData['group']=='B'][['date','revenue', 'orders']]\n",
    "\n",
    "# Строим график выручки группы А\n",
    "plt.plot(cumulativeRevenueA['date'], cumulativeRevenueA['revenue'], label='A')\n",
    "plt.xticks(rotation = 45)\n",
    "\n",
    "# Строим график выручки группы B\n",
    "plt.plot(cumulativeRevenueB['date'], cumulativeRevenueB['revenue'], label='B')\n",
    "plt.xticks(rotation = 45)\n",
    "\n",
    "plt.title(\"График кумулятивной выручки по группам\")\n",
    "plt.xlabel(\"Дата\")\n",
    "plt.ylabel(\"Выручка\")\n",
    "plt.legend()"
   ]
  },
  {
   "cell_type": "markdown",
   "metadata": {},
   "source": [
    "<div class=\"alert alert-info\">\n",
    "<b>Комментарий:</b><br>\n",
    "График группы B резко растет в одной точке.<br>\n",
    "Возможно увеличение числа заказов или появление дорогих чеков.\n",
    "</div>"
   ]
  },
  {
   "cell_type": "markdown",
   "metadata": {},
   "source": [
    "### Построение графика кумулятивного среднего чека по группам"
   ]
  },
  {
   "cell_type": "code",
   "execution_count": 18,
   "metadata": {},
   "outputs": [
    {
     "data": {
      "text/plain": [
       "<matplotlib.legend.Legend at 0x7f624737da30>"
      ]
     },
     "execution_count": 18,
     "metadata": {},
     "output_type": "execute_result"
    },
    {
     "data": {
      "image/png": "[encoded data removed]",
      "text/plain": [
       "<Figure size 432x288 with 1 Axes>"
      ]
     },
     "metadata": {
      "needs_background": "light"
     },
     "output_type": "display_data"
    }
   ],
   "source": [
    "plt.plot(cumulativeRevenueA['date'], cumulativeRevenueA['revenue']/cumulativeRevenueA['orders'], label='A')\n",
    "plt.plot(cumulativeRevenueB['date'], cumulativeRevenueB['revenue']/cumulativeRevenueB['orders'], label='B')\n",
    "plt.xticks(rotation = 45)\n",
    "plt.title(\"График кумулятивного среднего чека по группам\")\n",
    "plt.xlabel(\"Дата\")\n",
    "plt.ylabel(\"Средний чек\")\n",
    "plt.legend()"
   ]
  },
  {
   "cell_type": "markdown",
   "metadata": {},
   "source": [
    "<div class=\"alert alert-info\">\n",
    "<b>Комментарий:</b><br>\n",
    "На протяжении времени группа A начинает выравниваться к середине теста. В начале имеет более низкий средний чек.<br>\n",
    "У группы B есть несколько скачков среднего чека. К середине теста происходит сильный скачок. Возможно осуществление очень дорогой покупки.\n",
    "</div>"
   ]
  },
  {
   "cell_type": "markdown",
   "metadata": {},
   "source": [
    "### Построение графика относительного изменения кумулятивного среднего чека группы B к группе A."
   ]
  },
  {
   "cell_type": "code",
   "execution_count": 19,
   "metadata": {},
   "outputs": [
    {
     "data": {
      "text/plain": [
       "Text(0.5, 0, 'Дата')"
      ]
     },
     "execution_count": 19,
     "metadata": {},
     "output_type": "execute_result"
    },
    {
     "data": {
      "image/png": "[encoded data removed]",
      "text/plain": [
       "<Figure size 432x288 with 1 Axes>"
      ]
     },
     "metadata": {
      "needs_background": "light"
     },
     "output_type": "display_data"
    }
   ],
   "source": [
    "# собираем данные в одном датафрейме\n",
    "mergedCumulativeRevenue = cumulativeRevenueA.merge(\n",
    "    cumulativeRevenueB, left_on='date', right_on='date', how='left', suffixes=['A', 'B'])\n",
    "\n",
    "# cтроим отношение средних чеков\n",
    "plt.plot(mergedCumulativeRevenue['date'], (mergedCumulativeRevenue['revenueB']/mergedCumulativeRevenue['ordersB'])\n",
    "         /(mergedCumulativeRevenue['revenueA']/mergedCumulativeRevenue['ordersA'])-1)\n",
    "plt.xticks(rotation = 45)\n",
    "\n",
    "# добавляем ось X\n",
    "plt.axhline(y=0, color='black', linestyle='--')\n",
    "plt.title(\"График относительного изменения кумулятивного среднего чека группы В к группе А\")\n",
    "plt.xlabel(\"Дата\")"
   ]
  },
  {
   "cell_type": "markdown",
   "metadata": {},
   "source": [
    "<div class=\"alert alert-info\">\n",
    "<b>Комментарий:</b><br>\n",
    "В нескольких точках график различия между сегментами резко скачет. Где-то имеются крупные заказы и выбросы.\n",
    "</div>"
   ]
  },
  {
   "cell_type": "markdown",
   "metadata": {},
   "source": [
    "### Построение графика кумулятивной конверсии по группам"
   ]
  },
  {
   "cell_type": "code",
   "execution_count": 20,
   "metadata": {},
   "outputs": [
    {
     "data": {
      "text/plain": [
       "(18109.0, 18140.0, 0.0, 0.05)"
      ]
     },
     "execution_count": 20,
     "metadata": {},
     "output_type": "execute_result"
    },
    {
     "data": {
      "image/png": "[encoded data removed]",
      "text/plain": [
       "<Figure size 432x288 with 1 Axes>"
      ]
     },
     "metadata": {
      "needs_background": "light"
     },
     "output_type": "display_data"
    }
   ],
   "source": [
    "# считаем кумулятивную конверсию\n",
    "cumulativeData['conversion'] = cumulativeData['orders']/cumulativeData['visitors']\n",
    "\n",
    "\n",
    "# отделяем данные по группе A\n",
    "cumulativeDataA = cumulativeData[cumulativeData['group']=='A']\n",
    "\n",
    "# отделяем данные по группе B\n",
    "cumulativeDataB = cumulativeData[cumulativeData['group']=='B']\n",
    "\n",
    "# строим графики\n",
    "plt.plot(cumulativeDataA['date'], cumulativeDataA['conversion'], label='A')\n",
    "plt.plot(cumulativeDataB['date'], cumulativeDataB['conversion'], label='B')\n",
    "plt.xticks(rotation = 45)\n",
    "plt.title(\"График кумулятивной конверсии по группам\")\n",
    "plt.xlabel(\"Дата\")\n",
    "plt.ylabel(\"Конверсия\")\n",
    "plt.legend()\n",
    "\n",
    "# задаем масштаб осей\n",
    "plt.axis([dt.datetime(2019, 8, 1), dt.datetime(2019, 9, 1), 0, 0.05])"
   ]
  },
  {
   "cell_type": "markdown",
   "metadata": {},
   "source": [
    "<div class=\"alert alert-info\">\n",
    "<b>Комментарий:</b><br>\n",
    "Конверсия группы B в первые дни выбилась вперед и зафиксировалась.\n",
    "</div>"
   ]
  },
  {
   "cell_type": "markdown",
   "metadata": {},
   "source": [
    "### Построение графика относительного изменения кумулятивной конверсии группы B к группе A."
   ]
  },
  {
   "cell_type": "code",
   "execution_count": 21,
   "metadata": {},
   "outputs": [
    {
     "data": {
      "text/plain": [
       "(18109.0, 18140.0, -0.3, 0.6)"
      ]
     },
     "execution_count": 21,
     "metadata": {},
     "output_type": "execute_result"
    },
    {
     "data": {
      "image/png": "[encoded data removed]",
      "text/plain": [
       "<Figure size 432x288 with 1 Axes>"
      ]
     },
     "metadata": {
      "needs_background": "light"
     },
     "output_type": "display_data"
    }
   ],
   "source": [
    "mergedCumulativeConversions = cumulativeDataA[['date','conversion']].merge(\n",
    "    cumulativeDataB[['date','conversion']], left_on='date', right_on='date', how='left', suffixes=['A', 'B'])\n",
    "\n",
    "plt.plot(mergedCumulativeConversions['date'], mergedCumulativeConversions['conversionB']/\n",
    "         mergedCumulativeConversions['conversionA']-1, label=\"Относительный прирост конверсии группы B относительно группы A\")\n",
    "plt.legend()\n",
    "\n",
    "plt.axhline(y=0, color='black', linestyle='--')\n",
    "plt.axhline(y=0.1, color='grey', linestyle='--')\n",
    "plt.xticks(rotation = 45)\n",
    "plt.xlabel(\"Дата\")\n",
    "plt.axis([dt.datetime(2019, 8, 1), dt.datetime(2019, 9, 1), -0.3, 0.6])"
   ]
  },
  {
   "cell_type": "markdown",
   "metadata": {},
   "source": [
    "<div class=\"alert alert-info\">\n",
    "<b>Комментарий:</b><br>\n",
    "Конверсия группы B в первые дни проигрывала, но выбилась вверх и, в целом, дердится на уровне.\n",
    "</div>"
   ]
  },
  {
   "cell_type": "markdown",
   "metadata": {},
   "source": [
    "### Построение точечного графика количества заказов по пользователям."
   ]
  },
  {
   "cell_type": "code",
   "execution_count": 22,
   "metadata": {},
   "outputs": [
    {
     "data": {
      "text/plain": [
       "<matplotlib.collections.PathCollection at 0x7f62469d5d90>"
      ]
     },
     "execution_count": 22,
     "metadata": {},
     "output_type": "execute_result"
    },
    {
     "data": {
      "image/png": "[encoded data removed]",
      "text/plain": [
       "<Figure size 432x288 with 1 Axes>"
      ]
     },
     "metadata": {
      "needs_background": "light"
     },
     "output_type": "display_data"
    }
   ],
   "source": [
    "ordersByUsers = (\n",
    "    orders.groupby('visitorId', as_index=False)\n",
    "    .agg({'transactionId': 'nunique'})\n",
    ")\n",
    "ordersByUsers.columns = ['userId', 'orders']\n",
    "\n",
    "# серия из чисел от 0 до количества наблюдений в ordersByUsers\n",
    "x_values = pd.Series(range(0, len(ordersByUsers)))\n",
    "plt.scatter(x_values, ordersByUsers['orders']) "
   ]
  },
  {
   "cell_type": "markdown",
   "metadata": {},
   "source": [
    "<div class=\"alert alert-info\">\n",
    "<b>Комментарий:</b><br>\n",
    "В основном клиенты делают до 2х заказов. \n",
    "</div>"
   ]
  },
  {
   "cell_type": "markdown",
   "metadata": {},
   "source": [
    "### Подсчёт 95-го и 99-го перцентиля количества заказов на пользователя. Выбор границы для определения аномальных пользователей."
   ]
  },
  {
   "cell_type": "code",
   "execution_count": 23,
   "metadata": {},
   "outputs": [
    {
     "name": "stdout",
     "output_type": "stream",
     "text": [
      "[2. 4.]\n"
     ]
    }
   ],
   "source": [
    "print(np.percentile(ordersByUsers['orders'], [95, 99]))\n",
    "need_orders = np.percentile(ordersByUsers['orders'], [95, 99])[1]"
   ]
  },
  {
   "cell_type": "markdown",
   "metadata": {},
   "source": [
    "<div class=\"alert alert-info\">\n",
    "<b>Комментарий:</b><br>\n",
    "Не более 5 процентов пользователей делают более 2-х заказов.<br>\n",
    "Границей возьмем пользователей с количетсвом заказов до 2-х включительно.\n",
    "</div>"
   ]
  },
  {
   "cell_type": "markdown",
   "metadata": {},
   "source": [
    "### Построение точечного графика стоимостей заказов."
   ]
  },
  {
   "cell_type": "code",
   "execution_count": 24,
   "metadata": {},
   "outputs": [
    {
     "data": {
      "text/plain": [
       "<matplotlib.collections.PathCollection at 0x7f62469491f0>"
      ]
     },
     "execution_count": 24,
     "metadata": {},
     "output_type": "execute_result"
    },
    {
     "data": {
      "image/png": "[encoded data removed]",
      "text/plain": [
       "<Figure size 360x720 with 1 Axes>"
      ]
     },
     "metadata": {
      "needs_background": "light"
     },
     "output_type": "display_data"
    }
   ],
   "source": [
    "x_values = pd.Series(range(0,len(orders['revenue'])))\n",
    "plt.figure(figsize=(5, 10))\n",
    "plt.scatter(x_values, orders['revenue']) "
   ]
  },
  {
   "cell_type": "markdown",
   "metadata": {},
   "source": [
    "<div class=\"alert alert-info\">\n",
    "<b>Комментарий:</b><br>\n",
    "На графике видно лишь 2 сильно выбивающихся заказа по своей стоимости.\n",
    "</div>"
   ]
  },
  {
   "cell_type": "code",
   "execution_count": 25,
   "metadata": {},
   "outputs": [
    {
     "data": {
      "text/plain": [
       "(500.0, 1000.0)"
      ]
     },
     "execution_count": 25,
     "metadata": {},
     "output_type": "execute_result"
    },
    {
     "data": {
      "image/png": "[encoded data removed]",
      "text/plain": [
       "<Figure size 432x288 with 1 Axes>"
      ]
     },
     "metadata": {
      "needs_background": "light"
     },
     "output_type": "display_data"
    }
   ],
   "source": [
    "plt.scatter(x_values, orders['revenue']) \n",
    "plt.xlim([500, 1000])"
   ]
  },
  {
   "cell_type": "markdown",
   "metadata": {},
   "source": [
    "### Подсчёт 95-го и 99-го перцентиля стоимости заказов. Выбор границы для определения аномальных заказов."
   ]
  },
  {
   "cell_type": "code",
   "execution_count": 26,
   "metadata": {},
   "outputs": [
    {
     "name": "stdout",
     "output_type": "stream",
     "text": [
      "[28000.  58233.2]\n"
     ]
    }
   ],
   "source": [
    "print(np.percentile(orders['revenue'], [95, 99]))\n",
    "need_revenue = np.percentile(orders['revenue'], [95, 99])[1]"
   ]
  },
  {
   "cell_type": "markdown",
   "metadata": {},
   "source": [
    "<div class=\"alert alert-info\">\n",
    "<b>Комментарий:</b><br>\n",
    "Отбросим 1% пользователей, чья стоимость заказов сильно превышает стоимость остальных покупателей (дороже 54к)\n",
    "</div>"
   ]
  },
  {
   "cell_type": "markdown",
   "metadata": {},
   "source": [
    "### Подсчёт статистической значимости различий в конверсии между группами по «сырым» данным"
   ]
  },
  {
   "cell_type": "code",
   "execution_count": 27,
   "metadata": {},
   "outputs": [
    {
     "name": "stdout",
     "output_type": "stream",
     "text": [
      "        date  ordersPerDateA  revenuePerDateA  ordersPerDateB  \\\n",
      "0 2019-08-01              24           148579              21   \n",
      "1 2019-08-02              20            93822              24   \n",
      "2 2019-08-03              24           112473              16   \n",
      "3 2019-08-04              16            70825              17   \n",
      "4 2019-08-05              25           124218              23   \n",
      "\n",
      "   revenuePerDateB  ordersCummulativeA  revenueCummulativeA  \\\n",
      "0           101217                  24               148579   \n",
      "1           165531                  44               242401   \n",
      "2           114248                  68               354874   \n",
      "3           108571                  84               425699   \n",
      "4            92428                 109               549917   \n",
      "\n",
      "   ordersCummulativeB  revenueCummulativeB  visitorsPerDateA  \\\n",
      "0                  21               101217               719   \n",
      "1                  45               266748               619   \n",
      "2                  61               380996               507   \n",
      "3                  78               489567               717   \n",
      "4                 101               581995               756   \n",
      "\n",
      "   visitorsPerDateB  visitorsCummulativeA  visitorsCummulativeB  \n",
      "0               713                   719                   713  \n",
      "1               581                  1338                  1294  \n",
      "2               509                  1845                  1803  \n",
      "3               770                  2562                  2573  \n",
      "4               707                  3318                  3280  \n"
     ]
    }
   ],
   "source": [
    "# Подготовка данных\n",
    "\n",
    "visitorsADaily = visitors[visitors['group'] == 'A'][['date', 'visitors']]\n",
    "visitorsADaily.columns = ['date', 'visitorsPerDateA']\n",
    "\n",
    "visitorsACummulative = visitorsADaily.apply(\n",
    "    lambda x: visitorsADaily[visitorsADaily['date'] <= x['date']].agg(\n",
    "        {'date': 'max', 'visitorsPerDateA': 'sum'}\n",
    "    ),\n",
    "    axis=1,\n",
    ")\n",
    "visitorsACummulative.columns = ['date', 'visitorsCummulativeA']\n",
    "\n",
    "visitorsBDaily = visitors[visitors['group'] == 'B'][['date', 'visitors']]\n",
    "visitorsBDaily.columns = ['date', 'visitorsPerDateB']\n",
    "\n",
    "visitorsBCummulative = visitorsBDaily.apply(\n",
    "    lambda x: visitorsBDaily[visitorsBDaily['date'] <= x['date']].agg(\n",
    "        {'date': 'max', 'visitorsPerDateB': 'sum'}\n",
    "    ),\n",
    "    axis=1,\n",
    ")\n",
    "visitorsBCummulative.columns = ['date', 'visitorsCummulativeB']\n",
    "\n",
    "ordersADaily = (\n",
    "    orders[orders['group'] == 'A'][['date', 'transactionId', 'visitorId', 'revenue']]\n",
    "    .groupby('date', as_index=False)\n",
    "    .agg({'transactionId': pd.Series.nunique, 'revenue': 'sum'})\n",
    ")\n",
    "ordersADaily.columns = ['date', 'ordersPerDateA', 'revenuePerDateA']\n",
    "\n",
    "ordersACummulative = ordersADaily.apply(\n",
    "    lambda x: ordersADaily[ordersADaily['date'] <= x['date']].agg(\n",
    "        {'date': 'max', 'ordersPerDateA': 'sum', 'revenuePerDateA': 'sum'}\n",
    "    ),\n",
    "    axis=1,\n",
    ").sort_values(by=['date'])\n",
    "ordersACummulative.columns = [\n",
    "    'date',\n",
    "    'ordersCummulativeA',\n",
    "    'revenueCummulativeA',\n",
    "]\n",
    "\n",
    "ordersBDaily = (\n",
    "    orders[orders['group'] == 'B'][['date', 'transactionId', 'visitorId', 'revenue']]\n",
    "    .groupby('date', as_index=False)\n",
    "    .agg({'transactionId': pd.Series.nunique, 'revenue': 'sum'})\n",
    ")\n",
    "ordersBDaily.columns = ['date', 'ordersPerDateB', 'revenuePerDateB']\n",
    "\n",
    "ordersBCummulative = ordersBDaily.apply(\n",
    "    lambda x: ordersBDaily[ordersBDaily['date'] <= x['date']].agg(\n",
    "        {'date': 'max', 'ordersPerDateB': 'sum', 'revenuePerDateB': 'sum'}\n",
    "    ),\n",
    "    axis=1,\n",
    ").sort_values(by=['date'])\n",
    "ordersBCummulative.columns = [\n",
    "    'date',\n",
    "    'ordersCummulativeB',\n",
    "    'revenueCummulativeB',\n",
    "]\n",
    "\n",
    "data = (\n",
    "    ordersADaily.merge(\n",
    "        ordersBDaily, left_on='date', right_on='date', how='left'\n",
    "    )\n",
    "    .merge(ordersACummulative, left_on='date', right_on='date', how='left')\n",
    "    .merge(ordersBCummulative, left_on='date', right_on='date', how='left')\n",
    "    .merge(visitorsADaily, left_on='date', right_on='date', how='left')\n",
    "    .merge(visitorsBDaily, left_on='date', right_on='date', how='left')\n",
    "    .merge(visitorsACummulative, left_on='date', right_on='date', how='left')\n",
    "    .merge(visitorsBCummulative, left_on='date', right_on='date', how='left')\n",
    ")\n",
    "\n",
    "print(data.head(5)) "
   ]
  },
  {
   "cell_type": "markdown",
   "metadata": {},
   "source": [
    "* `date` — дата;\n",
    "* `ordersPerDateA` — количество заказов в выбранную дату в группе A;\n",
    "* `revenuePerDateA` — суммарная выручка в выбранную дату в группе A;\n",
    "* `ordersPerDateB` — количество заказов в выбранную дату в группе B;\n",
    "* `revenuePerDateB` — суммарная выручка в выбранную дату в группе B;\n",
    "* `ordersCummulativeA` — суммарное число заказов до выбранной даты включительно в группе A;\n",
    "* `revenueCummulativeA` — суммарная выручка до выбранной даты включительно в группе A;\n",
    "* `ordersCummulativeB` — суммарное количество заказов до выбранной даты включительно в группе B;\n",
    "* `revenueCummulativeB` — суммарная выручка до выбранной даты включительно в группе B;\n",
    "* `visitorsPerDateA` — количество пользователей в выбранную дату в группе A;\n",
    "* `visitorsPerDateB` — количество пользователей в выбранную дату в группе B;\n",
    "* `visitorsCummulativeA` — количество пользователей до выбранной даты включительно в группе A;\n",
    "* `visitorsCummulativeB` — количество пользователей до выбранной даты включительно в группе B."
   ]
  },
  {
   "cell_type": "markdown",
   "metadata": {},
   "source": [
    "<div class=\"alert alert-info\">\n",
    "<b>Комментарий:</b><br>\n",
    "Сформулируем гипотезы.<br>\n",
    "Нулевая: различий в конверсии между группами нет. <br>\n",
    "Альтернативная: различия в конверсии между группами есть.\n",
    "</div>"
   ]
  },
  {
   "cell_type": "code",
   "execution_count": 28,
   "metadata": {},
   "outputs": [
    {
     "name": "stdout",
     "output_type": "stream",
     "text": [
      "0.017\n",
      "Отвергаем нулевую гипотезу\n",
      "\n",
      "0.138\n"
     ]
    }
   ],
   "source": [
    "ordersByUsersA = (\n",
    "    orders[orders['group'] == 'A']\n",
    "    .groupby('visitorId', as_index=False)\n",
    "    .agg({'transactionId': pd.Series.nunique})\n",
    ")\n",
    "ordersByUsersA.columns = ['userId', 'orders']\n",
    "\n",
    "ordersByUsersB = (\n",
    "    orders[orders['group'] == 'B']\n",
    "    .groupby('visitorId', as_index=False)\n",
    "    .agg({'transactionId': pd.Series.nunique})\n",
    ")\n",
    "ordersByUsersB.columns = ['userId', 'orders']\n",
    "\n",
    "# Объявим переменные sampleA и sampleB, в которых пользователям из разных групп будет соответствовать количество заказов\n",
    "sampleA = pd.concat(\n",
    "    [\n",
    "        ordersByUsersA['orders'],\n",
    "        pd.Series(\n",
    "            0,\n",
    "            index=np.arange(\n",
    "                data['visitorsPerDateA'].sum() - len(ordersByUsersA['orders'])\n",
    "            ),\n",
    "            name='orders',\n",
    "        ),\n",
    "    ],\n",
    "    axis=0,\n",
    ")\n",
    "\n",
    "sampleB = pd.concat(\n",
    "    [\n",
    "        ordersByUsersB['orders'],\n",
    "        pd.Series(\n",
    "            0,\n",
    "            index=np.arange(\n",
    "                data['visitorsPerDateB'].sum() - len(ordersByUsersB['orders'])\n",
    "            ),\n",
    "            name='orders',\n",
    "        ),\n",
    "    ],\n",
    "    axis=0,\n",
    ")\n",
    "\n",
    "alpha = 0.05\n",
    "pvalue = stats.mannwhitneyu(sampleA, sampleB)[1]\n",
    "\n",
    "print(\"{0:.3f}\".format(pvalue))\n",
    "if pvalue < alpha:\n",
    "    print('Отвергаем нулевую гипотезу')\n",
    "else:\n",
    "    print('Не можем отвергнуть гипотезу')\n",
    "\n",
    "print()\n",
    "print(\"{0:.3f}\".format(sampleB.mean() / sampleA.mean() - 1))\n"
   ]
  },
  {
   "cell_type": "markdown",
   "metadata": {},
   "source": [
    "<div class=\"alert alert-info\">\n",
    "<b>Комментарий:</b><br>\n",
    "Вывод: По «сырым» данным различий в конверсии групп A и B есть.\n",
    "Нулевую гипотезу о том, что статистически значимых различий в конверсии между группами нет, отвергаем, т.к p-value (0,017) < 0.05<br> \n",
    "Однако относительная победа группы B равна 13.8% — второе число в выводе.\n",
    "</div>"
   ]
  },
  {
   "cell_type": "markdown",
   "metadata": {},
   "source": [
    "### Подсчёт статистической значимости различий в среднем чеке заказа между группами по «сырым» данным."
   ]
  },
  {
   "cell_type": "markdown",
   "metadata": {},
   "source": [
    "<div class=\"alert alert-info\">\n",
    "<b>Комментарий:</b><br>\n",
    "Нулевая гипотеза: различий в среднем чеке между группами нет.<br>\n",
    "Альтернативная гипотеза: различия в среднем чеке между группами есть.\n",
    "</div>"
   ]
  },
  {
   "cell_type": "code",
   "execution_count": 29,
   "metadata": {},
   "outputs": [
    {
     "name": "stdout",
     "output_type": "stream",
     "text": [
      "0.729\n",
      "Не можем отвергнуть гипотезу\n",
      "\n",
      "0.259\n"
     ]
    }
   ],
   "source": [
    "alpha = 0.05\n",
    "pvalue = stats.mannwhitneyu(orders[orders['group']=='A']['revenue'], orders[orders['group']=='B']['revenue'])[1]\n",
    "\n",
    "print('{0:.3f}'.format(pvalue))\n",
    "if pvalue < alpha:\n",
    "    print('Отвергаем нулевую гипотезу')\n",
    "else:\n",
    "    print('Не можем отвергнуть гипотезу')\n",
    "\n",
    "print()\n",
    "print('{0:.3f}'.format(orders[orders['group']=='B']['revenue'].mean()/orders[orders['group']=='A']['revenue'].mean()-1))"
   ]
  },
  {
   "cell_type": "markdown",
   "metadata": {},
   "source": [
    "<div class=\"alert alert-info\">\n",
    "<b>Комментарий:</b><br>\n",
    "P-value значительно больше 0.05. Значит, причин отвергать нулевую гипотезу и считать, что в среднем чеке есть различия, нет.<br>\n",
    "Впрочем, средний чек группы B значительно выше среднего чека группы A.\n",
    "</div>"
   ]
  },
  {
   "cell_type": "markdown",
   "metadata": {},
   "source": [
    "<div class=\"alert alert-info\">\n",
    "<b>Комментарий V2:</b><br>\n",
    "Прирост в 26% может быть обусловлен аномалиями. К тому же присутствует в группе В один очень крупный заказ.\n",
    "</div>"
   ]
  },
  {
   "cell_type": "markdown",
   "metadata": {},
   "source": [
    "### Подсчёт статистической значимости различий в конверсии между группами по «очищенным» данным"
   ]
  },
  {
   "cell_type": "code",
   "execution_count": 30,
   "metadata": {},
   "outputs": [
    {
     "name": "stdout",
     "output_type": "stream",
     "text": [
      "15\n"
     ]
    }
   ],
   "source": [
    "# Примем за аномальных пользователей тех, кто совершил больше 2 заказов или совершил заказ дороже 58 000 рублей.\n",
    "\n",
    "usersWithManyOrders = pd.concat(\n",
    "    [\n",
    "        ordersByUsersA[ordersByUsersA['orders'] > need_orders]['userId'],\n",
    "        ordersByUsersB[ordersByUsersB['orders'] > need_orders]['userId'],\n",
    "    ],\n",
    "    axis=0,\n",
    ")\n",
    "usersWithExpensiveOrders = orders[orders['revenue'] > need_revenue]['visitorId']\n",
    "abnormalUsers = (\n",
    "    pd.concat([usersWithManyOrders, usersWithExpensiveOrders], axis=0)\n",
    "    .drop_duplicates()\n",
    "    .sort_values()\n",
    ")\n",
    "print(abnormalUsers.shape[0])"
   ]
  },
  {
   "cell_type": "code",
   "execution_count": 31,
   "metadata": {},
   "outputs": [
    {
     "name": "stdout",
     "output_type": "stream",
     "text": [
      "0.014\n",
      "0.153\n"
     ]
    }
   ],
   "source": [
    "# Всего 31 аномальных пользователей. Узнаем, как их действия повлияли на результаты теста\n",
    "\n",
    "# Подготовка выборки количества заказов по пользователям по группам теста\n",
    "sampleAFiltered = pd.concat(\n",
    "    [\n",
    "        ordersByUsersA[\n",
    "            np.logical_not(ordersByUsersA['userId'].isin(abnormalUsers))\n",
    "        ]['orders'],\n",
    "        pd.Series(\n",
    "            0,\n",
    "            index=np.arange(\n",
    "                data['visitorsPerDateA'].sum() - len(ordersByUsersA['orders'])\n",
    "            ),\n",
    "            name='orders',\n",
    "        ),\n",
    "    ],\n",
    "    axis=0,\n",
    ")\n",
    "\n",
    "sampleBFiltered = pd.concat(\n",
    "    [\n",
    "        ordersByUsersB[\n",
    "            np.logical_not(ordersByUsersB['userId'].isin(abnormalUsers))\n",
    "        ]['orders'],\n",
    "        pd.Series(\n",
    "            0,\n",
    "            index=np.arange(\n",
    "                data['visitorsPerDateB'].sum() - len(ordersByUsersB['orders'])\n",
    "            ),\n",
    "            name='orders',\n",
    "        ),\n",
    "    ],\n",
    "    axis=0,\n",
    ")\n",
    "\n",
    "print('{0:.3f}'.format(stats.mannwhitneyu(sampleAFiltered, sampleBFiltered)[1]))\n",
    "print('{0:.3f}'.format(sampleBFiltered.mean()/sampleAFiltered.mean()-1))"
   ]
  },
  {
   "cell_type": "markdown",
   "metadata": {},
   "source": [
    "<div class=\"alert alert-info\">\n",
    "<b>Комментарий:</b><br>\n",
    "Результаты по конверсии практически не изменились.\n",
    "</div>"
   ]
  },
  {
   "cell_type": "markdown",
   "metadata": {},
   "source": [
    "### Подсчёт статистической значимости различий в среднем чеке заказа между группами по «очищенным» данным."
   ]
  },
  {
   "cell_type": "code",
   "execution_count": 32,
   "metadata": {},
   "outputs": [
    {
     "name": "stdout",
     "output_type": "stream",
     "text": [
      "0.851\n",
      "-0.006\n"
     ]
    }
   ],
   "source": [
    "print(\n",
    "    '{0:.3f}'.format(\n",
    "        stats.mannwhitneyu(\n",
    "            orders[\n",
    "                np.logical_and(\n",
    "                    orders['group'] == 'A',\n",
    "                    np.logical_not(orders['visitorId'].isin(abnormalUsers)),\n",
    "                )\n",
    "            ]['revenue'],\n",
    "            orders[\n",
    "                np.logical_and(\n",
    "                    orders['group'] == 'B',\n",
    "                    np.logical_not(orders['visitorId'].isin(abnormalUsers)),\n",
    "                )\n",
    "            ]['revenue'],\n",
    "        )[1]\n",
    "    )\n",
    ")\n",
    "\n",
    "print(\n",
    "    \"{0:.3f}\".format(\n",
    "        orders[\n",
    "            np.logical_and(\n",
    "                orders['group'] == 'B',\n",
    "                np.logical_not(orders['visitorId'].isin(abnormalUsers)),\n",
    "            )\n",
    "        ]['revenue'].mean()\n",
    "        / orders[\n",
    "            np.logical_and(\n",
    "                orders['group'] == 'A',\n",
    "                np.logical_not(orders['visitorId'].isin(abnormalUsers)),\n",
    "            )\n",
    "        ]['revenue'].mean()\n",
    "        - 1\n",
    "    )\n",
    ")"
   ]
  },
  {
   "cell_type": "markdown",
   "metadata": {},
   "source": [
    "<div class=\"alert alert-info\">\n",
    "<b>Комментарий:</b><br>\n",
    "P-value немного уменьшился, разница между сегментами изменилась на 28% (с 26% до -2%) и ушла в отрицательную сторону.\n",
    "</div>"
   ]
  },
  {
   "cell_type": "markdown",
   "metadata": {},
   "source": [
    "### Принятие решения по результатам теста"
   ]
  },
  {
   "cell_type": "markdown",
   "metadata": {},
   "source": [
    "<div class=\"alert alert-info\">\n",
    "<b>Комментарий V2:</b><br>\n",
    "Имеющиеся факты:\n",
    "Есть статистически значимые различия по конверсии между группами по «сырым» и по данным после фильтрации аномалий;<br>\n",
    "Нет статистически значимых различия по среднему чеку между группами по «сырым» и по данным после фильтрации аномалий, однако изменился прирост;<br>\n",
    "График различия конверсии между группами сообщает, что результаты группы B лучше группы A.<br><br>\n",
    "    \n",
    "В следствии того, что удалось отвергнуть одну из гипотез в пользу группы В, предлагаю остановить тест.    \n",
    "</div>"
   ]
  },
  {
   "cell_type": "code",
   "execution_count": null,
   "metadata": {},
   "outputs": [],
   "source": []
  }
 ],
 "metadata": {
  "ExecuteTimeLog": [
   {
    "duration": 838,
    "start_time": "2022-04-27T07:18:59.383Z"
   },
   {
    "duration": 49,
    "start_time": "2022-04-27T07:22:01.315Z"
   },
   {
    "duration": 85,
    "start_time": "2022-04-27T07:31:11.513Z"
   },
   {
    "duration": 3,
    "start_time": "2022-04-27T07:31:28.937Z"
   },
   {
    "duration": 8,
    "start_time": "2022-04-27T07:31:36.598Z"
   },
   {
    "duration": 3,
    "start_time": "2022-04-27T07:31:41.578Z"
   },
   {
    "duration": 13,
    "start_time": "2022-04-27T07:33:23.710Z"
   },
   {
    "duration": 11,
    "start_time": "2022-04-27T07:38:07.047Z"
   },
   {
    "duration": 68,
    "start_time": "2022-04-27T07:50:18.497Z"
   },
   {
    "duration": 8,
    "start_time": "2022-04-27T07:50:28.898Z"
   },
   {
    "duration": 17,
    "start_time": "2022-04-27T07:50:37.017Z"
   },
   {
    "duration": 5,
    "start_time": "2022-04-27T07:55:40.047Z"
   },
   {
    "duration": 11,
    "start_time": "2022-04-27T07:55:45.280Z"
   },
   {
    "duration": 8,
    "start_time": "2022-04-27T07:55:52.997Z"
   },
   {
    "duration": 15,
    "start_time": "2022-04-27T07:56:23.223Z"
   },
   {
    "duration": 3,
    "start_time": "2022-04-27T07:56:42.889Z"
   },
   {
    "duration": 6,
    "start_time": "2022-04-27T08:19:52.278Z"
   },
   {
    "duration": 112,
    "start_time": "2022-04-27T08:22:53.821Z"
   },
   {
    "duration": 25,
    "start_time": "2022-04-27T08:23:08.436Z"
   },
   {
    "duration": 164,
    "start_time": "2022-04-27T08:24:06.472Z"
   },
   {
    "duration": 107,
    "start_time": "2022-04-27T08:24:26.764Z"
   },
   {
    "duration": 109,
    "start_time": "2022-04-27T08:24:31.029Z"
   },
   {
    "duration": 159,
    "start_time": "2022-04-27T08:24:36.935Z"
   },
   {
    "duration": 2,
    "start_time": "2022-04-27T08:24:41.493Z"
   },
   {
    "duration": 34,
    "start_time": "2022-04-27T08:24:41.497Z"
   },
   {
    "duration": 3,
    "start_time": "2022-04-27T08:24:41.533Z"
   },
   {
    "duration": 13,
    "start_time": "2022-04-27T08:24:41.538Z"
   },
   {
    "duration": 14,
    "start_time": "2022-04-27T08:24:41.554Z"
   },
   {
    "duration": 35,
    "start_time": "2022-04-27T08:24:41.574Z"
   },
   {
    "duration": 18,
    "start_time": "2022-04-27T08:24:41.611Z"
   },
   {
    "duration": 4,
    "start_time": "2022-04-27T08:24:41.631Z"
   },
   {
    "duration": 17,
    "start_time": "2022-04-27T08:24:41.637Z"
   },
   {
    "duration": 17,
    "start_time": "2022-04-27T08:24:41.657Z"
   },
   {
    "duration": 9,
    "start_time": "2022-04-27T08:24:41.675Z"
   },
   {
    "duration": 160,
    "start_time": "2022-04-27T08:24:43.587Z"
   },
   {
    "duration": 125,
    "start_time": "2022-04-27T08:25:42.361Z"
   },
   {
    "duration": 10,
    "start_time": "2022-04-27T08:28:11.844Z"
   },
   {
    "duration": 462,
    "start_time": "2022-04-27T08:29:23.454Z"
   },
   {
    "duration": 247,
    "start_time": "2022-04-27T08:30:47.228Z"
   },
   {
    "duration": 174,
    "start_time": "2022-04-27T08:31:09.373Z"
   },
   {
    "duration": 160,
    "start_time": "2022-04-27T08:31:19.775Z"
   },
   {
    "duration": 179,
    "start_time": "2022-04-27T08:32:52.325Z"
   },
   {
    "duration": 172,
    "start_time": "2022-04-27T08:37:44.598Z"
   },
   {
    "duration": 169,
    "start_time": "2022-04-27T08:37:54.628Z"
   },
   {
    "duration": 361,
    "start_time": "2022-04-27T08:44:19.433Z"
   },
   {
    "duration": 3,
    "start_time": "2022-04-27T08:48:24.859Z"
   },
   {
    "duration": 37,
    "start_time": "2022-04-27T08:48:24.864Z"
   },
   {
    "duration": 3,
    "start_time": "2022-04-27T08:48:24.903Z"
   },
   {
    "duration": 16,
    "start_time": "2022-04-27T08:48:24.908Z"
   },
   {
    "duration": 27,
    "start_time": "2022-04-27T08:48:24.925Z"
   },
   {
    "duration": 41,
    "start_time": "2022-04-27T08:48:24.954Z"
   },
   {
    "duration": 18,
    "start_time": "2022-04-27T08:48:24.997Z"
   },
   {
    "duration": 17,
    "start_time": "2022-04-27T08:48:25.017Z"
   },
   {
    "duration": 30,
    "start_time": "2022-04-27T08:48:25.036Z"
   },
   {
    "duration": 16,
    "start_time": "2022-04-27T08:48:25.068Z"
   },
   {
    "duration": 27,
    "start_time": "2022-04-27T08:48:25.086Z"
   },
   {
    "duration": 173,
    "start_time": "2022-04-27T08:48:25.115Z"
   },
   {
    "duration": 120,
    "start_time": "2022-04-27T08:48:25.289Z"
   },
   {
    "duration": 9,
    "start_time": "2022-04-27T08:48:25.411Z"
   },
   {
    "duration": 205,
    "start_time": "2022-04-27T08:48:25.421Z"
   },
   {
    "duration": 258,
    "start_time": "2022-04-27T08:48:25.627Z"
   },
   {
    "duration": 272,
    "start_time": "2022-04-27T08:48:25.887Z"
   },
   {
    "duration": 220,
    "start_time": "2022-04-27T08:49:45.668Z"
   },
   {
    "duration": 175,
    "start_time": "2022-04-27T08:50:22.563Z"
   },
   {
    "duration": 123,
    "start_time": "2022-04-27T08:50:42.111Z"
   },
   {
    "duration": 168,
    "start_time": "2022-04-27T08:50:48.497Z"
   },
   {
    "duration": 197,
    "start_time": "2022-04-27T08:50:58.811Z"
   },
   {
    "duration": 10,
    "start_time": "2022-04-27T08:51:29.186Z"
   },
   {
    "duration": 9,
    "start_time": "2022-04-27T08:51:55.346Z"
   },
   {
    "duration": 194,
    "start_time": "2022-04-27T08:52:17.038Z"
   },
   {
    "duration": 195,
    "start_time": "2022-04-27T08:54:14.095Z"
   },
   {
    "duration": 5,
    "start_time": "2022-04-27T08:54:54.484Z"
   },
   {
    "duration": 11,
    "start_time": "2022-04-27T08:55:17.035Z"
   },
   {
    "duration": 1864,
    "start_time": "2022-04-27T08:55:54.795Z"
   },
   {
    "duration": 2050,
    "start_time": "2022-04-27T08:56:47.985Z"
   },
   {
    "duration": 5,
    "start_time": "2022-04-27T08:57:26.002Z"
   },
   {
    "duration": 11,
    "start_time": "2022-04-27T08:57:40.863Z"
   },
   {
    "duration": 12,
    "start_time": "2022-04-27T08:57:46.093Z"
   },
   {
    "duration": 200,
    "start_time": "2022-04-27T08:59:28.415Z"
   },
   {
    "duration": 3,
    "start_time": "2022-04-27T08:59:48.567Z"
   },
   {
    "duration": 35,
    "start_time": "2022-04-27T08:59:48.572Z"
   },
   {
    "duration": 3,
    "start_time": "2022-04-27T08:59:48.609Z"
   },
   {
    "duration": 19,
    "start_time": "2022-04-27T08:59:48.614Z"
   },
   {
    "duration": 18,
    "start_time": "2022-04-27T08:59:48.636Z"
   },
   {
    "duration": 31,
    "start_time": "2022-04-27T08:59:48.656Z"
   },
   {
    "duration": 18,
    "start_time": "2022-04-27T08:59:48.689Z"
   },
   {
    "duration": 6,
    "start_time": "2022-04-27T08:59:48.709Z"
   },
   {
    "duration": 24,
    "start_time": "2022-04-27T08:59:48.716Z"
   },
   {
    "duration": 5,
    "start_time": "2022-04-27T08:59:48.742Z"
   },
   {
    "duration": 29,
    "start_time": "2022-04-27T08:59:48.749Z"
   },
   {
    "duration": 170,
    "start_time": "2022-04-27T08:59:48.780Z"
   },
   {
    "duration": 136,
    "start_time": "2022-04-27T08:59:48.952Z"
   },
   {
    "duration": 11,
    "start_time": "2022-04-27T08:59:49.091Z"
   },
   {
    "duration": 211,
    "start_time": "2022-04-27T08:59:49.104Z"
   },
   {
    "duration": 195,
    "start_time": "2022-04-27T08:59:49.317Z"
   },
   {
    "duration": 406,
    "start_time": "2022-04-27T08:59:49.515Z"
   },
   {
    "duration": 11,
    "start_time": "2022-04-27T09:00:19.451Z"
   },
   {
    "duration": 19,
    "start_time": "2022-04-27T09:00:37.195Z"
   },
   {
    "duration": 11,
    "start_time": "2022-04-27T09:01:51.969Z"
   },
   {
    "duration": 10,
    "start_time": "2022-04-27T09:01:59.911Z"
   },
   {
    "duration": 11,
    "start_time": "2022-04-27T09:02:03.980Z"
   },
   {
    "duration": 5,
    "start_time": "2022-04-27T09:03:06.486Z"
   },
   {
    "duration": 5,
    "start_time": "2022-04-27T09:03:23.580Z"
   },
   {
    "duration": 220,
    "start_time": "2022-04-27T09:03:53.553Z"
   },
   {
    "duration": 211,
    "start_time": "2022-04-27T09:04:37.782Z"
   },
   {
    "duration": 20,
    "start_time": "2022-04-27T09:04:44.711Z"
   },
   {
    "duration": 3,
    "start_time": "2022-04-27T09:06:45.565Z"
   },
   {
    "duration": 34,
    "start_time": "2022-04-27T09:06:45.570Z"
   },
   {
    "duration": 3,
    "start_time": "2022-04-27T09:06:45.605Z"
   },
   {
    "duration": 14,
    "start_time": "2022-04-27T09:06:45.610Z"
   },
   {
    "duration": 13,
    "start_time": "2022-04-27T09:06:45.625Z"
   },
   {
    "duration": 34,
    "start_time": "2022-04-27T09:06:45.640Z"
   },
   {
    "duration": 17,
    "start_time": "2022-04-27T09:06:45.675Z"
   },
   {
    "duration": 6,
    "start_time": "2022-04-27T09:06:45.694Z"
   },
   {
    "duration": 20,
    "start_time": "2022-04-27T09:06:45.702Z"
   },
   {
    "duration": 3,
    "start_time": "2022-04-27T09:06:45.724Z"
   },
   {
    "duration": 9,
    "start_time": "2022-04-27T09:06:45.729Z"
   },
   {
    "duration": 164,
    "start_time": "2022-04-27T09:06:45.774Z"
   },
   {
    "duration": 135,
    "start_time": "2022-04-27T09:06:45.939Z"
   },
   {
    "duration": 11,
    "start_time": "2022-04-27T09:06:46.076Z"
   },
   {
    "duration": 211,
    "start_time": "2022-04-27T09:06:46.089Z"
   },
   {
    "duration": 189,
    "start_time": "2022-04-27T09:06:46.302Z"
   },
   {
    "duration": 264,
    "start_time": "2022-04-27T09:06:46.493Z"
   },
   {
    "duration": 164,
    "start_time": "2022-04-27T09:06:50.589Z"
   },
   {
    "duration": 120,
    "start_time": "2022-04-27T09:13:31.244Z"
   },
   {
    "duration": 132,
    "start_time": "2022-04-27T09:13:36.086Z"
   },
   {
    "duration": 116,
    "start_time": "2022-04-27T09:13:46.232Z"
   },
   {
    "duration": 106,
    "start_time": "2022-04-27T09:13:53.047Z"
   },
   {
    "duration": 273,
    "start_time": "2022-04-27T09:13:58.021Z"
   },
   {
    "duration": 293,
    "start_time": "2022-04-27T09:14:24.701Z"
   },
   {
    "duration": 319,
    "start_time": "2022-04-27T09:15:35.072Z"
   },
   {
    "duration": 280,
    "start_time": "2022-04-27T09:15:45.701Z"
   },
   {
    "duration": 290,
    "start_time": "2022-04-27T09:15:54.799Z"
   },
   {
    "duration": 449,
    "start_time": "2022-04-27T09:16:29.744Z"
   },
   {
    "duration": 116,
    "start_time": "2022-04-27T09:25:56.611Z"
   },
   {
    "duration": 5,
    "start_time": "2022-04-27T09:29:01.775Z"
   },
   {
    "duration": 120,
    "start_time": "2022-04-27T09:33:20.640Z"
   },
   {
    "duration": 4,
    "start_time": "2022-04-27T09:33:45.760Z"
   },
   {
    "duration": 104,
    "start_time": "2022-04-27T09:35:12.711Z"
   },
   {
    "duration": 155,
    "start_time": "2022-04-27T09:36:06.567Z"
   },
   {
    "duration": 137,
    "start_time": "2022-04-27T09:36:17.849Z"
   },
   {
    "duration": 4,
    "start_time": "2022-04-27T09:36:45.845Z"
   },
   {
    "duration": 5,
    "start_time": "2022-04-27T09:36:50.682Z"
   },
   {
    "duration": 5,
    "start_time": "2022-04-27T09:37:02.454Z"
   },
   {
    "duration": 4,
    "start_time": "2022-04-27T09:39:34.673Z"
   },
   {
    "duration": 5,
    "start_time": "2022-04-27T09:44:04.616Z"
   },
   {
    "duration": 9,
    "start_time": "2022-04-27T09:44:31.427Z"
   },
   {
    "duration": 8,
    "start_time": "2022-04-27T09:44:38.452Z"
   },
   {
    "duration": 9,
    "start_time": "2022-04-27T09:44:42.066Z"
   },
   {
    "duration": 7,
    "start_time": "2022-04-27T09:44:47.855Z"
   },
   {
    "duration": 8,
    "start_time": "2022-04-27T09:44:50.613Z"
   },
   {
    "duration": 8,
    "start_time": "2022-04-27T09:44:53.555Z"
   },
   {
    "duration": 9,
    "start_time": "2022-04-27T09:45:02.985Z"
   },
   {
    "duration": 106,
    "start_time": "2022-04-27T09:52:43.582Z"
   },
   {
    "duration": 226,
    "start_time": "2022-04-27T09:53:23.511Z"
   },
   {
    "duration": 139,
    "start_time": "2022-04-27T09:56:27.998Z"
   },
   {
    "duration": 4,
    "start_time": "2022-04-27T09:57:56.318Z"
   },
   {
    "duration": 31,
    "start_time": "2022-04-27T09:57:56.324Z"
   },
   {
    "duration": 2,
    "start_time": "2022-04-27T09:57:56.357Z"
   },
   {
    "duration": 13,
    "start_time": "2022-04-27T09:57:56.361Z"
   },
   {
    "duration": 12,
    "start_time": "2022-04-27T09:57:56.377Z"
   },
   {
    "duration": 32,
    "start_time": "2022-04-27T09:57:56.391Z"
   },
   {
    "duration": 15,
    "start_time": "2022-04-27T09:57:56.424Z"
   },
   {
    "duration": 4,
    "start_time": "2022-04-27T09:57:56.441Z"
   },
   {
    "duration": 29,
    "start_time": "2022-04-27T09:57:56.446Z"
   },
   {
    "duration": 4,
    "start_time": "2022-04-27T09:57:56.476Z"
   },
   {
    "duration": 11,
    "start_time": "2022-04-27T09:57:56.481Z"
   },
   {
    "duration": 165,
    "start_time": "2022-04-27T09:57:56.493Z"
   },
   {
    "duration": 135,
    "start_time": "2022-04-27T09:57:56.661Z"
   },
   {
    "duration": 10,
    "start_time": "2022-04-27T09:57:56.797Z"
   },
   {
    "duration": 199,
    "start_time": "2022-04-27T09:57:56.809Z"
   },
   {
    "duration": 188,
    "start_time": "2022-04-27T09:57:57.010Z"
   },
   {
    "duration": 274,
    "start_time": "2022-04-27T09:57:57.199Z"
   },
   {
    "duration": 187,
    "start_time": "2022-04-27T09:57:57.475Z"
   },
   {
    "duration": 322,
    "start_time": "2022-04-27T09:57:57.663Z"
   },
   {
    "duration": 128,
    "start_time": "2022-04-27T09:57:57.987Z"
   },
   {
    "duration": 5,
    "start_time": "2022-04-27T09:57:58.116Z"
   },
   {
    "duration": 153,
    "start_time": "2022-04-27T09:57:58.122Z"
   },
   {
    "duration": 4,
    "start_time": "2022-04-27T09:57:58.277Z"
   },
   {
    "duration": 226,
    "start_time": "2022-04-27T09:57:58.282Z"
   },
   {
    "duration": 153,
    "start_time": "2022-04-27T10:00:10.953Z"
   },
   {
    "duration": 11,
    "start_time": "2022-04-27T10:21:59.490Z"
   },
   {
    "duration": 11,
    "start_time": "2022-04-27T10:27:31.513Z"
   },
   {
    "duration": 1961,
    "start_time": "2022-04-27T10:30:30.573Z"
   },
   {
    "duration": 1837,
    "start_time": "2022-04-27T10:30:50.319Z"
   },
   {
    "duration": 1836,
    "start_time": "2022-04-27T10:31:12.345Z"
   },
   {
    "duration": 1798,
    "start_time": "2022-04-27T10:31:39.229Z"
   },
   {
    "duration": 9,
    "start_time": "2022-04-27T10:32:24.614Z"
   },
   {
    "duration": 3,
    "start_time": "2022-04-27T10:34:19.639Z"
   },
   {
    "duration": 41,
    "start_time": "2022-04-27T10:34:19.644Z"
   },
   {
    "duration": 3,
    "start_time": "2022-04-27T10:34:19.686Z"
   },
   {
    "duration": 14,
    "start_time": "2022-04-27T10:34:19.691Z"
   },
   {
    "duration": 12,
    "start_time": "2022-04-27T10:34:19.707Z"
   },
   {
    "duration": 33,
    "start_time": "2022-04-27T10:34:19.720Z"
   },
   {
    "duration": 28,
    "start_time": "2022-04-27T10:34:19.755Z"
   },
   {
    "duration": 5,
    "start_time": "2022-04-27T10:34:19.784Z"
   },
   {
    "duration": 19,
    "start_time": "2022-04-27T10:34:19.791Z"
   },
   {
    "duration": 4,
    "start_time": "2022-04-27T10:34:19.812Z"
   },
   {
    "duration": 14,
    "start_time": "2022-04-27T10:34:19.817Z"
   },
   {
    "duration": 194,
    "start_time": "2022-04-27T10:34:19.832Z"
   },
   {
    "duration": 127,
    "start_time": "2022-04-27T10:34:20.028Z"
   },
   {
    "duration": 22,
    "start_time": "2022-04-27T10:34:20.157Z"
   },
   {
    "duration": 318,
    "start_time": "2022-04-27T10:34:20.180Z"
   },
   {
    "duration": 192,
    "start_time": "2022-04-27T10:34:20.500Z"
   },
   {
    "duration": 260,
    "start_time": "2022-04-27T10:34:20.694Z"
   },
   {
    "duration": 194,
    "start_time": "2022-04-27T10:34:20.956Z"
   },
   {
    "duration": 341,
    "start_time": "2022-04-27T10:34:21.152Z"
   },
   {
    "duration": 123,
    "start_time": "2022-04-27T10:34:21.494Z"
   },
   {
    "duration": 4,
    "start_time": "2022-04-27T10:34:21.619Z"
   },
   {
    "duration": 150,
    "start_time": "2022-04-27T10:34:21.625Z"
   },
   {
    "duration": 5,
    "start_time": "2022-04-27T10:34:21.777Z"
   },
   {
    "duration": 244,
    "start_time": "2022-04-27T10:34:21.785Z"
   },
   {
    "duration": 166,
    "start_time": "2022-04-27T10:34:22.031Z"
   },
   {
    "duration": 10,
    "start_time": "2022-04-27T10:34:22.199Z"
   },
   {
    "duration": 11,
    "start_time": "2022-04-27T10:34:24.130Z"
   },
   {
    "duration": 9,
    "start_time": "2022-04-27T10:34:34.411Z"
   },
   {
    "duration": 27,
    "start_time": "2022-04-27T10:35:52.910Z"
   },
   {
    "duration": 12,
    "start_time": "2022-04-27T10:36:45.177Z"
   },
   {
    "duration": 27,
    "start_time": "2022-04-27T10:36:46.427Z"
   },
   {
    "duration": 8,
    "start_time": "2022-04-27T10:36:55.798Z"
   },
   {
    "duration": 26,
    "start_time": "2022-04-27T10:36:57.065Z"
   },
   {
    "duration": 1911,
    "start_time": "2022-04-27T10:41:29.828Z"
   },
   {
    "duration": 1930,
    "start_time": "2022-04-27T10:41:51.545Z"
   },
   {
    "duration": 14,
    "start_time": "2022-04-27T10:42:03.148Z"
   },
   {
    "duration": 124,
    "start_time": "2022-04-28T09:57:19.282Z"
   },
   {
    "duration": 1635,
    "start_time": "2022-04-29T07:38:20.757Z"
   },
   {
    "duration": 120,
    "start_time": "2022-04-29T07:38:22.396Z"
   },
   {
    "duration": 4,
    "start_time": "2022-04-29T07:38:22.518Z"
   },
   {
    "duration": 38,
    "start_time": "2022-04-29T07:38:22.525Z"
   },
   {
    "duration": 16,
    "start_time": "2022-04-29T07:38:22.565Z"
   },
   {
    "duration": 30,
    "start_time": "2022-04-29T07:38:22.583Z"
   },
   {
    "duration": 18,
    "start_time": "2022-04-29T07:38:22.614Z"
   },
   {
    "duration": 711,
    "start_time": "2022-04-29T07:38:26.678Z"
   },
   {
    "duration": 18,
    "start_time": "2022-04-29T07:38:42.452Z"
   },
   {
    "duration": 12,
    "start_time": "2022-04-29T07:38:57.125Z"
   },
   {
    "duration": 11,
    "start_time": "2022-04-29T07:39:02.612Z"
   },
   {
    "duration": 4,
    "start_time": "2022-04-29T07:40:07.532Z"
   },
   {
    "duration": 3,
    "start_time": "2022-04-29T08:01:27.833Z"
   },
   {
    "duration": 33,
    "start_time": "2022-04-29T08:01:27.838Z"
   },
   {
    "duration": 3,
    "start_time": "2022-04-29T08:01:27.872Z"
   },
   {
    "duration": 15,
    "start_time": "2022-04-29T08:01:27.876Z"
   },
   {
    "duration": 10,
    "start_time": "2022-04-29T08:01:27.917Z"
   },
   {
    "duration": 36,
    "start_time": "2022-04-29T08:01:27.929Z"
   },
   {
    "duration": 16,
    "start_time": "2022-04-29T08:01:27.966Z"
   },
   {
    "duration": 11,
    "start_time": "2022-04-29T08:01:27.984Z"
   },
   {
    "duration": 18,
    "start_time": "2022-04-29T08:01:27.997Z"
   },
   {
    "duration": 11,
    "start_time": "2022-04-29T08:01:28.017Z"
   },
   {
    "duration": 25,
    "start_time": "2022-04-29T08:01:28.030Z"
   },
   {
    "duration": 154,
    "start_time": "2022-04-29T08:01:28.056Z"
   },
   {
    "duration": 114,
    "start_time": "2022-04-29T08:01:28.211Z"
   },
   {
    "duration": 9,
    "start_time": "2022-04-29T08:01:28.327Z"
   },
   {
    "duration": 215,
    "start_time": "2022-04-29T08:07:44.320Z"
   },
   {
    "duration": 3,
    "start_time": "2022-04-29T08:07:47.287Z"
   },
   {
    "duration": 30,
    "start_time": "2022-04-29T08:07:47.291Z"
   },
   {
    "duration": 3,
    "start_time": "2022-04-29T08:07:47.323Z"
   },
   {
    "duration": 13,
    "start_time": "2022-04-29T08:07:47.328Z"
   },
   {
    "duration": 12,
    "start_time": "2022-04-29T08:07:47.343Z"
   },
   {
    "duration": 29,
    "start_time": "2022-04-29T08:07:47.356Z"
   },
   {
    "duration": 15,
    "start_time": "2022-04-29T08:07:47.387Z"
   },
   {
    "duration": 15,
    "start_time": "2022-04-29T08:07:47.403Z"
   },
   {
    "duration": 17,
    "start_time": "2022-04-29T08:07:47.419Z"
   },
   {
    "duration": 4,
    "start_time": "2022-04-29T08:07:47.437Z"
   },
   {
    "duration": 5,
    "start_time": "2022-04-29T08:07:47.454Z"
   },
   {
    "duration": 168,
    "start_time": "2022-04-29T08:07:47.461Z"
   },
   {
    "duration": 126,
    "start_time": "2022-04-29T08:07:47.631Z"
   },
   {
    "duration": 11,
    "start_time": "2022-04-29T08:07:47.758Z"
   },
   {
    "duration": 135,
    "start_time": "2022-04-29T08:07:49.396Z"
   },
   {
    "duration": 130,
    "start_time": "2022-04-29T08:08:09.083Z"
   },
   {
    "duration": 179,
    "start_time": "2022-04-29T08:09:37.595Z"
   },
   {
    "duration": 192,
    "start_time": "2022-04-29T08:11:08.671Z"
   },
   {
    "duration": 365,
    "start_time": "2022-04-29T08:11:44.426Z"
   },
   {
    "duration": 294,
    "start_time": "2022-04-29T08:12:01.474Z"
   },
   {
    "duration": 3,
    "start_time": "2022-04-29T08:12:20.831Z"
   },
   {
    "duration": 54,
    "start_time": "2022-04-29T08:12:20.836Z"
   },
   {
    "duration": 2,
    "start_time": "2022-04-29T08:12:20.892Z"
   },
   {
    "duration": 30,
    "start_time": "2022-04-29T08:12:20.896Z"
   },
   {
    "duration": 46,
    "start_time": "2022-04-29T08:12:20.927Z"
   },
   {
    "duration": 43,
    "start_time": "2022-04-29T08:12:20.974Z"
   },
   {
    "duration": 16,
    "start_time": "2022-04-29T08:12:21.019Z"
   },
   {
    "duration": 33,
    "start_time": "2022-04-29T08:12:21.037Z"
   },
   {
    "duration": 28,
    "start_time": "2022-04-29T08:12:21.073Z"
   },
   {
    "duration": 25,
    "start_time": "2022-04-29T08:12:21.103Z"
   },
   {
    "duration": 21,
    "start_time": "2022-04-29T08:12:21.130Z"
   },
   {
    "duration": 163,
    "start_time": "2022-04-29T08:12:21.153Z"
   },
   {
    "duration": 122,
    "start_time": "2022-04-29T08:12:21.318Z"
   },
   {
    "duration": 18,
    "start_time": "2022-04-29T08:12:21.442Z"
   },
   {
    "duration": 201,
    "start_time": "2022-04-29T08:12:21.462Z"
   },
   {
    "duration": 185,
    "start_time": "2022-04-29T08:12:21.665Z"
   },
   {
    "duration": 379,
    "start_time": "2022-04-29T08:12:21.851Z"
   },
   {
    "duration": 171,
    "start_time": "2022-04-29T08:13:06.885Z"
   },
   {
    "duration": 293,
    "start_time": "2022-04-29T08:13:54.551Z"
   },
   {
    "duration": 265,
    "start_time": "2022-04-29T08:14:55.401Z"
   },
   {
    "duration": 3,
    "start_time": "2022-04-29T08:33:12.937Z"
   },
   {
    "duration": 45,
    "start_time": "2022-04-29T08:33:12.942Z"
   },
   {
    "duration": 4,
    "start_time": "2022-04-29T08:33:12.988Z"
   },
   {
    "duration": 33,
    "start_time": "2022-04-29T08:33:12.994Z"
   },
   {
    "duration": 25,
    "start_time": "2022-04-29T08:33:13.028Z"
   },
   {
    "duration": 35,
    "start_time": "2022-04-29T08:33:13.055Z"
   },
   {
    "duration": 16,
    "start_time": "2022-04-29T08:33:13.092Z"
   },
   {
    "duration": 23,
    "start_time": "2022-04-29T08:33:13.109Z"
   },
   {
    "duration": 35,
    "start_time": "2022-04-29T08:33:13.135Z"
   },
   {
    "duration": 22,
    "start_time": "2022-04-29T08:33:13.171Z"
   },
   {
    "duration": 28,
    "start_time": "2022-04-29T08:33:13.195Z"
   },
   {
    "duration": 159,
    "start_time": "2022-04-29T08:33:13.225Z"
   },
   {
    "duration": 124,
    "start_time": "2022-04-29T08:33:13.386Z"
   },
   {
    "duration": 32,
    "start_time": "2022-04-29T08:33:13.512Z"
   },
   {
    "duration": 192,
    "start_time": "2022-04-29T08:33:13.546Z"
   },
   {
    "duration": 181,
    "start_time": "2022-04-29T08:33:13.740Z"
   },
   {
    "duration": 337,
    "start_time": "2022-04-29T08:33:13.923Z"
   },
   {
    "duration": 177,
    "start_time": "2022-04-29T08:33:14.262Z"
   },
   {
    "duration": 326,
    "start_time": "2022-04-29T08:33:14.440Z"
   },
   {
    "duration": 115,
    "start_time": "2022-04-29T08:33:14.767Z"
   },
   {
    "duration": 4,
    "start_time": "2022-04-29T08:33:14.883Z"
   },
   {
    "duration": 91,
    "start_time": "2022-04-29T09:22:47.874Z"
   },
   {
    "duration": 117,
    "start_time": "2022-04-29T09:22:57.185Z"
   },
   {
    "duration": 189,
    "start_time": "2022-04-29T09:23:17.624Z"
   },
   {
    "duration": 93,
    "start_time": "2022-04-29T09:23:22.902Z"
   },
   {
    "duration": 145,
    "start_time": "2022-04-29T09:24:41.000Z"
   },
   {
    "duration": 99,
    "start_time": "2022-04-29T09:24:47.298Z"
   },
   {
    "duration": 10,
    "start_time": "2022-04-29T09:25:19.926Z"
   },
   {
    "duration": 111,
    "start_time": "2022-04-29T09:26:43.266Z"
   },
   {
    "duration": 120,
    "start_time": "2022-04-29T09:26:51.887Z"
   },
   {
    "duration": 109,
    "start_time": "2022-04-29T09:27:30.281Z"
   },
   {
    "duration": 108,
    "start_time": "2022-04-29T09:27:41.325Z"
   },
   {
    "duration": 97,
    "start_time": "2022-04-29T09:28:25.199Z"
   },
   {
    "duration": 100,
    "start_time": "2022-04-29T09:28:51.421Z"
   },
   {
    "duration": 118,
    "start_time": "2022-04-29T09:29:59.036Z"
   },
   {
    "duration": 129,
    "start_time": "2022-04-29T09:30:08.234Z"
   },
   {
    "duration": 125,
    "start_time": "2022-04-29T09:30:26.044Z"
   },
   {
    "duration": 118,
    "start_time": "2022-04-29T09:30:34.818Z"
   },
   {
    "duration": 122,
    "start_time": "2022-04-29T09:30:43.964Z"
   },
   {
    "duration": 135,
    "start_time": "2022-04-29T09:30:57.821Z"
   },
   {
    "duration": 120,
    "start_time": "2022-04-29T09:31:20.257Z"
   },
   {
    "duration": 247,
    "start_time": "2022-04-29T09:31:27.451Z"
   },
   {
    "duration": 107,
    "start_time": "2022-04-29T09:32:00.337Z"
   },
   {
    "duration": 125,
    "start_time": "2022-04-29T09:32:09.637Z"
   },
   {
    "duration": 120,
    "start_time": "2022-04-29T09:32:24.869Z"
   },
   {
    "duration": 141,
    "start_time": "2022-04-29T09:35:30.931Z"
   },
   {
    "duration": 3,
    "start_time": "2022-04-29T09:35:35.716Z"
   },
   {
    "duration": 49,
    "start_time": "2022-04-29T09:35:35.721Z"
   },
   {
    "duration": 4,
    "start_time": "2022-04-29T09:35:35.771Z"
   },
   {
    "duration": 35,
    "start_time": "2022-04-29T09:35:35.777Z"
   },
   {
    "duration": 52,
    "start_time": "2022-04-29T09:35:35.813Z"
   },
   {
    "duration": 65,
    "start_time": "2022-04-29T09:35:35.867Z"
   },
   {
    "duration": 16,
    "start_time": "2022-04-29T09:35:35.933Z"
   },
   {
    "duration": 32,
    "start_time": "2022-04-29T09:35:35.951Z"
   },
   {
    "duration": 38,
    "start_time": "2022-04-29T09:35:35.985Z"
   },
   {
    "duration": 26,
    "start_time": "2022-04-29T09:35:36.026Z"
   },
   {
    "duration": 34,
    "start_time": "2022-04-29T09:35:36.054Z"
   },
   {
    "duration": 170,
    "start_time": "2022-04-29T09:35:36.090Z"
   },
   {
    "duration": 122,
    "start_time": "2022-04-29T09:35:36.262Z"
   },
   {
    "duration": 11,
    "start_time": "2022-04-29T09:35:36.385Z"
   },
   {
    "duration": 238,
    "start_time": "2022-04-29T09:35:36.398Z"
   },
   {
    "duration": 238,
    "start_time": "2022-04-29T09:35:36.638Z"
   },
   {
    "duration": 361,
    "start_time": "2022-04-29T09:35:36.878Z"
   },
   {
    "duration": 237,
    "start_time": "2022-04-29T09:35:37.241Z"
   },
   {
    "duration": 328,
    "start_time": "2022-04-29T09:35:37.480Z"
   },
   {
    "duration": 123,
    "start_time": "2022-04-29T09:35:37.810Z"
   },
   {
    "duration": 5,
    "start_time": "2022-04-29T09:35:37.935Z"
   },
   {
    "duration": 154,
    "start_time": "2022-04-29T09:35:37.942Z"
   },
   {
    "duration": 137,
    "start_time": "2022-04-29T09:35:38.099Z"
   },
   {
    "duration": 17,
    "start_time": "2022-04-29T09:35:38.239Z"
   },
   {
    "duration": 222,
    "start_time": "2022-04-29T09:35:38.258Z"
   },
   {
    "duration": 150,
    "start_time": "2022-04-29T09:35:40.310Z"
   },
   {
    "duration": 2,
    "start_time": "2022-04-29T09:36:06.611Z"
   },
   {
    "duration": 26,
    "start_time": "2022-04-29T09:36:06.615Z"
   },
   {
    "duration": 3,
    "start_time": "2022-04-29T09:36:06.642Z"
   },
   {
    "duration": 21,
    "start_time": "2022-04-29T09:36:06.647Z"
   },
   {
    "duration": 14,
    "start_time": "2022-04-29T09:36:06.670Z"
   },
   {
    "duration": 29,
    "start_time": "2022-04-29T09:36:06.686Z"
   },
   {
    "duration": 14,
    "start_time": "2022-04-29T09:36:06.717Z"
   },
   {
    "duration": 11,
    "start_time": "2022-04-29T09:36:06.733Z"
   },
   {
    "duration": 19,
    "start_time": "2022-04-29T09:36:06.746Z"
   },
   {
    "duration": 8,
    "start_time": "2022-04-29T09:36:06.767Z"
   },
   {
    "duration": 8,
    "start_time": "2022-04-29T09:36:06.777Z"
   },
   {
    "duration": 168,
    "start_time": "2022-04-29T09:36:06.786Z"
   },
   {
    "duration": 130,
    "start_time": "2022-04-29T09:36:06.956Z"
   },
   {
    "duration": 9,
    "start_time": "2022-04-29T09:36:07.088Z"
   },
   {
    "duration": 196,
    "start_time": "2022-04-29T09:36:07.099Z"
   },
   {
    "duration": 180,
    "start_time": "2022-04-29T09:36:07.296Z"
   },
   {
    "duration": 385,
    "start_time": "2022-04-29T09:36:07.477Z"
   },
   {
    "duration": 188,
    "start_time": "2022-04-29T09:36:07.864Z"
   },
   {
    "duration": 306,
    "start_time": "2022-04-29T09:36:08.054Z"
   },
   {
    "duration": 120,
    "start_time": "2022-04-29T09:36:08.362Z"
   },
   {
    "duration": 5,
    "start_time": "2022-04-29T09:36:08.484Z"
   },
   {
    "duration": 142,
    "start_time": "2022-04-29T09:36:08.491Z"
   },
   {
    "duration": 145,
    "start_time": "2022-04-29T09:36:08.635Z"
   },
   {
    "duration": 4,
    "start_time": "2022-04-29T09:36:08.784Z"
   },
   {
    "duration": 231,
    "start_time": "2022-04-29T09:36:08.791Z"
   },
   {
    "duration": 149,
    "start_time": "2022-04-29T09:36:10.911Z"
   },
   {
    "duration": 166,
    "start_time": "2022-04-29T09:38:13.865Z"
   },
   {
    "duration": 137,
    "start_time": "2022-04-29T09:38:25.457Z"
   },
   {
    "duration": 161,
    "start_time": "2022-04-29T09:39:39.061Z"
   },
   {
    "duration": 12,
    "start_time": "2022-04-29T09:40:35.820Z"
   },
   {
    "duration": 10,
    "start_time": "2022-04-29T09:53:50.226Z"
   },
   {
    "duration": 45,
    "start_time": "2022-04-29T17:41:12.828Z"
   },
   {
    "duration": 1237,
    "start_time": "2022-04-29T17:41:19.982Z"
   },
   {
    "duration": 100,
    "start_time": "2022-04-29T17:41:21.221Z"
   },
   {
    "duration": 3,
    "start_time": "2022-04-29T17:41:21.323Z"
   },
   {
    "duration": 16,
    "start_time": "2022-04-29T17:41:21.329Z"
   },
   {
    "duration": 13,
    "start_time": "2022-04-29T17:41:21.346Z"
   },
   {
    "duration": 76,
    "start_time": "2022-04-29T17:41:21.361Z"
   },
   {
    "duration": 16,
    "start_time": "2022-04-29T17:41:21.439Z"
   },
   {
    "duration": 12,
    "start_time": "2022-04-29T17:41:21.456Z"
   },
   {
    "duration": 19,
    "start_time": "2022-04-29T17:41:21.469Z"
   },
   {
    "duration": 4,
    "start_time": "2022-04-29T17:41:21.490Z"
   },
   {
    "duration": 55,
    "start_time": "2022-04-29T17:41:21.496Z"
   },
   {
    "duration": 0,
    "start_time": "2022-04-29T17:41:21.553Z"
   },
   {
    "duration": 0,
    "start_time": "2022-04-29T17:41:21.554Z"
   },
   {
    "duration": 0,
    "start_time": "2022-04-29T17:41:21.555Z"
   },
   {
    "duration": 0,
    "start_time": "2022-04-29T17:41:21.556Z"
   },
   {
    "duration": 0,
    "start_time": "2022-04-29T17:41:21.557Z"
   },
   {
    "duration": 0,
    "start_time": "2022-04-29T17:41:21.558Z"
   },
   {
    "duration": 0,
    "start_time": "2022-04-29T17:41:21.559Z"
   },
   {
    "duration": 0,
    "start_time": "2022-04-29T17:41:21.560Z"
   },
   {
    "duration": 0,
    "start_time": "2022-04-29T17:41:21.560Z"
   },
   {
    "duration": 0,
    "start_time": "2022-04-29T17:41:21.561Z"
   },
   {
    "duration": 0,
    "start_time": "2022-04-29T17:41:21.562Z"
   },
   {
    "duration": 0,
    "start_time": "2022-04-29T17:41:21.563Z"
   },
   {
    "duration": 0,
    "start_time": "2022-04-29T17:41:21.564Z"
   },
   {
    "duration": 0,
    "start_time": "2022-04-29T17:41:21.565Z"
   },
   {
    "duration": 0,
    "start_time": "2022-04-29T17:41:21.566Z"
   },
   {
    "duration": 0,
    "start_time": "2022-04-29T17:41:21.567Z"
   },
   {
    "duration": 0,
    "start_time": "2022-04-29T17:41:21.568Z"
   },
   {
    "duration": 0,
    "start_time": "2022-04-29T17:41:21.569Z"
   },
   {
    "duration": 0,
    "start_time": "2022-04-29T17:41:21.569Z"
   },
   {
    "duration": 0,
    "start_time": "2022-04-29T17:41:21.570Z"
   },
   {
    "duration": 3,
    "start_time": "2022-04-29T17:41:44.077Z"
   },
   {
    "duration": 44,
    "start_time": "2022-04-29T17:41:44.082Z"
   },
   {
    "duration": 3,
    "start_time": "2022-04-29T17:41:44.129Z"
   },
   {
    "duration": 13,
    "start_time": "2022-04-29T17:41:44.136Z"
   },
   {
    "duration": 49,
    "start_time": "2022-04-29T17:41:44.151Z"
   },
   {
    "duration": 64,
    "start_time": "2022-04-29T17:41:44.202Z"
   },
   {
    "duration": 15,
    "start_time": "2022-04-29T17:41:44.268Z"
   },
   {
    "duration": 17,
    "start_time": "2022-04-29T17:41:44.285Z"
   },
   {
    "duration": 26,
    "start_time": "2022-04-29T17:41:44.305Z"
   },
   {
    "duration": 6,
    "start_time": "2022-04-29T17:41:44.333Z"
   },
   {
    "duration": 6,
    "start_time": "2022-04-29T17:41:44.340Z"
   },
   {
    "duration": 9,
    "start_time": "2022-04-29T17:41:44.348Z"
   },
   {
    "duration": 292,
    "start_time": "2022-04-29T17:41:44.360Z"
   },
   {
    "duration": 208,
    "start_time": "2022-04-29T17:41:44.655Z"
   },
   {
    "duration": 13,
    "start_time": "2022-04-29T17:41:44.866Z"
   },
   {
    "duration": 427,
    "start_time": "2022-04-29T17:41:44.881Z"
   },
   {
    "duration": 309,
    "start_time": "2022-04-29T17:41:45.310Z"
   },
   {
    "duration": 355,
    "start_time": "2022-04-29T17:41:45.621Z"
   },
   {
    "duration": 329,
    "start_time": "2022-04-29T17:41:45.979Z"
   },
   {
    "duration": 409,
    "start_time": "2022-04-29T17:41:46.310Z"
   },
   {
    "duration": 115,
    "start_time": "2022-04-29T17:41:46.721Z"
   },
   {
    "duration": 5,
    "start_time": "2022-04-29T17:41:46.839Z"
   },
   {
    "duration": 217,
    "start_time": "2022-04-29T17:41:46.846Z"
   },
   {
    "duration": 189,
    "start_time": "2022-04-29T17:41:47.068Z"
   },
   {
    "duration": 5,
    "start_time": "2022-04-29T17:41:47.259Z"
   },
   {
    "duration": 355,
    "start_time": "2022-04-29T17:41:47.266Z"
   },
   {
    "duration": 301,
    "start_time": "2022-04-29T17:41:47.624Z"
   },
   {
    "duration": 12,
    "start_time": "2022-04-29T17:41:47.928Z"
   },
   {
    "duration": 12,
    "start_time": "2022-04-29T17:41:47.942Z"
   },
   {
    "duration": 63,
    "start_time": "2022-04-29T17:41:47.956Z"
   },
   {
    "duration": 21,
    "start_time": "2022-04-29T17:41:48.021Z"
   },
   {
    "duration": 11,
    "start_time": "2022-04-29T17:42:15.104Z"
   },
   {
    "duration": 4176,
    "start_time": "2022-04-29T17:42:33.216Z"
   },
   {
    "duration": 3390,
    "start_time": "2022-04-29T17:43:09.328Z"
   },
   {
    "duration": 11,
    "start_time": "2022-04-29T17:43:23.358Z"
   },
   {
    "duration": 42,
    "start_time": "2022-04-29T17:45:46.177Z"
   },
   {
    "duration": 30,
    "start_time": "2022-04-29T17:46:41.493Z"
   },
   {
    "duration": 30,
    "start_time": "2022-04-29T17:47:40.390Z"
   },
   {
    "duration": 30,
    "start_time": "2022-04-29T17:47:45.656Z"
   },
   {
    "duration": 27,
    "start_time": "2022-04-29T17:49:44.390Z"
   },
   {
    "duration": 27,
    "start_time": "2022-04-29T17:50:21.054Z"
   },
   {
    "duration": 31,
    "start_time": "2022-04-29T17:50:53.173Z"
   },
   {
    "duration": 38,
    "start_time": "2022-04-29T17:50:57.583Z"
   },
   {
    "duration": 6,
    "start_time": "2022-04-29T17:52:51.291Z"
   },
   {
    "duration": 3,
    "start_time": "2022-04-29T17:53:00.179Z"
   },
   {
    "duration": 37,
    "start_time": "2022-04-29T17:53:00.185Z"
   },
   {
    "duration": 4,
    "start_time": "2022-04-29T17:53:00.224Z"
   },
   {
    "duration": 17,
    "start_time": "2022-04-29T17:53:00.230Z"
   },
   {
    "duration": 17,
    "start_time": "2022-04-29T17:53:00.250Z"
   },
   {
    "duration": 55,
    "start_time": "2022-04-29T17:53:00.301Z"
   },
   {
    "duration": 23,
    "start_time": "2022-04-29T17:53:00.358Z"
   },
   {
    "duration": 11,
    "start_time": "2022-04-29T17:53:00.383Z"
   },
   {
    "duration": 17,
    "start_time": "2022-04-29T17:53:00.396Z"
   },
   {
    "duration": 3,
    "start_time": "2022-04-29T17:53:00.416Z"
   },
   {
    "duration": 38,
    "start_time": "2022-04-29T17:53:00.421Z"
   },
   {
    "duration": 11,
    "start_time": "2022-04-29T17:53:00.461Z"
   },
   {
    "duration": 21,
    "start_time": "2022-04-29T17:53:00.474Z"
   },
   {
    "duration": 165,
    "start_time": "2022-04-29T17:53:00.501Z"
   },
   {
    "duration": 134,
    "start_time": "2022-04-29T17:53:00.668Z"
   },
   {
    "duration": 10,
    "start_time": "2022-04-29T17:53:00.804Z"
   },
   {
    "duration": 403,
    "start_time": "2022-04-29T17:53:00.815Z"
   },
   {
    "duration": 196,
    "start_time": "2022-04-29T17:53:01.220Z"
   },
   {
    "duration": 355,
    "start_time": "2022-04-29T17:53:01.419Z"
   },
   {
    "duration": 272,
    "start_time": "2022-04-29T17:53:01.777Z"
   },
   {
    "duration": 302,
    "start_time": "2022-04-29T17:53:02.052Z"
   },
   {
    "duration": 215,
    "start_time": "2022-04-29T17:53:02.356Z"
   },
   {
    "duration": 4,
    "start_time": "2022-04-29T17:53:02.573Z"
   },
   {
    "duration": 140,
    "start_time": "2022-04-29T17:53:02.579Z"
   },
   {
    "duration": 199,
    "start_time": "2022-04-29T17:53:02.721Z"
   },
   {
    "duration": 5,
    "start_time": "2022-04-29T17:53:02.923Z"
   },
   {
    "duration": 344,
    "start_time": "2022-04-29T17:53:02.931Z"
   },
   {
    "duration": 169,
    "start_time": "2022-04-29T17:53:03.280Z"
   },
   {
    "duration": 12,
    "start_time": "2022-04-29T17:53:03.451Z"
   },
   {
    "duration": 12,
    "start_time": "2022-04-29T17:53:03.465Z"
   },
   {
    "duration": 29,
    "start_time": "2022-04-29T17:53:03.501Z"
   },
   {
    "duration": 15,
    "start_time": "2022-04-29T17:53:03.532Z"
   },
   {
    "duration": 177,
    "start_time": "2022-04-29T17:54:46.823Z"
   },
   {
    "duration": 6,
    "start_time": "2022-04-29T18:00:39.425Z"
   },
   {
    "duration": 4,
    "start_time": "2022-04-29T18:02:35.779Z"
   },
   {
    "duration": 4,
    "start_time": "2022-04-29T18:03:01.442Z"
   },
   {
    "duration": 14,
    "start_time": "2022-04-29T18:03:45.169Z"
   },
   {
    "duration": 8,
    "start_time": "2022-04-29T18:03:53.670Z"
   },
   {
    "duration": 3,
    "start_time": "2022-04-29T18:08:20.961Z"
   },
   {
    "duration": 31,
    "start_time": "2022-04-29T18:08:20.966Z"
   },
   {
    "duration": 3,
    "start_time": "2022-04-29T18:08:20.999Z"
   },
   {
    "duration": 15,
    "start_time": "2022-04-29T18:08:21.004Z"
   },
   {
    "duration": 12,
    "start_time": "2022-04-29T18:08:21.021Z"
   },
   {
    "duration": 77,
    "start_time": "2022-04-29T18:08:21.034Z"
   },
   {
    "duration": 15,
    "start_time": "2022-04-29T18:08:21.112Z"
   },
   {
    "duration": 10,
    "start_time": "2022-04-29T18:08:21.128Z"
   },
   {
    "duration": 17,
    "start_time": "2022-04-29T18:08:21.141Z"
   },
   {
    "duration": 6,
    "start_time": "2022-04-29T18:08:21.160Z"
   },
   {
    "duration": 44,
    "start_time": "2022-04-29T18:08:21.167Z"
   },
   {
    "duration": 10,
    "start_time": "2022-04-29T18:08:21.213Z"
   },
   {
    "duration": 7,
    "start_time": "2022-04-29T18:08:21.224Z"
   },
   {
    "duration": 157,
    "start_time": "2022-04-29T18:08:21.233Z"
   },
   {
    "duration": 120,
    "start_time": "2022-04-29T18:08:21.391Z"
   },
   {
    "duration": 9,
    "start_time": "2022-04-29T18:08:21.512Z"
   },
   {
    "duration": 183,
    "start_time": "2022-04-29T18:08:21.523Z"
   },
   {
    "duration": 174,
    "start_time": "2022-04-29T18:08:21.707Z"
   },
   {
    "duration": 283,
    "start_time": "2022-04-29T18:08:21.882Z"
   },
   {
    "duration": 355,
    "start_time": "2022-04-29T18:08:22.167Z"
   },
   {
    "duration": 285,
    "start_time": "2022-04-29T18:08:22.524Z"
   },
   {
    "duration": 122,
    "start_time": "2022-04-29T18:08:22.811Z"
   },
   {
    "duration": 5,
    "start_time": "2022-04-29T18:08:22.935Z"
   },
   {
    "duration": 129,
    "start_time": "2022-04-29T18:08:22.942Z"
   },
   {
    "duration": 115,
    "start_time": "2022-04-29T18:08:23.072Z"
   },
   {
    "duration": 5,
    "start_time": "2022-04-29T18:08:23.200Z"
   },
   {
    "duration": 221,
    "start_time": "2022-04-29T18:08:23.207Z"
   },
   {
    "duration": 152,
    "start_time": "2022-04-29T18:08:23.430Z"
   },
   {
    "duration": 27,
    "start_time": "2022-04-29T18:08:23.583Z"
   },
   {
    "duration": 12,
    "start_time": "2022-04-29T18:08:23.612Z"
   },
   {
    "duration": 42,
    "start_time": "2022-04-29T18:08:23.626Z"
   },
   {
    "duration": 41,
    "start_time": "2022-04-29T18:08:23.670Z"
   },
   {
    "duration": 3,
    "start_time": "2022-04-29T18:11:27.822Z"
   },
   {
    "duration": 38,
    "start_time": "2022-04-29T18:11:27.828Z"
   },
   {
    "duration": 4,
    "start_time": "2022-04-29T18:11:27.867Z"
   },
   {
    "duration": 15,
    "start_time": "2022-04-29T18:11:27.873Z"
   },
   {
    "duration": 24,
    "start_time": "2022-04-29T18:11:27.890Z"
   },
   {
    "duration": 70,
    "start_time": "2022-04-29T18:11:27.916Z"
   },
   {
    "duration": 18,
    "start_time": "2022-04-29T18:11:27.988Z"
   },
   {
    "duration": 15,
    "start_time": "2022-04-29T18:11:28.009Z"
   },
   {
    "duration": 23,
    "start_time": "2022-04-29T18:11:28.026Z"
   },
   {
    "duration": 4,
    "start_time": "2022-04-29T18:11:28.052Z"
   },
   {
    "duration": 51,
    "start_time": "2022-04-29T18:11:28.057Z"
   },
   {
    "duration": 6,
    "start_time": "2022-04-29T18:11:28.110Z"
   },
   {
    "duration": 8,
    "start_time": "2022-04-29T18:11:28.118Z"
   },
   {
    "duration": 164,
    "start_time": "2022-04-29T18:11:28.127Z"
   },
   {
    "duration": 198,
    "start_time": "2022-04-29T18:11:28.293Z"
   },
   {
    "duration": 15,
    "start_time": "2022-04-29T18:11:28.493Z"
   },
   {
    "duration": 185,
    "start_time": "2022-04-29T18:11:28.509Z"
   },
   {
    "duration": 277,
    "start_time": "2022-04-29T18:11:28.696Z"
   },
   {
    "duration": 332,
    "start_time": "2022-04-29T18:11:28.975Z"
   },
   {
    "duration": 298,
    "start_time": "2022-04-29T18:11:29.309Z"
   },
   {
    "duration": 373,
    "start_time": "2022-04-29T18:11:29.609Z"
   },
   {
    "duration": 125,
    "start_time": "2022-04-29T18:11:29.985Z"
   },
   {
    "duration": 5,
    "start_time": "2022-04-29T18:11:30.112Z"
   },
   {
    "duration": 137,
    "start_time": "2022-04-29T18:11:30.119Z"
   },
   {
    "duration": 118,
    "start_time": "2022-04-29T18:11:30.258Z"
   },
   {
    "duration": 5,
    "start_time": "2022-04-29T18:11:30.377Z"
   },
   {
    "duration": 214,
    "start_time": "2022-04-29T18:11:30.399Z"
   },
   {
    "duration": 190,
    "start_time": "2022-04-29T18:11:30.616Z"
   },
   {
    "duration": 13,
    "start_time": "2022-04-29T18:11:30.808Z"
   },
   {
    "duration": 19,
    "start_time": "2022-04-29T18:11:30.823Z"
   },
   {
    "duration": 63,
    "start_time": "2022-04-29T18:11:30.845Z"
   },
   {
    "duration": 18,
    "start_time": "2022-04-29T18:11:30.910Z"
   },
   {
    "duration": 43,
    "start_time": "2022-04-30T10:23:15.917Z"
   },
   {
    "duration": 1104,
    "start_time": "2022-04-30T10:23:21.402Z"
   },
   {
    "duration": 89,
    "start_time": "2022-04-30T10:23:22.508Z"
   },
   {
    "duration": 3,
    "start_time": "2022-04-30T10:23:22.598Z"
   },
   {
    "duration": 12,
    "start_time": "2022-04-30T10:23:22.603Z"
   },
   {
    "duration": 10,
    "start_time": "2022-04-30T10:23:22.617Z"
   },
   {
    "duration": 27,
    "start_time": "2022-04-30T10:23:22.648Z"
   },
   {
    "duration": 15,
    "start_time": "2022-04-30T10:23:22.677Z"
   },
   {
    "duration": 12,
    "start_time": "2022-04-30T10:23:22.693Z"
   },
   {
    "duration": 17,
    "start_time": "2022-04-30T10:23:22.706Z"
   },
   {
    "duration": 3,
    "start_time": "2022-04-30T10:23:22.725Z"
   },
   {
    "duration": 35,
    "start_time": "2022-04-30T10:23:22.730Z"
   },
   {
    "duration": 5,
    "start_time": "2022-04-30T10:23:22.766Z"
   },
   {
    "duration": 7,
    "start_time": "2022-04-30T10:23:22.772Z"
   },
   {
    "duration": 5,
    "start_time": "2022-04-30T10:23:41.011Z"
   },
   {
    "duration": 55,
    "start_time": "2022-04-30T10:23:53.082Z"
   },
   {
    "duration": 4,
    "start_time": "2022-04-30T10:24:34.325Z"
   },
   {
    "duration": 3,
    "start_time": "2022-04-30T10:24:37.947Z"
   },
   {
    "duration": 1334,
    "start_time": "2022-04-30T14:49:54.075Z"
   },
   {
    "duration": 104,
    "start_time": "2022-04-30T14:49:55.412Z"
   },
   {
    "duration": 4,
    "start_time": "2022-04-30T14:49:55.517Z"
   },
   {
    "duration": 21,
    "start_time": "2022-04-30T14:49:55.523Z"
   },
   {
    "duration": 12,
    "start_time": "2022-04-30T14:49:55.546Z"
   },
   {
    "duration": 53,
    "start_time": "2022-04-30T14:49:55.560Z"
   },
   {
    "duration": 17,
    "start_time": "2022-04-30T14:49:55.615Z"
   },
   {
    "duration": 13,
    "start_time": "2022-04-30T14:49:55.634Z"
   },
   {
    "duration": 30,
    "start_time": "2022-04-30T14:49:55.649Z"
   },
   {
    "duration": 5,
    "start_time": "2022-04-30T14:49:55.683Z"
   },
   {
    "duration": 35,
    "start_time": "2022-04-30T14:49:55.690Z"
   },
   {
    "duration": 5,
    "start_time": "2022-04-30T14:49:55.732Z"
   },
   {
    "duration": 9,
    "start_time": "2022-04-30T14:49:55.738Z"
   },
   {
    "duration": 193,
    "start_time": "2022-04-30T14:49:55.749Z"
   },
   {
    "duration": 140,
    "start_time": "2022-04-30T14:49:55.944Z"
   },
   {
    "duration": 12,
    "start_time": "2022-04-30T14:49:56.086Z"
   },
   {
    "duration": 334,
    "start_time": "2022-04-30T14:49:56.100Z"
   },
   {
    "duration": 222,
    "start_time": "2022-04-30T14:49:56.436Z"
   },
   {
    "duration": 393,
    "start_time": "2022-04-30T14:49:56.660Z"
   },
   {
    "duration": 220,
    "start_time": "2022-04-30T14:49:57.055Z"
   },
   {
    "duration": 309,
    "start_time": "2022-04-30T14:49:57.277Z"
   },
   {
    "duration": 137,
    "start_time": "2022-04-30T14:49:57.588Z"
   },
   {
    "duration": 5,
    "start_time": "2022-04-30T14:49:57.733Z"
   },
   {
    "duration": 164,
    "start_time": "2022-04-30T14:49:57.740Z"
   },
   {
    "duration": 146,
    "start_time": "2022-04-30T14:49:57.906Z"
   },
   {
    "duration": 5,
    "start_time": "2022-04-30T14:49:58.055Z"
   },
   {
    "duration": 259,
    "start_time": "2022-04-30T14:49:58.062Z"
   },
   {
    "duration": 172,
    "start_time": "2022-04-30T14:49:58.325Z"
   },
   {
    "duration": 13,
    "start_time": "2022-04-30T14:49:58.498Z"
   },
   {
    "duration": 25,
    "start_time": "2022-04-30T14:49:58.513Z"
   },
   {
    "duration": 29,
    "start_time": "2022-04-30T14:49:58.540Z"
   },
   {
    "duration": 14,
    "start_time": "2022-04-30T14:49:58.571Z"
   }
  ],
  "kernelspec": {
   "display_name": "Python 3 (ipykernel)",
   "language": "python",
   "name": "python3"
  },
  "language_info": {
   "codemirror_mode": {
    "name": "ipython",
    "version": 3
   },
   "file_extension": ".py",
   "mimetype": "text/x-python",
   "name": "python",
   "nbconvert_exporter": "python",
   "pygments_lexer": "ipython3",
   "version": "3.9.5"
  },
  "toc": {
   "base_numbering": 1,
   "nav_menu": {},
   "number_sections": true,
   "sideBar": true,
   "skip_h1_title": true,
   "title_cell": "Table of Contents",
   "title_sidebar": "Contents",
   "toc_cell": false,
   "toc_position": {},
   "toc_section_display": true,
   "toc_window_display": false
  }
 },
 "nbformat": 4,
 "nbformat_minor": 2
}
