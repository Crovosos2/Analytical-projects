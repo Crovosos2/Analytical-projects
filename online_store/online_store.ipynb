{
 "cells": [
  {
   "cell_type": "markdown",
   "metadata": {},
   "source": [
    "<h1>Описание проекта</h1>\n",
    "Интернет-магазине «Стримчик», который продаёт по всему миру компьютерные игры. Из открытых источников доступны исторические данные о продажах игр, оценки пользователей и экспертов, жанры и платформы (например, Xbox или PlayStation). Нужно выявить определяющие успешность игры закономерности. Это позволит сделать ставку на потенциально популярный продукт и спланировать рекламные кампании.\n",
    "Перед вами данные до 2016 года. Представим, что сейчас декабрь 2016 г., и вы планируете кампанию на 2017-й.\n",
    "В наборе данных попадается аббревиатура ESRB (Entertainment Software Rating Board) — это ассоциация, определяющая возрастной рейтинг компьютерных игр. ESRB оценивает игровой контент и присваивает ему подходящую возрастную категорию, например, «Для взрослых», «Для детей младшего возраста» или «Для подростков».\n"
   ]
  },
  {
   "cell_type": "markdown",
   "metadata": {},
   "source": [
    "## Открытие файла с данными и изучение общей информации"
   ]
  },
  {
   "cell_type": "code",
   "execution_count": 135,
   "metadata": {},
   "outputs": [
    {
     "data": {
      "text/html": [
       "<div>\n",
       "<style scoped>\n",
       "    .dataframe tbody tr th:only-of-type {\n",
       "        vertical-align: middle;\n",
       "    }\n",
       "\n",
       "    .dataframe tbody tr th {\n",
       "        vertical-align: top;\n",
       "    }\n",
       "\n",
       "    .dataframe thead th {\n",
       "        text-align: right;\n",
       "    }\n",
       "</style>\n",
       "<table border=\"1\" class=\"dataframe\">\n",
       "  <thead>\n",
       "    <tr style=\"text-align: right;\">\n",
       "      <th></th>\n",
       "      <th>Name</th>\n",
       "      <th>Platform</th>\n",
       "      <th>Year_of_Release</th>\n",
       "      <th>Genre</th>\n",
       "      <th>NA_sales</th>\n",
       "      <th>EU_sales</th>\n",
       "      <th>JP_sales</th>\n",
       "      <th>Other_sales</th>\n",
       "      <th>Critic_Score</th>\n",
       "      <th>User_Score</th>\n",
       "      <th>Rating</th>\n",
       "    </tr>\n",
       "  </thead>\n",
       "  <tbody>\n",
       "    <tr>\n",
       "      <th>0</th>\n",
       "      <td>Wii Sports</td>\n",
       "      <td>Wii</td>\n",
       "      <td>2006.0</td>\n",
       "      <td>Sports</td>\n",
       "      <td>41.36</td>\n",
       "      <td>28.96</td>\n",
       "      <td>3.77</td>\n",
       "      <td>8.45</td>\n",
       "      <td>76.0</td>\n",
       "      <td>8</td>\n",
       "      <td>E</td>\n",
       "    </tr>\n",
       "    <tr>\n",
       "      <th>1</th>\n",
       "      <td>Super Mario Bros.</td>\n",
       "      <td>NES</td>\n",
       "      <td>1985.0</td>\n",
       "      <td>Platform</td>\n",
       "      <td>29.08</td>\n",
       "      <td>3.58</td>\n",
       "      <td>6.81</td>\n",
       "      <td>0.77</td>\n",
       "      <td>NaN</td>\n",
       "      <td>NaN</td>\n",
       "      <td>NaN</td>\n",
       "    </tr>\n",
       "    <tr>\n",
       "      <th>2</th>\n",
       "      <td>Mario Kart Wii</td>\n",
       "      <td>Wii</td>\n",
       "      <td>2008.0</td>\n",
       "      <td>Racing</td>\n",
       "      <td>15.68</td>\n",
       "      <td>12.76</td>\n",
       "      <td>3.79</td>\n",
       "      <td>3.29</td>\n",
       "      <td>82.0</td>\n",
       "      <td>8.3</td>\n",
       "      <td>E</td>\n",
       "    </tr>\n",
       "    <tr>\n",
       "      <th>3</th>\n",
       "      <td>Wii Sports Resort</td>\n",
       "      <td>Wii</td>\n",
       "      <td>2009.0</td>\n",
       "      <td>Sports</td>\n",
       "      <td>15.61</td>\n",
       "      <td>10.93</td>\n",
       "      <td>3.28</td>\n",
       "      <td>2.95</td>\n",
       "      <td>80.0</td>\n",
       "      <td>8</td>\n",
       "      <td>E</td>\n",
       "    </tr>\n",
       "    <tr>\n",
       "      <th>4</th>\n",
       "      <td>Pokemon Red/Pokemon Blue</td>\n",
       "      <td>GB</td>\n",
       "      <td>1996.0</td>\n",
       "      <td>Role-Playing</td>\n",
       "      <td>11.27</td>\n",
       "      <td>8.89</td>\n",
       "      <td>10.22</td>\n",
       "      <td>1.00</td>\n",
       "      <td>NaN</td>\n",
       "      <td>NaN</td>\n",
       "      <td>NaN</td>\n",
       "    </tr>\n",
       "    <tr>\n",
       "      <th>5</th>\n",
       "      <td>Tetris</td>\n",
       "      <td>GB</td>\n",
       "      <td>1989.0</td>\n",
       "      <td>Puzzle</td>\n",
       "      <td>23.20</td>\n",
       "      <td>2.26</td>\n",
       "      <td>4.22</td>\n",
       "      <td>0.58</td>\n",
       "      <td>NaN</td>\n",
       "      <td>NaN</td>\n",
       "      <td>NaN</td>\n",
       "    </tr>\n",
       "    <tr>\n",
       "      <th>6</th>\n",
       "      <td>New Super Mario Bros.</td>\n",
       "      <td>DS</td>\n",
       "      <td>2006.0</td>\n",
       "      <td>Platform</td>\n",
       "      <td>11.28</td>\n",
       "      <td>9.14</td>\n",
       "      <td>6.50</td>\n",
       "      <td>2.88</td>\n",
       "      <td>89.0</td>\n",
       "      <td>8.5</td>\n",
       "      <td>E</td>\n",
       "    </tr>\n",
       "    <tr>\n",
       "      <th>7</th>\n",
       "      <td>Wii Play</td>\n",
       "      <td>Wii</td>\n",
       "      <td>2006.0</td>\n",
       "      <td>Misc</td>\n",
       "      <td>13.96</td>\n",
       "      <td>9.18</td>\n",
       "      <td>2.93</td>\n",
       "      <td>2.84</td>\n",
       "      <td>58.0</td>\n",
       "      <td>6.6</td>\n",
       "      <td>E</td>\n",
       "    </tr>\n",
       "    <tr>\n",
       "      <th>8</th>\n",
       "      <td>New Super Mario Bros. Wii</td>\n",
       "      <td>Wii</td>\n",
       "      <td>2009.0</td>\n",
       "      <td>Platform</td>\n",
       "      <td>14.44</td>\n",
       "      <td>6.94</td>\n",
       "      <td>4.70</td>\n",
       "      <td>2.24</td>\n",
       "      <td>87.0</td>\n",
       "      <td>8.4</td>\n",
       "      <td>E</td>\n",
       "    </tr>\n",
       "    <tr>\n",
       "      <th>9</th>\n",
       "      <td>Duck Hunt</td>\n",
       "      <td>NES</td>\n",
       "      <td>1984.0</td>\n",
       "      <td>Shooter</td>\n",
       "      <td>26.93</td>\n",
       "      <td>0.63</td>\n",
       "      <td>0.28</td>\n",
       "      <td>0.47</td>\n",
       "      <td>NaN</td>\n",
       "      <td>NaN</td>\n",
       "      <td>NaN</td>\n",
       "    </tr>\n",
       "  </tbody>\n",
       "</table>\n",
       "</div>"
      ],
      "text/plain": [
       "                        Name Platform  Year_of_Release         Genre  \\\n",
       "0                 Wii Sports      Wii           2006.0        Sports   \n",
       "1          Super Mario Bros.      NES           1985.0      Platform   \n",
       "2             Mario Kart Wii      Wii           2008.0        Racing   \n",
       "3          Wii Sports Resort      Wii           2009.0        Sports   \n",
       "4   Pokemon Red/Pokemon Blue       GB           1996.0  Role-Playing   \n",
       "5                     Tetris       GB           1989.0        Puzzle   \n",
       "6      New Super Mario Bros.       DS           2006.0      Platform   \n",
       "7                   Wii Play      Wii           2006.0          Misc   \n",
       "8  New Super Mario Bros. Wii      Wii           2009.0      Platform   \n",
       "9                  Duck Hunt      NES           1984.0       Shooter   \n",
       "\n",
       "   NA_sales  EU_sales  JP_sales  Other_sales  Critic_Score User_Score Rating  \n",
       "0     41.36     28.96      3.77         8.45          76.0          8      E  \n",
       "1     29.08      3.58      6.81         0.77           NaN        NaN    NaN  \n",
       "2     15.68     12.76      3.79         3.29          82.0        8.3      E  \n",
       "3     15.61     10.93      3.28         2.95          80.0          8      E  \n",
       "4     11.27      8.89     10.22         1.00           NaN        NaN    NaN  \n",
       "5     23.20      2.26      4.22         0.58           NaN        NaN    NaN  \n",
       "6     11.28      9.14      6.50         2.88          89.0        8.5      E  \n",
       "7     13.96      9.18      2.93         2.84          58.0        6.6      E  \n",
       "8     14.44      6.94      4.70         2.24          87.0        8.4      E  \n",
       "9     26.93      0.63      0.28         0.47           NaN        NaN    NaN  "
      ]
     },
     "metadata": {},
     "output_type": "display_data"
    }
   ],
   "source": [
    "import pandas as pd\n",
    "import numpy as np\n",
    "\n",
    "df = pd.read_csv('/datasets/games.csv')\n",
    "display(df.head(10))"
   ]
  },
  {
   "cell_type": "code",
   "execution_count": 136,
   "metadata": {},
   "outputs": [
    {
     "name": "stdout",
     "output_type": "stream",
     "text": [
      "<class 'pandas.core.frame.DataFrame'>\n",
      "RangeIndex: 16715 entries, 0 to 16714\n",
      "Data columns (total 11 columns):\n",
      " #   Column           Non-Null Count  Dtype  \n",
      "---  ------           --------------  -----  \n",
      " 0   Name             16713 non-null  object \n",
      " 1   Platform         16715 non-null  object \n",
      " 2   Year_of_Release  16446 non-null  float64\n",
      " 3   Genre            16713 non-null  object \n",
      " 4   NA_sales         16715 non-null  float64\n",
      " 5   EU_sales         16715 non-null  float64\n",
      " 6   JP_sales         16715 non-null  float64\n",
      " 7   Other_sales      16715 non-null  float64\n",
      " 8   Critic_Score     8137 non-null   float64\n",
      " 9   User_Score       10014 non-null  object \n",
      " 10  Rating           9949 non-null   object \n",
      "dtypes: float64(6), object(5)\n",
      "memory usage: 1.4+ MB\n"
     ]
    }
   ],
   "source": [
    "df.info()"
   ]
  },
  {
   "cell_type": "markdown",
   "metadata": {},
   "source": [
    "<div class=\"alert alert-info\">\n",
    "<b>Комментарий:</b><br>\n",
    "Сразу заметны следующие недочеты:<br>\n",
    "• Неверный тип данных столбца Year_of_Release.<br>\n",
    "• Неверный тип данный столбца Critic_Score.<br>\n",
    "• Присутствуют буквы разных регистров в названиях столбцов.\n",
    "</div>"
   ]
  },
  {
   "cell_type": "markdown",
   "metadata": {},
   "source": [
    "## Подготовка данных"
   ]
  },
  {
   "cell_type": "markdown",
   "metadata": {},
   "source": [
    "### Замена названий столбцов (приведение к нижнему регистру)"
   ]
  },
  {
   "cell_type": "code",
   "execution_count": 137,
   "metadata": {},
   "outputs": [],
   "source": [
    "df.columns = map(str.lower, df.columns)"
   ]
  },
  {
   "cell_type": "markdown",
   "metadata": {},
   "source": [
    "### Преобразование данных в нужные типы и обработка пропусков"
   ]
  },
  {
   "cell_type": "code",
   "execution_count": 138,
   "metadata": {},
   "outputs": [
    {
     "name": "stdout",
     "output_type": "stream",
     "text": [
      "269\n"
     ]
    }
   ],
   "source": [
    "# Приведение столбца year_of_release к типу int\n",
    "# Пропусков в столбце year_of_release. Их меньше 2%. Возможно год не указан или игра не выпущена. Удалим пропуски\n",
    "print(df['year_of_release'].isna().sum())\n",
    "df = df.dropna(subset=['year_of_release'])\n",
    "\n",
    "df['year_of_release'] = df['year_of_release'].astype(int)"
   ]
  },
  {
   "cell_type": "code",
   "execution_count": 139,
   "metadata": {},
   "outputs": [
    {
     "name": "stdout",
     "output_type": "stream",
     "text": [
      "2\n"
     ]
    }
   ],
   "source": [
    "print(df['genre'].isna().sum())\n",
    "df = df.dropna(subset=['genre'])"
   ]
  },
  {
   "cell_type": "code",
   "execution_count": 144,
   "metadata": {},
   "outputs": [],
   "source": [
    "df['user_score'] = df['user_score'].replace('tbd', np.nan)"
   ]
  },
  {
   "cell_type": "code",
   "execution_count": 145,
   "metadata": {},
   "outputs": [],
   "source": [
    "# user_score стал строкой после замены значения tbd. Приводим обратно к float\n",
    "df['user_score'] = df['user_score'].astype(float)\n",
    "#df['user_score'] = df['user_score'].fillna(df.apply(user_score_mean, axis=1))\n",
    "df['user_score'] = df['user_score'].apply(lambda x: f\"{x:.1f}\")\n",
    "# Тип снова сметился на строку. Меняем на float\n",
    "df['user_score'] = df['user_score'].astype(float)"
   ]
  },
  {
   "cell_type": "code",
   "execution_count": 146,
   "metadata": {},
   "outputs": [],
   "source": [
    "# Заменим пустые значение рейтинга игр на NR, что означает No rating.\n",
    "df['rating'] = df['rating'].fillna('NR')"
   ]
  },
  {
   "cell_type": "code",
   "execution_count": 147,
   "metadata": {},
   "outputs": [
    {
     "name": "stdout",
     "output_type": "stream",
     "text": [
      "Дубликатов явных до удаления: 0\n"
     ]
    }
   ],
   "source": [
    "# Дубликатов явных нет\n",
    "print('Дубликатов явных до удаления:', df.duplicated().sum()) "
   ]
  },
  {
   "cell_type": "code",
   "execution_count": 148,
   "metadata": {},
   "outputs": [
    {
     "data": {
      "text/html": [
       "<div>\n",
       "<style scoped>\n",
       "    .dataframe tbody tr th:only-of-type {\n",
       "        vertical-align: middle;\n",
       "    }\n",
       "\n",
       "    .dataframe tbody tr th {\n",
       "        vertical-align: top;\n",
       "    }\n",
       "\n",
       "    .dataframe thead th {\n",
       "        text-align: right;\n",
       "    }\n",
       "</style>\n",
       "<table border=\"1\" class=\"dataframe\">\n",
       "  <thead>\n",
       "    <tr style=\"text-align: right;\">\n",
       "      <th></th>\n",
       "      <th>name</th>\n",
       "      <th>platform</th>\n",
       "      <th>year_of_release</th>\n",
       "      <th>genre</th>\n",
       "      <th>na_sales</th>\n",
       "      <th>eu_sales</th>\n",
       "      <th>jp_sales</th>\n",
       "      <th>other_sales</th>\n",
       "      <th>critic_score</th>\n",
       "      <th>user_score</th>\n",
       "      <th>rating</th>\n",
       "      <th>all_sales</th>\n",
       "    </tr>\n",
       "  </thead>\n",
       "  <tbody>\n",
       "    <tr>\n",
       "      <th>0</th>\n",
       "      <td>Wii Sports</td>\n",
       "      <td>Wii</td>\n",
       "      <td>2006</td>\n",
       "      <td>Sports</td>\n",
       "      <td>41.36</td>\n",
       "      <td>28.96</td>\n",
       "      <td>3.77</td>\n",
       "      <td>8.45</td>\n",
       "      <td>76.0</td>\n",
       "      <td>8.0</td>\n",
       "      <td>E</td>\n",
       "      <td>82.54</td>\n",
       "    </tr>\n",
       "    <tr>\n",
       "      <th>1</th>\n",
       "      <td>Super Mario Bros.</td>\n",
       "      <td>NES</td>\n",
       "      <td>1985</td>\n",
       "      <td>Platform</td>\n",
       "      <td>29.08</td>\n",
       "      <td>3.58</td>\n",
       "      <td>6.81</td>\n",
       "      <td>0.77</td>\n",
       "      <td>NaN</td>\n",
       "      <td>NaN</td>\n",
       "      <td>NR</td>\n",
       "      <td>40.24</td>\n",
       "    </tr>\n",
       "    <tr>\n",
       "      <th>2</th>\n",
       "      <td>Mario Kart Wii</td>\n",
       "      <td>Wii</td>\n",
       "      <td>2008</td>\n",
       "      <td>Racing</td>\n",
       "      <td>15.68</td>\n",
       "      <td>12.76</td>\n",
       "      <td>3.79</td>\n",
       "      <td>3.29</td>\n",
       "      <td>82.0</td>\n",
       "      <td>8.3</td>\n",
       "      <td>E</td>\n",
       "      <td>35.52</td>\n",
       "    </tr>\n",
       "    <tr>\n",
       "      <th>3</th>\n",
       "      <td>Wii Sports Resort</td>\n",
       "      <td>Wii</td>\n",
       "      <td>2009</td>\n",
       "      <td>Sports</td>\n",
       "      <td>15.61</td>\n",
       "      <td>10.93</td>\n",
       "      <td>3.28</td>\n",
       "      <td>2.95</td>\n",
       "      <td>80.0</td>\n",
       "      <td>8.0</td>\n",
       "      <td>E</td>\n",
       "      <td>32.77</td>\n",
       "    </tr>\n",
       "    <tr>\n",
       "      <th>4</th>\n",
       "      <td>Pokemon Red/Pokemon Blue</td>\n",
       "      <td>GB</td>\n",
       "      <td>1996</td>\n",
       "      <td>Role-Playing</td>\n",
       "      <td>11.27</td>\n",
       "      <td>8.89</td>\n",
       "      <td>10.22</td>\n",
       "      <td>1.00</td>\n",
       "      <td>NaN</td>\n",
       "      <td>NaN</td>\n",
       "      <td>NR</td>\n",
       "      <td>31.38</td>\n",
       "    </tr>\n",
       "    <tr>\n",
       "      <th>5</th>\n",
       "      <td>Tetris</td>\n",
       "      <td>GB</td>\n",
       "      <td>1989</td>\n",
       "      <td>Puzzle</td>\n",
       "      <td>23.20</td>\n",
       "      <td>2.26</td>\n",
       "      <td>4.22</td>\n",
       "      <td>0.58</td>\n",
       "      <td>NaN</td>\n",
       "      <td>NaN</td>\n",
       "      <td>NR</td>\n",
       "      <td>30.26</td>\n",
       "    </tr>\n",
       "    <tr>\n",
       "      <th>6</th>\n",
       "      <td>New Super Mario Bros.</td>\n",
       "      <td>DS</td>\n",
       "      <td>2006</td>\n",
       "      <td>Platform</td>\n",
       "      <td>11.28</td>\n",
       "      <td>9.14</td>\n",
       "      <td>6.50</td>\n",
       "      <td>2.88</td>\n",
       "      <td>89.0</td>\n",
       "      <td>8.5</td>\n",
       "      <td>E</td>\n",
       "      <td>29.80</td>\n",
       "    </tr>\n",
       "    <tr>\n",
       "      <th>7</th>\n",
       "      <td>Wii Play</td>\n",
       "      <td>Wii</td>\n",
       "      <td>2006</td>\n",
       "      <td>Misc</td>\n",
       "      <td>13.96</td>\n",
       "      <td>9.18</td>\n",
       "      <td>2.93</td>\n",
       "      <td>2.84</td>\n",
       "      <td>58.0</td>\n",
       "      <td>6.6</td>\n",
       "      <td>E</td>\n",
       "      <td>28.91</td>\n",
       "    </tr>\n",
       "    <tr>\n",
       "      <th>8</th>\n",
       "      <td>New Super Mario Bros. Wii</td>\n",
       "      <td>Wii</td>\n",
       "      <td>2009</td>\n",
       "      <td>Platform</td>\n",
       "      <td>14.44</td>\n",
       "      <td>6.94</td>\n",
       "      <td>4.70</td>\n",
       "      <td>2.24</td>\n",
       "      <td>87.0</td>\n",
       "      <td>8.4</td>\n",
       "      <td>E</td>\n",
       "      <td>28.32</td>\n",
       "    </tr>\n",
       "    <tr>\n",
       "      <th>9</th>\n",
       "      <td>Duck Hunt</td>\n",
       "      <td>NES</td>\n",
       "      <td>1984</td>\n",
       "      <td>Shooter</td>\n",
       "      <td>26.93</td>\n",
       "      <td>0.63</td>\n",
       "      <td>0.28</td>\n",
       "      <td>0.47</td>\n",
       "      <td>NaN</td>\n",
       "      <td>NaN</td>\n",
       "      <td>NR</td>\n",
       "      <td>28.31</td>\n",
       "    </tr>\n",
       "  </tbody>\n",
       "</table>\n",
       "</div>"
      ],
      "text/plain": [
       "                        name platform  year_of_release         genre  \\\n",
       "0                 Wii Sports      Wii             2006        Sports   \n",
       "1          Super Mario Bros.      NES             1985      Platform   \n",
       "2             Mario Kart Wii      Wii             2008        Racing   \n",
       "3          Wii Sports Resort      Wii             2009        Sports   \n",
       "4   Pokemon Red/Pokemon Blue       GB             1996  Role-Playing   \n",
       "5                     Tetris       GB             1989        Puzzle   \n",
       "6      New Super Mario Bros.       DS             2006      Platform   \n",
       "7                   Wii Play      Wii             2006          Misc   \n",
       "8  New Super Mario Bros. Wii      Wii             2009      Platform   \n",
       "9                  Duck Hunt      NES             1984       Shooter   \n",
       "\n",
       "   na_sales  eu_sales  jp_sales  other_sales  critic_score  user_score rating  \\\n",
       "0     41.36     28.96      3.77         8.45          76.0         8.0      E   \n",
       "1     29.08      3.58      6.81         0.77           NaN         NaN     NR   \n",
       "2     15.68     12.76      3.79         3.29          82.0         8.3      E   \n",
       "3     15.61     10.93      3.28         2.95          80.0         8.0      E   \n",
       "4     11.27      8.89     10.22         1.00           NaN         NaN     NR   \n",
       "5     23.20      2.26      4.22         0.58           NaN         NaN     NR   \n",
       "6     11.28      9.14      6.50         2.88          89.0         8.5      E   \n",
       "7     13.96      9.18      2.93         2.84          58.0         6.6      E   \n",
       "8     14.44      6.94      4.70         2.24          87.0         8.4      E   \n",
       "9     26.93      0.63      0.28         0.47           NaN         NaN     NR   \n",
       "\n",
       "   all_sales  \n",
       "0      82.54  \n",
       "1      40.24  \n",
       "2      35.52  \n",
       "3      32.77  \n",
       "4      31.38  \n",
       "5      30.26  \n",
       "6      29.80  \n",
       "7      28.91  \n",
       "8      28.32  \n",
       "9      28.31  "
      ]
     },
     "metadata": {},
     "output_type": "display_data"
    }
   ],
   "source": [
    "df['all_sales'] = df['na_sales'] + df['eu_sales'] + df['jp_sales'] + df['other_sales']\n",
    "df.reset_index(drop=True)\n",
    "display(df.head(10))"
   ]
  },
  {
   "cell_type": "code",
   "execution_count": 149,
   "metadata": {},
   "outputs": [
    {
     "name": "stdout",
     "output_type": "stream",
     "text": [
      "<class 'pandas.core.frame.DataFrame'>\n",
      "Int64Index: 16444 entries, 0 to 16714\n",
      "Data columns (total 12 columns):\n",
      " #   Column           Non-Null Count  Dtype  \n",
      "---  ------           --------------  -----  \n",
      " 0   name             16444 non-null  object \n",
      " 1   platform         16444 non-null  object \n",
      " 2   year_of_release  16444 non-null  int64  \n",
      " 3   genre            16444 non-null  object \n",
      " 4   na_sales         16444 non-null  float64\n",
      " 5   eu_sales         16444 non-null  float64\n",
      " 6   jp_sales         16444 non-null  float64\n",
      " 7   other_sales      16444 non-null  float64\n",
      " 8   critic_score     7983 non-null   float64\n",
      " 9   user_score       7463 non-null   float64\n",
      " 10  rating           16444 non-null  object \n",
      " 11  all_sales        16444 non-null  float64\n",
      "dtypes: float64(7), int64(1), object(4)\n",
      "memory usage: 1.6+ MB\n"
     ]
    }
   ],
   "source": [
    "df.info()"
   ]
  },
  {
   "cell_type": "markdown",
   "metadata": {},
   "source": [
    "### Вывод:\n",
    "<div class=\"alert alert-info\">\n",
    "<b>Комментарий:</b><br>\n",
    "• Заменены названия столбцов.<br>\n",
    "• Данные преобразованы в нужные типа.<br>\n",
    "• Пропуски обработаны.<br>\n",
    "• Посчитана суммарная продажа каждой игры по всем регионам. Данные внесены в столбец all_sales.\n",
    "</div>"
   ]
  },
  {
   "cell_type": "markdown",
   "metadata": {},
   "source": [
    "## Проведение исследовательского анализа данных"
   ]
  },
  {
   "cell_type": "markdown",
   "metadata": {},
   "source": [
    "### Сколько игр выпускалось в разные годы. Важны ли данные за все периоды?"
   ]
  },
  {
   "cell_type": "code",
   "execution_count": 150,
   "metadata": {},
   "outputs": [
    {
     "data": {
      "text/html": [
       "<div>\n",
       "<style scoped>\n",
       "    .dataframe tbody tr th:only-of-type {\n",
       "        vertical-align: middle;\n",
       "    }\n",
       "\n",
       "    .dataframe tbody tr th {\n",
       "        vertical-align: top;\n",
       "    }\n",
       "\n",
       "    .dataframe thead th {\n",
       "        text-align: right;\n",
       "    }\n",
       "</style>\n",
       "<table border=\"1\" class=\"dataframe\">\n",
       "  <thead>\n",
       "    <tr style=\"text-align: right;\">\n",
       "      <th></th>\n",
       "      <th>count</th>\n",
       "    </tr>\n",
       "    <tr>\n",
       "      <th>year_of_release</th>\n",
       "      <th></th>\n",
       "    </tr>\n",
       "  </thead>\n",
       "  <tbody>\n",
       "    <tr>\n",
       "      <th>1980</th>\n",
       "      <td>9</td>\n",
       "    </tr>\n",
       "    <tr>\n",
       "      <th>1981</th>\n",
       "      <td>46</td>\n",
       "    </tr>\n",
       "    <tr>\n",
       "      <th>1982</th>\n",
       "      <td>36</td>\n",
       "    </tr>\n",
       "    <tr>\n",
       "      <th>1983</th>\n",
       "      <td>17</td>\n",
       "    </tr>\n",
       "    <tr>\n",
       "      <th>1984</th>\n",
       "      <td>14</td>\n",
       "    </tr>\n",
       "    <tr>\n",
       "      <th>1985</th>\n",
       "      <td>14</td>\n",
       "    </tr>\n",
       "    <tr>\n",
       "      <th>1986</th>\n",
       "      <td>21</td>\n",
       "    </tr>\n",
       "    <tr>\n",
       "      <th>1987</th>\n",
       "      <td>16</td>\n",
       "    </tr>\n",
       "    <tr>\n",
       "      <th>1988</th>\n",
       "      <td>15</td>\n",
       "    </tr>\n",
       "    <tr>\n",
       "      <th>1989</th>\n",
       "      <td>17</td>\n",
       "    </tr>\n",
       "    <tr>\n",
       "      <th>1990</th>\n",
       "      <td>16</td>\n",
       "    </tr>\n",
       "    <tr>\n",
       "      <th>1991</th>\n",
       "      <td>41</td>\n",
       "    </tr>\n",
       "    <tr>\n",
       "      <th>1992</th>\n",
       "      <td>43</td>\n",
       "    </tr>\n",
       "    <tr>\n",
       "      <th>1993</th>\n",
       "      <td>60</td>\n",
       "    </tr>\n",
       "    <tr>\n",
       "      <th>1994</th>\n",
       "      <td>121</td>\n",
       "    </tr>\n",
       "    <tr>\n",
       "      <th>1995</th>\n",
       "      <td>219</td>\n",
       "    </tr>\n",
       "    <tr>\n",
       "      <th>1996</th>\n",
       "      <td>263</td>\n",
       "    </tr>\n",
       "    <tr>\n",
       "      <th>1997</th>\n",
       "      <td>289</td>\n",
       "    </tr>\n",
       "    <tr>\n",
       "      <th>1998</th>\n",
       "      <td>379</td>\n",
       "    </tr>\n",
       "    <tr>\n",
       "      <th>1999</th>\n",
       "      <td>338</td>\n",
       "    </tr>\n",
       "    <tr>\n",
       "      <th>2000</th>\n",
       "      <td>350</td>\n",
       "    </tr>\n",
       "    <tr>\n",
       "      <th>2001</th>\n",
       "      <td>482</td>\n",
       "    </tr>\n",
       "    <tr>\n",
       "      <th>2002</th>\n",
       "      <td>829</td>\n",
       "    </tr>\n",
       "    <tr>\n",
       "      <th>2003</th>\n",
       "      <td>775</td>\n",
       "    </tr>\n",
       "    <tr>\n",
       "      <th>2004</th>\n",
       "      <td>762</td>\n",
       "    </tr>\n",
       "    <tr>\n",
       "      <th>2005</th>\n",
       "      <td>939</td>\n",
       "    </tr>\n",
       "    <tr>\n",
       "      <th>2006</th>\n",
       "      <td>1006</td>\n",
       "    </tr>\n",
       "    <tr>\n",
       "      <th>2007</th>\n",
       "      <td>1197</td>\n",
       "    </tr>\n",
       "    <tr>\n",
       "      <th>2008</th>\n",
       "      <td>1427</td>\n",
       "    </tr>\n",
       "    <tr>\n",
       "      <th>2009</th>\n",
       "      <td>1426</td>\n",
       "    </tr>\n",
       "    <tr>\n",
       "      <th>2010</th>\n",
       "      <td>1255</td>\n",
       "    </tr>\n",
       "    <tr>\n",
       "      <th>2011</th>\n",
       "      <td>1136</td>\n",
       "    </tr>\n",
       "    <tr>\n",
       "      <th>2012</th>\n",
       "      <td>653</td>\n",
       "    </tr>\n",
       "    <tr>\n",
       "      <th>2013</th>\n",
       "      <td>544</td>\n",
       "    </tr>\n",
       "    <tr>\n",
       "      <th>2014</th>\n",
       "      <td>581</td>\n",
       "    </tr>\n",
       "    <tr>\n",
       "      <th>2015</th>\n",
       "      <td>606</td>\n",
       "    </tr>\n",
       "    <tr>\n",
       "      <th>2016</th>\n",
       "      <td>502</td>\n",
       "    </tr>\n",
       "  </tbody>\n",
       "</table>\n",
       "</div>"
      ],
      "text/plain": [
       "                 count\n",
       "year_of_release       \n",
       "1980                 9\n",
       "1981                46\n",
       "1982                36\n",
       "1983                17\n",
       "1984                14\n",
       "1985                14\n",
       "1986                21\n",
       "1987                16\n",
       "1988                15\n",
       "1989                17\n",
       "1990                16\n",
       "1991                41\n",
       "1992                43\n",
       "1993                60\n",
       "1994               121\n",
       "1995               219\n",
       "1996               263\n",
       "1997               289\n",
       "1998               379\n",
       "1999               338\n",
       "2000               350\n",
       "2001               482\n",
       "2002               829\n",
       "2003               775\n",
       "2004               762\n",
       "2005               939\n",
       "2006              1006\n",
       "2007              1197\n",
       "2008              1427\n",
       "2009              1426\n",
       "2010              1255\n",
       "2011              1136\n",
       "2012               653\n",
       "2013               544\n",
       "2014               581\n",
       "2015               606\n",
       "2016               502"
      ]
     },
     "metadata": {},
     "output_type": "display_data"
    }
   ],
   "source": [
    "display(df.groupby('year_of_release')['name'].agg(['count']))"
   ]
  },
  {
   "cell_type": "code",
   "execution_count": 151,
   "metadata": {},
   "outputs": [
    {
     "data": {
      "text/plain": [
       "<AxesSubplot:xlabel='year_of_release'>"
      ]
     },
     "execution_count": 151,
     "metadata": {},
     "output_type": "execute_result"
    },
    {
     "data": {
      "image/png": "[encoded data removed]",
      "text/plain": [
       "<Figure size 432x576 with 1 Axes>"
      ]
     },
     "metadata": {
      "needs_background": "light"
     },
     "output_type": "display_data"
    }
   ],
   "source": [
    "df.groupby('year_of_release')['name'].agg(['count']).plot.bar(\n",
    "    rot=90, figsize=(6, 8), grid=True)"
   ]
  },
  {
   "cell_type": "markdown",
   "metadata": {},
   "source": [
    "<div class=\"alert alert-info\">\n",
    "<b>Комментарий:</b><br>\n",
    "Данные за все периоды неважны. Нас интересуют последние пару лет.\n",
    "</div>"
   ]
  },
  {
   "cell_type": "markdown",
   "metadata": {},
   "source": [
    "### Посмотрите, как менялись продажи по платформам. Выберите платформы с наибольшими суммарными продажами и постройте распределение по годам. За какой характерный срок появляются новые и исчезают старые платформы?"
   ]
  },
  {
   "cell_type": "code",
   "execution_count": 152,
   "metadata": {},
   "outputs": [
    {
     "name": "stdout",
     "output_type": "stream",
     "text": [
      "['Wii' 'NES' 'GB' 'DS' 'X360' 'PS3' 'PS2' 'SNES' 'GBA' 'PS4' '3DS' 'N64'\n",
      " 'PS' 'XB' 'PC' '2600' 'PSP' 'XOne' 'WiiU' 'GC' 'GEN' 'DC' 'PSV' 'SAT'\n",
      " 'SCD' 'WS' 'NG' 'TG16' '3DO' 'GG' 'PCFX']\n"
     ]
    }
   ],
   "source": [
    "# Просмотрим какие вообще платформы представленны в дф\n",
    "print(df['platform'].unique())"
   ]
  },
  {
   "cell_type": "code",
   "execution_count": 153,
   "metadata": {},
   "outputs": [
    {
     "data": {
      "text/html": [
       "<div>\n",
       "<style scoped>\n",
       "    .dataframe tbody tr th:only-of-type {\n",
       "        vertical-align: middle;\n",
       "    }\n",
       "\n",
       "    .dataframe tbody tr th {\n",
       "        vertical-align: top;\n",
       "    }\n",
       "\n",
       "    .dataframe thead th {\n",
       "        text-align: right;\n",
       "    }\n",
       "</style>\n",
       "<table border=\"1\" class=\"dataframe\">\n",
       "  <thead>\n",
       "    <tr style=\"text-align: right;\">\n",
       "      <th></th>\n",
       "      <th></th>\n",
       "      <th>count</th>\n",
       "    </tr>\n",
       "    <tr>\n",
       "      <th>platform</th>\n",
       "      <th>year_of_release</th>\n",
       "      <th></th>\n",
       "    </tr>\n",
       "  </thead>\n",
       "  <tbody>\n",
       "    <tr>\n",
       "      <th rowspan=\"10\" valign=\"top\">2600</th>\n",
       "      <th>1980</th>\n",
       "      <td>9</td>\n",
       "    </tr>\n",
       "    <tr>\n",
       "      <th>1981</th>\n",
       "      <td>46</td>\n",
       "    </tr>\n",
       "    <tr>\n",
       "      <th>1982</th>\n",
       "      <td>36</td>\n",
       "    </tr>\n",
       "    <tr>\n",
       "      <th>1983</th>\n",
       "      <td>11</td>\n",
       "    </tr>\n",
       "    <tr>\n",
       "      <th>1984</th>\n",
       "      <td>1</td>\n",
       "    </tr>\n",
       "    <tr>\n",
       "      <th>1985</th>\n",
       "      <td>1</td>\n",
       "    </tr>\n",
       "    <tr>\n",
       "      <th>1986</th>\n",
       "      <td>2</td>\n",
       "    </tr>\n",
       "    <tr>\n",
       "      <th>1987</th>\n",
       "      <td>6</td>\n",
       "    </tr>\n",
       "    <tr>\n",
       "      <th>1988</th>\n",
       "      <td>2</td>\n",
       "    </tr>\n",
       "    <tr>\n",
       "      <th>1989</th>\n",
       "      <td>2</td>\n",
       "    </tr>\n",
       "    <tr>\n",
       "      <th rowspan=\"2\" valign=\"top\">3DO</th>\n",
       "      <th>1994</th>\n",
       "      <td>1</td>\n",
       "    </tr>\n",
       "    <tr>\n",
       "      <th>1995</th>\n",
       "      <td>2</td>\n",
       "    </tr>\n",
       "    <tr>\n",
       "      <th rowspan=\"3\" valign=\"top\">3DS</th>\n",
       "      <th>2011</th>\n",
       "      <td>116</td>\n",
       "    </tr>\n",
       "    <tr>\n",
       "      <th>2012</th>\n",
       "      <td>93</td>\n",
       "    </tr>\n",
       "    <tr>\n",
       "      <th>2013</th>\n",
       "      <td>91</td>\n",
       "    </tr>\n",
       "  </tbody>\n",
       "</table>\n",
       "</div>"
      ],
      "text/plain": [
       "                          count\n",
       "platform year_of_release       \n",
       "2600     1980                 9\n",
       "         1981                46\n",
       "         1982                36\n",
       "         1983                11\n",
       "         1984                 1\n",
       "         1985                 1\n",
       "         1986                 2\n",
       "         1987                 6\n",
       "         1988                 2\n",
       "         1989                 2\n",
       "3DO      1994                 1\n",
       "         1995                 2\n",
       "3DS      2011               116\n",
       "         2012                93\n",
       "         2013                91"
      ]
     },
     "metadata": {},
     "output_type": "display_data"
    }
   ],
   "source": [
    "# Как менялись продажи по платформам\n",
    "display(df.groupby(['platform', 'year_of_release'])['name'].agg(['count']).head(15))"
   ]
  },
  {
   "cell_type": "code",
   "execution_count": 154,
   "metadata": {},
   "outputs": [
    {
     "data": {
      "text/html": [
       "<div>\n",
       "<style scoped>\n",
       "    .dataframe tbody tr th:only-of-type {\n",
       "        vertical-align: middle;\n",
       "    }\n",
       "\n",
       "    .dataframe tbody tr th {\n",
       "        vertical-align: top;\n",
       "    }\n",
       "\n",
       "    .dataframe thead th {\n",
       "        text-align: right;\n",
       "    }\n",
       "</style>\n",
       "<table border=\"1\" class=\"dataframe\">\n",
       "  <thead>\n",
       "    <tr style=\"text-align: right;\">\n",
       "      <th></th>\n",
       "      <th>sum</th>\n",
       "    </tr>\n",
       "    <tr>\n",
       "      <th>platform</th>\n",
       "      <th></th>\n",
       "    </tr>\n",
       "  </thead>\n",
       "  <tbody>\n",
       "    <tr>\n",
       "      <th>PS2</th>\n",
       "      <td>1233.56</td>\n",
       "    </tr>\n",
       "    <tr>\n",
       "      <th>X360</th>\n",
       "      <td>961.24</td>\n",
       "    </tr>\n",
       "    <tr>\n",
       "      <th>PS3</th>\n",
       "      <td>931.34</td>\n",
       "    </tr>\n",
       "    <tr>\n",
       "      <th>Wii</th>\n",
       "      <td>891.18</td>\n",
       "    </tr>\n",
       "    <tr>\n",
       "      <th>DS</th>\n",
       "      <td>802.78</td>\n",
       "    </tr>\n",
       "  </tbody>\n",
       "</table>\n",
       "</div>"
      ],
      "text/plain": [
       "              sum\n",
       "platform         \n",
       "PS2       1233.56\n",
       "X360       961.24\n",
       "PS3        931.34\n",
       "Wii        891.18\n",
       "DS         802.78"
      ]
     },
     "metadata": {},
     "output_type": "display_data"
    }
   ],
   "source": [
    "# Найдем Топ-5 платформ по продажам\n",
    "df_top_platform = df.groupby('platform')['all_sales'].agg(['sum'])\n",
    "df_top_platform = df_top_platform.sort_values(by='sum', ascending=False).head(5)\n",
    "display(df_top_platform)"
   ]
  },
  {
   "cell_type": "code",
   "execution_count": 155,
   "metadata": {},
   "outputs": [
    {
     "data": {
      "text/plain": [
       "<AxesSubplot:title={'center':'PS2'}, xlabel='year_of_release'>"
      ]
     },
     "execution_count": 155,
     "metadata": {},
     "output_type": "execute_result"
    },
    {
     "data": {
      "image/png": "[encoded data removed]",
      "text/plain": [
       "<Figure size 432x576 with 1 Axes>"
      ]
     },
     "metadata": {
      "needs_background": "light"
     },
     "output_type": "display_data"
    }
   ],
   "source": [
    "# Построим распределение по годам для каждой платформы из топа\n",
    "# PS2\n",
    "#df_ps2 = df[df['platform'] == 'PS2'].pivot_table(index='year_of_release', values='all_sales', aggfunc='sum')\n",
    "import matplotlib.pyplot as plt\n",
    "df[df['platform'] == 'PS2'].pivot_table(index='year_of_release', values='all_sales', aggfunc='sum').plot.bar(\n",
    "    rot=90, figsize=(6, 8), grid=True, title='PS2')\n"
   ]
  },
  {
   "cell_type": "code",
   "execution_count": 156,
   "metadata": {},
   "outputs": [
    {
     "data": {
      "text/plain": [
       "<AxesSubplot:title={'center':'X360'}, xlabel='year_of_release'>"
      ]
     },
     "execution_count": 156,
     "metadata": {},
     "output_type": "execute_result"
    },
    {
     "data": {
      "image/png": "[encoded data removed]",
      "text/plain": [
       "<Figure size 432x576 with 1 Axes>"
      ]
     },
     "metadata": {
      "needs_background": "light"
     },
     "output_type": "display_data"
    }
   ],
   "source": [
    "# X360\n",
    "df[df['platform'] == 'X360'].pivot_table(index='year_of_release', values='all_sales', aggfunc='sum').plot.bar(\n",
    "    rot=90, figsize=(6, 8), grid=True, title='X360')"
   ]
  },
  {
   "cell_type": "code",
   "execution_count": 157,
   "metadata": {},
   "outputs": [
    {
     "data": {
      "text/plain": [
       "<AxesSubplot:title={'center':'PS3'}, xlabel='year_of_release'>"
      ]
     },
     "execution_count": 157,
     "metadata": {},
     "output_type": "execute_result"
    },
    {
     "data": {
      "image/png": "[encoded data removed]",
      "text/plain": [
       "<Figure size 432x576 with 1 Axes>"
      ]
     },
     "metadata": {
      "needs_background": "light"
     },
     "output_type": "display_data"
    }
   ],
   "source": [
    "# PS3\n",
    "df[df['platform'] == 'PS3'].pivot_table(index='year_of_release', values='all_sales', aggfunc='sum').plot.bar(\n",
    "    rot=90, figsize=(6, 8), grid=True, title='PS3')"
   ]
  },
  {
   "cell_type": "code",
   "execution_count": 158,
   "metadata": {},
   "outputs": [
    {
     "data": {
      "text/plain": [
       "<AxesSubplot:title={'center':'Wii'}, xlabel='year_of_release'>"
      ]
     },
     "execution_count": 158,
     "metadata": {},
     "output_type": "execute_result"
    },
    {
     "data": {
      "image/png": "[encoded data removed]",
      "text/plain": [
       "<Figure size 432x576 with 1 Axes>"
      ]
     },
     "metadata": {
      "needs_background": "light"
     },
     "output_type": "display_data"
    }
   ],
   "source": [
    "# Wii\n",
    "df[df['platform'] == 'Wii'].pivot_table(index='year_of_release', values='all_sales', aggfunc='sum').plot.bar(\n",
    "    rot=90, figsize=(6, 8), grid=True, title='Wii')"
   ]
  },
  {
   "cell_type": "code",
   "execution_count": 159,
   "metadata": {},
   "outputs": [
    {
     "data": {
      "text/plain": [
       "<AxesSubplot:title={'center':'DS'}, xlabel='year_of_release'>"
      ]
     },
     "execution_count": 159,
     "metadata": {},
     "output_type": "execute_result"
    },
    {
     "data": {
      "image/png": "[encoded data removed]",
      "text/plain": [
       "<Figure size 432x576 with 1 Axes>"
      ]
     },
     "metadata": {
      "needs_background": "light"
     },
     "output_type": "display_data"
    }
   ],
   "source": [
    "# DS\n",
    "df[df['platform'] == 'DS'].pivot_table(index='year_of_release', values='all_sales', aggfunc='sum').plot.bar(\n",
    "    rot=90, figsize=(6, 8), grid=True, title='DS')"
   ]
  },
  {
   "cell_type": "markdown",
   "metadata": {},
   "source": [
    "<div class=\"alert alert-info\">\n",
    "<b>Комментарий:</b><br>\n",
    "Найдены топ-5 платформ по суммарным продажам и построены графики по этим параметрам.\n",
    "</div>"
   ]
  },
  {
   "cell_type": "code",
   "execution_count": 160,
   "metadata": {},
   "outputs": [
    {
     "name": "stdout",
     "output_type": "stream",
     "text": [
      "platform\n",
      "2600    10\n",
      "3DO      2\n",
      "3DS      6\n",
      "DC       7\n",
      "DS      11\n",
      "GB      13\n",
      "GBA      8\n",
      "GC       7\n",
      "GEN      5\n",
      "GG       1\n",
      "N64      7\n",
      "NES     12\n",
      "NG       4\n",
      "PC      26\n",
      "PCFX     1\n",
      "PS      10\n",
      "PS2     12\n",
      "PS3     11\n",
      "PS4      4\n",
      "PSP     12\n",
      "PSV      6\n",
      "SAT      6\n",
      "SCD      2\n",
      "SNES    10\n",
      "TG16     1\n",
      "WS       3\n",
      "Wii     11\n",
      "WiiU     5\n",
      "X360    12\n",
      "XB       9\n",
      "XOne     4\n",
      "Name: year_of_release, dtype: int64\n"
     ]
    }
   ],
   "source": [
    "# Количество лет, в течение которых каждая платформа была актуальна.\n",
    "df_platform_count = df[['platform', 'year_of_release', 'name']]\n",
    "df_platform_count= df_platform_count.groupby(\n",
    "    ['platform', 'year_of_release'], as_index=False).agg({'name': 'count'}).reset_index(drop=True)\n",
    "del df_platform_count['name']\n",
    "df_platform_count=df_platform_count.groupby('platform')['year_of_release'].agg('count')\n",
    "print(df_platform_count)"
   ]
  },
  {
   "cell_type": "code",
   "execution_count": 161,
   "metadata": {},
   "outputs": [
    {
     "name": "stdout",
     "output_type": "stream",
     "text": [
      "Средняя продолжительноть \"жизни\" платформы равна 7.68 лет\n"
     ]
    }
   ],
   "source": [
    "# Тк PC всегда актуальная платформа, то посчитает среднее количество актуальных лет для остальных платформ. \n",
    "# Будем считать это за средний срок \"жизни\" платформы\n",
    "df_platform_count.drop(labels=['PC'])\n",
    "print(f'Средняя продолжительноть \"жизни\" платформы равна {df_platform_count.mean():.2f} лет')"
   ]
  },
  {
   "cell_type": "markdown",
   "metadata": {},
   "source": [
    "<div class=\"alert alert-info\">\n",
    "<b>Комментарий:</b><br>\n",
    "В среднем каждые 7.68 лет новая платформа приобретает и теряет свою актуальность. Не учитывалась платформа PC\n",
    "</div>"
   ]
  },
  {
   "cell_type": "markdown",
   "metadata": {},
   "source": [
    "### Взятие данных за соответствующий актуальный период."
   ]
  },
  {
   "cell_type": "markdown",
   "metadata": {},
   "source": [
    "<div class=\"alert alert-info\">\n",
    "<b>Комментарий:</b><br>\n",
    "Т.к. из временных данных нам предоставлены лишь года (без разбивки года на месяцы), то я беру для анализа последние 3 года (2014-2016) для отслеживания изменения. По одному 2016г (без разбивки) невозможно увидеть растут или падают продажи и тд.\n",
    "</div>"
   ]
  },
  {
   "cell_type": "code",
   "execution_count": 162,
   "metadata": {},
   "outputs": [
    {
     "data": {
      "text/html": [
       "<div>\n",
       "<style scoped>\n",
       "    .dataframe tbody tr th:only-of-type {\n",
       "        vertical-align: middle;\n",
       "    }\n",
       "\n",
       "    .dataframe tbody tr th {\n",
       "        vertical-align: top;\n",
       "    }\n",
       "\n",
       "    .dataframe thead th {\n",
       "        text-align: right;\n",
       "    }\n",
       "</style>\n",
       "<table border=\"1\" class=\"dataframe\">\n",
       "  <thead>\n",
       "    <tr style=\"text-align: right;\">\n",
       "      <th></th>\n",
       "      <th>name</th>\n",
       "      <th>platform</th>\n",
       "      <th>year_of_release</th>\n",
       "      <th>genre</th>\n",
       "      <th>na_sales</th>\n",
       "      <th>eu_sales</th>\n",
       "      <th>jp_sales</th>\n",
       "      <th>other_sales</th>\n",
       "      <th>critic_score</th>\n",
       "      <th>user_score</th>\n",
       "      <th>rating</th>\n",
       "      <th>all_sales</th>\n",
       "    </tr>\n",
       "  </thead>\n",
       "  <tbody>\n",
       "    <tr>\n",
       "      <th>0</th>\n",
       "      <td>Call of Duty: Black Ops 3</td>\n",
       "      <td>PS4</td>\n",
       "      <td>2015</td>\n",
       "      <td>Shooter</td>\n",
       "      <td>6.03</td>\n",
       "      <td>5.86</td>\n",
       "      <td>0.36</td>\n",
       "      <td>2.38</td>\n",
       "      <td>NaN</td>\n",
       "      <td>NaN</td>\n",
       "      <td>NR</td>\n",
       "      <td>14.63</td>\n",
       "    </tr>\n",
       "    <tr>\n",
       "      <th>1</th>\n",
       "      <td>Grand Theft Auto V</td>\n",
       "      <td>PS4</td>\n",
       "      <td>2014</td>\n",
       "      <td>Action</td>\n",
       "      <td>3.96</td>\n",
       "      <td>6.31</td>\n",
       "      <td>0.38</td>\n",
       "      <td>1.97</td>\n",
       "      <td>97.0</td>\n",
       "      <td>8.3</td>\n",
       "      <td>M</td>\n",
       "      <td>12.62</td>\n",
       "    </tr>\n",
       "    <tr>\n",
       "      <th>2</th>\n",
       "      <td>Pokemon Omega Ruby/Pokemon Alpha Sapphire</td>\n",
       "      <td>3DS</td>\n",
       "      <td>2014</td>\n",
       "      <td>Role-Playing</td>\n",
       "      <td>4.35</td>\n",
       "      <td>3.49</td>\n",
       "      <td>3.10</td>\n",
       "      <td>0.74</td>\n",
       "      <td>NaN</td>\n",
       "      <td>NaN</td>\n",
       "      <td>NR</td>\n",
       "      <td>11.68</td>\n",
       "    </tr>\n",
       "    <tr>\n",
       "      <th>3</th>\n",
       "      <td>FIFA 16</td>\n",
       "      <td>PS4</td>\n",
       "      <td>2015</td>\n",
       "      <td>Sports</td>\n",
       "      <td>1.12</td>\n",
       "      <td>6.12</td>\n",
       "      <td>0.06</td>\n",
       "      <td>1.28</td>\n",
       "      <td>82.0</td>\n",
       "      <td>4.3</td>\n",
       "      <td>E</td>\n",
       "      <td>8.58</td>\n",
       "    </tr>\n",
       "    <tr>\n",
       "      <th>4</th>\n",
       "      <td>Star Wars Battlefront (2015)</td>\n",
       "      <td>PS4</td>\n",
       "      <td>2015</td>\n",
       "      <td>Shooter</td>\n",
       "      <td>2.99</td>\n",
       "      <td>3.49</td>\n",
       "      <td>0.22</td>\n",
       "      <td>1.28</td>\n",
       "      <td>NaN</td>\n",
       "      <td>NaN</td>\n",
       "      <td>NR</td>\n",
       "      <td>7.98</td>\n",
       "    </tr>\n",
       "    <tr>\n",
       "      <th>5</th>\n",
       "      <td>Call of Duty: Advanced Warfare</td>\n",
       "      <td>PS4</td>\n",
       "      <td>2014</td>\n",
       "      <td>Shooter</td>\n",
       "      <td>2.81</td>\n",
       "      <td>3.48</td>\n",
       "      <td>0.14</td>\n",
       "      <td>1.23</td>\n",
       "      <td>83.0</td>\n",
       "      <td>5.7</td>\n",
       "      <td>M</td>\n",
       "      <td>7.66</td>\n",
       "    </tr>\n",
       "    <tr>\n",
       "      <th>6</th>\n",
       "      <td>FIFA 17</td>\n",
       "      <td>PS4</td>\n",
       "      <td>2016</td>\n",
       "      <td>Sports</td>\n",
       "      <td>0.66</td>\n",
       "      <td>5.75</td>\n",
       "      <td>0.08</td>\n",
       "      <td>1.11</td>\n",
       "      <td>85.0</td>\n",
       "      <td>5.0</td>\n",
       "      <td>E</td>\n",
       "      <td>7.60</td>\n",
       "    </tr>\n",
       "    <tr>\n",
       "      <th>7</th>\n",
       "      <td>Super Smash Bros. for Wii U and 3DS</td>\n",
       "      <td>3DS</td>\n",
       "      <td>2014</td>\n",
       "      <td>Fighting</td>\n",
       "      <td>3.27</td>\n",
       "      <td>1.37</td>\n",
       "      <td>2.43</td>\n",
       "      <td>0.48</td>\n",
       "      <td>NaN</td>\n",
       "      <td>NaN</td>\n",
       "      <td>NR</td>\n",
       "      <td>7.55</td>\n",
       "    </tr>\n",
       "    <tr>\n",
       "      <th>8</th>\n",
       "      <td>Call of Duty: Black Ops 3</td>\n",
       "      <td>XOne</td>\n",
       "      <td>2015</td>\n",
       "      <td>Shooter</td>\n",
       "      <td>4.59</td>\n",
       "      <td>2.11</td>\n",
       "      <td>0.01</td>\n",
       "      <td>0.68</td>\n",
       "      <td>NaN</td>\n",
       "      <td>NaN</td>\n",
       "      <td>NR</td>\n",
       "      <td>7.39</td>\n",
       "    </tr>\n",
       "    <tr>\n",
       "      <th>9</th>\n",
       "      <td>Fallout 4</td>\n",
       "      <td>PS4</td>\n",
       "      <td>2015</td>\n",
       "      <td>Role-Playing</td>\n",
       "      <td>2.53</td>\n",
       "      <td>3.27</td>\n",
       "      <td>0.24</td>\n",
       "      <td>1.13</td>\n",
       "      <td>87.0</td>\n",
       "      <td>6.5</td>\n",
       "      <td>M</td>\n",
       "      <td>7.17</td>\n",
       "    </tr>\n",
       "  </tbody>\n",
       "</table>\n",
       "</div>"
      ],
      "text/plain": [
       "                                        name platform  year_of_release  \\\n",
       "0                  Call of Duty: Black Ops 3      PS4             2015   \n",
       "1                         Grand Theft Auto V      PS4             2014   \n",
       "2  Pokemon Omega Ruby/Pokemon Alpha Sapphire      3DS             2014   \n",
       "3                                    FIFA 16      PS4             2015   \n",
       "4               Star Wars Battlefront (2015)      PS4             2015   \n",
       "5             Call of Duty: Advanced Warfare      PS4             2014   \n",
       "6                                    FIFA 17      PS4             2016   \n",
       "7        Super Smash Bros. for Wii U and 3DS      3DS             2014   \n",
       "8                  Call of Duty: Black Ops 3     XOne             2015   \n",
       "9                                  Fallout 4      PS4             2015   \n",
       "\n",
       "          genre  na_sales  eu_sales  jp_sales  other_sales  critic_score  \\\n",
       "0       Shooter      6.03      5.86      0.36         2.38           NaN   \n",
       "1        Action      3.96      6.31      0.38         1.97          97.0   \n",
       "2  Role-Playing      4.35      3.49      3.10         0.74           NaN   \n",
       "3        Sports      1.12      6.12      0.06         1.28          82.0   \n",
       "4       Shooter      2.99      3.49      0.22         1.28           NaN   \n",
       "5       Shooter      2.81      3.48      0.14         1.23          83.0   \n",
       "6        Sports      0.66      5.75      0.08         1.11          85.0   \n",
       "7      Fighting      3.27      1.37      2.43         0.48           NaN   \n",
       "8       Shooter      4.59      2.11      0.01         0.68           NaN   \n",
       "9  Role-Playing      2.53      3.27      0.24         1.13          87.0   \n",
       "\n",
       "   user_score rating  all_sales  \n",
       "0         NaN     NR      14.63  \n",
       "1         8.3      M      12.62  \n",
       "2         NaN     NR      11.68  \n",
       "3         4.3      E       8.58  \n",
       "4         NaN     NR       7.98  \n",
       "5         5.7      M       7.66  \n",
       "6         5.0      E       7.60  \n",
       "7         NaN     NR       7.55  \n",
       "8         NaN     NR       7.39  \n",
       "9         6.5      M       7.17  "
      ]
     },
     "metadata": {},
     "output_type": "display_data"
    }
   ],
   "source": [
    "# Создание дф с актуальными данными для дальнейшего прогнозирования.\n",
    "df_actual = df.query('year_of_release in [2014, 2015, 2016]').reset_index(drop=True)\n",
    "display(df_actual.head(10))\n",
    "df_2016 = df.query('year_of_release == 2016')"
   ]
  },
  {
   "cell_type": "markdown",
   "metadata": {},
   "source": [
    "### Выбор нескольких потенциально прибыльных платформ."
   ]
  },
  {
   "cell_type": "code",
   "execution_count": 163,
   "metadata": {},
   "outputs": [
    {
     "data": {
      "text/html": [
       "<div>\n",
       "<style scoped>\n",
       "    .dataframe tbody tr th:only-of-type {\n",
       "        vertical-align: middle;\n",
       "    }\n",
       "\n",
       "    .dataframe tbody tr th {\n",
       "        vertical-align: top;\n",
       "    }\n",
       "\n",
       "    .dataframe thead th {\n",
       "        text-align: right;\n",
       "    }\n",
       "</style>\n",
       "<table border=\"1\" class=\"dataframe\">\n",
       "  <thead>\n",
       "    <tr style=\"text-align: right;\">\n",
       "      <th>platform</th>\n",
       "      <th>3DS</th>\n",
       "      <th>PC</th>\n",
       "      <th>PS3</th>\n",
       "      <th>PS4</th>\n",
       "      <th>PSP</th>\n",
       "      <th>PSV</th>\n",
       "      <th>Wii</th>\n",
       "      <th>WiiU</th>\n",
       "      <th>X360</th>\n",
       "      <th>XOne</th>\n",
       "    </tr>\n",
       "    <tr>\n",
       "      <th>year_of_release</th>\n",
       "      <th></th>\n",
       "      <th></th>\n",
       "      <th></th>\n",
       "      <th></th>\n",
       "      <th></th>\n",
       "      <th></th>\n",
       "      <th></th>\n",
       "      <th></th>\n",
       "      <th></th>\n",
       "      <th></th>\n",
       "    </tr>\n",
       "  </thead>\n",
       "  <tbody>\n",
       "    <tr>\n",
       "      <th>2014</th>\n",
       "      <td>43.76</td>\n",
       "      <td>13.28</td>\n",
       "      <td>47.76</td>\n",
       "      <td>100.00</td>\n",
       "      <td>0.24</td>\n",
       "      <td>11.90</td>\n",
       "      <td>3.75</td>\n",
       "      <td>22.03</td>\n",
       "      <td>34.74</td>\n",
       "      <td>54.07</td>\n",
       "    </tr>\n",
       "    <tr>\n",
       "      <th>2015</th>\n",
       "      <td>27.78</td>\n",
       "      <td>8.52</td>\n",
       "      <td>16.82</td>\n",
       "      <td>118.90</td>\n",
       "      <td>0.12</td>\n",
       "      <td>6.25</td>\n",
       "      <td>1.14</td>\n",
       "      <td>16.35</td>\n",
       "      <td>11.96</td>\n",
       "      <td>60.14</td>\n",
       "    </tr>\n",
       "    <tr>\n",
       "      <th>2016</th>\n",
       "      <td>15.14</td>\n",
       "      <td>5.25</td>\n",
       "      <td>3.60</td>\n",
       "      <td>69.25</td>\n",
       "      <td>NaN</td>\n",
       "      <td>4.25</td>\n",
       "      <td>0.18</td>\n",
       "      <td>4.60</td>\n",
       "      <td>1.52</td>\n",
       "      <td>26.15</td>\n",
       "    </tr>\n",
       "  </tbody>\n",
       "</table>\n",
       "</div>"
      ],
      "text/plain": [
       "platform           3DS     PC    PS3     PS4   PSP    PSV   Wii   WiiU   X360  \\\n",
       "year_of_release                                                                 \n",
       "2014             43.76  13.28  47.76  100.00  0.24  11.90  3.75  22.03  34.74   \n",
       "2015             27.78   8.52  16.82  118.90  0.12   6.25  1.14  16.35  11.96   \n",
       "2016             15.14   5.25   3.60   69.25   NaN   4.25  0.18   4.60   1.52   \n",
       "\n",
       "platform          XOne  \n",
       "year_of_release         \n",
       "2014             54.07  \n",
       "2015             60.14  \n",
       "2016             26.15  "
      ]
     },
     "metadata": {},
     "output_type": "display_data"
    }
   ],
   "source": [
    "# Выясним топ продаж по платформам\n",
    "df_actual_top_platform = df_actual.pivot_table(index='year_of_release', columns='platform', values='all_sales', aggfunc=('sum'))\n",
    "display(df_actual_top_platform)"
   ]
  },
  {
   "cell_type": "code",
   "execution_count": 164,
   "metadata": {},
   "outputs": [
    {
     "data": {
      "text/plain": [
       "<AxesSubplot:xlabel='year_of_release'>"
      ]
     },
     "execution_count": 164,
     "metadata": {},
     "output_type": "execute_result"
    },
    {
     "data": {
      "image/png": "[encoded data removed]",
      "text/plain": [
       "<Figure size 432x576 with 1 Axes>"
      ]
     },
     "metadata": {
      "needs_background": "light"
     },
     "output_type": "display_data"
    }
   ],
   "source": [
    "df_actual_top_platform.plot.bar(\n",
    "    rot=90, figsize=(6, 8), grid=True,)"
   ]
  },
  {
   "cell_type": "markdown",
   "metadata": {},
   "source": [
    "<div class=\"alert alert-info\">\n",
    "<b>Комментарий:</b><br>\n",
    "В сводной таблице представлены продажи на различных платформах по годам.<br>\n",
    "По данным заметно снижение количества продаж по каждой платформе.<br>\n",
    "</div>"
   ]
  },
  {
   "cell_type": "markdown",
   "metadata": {},
   "source": [
    "<div class=\"alert alert-info\">\n",
    "<b>Комментарий V2:</b><br>\n",
    "В Японии могут быть популярны платформы, которые не пользуются успехом в других регионах. Не будем учитывать этот факт.<br>\n",
    "Можно смело отбросить платформы Wii и PSP, тк очень мало продаж по этим платформам и они стремятся к 0.<br>\n",
    "</div>"
   ]
  },
  {
   "cell_type": "markdown",
   "metadata": {},
   "source": [
    "### Построение графика «ящик с усами» по глобальным продажам игр в разбивке по платформам."
   ]
  },
  {
   "cell_type": "code",
   "execution_count": 165,
   "metadata": {},
   "outputs": [
    {
     "data": {
      "text/plain": [
       "<AxesSubplot:title={'center':'all_sales'}, xlabel='[platform]'>"
      ]
     },
     "execution_count": 165,
     "metadata": {},
     "output_type": "execute_result"
    },
    {
     "data": {
      "image/png": "[encoded data removed]",
      "text/plain": [
       "<Figure size 720x1152 with 1 Axes>"
      ]
     },
     "metadata": {
      "needs_background": "light"
     },
     "output_type": "display_data"
    }
   ],
   "source": [
    "# Построение \"ящика с усами\" за интересующий нас 2016г\n",
    "df_2016.boxplot(column=['all_sales'], by=['platform'], rot=90, figsize=(10,16), grid=True)"
   ]
  },
  {
   "cell_type": "markdown",
   "metadata": {},
   "source": [
    "<div class=\"alert alert-info\">\n",
    "<b>Комментарий:</b><br>\n",
    "Был построен график \"ящик с усами\" за 2016г по всем платформам.<br>\n",
    "По данным заметно большое количество аномалий у таких платформ, как PC, PS4, PSV и XOne.<br>\n",
    "</div>"
   ]
  },
  {
   "cell_type": "markdown",
   "metadata": {},
   "source": [
    "<div class=\"alert alert-info\">\n",
    "<b>Комментарий V2:</b><br>\n",
    "Показанные выбросы появляются, возможно, в результате некорректного заполнения таблицы.<br>\n",
    "Судя по чему строится график, можно предположить, что выбросами являются игры с очень большим количеством продаж.<br>\n",
    "</div>"
   ]
  },
  {
   "cell_type": "markdown",
   "metadata": {},
   "source": [
    "### Как влияют на продажи внутри одной популярной платформы отзывы пользователей и критиков"
   ]
  },
  {
   "cell_type": "markdown",
   "metadata": {},
   "source": [
    "<div class=\"alert alert-info\">\n",
    "<b>Комментарий V2:</b><br>\n",
    "Возьму следующие пару платформ, помимо PS4 и рассмотрю за весь период 2014-2016.<br>\n",
    "Судя по чему строится график, можно предположить, что выбросами являются игры с очень большим количеством продаж.<br>\n",
    "</div>"
   ]
  },
  {
   "cell_type": "code",
   "execution_count": 166,
   "metadata": {},
   "outputs": [
    {
     "name": "stdout",
     "output_type": "stream",
     "text": [
      "              all_sales  critic_score  user_score\n",
      "all_sales      1.000000      0.402661   -0.040132\n",
      "critic_score   0.402661      1.000000    0.546434\n",
      "user_score    -0.040132      0.546434    1.000000\n"
     ]
    },
    {
     "data": {
      "image/png": "[encoded data removed]",
      "text/plain": [
       "<Figure size 648x648 with 9 Axes>"
      ]
     },
     "metadata": {
      "needs_background": "light"
     },
     "output_type": "display_data"
    }
   ],
   "source": [
    "# Возьмем для рассмотрения самую популярную платформу за 2014-2016 года - PS4 \n",
    "df_actual_ps4 = df_actual.query('platform == \"PS4\"')\n",
    "print(df_actual_ps4[['all_sales', 'critic_score', 'user_score']].corr())\n",
    "pd.plotting.scatter_matrix(df_actual_ps4[['all_sales', 'critic_score', 'user_score']], figsize=(9, 9), grid=True)\n",
    "plt.show()"
   ]
  },
  {
   "cell_type": "markdown",
   "metadata": {},
   "source": [
    "<div class=\"alert alert-info\">\n",
    "<b>Комментарий:</b><br>\n",
    "• Наблюдается больше продаж при рейтинге критиков от 60 до 80. Пользователей от 6.<br>\n",
    "На количество продаж в большую сторону влияют оценки критиков. При этом оценки пользователей практически не оказывают влияние на рост продаж.\n",
    "</div>"
   ]
  },
  {
   "cell_type": "code",
   "execution_count": 167,
   "metadata": {},
   "outputs": [
    {
     "name": "stdout",
     "output_type": "stream",
     "text": [
      "              all_sales  critic_score  user_score\n",
      "all_sales      1.000000      0.314117    0.215193\n",
      "critic_score   0.314117      1.000000    0.862485\n",
      "user_score     0.215193      0.862485    1.000000\n"
     ]
    },
    {
     "data": {
      "image/png": "[encoded data removed]",
      "text/plain": [
       "<Figure size 648x648 with 9 Axes>"
      ]
     },
     "metadata": {
      "needs_background": "light"
     },
     "output_type": "display_data"
    }
   ],
   "source": [
    "# Возьмем для рассмотрения 3DS\n",
    "df_actual_3ds = df_actual.query('platform == \"3DS\"')\n",
    "print(df_actual_3ds[['all_sales', 'critic_score', 'user_score']].corr())\n",
    "pd.plotting.scatter_matrix(df_actual_3ds[['all_sales', 'critic_score', 'user_score']], figsize=(9, 9), grid=True)\n",
    "plt.show()"
   ]
  },
  {
   "cell_type": "markdown",
   "metadata": {},
   "source": [
    "<div class=\"alert alert-info\">\n",
    "<b>Комментарий:</b><br>\n",
    "• Наблюдается больше продаж при рейтинге критиков от 60 до 80. Пользователей от 7<br>\n",
    "На количество продаж в большую сторону в почти равной степени влияют оценки критиков и пользователей.\n",
    "</div>"
   ]
  },
  {
   "cell_type": "code",
   "execution_count": 168,
   "metadata": {},
   "outputs": [
    {
     "name": "stdout",
     "output_type": "stream",
     "text": [
      "              all_sales  critic_score  user_score\n",
      "all_sales      1.000000      0.174634   -0.071597\n",
      "critic_score   0.174634      1.000000    0.466099\n",
      "user_score    -0.071597      0.466099    1.000000\n"
     ]
    },
    {
     "data": {
      "image/png": "[encoded data removed]",
      "text/plain": [
       "<Figure size 648x648 with 9 Axes>"
      ]
     },
     "metadata": {
      "needs_background": "light"
     },
     "output_type": "display_data"
    }
   ],
   "source": [
    "# Возьмем для рассмотрения PC\n",
    "df_actual_pc = df_actual.query('platform == \"PC\"')\n",
    "print(df_actual_pc[['all_sales', 'critic_score', 'user_score']].corr())\n",
    "pd.plotting.scatter_matrix(df_actual_pc[['all_sales', 'critic_score', 'user_score']], figsize=(9, 9), grid=True)\n",
    "plt.show()"
   ]
  },
  {
   "cell_type": "markdown",
   "metadata": {},
   "source": [
    "<div class=\"alert alert-info\">\n",
    "<b>Комментарий:</b><br>\n",
    "На количество продаж оценки пользователей и критиков особо не влияют.\n",
    "</div>"
   ]
  },
  {
   "cell_type": "code",
   "execution_count": 169,
   "metadata": {},
   "outputs": [
    {
     "name": "stdout",
     "output_type": "stream",
     "text": [
      "              all_sales  critic_score  user_score\n",
      "all_sales      1.000000      0.446575   -0.166761\n",
      "critic_score   0.446575      1.000000    0.693445\n",
      "user_score    -0.166761      0.693445    1.000000\n"
     ]
    },
    {
     "data": {
      "image/png": "[encoded data removed]",
      "text/plain": [
       "<Figure size 648x648 with 9 Axes>"
      ]
     },
     "metadata": {
      "needs_background": "light"
     },
     "output_type": "display_data"
    }
   ],
   "source": [
    "# Возьмем для рассмотрения PS3\n",
    "df_actual_ps3 = df_actual.query('platform == \"PS3\"')\n",
    "print(df_actual_ps3[['all_sales', 'critic_score', 'user_score']].corr())\n",
    "pd.plotting.scatter_matrix(df_actual_ps3[['all_sales', 'critic_score', 'user_score']], figsize=(9, 9), grid=True)\n",
    "plt.show()"
   ]
  },
  {
   "cell_type": "markdown",
   "metadata": {},
   "source": [
    "<div class=\"alert alert-info\">\n",
    "<b>Комментарий:</b><br>\n",
    "На количество продаж в большую сторону влияют оценки критиков. При этом оценки пользователей практически не оказывают влияние на рост продаж.\n",
    "</div>"
   ]
  },
  {
   "cell_type": "code",
   "execution_count": 170,
   "metadata": {},
   "outputs": [
    {
     "name": "stdout",
     "output_type": "stream",
     "text": [
      "              all_sales  critic_score  user_score\n",
      "all_sales      1.000000      0.525723   -0.138445\n",
      "critic_score   0.525723      1.000000    0.625309\n",
      "user_score    -0.138445      0.625309    1.000000\n"
     ]
    },
    {
     "data": {
      "image/png": "[encoded data removed]",
      "text/plain": [
       "<Figure size 648x648 with 9 Axes>"
      ]
     },
     "metadata": {
      "needs_background": "light"
     },
     "output_type": "display_data"
    }
   ],
   "source": [
    "# Возьмем для рассмотрения X360\n",
    "df_actual_x360 = df_actual.query('platform == \"X360\"')\n",
    "print(df_actual_x360[['all_sales', 'critic_score', 'user_score']].corr())\n",
    "pd.plotting.scatter_matrix(df_actual_x360[['all_sales', 'critic_score', 'user_score']], figsize=(9, 9), grid=True)\n",
    "plt.show()"
   ]
  },
  {
   "cell_type": "markdown",
   "metadata": {},
   "source": [
    "<div class=\"alert alert-info\">\n",
    "<b>Комментарий:</b><br>\n",
    "На количество продаж сильно влияют оценки критиков.\n",
    "</div>"
   ]
  },
  {
   "cell_type": "code",
   "execution_count": 171,
   "metadata": {},
   "outputs": [
    {
     "name": "stdout",
     "output_type": "stream",
     "text": [
      "              all_sales  critic_score  user_score\n",
      "all_sales      1.000000      0.428677   -0.070384\n",
      "critic_score   0.428677      1.000000    0.440977\n",
      "user_score    -0.070384      0.440977    1.000000\n"
     ]
    },
    {
     "data": {
      "image/png": "[encoded data removed]",
      "text/plain": [
       "<Figure size 648x648 with 9 Axes>"
      ]
     },
     "metadata": {
      "needs_background": "light"
     },
     "output_type": "display_data"
    }
   ],
   "source": [
    "# Возьмем для рассмотрения XOne\n",
    "df_actual_xone = df_actual.query('platform == \"XOne\"')\n",
    "print(df_actual_xone[['all_sales', 'critic_score', 'user_score']].corr())\n",
    "pd.plotting.scatter_matrix(df_actual_xone[['all_sales', 'critic_score', 'user_score']], figsize=(9, 9), grid=True)\n",
    "plt.show()"
   ]
  },
  {
   "cell_type": "markdown",
   "metadata": {},
   "source": [
    "<div class=\"alert alert-info\">\n",
    "<b>Комментарий:</b><br>\n",
    "• Наблюдается больше продаж при рейтинге критиков от 60 до 80. Пользователей от 6.<br>\n",
    "На количество продаж в большую сторону влияют оценки критиков. При этом оценки пользователей практически не оказывают влияние на рост продаж.\n",
    "</div>"
   ]
  },
  {
   "cell_type": "markdown",
   "metadata": {},
   "source": [
    "### Распределение игр по жанрам"
   ]
  },
  {
   "cell_type": "code",
   "execution_count": 172,
   "metadata": {},
   "outputs": [
    {
     "name": "stdout",
     "output_type": "stream",
     "text": [
      "['Sports' 'Platform' 'Racing' 'Role-Playing' 'Puzzle' 'Misc' 'Shooter'\n",
      " 'Simulation' 'Action' 'Fighting' 'Adventure' 'Strategy']\n"
     ]
    }
   ],
   "source": [
    "print(df['genre'].unique())"
   ]
  },
  {
   "cell_type": "code",
   "execution_count": 173,
   "metadata": {},
   "outputs": [
    {
     "data": {
      "text/html": [
       "<div>\n",
       "<style scoped>\n",
       "    .dataframe tbody tr th:only-of-type {\n",
       "        vertical-align: middle;\n",
       "    }\n",
       "\n",
       "    .dataframe tbody tr th {\n",
       "        vertical-align: top;\n",
       "    }\n",
       "\n",
       "    .dataframe thead th {\n",
       "        text-align: right;\n",
       "    }\n",
       "</style>\n",
       "<table border=\"1\" class=\"dataframe\">\n",
       "  <thead>\n",
       "    <tr style=\"text-align: right;\">\n",
       "      <th></th>\n",
       "      <th>mean</th>\n",
       "      <th>median</th>\n",
       "    </tr>\n",
       "    <tr>\n",
       "      <th>genre</th>\n",
       "      <th></th>\n",
       "      <th></th>\n",
       "    </tr>\n",
       "  </thead>\n",
       "  <tbody>\n",
       "    <tr>\n",
       "      <th>Action</th>\n",
       "      <td>0.322068</td>\n",
       "      <td>0.090</td>\n",
       "    </tr>\n",
       "    <tr>\n",
       "      <th>Adventure</th>\n",
       "      <td>0.094865</td>\n",
       "      <td>0.030</td>\n",
       "    </tr>\n",
       "    <tr>\n",
       "      <th>Fighting</th>\n",
       "      <td>0.470333</td>\n",
       "      <td>0.125</td>\n",
       "    </tr>\n",
       "    <tr>\n",
       "      <th>Misc</th>\n",
       "      <td>0.332301</td>\n",
       "      <td>0.090</td>\n",
       "    </tr>\n",
       "    <tr>\n",
       "      <th>Platform</th>\n",
       "      <td>0.476053</td>\n",
       "      <td>0.140</td>\n",
       "    </tr>\n",
       "    <tr>\n",
       "      <th>Puzzle</th>\n",
       "      <td>0.157857</td>\n",
       "      <td>0.045</td>\n",
       "    </tr>\n",
       "    <tr>\n",
       "      <th>Racing</th>\n",
       "      <td>0.398841</td>\n",
       "      <td>0.090</td>\n",
       "    </tr>\n",
       "    <tr>\n",
       "      <th>Role-Playing</th>\n",
       "      <td>0.459005</td>\n",
       "      <td>0.110</td>\n",
       "    </tr>\n",
       "    <tr>\n",
       "      <th>Shooter</th>\n",
       "      <td>1.335469</td>\n",
       "      <td>0.515</td>\n",
       "    </tr>\n",
       "    <tr>\n",
       "      <th>Simulation</th>\n",
       "      <td>0.298409</td>\n",
       "      <td>0.100</td>\n",
       "    </tr>\n",
       "    <tr>\n",
       "      <th>Sports</th>\n",
       "      <td>0.680000</td>\n",
       "      <td>0.180</td>\n",
       "    </tr>\n",
       "    <tr>\n",
       "      <th>Strategy</th>\n",
       "      <td>0.107027</td>\n",
       "      <td>0.060</td>\n",
       "    </tr>\n",
       "  </tbody>\n",
       "</table>\n",
       "</div>"
      ],
      "text/plain": [
       "                  mean  median\n",
       "genre                         \n",
       "Action        0.322068   0.090\n",
       "Adventure     0.094865   0.030\n",
       "Fighting      0.470333   0.125\n",
       "Misc          0.332301   0.090\n",
       "Platform      0.476053   0.140\n",
       "Puzzle        0.157857   0.045\n",
       "Racing        0.398841   0.090\n",
       "Role-Playing  0.459005   0.110\n",
       "Shooter       1.335469   0.515\n",
       "Simulation    0.298409   0.100\n",
       "Sports        0.680000   0.180\n",
       "Strategy      0.107027   0.060"
      ]
     },
     "metadata": {},
     "output_type": "display_data"
    }
   ],
   "source": [
    "df_genre_game = df.query('year_of_release in [2014, 2015, 2016]')[['genre', 'all_sales']].reset_index(drop=True)\n",
    "df_genre_game = df_genre_game.groupby('genre')['all_sales'].agg(['mean','median'])\n",
    "df_genre_game = df_genre_game.sort_values(by='genre')\n",
    "display(df_genre_game)"
   ]
  },
  {
   "cell_type": "markdown",
   "metadata": {},
   "source": [
    "<div class=\"alert alert-info\">\n",
    "<b>Комментарий:</b><br>\n",
    "Поскольку могут встретиться так называемые звезды или игры с низкими продажами, то правильнее будет взять медианное значение.<br>\n",
    "Наиболее успешными жанрами являются: Shooter и Sports.<br>\n",
    "Наименее успешные: Adventure и Puzzle.\n",
    "\n",
    "</div>"
   ]
  },
  {
   "cell_type": "markdown",
   "metadata": {},
   "source": [
    "## Составление портрета пользователя каждого региона"
   ]
  },
  {
   "cell_type": "code",
   "execution_count": 174,
   "metadata": {},
   "outputs": [
    {
     "data": {
      "text/plain": [
       "platform\n",
       "PS4     98.61\n",
       "XOne    81.27\n",
       "X360    28.30\n",
       "3DS     22.64\n",
       "PS3     22.05\n",
       "Name: na_sales, dtype: float64"
      ]
     },
     "metadata": {},
     "output_type": "display_data"
    },
    {
     "name": "stdout",
     "output_type": "stream",
     "text": [
      "Доля продаж игр на PS4 34.71%\n",
      "Доля продаж игр на XOne 28.61%\n",
      "Доля продаж игр на 3DS 7.97%\n",
      "Доля продаж игр на WiiU 6.82%\n",
      "Доля продаж игр на PC 2.55%\n"
     ]
    },
    {
     "data": {
      "text/plain": [
       "genre\n",
       "Shooter         79.02\n",
       "Action          72.53\n",
       "Sports          46.13\n",
       "Role-Playing    33.47\n",
       "Misc            15.05\n",
       "Name: na_sales, dtype: float64"
      ]
     },
     "metadata": {},
     "output_type": "display_data"
    },
    {
     "data": {
      "text/plain": [
       "None"
      ]
     },
     "metadata": {},
     "output_type": "display_data"
    },
    {
     "data": {
      "text/plain": [
       "<AxesSubplot:xlabel='rating'>"
      ]
     },
     "execution_count": 174,
     "metadata": {},
     "output_type": "execute_result"
    },
    {
     "data": {
      "image/png": "[encoded data removed]",
      "text/plain": [
       "<Figure size 432x576 with 1 Axes>"
      ]
     },
     "metadata": {
      "needs_background": "light"
     },
     "output_type": "display_data"
    }
   ],
   "source": [
    "# Регион Северной Америки (NA)\n",
    "df_na = df_actual.groupby('platform')['na_sales'].agg('sum')\n",
    "\n",
    "# Топ-5 платформ по продажам игр.\n",
    "display(df_na.sort_values(ascending=False).head(5))\n",
    "\n",
    "print(f'Доля продаж игр на PS4 {df_na[\"PS4\"] / df_na.sum():.2%}')\n",
    "print(f'Доля продаж игр на XOne {df_na[\"XOne\"] / df_na.sum():.2%}')\n",
    "print(f'Доля продаж игр на 3DS {df_na[\"3DS\"] / df_na.sum():.2%}')\n",
    "print(f'Доля продаж игр на WiiU {df_na[\"WiiU\"] / df_na.sum():.2%}')\n",
    "print(f'Доля продаж игр на PC {df_na[\"PC\"] / df_na.sum():.2%}')\n",
    "\n",
    "# Топ-5 жанров\n",
    "df_na_genre = df_actual.groupby('genre')['na_sales'].agg('sum')\n",
    "display(display(df_na_genre.sort_values(ascending=False).head(5)))\n",
    "\n",
    "# Влияние рейтинга\n",
    "\n",
    "df_actual.pivot_table(index='rating', values='na_sales', aggfunc='sum').plot.bar(\n",
    "    rot=90, figsize=(6, 8), grid=True)"
   ]
  },
  {
   "cell_type": "markdown",
   "metadata": {},
   "source": [
    "<div class=\"alert alert-info\">\n",
    "<b>Комментарий:</b><br>\n",
    "• Самой популярной платформой в Северной Америке является PS4. На неё приходится 34.71% продаж.<br>\n",
    "• Самый популярный жанр - Shooter.<br>\n",
    "• Наиболее популярными рейтингами игр являются - M и NR (без рейтинга), наименее популярный - E10+.\n",
    "</div>"
   ]
  },
  {
   "cell_type": "code",
   "execution_count": 175,
   "metadata": {},
   "outputs": [
    {
     "data": {
      "text/plain": [
       "platform\n",
       "PS4     130.04\n",
       "XOne     46.25\n",
       "PS3      25.54\n",
       "PC       17.97\n",
       "3DS      16.12\n",
       "Name: eu_sales, dtype: float64"
      ]
     },
     "metadata": {},
     "output_type": "display_data"
    },
    {
     "name": "stdout",
     "output_type": "stream",
     "text": [
      "Доля продаж игр на PS4 48.04%\n",
      "Доля продаж игр на XOne 17.09%\n",
      "Доля продаж игр на PC 6.64%\n",
      "Доля продаж игр на 3DS 5.96%\n",
      "Доля продаж игр на WiiU 4.86%\n"
     ]
    },
    {
     "data": {
      "text/plain": [
       "genre\n",
       "Action          74.68\n",
       "Shooter         65.52\n",
       "Sports          45.73\n",
       "Role-Playing    28.17\n",
       "Racing          14.13\n",
       "Name: eu_sales, dtype: float64"
      ]
     },
     "metadata": {},
     "output_type": "display_data"
    },
    {
     "data": {
      "text/plain": [
       "None"
      ]
     },
     "metadata": {},
     "output_type": "display_data"
    },
    {
     "data": {
      "text/plain": [
       "<AxesSubplot:xlabel='rating'>"
      ]
     },
     "execution_count": 175,
     "metadata": {},
     "output_type": "execute_result"
    },
    {
     "data": {
      "image/png": "[encoded data removed]",
      "text/plain": [
       "<Figure size 432x576 with 1 Axes>"
      ]
     },
     "metadata": {
      "needs_background": "light"
     },
     "output_type": "display_data"
    }
   ],
   "source": [
    "# Регион Европы (EU)\n",
    "df_eu = df_actual.groupby('platform')['eu_sales'].agg('sum')\n",
    "\n",
    "# Топ-5 платформ по продажам игр.\n",
    "display(df_eu.sort_values(ascending=False).head(5))\n",
    "\n",
    "print(f'Доля продаж игр на PS4 {df_eu[\"PS4\"] / df_eu.sum():.2%}')\n",
    "print(f'Доля продаж игр на XOne {df_eu[\"XOne\"] / df_eu.sum():.2%}')\n",
    "print(f'Доля продаж игр на PC {df_eu[\"PC\"] / df_eu.sum():.2%}')\n",
    "print(f'Доля продаж игр на 3DS {df_eu[\"3DS\"] / df_eu.sum():.2%}')\n",
    "print(f'Доля продаж игр на WiiU {df_eu[\"WiiU\"] / df_eu.sum():.2%}')\n",
    "\n",
    "# Топ-5 жанров\n",
    "df_eu_genre = df_actual.groupby('genre')['eu_sales'].agg('sum')\n",
    "display(display(df_eu_genre.sort_values(ascending=False).head(5)))\n",
    "\n",
    "# Влияние рейтинга\n",
    "\n",
    "df_actual.pivot_table(index='rating', values='eu_sales', aggfunc='sum').plot.bar(\n",
    "    rot=90, figsize=(6, 8), grid=True)"
   ]
  },
  {
   "cell_type": "markdown",
   "metadata": {},
   "source": [
    "<div class=\"alert alert-info\">\n",
    "<b>Комментарий:</b><br>\n",
    "• Самой популярной платформой в Европе является PS4. На неё приходится 48.04% продаж.<br>\n",
    "• Самый популярный жанр - Action. Недалеко от него идет Shooter.<br>\n",
    "• Наиболее популярным рейтингом игр является - M, E и NR (без рейтинга), наименее популярный - E10+.\n",
    "</div>"
   ]
  },
  {
   "cell_type": "code",
   "execution_count": 176,
   "metadata": {},
   "outputs": [
    {
     "data": {
      "text/plain": [
       "platform\n",
       "3DS     44.24\n",
       "PS4     15.02\n",
       "PSV     14.54\n",
       "PS3     11.22\n",
       "WiiU     7.31\n",
       "Name: jp_sales, dtype: float64"
      ]
     },
     "metadata": {},
     "output_type": "display_data"
    },
    {
     "name": "stdout",
     "output_type": "stream",
     "text": [
      "Доля продаж игр на 3DS 47.52%\n",
      "Доля продаж игр на PS4 16.13%\n",
      "Доля продаж игр на PSV 15.62%\n",
      "Доля продаж игр на PS3 12.05%\n",
      "Доля продаж игр на WiiU 7.85%\n"
     ]
    },
    {
     "data": {
      "text/plain": [
       "genre\n",
       "Role-Playing    31.16\n",
       "Action          29.58\n",
       "Fighting         6.37\n",
       "Misc             5.61\n",
       "Shooter          4.87\n",
       "Name: jp_sales, dtype: float64"
      ]
     },
     "metadata": {},
     "output_type": "display_data"
    },
    {
     "data": {
      "text/plain": [
       "None"
      ]
     },
     "metadata": {},
     "output_type": "display_data"
    },
    {
     "data": {
      "text/plain": [
       "<AxesSubplot:xlabel='rating'>"
      ]
     },
     "execution_count": 176,
     "metadata": {},
     "output_type": "execute_result"
    },
    {
     "data": {
      "image/png": "[encoded data removed]",
      "text/plain": [
       "<Figure size 432x576 with 1 Axes>"
      ]
     },
     "metadata": {
      "needs_background": "light"
     },
     "output_type": "display_data"
    }
   ],
   "source": [
    "# Регион Япония (JP)\n",
    "df_jp = df_actual.groupby('platform')['jp_sales'].agg('sum')\n",
    "\n",
    "# Топ-5 платформ по продажам игр.\n",
    "display(df_jp.sort_values(ascending=False).head(5))\n",
    "\n",
    "print(f'Доля продаж игр на 3DS {df_jp[\"3DS\"] / df_jp.sum():.2%}')\n",
    "print(f'Доля продаж игр на PS4 {df_jp[\"PS4\"] / df_jp.sum():.2%}')\n",
    "print(f'Доля продаж игр на PSV {df_jp[\"PSV\"] / df_jp.sum():.2%}')\n",
    "print(f'Доля продаж игр на PS3 {df_jp[\"PS3\"] / df_jp.sum():.2%}')\n",
    "print(f'Доля продаж игр на WiiU {df_jp[\"WiiU\"] / df_jp.sum():.2%}')\n",
    "\n",
    "# Топ-5 жанров\n",
    "df_jp_genre = df_actual.groupby('genre')['jp_sales'].agg('sum')\n",
    "display(display(df_jp_genre.sort_values(ascending=False).head(5)))\n",
    "\n",
    "# Влияние рейтинга\n",
    "\n",
    "df_actual.pivot_table(index='rating', values='jp_sales', aggfunc='sum').plot.bar(\n",
    "    rot=90, figsize=(6, 8), grid=True)"
   ]
  },
  {
   "cell_type": "markdown",
   "metadata": {},
   "source": [
    "<div class=\"alert alert-info\">\n",
    "<b>Комментарий:</b><br>\n",
    "• Самой популярной платформой в Японии является 3DS. На неё приходится 47.52% продаж.<br>\n",
    "• Самые популярные жанры - Action и Role-Playing.<br>\n",
    "• Наиболее популярным рейтингом игр является - NR (без рейтинга), а так же T. Наименее популярный - E10+.\n",
    "</div>"
   ]
  },
  {
   "cell_type": "markdown",
   "metadata": {},
   "source": [
    "### Вывод:\n",
    "<div class=\"alert alert-info\">\n",
    "<b>Комментарий:</b><br>\n",
    "• В Северной Америке и Европе схожая ситуация. Популярны те же жанры игр и платформы. <br>\n",
    "• Япония предпочитает другие платформы и жанры игр.<br>\n",
    "• Во всех регионах предпочитаемым жанром является NR (без рейтинга) или M. В Японии популярны игры с рейтингом T. Менее востребован E10+.\n",
    "</div>"
   ]
  },
  {
   "cell_type": "markdown",
   "metadata": {},
   "source": [
    "## Проверка гипотез"
   ]
  },
  {
   "cell_type": "markdown",
   "metadata": {},
   "source": [
    "### "
   ]
  },
  {
   "cell_type": "markdown",
   "metadata": {},
   "source": [
    "<div class=\"alert alert-info\">\n",
    "<b>Комментарий:</b><br>\n",
    "Нулевая гипотеза - Средние пользовательские рейтинги платформ Xbox One и PC одинаковые.<br>\n",
    "Альтернативная гипотеза - Средние пользовательские рейтиги платформ Xbox One и PC различаются.<br>\n",
    "Это двустороняя гипотеза.\n",
    "</div>"
   ]
  },
  {
   "cell_type": "code",
   "execution_count": 177,
   "metadata": {},
   "outputs": [
    {
     "name": "stdout",
     "output_type": "stream",
     "text": [
      "p-значение: 0.10450507919348415\n",
      "Не получилось отвергнуть нулевую гипотезу\n"
     ]
    }
   ],
   "source": [
    "from scipy import stats as st\n",
    "test = df_actual.dropna(subset=['user_score']) # Для теста беру дф без пропусков в столбце с оценками пользователей.\n",
    "alpha = 0.05\n",
    "\n",
    "results = st.ttest_ind(test.query('platform == \"XOne\"')['user_score'],\n",
    "                       test.query('platform == \"PC\"')['user_score'])\n",
    "\n",
    "print('p-значение:', results.pvalue)\n",
    "\n",
    "if (results.pvalue < alpha):\n",
    "    print(\"Отвергаем нулевую гипотезу\")\n",
    "else:\n",
    "    print(\"Не получилось отвергнуть нулевую гипотезу\")"
   ]
  },
  {
   "cell_type": "markdown",
   "metadata": {},
   "source": [
    "#### Вывод:\n",
    "<div class=\"alert alert-info\">\n",
    "<b>Комментарий:</b><br>\n",
    "Не удалось отвергнуть нулевую гипотезу. Следовательно средние пользовательские рейтинги платформ PC и Xbox One равны.\n",
    "</div>"
   ]
  },
  {
   "cell_type": "markdown",
   "metadata": {},
   "source": [
    "### "
   ]
  },
  {
   "cell_type": "markdown",
   "metadata": {},
   "source": [
    "<div class=\"alert alert-info\">\n",
    "<b>Комментарий:</b><br>\n",
    "Нулевая гипотеза - Средние пользовательские рейтинги жанров Action и Sports равны.<br>\n",
    "Альтернативная гипотеза - Средние пользовательские рейтиги платформ жанров Action и Sports различаются.<br>\n",
    "Это двустороняя гипотеза.\n",
    "</div>"
   ]
  },
  {
   "cell_type": "code",
   "execution_count": 178,
   "metadata": {},
   "outputs": [
    {
     "name": "stdout",
     "output_type": "stream",
     "text": [
      "p-значение: 2.8711147985105864e-19\n",
      "Отвергаем нулевую гипотезу\n"
     ]
    }
   ],
   "source": [
    "alpha = 0.05\n",
    "\n",
    "results = st.ttest_ind(test.query('genre == \"Action\"')['user_score'], test.query('genre == \"Sports\"')['user_score'])\n",
    "\n",
    "print('p-значение:', results.pvalue)\n",
    "\n",
    "if (results.pvalue < alpha):\n",
    "    print(\"Отвергаем нулевую гипотезу\")\n",
    "else:\n",
    "    print(\"Не получилось отвергнуть нулевую гипотезу\")"
   ]
  },
  {
   "cell_type": "markdown",
   "metadata": {},
   "source": [
    "#### Вывод:\n",
    "<div class=\"alert alert-info\">\n",
    "<b>Комментарий :</b><br>\n",
    "Нулевая гипотеза была отвергнута. Следовательно средние пользовательские рейтинги жанров Action и Sports различаются.\n",
    "</div>"
   ]
  },
  {
   "cell_type": "markdown",
   "metadata": {},
   "source": [
    "## Вывод:"
   ]
  },
  {
   "cell_type": "markdown",
   "metadata": {},
   "source": [
    "<div class=\"alert alert-info\">\n",
    "В ходе выполнения исследования и проверки гипотез можно сделать следующие выводы:<br><br>\n",
    "    \n",
    "• Средняя продолжительность \"жизни\" платформы (без учета PC) равна 7,68 лет.<br>\n",
    "• За последние пару лет снижается количество выпускаемых игр на ведущих платформах.<br>\n",
    "• Игроки предпочитают приобретать игры, которые имеют оценку критиков не ниже 60.<br>\n",
    "• Самой популярным рейтингом является E.<br><br>\n",
    "\n",
    "• Наиболее популярная платформа в Северной Америке и Европе - PS4. В Японии предпочитают 3DS.<br>\n",
    "• Любимым жанром игроков в NA и EU является Shooter. Игрокам Японии больше нравятся Action и Role-Playing.<br><br>\n",
    "    \n",
    "Были проверены 2 гипотезы:<br>\n",
    "• О равенстве средних пользовательских оценок на платформах XOne и PC - подтверждена.<br>\n",
    "• О равенстве средних пользовательских оценок жанров Action и Sports - отвергнута.<br>\n",
    "    \n",
    "Наиболее востребоваными играми для всех регионов в целом можно считать игры в жанре Shooter и Action, выпущенных на платформе PS4.    \n",
    "\n",
    "</div>"
   ]
  }
 ],
 "metadata": {
  "ExecuteTimeLog": [
   {
    "duration": 600,
    "start_time": "2022-03-15T09:34:08.424Z"
   },
   {
    "duration": 25,
    "start_time": "2022-03-15T09:34:14.594Z"
   },
   {
    "duration": 10,
    "start_time": "2022-03-15T09:36:35.926Z"
   },
   {
    "duration": 44,
    "start_time": "2022-03-15T09:36:37.864Z"
   },
   {
    "duration": 10,
    "start_time": "2022-03-15T09:36:39.687Z"
   },
   {
    "duration": 40,
    "start_time": "2022-03-15T09:36:48.454Z"
   },
   {
    "duration": 2,
    "start_time": "2022-03-15T09:45:07.368Z"
   },
   {
    "duration": 12,
    "start_time": "2022-03-15T09:45:19.810Z"
   },
   {
    "duration": 230,
    "start_time": "2022-03-15T09:47:23.716Z"
   },
   {
    "duration": 5,
    "start_time": "2022-03-15T09:48:08.323Z"
   },
   {
    "duration": 4,
    "start_time": "2022-03-15T09:48:48.768Z"
   },
   {
    "duration": 5,
    "start_time": "2022-03-15T09:49:26.791Z"
   },
   {
    "duration": 58,
    "start_time": "2022-03-15T09:49:45.267Z"
   },
   {
    "duration": 5,
    "start_time": "2022-03-15T09:49:49.429Z"
   },
   {
    "duration": 10,
    "start_time": "2022-03-15T09:52:11.481Z"
   },
   {
    "duration": 11,
    "start_time": "2022-03-15T09:52:51.920Z"
   },
   {
    "duration": 4,
    "start_time": "2022-03-15T09:53:34.871Z"
   },
   {
    "duration": 4,
    "start_time": "2022-03-15T09:54:22.893Z"
   },
   {
    "duration": 4,
    "start_time": "2022-03-15T09:54:56.406Z"
   },
   {
    "duration": 4,
    "start_time": "2022-03-15T09:55:01.854Z"
   },
   {
    "duration": 179,
    "start_time": "2022-03-15T09:55:55.301Z"
   },
   {
    "duration": 4,
    "start_time": "2022-03-15T09:55:59.922Z"
   },
   {
    "duration": 10,
    "start_time": "2022-03-15T09:57:19.253Z"
   },
   {
    "duration": 7,
    "start_time": "2022-03-15T09:57:28.562Z"
   },
   {
    "duration": 7,
    "start_time": "2022-03-15T09:58:23.304Z"
   },
   {
    "duration": 7,
    "start_time": "2022-03-15T09:58:29.979Z"
   },
   {
    "duration": 7,
    "start_time": "2022-03-15T09:58:37.489Z"
   },
   {
    "duration": 7,
    "start_time": "2022-03-15T09:58:49.269Z"
   },
   {
    "duration": 6,
    "start_time": "2022-03-15T09:58:55.150Z"
   },
   {
    "duration": 7,
    "start_time": "2022-03-15T09:58:59.408Z"
   },
   {
    "duration": 7,
    "start_time": "2022-03-15T09:59:03.418Z"
   },
   {
    "duration": 8,
    "start_time": "2022-03-15T09:59:07.175Z"
   },
   {
    "duration": 6,
    "start_time": "2022-03-15T09:59:12.596Z"
   },
   {
    "duration": 6,
    "start_time": "2022-03-15T09:59:16.843Z"
   },
   {
    "duration": 7,
    "start_time": "2022-03-15T09:59:20.902Z"
   },
   {
    "duration": 13,
    "start_time": "2022-03-15T10:07:59.098Z"
   },
   {
    "duration": 17,
    "start_time": "2022-03-15T10:08:19.942Z"
   },
   {
    "duration": 8,
    "start_time": "2022-03-15T10:08:57.038Z"
   },
   {
    "duration": 43,
    "start_time": "2022-03-15T10:09:11.293Z"
   },
   {
    "duration": 9,
    "start_time": "2022-03-15T10:09:11.338Z"
   },
   {
    "duration": 2,
    "start_time": "2022-03-15T10:09:11.349Z"
   },
   {
    "duration": 11,
    "start_time": "2022-03-15T10:09:11.353Z"
   },
   {
    "duration": 4,
    "start_time": "2022-03-15T10:09:11.366Z"
   },
   {
    "duration": 7,
    "start_time": "2022-03-15T10:09:11.372Z"
   },
   {
    "duration": 5,
    "start_time": "2022-03-15T10:09:11.380Z"
   },
   {
    "duration": 7,
    "start_time": "2022-03-15T10:09:11.433Z"
   },
   {
    "duration": 13,
    "start_time": "2022-03-15T10:09:34.759Z"
   },
   {
    "duration": 8,
    "start_time": "2022-03-15T10:09:36.659Z"
   },
   {
    "duration": 16,
    "start_time": "2022-03-15T10:09:56.070Z"
   },
   {
    "duration": 8,
    "start_time": "2022-03-15T10:12:31.043Z"
   },
   {
    "duration": 3,
    "start_time": "2022-03-15T10:12:32.537Z"
   },
   {
    "duration": 57,
    "start_time": "2022-03-15T10:15:57.572Z"
   },
   {
    "duration": 34,
    "start_time": "2022-03-15T10:16:15.467Z"
   },
   {
    "duration": 3,
    "start_time": "2022-03-15T10:16:29.927Z"
   },
   {
    "duration": 167,
    "start_time": "2022-03-15T10:16:41.098Z"
   },
   {
    "duration": 3,
    "start_time": "2022-03-15T10:16:51.515Z"
   },
   {
    "duration": 3,
    "start_time": "2022-03-15T10:17:14.697Z"
   },
   {
    "duration": 3,
    "start_time": "2022-03-15T10:17:20.254Z"
   },
   {
    "duration": 3,
    "start_time": "2022-03-15T10:17:28.821Z"
   },
   {
    "duration": 228,
    "start_time": "2022-03-15T10:18:09.067Z"
   },
   {
    "duration": 174,
    "start_time": "2022-03-15T10:18:48.914Z"
   },
   {
    "duration": 35,
    "start_time": "2022-03-15T10:20:35.584Z"
   },
   {
    "duration": 3,
    "start_time": "2022-03-15T10:20:47.856Z"
   },
   {
    "duration": 2,
    "start_time": "2022-03-15T10:20:58.990Z"
   },
   {
    "duration": 3,
    "start_time": "2022-03-15T10:21:01.002Z"
   },
   {
    "duration": 40,
    "start_time": "2022-03-15T10:21:30.524Z"
   },
   {
    "duration": 10,
    "start_time": "2022-03-15T10:21:30.565Z"
   },
   {
    "duration": 8,
    "start_time": "2022-03-15T10:21:30.577Z"
   },
   {
    "duration": 24,
    "start_time": "2022-03-15T10:21:30.586Z"
   },
   {
    "duration": 39,
    "start_time": "2022-03-15T10:24:50.378Z"
   },
   {
    "duration": 42,
    "start_time": "2022-03-15T10:25:00.627Z"
   },
   {
    "duration": 8,
    "start_time": "2022-03-15T10:25:00.671Z"
   },
   {
    "duration": 10,
    "start_time": "2022-03-15T10:25:00.681Z"
   },
   {
    "duration": 17,
    "start_time": "2022-03-15T10:25:00.693Z"
   },
   {
    "duration": 37,
    "start_time": "2022-03-15T10:31:51.325Z"
   },
   {
    "duration": 50,
    "start_time": "2022-03-15T10:33:03.884Z"
   },
   {
    "duration": 10,
    "start_time": "2022-03-15T10:33:03.936Z"
   },
   {
    "duration": 5,
    "start_time": "2022-03-15T10:33:03.948Z"
   },
   {
    "duration": 16,
    "start_time": "2022-03-15T10:33:03.954Z"
   },
   {
    "duration": 172,
    "start_time": "2022-03-15T10:35:35.569Z"
   },
   {
    "duration": 174,
    "start_time": "2022-03-15T10:35:42.197Z"
   },
   {
    "duration": 5,
    "start_time": "2022-03-15T10:37:05.570Z"
   },
   {
    "duration": 4,
    "start_time": "2022-03-15T10:37:46.804Z"
   },
   {
    "duration": 4,
    "start_time": "2022-03-15T10:38:34.541Z"
   },
   {
    "duration": 41,
    "start_time": "2022-03-15T10:38:52.669Z"
   },
   {
    "duration": 10,
    "start_time": "2022-03-15T10:38:52.711Z"
   },
   {
    "duration": 5,
    "start_time": "2022-03-15T10:38:52.723Z"
   },
   {
    "duration": 12,
    "start_time": "2022-03-15T10:38:52.729Z"
   },
   {
    "duration": 9,
    "start_time": "2022-03-15T10:38:56.082Z"
   },
   {
    "duration": 4,
    "start_time": "2022-03-15T10:39:05.624Z"
   },
   {
    "duration": 360,
    "start_time": "2022-03-15T10:40:03.906Z"
   },
   {
    "duration": 9,
    "start_time": "2022-03-15T10:40:56.909Z"
   },
   {
    "duration": 368,
    "start_time": "2022-03-15T10:41:00.095Z"
   },
   {
    "duration": 9,
    "start_time": "2022-03-15T10:41:11.269Z"
   },
   {
    "duration": 181,
    "start_time": "2022-03-15T10:41:51.108Z"
   },
   {
    "duration": 7,
    "start_time": "2022-03-15T10:41:59.959Z"
   },
   {
    "duration": 10,
    "start_time": "2022-03-15T10:42:12.207Z"
   },
   {
    "duration": 7,
    "start_time": "2022-03-15T10:42:15.872Z"
   },
   {
    "duration": 9,
    "start_time": "2022-03-15T10:42:24.739Z"
   },
   {
    "duration": 6,
    "start_time": "2022-03-15T10:42:28.213Z"
   },
   {
    "duration": 13,
    "start_time": "2022-03-15T10:43:17.423Z"
   },
   {
    "duration": 7,
    "start_time": "2022-03-15T10:43:20.530Z"
   },
   {
    "duration": 393,
    "start_time": "2022-03-15T10:43:26.459Z"
   },
   {
    "duration": 12,
    "start_time": "2022-03-15T10:45:32.215Z"
   },
   {
    "duration": 331,
    "start_time": "2022-03-15T10:45:35.218Z"
   },
   {
    "duration": 8,
    "start_time": "2022-03-15T10:46:53.806Z"
   },
   {
    "duration": 436,
    "start_time": "2022-03-15T10:48:01.663Z"
   },
   {
    "duration": 9,
    "start_time": "2022-03-15T10:48:41.950Z"
   },
   {
    "duration": 368,
    "start_time": "2022-03-15T10:48:45.247Z"
   },
   {
    "duration": 8,
    "start_time": "2022-03-15T10:49:09.711Z"
   },
   {
    "duration": 392,
    "start_time": "2022-03-15T10:49:11.301Z"
   },
   {
    "duration": 9,
    "start_time": "2022-03-15T10:50:08.751Z"
   },
   {
    "duration": 351,
    "start_time": "2022-03-15T10:50:10.008Z"
   },
   {
    "duration": 9,
    "start_time": "2022-03-15T10:53:02.691Z"
   },
   {
    "duration": 377,
    "start_time": "2022-03-15T10:53:05.532Z"
   },
   {
    "duration": 11,
    "start_time": "2022-03-15T10:53:59.264Z"
   },
   {
    "duration": 341,
    "start_time": "2022-03-15T10:54:02.205Z"
   },
   {
    "duration": 7,
    "start_time": "2022-03-15T10:56:00.026Z"
   },
   {
    "duration": 4,
    "start_time": "2022-03-15T10:56:09.430Z"
   },
   {
    "duration": 21,
    "start_time": "2022-03-15T10:56:45.665Z"
   },
   {
    "duration": 9,
    "start_time": "2022-03-15T11:02:39.134Z"
   },
   {
    "duration": 39,
    "start_time": "2022-03-15T11:02:43.225Z"
   },
   {
    "duration": 9,
    "start_time": "2022-03-15T11:02:43.266Z"
   },
   {
    "duration": 2,
    "start_time": "2022-03-15T11:02:43.278Z"
   },
   {
    "duration": 9,
    "start_time": "2022-03-15T11:02:43.282Z"
   },
   {
    "duration": 45,
    "start_time": "2022-03-15T11:02:43.293Z"
   },
   {
    "duration": 8,
    "start_time": "2022-03-15T11:02:45.149Z"
   },
   {
    "duration": 337,
    "start_time": "2022-03-15T11:03:02.071Z"
   },
   {
    "duration": 8,
    "start_time": "2022-03-15T11:05:12.633Z"
   },
   {
    "duration": 361,
    "start_time": "2022-03-15T11:05:14.678Z"
   },
   {
    "duration": 9,
    "start_time": "2022-03-15T11:08:54.111Z"
   },
   {
    "duration": 339,
    "start_time": "2022-03-15T11:08:57.238Z"
   },
   {
    "duration": 8,
    "start_time": "2022-03-15T11:09:06.875Z"
   },
   {
    "duration": 26714,
    "start_time": "2022-03-15T11:09:08.838Z"
   },
   {
    "duration": 43,
    "start_time": "2022-03-15T11:09:58.498Z"
   },
   {
    "duration": 8,
    "start_time": "2022-03-15T11:09:58.543Z"
   },
   {
    "duration": 4,
    "start_time": "2022-03-15T11:09:58.553Z"
   },
   {
    "duration": 12,
    "start_time": "2022-03-15T11:09:58.558Z"
   },
   {
    "duration": 10,
    "start_time": "2022-03-15T11:09:58.572Z"
   },
   {
    "duration": 8,
    "start_time": "2022-03-15T11:10:01.381Z"
   },
   {
    "duration": 1147,
    "start_time": "2022-03-15T11:10:03.614Z"
   },
   {
    "duration": 43,
    "start_time": "2022-03-15T11:10:15.008Z"
   },
   {
    "duration": 12,
    "start_time": "2022-03-15T11:10:15.053Z"
   },
   {
    "duration": 5,
    "start_time": "2022-03-15T11:10:15.068Z"
   },
   {
    "duration": 12,
    "start_time": "2022-03-15T11:10:15.075Z"
   },
   {
    "duration": 44,
    "start_time": "2022-03-15T11:10:15.089Z"
   },
   {
    "duration": 8,
    "start_time": "2022-03-15T11:10:16.145Z"
   },
   {
    "duration": 1101,
    "start_time": "2022-03-15T11:10:17.227Z"
   },
   {
    "duration": 12,
    "start_time": "2022-03-15T11:10:23.789Z"
   },
   {
    "duration": 4514,
    "start_time": "2022-03-15T11:10:59.826Z"
   },
   {
    "duration": 4,
    "start_time": "2022-03-15T11:11:19.485Z"
   },
   {
    "duration": 8,
    "start_time": "2022-03-15T11:11:28.691Z"
   },
   {
    "duration": 378,
    "start_time": "2022-03-15T11:11:30.968Z"
   },
   {
    "duration": 9,
    "start_time": "2022-03-15T11:12:29.457Z"
   },
   {
    "duration": 351,
    "start_time": "2022-03-15T11:12:31.934Z"
   },
   {
    "duration": 8,
    "start_time": "2022-03-15T11:12:50.257Z"
   },
   {
    "duration": 460,
    "start_time": "2022-03-15T11:12:52.762Z"
   },
   {
    "duration": 9,
    "start_time": "2022-03-15T11:13:09.639Z"
   },
   {
    "duration": 359,
    "start_time": "2022-03-15T11:13:12.489Z"
   },
   {
    "duration": 42,
    "start_time": "2022-03-15T11:14:10.553Z"
   },
   {
    "duration": 10,
    "start_time": "2022-03-15T11:14:10.597Z"
   },
   {
    "duration": 4,
    "start_time": "2022-03-15T11:14:10.610Z"
   },
   {
    "duration": 11,
    "start_time": "2022-03-15T11:14:10.616Z"
   },
   {
    "duration": 11,
    "start_time": "2022-03-15T11:14:10.629Z"
   },
   {
    "duration": 13,
    "start_time": "2022-03-15T11:14:44.543Z"
   },
   {
    "duration": 14331,
    "start_time": "2022-03-15T11:14:47.004Z"
   },
   {
    "duration": 14917,
    "start_time": "2022-03-15T11:18:14.066Z"
   },
   {
    "duration": 5,
    "start_time": "2022-03-15T11:18:50.408Z"
   },
   {
    "duration": 40,
    "start_time": "2022-03-15T11:19:00.648Z"
   },
   {
    "duration": 10,
    "start_time": "2022-03-15T11:19:00.689Z"
   },
   {
    "duration": 10,
    "start_time": "2022-03-15T11:19:00.701Z"
   },
   {
    "duration": 16,
    "start_time": "2022-03-15T11:19:00.713Z"
   },
   {
    "duration": 37,
    "start_time": "2022-03-15T11:19:00.731Z"
   },
   {
    "duration": 20705,
    "start_time": "2022-03-15T11:19:14.075Z"
   },
   {
    "duration": 12,
    "start_time": "2022-03-15T11:19:36.412Z"
   },
   {
    "duration": 9,
    "start_time": "2022-03-15T11:20:22.238Z"
   },
   {
    "duration": 37,
    "start_time": "2022-03-15T11:20:27.729Z"
   },
   {
    "duration": 8,
    "start_time": "2022-03-15T11:20:27.768Z"
   },
   {
    "duration": 3,
    "start_time": "2022-03-15T11:20:27.778Z"
   },
   {
    "duration": 14,
    "start_time": "2022-03-15T11:20:27.782Z"
   },
   {
    "duration": 8,
    "start_time": "2022-03-15T11:20:27.798Z"
   },
   {
    "duration": 10,
    "start_time": "2022-03-15T11:20:29.241Z"
   },
   {
    "duration": 14978,
    "start_time": "2022-03-15T11:20:30.566Z"
   },
   {
    "duration": 14,
    "start_time": "2022-03-15T11:20:48.739Z"
   },
   {
    "duration": 13762,
    "start_time": "2022-03-15T11:21:53.590Z"
   },
   {
    "duration": 12,
    "start_time": "2022-03-15T11:22:08.787Z"
   },
   {
    "duration": 39,
    "start_time": "2022-03-15T11:22:16.450Z"
   },
   {
    "duration": 9,
    "start_time": "2022-03-15T11:22:16.491Z"
   },
   {
    "duration": 6,
    "start_time": "2022-03-15T11:22:16.501Z"
   },
   {
    "duration": 11,
    "start_time": "2022-03-15T11:22:16.508Z"
   },
   {
    "duration": 17,
    "start_time": "2022-03-15T11:22:16.521Z"
   },
   {
    "duration": 14729,
    "start_time": "2022-03-15T11:27:51.267Z"
   },
   {
    "duration": 13,
    "start_time": "2022-03-15T11:28:08.194Z"
   },
   {
    "duration": 39,
    "start_time": "2022-03-15T11:28:50.105Z"
   },
   {
    "duration": 11,
    "start_time": "2022-03-15T11:28:50.147Z"
   },
   {
    "duration": 4,
    "start_time": "2022-03-15T11:28:50.161Z"
   },
   {
    "duration": 11,
    "start_time": "2022-03-15T11:28:50.167Z"
   },
   {
    "duration": 53,
    "start_time": "2022-03-15T11:28:50.180Z"
   },
   {
    "duration": 8,
    "start_time": "2022-03-15T11:28:53.953Z"
   },
   {
    "duration": 14802,
    "start_time": "2022-03-15T11:28:55.134Z"
   },
   {
    "duration": 13,
    "start_time": "2022-03-15T11:29:12.003Z"
   },
   {
    "duration": 4,
    "start_time": "2022-03-15T11:29:39.098Z"
   },
   {
    "duration": 19,
    "start_time": "2022-03-15T11:29:46.707Z"
   },
   {
    "duration": 3,
    "start_time": "2022-03-15T11:30:04.550Z"
   },
   {
    "duration": 564,
    "start_time": "2022-03-15T13:34:33.710Z"
   },
   {
    "duration": 9,
    "start_time": "2022-03-15T13:34:34.276Z"
   },
   {
    "duration": 2,
    "start_time": "2022-03-15T13:34:34.287Z"
   },
   {
    "duration": 9,
    "start_time": "2022-03-15T13:34:34.291Z"
   },
   {
    "duration": 7,
    "start_time": "2022-03-15T13:34:34.302Z"
   },
   {
    "duration": 25,
    "start_time": "2022-03-15T13:34:34.310Z"
   },
   {
    "duration": 14500,
    "start_time": "2022-03-15T13:34:34.337Z"
   },
   {
    "duration": 4,
    "start_time": "2022-03-15T13:34:48.839Z"
   },
   {
    "duration": 39,
    "start_time": "2022-03-15T13:35:36.439Z"
   },
   {
    "duration": 8,
    "start_time": "2022-03-15T13:35:36.480Z"
   },
   {
    "duration": 3,
    "start_time": "2022-03-15T13:35:36.490Z"
   },
   {
    "duration": 14,
    "start_time": "2022-03-15T13:35:36.495Z"
   },
   {
    "duration": 14,
    "start_time": "2022-03-15T13:35:36.510Z"
   },
   {
    "duration": 8,
    "start_time": "2022-03-15T13:35:36.533Z"
   },
   {
    "duration": 13730,
    "start_time": "2022-03-15T13:35:36.542Z"
   },
   {
    "duration": 4,
    "start_time": "2022-03-15T13:35:50.273Z"
   },
   {
    "duration": 18,
    "start_time": "2022-03-15T13:35:50.279Z"
   },
   {
    "duration": 3,
    "start_time": "2022-03-15T13:43:26.819Z"
   },
   {
    "duration": 403,
    "start_time": "2022-03-15T13:43:53.230Z"
   },
   {
    "duration": 3,
    "start_time": "2022-03-15T13:44:25.901Z"
   },
   {
    "duration": 385,
    "start_time": "2022-03-15T13:44:28.003Z"
   },
   {
    "duration": 5,
    "start_time": "2022-03-15T13:46:24.021Z"
   },
   {
    "duration": 367,
    "start_time": "2022-03-15T13:49:04.361Z"
   },
   {
    "duration": 4,
    "start_time": "2022-03-15T13:49:14.486Z"
   },
   {
    "duration": 40,
    "start_time": "2022-03-15T13:52:12.007Z"
   },
   {
    "duration": 8,
    "start_time": "2022-03-15T13:52:12.049Z"
   },
   {
    "duration": 3,
    "start_time": "2022-03-15T13:52:12.059Z"
   },
   {
    "duration": 9,
    "start_time": "2022-03-15T13:52:12.064Z"
   },
   {
    "duration": 7,
    "start_time": "2022-03-15T13:52:12.075Z"
   },
   {
    "duration": 4,
    "start_time": "2022-03-15T13:52:12.084Z"
   },
   {
    "duration": 13620,
    "start_time": "2022-03-15T13:52:12.090Z"
   },
   {
    "duration": 4,
    "start_time": "2022-03-15T13:52:25.711Z"
   },
   {
    "duration": 3,
    "start_time": "2022-03-15T13:52:40.744Z"
   },
   {
    "duration": 4,
    "start_time": "2022-03-15T13:52:43.290Z"
   },
   {
    "duration": 1300,
    "start_time": "2022-03-15T13:52:53.314Z"
   },
   {
    "duration": 14325,
    "start_time": "2022-03-15T13:53:40.389Z"
   },
   {
    "duration": 19,
    "start_time": "2022-03-15T13:54:09.055Z"
   },
   {
    "duration": 42,
    "start_time": "2022-03-15T13:55:03.574Z"
   },
   {
    "duration": 8,
    "start_time": "2022-03-15T13:55:03.618Z"
   },
   {
    "duration": 6,
    "start_time": "2022-03-15T13:55:03.628Z"
   },
   {
    "duration": 14,
    "start_time": "2022-03-15T13:55:03.635Z"
   },
   {
    "duration": 11,
    "start_time": "2022-03-15T13:55:03.651Z"
   },
   {
    "duration": 5,
    "start_time": "2022-03-15T13:55:03.664Z"
   },
   {
    "duration": 13844,
    "start_time": "2022-03-15T13:55:03.671Z"
   },
   {
    "duration": 4,
    "start_time": "2022-03-15T13:55:17.516Z"
   },
   {
    "duration": 3,
    "start_time": "2022-03-15T13:55:20.115Z"
   },
   {
    "duration": 4,
    "start_time": "2022-03-15T13:55:22.372Z"
   },
   {
    "duration": 9,
    "start_time": "2022-03-15T13:55:30.473Z"
   },
   {
    "duration": 14419,
    "start_time": "2022-03-15T13:56:10.039Z"
   },
   {
    "duration": 14715,
    "start_time": "2022-03-15T13:57:44.964Z"
   },
   {
    "duration": 23225,
    "start_time": "2022-03-15T13:59:48.845Z"
   },
   {
    "duration": 1946,
    "start_time": "2022-03-15T14:00:14.031Z"
   },
   {
    "duration": 11,
    "start_time": "2022-03-15T14:00:50.051Z"
   },
   {
    "duration": 17,
    "start_time": "2022-03-15T14:00:52.383Z"
   },
   {
    "duration": 42,
    "start_time": "2022-03-15T14:01:10.891Z"
   },
   {
    "duration": 10,
    "start_time": "2022-03-15T14:01:10.934Z"
   },
   {
    "duration": 4,
    "start_time": "2022-03-15T14:01:10.947Z"
   },
   {
    "duration": 11,
    "start_time": "2022-03-15T14:01:10.953Z"
   },
   {
    "duration": 9,
    "start_time": "2022-03-15T14:01:10.965Z"
   },
   {
    "duration": 5,
    "start_time": "2022-03-15T14:01:10.976Z"
   },
   {
    "duration": 14119,
    "start_time": "2022-03-15T14:01:10.983Z"
   },
   {
    "duration": 5,
    "start_time": "2022-03-15T14:01:25.104Z"
   },
   {
    "duration": 7,
    "start_time": "2022-03-15T14:01:25.111Z"
   },
   {
    "duration": 15,
    "start_time": "2022-03-15T14:01:25.120Z"
   },
   {
    "duration": 14895,
    "start_time": "2022-03-15T14:01:39.262Z"
   },
   {
    "duration": 18,
    "start_time": "2022-03-15T14:02:34.366Z"
   },
   {
    "duration": 9,
    "start_time": "2022-03-15T14:03:15.935Z"
   },
   {
    "duration": 5,
    "start_time": "2022-03-15T14:04:11.890Z"
   },
   {
    "duration": 192,
    "start_time": "2022-03-15T14:05:23.890Z"
   },
   {
    "duration": 180,
    "start_time": "2022-03-15T14:05:35.192Z"
   },
   {
    "duration": 9,
    "start_time": "2022-03-15T14:05:42.754Z"
   },
   {
    "duration": 61,
    "start_time": "2022-03-15T14:06:09.781Z"
   },
   {
    "duration": 18,
    "start_time": "2022-03-15T14:06:13.416Z"
   },
   {
    "duration": 16,
    "start_time": "2022-03-15T14:06:36.035Z"
   },
   {
    "duration": 12,
    "start_time": "2022-03-15T14:07:17.892Z"
   },
   {
    "duration": 16,
    "start_time": "2022-03-15T14:07:49.119Z"
   },
   {
    "duration": 14,
    "start_time": "2022-03-15T14:08:44.143Z"
   },
   {
    "duration": 15,
    "start_time": "2022-03-15T14:09:10.361Z"
   },
   {
    "duration": 15,
    "start_time": "2022-03-15T14:09:27.146Z"
   },
   {
    "duration": 12,
    "start_time": "2022-03-15T14:09:41.064Z"
   },
   {
    "duration": 12,
    "start_time": "2022-03-15T14:09:52.440Z"
   },
   {
    "duration": 13,
    "start_time": "2022-03-15T14:10:02.300Z"
   },
   {
    "duration": 12,
    "start_time": "2022-03-15T14:10:09.080Z"
   },
   {
    "duration": 15,
    "start_time": "2022-03-15T14:10:32.842Z"
   },
   {
    "duration": 12,
    "start_time": "2022-03-15T14:13:55.388Z"
   },
   {
    "duration": 4,
    "start_time": "2022-03-15T14:16:09.910Z"
   },
   {
    "duration": 15,
    "start_time": "2022-03-15T14:16:12.582Z"
   },
   {
    "duration": 12,
    "start_time": "2022-03-15T14:16:21.571Z"
   },
   {
    "duration": 44,
    "start_time": "2022-03-15T14:17:00.829Z"
   },
   {
    "duration": 8,
    "start_time": "2022-03-15T14:17:00.875Z"
   },
   {
    "duration": 15,
    "start_time": "2022-03-15T14:17:00.885Z"
   },
   {
    "duration": 24,
    "start_time": "2022-03-15T14:17:00.902Z"
   },
   {
    "duration": 22,
    "start_time": "2022-03-15T14:17:00.928Z"
   },
   {
    "duration": 22,
    "start_time": "2022-03-15T14:17:00.951Z"
   },
   {
    "duration": 13806,
    "start_time": "2022-03-15T14:17:00.975Z"
   },
   {
    "duration": 3,
    "start_time": "2022-03-15T14:17:14.783Z"
   },
   {
    "duration": 4,
    "start_time": "2022-03-15T14:17:14.788Z"
   },
   {
    "duration": 8,
    "start_time": "2022-03-15T14:17:14.794Z"
   },
   {
    "duration": 14479,
    "start_time": "2022-03-15T14:17:14.803Z"
   },
   {
    "duration": 4,
    "start_time": "2022-03-15T14:17:29.283Z"
   },
   {
    "duration": 18,
    "start_time": "2022-03-15T14:17:29.289Z"
   },
   {
    "duration": 58,
    "start_time": "2022-03-15T14:18:25.597Z"
   },
   {
    "duration": 12,
    "start_time": "2022-03-15T14:18:25.658Z"
   },
   {
    "duration": 5,
    "start_time": "2022-03-15T14:18:25.672Z"
   },
   {
    "duration": 11,
    "start_time": "2022-03-15T14:18:25.679Z"
   },
   {
    "duration": 12,
    "start_time": "2022-03-15T14:18:25.691Z"
   },
   {
    "duration": 30,
    "start_time": "2022-03-15T14:18:25.705Z"
   },
   {
    "duration": 13926,
    "start_time": "2022-03-15T14:18:25.736Z"
   },
   {
    "duration": 3,
    "start_time": "2022-03-15T14:18:39.664Z"
   },
   {
    "duration": 4,
    "start_time": "2022-03-15T14:18:39.669Z"
   },
   {
    "duration": 8,
    "start_time": "2022-03-15T14:18:39.675Z"
   },
   {
    "duration": 14585,
    "start_time": "2022-03-15T14:18:39.685Z"
   },
   {
    "duration": 3,
    "start_time": "2022-03-15T14:18:54.272Z"
   },
   {
    "duration": 14,
    "start_time": "2022-03-15T14:18:54.277Z"
   },
   {
    "duration": 14,
    "start_time": "2022-03-15T14:19:11.355Z"
   },
   {
    "duration": 11,
    "start_time": "2022-03-15T14:21:10.862Z"
   },
   {
    "duration": 5,
    "start_time": "2022-03-15T14:21:50.857Z"
   },
   {
    "duration": 12,
    "start_time": "2022-03-15T14:21:52.430Z"
   },
   {
    "duration": 179,
    "start_time": "2022-03-15T14:22:32.335Z"
   },
   {
    "duration": 27,
    "start_time": "2022-03-15T14:22:39.286Z"
   },
   {
    "duration": 16,
    "start_time": "2022-03-15T14:22:57.658Z"
   },
   {
    "duration": 11,
    "start_time": "2022-03-15T14:24:29.767Z"
   },
   {
    "duration": 37,
    "start_time": "2022-03-15T14:25:28.620Z"
   },
   {
    "duration": 9,
    "start_time": "2022-03-15T14:25:28.659Z"
   },
   {
    "duration": 3,
    "start_time": "2022-03-15T14:25:28.669Z"
   },
   {
    "duration": 10,
    "start_time": "2022-03-15T14:25:28.673Z"
   },
   {
    "duration": 10,
    "start_time": "2022-03-15T14:25:28.684Z"
   },
   {
    "duration": 4,
    "start_time": "2022-03-15T14:25:28.696Z"
   },
   {
    "duration": 13712,
    "start_time": "2022-03-15T14:25:28.702Z"
   },
   {
    "duration": 4,
    "start_time": "2022-03-15T14:25:42.416Z"
   },
   {
    "duration": 12,
    "start_time": "2022-03-15T14:25:42.423Z"
   },
   {
    "duration": 6,
    "start_time": "2022-03-15T14:25:42.437Z"
   },
   {
    "duration": 14194,
    "start_time": "2022-03-15T14:25:42.445Z"
   },
   {
    "duration": 4,
    "start_time": "2022-03-15T14:25:56.640Z"
   },
   {
    "duration": 15,
    "start_time": "2022-03-15T14:25:56.645Z"
   },
   {
    "duration": 15,
    "start_time": "2022-03-15T14:25:56.662Z"
   },
   {
    "duration": 8,
    "start_time": "2022-03-15T14:25:56.678Z"
   },
   {
    "duration": 10,
    "start_time": "2022-03-15T14:33:36.128Z"
   },
   {
    "duration": 189,
    "start_time": "2022-03-15T14:34:06.357Z"
   },
   {
    "duration": 6,
    "start_time": "2022-03-15T14:34:55.170Z"
   },
   {
    "duration": 5,
    "start_time": "2022-03-15T14:35:11.643Z"
   },
   {
    "duration": 6,
    "start_time": "2022-03-15T14:35:28.001Z"
   },
   {
    "duration": 10,
    "start_time": "2022-03-15T14:35:59.321Z"
   },
   {
    "duration": 4,
    "start_time": "2022-03-15T14:41:55.224Z"
   },
   {
    "duration": 805,
    "start_time": "2022-03-16T07:27:18.869Z"
   },
   {
    "duration": 14,
    "start_time": "2022-03-16T07:27:19.682Z"
   },
   {
    "duration": 4,
    "start_time": "2022-03-16T07:27:19.699Z"
   },
   {
    "duration": 14,
    "start_time": "2022-03-16T07:27:19.706Z"
   },
   {
    "duration": 18,
    "start_time": "2022-03-16T07:27:19.722Z"
   },
   {
    "duration": 46,
    "start_time": "2022-03-16T07:27:19.742Z"
   },
   {
    "duration": 25729,
    "start_time": "2022-03-16T07:27:19.791Z"
   },
   {
    "duration": 6,
    "start_time": "2022-03-16T07:27:45.523Z"
   },
   {
    "duration": 22,
    "start_time": "2022-03-16T07:27:45.534Z"
   },
   {
    "duration": 28,
    "start_time": "2022-03-16T07:27:45.559Z"
   },
   {
    "duration": 26331,
    "start_time": "2022-03-16T07:27:45.589Z"
   },
   {
    "duration": 7,
    "start_time": "2022-03-16T07:28:11.923Z"
   },
   {
    "duration": 27,
    "start_time": "2022-03-16T07:28:11.932Z"
   },
   {
    "duration": 47,
    "start_time": "2022-03-16T07:28:11.961Z"
   },
   {
    "duration": 12,
    "start_time": "2022-03-16T07:28:12.010Z"
   },
   {
    "duration": 15,
    "start_time": "2022-03-16T07:28:12.025Z"
   },
   {
    "duration": 41,
    "start_time": "2022-03-16T07:28:12.043Z"
   },
   {
    "duration": 24,
    "start_time": "2022-03-16T07:30:02.562Z"
   },
   {
    "duration": 16,
    "start_time": "2022-03-16T07:31:30.933Z"
   },
   {
    "duration": 19,
    "start_time": "2022-03-16T07:31:36.923Z"
   },
   {
    "duration": 422,
    "start_time": "2022-03-16T07:35:44.945Z"
   },
   {
    "duration": 428,
    "start_time": "2022-03-16T07:36:57.994Z"
   },
   {
    "duration": 324,
    "start_time": "2022-03-16T07:37:43.645Z"
   },
   {
    "duration": 357,
    "start_time": "2022-03-16T07:39:37.352Z"
   },
   {
    "duration": 18,
    "start_time": "2022-03-16T07:39:50.984Z"
   },
   {
    "duration": 18,
    "start_time": "2022-03-16T07:41:47.342Z"
   },
   {
    "duration": 303,
    "start_time": "2022-03-16T07:41:58.854Z"
   },
   {
    "duration": 6188,
    "start_time": "2022-03-16T07:42:39.151Z"
   },
   {
    "duration": 401,
    "start_time": "2022-03-16T07:43:40.584Z"
   },
   {
    "duration": 256,
    "start_time": "2022-03-16T07:45:55.927Z"
   },
   {
    "duration": 27,
    "start_time": "2022-03-16T07:46:39.435Z"
   },
   {
    "duration": 17,
    "start_time": "2022-03-16T07:50:24.396Z"
   },
   {
    "duration": 6014,
    "start_time": "2022-03-16T07:50:54.081Z"
   },
   {
    "duration": 317,
    "start_time": "2022-03-16T07:51:09.304Z"
   },
   {
    "duration": 19,
    "start_time": "2022-03-16T08:05:32.288Z"
   },
   {
    "duration": 9,
    "start_time": "2022-03-16T08:10:32.642Z"
   },
   {
    "duration": 75,
    "start_time": "2022-03-16T08:10:43.037Z"
   },
   {
    "duration": 36,
    "start_time": "2022-03-16T08:10:55.509Z"
   },
   {
    "duration": 40,
    "start_time": "2022-03-16T08:11:26.562Z"
   },
   {
    "duration": 24,
    "start_time": "2022-03-16T08:12:53.326Z"
   },
   {
    "duration": 17,
    "start_time": "2022-03-16T08:13:35.259Z"
   },
   {
    "duration": 16,
    "start_time": "2022-03-16T08:13:44.579Z"
   },
   {
    "duration": 15,
    "start_time": "2022-03-16T08:14:30.043Z"
   },
   {
    "duration": 29,
    "start_time": "2022-03-16T08:22:02.412Z"
   },
   {
    "duration": 396,
    "start_time": "2022-03-16T08:22:51.423Z"
   },
   {
    "duration": 518,
    "start_time": "2022-03-16T08:23:52.359Z"
   },
   {
    "duration": 728,
    "start_time": "2022-03-16T08:24:11.271Z"
   },
   {
    "duration": 1058,
    "start_time": "2022-03-16T08:25:57.249Z"
   },
   {
    "duration": 1191,
    "start_time": "2022-03-16T08:26:05.359Z"
   },
   {
    "duration": 588,
    "start_time": "2022-03-16T08:26:20.177Z"
   },
   {
    "duration": 749,
    "start_time": "2022-03-16T08:26:28.357Z"
   },
   {
    "duration": 814,
    "start_time": "2022-03-16T08:26:40.704Z"
   },
   {
    "duration": 856,
    "start_time": "2022-03-16T08:27:16.846Z"
   },
   {
    "duration": 556,
    "start_time": "2022-03-16T08:32:00.889Z"
   },
   {
    "duration": 458,
    "start_time": "2022-03-16T08:32:16.427Z"
   },
   {
    "duration": 375,
    "start_time": "2022-03-16T08:32:35.710Z"
   },
   {
    "duration": 386,
    "start_time": "2022-03-16T08:32:48.515Z"
   },
   {
    "duration": 389,
    "start_time": "2022-03-16T08:33:07.385Z"
   },
   {
    "duration": 386,
    "start_time": "2022-03-16T08:33:21.990Z"
   },
   {
    "duration": 379,
    "start_time": "2022-03-16T08:33:59.008Z"
   },
   {
    "duration": 364,
    "start_time": "2022-03-16T08:34:16.763Z"
   },
   {
    "duration": 371,
    "start_time": "2022-03-16T08:34:35.755Z"
   },
   {
    "duration": 388,
    "start_time": "2022-03-16T08:38:52.841Z"
   },
   {
    "duration": 385,
    "start_time": "2022-03-16T08:39:41.865Z"
   },
   {
    "duration": 393,
    "start_time": "2022-03-16T08:40:03.192Z"
   },
   {
    "duration": 372,
    "start_time": "2022-03-16T08:40:12.110Z"
   },
   {
    "duration": 471,
    "start_time": "2022-03-16T08:40:19.220Z"
   },
   {
    "duration": 420,
    "start_time": "2022-03-16T08:40:32.001Z"
   },
   {
    "duration": 14,
    "start_time": "2022-03-16T08:43:07.699Z"
   },
   {
    "duration": 225,
    "start_time": "2022-03-16T08:44:39.184Z"
   },
   {
    "duration": 5,
    "start_time": "2022-03-16T08:44:58.144Z"
   },
   {
    "duration": 17,
    "start_time": "2022-03-16T08:48:01.672Z"
   },
   {
    "duration": 6,
    "start_time": "2022-03-16T08:49:02.750Z"
   },
   {
    "duration": 11,
    "start_time": "2022-03-16T08:49:15.981Z"
   },
   {
    "duration": 283,
    "start_time": "2022-03-16T08:50:09.603Z"
   },
   {
    "duration": 6,
    "start_time": "2022-03-16T08:52:22.717Z"
   },
   {
    "duration": 12,
    "start_time": "2022-03-16T08:56:32.832Z"
   },
   {
    "duration": 14,
    "start_time": "2022-03-16T08:56:37.050Z"
   },
   {
    "duration": 272,
    "start_time": "2022-03-16T08:57:39.606Z"
   },
   {
    "duration": 22,
    "start_time": "2022-03-16T08:57:47.662Z"
   },
   {
    "duration": 18,
    "start_time": "2022-03-16T08:58:56.642Z"
   },
   {
    "duration": 19,
    "start_time": "2022-03-16T08:59:01.697Z"
   },
   {
    "duration": 17,
    "start_time": "2022-03-16T08:59:18.307Z"
   },
   {
    "duration": 14,
    "start_time": "2022-03-16T09:00:32.363Z"
   },
   {
    "duration": 22,
    "start_time": "2022-03-16T09:00:56.418Z"
   },
   {
    "duration": 20,
    "start_time": "2022-03-16T09:02:55.385Z"
   },
   {
    "duration": 21,
    "start_time": "2022-03-16T09:03:04.711Z"
   },
   {
    "duration": 20,
    "start_time": "2022-03-16T09:03:19.777Z"
   },
   {
    "duration": 3,
    "start_time": "2022-03-16T09:05:12.515Z"
   },
   {
    "duration": 27,
    "start_time": "2022-03-16T09:06:13.798Z"
   },
   {
    "duration": 264,
    "start_time": "2022-03-16T09:06:43.621Z"
   },
   {
    "duration": 8,
    "start_time": "2022-03-16T09:07:59.437Z"
   },
   {
    "duration": 6,
    "start_time": "2022-03-16T09:08:28.174Z"
   },
   {
    "duration": 7,
    "start_time": "2022-03-16T09:09:01.729Z"
   },
   {
    "duration": 7,
    "start_time": "2022-03-16T09:09:29.847Z"
   },
   {
    "duration": 113,
    "start_time": "2022-03-16T09:10:02.294Z"
   },
   {
    "duration": 92,
    "start_time": "2022-03-16T09:10:10.392Z"
   },
   {
    "duration": 7,
    "start_time": "2022-03-16T09:12:23.253Z"
   },
   {
    "duration": 25,
    "start_time": "2022-03-16T09:22:36.604Z"
   },
   {
    "duration": 27,
    "start_time": "2022-03-16T09:22:52.000Z"
   },
   {
    "duration": 10,
    "start_time": "2022-03-16T09:26:11.744Z"
   },
   {
    "duration": 9,
    "start_time": "2022-03-16T09:27:51.830Z"
   },
   {
    "duration": 11,
    "start_time": "2022-03-16T09:28:04.495Z"
   },
   {
    "duration": 10,
    "start_time": "2022-03-16T09:28:50.430Z"
   },
   {
    "duration": 24,
    "start_time": "2022-03-16T09:48:55.162Z"
   },
   {
    "duration": 26,
    "start_time": "2022-03-16T09:49:13.913Z"
   },
   {
    "duration": 9,
    "start_time": "2022-03-16T09:49:27.667Z"
   },
   {
    "duration": 13,
    "start_time": "2022-03-16T09:51:52.465Z"
   },
   {
    "duration": 299,
    "start_time": "2022-03-16T09:54:42.844Z"
   },
   {
    "duration": 277,
    "start_time": "2022-03-16T09:55:06.896Z"
   },
   {
    "duration": 242,
    "start_time": "2022-03-16T09:55:16.022Z"
   },
   {
    "duration": 35,
    "start_time": "2022-03-16T09:55:37.237Z"
   },
   {
    "duration": 32,
    "start_time": "2022-03-16T09:55:57.991Z"
   },
   {
    "duration": 88,
    "start_time": "2022-03-16T10:06:24.446Z"
   },
   {
    "duration": 77,
    "start_time": "2022-03-16T10:06:34.721Z"
   },
   {
    "duration": 784,
    "start_time": "2022-03-16T11:46:32.856Z"
   },
   {
    "duration": 11,
    "start_time": "2022-03-16T11:46:33.642Z"
   },
   {
    "duration": 8,
    "start_time": "2022-03-16T11:46:33.656Z"
   },
   {
    "duration": 14,
    "start_time": "2022-03-16T11:46:33.666Z"
   },
   {
    "duration": 9,
    "start_time": "2022-03-16T11:46:33.683Z"
   },
   {
    "duration": 10,
    "start_time": "2022-03-16T11:46:33.694Z"
   },
   {
    "duration": 16820,
    "start_time": "2022-03-16T11:46:33.706Z"
   },
   {
    "duration": 4,
    "start_time": "2022-03-16T11:46:50.528Z"
   },
   {
    "duration": 10,
    "start_time": "2022-03-16T11:46:50.536Z"
   },
   {
    "duration": 15,
    "start_time": "2022-03-16T11:46:50.548Z"
   },
   {
    "duration": 17568,
    "start_time": "2022-03-16T11:46:50.565Z"
   },
   {
    "duration": 5,
    "start_time": "2022-03-16T11:47:08.135Z"
   },
   {
    "duration": 31,
    "start_time": "2022-03-16T11:47:08.142Z"
   },
   {
    "duration": 25,
    "start_time": "2022-03-16T11:47:08.175Z"
   },
   {
    "duration": 12,
    "start_time": "2022-03-16T11:47:08.203Z"
   },
   {
    "duration": 13,
    "start_time": "2022-03-16T11:47:08.232Z"
   },
   {
    "duration": 15,
    "start_time": "2022-03-16T11:47:08.247Z"
   },
   {
    "duration": 35,
    "start_time": "2022-03-16T11:47:08.264Z"
   },
   {
    "duration": 21,
    "start_time": "2022-03-16T11:47:08.302Z"
   },
   {
    "duration": 393,
    "start_time": "2022-03-16T11:47:08.326Z"
   },
   {
    "duration": 319,
    "start_time": "2022-03-16T11:47:08.722Z"
   },
   {
    "duration": 294,
    "start_time": "2022-03-16T11:47:09.042Z"
   },
   {
    "duration": 350,
    "start_time": "2022-03-16T11:47:09.337Z"
   },
   {
    "duration": 300,
    "start_time": "2022-03-16T11:47:09.689Z"
   },
   {
    "duration": 15,
    "start_time": "2022-03-16T11:47:09.991Z"
   },
   {
    "duration": 4,
    "start_time": "2022-03-16T11:47:10.008Z"
   },
   {
    "duration": 34,
    "start_time": "2022-03-16T11:47:10.016Z"
   },
   {
    "duration": 29,
    "start_time": "2022-03-16T11:47:10.051Z"
   },
   {
    "duration": 6433,
    "start_time": "2022-03-16T11:57:59.248Z"
   },
   {
    "duration": 281,
    "start_time": "2022-03-16T11:58:21.045Z"
   },
   {
    "duration": 451,
    "start_time": "2022-03-16T12:00:31.987Z"
   },
   {
    "duration": 335,
    "start_time": "2022-03-16T12:01:58.978Z"
   },
   {
    "duration": 502,
    "start_time": "2022-03-16T12:04:57.552Z"
   },
   {
    "duration": 358,
    "start_time": "2022-03-16T12:05:10.384Z"
   },
   {
    "duration": 365,
    "start_time": "2022-03-16T12:05:22.547Z"
   },
   {
    "duration": 436,
    "start_time": "2022-03-16T12:07:43.832Z"
   },
   {
    "duration": 339,
    "start_time": "2022-03-16T13:04:13.973Z"
   },
   {
    "duration": 458,
    "start_time": "2022-03-16T13:05:05.582Z"
   },
   {
    "duration": 448,
    "start_time": "2022-03-16T13:05:13.976Z"
   },
   {
    "duration": 468,
    "start_time": "2022-03-16T13:05:30.957Z"
   },
   {
    "duration": 200,
    "start_time": "2022-03-16T13:05:37.732Z"
   },
   {
    "duration": 317,
    "start_time": "2022-03-16T13:05:57.984Z"
   },
   {
    "duration": 845,
    "start_time": "2022-03-16T13:06:44.408Z"
   },
   {
    "duration": 322,
    "start_time": "2022-03-16T13:07:01.106Z"
   },
   {
    "duration": 88,
    "start_time": "2022-03-16T13:11:17.247Z"
   },
   {
    "duration": 613,
    "start_time": "2022-03-16T13:11:24.598Z"
   },
   {
    "duration": 311,
    "start_time": "2022-03-16T13:11:32.560Z"
   },
   {
    "duration": 80,
    "start_time": "2022-03-16T13:11:55.823Z"
   },
   {
    "duration": 580,
    "start_time": "2022-03-16T13:11:59.655Z"
   },
   {
    "duration": 357,
    "start_time": "2022-03-16T13:12:13.148Z"
   },
   {
    "duration": 373,
    "start_time": "2022-03-16T13:12:43.374Z"
   },
   {
    "duration": 21,
    "start_time": "2022-03-16T13:13:34.785Z"
   },
   {
    "duration": 353,
    "start_time": "2022-03-16T13:13:50.222Z"
   },
   {
    "duration": 364,
    "start_time": "2022-03-16T13:14:42.373Z"
   },
   {
    "duration": 312,
    "start_time": "2022-03-16T13:31:20.011Z"
   },
   {
    "duration": 260,
    "start_time": "2022-03-16T13:31:29.793Z"
   },
   {
    "duration": 278,
    "start_time": "2022-03-16T13:33:03.781Z"
   },
   {
    "duration": 1158,
    "start_time": "2022-03-16T13:33:18.978Z"
   },
   {
    "duration": 1180,
    "start_time": "2022-03-16T13:40:56.073Z"
   },
   {
    "duration": 1140,
    "start_time": "2022-03-16T13:43:43.189Z"
   },
   {
    "duration": 260,
    "start_time": "2022-03-16T13:43:57.377Z"
   },
   {
    "duration": 1309,
    "start_time": "2022-03-16T13:44:01.455Z"
   },
   {
    "duration": 1020,
    "start_time": "2022-03-16T13:44:43.236Z"
   },
   {
    "duration": 1157,
    "start_time": "2022-03-16T13:45:01.442Z"
   },
   {
    "duration": 1054,
    "start_time": "2022-03-16T13:45:28.822Z"
   },
   {
    "duration": 989,
    "start_time": "2022-03-16T13:45:41.594Z"
   },
   {
    "duration": 1262,
    "start_time": "2022-03-16T13:45:55.647Z"
   },
   {
    "duration": 1109,
    "start_time": "2022-03-16T13:47:06.915Z"
   },
   {
    "duration": 5,
    "start_time": "2022-03-16T13:53:07.499Z"
   },
   {
    "duration": 13,
    "start_time": "2022-03-16T13:54:19.418Z"
   },
   {
    "duration": 15,
    "start_time": "2022-03-16T13:54:45.088Z"
   },
   {
    "duration": 17,
    "start_time": "2022-03-16T13:55:03.625Z"
   },
   {
    "duration": 11,
    "start_time": "2022-03-16T13:56:50.779Z"
   },
   {
    "duration": 12,
    "start_time": "2022-03-16T13:57:32.191Z"
   },
   {
    "duration": 975,
    "start_time": "2022-03-16T14:02:24.723Z"
   },
   {
    "duration": 7,
    "start_time": "2022-03-16T14:06:39.172Z"
   },
   {
    "duration": 28,
    "start_time": "2022-03-16T14:06:48.618Z"
   },
   {
    "duration": 26,
    "start_time": "2022-03-16T14:07:00.370Z"
   },
   {
    "duration": 11,
    "start_time": "2022-03-16T14:08:50.535Z"
   },
   {
    "duration": 272,
    "start_time": "2022-03-16T14:09:45.947Z"
   },
   {
    "duration": 8,
    "start_time": "2022-03-16T14:10:00.932Z"
   },
   {
    "duration": 11,
    "start_time": "2022-03-16T14:10:33.953Z"
   },
   {
    "duration": 10,
    "start_time": "2022-03-16T14:11:08.781Z"
   },
   {
    "duration": 10,
    "start_time": "2022-03-16T14:14:31.989Z"
   },
   {
    "duration": 8,
    "start_time": "2022-03-16T14:14:59.224Z"
   },
   {
    "duration": 9,
    "start_time": "2022-03-16T14:15:41.370Z"
   },
   {
    "duration": 9,
    "start_time": "2022-03-16T14:15:52.128Z"
   },
   {
    "duration": 93,
    "start_time": "2022-03-16T14:17:27.888Z"
   },
   {
    "duration": 88,
    "start_time": "2022-03-16T14:17:44.034Z"
   },
   {
    "duration": 9,
    "start_time": "2022-03-16T14:17:58.504Z"
   },
   {
    "duration": 256,
    "start_time": "2022-03-16T14:18:05.097Z"
   },
   {
    "duration": 10,
    "start_time": "2022-03-16T14:18:42.184Z"
   },
   {
    "duration": 10,
    "start_time": "2022-03-16T14:18:46.959Z"
   },
   {
    "duration": 11,
    "start_time": "2022-03-16T14:19:23.007Z"
   },
   {
    "duration": 15,
    "start_time": "2022-03-16T14:21:17.626Z"
   },
   {
    "duration": 16,
    "start_time": "2022-03-16T14:21:38.355Z"
   },
   {
    "duration": 19,
    "start_time": "2022-03-16T14:22:16.410Z"
   },
   {
    "duration": 16,
    "start_time": "2022-03-16T14:22:41.523Z"
   },
   {
    "duration": 258,
    "start_time": "2022-03-16T14:22:56.818Z"
   },
   {
    "duration": 303,
    "start_time": "2022-03-16T14:23:49.149Z"
   },
   {
    "duration": 17,
    "start_time": "2022-03-16T14:24:12.294Z"
   },
   {
    "duration": 17,
    "start_time": "2022-03-16T14:24:21.599Z"
   },
   {
    "duration": 251,
    "start_time": "2022-03-16T14:29:19.441Z"
   },
   {
    "duration": 240,
    "start_time": "2022-03-16T14:29:32.397Z"
   },
   {
    "duration": 412,
    "start_time": "2022-03-16T14:34:09.458Z"
   },
   {
    "duration": 269,
    "start_time": "2022-03-16T14:35:09.138Z"
   },
   {
    "duration": 266,
    "start_time": "2022-03-16T14:35:32.937Z"
   },
   {
    "duration": 6,
    "start_time": "2022-03-16T14:38:22.637Z"
   },
   {
    "duration": 243,
    "start_time": "2022-03-16T14:39:41.712Z"
   },
   {
    "duration": 257,
    "start_time": "2022-03-16T14:40:22.046Z"
   },
   {
    "duration": 577,
    "start_time": "2022-03-17T06:19:10.095Z"
   },
   {
    "duration": 24,
    "start_time": "2022-03-17T06:19:10.676Z"
   },
   {
    "duration": 7,
    "start_time": "2022-03-17T06:19:10.703Z"
   },
   {
    "duration": 17,
    "start_time": "2022-03-17T06:19:10.712Z"
   },
   {
    "duration": 48,
    "start_time": "2022-03-17T06:19:10.734Z"
   },
   {
    "duration": 12,
    "start_time": "2022-03-17T06:19:10.785Z"
   },
   {
    "duration": 22639,
    "start_time": "2022-03-17T06:19:10.800Z"
   },
   {
    "duration": 6,
    "start_time": "2022-03-17T06:19:33.441Z"
   },
   {
    "duration": 24,
    "start_time": "2022-03-17T06:19:33.449Z"
   },
   {
    "duration": 12,
    "start_time": "2022-03-17T06:19:33.476Z"
   },
   {
    "duration": 22407,
    "start_time": "2022-03-17T06:19:33.491Z"
   },
   {
    "duration": 6,
    "start_time": "2022-03-17T06:19:55.901Z"
   },
   {
    "duration": 30,
    "start_time": "2022-03-17T06:19:55.909Z"
   },
   {
    "duration": 49,
    "start_time": "2022-03-17T06:19:55.943Z"
   },
   {
    "duration": 21,
    "start_time": "2022-03-17T06:19:55.994Z"
   },
   {
    "duration": 16,
    "start_time": "2022-03-17T06:19:56.017Z"
   },
   {
    "duration": 6,
    "start_time": "2022-03-17T06:19:56.036Z"
   },
   {
    "duration": 19,
    "start_time": "2022-03-17T06:19:56.075Z"
   },
   {
    "duration": 16,
    "start_time": "2022-03-17T06:19:56.096Z"
   },
   {
    "duration": 1025,
    "start_time": "2022-03-17T06:19:56.114Z"
   },
   {
    "duration": 353,
    "start_time": "2022-03-17T06:19:57.142Z"
   },
   {
    "duration": 337,
    "start_time": "2022-03-17T06:19:57.497Z"
   },
   {
    "duration": 396,
    "start_time": "2022-03-17T06:19:57.836Z"
   },
   {
    "duration": 329,
    "start_time": "2022-03-17T06:19:58.235Z"
   },
   {
    "duration": 24,
    "start_time": "2022-03-17T06:19:58.567Z"
   },
   {
    "duration": 6,
    "start_time": "2022-03-17T06:19:58.594Z"
   },
   {
    "duration": 37,
    "start_time": "2022-03-17T06:19:58.602Z"
   },
   {
    "duration": 64,
    "start_time": "2022-03-17T06:19:58.641Z"
   },
   {
    "duration": 385,
    "start_time": "2022-03-17T06:19:58.706Z"
   },
   {
    "duration": 1012,
    "start_time": "2022-03-17T06:19:59.093Z"
   },
   {
    "duration": 6,
    "start_time": "2022-03-17T06:20:00.107Z"
   },
   {
    "duration": 36,
    "start_time": "2022-03-17T06:20:00.115Z"
   },
   {
    "duration": 293,
    "start_time": "2022-03-17T06:20:00.153Z"
   },
   {
    "duration": 393,
    "start_time": "2022-03-17T06:20:00.449Z"
   },
   {
    "duration": 283,
    "start_time": "2022-03-17T06:20:00.844Z"
   },
   {
    "duration": 723,
    "start_time": "2022-03-17T06:37:12.859Z"
   },
   {
    "duration": 14,
    "start_time": "2022-03-17T06:37:22.446Z"
   },
   {
    "duration": 13,
    "start_time": "2022-03-17T06:38:06.983Z"
   },
   {
    "duration": 14,
    "start_time": "2022-03-17T06:45:39.244Z"
   },
   {
    "duration": 423,
    "start_time": "2022-03-28T08:53:30.640Z"
   },
   {
    "duration": 16,
    "start_time": "2022-03-28T08:53:31.065Z"
   },
   {
    "duration": 3,
    "start_time": "2022-03-28T08:53:31.083Z"
   },
   {
    "duration": 21,
    "start_time": "2022-03-28T08:53:31.089Z"
   },
   {
    "duration": 16,
    "start_time": "2022-03-28T08:53:31.111Z"
   },
   {
    "duration": 13,
    "start_time": "2022-03-28T08:53:31.129Z"
   },
   {
    "duration": 14727,
    "start_time": "2022-03-28T08:53:31.143Z"
   },
   {
    "duration": 3,
    "start_time": "2022-03-28T08:53:45.872Z"
   },
   {
    "duration": 5,
    "start_time": "2022-03-28T08:53:45.877Z"
   },
   {
    "duration": 22,
    "start_time": "2022-03-28T08:53:45.886Z"
   },
   {
    "duration": 15414,
    "start_time": "2022-03-28T08:53:45.910Z"
   },
   {
    "duration": 5,
    "start_time": "2022-03-28T08:54:01.325Z"
   },
   {
    "duration": 25,
    "start_time": "2022-03-28T08:54:01.332Z"
   },
   {
    "duration": 18,
    "start_time": "2022-03-28T08:54:01.358Z"
   },
   {
    "duration": 31,
    "start_time": "2022-03-28T08:54:01.378Z"
   },
   {
    "duration": 26,
    "start_time": "2022-03-28T08:54:01.410Z"
   },
   {
    "duration": 6,
    "start_time": "2022-03-28T08:54:01.438Z"
   },
   {
    "duration": 23,
    "start_time": "2022-03-28T08:54:01.446Z"
   },
   {
    "duration": 10,
    "start_time": "2022-03-28T08:54:01.470Z"
   },
   {
    "duration": 461,
    "start_time": "2022-03-28T08:54:01.482Z"
   },
   {
    "duration": 219,
    "start_time": "2022-03-28T08:54:01.944Z"
   },
   {
    "duration": 236,
    "start_time": "2022-03-28T08:54:02.165Z"
   },
   {
    "duration": 217,
    "start_time": "2022-03-28T08:54:02.403Z"
   },
   {
    "duration": 260,
    "start_time": "2022-03-28T08:54:02.622Z"
   },
   {
    "duration": 28,
    "start_time": "2022-03-28T08:54:02.884Z"
   },
   {
    "duration": 5,
    "start_time": "2022-03-28T08:54:02.914Z"
   },
   {
    "duration": 34,
    "start_time": "2022-03-28T08:54:02.921Z"
   },
   {
    "duration": 22,
    "start_time": "2022-03-28T08:54:02.959Z"
   },
   {
    "duration": 284,
    "start_time": "2022-03-28T08:54:02.983Z"
   },
   {
    "duration": 610,
    "start_time": "2022-03-28T08:54:03.269Z"
   },
   {
    "duration": 5,
    "start_time": "2022-03-28T08:54:03.881Z"
   },
   {
    "duration": 25,
    "start_time": "2022-03-28T08:54:03.887Z"
   },
   {
    "duration": 183,
    "start_time": "2022-03-28T08:54:03.913Z"
   },
   {
    "duration": 188,
    "start_time": "2022-03-28T08:54:04.098Z"
   },
   {
    "duration": 186,
    "start_time": "2022-03-28T08:54:04.288Z"
   },
   {
    "duration": 506,
    "start_time": "2022-03-28T08:54:04.476Z"
   },
   {
    "duration": 8,
    "start_time": "2022-03-28T08:54:04.984Z"
   },
   {
    "duration": 490,
    "start_time": "2022-03-28T09:34:44.985Z"
   },
   {
    "duration": 16,
    "start_time": "2022-03-28T09:34:45.477Z"
   },
   {
    "duration": 3,
    "start_time": "2022-03-28T09:34:45.501Z"
   },
   {
    "duration": 11,
    "start_time": "2022-03-28T09:34:45.506Z"
   },
   {
    "duration": 10,
    "start_time": "2022-03-28T09:34:45.519Z"
   },
   {
    "duration": 5,
    "start_time": "2022-03-28T09:34:45.531Z"
   },
   {
    "duration": 14569,
    "start_time": "2022-03-28T09:34:45.538Z"
   },
   {
    "duration": 4,
    "start_time": "2022-03-28T09:35:00.109Z"
   },
   {
    "duration": 12,
    "start_time": "2022-03-28T09:35:00.114Z"
   },
   {
    "duration": 7,
    "start_time": "2022-03-28T09:35:00.130Z"
   },
   {
    "duration": 15296,
    "start_time": "2022-03-28T09:35:00.140Z"
   },
   {
    "duration": 5,
    "start_time": "2022-03-28T09:35:15.438Z"
   },
   {
    "duration": 22,
    "start_time": "2022-03-28T09:35:15.444Z"
   },
   {
    "duration": 36,
    "start_time": "2022-03-28T09:35:15.468Z"
   },
   {
    "duration": 16,
    "start_time": "2022-03-28T09:35:15.506Z"
   },
   {
    "duration": 11,
    "start_time": "2022-03-28T09:35:15.523Z"
   },
   {
    "duration": 5,
    "start_time": "2022-03-28T09:35:15.536Z"
   },
   {
    "duration": 17,
    "start_time": "2022-03-28T09:35:15.543Z"
   },
   {
    "duration": 47,
    "start_time": "2022-03-28T09:35:15.561Z"
   },
   {
    "duration": 506,
    "start_time": "2022-03-28T09:35:15.610Z"
   },
   {
    "duration": 208,
    "start_time": "2022-03-28T09:35:16.118Z"
   },
   {
    "duration": 208,
    "start_time": "2022-03-28T09:35:16.328Z"
   },
   {
    "duration": 207,
    "start_time": "2022-03-28T09:35:16.538Z"
   },
   {
    "duration": 256,
    "start_time": "2022-03-28T09:35:16.747Z"
   },
   {
    "duration": 17,
    "start_time": "2022-03-28T09:35:17.005Z"
   },
   {
    "duration": 5,
    "start_time": "2022-03-28T09:35:17.024Z"
   },
   {
    "duration": 25,
    "start_time": "2022-03-28T09:35:17.032Z"
   },
   {
    "duration": 56,
    "start_time": "2022-03-28T09:35:17.062Z"
   },
   {
    "duration": 231,
    "start_time": "2022-03-28T09:35:17.119Z"
   },
   {
    "duration": 605,
    "start_time": "2022-03-28T09:35:17.352Z"
   },
   {
    "duration": 6,
    "start_time": "2022-03-28T09:35:17.959Z"
   },
   {
    "duration": 33,
    "start_time": "2022-03-28T09:35:17.967Z"
   },
   {
    "duration": 202,
    "start_time": "2022-03-28T09:35:18.003Z"
   },
   {
    "duration": 178,
    "start_time": "2022-03-28T09:35:18.207Z"
   },
   {
    "duration": 178,
    "start_time": "2022-03-28T09:35:18.387Z"
   },
   {
    "duration": 522,
    "start_time": "2022-03-28T09:35:18.567Z"
   },
   {
    "duration": 16,
    "start_time": "2022-03-28T09:35:19.092Z"
   },
   {
    "duration": 585,
    "start_time": "2022-03-28T10:47:03.697Z"
   },
   {
    "duration": 20,
    "start_time": "2022-03-28T10:47:04.285Z"
   },
   {
    "duration": 9,
    "start_time": "2022-03-28T10:47:04.307Z"
   },
   {
    "duration": 20,
    "start_time": "2022-03-28T10:47:04.319Z"
   },
   {
    "duration": 15,
    "start_time": "2022-03-28T10:47:04.341Z"
   },
   {
    "duration": 7,
    "start_time": "2022-03-28T10:47:04.383Z"
   },
   {
    "duration": 335,
    "start_time": "2022-03-28T10:47:25.462Z"
   },
   {
    "duration": 64,
    "start_time": "2022-03-28T10:47:27.451Z"
   },
   {
    "duration": 19,
    "start_time": "2022-03-28T10:47:27.519Z"
   },
   {
    "duration": 12,
    "start_time": "2022-03-28T10:47:27.541Z"
   },
   {
    "duration": 36,
    "start_time": "2022-03-28T10:47:27.555Z"
   },
   {
    "duration": 13,
    "start_time": "2022-03-28T10:47:30.269Z"
   },
   {
    "duration": 21,
    "start_time": "2022-03-28T10:48:20.131Z"
   },
   {
    "duration": 20,
    "start_time": "2022-03-28T10:49:36.197Z"
   },
   {
    "duration": 22,
    "start_time": "2022-03-28T10:49:51.430Z"
   },
   {
    "duration": 20,
    "start_time": "2022-03-28T10:54:38.054Z"
   },
   {
    "duration": 25,
    "start_time": "2022-03-28T10:54:50.452Z"
   },
   {
    "duration": 24,
    "start_time": "2022-03-28T10:54:55.768Z"
   },
   {
    "duration": 33,
    "start_time": "2022-03-28T10:55:21.441Z"
   },
   {
    "duration": 72,
    "start_time": "2022-03-28T11:01:07.176Z"
   },
   {
    "duration": 34,
    "start_time": "2022-03-28T11:01:07.250Z"
   },
   {
    "duration": 12,
    "start_time": "2022-03-28T11:01:07.286Z"
   },
   {
    "duration": 24,
    "start_time": "2022-03-28T11:01:07.300Z"
   },
   {
    "duration": 25,
    "start_time": "2022-03-28T11:01:07.327Z"
   },
   {
    "duration": 17,
    "start_time": "2022-03-28T11:01:07.354Z"
   },
   {
    "duration": 28,
    "start_time": "2022-03-28T11:01:07.373Z"
   },
   {
    "duration": 33,
    "start_time": "2022-03-28T11:01:07.403Z"
   },
   {
    "duration": 15,
    "start_time": "2022-03-28T11:01:07.438Z"
   },
   {
    "duration": 21,
    "start_time": "2022-03-28T11:01:07.455Z"
   },
   {
    "duration": 6,
    "start_time": "2022-03-28T11:08:15.570Z"
   },
   {
    "duration": 99,
    "start_time": "2022-03-28T11:10:53.132Z"
   },
   {
    "duration": 19,
    "start_time": "2022-03-28T11:10:53.234Z"
   },
   {
    "duration": 28,
    "start_time": "2022-03-28T11:10:53.256Z"
   },
   {
    "duration": 19,
    "start_time": "2022-03-28T11:10:53.288Z"
   },
   {
    "duration": 19,
    "start_time": "2022-03-28T11:10:55.163Z"
   },
   {
    "duration": 7,
    "start_time": "2022-03-28T11:11:02.162Z"
   },
   {
    "duration": 33,
    "start_time": "2022-03-28T11:11:10.149Z"
   },
   {
    "duration": 7,
    "start_time": "2022-03-28T11:17:58.974Z"
   },
   {
    "duration": 6,
    "start_time": "2022-03-28T11:19:13.574Z"
   },
   {
    "duration": 66,
    "start_time": "2022-03-28T11:19:18.571Z"
   },
   {
    "duration": 21,
    "start_time": "2022-03-28T11:19:18.640Z"
   },
   {
    "duration": 25,
    "start_time": "2022-03-28T11:19:18.663Z"
   },
   {
    "duration": 15,
    "start_time": "2022-03-28T11:19:18.691Z"
   },
   {
    "duration": 12,
    "start_time": "2022-03-28T11:19:18.709Z"
   },
   {
    "duration": 15,
    "start_time": "2022-03-28T11:19:18.723Z"
   },
   {
    "duration": 8,
    "start_time": "2022-03-28T11:19:18.741Z"
   },
   {
    "duration": 8,
    "start_time": "2022-03-28T11:19:18.751Z"
   },
   {
    "duration": 6,
    "start_time": "2022-03-28T11:19:18.785Z"
   },
   {
    "duration": 12,
    "start_time": "2022-03-28T11:19:18.794Z"
   },
   {
    "duration": 26,
    "start_time": "2022-03-28T11:19:18.808Z"
   },
   {
    "duration": 7,
    "start_time": "2022-03-28T11:19:21.309Z"
   },
   {
    "duration": 22,
    "start_time": "2022-03-28T11:19:24.796Z"
   },
   {
    "duration": 29,
    "start_time": "2022-03-28T11:19:27.294Z"
   },
   {
    "duration": 67,
    "start_time": "2022-03-28T11:24:18.849Z"
   },
   {
    "duration": 21,
    "start_time": "2022-03-28T11:24:18.920Z"
   },
   {
    "duration": 38,
    "start_time": "2022-03-28T11:24:18.944Z"
   },
   {
    "duration": 32,
    "start_time": "2022-03-28T11:24:18.985Z"
   },
   {
    "duration": 37,
    "start_time": "2022-03-28T11:24:19.020Z"
   },
   {
    "duration": 22,
    "start_time": "2022-03-28T11:24:19.060Z"
   },
   {
    "duration": 27,
    "start_time": "2022-03-28T11:24:19.085Z"
   },
   {
    "duration": 18,
    "start_time": "2022-03-28T11:24:19.114Z"
   },
   {
    "duration": 32,
    "start_time": "2022-03-28T11:24:19.135Z"
   },
   {
    "duration": 24,
    "start_time": "2022-03-28T11:24:19.169Z"
   },
   {
    "duration": 25,
    "start_time": "2022-03-28T11:24:19.195Z"
   },
   {
    "duration": 8,
    "start_time": "2022-03-28T11:24:19.222Z"
   },
   {
    "duration": 29,
    "start_time": "2022-03-28T11:24:19.232Z"
   },
   {
    "duration": 42,
    "start_time": "2022-03-28T11:24:19.267Z"
   },
   {
    "duration": 21,
    "start_time": "2022-03-28T11:24:19.312Z"
   },
   {
    "duration": 49,
    "start_time": "2022-03-28T11:24:19.336Z"
   },
   {
    "duration": 6,
    "start_time": "2022-03-28T11:24:19.388Z"
   },
   {
    "duration": 23,
    "start_time": "2022-03-28T11:24:19.397Z"
   },
   {
    "duration": 18,
    "start_time": "2022-03-28T11:24:19.423Z"
   },
   {
    "duration": 983,
    "start_time": "2022-03-28T11:24:19.443Z"
   },
   {
    "duration": 326,
    "start_time": "2022-03-28T11:24:20.428Z"
   },
   {
    "duration": 324,
    "start_time": "2022-03-28T11:24:20.756Z"
   },
   {
    "duration": 392,
    "start_time": "2022-03-28T11:24:21.083Z"
   },
   {
    "duration": 309,
    "start_time": "2022-03-28T11:24:21.477Z"
   },
   {
    "duration": 21,
    "start_time": "2022-03-28T11:24:21.788Z"
   },
   {
    "duration": 7,
    "start_time": "2022-03-28T11:24:26.845Z"
   },
   {
    "duration": 71,
    "start_time": "2022-03-28T11:29:37.695Z"
   },
   {
    "duration": 27,
    "start_time": "2022-03-28T11:29:37.769Z"
   },
   {
    "duration": 10,
    "start_time": "2022-03-28T11:29:37.798Z"
   },
   {
    "duration": 17,
    "start_time": "2022-03-28T11:29:37.811Z"
   },
   {
    "duration": 14,
    "start_time": "2022-03-28T11:29:37.831Z"
   },
   {
    "duration": 39,
    "start_time": "2022-03-28T11:29:37.847Z"
   },
   {
    "duration": 7,
    "start_time": "2022-03-28T11:29:37.889Z"
   },
   {
    "duration": 10,
    "start_time": "2022-03-28T11:29:37.898Z"
   },
   {
    "duration": 13,
    "start_time": "2022-03-28T11:29:37.910Z"
   },
   {
    "duration": 13,
    "start_time": "2022-03-28T11:29:37.925Z"
   },
   {
    "duration": 53,
    "start_time": "2022-03-28T11:29:37.940Z"
   },
   {
    "duration": 6,
    "start_time": "2022-03-28T11:29:39.832Z"
   },
   {
    "duration": 21,
    "start_time": "2022-03-28T11:29:41.824Z"
   },
   {
    "duration": 28,
    "start_time": "2022-03-28T11:29:43.037Z"
   },
   {
    "duration": 20,
    "start_time": "2022-03-28T11:29:45.874Z"
   },
   {
    "duration": 521,
    "start_time": "2022-03-28T11:30:34.842Z"
   },
   {
    "duration": 68,
    "start_time": "2022-03-28T11:34:38.730Z"
   },
   {
    "duration": 21,
    "start_time": "2022-03-28T11:34:38.800Z"
   },
   {
    "duration": 13,
    "start_time": "2022-03-28T11:34:38.823Z"
   },
   {
    "duration": 17,
    "start_time": "2022-03-28T11:34:38.839Z"
   },
   {
    "duration": 33,
    "start_time": "2022-03-28T11:34:38.859Z"
   },
   {
    "duration": 6,
    "start_time": "2022-03-28T11:34:38.894Z"
   },
   {
    "duration": 10,
    "start_time": "2022-03-28T11:34:38.902Z"
   },
   {
    "duration": 8,
    "start_time": "2022-03-28T11:34:38.914Z"
   },
   {
    "duration": 11,
    "start_time": "2022-03-28T11:34:38.924Z"
   },
   {
    "duration": 7,
    "start_time": "2022-03-28T11:34:38.939Z"
   },
   {
    "duration": 51,
    "start_time": "2022-03-28T11:34:38.948Z"
   },
   {
    "duration": 7,
    "start_time": "2022-03-28T11:34:39.001Z"
   },
   {
    "duration": 24,
    "start_time": "2022-03-28T11:34:39.010Z"
   },
   {
    "duration": 56,
    "start_time": "2022-03-28T11:34:39.037Z"
   },
   {
    "duration": 18,
    "start_time": "2022-03-28T11:34:39.096Z"
   },
   {
    "duration": 16,
    "start_time": "2022-03-28T11:34:39.116Z"
   },
   {
    "duration": 560,
    "start_time": "2022-03-28T11:34:39.134Z"
   },
   {
    "duration": 6,
    "start_time": "2022-03-28T11:34:39.696Z"
   },
   {
    "duration": 24,
    "start_time": "2022-03-28T11:34:39.704Z"
   },
   {
    "duration": 15,
    "start_time": "2022-03-28T11:34:39.730Z"
   },
   {
    "duration": 358,
    "start_time": "2022-03-28T11:34:39.748Z"
   },
   {
    "duration": 330,
    "start_time": "2022-03-28T11:34:40.108Z"
   },
   {
    "duration": 324,
    "start_time": "2022-03-28T11:34:40.441Z"
   },
   {
    "duration": 321,
    "start_time": "2022-03-28T11:34:40.767Z"
   },
   {
    "duration": 318,
    "start_time": "2022-03-28T11:34:41.090Z"
   },
   {
    "duration": 707,
    "start_time": "2022-03-28T11:36:40.768Z"
   },
   {
    "duration": 73,
    "start_time": "2022-03-28T11:36:48.994Z"
   },
   {
    "duration": 32,
    "start_time": "2022-03-28T11:36:49.083Z"
   },
   {
    "duration": 6,
    "start_time": "2022-03-28T11:36:49.117Z"
   },
   {
    "duration": 21,
    "start_time": "2022-03-28T11:36:49.125Z"
   },
   {
    "duration": 46,
    "start_time": "2022-03-28T11:36:49.150Z"
   },
   {
    "duration": 10,
    "start_time": "2022-03-28T11:36:49.198Z"
   },
   {
    "duration": 6,
    "start_time": "2022-03-28T11:36:49.210Z"
   },
   {
    "duration": 9,
    "start_time": "2022-03-28T11:36:49.218Z"
   },
   {
    "duration": 11,
    "start_time": "2022-03-28T11:36:49.230Z"
   },
   {
    "duration": 16,
    "start_time": "2022-03-28T11:36:49.243Z"
   },
   {
    "duration": 21,
    "start_time": "2022-03-28T11:36:49.284Z"
   },
   {
    "duration": 9,
    "start_time": "2022-03-28T11:36:49.308Z"
   },
   {
    "duration": 27,
    "start_time": "2022-03-28T11:36:49.319Z"
   },
   {
    "duration": 57,
    "start_time": "2022-03-28T11:36:49.352Z"
   },
   {
    "duration": 21,
    "start_time": "2022-03-28T11:36:49.412Z"
   },
   {
    "duration": 50,
    "start_time": "2022-03-28T11:36:49.436Z"
   },
   {
    "duration": 544,
    "start_time": "2022-03-28T11:36:49.489Z"
   },
   {
    "duration": 6,
    "start_time": "2022-03-28T11:36:50.035Z"
   },
   {
    "duration": 40,
    "start_time": "2022-03-28T11:36:50.044Z"
   },
   {
    "duration": 16,
    "start_time": "2022-03-28T11:36:50.087Z"
   },
   {
    "duration": 345,
    "start_time": "2022-03-28T11:36:50.106Z"
   },
   {
    "duration": 346,
    "start_time": "2022-03-28T11:36:50.453Z"
   },
   {
    "duration": 329,
    "start_time": "2022-03-28T11:36:50.801Z"
   },
   {
    "duration": 328,
    "start_time": "2022-03-28T11:36:51.132Z"
   },
   {
    "duration": 307,
    "start_time": "2022-03-28T11:36:51.462Z"
   },
   {
    "duration": 23,
    "start_time": "2022-03-28T11:36:51.783Z"
   },
   {
    "duration": 7,
    "start_time": "2022-03-28T11:36:51.808Z"
   },
   {
    "duration": 45,
    "start_time": "2022-03-28T11:36:51.818Z"
   },
   {
    "duration": 35,
    "start_time": "2022-03-28T11:36:59.803Z"
   },
   {
    "duration": 389,
    "start_time": "2022-03-28T11:37:21.580Z"
   },
   {
    "duration": 624,
    "start_time": "2022-03-28T11:38:05.773Z"
   },
   {
    "duration": 473,
    "start_time": "2022-03-28T12:12:21.554Z"
   },
   {
    "duration": 14,
    "start_time": "2022-03-28T12:12:22.029Z"
   },
   {
    "duration": 9,
    "start_time": "2022-03-28T12:12:22.045Z"
   },
   {
    "duration": 12,
    "start_time": "2022-03-28T12:12:22.056Z"
   },
   {
    "duration": 8,
    "start_time": "2022-03-28T12:12:22.069Z"
   },
   {
    "duration": 4,
    "start_time": "2022-03-28T12:12:22.079Z"
   },
   {
    "duration": 24,
    "start_time": "2022-03-28T12:12:22.085Z"
   },
   {
    "duration": 2,
    "start_time": "2022-03-28T12:12:22.111Z"
   },
   {
    "duration": 6,
    "start_time": "2022-03-28T12:12:22.115Z"
   },
   {
    "duration": 9,
    "start_time": "2022-03-28T12:12:22.123Z"
   },
   {
    "duration": 16,
    "start_time": "2022-03-28T12:12:22.134Z"
   },
   {
    "duration": 4,
    "start_time": "2022-03-28T12:12:22.152Z"
   },
   {
    "duration": 16,
    "start_time": "2022-03-28T12:12:22.157Z"
   },
   {
    "duration": 44,
    "start_time": "2022-03-28T12:12:22.175Z"
   },
   {
    "duration": 13,
    "start_time": "2022-03-28T12:12:22.221Z"
   },
   {
    "duration": 11,
    "start_time": "2022-03-28T12:12:22.236Z"
   },
   {
    "duration": 770,
    "start_time": "2022-03-28T12:12:22.249Z"
   },
   {
    "duration": 5,
    "start_time": "2022-03-28T12:12:23.021Z"
   },
   {
    "duration": 23,
    "start_time": "2022-03-28T12:12:23.027Z"
   },
   {
    "duration": 11,
    "start_time": "2022-03-28T12:12:23.051Z"
   },
   {
    "duration": 216,
    "start_time": "2022-03-28T12:12:23.063Z"
   },
   {
    "duration": 203,
    "start_time": "2022-03-28T12:12:23.280Z"
   },
   {
    "duration": 246,
    "start_time": "2022-03-28T12:12:23.484Z"
   },
   {
    "duration": 209,
    "start_time": "2022-03-28T12:12:23.731Z"
   },
   {
    "duration": 193,
    "start_time": "2022-03-28T12:12:23.942Z"
   },
   {
    "duration": 13,
    "start_time": "2022-03-28T12:12:24.136Z"
   },
   {
    "duration": 26,
    "start_time": "2022-03-28T12:12:24.150Z"
   },
   {
    "duration": 42,
    "start_time": "2022-03-28T12:12:24.179Z"
   },
   {
    "duration": 36,
    "start_time": "2022-03-28T12:12:24.223Z"
   },
   {
    "duration": 230,
    "start_time": "2022-03-28T12:12:26.377Z"
   },
   {
    "duration": 268,
    "start_time": "2022-03-28T12:19:14.401Z"
   },
   {
    "duration": 3,
    "start_time": "2022-03-28T12:23:50.401Z"
   },
   {
    "duration": 1463,
    "start_time": "2022-03-28T12:24:11.476Z"
   },
   {
    "duration": 3,
    "start_time": "2022-03-28T12:24:32.146Z"
   },
   {
    "duration": 3,
    "start_time": "2022-03-28T12:29:55.656Z"
   },
   {
    "duration": 629,
    "start_time": "2022-03-28T12:32:45.443Z"
   },
   {
    "duration": 735,
    "start_time": "2022-03-28T12:38:40.680Z"
   },
   {
    "duration": 681,
    "start_time": "2022-03-28T12:40:06.866Z"
   },
   {
    "duration": 636,
    "start_time": "2022-03-28T13:01:09.963Z"
   },
   {
    "duration": 708,
    "start_time": "2022-03-28T13:06:37.942Z"
   },
   {
    "duration": 601,
    "start_time": "2022-03-28T13:07:07.669Z"
   },
   {
    "duration": 751,
    "start_time": "2022-03-28T13:07:31.627Z"
   },
   {
    "duration": 69,
    "start_time": "2022-03-28T13:16:45.866Z"
   },
   {
    "duration": 24,
    "start_time": "2022-03-28T13:16:45.938Z"
   },
   {
    "duration": 3,
    "start_time": "2022-03-28T13:16:45.964Z"
   },
   {
    "duration": 49,
    "start_time": "2022-03-28T13:16:45.970Z"
   },
   {
    "duration": 13,
    "start_time": "2022-03-28T13:16:46.022Z"
   },
   {
    "duration": 6,
    "start_time": "2022-03-28T13:16:46.037Z"
   },
   {
    "duration": 6,
    "start_time": "2022-03-28T13:16:46.046Z"
   },
   {
    "duration": 5,
    "start_time": "2022-03-28T13:16:46.054Z"
   },
   {
    "duration": 18,
    "start_time": "2022-03-28T13:16:46.062Z"
   },
   {
    "duration": 34,
    "start_time": "2022-03-28T13:16:46.084Z"
   },
   {
    "duration": 35,
    "start_time": "2022-03-28T13:16:46.120Z"
   },
   {
    "duration": 5,
    "start_time": "2022-03-28T13:16:46.158Z"
   },
   {
    "duration": 17,
    "start_time": "2022-03-28T13:16:46.165Z"
   },
   {
    "duration": 56,
    "start_time": "2022-03-28T13:16:46.184Z"
   },
   {
    "duration": 25,
    "start_time": "2022-03-28T13:16:46.242Z"
   },
   {
    "duration": 16,
    "start_time": "2022-03-28T13:16:46.269Z"
   },
   {
    "duration": 391,
    "start_time": "2022-03-28T13:16:46.286Z"
   },
   {
    "duration": 5,
    "start_time": "2022-03-28T13:16:46.679Z"
   },
   {
    "duration": 41,
    "start_time": "2022-03-28T13:16:46.686Z"
   },
   {
    "duration": 13,
    "start_time": "2022-03-28T13:16:46.729Z"
   },
   {
    "duration": 272,
    "start_time": "2022-03-28T13:16:46.744Z"
   },
   {
    "duration": 228,
    "start_time": "2022-03-28T13:16:47.018Z"
   },
   {
    "duration": 221,
    "start_time": "2022-03-28T13:16:47.247Z"
   },
   {
    "duration": 235,
    "start_time": "2022-03-28T13:16:47.470Z"
   },
   {
    "duration": 258,
    "start_time": "2022-03-28T13:16:47.713Z"
   },
   {
    "duration": 21,
    "start_time": "2022-03-28T13:16:47.974Z"
   },
   {
    "duration": 5,
    "start_time": "2022-03-28T13:16:47.997Z"
   },
   {
    "duration": 28,
    "start_time": "2022-03-28T13:16:48.010Z"
   },
   {
    "duration": 25,
    "start_time": "2022-03-28T13:16:48.040Z"
   },
   {
    "duration": 349,
    "start_time": "2022-03-28T13:16:48.067Z"
   },
   {
    "duration": 346,
    "start_time": "2022-03-28T13:16:48.419Z"
   },
   {
    "duration": 819,
    "start_time": "2022-03-28T13:16:48.767Z"
   },
   {
    "duration": 731,
    "start_time": "2022-03-28T13:16:49.588Z"
   },
   {
    "duration": 861,
    "start_time": "2022-03-28T13:16:50.321Z"
   },
   {
    "duration": 665,
    "start_time": "2022-03-28T13:16:51.185Z"
   },
   {
    "duration": 724,
    "start_time": "2022-03-28T13:16:51.853Z"
   },
   {
    "duration": 822,
    "start_time": "2022-03-28T13:16:52.578Z"
   },
   {
    "duration": 5,
    "start_time": "2022-03-28T13:16:58.628Z"
   },
   {
    "duration": 24,
    "start_time": "2022-03-28T13:18:23.415Z"
   },
   {
    "duration": 24,
    "start_time": "2022-03-28T13:18:53.514Z"
   },
   {
    "duration": 19,
    "start_time": "2022-03-28T13:19:25.367Z"
   },
   {
    "duration": 16,
    "start_time": "2022-03-28T13:19:34.476Z"
   },
   {
    "duration": 21,
    "start_time": "2022-03-28T13:20:09.903Z"
   },
   {
    "duration": 69,
    "start_time": "2022-03-28T13:26:16.179Z"
   },
   {
    "duration": 22,
    "start_time": "2022-03-28T13:26:16.251Z"
   },
   {
    "duration": 4,
    "start_time": "2022-03-28T13:26:16.275Z"
   },
   {
    "duration": 19,
    "start_time": "2022-03-28T13:26:16.309Z"
   },
   {
    "duration": 10,
    "start_time": "2022-03-28T13:26:16.332Z"
   },
   {
    "duration": 5,
    "start_time": "2022-03-28T13:26:16.343Z"
   },
   {
    "duration": 6,
    "start_time": "2022-03-28T13:26:16.350Z"
   },
   {
    "duration": 4,
    "start_time": "2022-03-28T13:26:16.358Z"
   },
   {
    "duration": 6,
    "start_time": "2022-03-28T13:26:16.363Z"
   },
   {
    "duration": 46,
    "start_time": "2022-03-28T13:26:16.370Z"
   },
   {
    "duration": 28,
    "start_time": "2022-03-28T13:26:16.419Z"
   },
   {
    "duration": 10,
    "start_time": "2022-03-28T13:26:16.448Z"
   },
   {
    "duration": 19,
    "start_time": "2022-03-28T13:26:16.460Z"
   },
   {
    "duration": 54,
    "start_time": "2022-03-28T13:26:16.482Z"
   },
   {
    "duration": 16,
    "start_time": "2022-03-28T13:26:16.539Z"
   },
   {
    "duration": 15,
    "start_time": "2022-03-28T13:26:16.557Z"
   },
   {
    "duration": 421,
    "start_time": "2022-03-28T13:26:16.574Z"
   },
   {
    "duration": 12,
    "start_time": "2022-03-28T13:26:16.998Z"
   },
   {
    "duration": 19,
    "start_time": "2022-03-28T13:26:17.013Z"
   },
   {
    "duration": 16,
    "start_time": "2022-03-28T13:26:17.034Z"
   },
   {
    "duration": 274,
    "start_time": "2022-03-28T13:26:17.053Z"
   },
   {
    "duration": 230,
    "start_time": "2022-03-28T13:26:17.329Z"
   },
   {
    "duration": 234,
    "start_time": "2022-03-28T13:26:17.561Z"
   },
   {
    "duration": 237,
    "start_time": "2022-03-28T13:26:17.797Z"
   },
   {
    "duration": 214,
    "start_time": "2022-03-28T13:26:18.037Z"
   },
   {
    "duration": 16,
    "start_time": "2022-03-28T13:26:18.253Z"
   },
   {
    "duration": 4,
    "start_time": "2022-03-28T13:26:18.271Z"
   },
   {
    "duration": 60,
    "start_time": "2022-03-28T13:26:18.277Z"
   },
   {
    "duration": 26,
    "start_time": "2022-03-28T13:26:18.340Z"
   },
   {
    "duration": 297,
    "start_time": "2022-03-28T13:26:18.368Z"
   },
   {
    "duration": 432,
    "start_time": "2022-03-28T13:26:18.668Z"
   },
   {
    "duration": 679,
    "start_time": "2022-03-28T13:26:19.102Z"
   },
   {
    "duration": 715,
    "start_time": "2022-03-28T13:26:19.783Z"
   },
   {
    "duration": 798,
    "start_time": "2022-03-28T13:26:20.500Z"
   },
   {
    "duration": 654,
    "start_time": "2022-03-28T13:26:21.300Z"
   },
   {
    "duration": 672,
    "start_time": "2022-03-28T13:26:21.956Z"
   },
   {
    "duration": 830,
    "start_time": "2022-03-28T13:26:22.630Z"
   },
   {
    "duration": 5,
    "start_time": "2022-03-28T13:26:23.463Z"
   },
   {
    "duration": 44,
    "start_time": "2022-03-28T13:26:23.470Z"
   },
   {
    "duration": 216,
    "start_time": "2022-03-28T13:26:23.516Z"
   },
   {
    "duration": 200,
    "start_time": "2022-03-28T13:26:23.737Z"
   },
   {
    "duration": 171,
    "start_time": "2022-03-28T13:27:36.231Z"
   },
   {
    "duration": 184,
    "start_time": "2022-03-28T13:27:53.353Z"
   },
   {
    "duration": 185,
    "start_time": "2022-03-28T13:28:19.042Z"
   },
   {
    "duration": 415,
    "start_time": "2022-03-28T13:35:04.304Z"
   },
   {
    "duration": 11,
    "start_time": "2022-03-28T13:36:14.690Z"
   },
   {
    "duration": 14,
    "start_time": "2022-03-28T13:39:37.237Z"
   },
   {
    "duration": 13,
    "start_time": "2022-03-28T13:39:47.358Z"
   },
   {
    "duration": 13,
    "start_time": "2022-03-28T13:40:35.028Z"
   },
   {
    "duration": 60,
    "start_time": "2022-03-28T13:40:48.889Z"
   },
   {
    "duration": 15,
    "start_time": "2022-03-28T13:40:48.951Z"
   },
   {
    "duration": 3,
    "start_time": "2022-03-28T13:40:48.968Z"
   },
   {
    "duration": 46,
    "start_time": "2022-03-28T13:40:48.973Z"
   },
   {
    "duration": 20,
    "start_time": "2022-03-28T13:40:49.022Z"
   },
   {
    "duration": 4,
    "start_time": "2022-03-28T13:40:49.045Z"
   },
   {
    "duration": 6,
    "start_time": "2022-03-28T13:40:49.051Z"
   },
   {
    "duration": 8,
    "start_time": "2022-03-28T13:40:49.058Z"
   },
   {
    "duration": 9,
    "start_time": "2022-03-28T13:40:49.068Z"
   },
   {
    "duration": 9,
    "start_time": "2022-03-28T13:40:49.080Z"
   },
   {
    "duration": 49,
    "start_time": "2022-03-28T13:40:49.091Z"
   },
   {
    "duration": 5,
    "start_time": "2022-03-28T13:40:49.142Z"
   },
   {
    "duration": 26,
    "start_time": "2022-03-28T13:40:49.148Z"
   },
   {
    "duration": 21,
    "start_time": "2022-03-28T13:40:49.176Z"
   },
   {
    "duration": 36,
    "start_time": "2022-03-28T13:40:49.199Z"
   },
   {
    "duration": 12,
    "start_time": "2022-03-28T13:40:49.237Z"
   },
   {
    "duration": 516,
    "start_time": "2022-03-28T13:40:49.251Z"
   },
   {
    "duration": 5,
    "start_time": "2022-03-28T13:40:49.768Z"
   },
   {
    "duration": 14,
    "start_time": "2022-03-28T13:40:49.775Z"
   },
   {
    "duration": 44,
    "start_time": "2022-03-28T13:40:49.791Z"
   },
   {
    "duration": 223,
    "start_time": "2022-03-28T13:40:49.837Z"
   },
   {
    "duration": 227,
    "start_time": "2022-03-28T13:40:50.062Z"
   },
   {
    "duration": 252,
    "start_time": "2022-03-28T13:40:50.290Z"
   },
   {
    "duration": 221,
    "start_time": "2022-03-28T13:40:50.544Z"
   },
   {
    "duration": 207,
    "start_time": "2022-03-28T13:40:50.767Z"
   },
   {
    "duration": 13,
    "start_time": "2022-03-28T13:40:50.975Z"
   },
   {
    "duration": 4,
    "start_time": "2022-03-28T13:40:50.990Z"
   },
   {
    "duration": 37,
    "start_time": "2022-03-28T13:40:51.010Z"
   },
   {
    "duration": 22,
    "start_time": "2022-03-28T13:40:51.049Z"
   },
   {
    "duration": 286,
    "start_time": "2022-03-28T13:40:51.073Z"
   },
   {
    "duration": 296,
    "start_time": "2022-03-28T13:40:51.361Z"
   },
   {
    "duration": 621,
    "start_time": "2022-03-28T13:40:51.658Z"
   },
   {
    "duration": 806,
    "start_time": "2022-03-28T13:40:52.280Z"
   },
   {
    "duration": 605,
    "start_time": "2022-03-28T13:40:53.087Z"
   },
   {
    "duration": 652,
    "start_time": "2022-03-28T13:40:53.694Z"
   },
   {
    "duration": 809,
    "start_time": "2022-03-28T13:40:54.349Z"
   },
   {
    "duration": 635,
    "start_time": "2022-03-28T13:40:55.160Z"
   },
   {
    "duration": 5,
    "start_time": "2022-03-28T13:40:55.797Z"
   },
   {
    "duration": 23,
    "start_time": "2022-03-28T13:40:55.810Z"
   },
   {
    "duration": 168,
    "start_time": "2022-03-28T13:40:55.835Z"
   },
   {
    "duration": 173,
    "start_time": "2022-03-28T13:40:56.008Z"
   },
   {
    "duration": 176,
    "start_time": "2022-03-28T13:40:56.183Z"
   },
   {
    "duration": 11,
    "start_time": "2022-03-28T13:40:56.360Z"
   },
   {
    "duration": 9,
    "start_time": "2022-03-28T13:40:56.373Z"
   }
  ],
  "kernelspec": {
   "display_name": "Python 3 (ipykernel)",
   "language": "python",
   "name": "python3"
  },
  "language_info": {
   "codemirror_mode": {
    "name": "ipython",
    "version": 3
   },
   "file_extension": ".py",
   "mimetype": "text/x-python",
   "name": "python",
   "nbconvert_exporter": "python",
   "pygments_lexer": "ipython3",
   "version": "3.9.5"
  },
  "toc": {
   "base_numbering": 1,
   "nav_menu": {
    "height": "226px",
    "width": "160px"
   },
   "number_sections": true,
   "sideBar": true,
   "skip_h1_title": true,
   "title_cell": "Table of Contents",
   "title_sidebar": "Contents",
   "toc_cell": false,
   "toc_position": {},
   "toc_section_display": true,
   "toc_window_display": true
  }
 },
 "nbformat": 4,
 "nbformat_minor": 2
}
