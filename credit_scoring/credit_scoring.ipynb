{
 "cells": [
  {
   "cell_type": "markdown",
   "id": "1211a91b",
   "metadata": {},
   "source": [
    "# Исследование надежности заемщиков."
   ]
  },
  {
   "cell_type": "markdown",
   "id": "448ef8ab",
   "metadata": {},
   "source": [
    "### Шаг 1. Обзор данных"
   ]
  },
  {
   "cell_type": "code",
   "execution_count": 1,
   "id": "a32e6ba4",
   "metadata": {},
   "outputs": [
    {
     "data": {
      "text/html": [
       "<div>\n",
       "<style scoped>\n",
       "    .dataframe tbody tr th:only-of-type {\n",
       "        vertical-align: middle;\n",
       "    }\n",
       "\n",
       "    .dataframe tbody tr th {\n",
       "        vertical-align: top;\n",
       "    }\n",
       "\n",
       "    .dataframe thead th {\n",
       "        text-align: right;\n",
       "    }\n",
       "</style>\n",
       "<table border=\"1\" class=\"dataframe\">\n",
       "  <thead>\n",
       "    <tr style=\"text-align: right;\">\n",
       "      <th></th>\n",
       "      <th>children</th>\n",
       "      <th>days_employed</th>\n",
       "      <th>dob_years</th>\n",
       "      <th>education</th>\n",
       "      <th>education_id</th>\n",
       "      <th>family_status</th>\n",
       "      <th>family_status_id</th>\n",
       "      <th>gender</th>\n",
       "      <th>income_type</th>\n",
       "      <th>debt</th>\n",
       "      <th>total_income</th>\n",
       "      <th>purpose</th>\n",
       "    </tr>\n",
       "  </thead>\n",
       "  <tbody>\n",
       "    <tr>\n",
       "      <td>0</td>\n",
       "      <td>1</td>\n",
       "      <td>-8437.673028</td>\n",
       "      <td>42</td>\n",
       "      <td>высшее</td>\n",
       "      <td>0</td>\n",
       "      <td>женат / замужем</td>\n",
       "      <td>0</td>\n",
       "      <td>F</td>\n",
       "      <td>сотрудник</td>\n",
       "      <td>0</td>\n",
       "      <td>253875.639453</td>\n",
       "      <td>покупка жилья</td>\n",
       "    </tr>\n",
       "    <tr>\n",
       "      <td>1</td>\n",
       "      <td>1</td>\n",
       "      <td>-4024.803754</td>\n",
       "      <td>36</td>\n",
       "      <td>среднее</td>\n",
       "      <td>1</td>\n",
       "      <td>женат / замужем</td>\n",
       "      <td>0</td>\n",
       "      <td>F</td>\n",
       "      <td>сотрудник</td>\n",
       "      <td>0</td>\n",
       "      <td>112080.014102</td>\n",
       "      <td>приобретение автомобиля</td>\n",
       "    </tr>\n",
       "    <tr>\n",
       "      <td>2</td>\n",
       "      <td>0</td>\n",
       "      <td>-5623.422610</td>\n",
       "      <td>33</td>\n",
       "      <td>Среднее</td>\n",
       "      <td>1</td>\n",
       "      <td>женат / замужем</td>\n",
       "      <td>0</td>\n",
       "      <td>M</td>\n",
       "      <td>сотрудник</td>\n",
       "      <td>0</td>\n",
       "      <td>145885.952297</td>\n",
       "      <td>покупка жилья</td>\n",
       "    </tr>\n",
       "    <tr>\n",
       "      <td>3</td>\n",
       "      <td>3</td>\n",
       "      <td>-4124.747207</td>\n",
       "      <td>32</td>\n",
       "      <td>среднее</td>\n",
       "      <td>1</td>\n",
       "      <td>женат / замужем</td>\n",
       "      <td>0</td>\n",
       "      <td>M</td>\n",
       "      <td>сотрудник</td>\n",
       "      <td>0</td>\n",
       "      <td>267628.550329</td>\n",
       "      <td>дополнительное образование</td>\n",
       "    </tr>\n",
       "    <tr>\n",
       "      <td>4</td>\n",
       "      <td>0</td>\n",
       "      <td>340266.072047</td>\n",
       "      <td>53</td>\n",
       "      <td>среднее</td>\n",
       "      <td>1</td>\n",
       "      <td>гражданский брак</td>\n",
       "      <td>1</td>\n",
       "      <td>F</td>\n",
       "      <td>пенсионер</td>\n",
       "      <td>0</td>\n",
       "      <td>158616.077870</td>\n",
       "      <td>сыграть свадьбу</td>\n",
       "    </tr>\n",
       "    <tr>\n",
       "      <td>...</td>\n",
       "      <td>...</td>\n",
       "      <td>...</td>\n",
       "      <td>...</td>\n",
       "      <td>...</td>\n",
       "      <td>...</td>\n",
       "      <td>...</td>\n",
       "      <td>...</td>\n",
       "      <td>...</td>\n",
       "      <td>...</td>\n",
       "      <td>...</td>\n",
       "      <td>...</td>\n",
       "      <td>...</td>\n",
       "    </tr>\n",
       "    <tr>\n",
       "      <td>21520</td>\n",
       "      <td>1</td>\n",
       "      <td>-4529.316663</td>\n",
       "      <td>43</td>\n",
       "      <td>среднее</td>\n",
       "      <td>1</td>\n",
       "      <td>гражданский брак</td>\n",
       "      <td>1</td>\n",
       "      <td>F</td>\n",
       "      <td>компаньон</td>\n",
       "      <td>0</td>\n",
       "      <td>224791.862382</td>\n",
       "      <td>операции с жильем</td>\n",
       "    </tr>\n",
       "    <tr>\n",
       "      <td>21521</td>\n",
       "      <td>0</td>\n",
       "      <td>343937.404131</td>\n",
       "      <td>67</td>\n",
       "      <td>среднее</td>\n",
       "      <td>1</td>\n",
       "      <td>женат / замужем</td>\n",
       "      <td>0</td>\n",
       "      <td>F</td>\n",
       "      <td>пенсионер</td>\n",
       "      <td>0</td>\n",
       "      <td>155999.806512</td>\n",
       "      <td>сделка с автомобилем</td>\n",
       "    </tr>\n",
       "    <tr>\n",
       "      <td>21522</td>\n",
       "      <td>1</td>\n",
       "      <td>-2113.346888</td>\n",
       "      <td>38</td>\n",
       "      <td>среднее</td>\n",
       "      <td>1</td>\n",
       "      <td>гражданский брак</td>\n",
       "      <td>1</td>\n",
       "      <td>M</td>\n",
       "      <td>сотрудник</td>\n",
       "      <td>1</td>\n",
       "      <td>89672.561153</td>\n",
       "      <td>недвижимость</td>\n",
       "    </tr>\n",
       "    <tr>\n",
       "      <td>21523</td>\n",
       "      <td>3</td>\n",
       "      <td>-3112.481705</td>\n",
       "      <td>38</td>\n",
       "      <td>среднее</td>\n",
       "      <td>1</td>\n",
       "      <td>женат / замужем</td>\n",
       "      <td>0</td>\n",
       "      <td>M</td>\n",
       "      <td>сотрудник</td>\n",
       "      <td>1</td>\n",
       "      <td>244093.050500</td>\n",
       "      <td>на покупку своего автомобиля</td>\n",
       "    </tr>\n",
       "    <tr>\n",
       "      <td>21524</td>\n",
       "      <td>2</td>\n",
       "      <td>-1984.507589</td>\n",
       "      <td>40</td>\n",
       "      <td>среднее</td>\n",
       "      <td>1</td>\n",
       "      <td>женат / замужем</td>\n",
       "      <td>0</td>\n",
       "      <td>F</td>\n",
       "      <td>сотрудник</td>\n",
       "      <td>0</td>\n",
       "      <td>82047.418899</td>\n",
       "      <td>на покупку автомобиля</td>\n",
       "    </tr>\n",
       "  </tbody>\n",
       "</table>\n",
       "<p>21525 rows × 12 columns</p>\n",
       "</div>"
      ],
      "text/plain": [
       "       children  days_employed  dob_years education  education_id  \\\n",
       "0             1   -8437.673028         42    высшее             0   \n",
       "1             1   -4024.803754         36   среднее             1   \n",
       "2             0   -5623.422610         33   Среднее             1   \n",
       "3             3   -4124.747207         32   среднее             1   \n",
       "4             0  340266.072047         53   среднее             1   \n",
       "...         ...            ...        ...       ...           ...   \n",
       "21520         1   -4529.316663         43   среднее             1   \n",
       "21521         0  343937.404131         67   среднее             1   \n",
       "21522         1   -2113.346888         38   среднее             1   \n",
       "21523         3   -3112.481705         38   среднее             1   \n",
       "21524         2   -1984.507589         40   среднее             1   \n",
       "\n",
       "          family_status  family_status_id gender income_type  debt  \\\n",
       "0       женат / замужем                 0      F   сотрудник     0   \n",
       "1       женат / замужем                 0      F   сотрудник     0   \n",
       "2       женат / замужем                 0      M   сотрудник     0   \n",
       "3       женат / замужем                 0      M   сотрудник     0   \n",
       "4      гражданский брак                 1      F   пенсионер     0   \n",
       "...                 ...               ...    ...         ...   ...   \n",
       "21520  гражданский брак                 1      F   компаньон     0   \n",
       "21521   женат / замужем                 0      F   пенсионер     0   \n",
       "21522  гражданский брак                 1      M   сотрудник     1   \n",
       "21523   женат / замужем                 0      M   сотрудник     1   \n",
       "21524   женат / замужем                 0      F   сотрудник     0   \n",
       "\n",
       "        total_income                       purpose  \n",
       "0      253875.639453                 покупка жилья  \n",
       "1      112080.014102       приобретение автомобиля  \n",
       "2      145885.952297                 покупка жилья  \n",
       "3      267628.550329    дополнительное образование  \n",
       "4      158616.077870               сыграть свадьбу  \n",
       "...              ...                           ...  \n",
       "21520  224791.862382             операции с жильем  \n",
       "21521  155999.806512          сделка с автомобилем  \n",
       "21522   89672.561153                  недвижимость  \n",
       "21523  244093.050500  на покупку своего автомобиля  \n",
       "21524   82047.418899         на покупку автомобиля  \n",
       "\n",
       "[21525 rows x 12 columns]"
      ]
     },
     "metadata": {},
     "output_type": "display_data"
    },
    {
     "name": "stdout",
     "output_type": "stream",
     "text": [
      "<class 'pandas.core.frame.DataFrame'>\n",
      "RangeIndex: 21525 entries, 0 to 21524\n",
      "Data columns (total 12 columns):\n",
      "children            21525 non-null int64\n",
      "days_employed       19351 non-null float64\n",
      "dob_years           21525 non-null int64\n",
      "education           21525 non-null object\n",
      "education_id        21525 non-null int64\n",
      "family_status       21525 non-null object\n",
      "family_status_id    21525 non-null int64\n",
      "gender              21525 non-null object\n",
      "income_type         21525 non-null object\n",
      "debt                21525 non-null int64\n",
      "total_income        19351 non-null float64\n",
      "purpose             21525 non-null object\n",
      "dtypes: float64(2), int64(5), object(5)\n",
      "memory usage: 2.0+ MB\n"
     ]
    }
   ],
   "source": [
    "import pandas as pd\n",
    "df = pd.read_csv('/datasets/data.csv')\n",
    "display(df)\n",
    "df.info()"
   ]
  },
  {
   "cell_type": "markdown",
   "id": "2be755de",
   "metadata": {},
   "source": [
    "### Шаг 2.1 Заполнение пропусков"
   ]
  },
  {
   "cell_type": "code",
   "execution_count": 2,
   "id": "0434ed53",
   "metadata": {},
   "outputs": [
    {
     "name": "stdout",
     "output_type": "stream",
     "text": [
      "children               0\n",
      "days_employed       2174\n",
      "dob_years              0\n",
      "education              0\n",
      "education_id           0\n",
      "family_status          0\n",
      "family_status_id       0\n",
      "gender                 0\n",
      "income_type            0\n",
      "debt                   0\n",
      "total_income        2174\n",
      "purpose                0\n",
      "dtype: int64\n",
      "\n",
      "Доля пропущенных значений в стобце total_income: 11.23%\n",
      "\n",
      "children            0\n",
      "dob_years           0\n",
      "education           0\n",
      "education_id        0\n",
      "family_status       0\n",
      "family_status_id    0\n",
      "gender              0\n",
      "income_type         0\n",
      "debt                0\n",
      "total_income        0\n",
      "purpose             0\n",
      "dtype: int64\n"
     ]
    }
   ],
   "source": [
    "print(df.isna().sum())\n",
    "print()\n",
    "#Столбец days_employed нам не нужен. Удаляем\n",
    "del df['days_employed']\n",
    "total_income_median = df['total_income'].median()\n",
    "print('Доля пропущенных значений в стобце total_income: {:.2%}'.format(df['total_income'].isna().sum()\n",
    "                                                                      / df['total_income'].count()))\n",
    "print()\n",
    "#Все значения столбца total_income заменили на медианное\n",
    "df['total_income'] = df['total_income'].fillna(total_income_median) \n",
    "print(df.isna().sum())"
   ]
  },
  {
   "cell_type": "markdown",
   "id": "6c2f3247",
   "metadata": {},
   "source": [
    "<div class=\"alert alert-info\">\n",
    "<b>Комментарий:</b><br>\n",
    "• Пропущеннымые значения были найдены в столбце ежемесячных доходов.<br>\n",
    "• Доля пропущенных значений = 11.23%<br>\n",
    "• Одна из возможных причин пропусков - никогда не работали. Потому нет дохода.<br>\n",
    "• Заполняем значение в столбцах медианным значением из-за большой разнице в значениях столбца. Среднее значение нам не подойдет.\n",
    "</div>"
   ]
  },
  {
   "cell_type": "markdown",
   "id": "ddc8fd40",
   "metadata": {},
   "source": [
    "### Шаг 2.2 Проверка данных на аномалии и исправления."
   ]
  },
  {
   "cell_type": "code",
   "execution_count": 3,
   "id": "3d750d94",
   "metadata": {},
   "outputs": [
    {
     "name": "stdout",
     "output_type": "stream",
     "text": [
      "[ 1  0  3  2 -1  4 20  5]\n",
      "[42 36 33 32 53 27 43 50 35 41 40 65 54 56 26 48 24 21 57 67 28 63 62 47\n",
      " 34 68 25 31 30 20 49 37 45 61 64 44 52 46 23 38 39 51  0 59 29 60 55 58\n",
      " 71 22 73 66 69 19 72 70 74 75]\n",
      "['высшее' 'среднее' 'Среднее' 'СРЕДНЕЕ' 'ВЫСШЕЕ' 'неоконченное высшее'\n",
      " 'начальное' 'Высшее' 'НЕОКОНЧЕННОЕ ВЫСШЕЕ' 'Неоконченное высшее'\n",
      " 'НАЧАЛЬНОЕ' 'Начальное' 'Ученая степень' 'УЧЕНАЯ СТЕПЕНЬ'\n",
      " 'ученая степень']\n",
      "[0 1 2 3 4]\n",
      "['женат / замужем' 'гражданский брак' 'вдовец / вдова' 'в разводе'\n",
      " 'Не женат / не замужем']\n",
      "[0 1 2 3 4]\n",
      "['F' 'M' 'XNA']\n",
      "['сотрудник' 'пенсионер' 'компаньон' 'госслужащий' 'безработный'\n",
      " 'предприниматель' 'студент' 'в декрете']\n",
      "['покупка жилья' 'приобретение автомобиля' 'дополнительное образование'\n",
      " 'сыграть свадьбу' 'операции с жильем' 'образование'\n",
      " 'на проведение свадьбы' 'покупка жилья для семьи' 'покупка недвижимости'\n",
      " 'покупка коммерческой недвижимости' 'покупка жилой недвижимости'\n",
      " 'строительство собственной недвижимости' 'недвижимость'\n",
      " 'строительство недвижимости' 'на покупку подержанного автомобиля'\n",
      " 'на покупку своего автомобиля' 'операции с коммерческой недвижимостью'\n",
      " 'строительство жилой недвижимости' 'жилье'\n",
      " 'операции со своей недвижимостью' 'автомобили' 'заняться образованием'\n",
      " 'сделка с подержанным автомобилем' 'получение образования' 'автомобиль'\n",
      " 'свадьба' 'получение дополнительного образования' 'покупка своего жилья'\n",
      " 'операции с недвижимостью' 'получение высшего образования'\n",
      " 'свой автомобиль' 'сделка с автомобилем' 'профильное образование'\n",
      " 'высшее образование' 'покупка жилья для сдачи' 'на покупку автомобиля'\n",
      " 'ремонт жилью' 'заняться высшим образованием']\n"
     ]
    }
   ],
   "source": [
    "# Проверяю уникальные значения с целью поиска аномалий и дубликатов\n",
    "print(df['children'].unique()) \n",
    "print(df['dob_years'].unique())\n",
    "print(df['education'].unique())\n",
    "print(df['education_id'].unique())\n",
    "print(df['family_status'].unique())\n",
    "print(df['family_status_id'].unique())\n",
    "print(df['gender'].unique())\n",
    "print(df['income_type'].unique())\n",
    "print(df['purpose'].unique())"
   ]
  },
  {
   "cell_type": "code",
   "execution_count": 4,
   "id": "d4cbb6ef",
   "metadata": {},
   "outputs": [
    {
     "name": "stdout",
     "output_type": "stream",
     "text": [
      "children            1\n",
      "dob_years           1\n",
      "education           1\n",
      "education_id        1\n",
      "family_status       1\n",
      "family_status_id    1\n",
      "gender              1\n",
      "income_type         1\n",
      "debt                1\n",
      "total_income        1\n",
      "purpose             1\n",
      "dtype: int64\n"
     ]
    },
    {
     "data": {
      "text/html": [
       "<div>\n",
       "<style scoped>\n",
       "    .dataframe tbody tr th:only-of-type {\n",
       "        vertical-align: middle;\n",
       "    }\n",
       "\n",
       "    .dataframe tbody tr th {\n",
       "        vertical-align: top;\n",
       "    }\n",
       "\n",
       "    .dataframe thead th {\n",
       "        text-align: right;\n",
       "    }\n",
       "</style>\n",
       "<table border=\"1\" class=\"dataframe\">\n",
       "  <thead>\n",
       "    <tr style=\"text-align: right;\">\n",
       "      <th></th>\n",
       "      <th>children</th>\n",
       "      <th>dob_years</th>\n",
       "      <th>education</th>\n",
       "      <th>education_id</th>\n",
       "      <th>family_status</th>\n",
       "      <th>family_status_id</th>\n",
       "      <th>gender</th>\n",
       "      <th>income_type</th>\n",
       "      <th>debt</th>\n",
       "      <th>total_income</th>\n",
       "      <th>purpose</th>\n",
       "    </tr>\n",
       "  </thead>\n",
       "  <tbody>\n",
       "    <tr>\n",
       "      <td>0</td>\n",
       "      <td>1</td>\n",
       "      <td>42</td>\n",
       "      <td>высшее</td>\n",
       "      <td>0</td>\n",
       "      <td>женат / замужем</td>\n",
       "      <td>0</td>\n",
       "      <td>F</td>\n",
       "      <td>сотрудник</td>\n",
       "      <td>0</td>\n",
       "      <td>253875.639453</td>\n",
       "      <td>покупка жилья</td>\n",
       "    </tr>\n",
       "    <tr>\n",
       "      <td>1</td>\n",
       "      <td>1</td>\n",
       "      <td>36</td>\n",
       "      <td>среднее</td>\n",
       "      <td>1</td>\n",
       "      <td>женат / замужем</td>\n",
       "      <td>0</td>\n",
       "      <td>F</td>\n",
       "      <td>сотрудник</td>\n",
       "      <td>0</td>\n",
       "      <td>112080.014102</td>\n",
       "      <td>приобретение автомобиля</td>\n",
       "    </tr>\n",
       "    <tr>\n",
       "      <td>2</td>\n",
       "      <td>0</td>\n",
       "      <td>33</td>\n",
       "      <td>Среднее</td>\n",
       "      <td>1</td>\n",
       "      <td>женат / замужем</td>\n",
       "      <td>0</td>\n",
       "      <td>M</td>\n",
       "      <td>сотрудник</td>\n",
       "      <td>0</td>\n",
       "      <td>145885.952297</td>\n",
       "      <td>покупка жилья</td>\n",
       "    </tr>\n",
       "    <tr>\n",
       "      <td>3</td>\n",
       "      <td>3</td>\n",
       "      <td>32</td>\n",
       "      <td>среднее</td>\n",
       "      <td>1</td>\n",
       "      <td>женат / замужем</td>\n",
       "      <td>0</td>\n",
       "      <td>M</td>\n",
       "      <td>сотрудник</td>\n",
       "      <td>0</td>\n",
       "      <td>267628.550329</td>\n",
       "      <td>дополнительное образование</td>\n",
       "    </tr>\n",
       "    <tr>\n",
       "      <td>4</td>\n",
       "      <td>0</td>\n",
       "      <td>53</td>\n",
       "      <td>среднее</td>\n",
       "      <td>1</td>\n",
       "      <td>гражданский брак</td>\n",
       "      <td>1</td>\n",
       "      <td>F</td>\n",
       "      <td>пенсионер</td>\n",
       "      <td>0</td>\n",
       "      <td>158616.077870</td>\n",
       "      <td>сыграть свадьбу</td>\n",
       "    </tr>\n",
       "    <tr>\n",
       "      <td>5</td>\n",
       "      <td>0</td>\n",
       "      <td>27</td>\n",
       "      <td>высшее</td>\n",
       "      <td>0</td>\n",
       "      <td>гражданский брак</td>\n",
       "      <td>1</td>\n",
       "      <td>M</td>\n",
       "      <td>компаньон</td>\n",
       "      <td>0</td>\n",
       "      <td>255763.565419</td>\n",
       "      <td>покупка жилья</td>\n",
       "    </tr>\n",
       "    <tr>\n",
       "      <td>6</td>\n",
       "      <td>0</td>\n",
       "      <td>43</td>\n",
       "      <td>высшее</td>\n",
       "      <td>0</td>\n",
       "      <td>женат / замужем</td>\n",
       "      <td>0</td>\n",
       "      <td>F</td>\n",
       "      <td>компаньон</td>\n",
       "      <td>0</td>\n",
       "      <td>240525.971920</td>\n",
       "      <td>операции с жильем</td>\n",
       "    </tr>\n",
       "    <tr>\n",
       "      <td>7</td>\n",
       "      <td>0</td>\n",
       "      <td>50</td>\n",
       "      <td>СРЕДНЕЕ</td>\n",
       "      <td>1</td>\n",
       "      <td>женат / замужем</td>\n",
       "      <td>0</td>\n",
       "      <td>M</td>\n",
       "      <td>сотрудник</td>\n",
       "      <td>0</td>\n",
       "      <td>135823.934197</td>\n",
       "      <td>образование</td>\n",
       "    </tr>\n",
       "    <tr>\n",
       "      <td>8</td>\n",
       "      <td>2</td>\n",
       "      <td>35</td>\n",
       "      <td>ВЫСШЕЕ</td>\n",
       "      <td>0</td>\n",
       "      <td>гражданский брак</td>\n",
       "      <td>1</td>\n",
       "      <td>F</td>\n",
       "      <td>сотрудник</td>\n",
       "      <td>0</td>\n",
       "      <td>95856.832424</td>\n",
       "      <td>на проведение свадьбы</td>\n",
       "    </tr>\n",
       "    <tr>\n",
       "      <td>9</td>\n",
       "      <td>0</td>\n",
       "      <td>41</td>\n",
       "      <td>среднее</td>\n",
       "      <td>1</td>\n",
       "      <td>женат / замужем</td>\n",
       "      <td>0</td>\n",
       "      <td>M</td>\n",
       "      <td>сотрудник</td>\n",
       "      <td>0</td>\n",
       "      <td>144425.938277</td>\n",
       "      <td>покупка жилья для семьи</td>\n",
       "    </tr>\n",
       "  </tbody>\n",
       "</table>\n",
       "</div>"
      ],
      "text/plain": [
       "   children  dob_years education  education_id     family_status  \\\n",
       "0         1         42    высшее             0   женат / замужем   \n",
       "1         1         36   среднее             1   женат / замужем   \n",
       "2         0         33   Среднее             1   женат / замужем   \n",
       "3         3         32   среднее             1   женат / замужем   \n",
       "4         0         53   среднее             1  гражданский брак   \n",
       "5         0         27    высшее             0  гражданский брак   \n",
       "6         0         43    высшее             0   женат / замужем   \n",
       "7         0         50   СРЕДНЕЕ             1   женат / замужем   \n",
       "8         2         35    ВЫСШЕЕ             0  гражданский брак   \n",
       "9         0         41   среднее             1   женат / замужем   \n",
       "\n",
       "   family_status_id gender income_type  debt   total_income  \\\n",
       "0                 0      F   сотрудник     0  253875.639453   \n",
       "1                 0      F   сотрудник     0  112080.014102   \n",
       "2                 0      M   сотрудник     0  145885.952297   \n",
       "3                 0      M   сотрудник     0  267628.550329   \n",
       "4                 1      F   пенсионер     0  158616.077870   \n",
       "5                 1      M   компаньон     0  255763.565419   \n",
       "6                 0      F   компаньон     0  240525.971920   \n",
       "7                 0      M   сотрудник     0  135823.934197   \n",
       "8                 1      F   сотрудник     0   95856.832424   \n",
       "9                 0      M   сотрудник     0  144425.938277   \n",
       "\n",
       "                      purpose  \n",
       "0               покупка жилья  \n",
       "1     приобретение автомобиля  \n",
       "2               покупка жилья  \n",
       "3  дополнительное образование  \n",
       "4             сыграть свадьбу  \n",
       "5               покупка жилья  \n",
       "6           операции с жильем  \n",
       "7                 образование  \n",
       "8       на проведение свадьбы  \n",
       "9     покупка жилья для семьи  "
      ]
     },
     "metadata": {},
     "output_type": "display_data"
    }
   ],
   "source": [
    "children_median = df['children'].median()\n",
    "#Отрицательное количество детей заменил на медианное. 20 детей на 2 (возможно 0 написан случайно)\n",
    "print(df[df['gender'] == 'XNA'].count())\n",
    "# Удаляю строку с полом XNA. Он встречается лишь раз. На результат не повлияет сильно.\n",
    "df = df[df.gender != 'XNA']\n",
    "df['children'] = df['children'].replace({-1: children_median, 20: 2}).astype(int)\n",
    "\n",
    "\n",
    "display(df.head(10))"
   ]
  },
  {
   "cell_type": "markdown",
   "id": "ed0df30e",
   "metadata": {},
   "source": [
    "### Шаг 2.3. Изменение типов данных."
   ]
  },
  {
   "cell_type": "code",
   "execution_count": 5,
   "id": "b3f39c49",
   "metadata": {},
   "outputs": [],
   "source": [
    "df['total_income'] = df['total_income'].astype(int)"
   ]
  },
  {
   "cell_type": "markdown",
   "id": "ac911086",
   "metadata": {},
   "source": [
    "### Шаг 2.4. Удаление дубликатов."
   ]
  },
  {
   "cell_type": "code",
   "execution_count": 6,
   "id": "bbbd3f90",
   "metadata": {},
   "outputs": [
    {
     "name": "stdout",
     "output_type": "stream",
     "text": [
      "Дубликатов явных: 54\n",
      "среднее                13705\n",
      "высшее                  4710\n",
      "СРЕДНЕЕ                  772\n",
      "Среднее                  711\n",
      "неоконченное высшее      667\n",
      "ВЫСШЕЕ                   273\n",
      "Высшее                   268\n",
      "начальное                250\n",
      "Неоконченное высшее       47\n",
      "НЕОКОНЧЕННОЕ ВЫСШЕЕ       29\n",
      "НАЧАЛЬНОЕ                 17\n",
      "Начальное                 15\n",
      "ученая степень             4\n",
      "УЧЕНАЯ СТЕПЕНЬ             1\n",
      "Ученая степень             1\n",
      "Name: education, dtype: int64\n",
      "\n",
      "среднее                15188\n",
      "высшее                  5251\n",
      "неоконченное высшее      743\n",
      "начальное                282\n",
      "ученая степень             6\n",
      "Name: education, dtype: int64\n",
      "Новых дубликатов: 17\n"
     ]
    }
   ],
   "source": [
    "#Проверка на явные дубликаты\n",
    "print('Дубликатов явных:', df.duplicated().sum())\n",
    "# Избавляемся от явных дубликатов\n",
    "df = df.drop_duplicates().reset_index(drop=True)\n",
    "\n",
    "print(df['education'].value_counts())\n",
    "df['education'] = df['education'].str.lower()\n",
    "print()\n",
    "# Смотрим как изменились данные после смены регистра.\n",
    "print(df['education'].value_counts()) \n",
    "# Образовались новые явные дубликаты. Удаляем. Делаю повторно для наглядности.\n",
    "print('Новых дубликатов:', df.duplicated().sum()) \n",
    "df = df.drop_duplicates().reset_index(drop=True)"
   ]
  },
  {
   "cell_type": "markdown",
   "id": "dfb05630",
   "metadata": {},
   "source": [
    "<div class=\"alert alert-info\">\n",
    "<b>Комментарий:</b><br>\n",
    "• После каждого шага вывожу количество явных дубликатов для отображения результатов замены неявных дубликатов.<br>\n",
    "• Избавляюсь от неявных дубликатов после каждого появления, а не разом все.<br>\n",
    "• Возможные причины неявных дубликатов: человеческий фактор при внесении данных.<br>\n",
    "• Возможные причины явных дубликатов: повторное обращение клиента, некорректная выгрузка данных, повторное добавление записи сотрудником\n",
    "</div>"
   ]
  },
  {
   "cell_type": "markdown",
   "id": "3e4936c9",
   "metadata": {},
   "source": [
    "### Шаг 2.5. Формирование дополнительных датафреймов словарей, декомпозиция исходного датафрейма."
   ]
  },
  {
   "cell_type": "code",
   "execution_count": 7,
   "id": "d1f0580e",
   "metadata": {},
   "outputs": [
    {
     "data": {
      "text/html": [
       "<div>\n",
       "<style scoped>\n",
       "    .dataframe tbody tr th:only-of-type {\n",
       "        vertical-align: middle;\n",
       "    }\n",
       "\n",
       "    .dataframe tbody tr th {\n",
       "        vertical-align: top;\n",
       "    }\n",
       "\n",
       "    .dataframe thead th {\n",
       "        text-align: right;\n",
       "    }\n",
       "</style>\n",
       "<table border=\"1\" class=\"dataframe\">\n",
       "  <thead>\n",
       "    <tr style=\"text-align: right;\">\n",
       "      <th></th>\n",
       "      <th>children</th>\n",
       "      <th>dob_years</th>\n",
       "      <th>education_id</th>\n",
       "      <th>family_status_id</th>\n",
       "      <th>gender</th>\n",
       "      <th>income_type</th>\n",
       "      <th>debt</th>\n",
       "      <th>total_income</th>\n",
       "      <th>purpose</th>\n",
       "    </tr>\n",
       "  </thead>\n",
       "  <tbody>\n",
       "    <tr>\n",
       "      <td>0</td>\n",
       "      <td>1</td>\n",
       "      <td>42</td>\n",
       "      <td>0</td>\n",
       "      <td>0</td>\n",
       "      <td>F</td>\n",
       "      <td>сотрудник</td>\n",
       "      <td>0</td>\n",
       "      <td>253875</td>\n",
       "      <td>покупка жилья</td>\n",
       "    </tr>\n",
       "    <tr>\n",
       "      <td>1</td>\n",
       "      <td>1</td>\n",
       "      <td>36</td>\n",
       "      <td>1</td>\n",
       "      <td>0</td>\n",
       "      <td>F</td>\n",
       "      <td>сотрудник</td>\n",
       "      <td>0</td>\n",
       "      <td>112080</td>\n",
       "      <td>приобретение автомобиля</td>\n",
       "    </tr>\n",
       "    <tr>\n",
       "      <td>2</td>\n",
       "      <td>0</td>\n",
       "      <td>33</td>\n",
       "      <td>1</td>\n",
       "      <td>0</td>\n",
       "      <td>M</td>\n",
       "      <td>сотрудник</td>\n",
       "      <td>0</td>\n",
       "      <td>145885</td>\n",
       "      <td>покупка жилья</td>\n",
       "    </tr>\n",
       "    <tr>\n",
       "      <td>3</td>\n",
       "      <td>3</td>\n",
       "      <td>32</td>\n",
       "      <td>1</td>\n",
       "      <td>0</td>\n",
       "      <td>M</td>\n",
       "      <td>сотрудник</td>\n",
       "      <td>0</td>\n",
       "      <td>267628</td>\n",
       "      <td>дополнительное образование</td>\n",
       "    </tr>\n",
       "    <tr>\n",
       "      <td>4</td>\n",
       "      <td>0</td>\n",
       "      <td>53</td>\n",
       "      <td>1</td>\n",
       "      <td>1</td>\n",
       "      <td>F</td>\n",
       "      <td>пенсионер</td>\n",
       "      <td>0</td>\n",
       "      <td>158616</td>\n",
       "      <td>сыграть свадьбу</td>\n",
       "    </tr>\n",
       "    <tr>\n",
       "      <td>5</td>\n",
       "      <td>0</td>\n",
       "      <td>27</td>\n",
       "      <td>0</td>\n",
       "      <td>1</td>\n",
       "      <td>M</td>\n",
       "      <td>компаньон</td>\n",
       "      <td>0</td>\n",
       "      <td>255763</td>\n",
       "      <td>покупка жилья</td>\n",
       "    </tr>\n",
       "    <tr>\n",
       "      <td>6</td>\n",
       "      <td>0</td>\n",
       "      <td>43</td>\n",
       "      <td>0</td>\n",
       "      <td>0</td>\n",
       "      <td>F</td>\n",
       "      <td>компаньон</td>\n",
       "      <td>0</td>\n",
       "      <td>240525</td>\n",
       "      <td>операции с жильем</td>\n",
       "    </tr>\n",
       "    <tr>\n",
       "      <td>7</td>\n",
       "      <td>0</td>\n",
       "      <td>50</td>\n",
       "      <td>1</td>\n",
       "      <td>0</td>\n",
       "      <td>M</td>\n",
       "      <td>сотрудник</td>\n",
       "      <td>0</td>\n",
       "      <td>135823</td>\n",
       "      <td>образование</td>\n",
       "    </tr>\n",
       "    <tr>\n",
       "      <td>8</td>\n",
       "      <td>2</td>\n",
       "      <td>35</td>\n",
       "      <td>0</td>\n",
       "      <td>1</td>\n",
       "      <td>F</td>\n",
       "      <td>сотрудник</td>\n",
       "      <td>0</td>\n",
       "      <td>95856</td>\n",
       "      <td>на проведение свадьбы</td>\n",
       "    </tr>\n",
       "    <tr>\n",
       "      <td>9</td>\n",
       "      <td>0</td>\n",
       "      <td>41</td>\n",
       "      <td>1</td>\n",
       "      <td>0</td>\n",
       "      <td>M</td>\n",
       "      <td>сотрудник</td>\n",
       "      <td>0</td>\n",
       "      <td>144425</td>\n",
       "      <td>покупка жилья для семьи</td>\n",
       "    </tr>\n",
       "  </tbody>\n",
       "</table>\n",
       "</div>"
      ],
      "text/plain": [
       "   children  dob_years  education_id  family_status_id gender income_type  \\\n",
       "0         1         42             0                 0      F   сотрудник   \n",
       "1         1         36             1                 0      F   сотрудник   \n",
       "2         0         33             1                 0      M   сотрудник   \n",
       "3         3         32             1                 0      M   сотрудник   \n",
       "4         0         53             1                 1      F   пенсионер   \n",
       "5         0         27             0                 1      M   компаньон   \n",
       "6         0         43             0                 0      F   компаньон   \n",
       "7         0         50             1                 0      M   сотрудник   \n",
       "8         2         35             0                 1      F   сотрудник   \n",
       "9         0         41             1                 0      M   сотрудник   \n",
       "\n",
       "   debt  total_income                     purpose  \n",
       "0     0        253875               покупка жилья  \n",
       "1     0        112080     приобретение автомобиля  \n",
       "2     0        145885               покупка жилья  \n",
       "3     0        267628  дополнительное образование  \n",
       "4     0        158616             сыграть свадьбу  \n",
       "5     0        255763               покупка жилья  \n",
       "6     0        240525           операции с жильем  \n",
       "7     0        135823                 образование  \n",
       "8     0         95856       на проведение свадьбы  \n",
       "9     0        144425     покупка жилья для семьи  "
      ]
     },
     "metadata": {},
     "output_type": "display_data"
    }
   ],
   "source": [
    "# Создаем 2 новых датафрейма.\n",
    "education_df = df[['education_id', 'education']]\n",
    "family_df = df[['family_status_id', 'family_status']]\n",
    "# Удаляем столбцы из исходного датафрейма.\n",
    "df = df.drop(['education', 'family_status'], axis=1)\n",
    "display(df.head(10))"
   ]
  },
  {
   "cell_type": "markdown",
   "id": "7d06ab82",
   "metadata": {},
   "source": [
    "### Шаг 2.6. Категоризация дохода."
   ]
  },
  {
   "cell_type": "code",
   "execution_count": 8,
   "id": "97081bdc",
   "metadata": {},
   "outputs": [],
   "source": [
    "# Функция для заполнения столбца категории доходов\n",
    "def income_category(total):\n",
    "    if total <= 30000:\n",
    "        return 'E'\n",
    "    if (total >= 30001) and (total <= 50000):\n",
    "        return 'D'\n",
    "    if (total >= 50001) and (total <= 200000):\n",
    "        return 'C'\n",
    "    if (total >= 200001) and (total <= 1000000):\n",
    "        return 'B'\n",
    "    if total >= 1000001:\n",
    "        return 'A'\n",
    "\n",
    "df['total_income_category'] = df['total_income'].apply(income_category)"
   ]
  },
  {
   "cell_type": "markdown",
   "id": "998cae90",
   "metadata": {},
   "source": [
    "### Шаг 2.7. Категоризация целей кредита."
   ]
  },
  {
   "cell_type": "code",
   "execution_count": 9,
   "id": "a77836cc",
   "metadata": {},
   "outputs": [
    {
     "data": {
      "text/html": [
       "<div>\n",
       "<style scoped>\n",
       "    .dataframe tbody tr th:only-of-type {\n",
       "        vertical-align: middle;\n",
       "    }\n",
       "\n",
       "    .dataframe tbody tr th {\n",
       "        vertical-align: top;\n",
       "    }\n",
       "\n",
       "    .dataframe thead th {\n",
       "        text-align: right;\n",
       "    }\n",
       "</style>\n",
       "<table border=\"1\" class=\"dataframe\">\n",
       "  <thead>\n",
       "    <tr style=\"text-align: right;\">\n",
       "      <th></th>\n",
       "      <th>children</th>\n",
       "      <th>dob_years</th>\n",
       "      <th>education_id</th>\n",
       "      <th>family_status_id</th>\n",
       "      <th>gender</th>\n",
       "      <th>income_type</th>\n",
       "      <th>debt</th>\n",
       "      <th>total_income</th>\n",
       "      <th>purpose</th>\n",
       "      <th>total_income_category</th>\n",
       "      <th>purpose_category</th>\n",
       "    </tr>\n",
       "  </thead>\n",
       "  <tbody>\n",
       "    <tr>\n",
       "      <td>0</td>\n",
       "      <td>1</td>\n",
       "      <td>42</td>\n",
       "      <td>0</td>\n",
       "      <td>0</td>\n",
       "      <td>F</td>\n",
       "      <td>сотрудник</td>\n",
       "      <td>0</td>\n",
       "      <td>253875</td>\n",
       "      <td>покупка жилья</td>\n",
       "      <td>B</td>\n",
       "      <td>операции с недвижимостью</td>\n",
       "    </tr>\n",
       "    <tr>\n",
       "      <td>1</td>\n",
       "      <td>1</td>\n",
       "      <td>36</td>\n",
       "      <td>1</td>\n",
       "      <td>0</td>\n",
       "      <td>F</td>\n",
       "      <td>сотрудник</td>\n",
       "      <td>0</td>\n",
       "      <td>112080</td>\n",
       "      <td>приобретение автомобиля</td>\n",
       "      <td>C</td>\n",
       "      <td>операции с автомобилем</td>\n",
       "    </tr>\n",
       "    <tr>\n",
       "      <td>2</td>\n",
       "      <td>0</td>\n",
       "      <td>33</td>\n",
       "      <td>1</td>\n",
       "      <td>0</td>\n",
       "      <td>M</td>\n",
       "      <td>сотрудник</td>\n",
       "      <td>0</td>\n",
       "      <td>145885</td>\n",
       "      <td>покупка жилья</td>\n",
       "      <td>C</td>\n",
       "      <td>операции с недвижимостью</td>\n",
       "    </tr>\n",
       "    <tr>\n",
       "      <td>3</td>\n",
       "      <td>3</td>\n",
       "      <td>32</td>\n",
       "      <td>1</td>\n",
       "      <td>0</td>\n",
       "      <td>M</td>\n",
       "      <td>сотрудник</td>\n",
       "      <td>0</td>\n",
       "      <td>267628</td>\n",
       "      <td>дополнительное образование</td>\n",
       "      <td>B</td>\n",
       "      <td>получение образования</td>\n",
       "    </tr>\n",
       "    <tr>\n",
       "      <td>4</td>\n",
       "      <td>0</td>\n",
       "      <td>53</td>\n",
       "      <td>1</td>\n",
       "      <td>1</td>\n",
       "      <td>F</td>\n",
       "      <td>пенсионер</td>\n",
       "      <td>0</td>\n",
       "      <td>158616</td>\n",
       "      <td>сыграть свадьбу</td>\n",
       "      <td>C</td>\n",
       "      <td>проведение свадьбы</td>\n",
       "    </tr>\n",
       "    <tr>\n",
       "      <td>5</td>\n",
       "      <td>0</td>\n",
       "      <td>27</td>\n",
       "      <td>0</td>\n",
       "      <td>1</td>\n",
       "      <td>M</td>\n",
       "      <td>компаньон</td>\n",
       "      <td>0</td>\n",
       "      <td>255763</td>\n",
       "      <td>покупка жилья</td>\n",
       "      <td>B</td>\n",
       "      <td>операции с недвижимостью</td>\n",
       "    </tr>\n",
       "    <tr>\n",
       "      <td>6</td>\n",
       "      <td>0</td>\n",
       "      <td>43</td>\n",
       "      <td>0</td>\n",
       "      <td>0</td>\n",
       "      <td>F</td>\n",
       "      <td>компаньон</td>\n",
       "      <td>0</td>\n",
       "      <td>240525</td>\n",
       "      <td>операции с жильем</td>\n",
       "      <td>B</td>\n",
       "      <td>операции с недвижимостью</td>\n",
       "    </tr>\n",
       "    <tr>\n",
       "      <td>7</td>\n",
       "      <td>0</td>\n",
       "      <td>50</td>\n",
       "      <td>1</td>\n",
       "      <td>0</td>\n",
       "      <td>M</td>\n",
       "      <td>сотрудник</td>\n",
       "      <td>0</td>\n",
       "      <td>135823</td>\n",
       "      <td>образование</td>\n",
       "      <td>C</td>\n",
       "      <td>получение образования</td>\n",
       "    </tr>\n",
       "    <tr>\n",
       "      <td>8</td>\n",
       "      <td>2</td>\n",
       "      <td>35</td>\n",
       "      <td>0</td>\n",
       "      <td>1</td>\n",
       "      <td>F</td>\n",
       "      <td>сотрудник</td>\n",
       "      <td>0</td>\n",
       "      <td>95856</td>\n",
       "      <td>на проведение свадьбы</td>\n",
       "      <td>C</td>\n",
       "      <td>проведение свадьбы</td>\n",
       "    </tr>\n",
       "    <tr>\n",
       "      <td>9</td>\n",
       "      <td>0</td>\n",
       "      <td>41</td>\n",
       "      <td>1</td>\n",
       "      <td>0</td>\n",
       "      <td>M</td>\n",
       "      <td>сотрудник</td>\n",
       "      <td>0</td>\n",
       "      <td>144425</td>\n",
       "      <td>покупка жилья для семьи</td>\n",
       "      <td>C</td>\n",
       "      <td>операции с недвижимостью</td>\n",
       "    </tr>\n",
       "  </tbody>\n",
       "</table>\n",
       "</div>"
      ],
      "text/plain": [
       "   children  dob_years  education_id  family_status_id gender income_type  \\\n",
       "0         1         42             0                 0      F   сотрудник   \n",
       "1         1         36             1                 0      F   сотрудник   \n",
       "2         0         33             1                 0      M   сотрудник   \n",
       "3         3         32             1                 0      M   сотрудник   \n",
       "4         0         53             1                 1      F   пенсионер   \n",
       "5         0         27             0                 1      M   компаньон   \n",
       "6         0         43             0                 0      F   компаньон   \n",
       "7         0         50             1                 0      M   сотрудник   \n",
       "8         2         35             0                 1      F   сотрудник   \n",
       "9         0         41             1                 0      M   сотрудник   \n",
       "\n",
       "   debt  total_income                     purpose total_income_category  \\\n",
       "0     0        253875               покупка жилья                     B   \n",
       "1     0        112080     приобретение автомобиля                     C   \n",
       "2     0        145885               покупка жилья                     C   \n",
       "3     0        267628  дополнительное образование                     B   \n",
       "4     0        158616             сыграть свадьбу                     C   \n",
       "5     0        255763               покупка жилья                     B   \n",
       "6     0        240525           операции с жильем                     B   \n",
       "7     0        135823                 образование                     C   \n",
       "8     0         95856       на проведение свадьбы                     C   \n",
       "9     0        144425     покупка жилья для семьи                     C   \n",
       "\n",
       "           purpose_category  \n",
       "0  операции с недвижимостью  \n",
       "1    операции с автомобилем  \n",
       "2  операции с недвижимостью  \n",
       "3     получение образования  \n",
       "4        проведение свадьбы  \n",
       "5  операции с недвижимостью  \n",
       "6  операции с недвижимостью  \n",
       "7     получение образования  \n",
       "8        проведение свадьбы  \n",
       "9  операции с недвижимостью  "
      ]
     },
     "metadata": {},
     "output_type": "display_data"
    }
   ],
   "source": [
    "realty = ('жиль', 'недвиж')\n",
    "car = ('автомоб',)\n",
    "education_str = ('образова',)\n",
    "wedding = ('свадьб',)\n",
    "categories = {\n",
    "    realty: 'операции с недвижимостью',\n",
    "    car: 'операции с автомобилем',\n",
    "    education_str: 'получение образования',\n",
    "    wedding: 'проведение свадьбы'\n",
    "}\n",
    "def category_for_purposes(purpose):\n",
    "    for category_key in categories:\n",
    "        for under_category_key in category_key:\n",
    "            if under_category_key in purpose:\n",
    "                try:\n",
    "                    return categories[category_key]\n",
    "                except:\n",
    "                    return 'Такой категории нет'\n",
    "\n",
    "                \n",
    "df['purpose_category'] = df['purpose'].apply(category_for_purposes)\n",
    "display(df.head(10))"
   ]
  },
  {
   "cell_type": "markdown",
   "id": "416c2419",
   "metadata": {},
   "source": [
    "### Ответы на вопросы."
   ]
  },
  {
   "cell_type": "markdown",
   "id": "1ce78f61",
   "metadata": {},
   "source": [
    "##### Вопрос 1: Есть ли зависимость между количеством детей и возвратом кредита в срок?"
   ]
  },
  {
   "cell_type": "code",
   "execution_count": 10,
   "id": "a6af009e",
   "metadata": {},
   "outputs": [
    {
     "name": "stdout",
     "output_type": "stream",
     "text": [
      "Доля клиентов, не имеющих задолженностей, относительно общего числа клиентов (группировка по количеству детей)\n"
     ]
    },
    {
     "data": {
      "text/html": [
       "<div>\n",
       "<style scoped>\n",
       "    .dataframe tbody tr th:only-of-type {\n",
       "        vertical-align: middle;\n",
       "    }\n",
       "\n",
       "    .dataframe tbody tr th {\n",
       "        vertical-align: top;\n",
       "    }\n",
       "\n",
       "    .dataframe thead th {\n",
       "        text-align: right;\n",
       "    }\n",
       "</style>\n",
       "<table border=\"1\" class=\"dataframe\">\n",
       "  <thead>\n",
       "    <tr style=\"text-align: right;\">\n",
       "      <th></th>\n",
       "      <th>refund</th>\n",
       "    </tr>\n",
       "    <tr>\n",
       "      <th>children</th>\n",
       "      <th></th>\n",
       "    </tr>\n",
       "  </thead>\n",
       "  <tbody>\n",
       "    <tr>\n",
       "      <td>0</td>\n",
       "      <td>92.474%</td>\n",
       "    </tr>\n",
       "    <tr>\n",
       "      <td>1</td>\n",
       "      <td>90.765%</td>\n",
       "    </tr>\n",
       "    <tr>\n",
       "      <td>2</td>\n",
       "      <td>90.508%</td>\n",
       "    </tr>\n",
       "    <tr>\n",
       "      <td>3</td>\n",
       "      <td>91.818%</td>\n",
       "    </tr>\n",
       "    <tr>\n",
       "      <td>4</td>\n",
       "      <td>90.244%</td>\n",
       "    </tr>\n",
       "    <tr>\n",
       "      <td>5</td>\n",
       "      <td>100.000%</td>\n",
       "    </tr>\n",
       "  </tbody>\n",
       "</table>\n",
       "</div>"
      ],
      "text/plain": [
       "            refund\n",
       "children          \n",
       "0          92.474%\n",
       "1          90.765%\n",
       "2          90.508%\n",
       "3          91.818%\n",
       "4          90.244%\n",
       "5         100.000%"
      ]
     },
     "metadata": {},
     "output_type": "display_data"
    }
   ],
   "source": [
    "# Выведем доли должников среди групп по количеству детей.\n",
    "zero = 0\n",
    "one = 0\n",
    "two = 0\n",
    "three = 0\n",
    "four = 0\n",
    "five = 0\n",
    "child = 0\n",
    "\n",
    "if child < 6:\n",
    "    zero = (df[(df['children'] == child) & (df['debt'] == 0)]['children'].count()\n",
    "        / df[df['children'] == child]['children'].count())\n",
    "    child += 1\n",
    "    one = (df[(df['children'] == child) & (df['debt'] == 0)]['children'].count()\n",
    "        / df[df['children'] == child]['children'].count())\n",
    "    child += 1\n",
    "    two = (df[(df['children'] == child) & (df['debt'] == 0)]['children'].count()\n",
    "        / df[df['children'] == child]['children'].count())\n",
    "    child += 1\n",
    "    three = (df[(df['children'] == child) & (df['debt'] == 0)]['children'].count()\n",
    "        / df[df['children'] == child]['children'].count())\n",
    "    child += 1\n",
    "    four = (df[(df['children'] == child) & (df['debt'] == 0)]['children'].count()\n",
    "        / df[df['children'] == child]['children'].count())\n",
    "    child += 1\n",
    "    five = (df[(df['children'] == child) & (df['debt'] == 0)]['children'].count()\n",
    "        / df[df['children'] == child]['children'].count())\n",
    "\n",
    "print('Доля клиентов, не имеющих задолженностей, относительно общего числа клиентов (группировка по количеству детей)')\n",
    "\n",
    "debt_procent = [\"{:.3%}\".format(zero), \"{:.3%}\".format(one), \"{:.3%}\".format(two),\n",
    "               \"{:.3%}\".format(three), \"{:.3%}\".format(four), \"{:.3%}\".format(five)]\n",
    "pivot_children = df.pivot_table(index=['children'], values='debt')\n",
    "pivot_children['refund'] = debt_procent\n",
    "del pivot_children['debt']\n",
    "display(pivot_children)"
   ]
  },
  {
   "cell_type": "markdown",
   "id": "ef725bf7",
   "metadata": {},
   "source": [
    "##### Вывод 1: "
   ]
  },
  {
   "cell_type": "markdown",
   "id": "501e8591",
   "metadata": {},
   "source": [
    "<div class=\"alert alert-info\">\n",
    "<b>Комментарий:</b><br>\n",
    "Разобьем клиентов по количеству детей.<br>\n",
    "Наиболее надежной группой являются клиенты с 5ю детьми. Доля возвратов: 100%<br>\n",
    "Реже возвращают кредит клиенты с 4мя детьми. Доля возвратов: 90.244%\n",
    "</div>"
   ]
  },
  {
   "cell_type": "markdown",
   "id": "ece0d970",
   "metadata": {},
   "source": [
    "##### Вопрос 2: Есть ли зависимость между семейным положением и возвратом кредита в срок?"
   ]
  },
  {
   "cell_type": "code",
   "execution_count": 11,
   "id": "69aba52c",
   "metadata": {},
   "outputs": [
    {
     "name": "stdout",
     "output_type": "stream",
     "text": [
      "Доля клиентов, не имеющих задолженностей, относительно семейного статуса\n"
     ]
    },
    {
     "data": {
      "text/html": [
       "<div>\n",
       "<style scoped>\n",
       "    .dataframe tbody tr th:only-of-type {\n",
       "        vertical-align: middle;\n",
       "    }\n",
       "\n",
       "    .dataframe tbody tr th {\n",
       "        vertical-align: top;\n",
       "    }\n",
       "\n",
       "    .dataframe thead th {\n",
       "        text-align: right;\n",
       "    }\n",
       "</style>\n",
       "<table border=\"1\" class=\"dataframe\">\n",
       "  <thead>\n",
       "    <tr style=\"text-align: right;\">\n",
       "      <th></th>\n",
       "      <th>family_status_id</th>\n",
       "      <th>refund</th>\n",
       "    </tr>\n",
       "    <tr>\n",
       "      <th>family_status</th>\n",
       "      <th></th>\n",
       "      <th></th>\n",
       "    </tr>\n",
       "  </thead>\n",
       "  <tbody>\n",
       "    <tr>\n",
       "      <td>Не женат / не замужем</td>\n",
       "      <td>4</td>\n",
       "      <td>92.455%</td>\n",
       "    </tr>\n",
       "    <tr>\n",
       "      <td>в разводе</td>\n",
       "      <td>3</td>\n",
       "      <td>90.651%</td>\n",
       "    </tr>\n",
       "    <tr>\n",
       "      <td>вдовец / вдова</td>\n",
       "      <td>2</td>\n",
       "      <td>93.431%</td>\n",
       "    </tr>\n",
       "    <tr>\n",
       "      <td>гражданский брак</td>\n",
       "      <td>1</td>\n",
       "      <td>92.887%</td>\n",
       "    </tr>\n",
       "    <tr>\n",
       "      <td>женат / замужем</td>\n",
       "      <td>0</td>\n",
       "      <td>90.249%</td>\n",
       "    </tr>\n",
       "  </tbody>\n",
       "</table>\n",
       "</div>"
      ],
      "text/plain": [
       "                       family_status_id   refund\n",
       "family_status                                   \n",
       "Не женат / не замужем                 4  92.455%\n",
       "в разводе                             3  90.651%\n",
       "вдовец / вдова                        2  93.431%\n",
       "гражданский брак                      1  92.887%\n",
       "женат / замужем                       0  90.249%"
      ]
     },
     "metadata": {},
     "output_type": "display_data"
    }
   ],
   "source": [
    "# Выведем доли должников среди групп по семейному статусу.\n",
    "married = 0\n",
    "civil_marriage = 0\n",
    "widow = 0\n",
    "divorced = 0\n",
    "not_merried = 0\n",
    "family_status = 0\n",
    "\n",
    "if family_status < 5:\n",
    "    married = (df[(df['family_status_id'] == family_status) & (df['debt'] == 0)]['family_status_id'].count()\n",
    "        / df[df['family_status_id'] == family_status]['family_status_id'].count())\n",
    "    family_status += 1\n",
    "    civil_marriage = (df[(df['family_status_id'] == family_status) & (df['debt'] == 0)]['family_status_id'].count()\n",
    "        / df[df['family_status_id'] == family_status]['family_status_id'].count())\n",
    "    family_status += 1\n",
    "    widow = (df[(df['family_status_id'] == family_status) & (df['debt'] == 0)]['family_status_id'].count()\n",
    "        / df[df['family_status_id'] == family_status]['family_status_id'].count())\n",
    "    family_status += 1\n",
    "    divorced = (df[(df['family_status_id'] == family_status) & (df['debt'] == 0)]['family_status_id'].count()\n",
    "        / df[df['family_status_id'] == family_status]['family_status_id'].count())\n",
    "    family_status += 1\n",
    "    not_merried = (df[(df['family_status_id'] == family_status) & (df['debt'] == 0)]['family_status_id'].count()\n",
    "        / df[df['family_status_id'] == family_status]['family_status_id'].count())\n",
    "\n",
    "print('Доля клиентов, не имеющих задолженностей, относительно семейного статуса')\n",
    "debt_procent = [\"{:.3%}\".format(married), \"{:.3%}\".format(civil_marriage), \"{:.3%}\".format(widow),\n",
    "               \"{:.3%}\".format(divorced), \"{:.3%}\".format(not_merried)]\n",
    "pivot_family_df = family_df.pivot_table(index=['family_status'])\n",
    "pivot_family_df['refund'] = debt_procent\n",
    "display(pivot_family_df)"
   ]
  },
  {
   "cell_type": "markdown",
   "id": "b2ec2016",
   "metadata": {},
   "source": [
    "##### Вывод 2: "
   ]
  },
  {
   "cell_type": "markdown",
   "id": "f25fa9ac",
   "metadata": {},
   "source": [
    "<div class=\"alert alert-info\">\n",
    "<b>Комментарий:</b><br>\n",
    "Разобьем клиентов по семейному статусу.<br>\n",
    "Наиболее надежной группой являются клиенты вдовцы/вдовы. Доля возвратов: 93.431%<br>\n",
    "Реже возвращают кредит женатые/замужние. Доля возвратов: 90.249%\n",
    "</div>"
   ]
  },
  {
   "cell_type": "markdown",
   "id": "ad8df4aa",
   "metadata": {},
   "source": [
    "##### Вопрос 3: Есть ли зависимость между уровнем дохода и возвратом кредита в срок?"
   ]
  },
  {
   "cell_type": "code",
   "execution_count": 12,
   "id": "95493288",
   "metadata": {
    "scrolled": true
   },
   "outputs": [
    {
     "name": "stdout",
     "output_type": "stream",
     "text": [
      "Доля клиентов, не имеющих задолженностей, относительно статуса по уровню дохода\n"
     ]
    },
    {
     "data": {
      "text/html": [
       "<div>\n",
       "<style scoped>\n",
       "    .dataframe tbody tr th:only-of-type {\n",
       "        vertical-align: middle;\n",
       "    }\n",
       "\n",
       "    .dataframe tbody tr th {\n",
       "        vertical-align: top;\n",
       "    }\n",
       "\n",
       "    .dataframe thead th {\n",
       "        text-align: right;\n",
       "    }\n",
       "</style>\n",
       "<table border=\"1\" class=\"dataframe\">\n",
       "  <thead>\n",
       "    <tr style=\"text-align: right;\">\n",
       "      <th></th>\n",
       "      <th>refund</th>\n",
       "    </tr>\n",
       "    <tr>\n",
       "      <th>total_income_category</th>\n",
       "      <th></th>\n",
       "    </tr>\n",
       "  </thead>\n",
       "  <tbody>\n",
       "    <tr>\n",
       "      <td>A</td>\n",
       "      <td>92.000%</td>\n",
       "    </tr>\n",
       "    <tr>\n",
       "      <td>B</td>\n",
       "      <td>92.937%</td>\n",
       "    </tr>\n",
       "    <tr>\n",
       "      <td>C</td>\n",
       "      <td>91.508%</td>\n",
       "    </tr>\n",
       "    <tr>\n",
       "      <td>D</td>\n",
       "      <td>94.000%</td>\n",
       "    </tr>\n",
       "    <tr>\n",
       "      <td>E</td>\n",
       "      <td>90.909%</td>\n",
       "    </tr>\n",
       "  </tbody>\n",
       "</table>\n",
       "</div>"
      ],
      "text/plain": [
       "                        refund\n",
       "total_income_category         \n",
       "A                      92.000%\n",
       "B                      92.937%\n",
       "C                      91.508%\n",
       "D                      94.000%\n",
       "E                      90.909%"
      ]
     },
     "metadata": {},
     "output_type": "display_data"
    }
   ],
   "source": [
    "# Выведем доли должников среди групп по уровню дохода.\n",
    "cat_a = 0\n",
    "cat_b = 0\n",
    "cat_c = 0\n",
    "cat_d = 0\n",
    "cat_e = 0\n",
    "category_number = df['total_income_category'].unique()\n",
    "\n",
    "for categor in category_number:\n",
    "    if categor == 'A':\n",
    "        cat_a = (df[(df['total_income_category'] == categor) & (df['debt'] == 0)]['total_income_category'].count()\n",
    "                 / df[df['total_income_category'] == categor]['total_income_category'].count())\n",
    "    if categor == 'B':\n",
    "        cat_b = (df[(df['total_income_category'] == categor) & (df['debt'] == 0)]['total_income_category'].count()\n",
    "                 / df[df['total_income_category'] == categor]['total_income_category'].count())\n",
    "    if categor == 'C':\n",
    "        cat_c = (df[(df['total_income_category'] == categor) & (df['debt'] == 0)]['total_income_category'].count()\n",
    "                 / df[df['total_income_category'] == categor]['total_income_category'].count())\n",
    "    if categor == 'D':\n",
    "        cat_d = (df[(df['total_income_category'] == categor) & (df['debt'] == 0)]['total_income_category'].count()\n",
    "                 / df[df['total_income_category'] == categor]['total_income_category'].count())\n",
    "    if categor == 'E':\n",
    "        cat_e = (df[(df['total_income_category'] == categor) & (df['debt'] == 0)]['total_income_category'].count()\n",
    "                 / df[df['total_income_category'] == categor]['total_income_category'].count())\n",
    "\n",
    "print('Доля клиентов, не имеющих задолженностей, относительно статуса по уровню дохода')\n",
    "debt_procent = [\"{:.3%}\".format(cat_a), \"{:.3%}\".format(cat_b), \"{:.3%}\".format(cat_c),\n",
    "               \"{:.3%}\".format(cat_d), \"{:.3%}\".format(cat_e)]\n",
    "pivot_total_income_category = df.pivot_table(index=['total_income_category'], values='debt')\n",
    "pivot_total_income_category['refund'] = debt_procent\n",
    "del pivot_total_income_category['debt']\n",
    "display(pivot_total_income_category)"
   ]
  },
  {
   "cell_type": "markdown",
   "id": "3a0f9d69",
   "metadata": {},
   "source": [
    "##### Вывод 3: "
   ]
  },
  {
   "cell_type": "markdown",
   "id": "a4fddbbe",
   "metadata": {},
   "source": [
    "<div class=\"alert alert-info\">\n",
    "<b>Комментарий:</b><br>\n",
    "Разобьем клиентов по уровню дохода.<br>\n",
    "Наиболее надежными являются клиенты с уровнем дохода D.<br>\n",
    "Наименее надежные - клиенты с категорией E.\n",
    "</div>"
   ]
  },
  {
   "cell_type": "markdown",
   "id": "404395a3",
   "metadata": {},
   "source": [
    "##### Вопрос 4: Как разные цели кредита влияют на его возврат в срок?"
   ]
  },
  {
   "cell_type": "code",
   "execution_count": 14,
   "id": "e6d394d5",
   "metadata": {},
   "outputs": [
    {
     "name": "stdout",
     "output_type": "stream",
     "text": [
      "Доля клиентов, не имеющих задолженностей, относительно цели для кредита\n"
     ]
    },
    {
     "data": {
      "text/html": [
       "<div>\n",
       "<style scoped>\n",
       "    .dataframe tbody tr th:only-of-type {\n",
       "        vertical-align: middle;\n",
       "    }\n",
       "\n",
       "    .dataframe tbody tr th {\n",
       "        vertical-align: top;\n",
       "    }\n",
       "\n",
       "    .dataframe thead th {\n",
       "        text-align: right;\n",
       "    }\n",
       "</style>\n",
       "<table border=\"1\" class=\"dataframe\">\n",
       "  <thead>\n",
       "    <tr style=\"text-align: right;\">\n",
       "      <th></th>\n",
       "      <th>sum</th>\n",
       "      <th>count</th>\n",
       "      <th>refund</th>\n",
       "    </tr>\n",
       "    <tr>\n",
       "      <th>purpose_category</th>\n",
       "      <th></th>\n",
       "      <th></th>\n",
       "      <th></th>\n",
       "    </tr>\n",
       "  </thead>\n",
       "  <tbody>\n",
       "    <tr>\n",
       "      <td>операции с недвижимостью</td>\n",
       "      <td>10028</td>\n",
       "      <td>10810</td>\n",
       "      <td>0.927660</td>\n",
       "    </tr>\n",
       "    <tr>\n",
       "      <td>проведение свадьбы</td>\n",
       "      <td>2138</td>\n",
       "      <td>2324</td>\n",
       "      <td>0.919966</td>\n",
       "    </tr>\n",
       "    <tr>\n",
       "      <td>получение образования</td>\n",
       "      <td>3643</td>\n",
       "      <td>4013</td>\n",
       "      <td>0.907800</td>\n",
       "    </tr>\n",
       "    <tr>\n",
       "      <td>операции с автомобилем</td>\n",
       "      <td>3903</td>\n",
       "      <td>4306</td>\n",
       "      <td>0.906410</td>\n",
       "    </tr>\n",
       "  </tbody>\n",
       "</table>\n",
       "</div>"
      ],
      "text/plain": [
       "                            sum  count    refund\n",
       "purpose_category                                \n",
       "операции с недвижимостью  10028  10810  0.927660\n",
       "проведение свадьбы         2138   2324  0.919966\n",
       "получение образования      3643   4013  0.907800\n",
       "операции с автомобилем     3903   4306  0.906410"
      ]
     },
     "metadata": {},
     "output_type": "display_data"
    }
   ],
   "source": [
    "print('Доля клиентов, не имеющих задолженностей, относительно цели для кредита')\n",
    "\n",
    "pivot_purpose_table = pd.DataFrame()\n",
    "#Количество вернувших кредит\n",
    "pivot_purpose_table['sum'] = df.groupby('purpose_category')['debt'].count() - df.groupby('purpose_category')['debt'].sum()\n",
    "pivot_purpose_table['count'] = df.groupby('purpose_category')['debt'].count()\n",
    "pivot_purpose_table['refund'] = pivot_purpose_table['sum']/pivot_purpose_table['count']\n",
    "display(pivot_purpose_table.sort_values('refund', ascending=False))"
   ]
  },
  {
   "cell_type": "markdown",
   "id": "a7a2841b",
   "metadata": {},
   "source": [
    "##### Вывод 4:"
   ]
  },
  {
   "cell_type": "markdown",
   "id": "3679efe1",
   "metadata": {},
   "source": [
    "<div class=\"alert alert-info\">\n",
    "<b>Комментарий:</b><br>\n",
    "Разобьем клиентов по цели для кредита.<br>\n",
    "Наиболее надежные заемщики - клиенты, берущие кредит на операции с недвижимостью.<br>\n",
    "Наименее надежные - на операции с автомобилем.\n",
    "</div>"
   ]
  },
  {
   "cell_type": "markdown",
   "id": "631ff54b",
   "metadata": {},
   "source": [
    "## Общий вывод:"
   ]
  },
  {
   "cell_type": "markdown",
   "id": "99b618d6",
   "metadata": {},
   "source": [
    "<div class=\"alert alert-info\">\n",
    "При группировке клиентов по количеству детей можно сделать вывод, что наиболее надежными по возврату кредита клиентами являеются родители 5х детей. Доля возврата кредита по этой категории составляет 100%. Наименее надежная: родители 4х детей - 90.244%<br>\n",
    "<br>\n",
    "Наиболее надежной категорией среди клиентов по семейному статусу являются вдовы/вдовцы - 93.431%. Наименее надежные - женатые/замужние. Их доля составляет 90.249%.<br><br>\n",
    "Наиболее надежной категорией среди клиентов по уровню дохода являются клиенты с уровенм дохода D - 94%. Наименее надежные - с категорией E. Их доля составляет 90.909%.<br><br>\n",
    "Наиболее надежной категорией среди клиентов по целям для кредита являются те, кто берет кредит на операции с недвижимостью - 92.8%. Наименее надежные - категория с операциями с автомобилем. Их доля составляет 90.6%.\n",
    "</div>"
   ]
  }
 ],
 "metadata": {
  "ExecuteTimeLog": [
   {
    "duration": 566,
    "start_time": "2022-02-02T09:22:54.645Z"
   },
   {
    "duration": 68,
    "start_time": "2022-02-02T09:23:05.761Z"
   },
   {
    "duration": 55,
    "start_time": "2022-02-02T09:23:29.944Z"
   },
   {
    "duration": 68,
    "start_time": "2022-02-02T09:23:37.231Z"
   },
   {
    "duration": 9,
    "start_time": "2022-02-02T09:26:28.844Z"
   },
   {
    "duration": 11,
    "start_time": "2022-02-02T09:33:45.405Z"
   },
   {
    "duration": 12,
    "start_time": "2022-02-02T09:34:06.337Z"
   },
   {
    "duration": 11,
    "start_time": "2022-02-02T09:34:26.526Z"
   },
   {
    "duration": 12,
    "start_time": "2022-02-02T09:34:40.165Z"
   },
   {
    "duration": 12,
    "start_time": "2022-02-02T09:38:34.462Z"
   },
   {
    "duration": 14,
    "start_time": "2022-02-02T09:38:41.157Z"
   },
   {
    "duration": 13,
    "start_time": "2022-02-02T09:38:51.836Z"
   },
   {
    "duration": 13,
    "start_time": "2022-02-02T09:38:57.167Z"
   },
   {
    "duration": 13,
    "start_time": "2022-02-02T09:39:03.442Z"
   },
   {
    "duration": 13,
    "start_time": "2022-02-02T09:40:44.535Z"
   },
   {
    "duration": 18,
    "start_time": "2022-02-02T09:40:57.350Z"
   },
   {
    "duration": 72,
    "start_time": "2022-02-02T09:41:04.329Z"
   },
   {
    "duration": 18,
    "start_time": "2022-02-02T09:41:06.494Z"
   },
   {
    "duration": 67,
    "start_time": "2022-02-02T09:42:47.489Z"
   },
   {
    "duration": 18,
    "start_time": "2022-02-02T09:48:39.037Z"
   },
   {
    "duration": 19,
    "start_time": "2022-02-02T09:48:51.102Z"
   },
   {
    "duration": 73,
    "start_time": "2022-02-02T09:48:58.482Z"
   },
   {
    "duration": 20,
    "start_time": "2022-02-02T09:49:00.841Z"
   },
   {
    "duration": 69,
    "start_time": "2022-02-02T09:50:00.656Z"
   },
   {
    "duration": 12,
    "start_time": "2022-02-02T09:50:10.559Z"
   },
   {
    "duration": 10,
    "start_time": "2022-02-02T09:53:42.601Z"
   },
   {
    "duration": 71,
    "start_time": "2022-02-02T09:54:01.146Z"
   },
   {
    "duration": 11,
    "start_time": "2022-02-02T09:54:03.409Z"
   },
   {
    "duration": 10,
    "start_time": "2022-02-02T09:54:09.317Z"
   },
   {
    "duration": 11,
    "start_time": "2022-02-02T09:54:12.786Z"
   },
   {
    "duration": 11,
    "start_time": "2022-02-02T09:54:16.467Z"
   },
   {
    "duration": 12,
    "start_time": "2022-02-02T09:54:40.196Z"
   },
   {
    "duration": 12,
    "start_time": "2022-02-02T09:55:14.643Z"
   },
   {
    "duration": 12,
    "start_time": "2022-02-02T09:55:24.562Z"
   },
   {
    "duration": 74,
    "start_time": "2022-02-02T09:57:57.404Z"
   },
   {
    "duration": 13,
    "start_time": "2022-02-02T09:57:59.641Z"
   },
   {
    "duration": 14,
    "start_time": "2022-02-02T09:58:13.332Z"
   },
   {
    "duration": 13,
    "start_time": "2022-02-02T09:59:30.939Z"
   },
   {
    "duration": 13,
    "start_time": "2022-02-02T09:59:38.863Z"
   },
   {
    "duration": 20,
    "start_time": "2022-02-02T09:59:59.667Z"
   },
   {
    "duration": 22,
    "start_time": "2022-02-02T10:15:39.570Z"
   },
   {
    "duration": 68,
    "start_time": "2022-02-02T10:15:55.343Z"
   },
   {
    "duration": 20,
    "start_time": "2022-02-02T10:15:58.582Z"
   },
   {
    "duration": 5,
    "start_time": "2022-02-02T10:17:54.715Z"
   },
   {
    "duration": 8,
    "start_time": "2022-02-02T10:20:12.760Z"
   },
   {
    "duration": 7,
    "start_time": "2022-02-02T10:20:28.384Z"
   },
   {
    "duration": 4,
    "start_time": "2022-02-02T11:14:49.566Z"
   },
   {
    "duration": 4,
    "start_time": "2022-02-02T11:20:28.826Z"
   },
   {
    "duration": 5,
    "start_time": "2022-02-02T11:22:00.001Z"
   },
   {
    "duration": 4,
    "start_time": "2022-02-02T11:22:16.151Z"
   },
   {
    "duration": 4,
    "start_time": "2022-02-02T11:22:35.648Z"
   },
   {
    "duration": 11,
    "start_time": "2022-02-02T11:25:52.287Z"
   },
   {
    "duration": 13,
    "start_time": "2022-02-02T11:27:42.638Z"
   },
   {
    "duration": 15,
    "start_time": "2022-02-02T11:30:37.818Z"
   },
   {
    "duration": 15,
    "start_time": "2022-02-02T11:32:04.195Z"
   },
   {
    "duration": 63,
    "start_time": "2022-02-02T11:33:13.084Z"
   },
   {
    "duration": 15,
    "start_time": "2022-02-02T11:33:31.874Z"
   },
   {
    "duration": 17,
    "start_time": "2022-02-02T11:39:33.490Z"
   },
   {
    "duration": 27,
    "start_time": "2022-02-02T11:40:02.219Z"
   },
   {
    "duration": 273,
    "start_time": "2022-02-02T11:41:48.916Z"
   },
   {
    "duration": 194,
    "start_time": "2022-02-02T11:42:06.821Z"
   },
   {
    "duration": 825,
    "start_time": "2022-02-02T18:21:28.047Z"
   },
   {
    "duration": 28,
    "start_time": "2022-02-02T18:21:32.039Z"
   },
   {
    "duration": 423,
    "start_time": "2022-02-02T18:21:50.896Z"
   },
   {
    "duration": 26,
    "start_time": "2022-02-02T19:08:01.996Z"
   },
   {
    "duration": 96,
    "start_time": "2022-02-02T19:08:04.842Z"
   },
   {
    "duration": 28,
    "start_time": "2022-02-02T19:08:06.362Z"
   },
   {
    "duration": 50,
    "start_time": "2022-02-02T19:08:08.189Z"
   },
   {
    "duration": 96,
    "start_time": "2022-02-02T19:08:24.674Z"
   },
   {
    "duration": 26,
    "start_time": "2022-02-02T19:08:26.729Z"
   },
   {
    "duration": 35,
    "start_time": "2022-02-02T19:08:28.717Z"
   },
   {
    "duration": 96,
    "start_time": "2022-02-02T19:08:58.946Z"
   },
   {
    "duration": 26,
    "start_time": "2022-02-02T19:09:00.666Z"
   },
   {
    "duration": 29,
    "start_time": "2022-02-02T19:09:12.055Z"
   },
   {
    "duration": 94,
    "start_time": "2022-02-02T19:10:00.950Z"
   },
   {
    "duration": 27,
    "start_time": "2022-02-02T19:10:02.604Z"
   },
   {
    "duration": 281,
    "start_time": "2022-02-02T19:10:04.125Z"
   },
   {
    "duration": 25,
    "start_time": "2022-02-02T19:10:14.017Z"
   },
   {
    "duration": 27,
    "start_time": "2022-02-02T19:11:11.649Z"
   },
   {
    "duration": 25,
    "start_time": "2022-02-02T19:14:34.348Z"
   },
   {
    "duration": 94,
    "start_time": "2022-02-02T19:14:43.168Z"
   },
   {
    "duration": 27,
    "start_time": "2022-02-02T19:14:47.005Z"
   },
   {
    "duration": 26,
    "start_time": "2022-02-02T19:14:48.648Z"
   },
   {
    "duration": 26,
    "start_time": "2022-02-02T19:18:38.024Z"
   },
   {
    "duration": 40,
    "start_time": "2022-02-02T19:19:15.012Z"
   },
   {
    "duration": 29,
    "start_time": "2022-02-02T19:22:55.243Z"
   },
   {
    "duration": 45,
    "start_time": "2022-02-02T19:27:09.777Z"
   },
   {
    "duration": 54,
    "start_time": "2022-02-02T19:28:02.229Z"
   },
   {
    "duration": 142,
    "start_time": "2022-02-02T19:28:12.110Z"
   },
   {
    "duration": 27,
    "start_time": "2022-02-02T19:28:14.075Z"
   },
   {
    "duration": 68,
    "start_time": "2022-02-02T19:28:15.846Z"
   },
   {
    "duration": 102,
    "start_time": "2022-02-02T19:28:35.386Z"
   },
   {
    "duration": 27,
    "start_time": "2022-02-02T19:28:39.133Z"
   },
   {
    "duration": 25,
    "start_time": "2022-02-02T19:28:41.760Z"
   },
   {
    "duration": -771,
    "start_time": "2022-02-02T19:45:05.385Z"
   },
   {
    "duration": -773,
    "start_time": "2022-02-02T19:45:05.388Z"
   },
   {
    "duration": 105,
    "start_time": "2022-02-02T19:45:07.436Z"
   },
   {
    "duration": 26,
    "start_time": "2022-02-02T19:45:10.742Z"
   },
   {
    "duration": -705,
    "start_time": "2022-02-02T19:47:02.448Z"
   },
   {
    "duration": 23826,
    "start_time": "2022-02-02T19:47:03.915Z"
   },
   {
    "duration": 94,
    "start_time": "2022-02-02T19:47:29.594Z"
   },
   {
    "duration": 31,
    "start_time": "2022-02-02T19:47:31.332Z"
   },
   {
    "duration": -714,
    "start_time": "2022-02-02T19:47:59.030Z"
   },
   {
    "duration": 70,
    "start_time": "2022-02-02T19:47:59.701Z"
   },
   {
    "duration": 81,
    "start_time": "2022-02-02T19:48:16.417Z"
   },
   {
    "duration": 92,
    "start_time": "2022-02-02T19:48:22.101Z"
   },
   {
    "duration": 327,
    "start_time": "2022-02-02T19:57:27.703Z"
   },
   {
    "duration": 841,
    "start_time": "2022-02-02T19:57:37.370Z"
   },
   {
    "duration": 28,
    "start_time": "2022-02-02T19:57:40.834Z"
   },
   {
    "duration": 370,
    "start_time": "2022-02-02T19:57:43.006Z"
   },
   {
    "duration": 32,
    "start_time": "2022-02-02T19:58:33.980Z"
   },
   {
    "duration": 96,
    "start_time": "2022-02-02T19:58:58.166Z"
   },
   {
    "duration": 34,
    "start_time": "2022-02-02T19:58:59.865Z"
   },
   {
    "duration": 30,
    "start_time": "2022-02-02T19:59:01.906Z"
   },
   {
    "duration": 36,
    "start_time": "2022-02-02T19:59:28.711Z"
   },
   {
    "duration": 43,
    "start_time": "2022-02-02T20:00:01.520Z"
   },
   {
    "duration": 5,
    "start_time": "2022-02-02T20:05:10.914Z"
   },
   {
    "duration": 709,
    "start_time": "2022-02-03T06:21:49.126Z"
   },
   {
    "duration": 21,
    "start_time": "2022-02-03T06:21:52.305Z"
   },
   {
    "duration": 32,
    "start_time": "2022-02-03T06:21:55.636Z"
   },
   {
    "duration": 21,
    "start_time": "2022-02-03T06:22:27.661Z"
   },
   {
    "duration": 31,
    "start_time": "2022-02-03T06:22:36.191Z"
   },
   {
    "duration": 77,
    "start_time": "2022-02-03T06:22:40.670Z"
   },
   {
    "duration": 22,
    "start_time": "2022-02-03T06:22:43.274Z"
   },
   {
    "duration": 29,
    "start_time": "2022-02-03T06:22:44.961Z"
   },
   {
    "duration": 76,
    "start_time": "2022-02-03T06:23:56.229Z"
   },
   {
    "duration": 21,
    "start_time": "2022-02-03T06:23:57.889Z"
   },
   {
    "duration": 28,
    "start_time": "2022-02-03T06:23:59.445Z"
   },
   {
    "duration": 77,
    "start_time": "2022-02-03T06:25:06.807Z"
   },
   {
    "duration": 327,
    "start_time": "2022-02-03T06:25:08.977Z"
   },
   {
    "duration": 263,
    "start_time": "2022-02-03T06:26:14.626Z"
   },
   {
    "duration": 301,
    "start_time": "2022-02-03T06:27:47.154Z"
   },
   {
    "duration": 78,
    "start_time": "2022-02-03T06:28:31.405Z"
   },
   {
    "duration": 23,
    "start_time": "2022-02-03T06:28:33.995Z"
   },
   {
    "duration": 72,
    "start_time": "2022-02-03T06:29:55.916Z"
   },
   {
    "duration": 29,
    "start_time": "2022-02-03T06:31:23.131Z"
   },
   {
    "duration": 75,
    "start_time": "2022-02-03T06:31:35.543Z"
   },
   {
    "duration": 22,
    "start_time": "2022-02-03T06:31:37.647Z"
   },
   {
    "duration": 29,
    "start_time": "2022-02-03T06:31:39.699Z"
   },
   {
    "duration": 4,
    "start_time": "2022-02-03T06:32:00.052Z"
   },
   {
    "duration": 4,
    "start_time": "2022-02-03T06:32:38.489Z"
   },
   {
    "duration": 5,
    "start_time": "2022-02-03T06:32:50.121Z"
   },
   {
    "duration": 4,
    "start_time": "2022-02-03T06:32:54.978Z"
   },
   {
    "duration": 3,
    "start_time": "2022-02-03T06:35:36.065Z"
   },
   {
    "duration": 16,
    "start_time": "2022-02-03T06:35:54.237Z"
   },
   {
    "duration": 15,
    "start_time": "2022-02-03T06:36:12.766Z"
   },
   {
    "duration": 28,
    "start_time": "2022-02-03T06:36:36.546Z"
   },
   {
    "duration": 42,
    "start_time": "2022-02-03T06:36:41.457Z"
   },
   {
    "duration": 29,
    "start_time": "2022-02-03T06:36:46.027Z"
   },
   {
    "duration": 76,
    "start_time": "2022-02-03T06:39:18.642Z"
   },
   {
    "duration": 23,
    "start_time": "2022-02-03T06:39:18.720Z"
   },
   {
    "duration": 29,
    "start_time": "2022-02-03T06:39:18.745Z"
   },
   {
    "duration": 25,
    "start_time": "2022-02-03T06:39:18.776Z"
   },
   {
    "duration": 249,
    "start_time": "2022-02-03T06:39:21.104Z"
   },
   {
    "duration": 77,
    "start_time": "2022-02-03T06:39:51.634Z"
   },
   {
    "duration": 23,
    "start_time": "2022-02-03T06:39:51.713Z"
   },
   {
    "duration": 31,
    "start_time": "2022-02-03T06:39:51.738Z"
   },
   {
    "duration": 28,
    "start_time": "2022-02-03T06:39:51.771Z"
   },
   {
    "duration": 32,
    "start_time": "2022-02-03T06:39:53.373Z"
   },
   {
    "duration": 34,
    "start_time": "2022-02-03T06:40:28.377Z"
   },
   {
    "duration": 74,
    "start_time": "2022-02-03T06:43:14.693Z"
   },
   {
    "duration": 22,
    "start_time": "2022-02-03T06:43:14.769Z"
   },
   {
    "duration": 31,
    "start_time": "2022-02-03T06:43:16.628Z"
   },
   {
    "duration": 80,
    "start_time": "2022-02-03T06:44:01.683Z"
   },
   {
    "duration": 24,
    "start_time": "2022-02-03T06:44:01.765Z"
   },
   {
    "duration": 34,
    "start_time": "2022-02-03T06:44:03.103Z"
   },
   {
    "duration": 30,
    "start_time": "2022-02-03T06:44:20.881Z"
   },
   {
    "duration": 32,
    "start_time": "2022-02-03T06:44:40.323Z"
   },
   {
    "duration": 31,
    "start_time": "2022-02-03T06:44:41.905Z"
   },
   {
    "duration": 77,
    "start_time": "2022-02-03T06:44:57.865Z"
   },
   {
    "duration": 22,
    "start_time": "2022-02-03T06:44:57.944Z"
   },
   {
    "duration": 33,
    "start_time": "2022-02-03T06:45:01.726Z"
   },
   {
    "duration": 30,
    "start_time": "2022-02-03T06:45:10.368Z"
   },
   {
    "duration": 75,
    "start_time": "2022-02-03T06:45:49.209Z"
   },
   {
    "duration": 23,
    "start_time": "2022-02-03T06:45:49.286Z"
   },
   {
    "duration": 29,
    "start_time": "2022-02-03T06:45:52.926Z"
   },
   {
    "duration": 4,
    "start_time": "2022-02-03T06:46:44.455Z"
   },
   {
    "duration": 35,
    "start_time": "2022-02-03T06:46:46.153Z"
   },
   {
    "duration": 34,
    "start_time": "2022-02-03T06:47:05.642Z"
   },
   {
    "duration": 32,
    "start_time": "2022-02-03T06:47:11.705Z"
   },
   {
    "duration": 44,
    "start_time": "2022-02-03T06:49:59.553Z"
   },
   {
    "duration": 48,
    "start_time": "2022-02-03T06:50:09.281Z"
   },
   {
    "duration": 78,
    "start_time": "2022-02-03T06:50:19.729Z"
   },
   {
    "duration": 24,
    "start_time": "2022-02-03T06:50:19.810Z"
   },
   {
    "duration": 33,
    "start_time": "2022-02-03T06:50:19.837Z"
   },
   {
    "duration": 31,
    "start_time": "2022-02-03T06:50:19.872Z"
   },
   {
    "duration": 49,
    "start_time": "2022-02-03T06:50:21.719Z"
   },
   {
    "duration": 77,
    "start_time": "2022-02-03T06:52:15.842Z"
   },
   {
    "duration": 23,
    "start_time": "2022-02-03T06:52:15.921Z"
   },
   {
    "duration": 53,
    "start_time": "2022-02-03T06:52:15.947Z"
   },
   {
    "duration": 5,
    "start_time": "2022-02-03T06:52:16.002Z"
   },
   {
    "duration": 61,
    "start_time": "2022-02-03T06:52:17.547Z"
   },
   {
    "duration": 76,
    "start_time": "2022-02-03T06:53:38.986Z"
   },
   {
    "duration": 37,
    "start_time": "2022-02-03T06:53:39.064Z"
   },
   {
    "duration": 33,
    "start_time": "2022-02-03T06:53:39.103Z"
   },
   {
    "duration": 9,
    "start_time": "2022-02-03T06:53:39.138Z"
   },
   {
    "duration": 93,
    "start_time": "2022-02-03T06:53:40.633Z"
   },
   {
    "duration": 107,
    "start_time": "2022-02-03T07:23:56.737Z"
   },
   {
    "duration": 118,
    "start_time": "2022-02-03T07:24:30.577Z"
   },
   {
    "duration": 80,
    "start_time": "2022-02-03T07:24:42.979Z"
   },
   {
    "duration": 23,
    "start_time": "2022-02-03T07:24:43.061Z"
   },
   {
    "duration": 35,
    "start_time": "2022-02-03T07:24:43.100Z"
   },
   {
    "duration": 4,
    "start_time": "2022-02-03T07:24:43.137Z"
   },
   {
    "duration": 113,
    "start_time": "2022-02-03T07:24:44.040Z"
   },
   {
    "duration": 75,
    "start_time": "2022-02-03T07:26:19.905Z"
   },
   {
    "duration": 24,
    "start_time": "2022-02-03T07:26:19.982Z"
   },
   {
    "duration": 34,
    "start_time": "2022-02-03T07:26:20.009Z"
   },
   {
    "duration": 5,
    "start_time": "2022-02-03T07:26:20.046Z"
   },
   {
    "duration": 136,
    "start_time": "2022-02-03T07:26:21.111Z"
   },
   {
    "duration": 124,
    "start_time": "2022-02-03T07:26:27.705Z"
   },
   {
    "duration": 76,
    "start_time": "2022-02-03T07:27:10.617Z"
   },
   {
    "duration": 21,
    "start_time": "2022-02-03T07:27:10.695Z"
   },
   {
    "duration": 29,
    "start_time": "2022-02-03T07:27:10.718Z"
   },
   {
    "duration": 3,
    "start_time": "2022-02-03T07:27:10.749Z"
   },
   {
    "duration": 140,
    "start_time": "2022-02-03T07:27:12.201Z"
   },
   {
    "duration": 14,
    "start_time": "2022-02-03T07:52:41.316Z"
   },
   {
    "duration": 77,
    "start_time": "2022-02-03T07:57:12.690Z"
   },
   {
    "duration": 30,
    "start_time": "2022-02-03T07:57:12.769Z"
   },
   {
    "duration": 33,
    "start_time": "2022-02-03T07:57:12.801Z"
   },
   {
    "duration": 4,
    "start_time": "2022-02-03T07:57:12.835Z"
   },
   {
    "duration": 138,
    "start_time": "2022-02-03T07:57:14.167Z"
   },
   {
    "duration": 144,
    "start_time": "2022-02-03T07:57:25.197Z"
   },
   {
    "duration": 79,
    "start_time": "2022-02-03T07:57:34.489Z"
   },
   {
    "duration": 31,
    "start_time": "2022-02-03T07:57:34.570Z"
   },
   {
    "duration": 31,
    "start_time": "2022-02-03T07:57:34.603Z"
   },
   {
    "duration": 6,
    "start_time": "2022-02-03T07:57:34.636Z"
   },
   {
    "duration": 143,
    "start_time": "2022-02-03T07:57:48.914Z"
   },
   {
    "duration": 7,
    "start_time": "2022-02-03T07:57:54.444Z"
   },
   {
    "duration": 18,
    "start_time": "2022-02-03T08:02:10.371Z"
   },
   {
    "duration": 6653,
    "start_time": "2022-02-03T08:03:35.300Z"
   },
   {
    "duration": 78,
    "start_time": "2022-02-03T08:03:52.274Z"
   },
   {
    "duration": 23,
    "start_time": "2022-02-03T08:03:55.793Z"
   },
   {
    "duration": 36,
    "start_time": "2022-02-03T08:03:57.605Z"
   },
   {
    "duration": 75,
    "start_time": "2022-02-03T08:11:33.612Z"
   },
   {
    "duration": 22,
    "start_time": "2022-02-03T08:11:33.689Z"
   },
   {
    "duration": 292,
    "start_time": "2022-02-03T08:11:35.335Z"
   },
   {
    "duration": 79,
    "start_time": "2022-02-03T08:12:00.604Z"
   },
   {
    "duration": 22,
    "start_time": "2022-02-03T08:12:00.685Z"
   },
   {
    "duration": 284,
    "start_time": "2022-02-03T08:12:02.106Z"
   },
   {
    "duration": 381,
    "start_time": "2022-02-03T08:14:43.210Z"
   },
   {
    "duration": 77,
    "start_time": "2022-02-03T08:14:51.570Z"
   },
   {
    "duration": 21,
    "start_time": "2022-02-03T08:14:51.649Z"
   },
   {
    "duration": 285,
    "start_time": "2022-02-03T08:14:53.772Z"
   },
   {
    "duration": 289,
    "start_time": "2022-02-03T08:15:17.082Z"
   },
   {
    "duration": 45,
    "start_time": "2022-02-03T08:16:09.487Z"
   },
   {
    "duration": 79,
    "start_time": "2022-02-03T08:16:33.424Z"
   },
   {
    "duration": 21,
    "start_time": "2022-02-03T08:16:33.505Z"
   },
   {
    "duration": 42,
    "start_time": "2022-02-03T08:17:05.985Z"
   },
   {
    "duration": 78,
    "start_time": "2022-02-03T08:17:21.249Z"
   },
   {
    "duration": 23,
    "start_time": "2022-02-03T08:17:21.329Z"
   },
   {
    "duration": 39,
    "start_time": "2022-02-03T08:17:23.733Z"
   },
   {
    "duration": 4,
    "start_time": "2022-02-03T08:17:31.111Z"
   },
   {
    "duration": 140,
    "start_time": "2022-02-03T08:17:32.109Z"
   },
   {
    "duration": 18,
    "start_time": "2022-02-03T08:17:37.251Z"
   },
   {
    "duration": 23,
    "start_time": "2022-02-03T08:39:01.461Z"
   },
   {
    "duration": 76,
    "start_time": "2022-02-03T08:39:26.696Z"
   },
   {
    "duration": 27,
    "start_time": "2022-02-03T08:39:26.774Z"
   },
   {
    "duration": 41,
    "start_time": "2022-02-03T08:39:26.803Z"
   },
   {
    "duration": 4,
    "start_time": "2022-02-03T08:39:26.845Z"
   },
   {
    "duration": 177,
    "start_time": "2022-02-03T08:39:26.850Z"
   },
   {
    "duration": 17,
    "start_time": "2022-02-03T08:39:27.029Z"
   },
   {
    "duration": 80,
    "start_time": "2022-02-03T08:45:16.124Z"
   },
   {
    "duration": 24,
    "start_time": "2022-02-03T08:45:16.206Z"
   },
   {
    "duration": 41,
    "start_time": "2022-02-03T08:45:22.421Z"
   },
   {
    "duration": 4,
    "start_time": "2022-02-03T08:45:43.507Z"
   },
   {
    "duration": 79,
    "start_time": "2022-02-03T08:45:44.646Z"
   },
   {
    "duration": 16,
    "start_time": "2022-02-03T08:45:55.286Z"
   },
   {
    "duration": 12,
    "start_time": "2022-02-03T08:46:04.452Z"
   },
   {
    "duration": 23,
    "start_time": "2022-02-03T08:46:21.641Z"
   },
   {
    "duration": 22,
    "start_time": "2022-02-03T09:16:24.089Z"
   },
   {
    "duration": 30,
    "start_time": "2022-02-03T09:16:55.456Z"
   },
   {
    "duration": 1222,
    "start_time": "2022-02-03T10:15:33.107Z"
   },
   {
    "duration": 1228,
    "start_time": "2022-02-03T10:18:37.640Z"
   },
   {
    "duration": 103,
    "start_time": "2022-02-03T10:21:29.695Z"
   },
   {
    "duration": 1189,
    "start_time": "2022-02-03T10:35:36.468Z"
   },
   {
    "duration": 6094,
    "start_time": "2022-02-03T10:35:53.664Z"
   },
   {
    "duration": 125,
    "start_time": "2022-02-03T10:43:27.215Z"
   },
   {
    "duration": 1423,
    "start_time": "2022-02-03T10:43:33.966Z"
   },
   {
    "duration": 300,
    "start_time": "2022-02-03T10:49:09.781Z"
   },
   {
    "duration": 18820,
    "start_time": "2022-02-03T10:49:19.958Z"
   },
   {
    "duration": 32,
    "start_time": "2022-02-03T10:53:07.492Z"
   },
   {
    "duration": 43,
    "start_time": "2022-02-03T10:55:01.208Z"
   },
   {
    "duration": 30,
    "start_time": "2022-02-03T10:55:40.713Z"
   },
   {
    "duration": 31,
    "start_time": "2022-02-03T10:56:30.937Z"
   },
   {
    "duration": 54,
    "start_time": "2022-02-03T11:01:28.460Z"
   },
   {
    "duration": 671,
    "start_time": "2022-02-03T11:01:48.662Z"
   },
   {
    "duration": 52,
    "start_time": "2022-02-03T11:01:55.870Z"
   },
   {
    "duration": 48,
    "start_time": "2022-02-03T11:02:15.184Z"
   },
   {
    "duration": 36,
    "start_time": "2022-02-03T11:02:37.518Z"
   },
   {
    "duration": 100,
    "start_time": "2022-02-03T11:04:48.093Z"
   },
   {
    "duration": 37,
    "start_time": "2022-02-03T11:05:08.615Z"
   },
   {
    "duration": 42,
    "start_time": "2022-02-03T11:13:02.381Z"
   },
   {
    "duration": 52,
    "start_time": "2022-02-03T11:13:16.452Z"
   },
   {
    "duration": 68,
    "start_time": "2022-02-03T11:18:46.156Z"
   },
   {
    "duration": 87,
    "start_time": "2022-02-03T11:19:46.372Z"
   },
   {
    "duration": 92,
    "start_time": "2022-02-03T11:21:29.453Z"
   },
   {
    "duration": 93,
    "start_time": "2022-02-03T11:21:40.612Z"
   },
   {
    "duration": 90,
    "start_time": "2022-02-03T11:21:53.928Z"
   },
   {
    "duration": 118,
    "start_time": "2022-02-03T12:30:41.555Z"
   },
   {
    "duration": 111,
    "start_time": "2022-02-03T12:31:43.916Z"
   },
   {
    "duration": 307,
    "start_time": "2022-02-03T12:32:13.759Z"
   },
   {
    "duration": 77,
    "start_time": "2022-02-03T12:32:59.885Z"
   },
   {
    "duration": 79,
    "start_time": "2022-02-03T12:33:27.983Z"
   },
   {
    "duration": 78,
    "start_time": "2022-02-03T12:34:59.253Z"
   },
   {
    "duration": 77,
    "start_time": "2022-02-03T12:36:45.429Z"
   },
   {
    "duration": 80,
    "start_time": "2022-02-03T12:38:15.461Z"
   },
   {
    "duration": 52,
    "start_time": "2022-02-03T12:41:57.934Z"
   },
   {
    "duration": 29,
    "start_time": "2022-02-03T12:42:03.531Z"
   },
   {
    "duration": 28,
    "start_time": "2022-02-03T12:44:16.928Z"
   },
   {
    "duration": 5,
    "start_time": "2022-02-03T12:58:30.885Z"
   },
   {
    "duration": 5,
    "start_time": "2022-02-03T12:58:43.577Z"
   },
   {
    "duration": 104,
    "start_time": "2022-02-03T13:00:34.053Z"
   },
   {
    "duration": 108,
    "start_time": "2022-02-03T13:04:17.850Z"
   },
   {
    "duration": 29,
    "start_time": "2022-02-03T13:06:29.023Z"
   },
   {
    "duration": 26,
    "start_time": "2022-02-03T13:10:57.100Z"
   },
   {
    "duration": 165,
    "start_time": "2022-02-03T13:12:20.752Z"
   },
   {
    "duration": 29,
    "start_time": "2022-02-03T13:12:26.862Z"
   },
   {
    "duration": 30,
    "start_time": "2022-02-03T13:12:45.863Z"
   },
   {
    "duration": 27,
    "start_time": "2022-02-03T13:13:00.240Z"
   },
   {
    "duration": 6949,
    "start_time": "2022-02-03T13:19:01.004Z"
   },
   {
    "duration": 13153,
    "start_time": "2022-02-03T13:19:31.654Z"
   },
   {
    "duration": 6,
    "start_time": "2022-02-03T13:19:59.728Z"
   },
   {
    "duration": 97,
    "start_time": "2022-02-03T13:29:37.083Z"
   },
   {
    "duration": 94,
    "start_time": "2022-02-03T13:30:21.360Z"
   },
   {
    "duration": 80,
    "start_time": "2022-02-03T13:30:44.268Z"
   },
   {
    "duration": 108,
    "start_time": "2022-02-03T13:32:31.354Z"
   },
   {
    "duration": 87,
    "start_time": "2022-02-03T13:32:46.324Z"
   },
   {
    "duration": 89,
    "start_time": "2022-02-03T13:32:53.095Z"
   },
   {
    "duration": 6,
    "start_time": "2022-02-03T13:33:23.550Z"
   },
   {
    "duration": -1543,
    "start_time": "2022-02-03T13:36:38.077Z"
   },
   {
    "duration": -1547,
    "start_time": "2022-02-03T13:36:38.084Z"
   },
   {
    "duration": -1549,
    "start_time": "2022-02-03T13:36:38.087Z"
   },
   {
    "duration": -1551,
    "start_time": "2022-02-03T13:36:38.090Z"
   },
   {
    "duration": -1553,
    "start_time": "2022-02-03T13:36:38.093Z"
   },
   {
    "duration": -1553,
    "start_time": "2022-02-03T13:36:38.095Z"
   },
   {
    "duration": -1555,
    "start_time": "2022-02-03T13:36:38.098Z"
   },
   {
    "duration": -1556,
    "start_time": "2022-02-03T13:36:38.100Z"
   },
   {
    "duration": -1556,
    "start_time": "2022-02-03T13:36:38.101Z"
   },
   {
    "duration": -1557,
    "start_time": "2022-02-03T13:36:38.103Z"
   },
   {
    "duration": -1556,
    "start_time": "2022-02-03T13:36:38.104Z"
   },
   {
    "duration": 5,
    "start_time": "2022-02-03T13:36:40.398Z"
   },
   {
    "duration": 5,
    "start_time": "2022-02-03T13:36:41.635Z"
   },
   {
    "duration": 44,
    "start_time": "2022-02-03T13:37:02.638Z"
   },
   {
    "duration": 44,
    "start_time": "2022-02-03T13:37:46.882Z"
   },
   {
    "duration": 82,
    "start_time": "2022-02-03T13:44:04.700Z"
   },
   {
    "duration": 6595,
    "start_time": "2022-02-03T13:44:04.866Z"
   },
   {
    "duration": 82,
    "start_time": "2022-02-03T13:44:51.720Z"
   },
   {
    "duration": 24,
    "start_time": "2022-02-03T13:44:51.804Z"
   },
   {
    "duration": 76,
    "start_time": "2022-02-03T13:44:51.831Z"
   },
   {
    "duration": 4,
    "start_time": "2022-02-03T13:44:51.909Z"
   },
   {
    "duration": 99,
    "start_time": "2022-02-03T13:44:51.914Z"
   },
   {
    "duration": 18,
    "start_time": "2022-02-03T13:44:52.015Z"
   },
   {
    "duration": 20,
    "start_time": "2022-02-03T13:44:52.035Z"
   },
   {
    "duration": 75,
    "start_time": "2022-02-03T13:44:52.057Z"
   },
   {
    "duration": 36,
    "start_time": "2022-02-03T13:44:52.135Z"
   },
   {
    "duration": 44,
    "start_time": "2022-02-03T13:44:52.173Z"
   },
   {
    "duration": 187865,
    "start_time": "2022-02-03T13:44:52.219Z"
   },
   {
    "duration": 1232,
    "start_time": "2022-02-03T13:49:26.305Z"
   },
   {
    "duration": 1309,
    "start_time": "2022-02-03T13:50:28.187Z"
   },
   {
    "duration": 189128,
    "start_time": "2022-02-03T13:51:02.222Z"
   },
   {
    "duration": 32,
    "start_time": "2022-02-03T13:54:11.407Z"
   },
   {
    "duration": 152,
    "start_time": "2022-02-03T14:09:14.175Z"
   },
   {
    "duration": 114,
    "start_time": "2022-02-03T14:09:53.230Z"
   },
   {
    "duration": 174,
    "start_time": "2022-02-03T14:10:06.959Z"
   },
   {
    "duration": 161,
    "start_time": "2022-02-03T14:10:28.022Z"
   },
   {
    "duration": 148,
    "start_time": "2022-02-03T14:10:39.645Z"
   },
   {
    "duration": 157,
    "start_time": "2022-02-03T14:10:50.516Z"
   },
   {
    "duration": 156,
    "start_time": "2022-02-03T14:10:53.385Z"
   },
   {
    "duration": 158,
    "start_time": "2022-02-03T14:10:58.804Z"
   },
   {
    "duration": 156,
    "start_time": "2022-02-03T14:11:02.359Z"
   },
   {
    "duration": 141,
    "start_time": "2022-02-03T14:11:29.837Z"
   },
   {
    "duration": 77,
    "start_time": "2022-02-03T14:21:49.788Z"
   },
   {
    "duration": 93,
    "start_time": "2022-02-03T14:22:47.073Z"
   },
   {
    "duration": 79,
    "start_time": "2022-02-03T14:23:00.136Z"
   },
   {
    "duration": 677,
    "start_time": "2022-02-03T16:29:10.279Z"
   },
   {
    "duration": 20,
    "start_time": "2022-02-03T16:29:15.564Z"
   },
   {
    "duration": 38,
    "start_time": "2022-02-03T16:29:19.545Z"
   },
   {
    "duration": 5,
    "start_time": "2022-02-03T16:29:26.867Z"
   },
   {
    "duration": 64,
    "start_time": "2022-02-03T16:29:28.888Z"
   },
   {
    "duration": 16,
    "start_time": "2022-02-03T16:29:32.855Z"
   },
   {
    "duration": 10,
    "start_time": "2022-02-03T16:29:35.885Z"
   },
   {
    "duration": 43,
    "start_time": "2022-02-03T16:29:40.722Z"
   },
   {
    "duration": 6451,
    "start_time": "2022-02-03T16:32:44.616Z"
   },
   {
    "duration": 1527,
    "start_time": "2022-02-03T16:33:04.529Z"
   },
   {
    "duration": 42,
    "start_time": "2022-02-03T16:33:51.580Z"
   },
   {
    "duration": 1485,
    "start_time": "2022-02-03T16:34:10.664Z"
   },
   {
    "duration": 65903,
    "start_time": "2022-02-03T16:38:24.218Z"
   },
   {
    "duration": 65966,
    "start_time": "2022-02-03T16:39:51.207Z"
   },
   {
    "duration": 43,
    "start_time": "2022-02-03T16:42:06.640Z"
   },
   {
    "duration": 41,
    "start_time": "2022-02-03T16:42:18.000Z"
   },
   {
    "duration": 67,
    "start_time": "2022-02-03T16:46:19.309Z"
   },
   {
    "duration": 18,
    "start_time": "2022-02-03T16:46:19.378Z"
   },
   {
    "duration": 38,
    "start_time": "2022-02-03T16:46:19.398Z"
   },
   {
    "duration": 3,
    "start_time": "2022-02-03T16:46:19.438Z"
   },
   {
    "duration": 91,
    "start_time": "2022-02-03T16:46:19.442Z"
   },
   {
    "duration": 15,
    "start_time": "2022-02-03T16:46:19.534Z"
   },
   {
    "duration": 26,
    "start_time": "2022-02-03T16:46:19.550Z"
   },
   {
    "duration": 65618,
    "start_time": "2022-02-03T16:46:19.578Z"
   },
   {
    "duration": 27,
    "start_time": "2022-02-03T16:47:25.198Z"
   },
   {
    "duration": 21,
    "start_time": "2022-02-03T16:47:25.226Z"
   },
   {
    "duration": 128,
    "start_time": "2022-02-03T16:47:25.272Z"
   },
   {
    "duration": 18,
    "start_time": "2022-02-03T16:47:25.402Z"
   },
   {
    "duration": 46,
    "start_time": "2022-02-03T16:47:49.026Z"
   },
   {
    "duration": 47,
    "start_time": "2022-02-03T16:48:02.949Z"
   },
   {
    "duration": 51,
    "start_time": "2022-02-03T16:49:26.072Z"
   },
   {
    "duration": 23,
    "start_time": "2022-02-03T16:51:00.416Z"
   },
   {
    "duration": 21,
    "start_time": "2022-02-03T16:51:11.033Z"
   },
   {
    "duration": 21,
    "start_time": "2022-02-03T16:56:40.579Z"
   },
   {
    "duration": 33,
    "start_time": "2022-02-03T16:57:21.252Z"
   },
   {
    "duration": 24,
    "start_time": "2022-02-03T16:57:23.834Z"
   },
   {
    "duration": 114,
    "start_time": "2022-02-03T16:57:26.055Z"
   },
   {
    "duration": 83,
    "start_time": "2022-02-03T16:57:39.060Z"
   },
   {
    "duration": 77,
    "start_time": "2022-02-03T17:03:22.431Z"
   },
   {
    "duration": 1038,
    "start_time": "2022-02-12T09:44:45.719Z"
   },
   {
    "duration": 28,
    "start_time": "2022-02-12T09:44:46.759Z"
   },
   {
    "duration": 82,
    "start_time": "2022-02-12T09:44:46.790Z"
   },
   {
    "duration": 4,
    "start_time": "2022-02-12T09:44:46.875Z"
   },
   {
    "duration": 147,
    "start_time": "2022-02-12T09:44:46.882Z"
   },
   {
    "duration": 23,
    "start_time": "2022-02-12T09:44:47.031Z"
   },
   {
    "duration": 17,
    "start_time": "2022-02-12T09:44:47.056Z"
   },
   {
    "duration": 77,
    "start_time": "2022-02-12T09:44:47.076Z"
   },
   {
    "duration": 43,
    "start_time": "2022-02-12T09:44:47.156Z"
   },
   {
    "duration": 60,
    "start_time": "2022-02-12T09:44:47.201Z"
   },
   {
    "duration": 202,
    "start_time": "2022-02-12T09:44:47.263Z"
   },
   {
    "duration": 151,
    "start_time": "2022-02-12T09:44:47.468Z"
   },
   {
    "duration": 10,
    "start_time": "2022-02-12T09:52:29.729Z"
   },
   {
    "duration": 9,
    "start_time": "2022-02-12T09:53:11.599Z"
   },
   {
    "duration": 680,
    "start_time": "2022-02-12T10:40:08.288Z"
   },
   {
    "duration": 21,
    "start_time": "2022-02-12T10:40:16.221Z"
   },
   {
    "duration": 265,
    "start_time": "2022-02-12T10:49:14.021Z"
   },
   {
    "duration": 195,
    "start_time": "2022-02-12T10:49:33.800Z"
   },
   {
    "duration": 68,
    "start_time": "2022-02-12T10:49:43.727Z"
   },
   {
    "duration": 198,
    "start_time": "2022-02-12T10:49:49.660Z"
   },
   {
    "duration": 194,
    "start_time": "2022-02-12T10:50:12.697Z"
   },
   {
    "duration": 22,
    "start_time": "2022-02-12T10:51:10.115Z"
   },
   {
    "duration": 68,
    "start_time": "2022-02-12T10:56:49.574Z"
   },
   {
    "duration": 17,
    "start_time": "2022-02-12T10:57:08.775Z"
   },
   {
    "duration": 68,
    "start_time": "2022-02-12T11:06:25.738Z"
   },
   {
    "duration": 49,
    "start_time": "2022-02-12T11:07:18.862Z"
   },
   {
    "duration": 63,
    "start_time": "2022-02-12T11:08:00.931Z"
   },
   {
    "duration": 59,
    "start_time": "2022-02-12T11:08:02.616Z"
   },
   {
    "duration": 66,
    "start_time": "2022-02-12T11:08:58.331Z"
   },
   {
    "duration": 228,
    "start_time": "2022-02-12T11:09:00.374Z"
   },
   {
    "duration": 72,
    "start_time": "2022-02-12T11:09:52.827Z"
   },
   {
    "duration": 3972,
    "start_time": "2022-02-12T11:12:25.905Z"
   },
   {
    "duration": 64,
    "start_time": "2022-02-12T11:12:35.400Z"
   },
   {
    "duration": 29,
    "start_time": "2022-02-12T11:12:37.898Z"
   },
   {
    "duration": 68,
    "start_time": "2022-02-12T11:13:45.235Z"
   },
   {
    "duration": 19,
    "start_time": "2022-02-12T11:13:46.375Z"
   },
   {
    "duration": 71,
    "start_time": "2022-02-12T11:14:55.394Z"
   },
   {
    "duration": 2343,
    "start_time": "2022-02-12T11:14:57.273Z"
   },
   {
    "duration": 2452,
    "start_time": "2022-02-12T11:15:53.119Z"
   },
   {
    "duration": 2687,
    "start_time": "2022-02-12T11:17:07.776Z"
   },
   {
    "duration": 201,
    "start_time": "2022-02-12T11:18:04.040Z"
   },
   {
    "duration": 3544,
    "start_time": "2022-02-12T11:18:53.901Z"
   },
   {
    "duration": 68,
    "start_time": "2022-02-12T11:19:06.067Z"
   },
   {
    "duration": 29,
    "start_time": "2022-02-12T11:19:07.838Z"
   },
   {
    "duration": 68,
    "start_time": "2022-02-12T11:19:33.619Z"
   },
   {
    "duration": 242,
    "start_time": "2022-02-12T11:19:36.409Z"
   },
   {
    "duration": 70,
    "start_time": "2022-02-12T11:20:38.985Z"
   },
   {
    "duration": 65,
    "start_time": "2022-02-12T11:20:40.427Z"
   },
   {
    "duration": 67,
    "start_time": "2022-02-12T11:21:19.154Z"
   },
   {
    "duration": 66,
    "start_time": "2022-02-12T11:22:13.421Z"
   },
   {
    "duration": 66,
    "start_time": "2022-02-12T11:23:08.802Z"
   },
   {
    "duration": 72,
    "start_time": "2022-02-12T11:23:10.701Z"
   },
   {
    "duration": 69,
    "start_time": "2022-02-12T11:24:03.418Z"
   },
   {
    "duration": 237,
    "start_time": "2022-02-12T11:24:06.345Z"
   },
   {
    "duration": 73,
    "start_time": "2022-02-12T11:24:23.948Z"
   },
   {
    "duration": 48,
    "start_time": "2022-02-12T11:24:25.394Z"
   },
   {
    "duration": 67,
    "start_time": "2022-02-12T11:26:25.056Z"
   },
   {
    "duration": 64,
    "start_time": "2022-02-12T11:26:27.036Z"
   },
   {
    "duration": 67,
    "start_time": "2022-02-12T11:26:44.601Z"
   },
   {
    "duration": 61,
    "start_time": "2022-02-12T11:26:46.794Z"
   },
   {
    "duration": 70,
    "start_time": "2022-02-12T11:29:05.705Z"
   },
   {
    "duration": 18,
    "start_time": "2022-02-12T11:29:07.574Z"
   },
   {
    "duration": 14,
    "start_time": "2022-02-12T11:30:34.311Z"
   },
   {
    "duration": 225,
    "start_time": "2022-02-12T11:31:16.846Z"
   },
   {
    "duration": 67,
    "start_time": "2022-02-12T11:31:42.258Z"
   },
   {
    "duration": 18,
    "start_time": "2022-02-12T11:31:42.327Z"
   },
   {
    "duration": 13,
    "start_time": "2022-02-12T11:31:42.347Z"
   },
   {
    "duration": 23,
    "start_time": "2022-02-12T11:31:44.828Z"
   },
   {
    "duration": 67,
    "start_time": "2022-02-12T11:34:40.043Z"
   },
   {
    "duration": 18,
    "start_time": "2022-02-12T11:34:40.112Z"
   },
   {
    "duration": 15,
    "start_time": "2022-02-12T11:34:40.133Z"
   },
   {
    "duration": 22,
    "start_time": "2022-02-12T11:34:41.584Z"
   },
   {
    "duration": 4,
    "start_time": "2022-02-12T11:35:33.613Z"
   },
   {
    "duration": 67,
    "start_time": "2022-02-12T11:35:41.641Z"
   },
   {
    "duration": 16,
    "start_time": "2022-02-12T11:35:52.484Z"
   },
   {
    "duration": 10,
    "start_time": "2022-02-12T11:36:00.248Z"
   },
   {
    "duration": 25,
    "start_time": "2022-02-12T11:36:12.124Z"
   },
   {
    "duration": 27,
    "start_time": "2022-02-12T11:37:18.538Z"
   },
   {
    "duration": 69,
    "start_time": "2022-02-12T12:22:48.746Z"
   },
   {
    "duration": 17,
    "start_time": "2022-02-12T12:22:48.817Z"
   },
   {
    "duration": 14,
    "start_time": "2022-02-12T12:22:48.836Z"
   },
   {
    "duration": 22,
    "start_time": "2022-02-12T12:22:48.851Z"
   },
   {
    "duration": 4,
    "start_time": "2022-02-12T12:22:48.874Z"
   },
   {
    "duration": 70,
    "start_time": "2022-02-12T12:22:48.912Z"
   },
   {
    "duration": 41,
    "start_time": "2022-02-12T12:22:48.984Z"
   },
   {
    "duration": 11,
    "start_time": "2022-02-12T12:22:49.027Z"
   },
   {
    "duration": 25,
    "start_time": "2022-02-12T12:22:49.040Z"
   },
   {
    "duration": 210,
    "start_time": "2022-02-12T12:22:50.929Z"
   },
   {
    "duration": 69,
    "start_time": "2022-02-12T12:23:41.505Z"
   },
   {
    "duration": 70,
    "start_time": "2022-02-12T12:23:55.966Z"
   },
   {
    "duration": 31,
    "start_time": "2022-02-12T12:24:43.890Z"
   },
   {
    "duration": 39,
    "start_time": "2022-02-12T12:25:03.216Z"
   },
   {
    "duration": 32,
    "start_time": "2022-02-12T12:30:57.128Z"
   },
   {
    "duration": 35,
    "start_time": "2022-02-12T12:34:14.820Z"
   },
   {
    "duration": 221,
    "start_time": "2022-02-12T12:34:27.581Z"
   },
   {
    "duration": 40,
    "start_time": "2022-02-12T12:34:48.387Z"
   },
   {
    "duration": 221,
    "start_time": "2022-02-12T12:40:01.110Z"
   },
   {
    "duration": 34,
    "start_time": "2022-02-12T12:40:22.486Z"
   },
   {
    "duration": 40,
    "start_time": "2022-02-12T12:43:54.987Z"
   },
   {
    "duration": 41,
    "start_time": "2022-02-12T12:46:06.690Z"
   },
   {
    "duration": 225,
    "start_time": "2022-02-12T12:46:51.263Z"
   },
   {
    "duration": 214,
    "start_time": "2022-02-12T12:48:59.075Z"
   },
   {
    "duration": 72,
    "start_time": "2022-02-12T12:49:27.293Z"
   },
   {
    "duration": 209,
    "start_time": "2022-02-12T12:49:32.590Z"
   },
   {
    "duration": 38,
    "start_time": "2022-02-12T12:49:38.934Z"
   },
   {
    "duration": 38,
    "start_time": "2022-02-12T12:49:56.891Z"
   },
   {
    "duration": 43,
    "start_time": "2022-02-12T12:50:38.713Z"
   },
   {
    "duration": 219,
    "start_time": "2022-02-12T12:50:50.010Z"
   },
   {
    "duration": 221,
    "start_time": "2022-02-12T12:51:39.491Z"
   },
   {
    "duration": 216,
    "start_time": "2022-02-12T12:51:48.316Z"
   },
   {
    "duration": 38,
    "start_time": "2022-02-12T12:52:03.217Z"
   },
   {
    "duration": 215,
    "start_time": "2022-02-12T12:52:45.903Z"
   },
   {
    "duration": 34,
    "start_time": "2022-02-12T12:53:46.886Z"
   },
   {
    "duration": 44,
    "start_time": "2022-02-12T12:53:59.709Z"
   },
   {
    "duration": 33,
    "start_time": "2022-02-12T12:54:24.240Z"
   },
   {
    "duration": 38,
    "start_time": "2022-02-12T12:54:44.925Z"
   },
   {
    "duration": 33,
    "start_time": "2022-02-12T12:54:54.490Z"
   },
   {
    "duration": 35,
    "start_time": "2022-02-12T12:57:20.920Z"
   },
   {
    "duration": 218,
    "start_time": "2022-02-12T13:01:23.910Z"
   },
   {
    "duration": 35,
    "start_time": "2022-02-12T13:01:34.450Z"
   },
   {
    "duration": 33,
    "start_time": "2022-02-12T13:01:53.379Z"
   },
   {
    "duration": 749,
    "start_time": "2022-02-12T13:13:15.045Z"
   },
   {
    "duration": 4751,
    "start_time": "2022-02-12T13:13:28.551Z"
   },
   {
    "duration": 34,
    "start_time": "2022-02-12T13:13:39.233Z"
   },
   {
    "duration": 214,
    "start_time": "2022-02-12T13:14:57.968Z"
   },
   {
    "duration": 69,
    "start_time": "2022-02-12T13:15:03.614Z"
   },
   {
    "duration": 34,
    "start_time": "2022-02-12T13:15:03.685Z"
   },
   {
    "duration": 14,
    "start_time": "2022-02-12T13:15:03.722Z"
   },
   {
    "duration": 20,
    "start_time": "2022-02-12T13:15:03.738Z"
   },
   {
    "duration": 4,
    "start_time": "2022-02-12T13:15:03.760Z"
   },
   {
    "duration": 107,
    "start_time": "2022-02-12T13:15:03.765Z"
   },
   {
    "duration": 15,
    "start_time": "2022-02-12T13:15:03.874Z"
   },
   {
    "duration": 23,
    "start_time": "2022-02-12T13:15:03.891Z"
   },
   {
    "duration": 25,
    "start_time": "2022-02-12T13:15:03.916Z"
   },
   {
    "duration": 37,
    "start_time": "2022-02-12T13:15:52.321Z"
   },
   {
    "duration": 35,
    "start_time": "2022-02-12T13:16:22.401Z"
   },
   {
    "duration": 36,
    "start_time": "2022-02-12T13:16:43.832Z"
   },
   {
    "duration": 34,
    "start_time": "2022-02-12T13:17:07.858Z"
   },
   {
    "duration": 33,
    "start_time": "2022-02-12T13:17:19.150Z"
   },
   {
    "duration": 160,
    "start_time": "2022-02-12T13:20:53.815Z"
   },
   {
    "duration": 134,
    "start_time": "2022-02-12T13:21:40.687Z"
   },
   {
    "duration": 97,
    "start_time": "2022-02-12T13:24:12.362Z"
   },
   {
    "duration": 68,
    "start_time": "2022-02-12T13:26:25.247Z"
   },
   {
    "duration": 18,
    "start_time": "2022-02-12T13:26:25.317Z"
   },
   {
    "duration": 15,
    "start_time": "2022-02-12T13:26:25.337Z"
   },
   {
    "duration": 21,
    "start_time": "2022-02-12T13:26:25.354Z"
   },
   {
    "duration": 3,
    "start_time": "2022-02-12T13:26:25.377Z"
   },
   {
    "duration": 69,
    "start_time": "2022-02-12T13:26:25.413Z"
   },
   {
    "duration": 36,
    "start_time": "2022-02-12T13:26:25.484Z"
   },
   {
    "duration": 11,
    "start_time": "2022-02-12T13:26:25.521Z"
   },
   {
    "duration": 24,
    "start_time": "2022-02-12T13:26:25.535Z"
   },
   {
    "duration": 38,
    "start_time": "2022-02-12T13:26:28.100Z"
   },
   {
    "duration": 33,
    "start_time": "2022-02-12T13:26:31.032Z"
   },
   {
    "duration": 134,
    "start_time": "2022-02-12T13:26:37.948Z"
   },
   {
    "duration": 95,
    "start_time": "2022-02-12T13:26:40.723Z"
   },
   {
    "duration": 898,
    "start_time": "2022-02-12T14:07:32.914Z"
   },
   {
    "duration": 27,
    "start_time": "2022-02-12T14:07:33.815Z"
   },
   {
    "duration": 20,
    "start_time": "2022-02-12T14:07:33.845Z"
   },
   {
    "duration": 65,
    "start_time": "2022-02-12T14:07:33.868Z"
   },
   {
    "duration": 5,
    "start_time": "2022-02-12T14:07:33.936Z"
   },
   {
    "duration": 120,
    "start_time": "2022-02-12T14:07:33.944Z"
   },
   {
    "duration": 22,
    "start_time": "2022-02-12T14:07:34.067Z"
   },
   {
    "duration": 43,
    "start_time": "2022-02-12T14:07:34.092Z"
   },
   {
    "duration": 38,
    "start_time": "2022-02-12T14:07:34.138Z"
   },
   {
    "duration": 82,
    "start_time": "2022-02-12T14:07:34.178Z"
   },
   {
    "duration": 67,
    "start_time": "2022-02-12T14:07:34.262Z"
   },
   {
    "duration": 211,
    "start_time": "2022-02-12T14:07:34.332Z"
   },
   {
    "duration": 158,
    "start_time": "2022-02-12T14:07:34.545Z"
   },
   {
    "duration": 30,
    "start_time": "2022-02-12T14:11:31.318Z"
   },
   {
    "duration": 20,
    "start_time": "2022-02-12T14:11:59.746Z"
   },
   {
    "duration": 21,
    "start_time": "2022-02-12T14:12:04.477Z"
   },
   {
    "duration": 20,
    "start_time": "2022-02-12T14:12:25.925Z"
   },
   {
    "duration": 599,
    "start_time": "2022-02-12T14:12:40.899Z"
   },
   {
    "duration": 21,
    "start_time": "2022-02-12T14:12:46.900Z"
   },
   {
    "duration": 14,
    "start_time": "2022-02-12T17:42:52.084Z"
   },
   {
    "duration": 69,
    "start_time": "2022-02-12T17:43:00.219Z"
   },
   {
    "duration": 26,
    "start_time": "2022-02-12T17:43:00.290Z"
   },
   {
    "duration": 14,
    "start_time": "2022-02-12T17:43:00.318Z"
   },
   {
    "duration": 22,
    "start_time": "2022-02-12T17:43:00.334Z"
   },
   {
    "duration": 4,
    "start_time": "2022-02-12T17:43:00.357Z"
   },
   {
    "duration": 103,
    "start_time": "2022-02-12T17:43:00.362Z"
   },
   {
    "duration": 15,
    "start_time": "2022-02-12T17:43:00.467Z"
   },
   {
    "duration": 30,
    "start_time": "2022-02-12T17:43:00.484Z"
   },
   {
    "duration": 32,
    "start_time": "2022-02-12T17:43:00.515Z"
   },
   {
    "duration": 41,
    "start_time": "2022-02-12T17:43:00.549Z"
   },
   {
    "duration": 46,
    "start_time": "2022-02-12T17:43:00.592Z"
   },
   {
    "duration": 143,
    "start_time": "2022-02-12T17:43:00.640Z"
   },
   {
    "duration": 15,
    "start_time": "2022-02-12T17:43:02.563Z"
   },
   {
    "duration": 15,
    "start_time": "2022-02-12T17:43:36.811Z"
   },
   {
    "duration": 13,
    "start_time": "2022-02-12T17:44:12.174Z"
   },
   {
    "duration": 290,
    "start_time": "2022-02-12T18:09:08.617Z"
   },
   {
    "duration": 19,
    "start_time": "2022-02-12T18:09:08.909Z"
   },
   {
    "duration": 14,
    "start_time": "2022-02-12T18:09:08.930Z"
   },
   {
    "duration": 22,
    "start_time": "2022-02-12T18:09:08.946Z"
   },
   {
    "duration": 42,
    "start_time": "2022-02-12T18:09:08.970Z"
   },
   {
    "duration": 70,
    "start_time": "2022-02-12T18:09:09.014Z"
   },
   {
    "duration": 32,
    "start_time": "2022-02-12T18:09:09.086Z"
   },
   {
    "duration": 11,
    "start_time": "2022-02-12T18:09:09.121Z"
   },
   {
    "duration": 24,
    "start_time": "2022-02-12T18:09:09.134Z"
   },
   {
    "duration": 50,
    "start_time": "2022-02-12T18:09:14.958Z"
   },
   {
    "duration": 44,
    "start_time": "2022-02-12T18:09:18.723Z"
   },
   {
    "duration": 133,
    "start_time": "2022-02-12T18:09:21.549Z"
   },
   {
    "duration": 8,
    "start_time": "2022-02-12T18:22:08.825Z"
   },
   {
    "duration": 6,
    "start_time": "2022-02-12T18:22:46.185Z"
   },
   {
    "duration": 74,
    "start_time": "2022-02-12T18:26:26.355Z"
   },
   {
    "duration": 132,
    "start_time": "2022-02-12T18:27:19.145Z"
   },
   {
    "duration": 66,
    "start_time": "2022-02-12T18:28:30.223Z"
   },
   {
    "duration": 71,
    "start_time": "2022-02-12T18:28:45.232Z"
   },
   {
    "duration": 64,
    "start_time": "2022-02-12T18:33:06.777Z"
   },
   {
    "duration": 59,
    "start_time": "2022-02-12T18:37:33.610Z"
   },
   {
    "duration": 17,
    "start_time": "2022-02-12T18:45:06.537Z"
   },
   {
    "duration": 23,
    "start_time": "2022-02-12T18:45:51.429Z"
   },
   {
    "duration": 18,
    "start_time": "2022-02-12T18:46:30.824Z"
   },
   {
    "duration": 74,
    "start_time": "2022-02-12T18:47:24.335Z"
   },
   {
    "duration": 22,
    "start_time": "2022-02-12T18:47:24.412Z"
   },
   {
    "duration": 17,
    "start_time": "2022-02-12T18:47:24.437Z"
   },
   {
    "duration": 64,
    "start_time": "2022-02-12T18:47:24.457Z"
   },
   {
    "duration": 6,
    "start_time": "2022-02-12T18:47:24.524Z"
   },
   {
    "duration": 100,
    "start_time": "2022-02-12T18:47:24.532Z"
   },
   {
    "duration": 19,
    "start_time": "2022-02-12T18:47:24.634Z"
   },
   {
    "duration": 15,
    "start_time": "2022-02-12T18:47:24.657Z"
   },
   {
    "duration": 59,
    "start_time": "2022-02-12T18:47:24.675Z"
   },
   {
    "duration": 38,
    "start_time": "2022-02-12T18:47:24.736Z"
   },
   {
    "duration": 69,
    "start_time": "2022-02-12T18:47:24.775Z"
   },
   {
    "duration": 69,
    "start_time": "2022-02-12T18:47:24.846Z"
   },
   {
    "duration": 14,
    "start_time": "2022-02-12T18:47:24.917Z"
   },
   {
    "duration": 43,
    "start_time": "2022-02-12T18:47:24.933Z"
   },
   {
    "duration": 34,
    "start_time": "2022-02-12T18:47:24.978Z"
   },
   {
    "duration": 685,
    "start_time": "2022-02-13T04:24:37.816Z"
   },
   {
    "duration": 21,
    "start_time": "2022-02-13T04:24:38.503Z"
   },
   {
    "duration": 14,
    "start_time": "2022-02-13T04:24:38.526Z"
   },
   {
    "duration": 20,
    "start_time": "2022-02-13T04:24:38.542Z"
   },
   {
    "duration": 4,
    "start_time": "2022-02-13T04:24:38.563Z"
   },
   {
    "duration": 95,
    "start_time": "2022-02-13T04:24:38.568Z"
   },
   {
    "duration": 14,
    "start_time": "2022-02-13T04:24:38.665Z"
   },
   {
    "duration": 17,
    "start_time": "2022-02-13T04:24:38.681Z"
   },
   {
    "duration": 31,
    "start_time": "2022-02-13T04:24:38.700Z"
   },
   {
    "duration": 38,
    "start_time": "2022-02-13T04:24:38.732Z"
   },
   {
    "duration": 52,
    "start_time": "2022-02-13T04:24:38.772Z"
   },
   {
    "duration": 44,
    "start_time": "2022-02-13T04:24:38.826Z"
   },
   {
    "duration": 13,
    "start_time": "2022-02-13T04:24:38.871Z"
   },
   {
    "duration": 65,
    "start_time": "2022-02-13T04:24:38.886Z"
   },
   {
    "duration": 2,
    "start_time": "2022-02-13T04:24:38.953Z"
   },
   {
    "duration": 14,
    "start_time": "2022-02-13T04:27:28.189Z"
   },
   {
    "duration": 18,
    "start_time": "2022-02-13T04:28:17.583Z"
   },
   {
    "duration": 828,
    "start_time": "2022-02-13T05:54:02.608Z"
   },
   {
    "duration": 22,
    "start_time": "2022-02-13T05:54:03.439Z"
   },
   {
    "duration": 19,
    "start_time": "2022-02-13T05:54:03.464Z"
   },
   {
    "duration": 62,
    "start_time": "2022-02-13T05:54:03.485Z"
   },
   {
    "duration": 5,
    "start_time": "2022-02-13T05:54:03.550Z"
   },
   {
    "duration": 120,
    "start_time": "2022-02-13T05:54:03.557Z"
   },
   {
    "duration": 21,
    "start_time": "2022-02-13T05:54:03.679Z"
   },
   {
    "duration": 36,
    "start_time": "2022-02-13T05:54:03.702Z"
   },
   {
    "duration": 37,
    "start_time": "2022-02-13T05:54:03.742Z"
   },
   {
    "duration": 80,
    "start_time": "2022-02-13T05:54:03.781Z"
   },
   {
    "duration": 48,
    "start_time": "2022-02-13T05:54:03.863Z"
   },
   {
    "duration": 79,
    "start_time": "2022-02-13T05:54:03.913Z"
   },
   {
    "duration": 39,
    "start_time": "2022-02-13T05:54:03.995Z"
   },
   {
    "duration": 57,
    "start_time": "2022-02-13T05:54:04.037Z"
   },
   {
    "duration": 330,
    "start_time": "2022-02-13T05:54:07.430Z"
   },
   {
    "duration": 84,
    "start_time": "2022-02-13T05:55:18.578Z"
   },
   {
    "duration": 24,
    "start_time": "2022-02-13T05:55:24.131Z"
   },
   {
    "duration": 23,
    "start_time": "2022-02-13T05:57:49.491Z"
   },
   {
    "duration": 58,
    "start_time": "2022-02-13T06:03:57.466Z"
   },
   {
    "duration": 58,
    "start_time": "2022-02-13T06:12:17.050Z"
   },
   {
    "duration": 65,
    "start_time": "2022-02-13T06:14:05.898Z"
   },
   {
    "duration": 92,
    "start_time": "2022-02-13T06:15:04.355Z"
   },
   {
    "duration": 78,
    "start_time": "2022-02-13T06:15:57.275Z"
   },
   {
    "duration": 78,
    "start_time": "2022-02-13T06:17:56.121Z"
   },
   {
    "duration": 79,
    "start_time": "2022-02-13T06:18:29.743Z"
   },
   {
    "duration": 81,
    "start_time": "2022-02-13T06:18:57.685Z"
   },
   {
    "duration": 76,
    "start_time": "2022-02-13T06:19:41.112Z"
   },
   {
    "duration": 80,
    "start_time": "2022-02-13T06:19:46.048Z"
   },
   {
    "duration": 26,
    "start_time": "2022-02-13T06:20:32.894Z"
   },
   {
    "duration": 29,
    "start_time": "2022-02-13T06:21:23.218Z"
   },
   {
    "duration": 2,
    "start_time": "2022-02-13T17:23:32.988Z"
   },
   {
    "duration": 765,
    "start_time": "2022-02-13T17:23:50.483Z"
   },
   {
    "duration": 24,
    "start_time": "2022-02-13T17:23:51.250Z"
   },
   {
    "duration": 38,
    "start_time": "2022-02-13T17:23:51.280Z"
   },
   {
    "duration": 34,
    "start_time": "2022-02-13T17:23:51.320Z"
   },
   {
    "duration": 5,
    "start_time": "2022-02-13T17:23:51.356Z"
   },
   {
    "duration": 142,
    "start_time": "2022-02-13T17:23:51.363Z"
   },
   {
    "duration": 29,
    "start_time": "2022-02-13T17:23:51.507Z"
   },
   {
    "duration": 14,
    "start_time": "2022-02-13T17:23:51.539Z"
   },
   {
    "duration": 28,
    "start_time": "2022-02-13T17:23:51.555Z"
   },
   {
    "duration": 58,
    "start_time": "2022-02-13T17:23:51.585Z"
   },
   {
    "duration": 39,
    "start_time": "2022-02-13T17:23:51.644Z"
   },
   {
    "duration": 70,
    "start_time": "2022-02-13T17:23:51.685Z"
   },
   {
    "duration": 15,
    "start_time": "2022-02-13T17:23:51.757Z"
   },
   {
    "duration": 49,
    "start_time": "2022-02-13T17:23:51.774Z"
   },
   {
    "duration": 3,
    "start_time": "2022-02-13T17:23:51.825Z"
   },
   {
    "duration": 21,
    "start_time": "2022-02-13T17:23:51.830Z"
   }
  ],
  "kernelspec": {
   "display_name": "Python 3 (ipykernel)",
   "language": "python",
   "name": "python3"
  },
  "language_info": {
   "codemirror_mode": {
    "name": "ipython",
    "version": 3
   },
   "file_extension": ".py",
   "mimetype": "text/x-python",
   "name": "python",
   "nbconvert_exporter": "python",
   "pygments_lexer": "ipython3",
   "version": "3.9.5"
  },
  "toc": {
   "base_numbering": 1,
   "nav_menu": {},
   "number_sections": true,
   "sideBar": true,
   "skip_h1_title": true,
   "title_cell": "Table of Contents",
   "title_sidebar": "Contents",
   "toc_cell": false,
   "toc_position": {},
   "toc_section_display": true,
   "toc_window_display": false
  }
 },
 "nbformat": 4,
 "nbformat_minor": 5
}
