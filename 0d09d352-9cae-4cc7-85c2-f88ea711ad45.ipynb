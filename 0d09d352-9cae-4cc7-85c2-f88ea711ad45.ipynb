{
 "cells": [
  {
   "cell_type": "markdown",
   "id": "e351011d",
   "metadata": {},
   "source": [
    "<div style=\"border:solid green 2px; padding: 20px\">\n",
    "Александр, привет и хорошего дня! <br>\n",
    "Меня зовут Сергей Дроздов, и я буду проверять твой проект. Предлагаю общаться на «ты». Если тебе удобнее общаться на \"Вы\", просто дай знать.\n",
    "\n",
    "Ты уже проделал(а) большую работу над проектом, но давай сделаем его еще лучше. Ниже ты найдешь мои комментарии - пожалуйста, не перемещай, не изменяй и не удаляй их. Я буду использовать цветовую разметку:\n",
    "\n",
    "<div class=\"alert alert-danger\">\n",
    "<b>Комментарий ментора: &#10060; </b> Так будут выделены комментарии с указаниями, обязательными к выполнению. Без их выполнения проект не будет принят. </div>\n",
    "\n",
    "<div class=\"alert alert-warning\">\n",
    "<b>Комментарий ментора:\n",
    "&#9888;</b> Так будут выделены некритичные замечания. Их отработка позволит улучшить качество твоего проекта.\n",
    "</div>\n",
    "\n",
    "<div class=\"alert alert-success\">\n",
    "<b>Комментарий ментора:\n",
    "&#9989;</b> Так будут выделены остальные комментарии, полезные лайфхаки и ссылки на сторонние ресурсы </div>\n",
    "    <br>\n",
    "<div style=\"border-radius: 15px; border: 3px solid indigo; padding: 15px;background:rgb(185, 176, 207)\">\n",
    "<b>Итоговый комментарий ментора:\n",
    "</b> Так будут выделены итоговые комментарии.\n",
    "</div>\n",
    "\n",
    "Для наиболее эффективной и оперативной работы над проектом, мне хотелось бы иметь обратную связь. Не стесняйся задавать вопросы. Если ты что-либо меняешь в проекте, пожалуйста, комментируй это. Мне будет легче отследить изменения, если ты выделишь свои комментарии:\n",
    "<div class=\"alert alert-info\">\n",
    "<b> Комментарий студента:"
   ]
  },
  {
   "cell_type": "markdown",
   "id": "47e61cd7",
   "metadata": {},
   "source": [
    "# Прогнозирование оттока клиентов оператора связи"
   ]
  },
  {
   "cell_type": "markdown",
   "id": "3483c982",
   "metadata": {},
   "source": [
    "# Описание проекта\n",
    "Оператор связи «ТелеДом» хочет бороться с оттоком клиентов. Для этого его сотрудники начнут предлагать промокоды и специальные условия всем, кто планирует отказаться от услуг связи. Чтобы заранее находить таких пользователей, «ТелеДому» нужна модель, которая будет предсказывать, разорвёт ли абонент договор. Команда оператора собрала персональные данные о некоторых клиентах, информацию об их тарифах и услугах. "
   ]
  },
  {
   "cell_type": "markdown",
   "id": "8d85f270",
   "metadata": {},
   "source": [
    "# Описание услуг\n",
    "Оператор предоставляет два основных типа услуг: <br><br>\n",
    "\n",
    "- Стационарную телефонную связь. Телефон можно подключить к нескольким линиям одновременно.\n",
    "- Интернет. Подключение может быть двух типов: через телефонную линию (DSL, от англ. digital subscriber line — «цифровая абонентская линия») или оптоволоконный кабель (Fiber optic). <br><br>\n",
    "\n",
    "Также доступны такие услуги:<br><br>\n",
    "\n",
    "- Интернет-безопасность: антивирус (DeviceProtection) и блокировка небезопасных сайтов (OnlineSecurity);\n",
    "- Выделенная линия технической поддержки (TechSupport);\n",
    "- Облачное хранилище файлов для резервного копирования данных (OnlineBackup);\n",
    "- Стриминговое телевидение (StreamingTV) и каталог фильмов (StreamingMovies).<br><br>\n",
    "\n",
    "Клиенты могут платить за услуги каждый месяц или заключить договор на 1–2 года. Возможно оплатить счёт разными способами, а также получить электронный чек."
   ]
  },
  {
   "cell_type": "markdown",
   "id": "cd55d822",
   "metadata": {},
   "source": [
    "# Описание данных\n",
    "\n",
    "Данные состоят из нескольких файлов, полученных из разных источников:<br>\n",
    "- `contract_new.csv` — информация о договоре;\n",
    "- `personal_new.csv` — персональные данные клиента;\n",
    "- `internet_new.csv` — информация об интернет-услугах;\n",
    "- `phone_new.csv` — информация об услугах телефонии.<br><br>\n",
    "\n",
    "Во всех файлах столбец `customerID` содержит код клиента. Информация о договорах актуальна на 1 февраля 2020 года."
   ]
  },
  {
   "cell_type": "markdown",
   "id": "920dc30f",
   "metadata": {},
   "source": [
    "## Импорт библиотек"
   ]
  },
  {
   "cell_type": "code",
   "execution_count": 1,
   "id": "3fd6bff8",
   "metadata": {},
   "outputs": [],
   "source": [
    "!pip install phik -q\n",
    "!pip install imblearn -q\n",
    "!pip install shap -q"
   ]
  },
  {
   "cell_type": "code",
   "execution_count": 2,
   "id": "3e023073",
   "metadata": {},
   "outputs": [],
   "source": [
    "# Добавление нужных библиотек:\n",
    "import numpy as np\n",
    "import pandas as pd\n",
    "\n",
    "from sklearn.model_selection import train_test_split, GridSearchCV, RandomizedSearchCV\n",
    "\n",
    "\n",
    "from sklearn.preprocessing import StandardScaler, OneHotEncoder, OrdinalEncoder, MinMaxScaler, LabelEncoder\n",
    "\n",
    "from sklearn.pipeline import Pipeline \n",
    "from imblearn.over_sampling import SMOTE\n",
    "from sklearn.impute import SimpleImputer \n",
    "from sklearn.compose import ColumnTransformer\n",
    "\n",
    "from catboost import CatBoostClassifier \n",
    "from sklearn.tree import DecisionTreeClassifier\n",
    "from sklearn.neighbors import KNeighborsClassifier\n",
    "from sklearn.linear_model import LogisticRegression\n",
    "from catboost import CatBoostClassifier\n",
    "\n",
    "\n",
    "from sklearn.metrics import roc_auc_score, accuracy_score, confusion_matrix, ConfusionMatrixDisplay, roc_curve\n",
    "from sklearn.metrics import make_scorer, precision_score\n",
    "\n",
    "import phik\n",
    "from phik.report import plot_correlation_matrix\n",
    "\n",
    "import seaborn as sns\n",
    "from matplotlib import pyplot as plt\n",
    "from pandas.plotting import scatter_matrix\n",
    "import shap"
   ]
  },
  {
   "cell_type": "markdown",
   "id": "8b461298",
   "metadata": {},
   "source": [
    "## Загрузка данных"
   ]
  },
  {
   "cell_type": "code",
   "execution_count": 3,
   "id": "c56cc09b",
   "metadata": {},
   "outputs": [],
   "source": [
    "contract = pd.read_csv('/datasets/contract_new.csv', index_col=['customerID'],\n",
    "                          parse_dates=['BeginDate', 'EndDate'])\n",
    "personal = pd.read_csv('/datasets/personal_new.csv', index_col='customerID')\n",
    "internet = pd.read_csv('/datasets/internet_new.csv', index_col='customerID')\n",
    "phone = pd.read_csv('/datasets/phone_new.csv', index_col='customerID')"
   ]
  },
  {
   "cell_type": "markdown",
   "id": "6a6bdab1",
   "metadata": {},
   "source": [
    "<div class=\"alert alert-success\">\n",
    "<b>Комментарий ментора:\n",
    "&#9989;</b> Отлично! Данные на базе! </div>"
   ]
  },
  {
   "cell_type": "markdown",
   "id": "71ba20ec",
   "metadata": {},
   "source": [
    "## Предварительный анализ"
   ]
  },
  {
   "cell_type": "markdown",
   "id": "77a83e5f",
   "metadata": {},
   "source": [
    "### contract"
   ]
  },
  {
   "cell_type": "code",
   "execution_count": 4,
   "id": "5a38bf28",
   "metadata": {},
   "outputs": [
    {
     "data": {
      "text/html": [
       "<div>\n",
       "<style scoped>\n",
       "    .dataframe tbody tr th:only-of-type {\n",
       "        vertical-align: middle;\n",
       "    }\n",
       "\n",
       "    .dataframe tbody tr th {\n",
       "        vertical-align: top;\n",
       "    }\n",
       "\n",
       "    .dataframe thead th {\n",
       "        text-align: right;\n",
       "    }\n",
       "</style>\n",
       "<table border=\"1\" class=\"dataframe\">\n",
       "  <thead>\n",
       "    <tr style=\"text-align: right;\">\n",
       "      <th></th>\n",
       "      <th>BeginDate</th>\n",
       "      <th>EndDate</th>\n",
       "      <th>Type</th>\n",
       "      <th>PaperlessBilling</th>\n",
       "      <th>PaymentMethod</th>\n",
       "      <th>MonthlyCharges</th>\n",
       "      <th>TotalCharges</th>\n",
       "    </tr>\n",
       "    <tr>\n",
       "      <th>customerID</th>\n",
       "      <th></th>\n",
       "      <th></th>\n",
       "      <th></th>\n",
       "      <th></th>\n",
       "      <th></th>\n",
       "      <th></th>\n",
       "      <th></th>\n",
       "    </tr>\n",
       "  </thead>\n",
       "  <tbody>\n",
       "    <tr>\n",
       "      <th>7590-VHVEG</th>\n",
       "      <td>2020-01-01</td>\n",
       "      <td>No</td>\n",
       "      <td>Month-to-month</td>\n",
       "      <td>Yes</td>\n",
       "      <td>Electronic check</td>\n",
       "      <td>29.85</td>\n",
       "      <td>31.04</td>\n",
       "    </tr>\n",
       "    <tr>\n",
       "      <th>5575-GNVDE</th>\n",
       "      <td>2017-04-01</td>\n",
       "      <td>No</td>\n",
       "      <td>One year</td>\n",
       "      <td>No</td>\n",
       "      <td>Mailed check</td>\n",
       "      <td>56.95</td>\n",
       "      <td>2071.84</td>\n",
       "    </tr>\n",
       "    <tr>\n",
       "      <th>3668-QPYBK</th>\n",
       "      <td>2019-10-01</td>\n",
       "      <td>No</td>\n",
       "      <td>Month-to-month</td>\n",
       "      <td>Yes</td>\n",
       "      <td>Mailed check</td>\n",
       "      <td>53.85</td>\n",
       "      <td>226.17</td>\n",
       "    </tr>\n",
       "    <tr>\n",
       "      <th>7795-CFOCW</th>\n",
       "      <td>2016-05-01</td>\n",
       "      <td>No</td>\n",
       "      <td>One year</td>\n",
       "      <td>No</td>\n",
       "      <td>Bank transfer (automatic)</td>\n",
       "      <td>42.30</td>\n",
       "      <td>1960.6</td>\n",
       "    </tr>\n",
       "    <tr>\n",
       "      <th>9237-HQITU</th>\n",
       "      <td>2019-09-01</td>\n",
       "      <td>No</td>\n",
       "      <td>Month-to-month</td>\n",
       "      <td>Yes</td>\n",
       "      <td>Electronic check</td>\n",
       "      <td>70.70</td>\n",
       "      <td>353.5</td>\n",
       "    </tr>\n",
       "  </tbody>\n",
       "</table>\n",
       "</div>"
      ],
      "text/plain": [
       "            BeginDate EndDate            Type PaperlessBilling  \\\n",
       "customerID                                                       \n",
       "7590-VHVEG 2020-01-01      No  Month-to-month              Yes   \n",
       "5575-GNVDE 2017-04-01      No        One year               No   \n",
       "3668-QPYBK 2019-10-01      No  Month-to-month              Yes   \n",
       "7795-CFOCW 2016-05-01      No        One year               No   \n",
       "9237-HQITU 2019-09-01      No  Month-to-month              Yes   \n",
       "\n",
       "                        PaymentMethod  MonthlyCharges TotalCharges  \n",
       "customerID                                                          \n",
       "7590-VHVEG           Electronic check           29.85        31.04  \n",
       "5575-GNVDE               Mailed check           56.95      2071.84  \n",
       "3668-QPYBK               Mailed check           53.85       226.17  \n",
       "7795-CFOCW  Bank transfer (automatic)           42.30       1960.6  \n",
       "9237-HQITU           Electronic check           70.70        353.5  "
      ]
     },
     "execution_count": 4,
     "metadata": {},
     "output_type": "execute_result"
    }
   ],
   "source": [
    "contract.head()"
   ]
  },
  {
   "cell_type": "code",
   "execution_count": 5,
   "id": "a408b416",
   "metadata": {},
   "outputs": [
    {
     "name": "stdout",
     "output_type": "stream",
     "text": [
      "<class 'pandas.core.frame.DataFrame'>\n",
      "Index: 7043 entries, 7590-VHVEG to 3186-AJIEK\n",
      "Data columns (total 7 columns):\n",
      " #   Column            Non-Null Count  Dtype         \n",
      "---  ------            --------------  -----         \n",
      " 0   BeginDate         7043 non-null   datetime64[ns]\n",
      " 1   EndDate           7043 non-null   object        \n",
      " 2   Type              7043 non-null   object        \n",
      " 3   PaperlessBilling  7043 non-null   object        \n",
      " 4   PaymentMethod     7043 non-null   object        \n",
      " 5   MonthlyCharges    7043 non-null   float64       \n",
      " 6   TotalCharges      7043 non-null   object        \n",
      "dtypes: datetime64[ns](1), float64(1), object(5)\n",
      "memory usage: 440.2+ KB\n"
     ]
    }
   ],
   "source": [
    "contract.info()"
   ]
  },
  {
   "cell_type": "code",
   "execution_count": 6,
   "id": "72ec67c9",
   "metadata": {
    "scrolled": true
   },
   "outputs": [
    {
     "data": {
      "image/png": "[encoded data removed]",
      "text/plain": [
       "<Figure size 432x432 with 1 Axes>"
      ]
     },
     "metadata": {
      "needs_background": "light"
     },
     "output_type": "display_data"
    }
   ],
   "source": [
    "contract['Type'].hist(figsize=(6,6))\n",
    "plt.title('Тип оплаты');"
   ]
  },
  {
   "cell_type": "markdown",
   "id": "96fa31f2",
   "metadata": {},
   "source": [
    "Чаще всего клиенты выбирают помесячную оплату"
   ]
  },
  {
   "cell_type": "code",
   "execution_count": 7,
   "id": "feb0efe9",
   "metadata": {},
   "outputs": [
    {
     "data": {
      "image/png": "[encoded data removed]",
      "text/plain": [
       "<Figure size 432x432 with 1 Axes>"
      ]
     },
     "metadata": {
      "needs_background": "light"
     },
     "output_type": "display_data"
    }
   ],
   "source": [
    "contract['PaymentMethod'].hist(figsize=(6,6))\n",
    "plt.title('Метод оплаты');"
   ]
  },
  {
   "cell_type": "code",
   "execution_count": 8,
   "id": "cda5db1b",
   "metadata": {
    "scrolled": true
   },
   "outputs": [
    {
     "data": {
      "image/png": "[encoded data removed]",
      "text/plain": [
       "<Figure size 576x576 with 1 Axes>"
      ]
     },
     "metadata": {
      "needs_background": "light"
     },
     "output_type": "display_data"
    }
   ],
   "source": [
    "contract['MonthlyCharges'].hist(bins=50, figsize=(8,8));"
   ]
  },
  {
   "cell_type": "code",
   "execution_count": 9,
   "id": "2d575bd4",
   "metadata": {},
   "outputs": [
    {
     "data": {
      "text/html": [
       "<div>\n",
       "<style scoped>\n",
       "    .dataframe tbody tr th:only-of-type {\n",
       "        vertical-align: middle;\n",
       "    }\n",
       "\n",
       "    .dataframe tbody tr th {\n",
       "        vertical-align: top;\n",
       "    }\n",
       "\n",
       "    .dataframe thead th {\n",
       "        text-align: right;\n",
       "    }\n",
       "</style>\n",
       "<table border=\"1\" class=\"dataframe\">\n",
       "  <thead>\n",
       "    <tr style=\"text-align: right;\">\n",
       "      <th></th>\n",
       "      <th>BeginDate</th>\n",
       "      <th>EndDate</th>\n",
       "      <th>Type</th>\n",
       "      <th>PaperlessBilling</th>\n",
       "      <th>PaymentMethod</th>\n",
       "      <th>MonthlyCharges</th>\n",
       "      <th>TotalCharges</th>\n",
       "    </tr>\n",
       "    <tr>\n",
       "      <th>customerID</th>\n",
       "      <th></th>\n",
       "      <th></th>\n",
       "      <th></th>\n",
       "      <th></th>\n",
       "      <th></th>\n",
       "      <th></th>\n",
       "      <th></th>\n",
       "    </tr>\n",
       "  </thead>\n",
       "  <tbody>\n",
       "    <tr>\n",
       "      <th>4472-LVYGI</th>\n",
       "      <td>2020-02-01</td>\n",
       "      <td>No</td>\n",
       "      <td>Two year</td>\n",
       "      <td>Yes</td>\n",
       "      <td>Bank transfer (automatic)</td>\n",
       "      <td>52.55</td>\n",
       "      <td></td>\n",
       "    </tr>\n",
       "    <tr>\n",
       "      <th>3115-CZMZD</th>\n",
       "      <td>2020-02-01</td>\n",
       "      <td>No</td>\n",
       "      <td>Two year</td>\n",
       "      <td>No</td>\n",
       "      <td>Mailed check</td>\n",
       "      <td>20.25</td>\n",
       "      <td></td>\n",
       "    </tr>\n",
       "    <tr>\n",
       "      <th>5709-LVOEQ</th>\n",
       "      <td>2020-02-01</td>\n",
       "      <td>No</td>\n",
       "      <td>Two year</td>\n",
       "      <td>No</td>\n",
       "      <td>Mailed check</td>\n",
       "      <td>80.85</td>\n",
       "      <td></td>\n",
       "    </tr>\n",
       "    <tr>\n",
       "      <th>4367-NUYAO</th>\n",
       "      <td>2020-02-01</td>\n",
       "      <td>No</td>\n",
       "      <td>Two year</td>\n",
       "      <td>No</td>\n",
       "      <td>Mailed check</td>\n",
       "      <td>25.75</td>\n",
       "      <td></td>\n",
       "    </tr>\n",
       "    <tr>\n",
       "      <th>1371-DWPAZ</th>\n",
       "      <td>2020-02-01</td>\n",
       "      <td>No</td>\n",
       "      <td>Two year</td>\n",
       "      <td>No</td>\n",
       "      <td>Credit card (automatic)</td>\n",
       "      <td>56.05</td>\n",
       "      <td></td>\n",
       "    </tr>\n",
       "    <tr>\n",
       "      <th>7644-OMVMY</th>\n",
       "      <td>2020-02-01</td>\n",
       "      <td>No</td>\n",
       "      <td>Two year</td>\n",
       "      <td>No</td>\n",
       "      <td>Mailed check</td>\n",
       "      <td>19.85</td>\n",
       "      <td></td>\n",
       "    </tr>\n",
       "    <tr>\n",
       "      <th>3213-VVOLG</th>\n",
       "      <td>2020-02-01</td>\n",
       "      <td>No</td>\n",
       "      <td>Two year</td>\n",
       "      <td>No</td>\n",
       "      <td>Mailed check</td>\n",
       "      <td>25.35</td>\n",
       "      <td></td>\n",
       "    </tr>\n",
       "    <tr>\n",
       "      <th>2520-SGTTA</th>\n",
       "      <td>2020-02-01</td>\n",
       "      <td>No</td>\n",
       "      <td>Two year</td>\n",
       "      <td>No</td>\n",
       "      <td>Mailed check</td>\n",
       "      <td>20.00</td>\n",
       "      <td></td>\n",
       "    </tr>\n",
       "    <tr>\n",
       "      <th>2923-ARZLG</th>\n",
       "      <td>2020-02-01</td>\n",
       "      <td>No</td>\n",
       "      <td>One year</td>\n",
       "      <td>Yes</td>\n",
       "      <td>Mailed check</td>\n",
       "      <td>19.70</td>\n",
       "      <td></td>\n",
       "    </tr>\n",
       "    <tr>\n",
       "      <th>4075-WKNIU</th>\n",
       "      <td>2020-02-01</td>\n",
       "      <td>No</td>\n",
       "      <td>Two year</td>\n",
       "      <td>No</td>\n",
       "      <td>Mailed check</td>\n",
       "      <td>73.35</td>\n",
       "      <td></td>\n",
       "    </tr>\n",
       "    <tr>\n",
       "      <th>2775-SEFEE</th>\n",
       "      <td>2020-02-01</td>\n",
       "      <td>No</td>\n",
       "      <td>Two year</td>\n",
       "      <td>Yes</td>\n",
       "      <td>Bank transfer (automatic)</td>\n",
       "      <td>61.90</td>\n",
       "      <td></td>\n",
       "    </tr>\n",
       "  </tbody>\n",
       "</table>\n",
       "</div>"
      ],
      "text/plain": [
       "            BeginDate EndDate      Type PaperlessBilling  \\\n",
       "customerID                                                 \n",
       "4472-LVYGI 2020-02-01      No  Two year              Yes   \n",
       "3115-CZMZD 2020-02-01      No  Two year               No   \n",
       "5709-LVOEQ 2020-02-01      No  Two year               No   \n",
       "4367-NUYAO 2020-02-01      No  Two year               No   \n",
       "1371-DWPAZ 2020-02-01      No  Two year               No   \n",
       "7644-OMVMY 2020-02-01      No  Two year               No   \n",
       "3213-VVOLG 2020-02-01      No  Two year               No   \n",
       "2520-SGTTA 2020-02-01      No  Two year               No   \n",
       "2923-ARZLG 2020-02-01      No  One year              Yes   \n",
       "4075-WKNIU 2020-02-01      No  Two year               No   \n",
       "2775-SEFEE 2020-02-01      No  Two year              Yes   \n",
       "\n",
       "                        PaymentMethod  MonthlyCharges TotalCharges  \n",
       "customerID                                                          \n",
       "4472-LVYGI  Bank transfer (automatic)           52.55               \n",
       "3115-CZMZD               Mailed check           20.25               \n",
       "5709-LVOEQ               Mailed check           80.85               \n",
       "4367-NUYAO               Mailed check           25.75               \n",
       "1371-DWPAZ    Credit card (automatic)           56.05               \n",
       "7644-OMVMY               Mailed check           19.85               \n",
       "3213-VVOLG               Mailed check           25.35               \n",
       "2520-SGTTA               Mailed check           20.00               \n",
       "2923-ARZLG               Mailed check           19.70               \n",
       "4075-WKNIU               Mailed check           73.35               \n",
       "2775-SEFEE  Bank transfer (automatic)           61.90               "
      ]
     },
     "execution_count": 9,
     "metadata": {},
     "output_type": "execute_result"
    }
   ],
   "source": [
    "contract.query('TotalCharges == \" \"')"
   ]
  },
  {
   "cell_type": "code",
   "execution_count": 10,
   "id": "06bfc053",
   "metadata": {},
   "outputs": [],
   "source": [
    "# Пропуски заполню максимальной датой актуальности договоров\n",
    "contract['Churn'] = (contract['EndDate'] != 'No').astype(int)\n",
    "contract['EndDate'] = contract['EndDate'].where(contract['EndDate'] != 'No', '2020-02-01')\n",
    "contract['EndDate'] = pd.to_datetime(contract['EndDate'])\n",
    "\n",
    "contract.loc[contract['TotalCharges'] == \" \", 'TotalCharges'] = 0\n",
    "contract['TotalCharges'] = contract['TotalCharges'].astype(float)"
   ]
  },
  {
   "cell_type": "markdown",
   "id": "cbe2e8d4",
   "metadata": {},
   "source": [
    "<div class=\"alert alert-success\">\n",
    "<b>Комментарий ментора:\n",
    "&#9989;</b> Отлично! Целевой признак определен корректно! С TotalCharges согласен </div>"
   ]
  },
  {
   "cell_type": "markdown",
   "id": "69306266",
   "metadata": {},
   "source": [
    "### personal"
   ]
  },
  {
   "cell_type": "code",
   "execution_count": 11,
   "id": "fa008ebc",
   "metadata": {},
   "outputs": [
    {
     "data": {
      "text/html": [
       "<div>\n",
       "<style scoped>\n",
       "    .dataframe tbody tr th:only-of-type {\n",
       "        vertical-align: middle;\n",
       "    }\n",
       "\n",
       "    .dataframe tbody tr th {\n",
       "        vertical-align: top;\n",
       "    }\n",
       "\n",
       "    .dataframe thead th {\n",
       "        text-align: right;\n",
       "    }\n",
       "</style>\n",
       "<table border=\"1\" class=\"dataframe\">\n",
       "  <thead>\n",
       "    <tr style=\"text-align: right;\">\n",
       "      <th></th>\n",
       "      <th>gender</th>\n",
       "      <th>SeniorCitizen</th>\n",
       "      <th>Partner</th>\n",
       "      <th>Dependents</th>\n",
       "    </tr>\n",
       "    <tr>\n",
       "      <th>customerID</th>\n",
       "      <th></th>\n",
       "      <th></th>\n",
       "      <th></th>\n",
       "      <th></th>\n",
       "    </tr>\n",
       "  </thead>\n",
       "  <tbody>\n",
       "    <tr>\n",
       "      <th>7590-VHVEG</th>\n",
       "      <td>Female</td>\n",
       "      <td>0</td>\n",
       "      <td>Yes</td>\n",
       "      <td>No</td>\n",
       "    </tr>\n",
       "    <tr>\n",
       "      <th>5575-GNVDE</th>\n",
       "      <td>Male</td>\n",
       "      <td>0</td>\n",
       "      <td>No</td>\n",
       "      <td>No</td>\n",
       "    </tr>\n",
       "    <tr>\n",
       "      <th>3668-QPYBK</th>\n",
       "      <td>Male</td>\n",
       "      <td>0</td>\n",
       "      <td>No</td>\n",
       "      <td>No</td>\n",
       "    </tr>\n",
       "    <tr>\n",
       "      <th>7795-CFOCW</th>\n",
       "      <td>Male</td>\n",
       "      <td>0</td>\n",
       "      <td>No</td>\n",
       "      <td>No</td>\n",
       "    </tr>\n",
       "    <tr>\n",
       "      <th>9237-HQITU</th>\n",
       "      <td>Female</td>\n",
       "      <td>0</td>\n",
       "      <td>No</td>\n",
       "      <td>No</td>\n",
       "    </tr>\n",
       "  </tbody>\n",
       "</table>\n",
       "</div>"
      ],
      "text/plain": [
       "            gender  SeniorCitizen Partner Dependents\n",
       "customerID                                          \n",
       "7590-VHVEG  Female              0     Yes         No\n",
       "5575-GNVDE    Male              0      No         No\n",
       "3668-QPYBK    Male              0      No         No\n",
       "7795-CFOCW    Male              0      No         No\n",
       "9237-HQITU  Female              0      No         No"
      ]
     },
     "execution_count": 11,
     "metadata": {},
     "output_type": "execute_result"
    }
   ],
   "source": [
    "personal.head()"
   ]
  },
  {
   "cell_type": "code",
   "execution_count": 12,
   "id": "9cdbd1d4",
   "metadata": {},
   "outputs": [
    {
     "name": "stdout",
     "output_type": "stream",
     "text": [
      "<class 'pandas.core.frame.DataFrame'>\n",
      "Index: 7043 entries, 7590-VHVEG to 3186-AJIEK\n",
      "Data columns (total 4 columns):\n",
      " #   Column         Non-Null Count  Dtype \n",
      "---  ------         --------------  ----- \n",
      " 0   gender         7043 non-null   object\n",
      " 1   SeniorCitizen  7043 non-null   int64 \n",
      " 2   Partner        7043 non-null   object\n",
      " 3   Dependents     7043 non-null   object\n",
      "dtypes: int64(1), object(3)\n",
      "memory usage: 275.1+ KB\n"
     ]
    }
   ],
   "source": [
    "personal.info()"
   ]
  },
  {
   "cell_type": "code",
   "execution_count": 13,
   "id": "a7e401e5",
   "metadata": {},
   "outputs": [
    {
     "data": {
      "image/png": "[encoded data removed]",
      "text/plain": [
       "<Figure size 432x288 with 1 Axes>"
      ]
     },
     "metadata": {
      "needs_background": "light"
     },
     "output_type": "display_data"
    }
   ],
   "source": [
    "personal['gender'].hist()\n",
    "plt.title('Гендер');"
   ]
  },
  {
   "cell_type": "code",
   "execution_count": 14,
   "id": "9935779a",
   "metadata": {},
   "outputs": [
    {
     "data": {
      "image/png": "[encoded data removed]",
      "text/plain": [
       "<Figure size 432x288 with 1 Axes>"
      ]
     },
     "metadata": {
      "needs_background": "light"
     },
     "output_type": "display_data"
    }
   ],
   "source": [
    "personal['SeniorCitizen'].hist()\n",
    "plt.title('Статус пенсионера');"
   ]
  },
  {
   "cell_type": "code",
   "execution_count": 15,
   "id": "7017e29e",
   "metadata": {},
   "outputs": [
    {
     "data": {
      "image/png": "[encoded data removed]",
      "text/plain": [
       "<Figure size 432x288 with 1 Axes>"
      ]
     },
     "metadata": {
      "needs_background": "light"
     },
     "output_type": "display_data"
    }
   ],
   "source": [
    "personal['Partner'].hist()\n",
    "plt.title('Наличие партнера');"
   ]
  },
  {
   "cell_type": "code",
   "execution_count": 16,
   "id": "ee1af4fb",
   "metadata": {},
   "outputs": [
    {
     "data": {
      "image/png": "[encoded data removed]",
      "text/plain": [
       "<Figure size 432x288 with 1 Axes>"
      ]
     },
     "metadata": {
      "needs_background": "light"
     },
     "output_type": "display_data"
    }
   ],
   "source": [
    "personal['Dependents'].hist()\n",
    "plt.title('Наличие детей');"
   ]
  },
  {
   "cell_type": "markdown",
   "id": "3910bb0e",
   "metadata": {},
   "source": [
    "### internet"
   ]
  },
  {
   "cell_type": "code",
   "execution_count": 17,
   "id": "6dd837e6",
   "metadata": {},
   "outputs": [
    {
     "data": {
      "text/html": [
       "<div>\n",
       "<style scoped>\n",
       "    .dataframe tbody tr th:only-of-type {\n",
       "        vertical-align: middle;\n",
       "    }\n",
       "\n",
       "    .dataframe tbody tr th {\n",
       "        vertical-align: top;\n",
       "    }\n",
       "\n",
       "    .dataframe thead th {\n",
       "        text-align: right;\n",
       "    }\n",
       "</style>\n",
       "<table border=\"1\" class=\"dataframe\">\n",
       "  <thead>\n",
       "    <tr style=\"text-align: right;\">\n",
       "      <th></th>\n",
       "      <th>InternetService</th>\n",
       "      <th>OnlineSecurity</th>\n",
       "      <th>OnlineBackup</th>\n",
       "      <th>DeviceProtection</th>\n",
       "      <th>TechSupport</th>\n",
       "      <th>StreamingTV</th>\n",
       "      <th>StreamingMovies</th>\n",
       "    </tr>\n",
       "    <tr>\n",
       "      <th>customerID</th>\n",
       "      <th></th>\n",
       "      <th></th>\n",
       "      <th></th>\n",
       "      <th></th>\n",
       "      <th></th>\n",
       "      <th></th>\n",
       "      <th></th>\n",
       "    </tr>\n",
       "  </thead>\n",
       "  <tbody>\n",
       "    <tr>\n",
       "      <th>7590-VHVEG</th>\n",
       "      <td>DSL</td>\n",
       "      <td>No</td>\n",
       "      <td>Yes</td>\n",
       "      <td>No</td>\n",
       "      <td>No</td>\n",
       "      <td>No</td>\n",
       "      <td>No</td>\n",
       "    </tr>\n",
       "    <tr>\n",
       "      <th>5575-GNVDE</th>\n",
       "      <td>DSL</td>\n",
       "      <td>Yes</td>\n",
       "      <td>No</td>\n",
       "      <td>Yes</td>\n",
       "      <td>No</td>\n",
       "      <td>No</td>\n",
       "      <td>No</td>\n",
       "    </tr>\n",
       "    <tr>\n",
       "      <th>3668-QPYBK</th>\n",
       "      <td>DSL</td>\n",
       "      <td>Yes</td>\n",
       "      <td>Yes</td>\n",
       "      <td>No</td>\n",
       "      <td>No</td>\n",
       "      <td>No</td>\n",
       "      <td>No</td>\n",
       "    </tr>\n",
       "    <tr>\n",
       "      <th>7795-CFOCW</th>\n",
       "      <td>DSL</td>\n",
       "      <td>Yes</td>\n",
       "      <td>No</td>\n",
       "      <td>Yes</td>\n",
       "      <td>Yes</td>\n",
       "      <td>No</td>\n",
       "      <td>No</td>\n",
       "    </tr>\n",
       "    <tr>\n",
       "      <th>9237-HQITU</th>\n",
       "      <td>Fiber optic</td>\n",
       "      <td>No</td>\n",
       "      <td>No</td>\n",
       "      <td>No</td>\n",
       "      <td>No</td>\n",
       "      <td>No</td>\n",
       "      <td>No</td>\n",
       "    </tr>\n",
       "  </tbody>\n",
       "</table>\n",
       "</div>"
      ],
      "text/plain": [
       "           InternetService OnlineSecurity OnlineBackup DeviceProtection  \\\n",
       "customerID                                                                \n",
       "7590-VHVEG             DSL             No          Yes               No   \n",
       "5575-GNVDE             DSL            Yes           No              Yes   \n",
       "3668-QPYBK             DSL            Yes          Yes               No   \n",
       "7795-CFOCW             DSL            Yes           No              Yes   \n",
       "9237-HQITU     Fiber optic             No           No               No   \n",
       "\n",
       "           TechSupport StreamingTV StreamingMovies  \n",
       "customerID                                          \n",
       "7590-VHVEG          No          No              No  \n",
       "5575-GNVDE          No          No              No  \n",
       "3668-QPYBK          No          No              No  \n",
       "7795-CFOCW         Yes          No              No  \n",
       "9237-HQITU          No          No              No  "
      ]
     },
     "execution_count": 17,
     "metadata": {},
     "output_type": "execute_result"
    }
   ],
   "source": [
    "internet.head()"
   ]
  },
  {
   "cell_type": "code",
   "execution_count": 18,
   "id": "e545b404",
   "metadata": {},
   "outputs": [],
   "source": [
    "column_internet_list = list(internet.columns)"
   ]
  },
  {
   "cell_type": "code",
   "execution_count": 19,
   "id": "12d042ee",
   "metadata": {},
   "outputs": [
    {
     "data": {
      "image/png": "[encoded data removed]",
      "text/plain": [
       "<Figure size 432x288 with 1 Axes>"
      ]
     },
     "metadata": {
      "needs_background": "light"
     },
     "output_type": "display_data"
    },
    {
     "data": {
      "image/png": "[encoded data removed]",
      "text/plain": [
       "<Figure size 432x288 with 1 Axes>"
      ]
     },
     "metadata": {
      "needs_background": "light"
     },
     "output_type": "display_data"
    },
    {
     "data": {
      "image/png": "[encoded data removed]",
      "text/plain": [
       "<Figure size 432x288 with 1 Axes>"
      ]
     },
     "metadata": {
      "needs_background": "light"
     },
     "output_type": "display_data"
    },
    {
     "data": {
      "image/png": "[encoded data removed]",
      "text/plain": [
       "<Figure size 432x288 with 1 Axes>"
      ]
     },
     "metadata": {
      "needs_background": "light"
     },
     "output_type": "display_data"
    },
    {
     "data": {
      "image/png": "[encoded data removed]",
      "text/plain": [
       "<Figure size 432x288 with 1 Axes>"
      ]
     },
     "metadata": {
      "needs_background": "light"
     },
     "output_type": "display_data"
    },
    {
     "data": {
      "image/png": "[encoded data removed]",
      "text/plain": [
       "<Figure size 432x288 with 1 Axes>"
      ]
     },
     "metadata": {
      "needs_background": "light"
     },
     "output_type": "display_data"
    },
    {
     "data": {
      "image/png": "[encoded data removed]",
      "text/plain": [
       "<Figure size 432x288 with 1 Axes>"
      ]
     },
     "metadata": {
      "needs_background": "light"
     },
     "output_type": "display_data"
    }
   ],
   "source": [
    "for name in column_internet_list:\n",
    "    internet[name].hist()\n",
    "    plt.title(name)\n",
    "    plt.show()"
   ]
  },
  {
   "cell_type": "markdown",
   "id": "3909e4b0",
   "metadata": {},
   "source": [
    "### phone "
   ]
  },
  {
   "cell_type": "code",
   "execution_count": 20,
   "id": "7af40f5a",
   "metadata": {},
   "outputs": [
    {
     "data": {
      "text/html": [
       "<div>\n",
       "<style scoped>\n",
       "    .dataframe tbody tr th:only-of-type {\n",
       "        vertical-align: middle;\n",
       "    }\n",
       "\n",
       "    .dataframe tbody tr th {\n",
       "        vertical-align: top;\n",
       "    }\n",
       "\n",
       "    .dataframe thead th {\n",
       "        text-align: right;\n",
       "    }\n",
       "</style>\n",
       "<table border=\"1\" class=\"dataframe\">\n",
       "  <thead>\n",
       "    <tr style=\"text-align: right;\">\n",
       "      <th></th>\n",
       "      <th>MultipleLines</th>\n",
       "    </tr>\n",
       "    <tr>\n",
       "      <th>customerID</th>\n",
       "      <th></th>\n",
       "    </tr>\n",
       "  </thead>\n",
       "  <tbody>\n",
       "    <tr>\n",
       "      <th>5575-GNVDE</th>\n",
       "      <td>No</td>\n",
       "    </tr>\n",
       "    <tr>\n",
       "      <th>3668-QPYBK</th>\n",
       "      <td>No</td>\n",
       "    </tr>\n",
       "    <tr>\n",
       "      <th>9237-HQITU</th>\n",
       "      <td>No</td>\n",
       "    </tr>\n",
       "    <tr>\n",
       "      <th>9305-CDSKC</th>\n",
       "      <td>Yes</td>\n",
       "    </tr>\n",
       "    <tr>\n",
       "      <th>1452-KIOVK</th>\n",
       "      <td>Yes</td>\n",
       "    </tr>\n",
       "  </tbody>\n",
       "</table>\n",
       "</div>"
      ],
      "text/plain": [
       "           MultipleLines\n",
       "customerID              \n",
       "5575-GNVDE            No\n",
       "3668-QPYBK            No\n",
       "9237-HQITU            No\n",
       "9305-CDSKC           Yes\n",
       "1452-KIOVK           Yes"
      ]
     },
     "execution_count": 20,
     "metadata": {},
     "output_type": "execute_result"
    }
   ],
   "source": [
    "phone.head()"
   ]
  },
  {
   "cell_type": "code",
   "execution_count": 21,
   "id": "b6d9f881",
   "metadata": {},
   "outputs": [
    {
     "data": {
      "image/png": "[encoded data removed]",
      "text/plain": [
       "<Figure size 432x288 with 1 Axes>"
      ]
     },
     "metadata": {
      "needs_background": "light"
     },
     "output_type": "display_data"
    }
   ],
   "source": [
    "phone['MultipleLines'].hist()\n",
    "plt.title('Возможность для параллельных линий');"
   ]
  },
  {
   "cell_type": "markdown",
   "id": "3b53acf2",
   "metadata": {},
   "source": [
    "### Вывод:\n",
    "1. В столбце TotalCharges были замечены ошибки в данных (символ пробела)\n",
    "2. Для EndDate указана последняя дата актуального действия договоров\n",
    "3. В остальном данные в нужном формате. <br><br>\n",
    "\n",
    "Предварительно от некоторых признаков придется избавиться из-за неинформативности для модели:<br>\n",
    "1. Даты начала и конца действия договора. Из даты конца создал новый признак - ушел клиент или остался.\n",
    "2. Добавим период жизни клиента"
   ]
  },
  {
   "cell_type": "markdown",
   "id": "ed7df7f3",
   "metadata": {},
   "source": [
    "<div class=\"alert alert-success\">\n",
    "<b>Комментарий ментора:\n",
    "&#9989;</b> Отлично!  </div>"
   ]
  },
  {
   "cell_type": "markdown",
   "id": "0928b1bc",
   "metadata": {},
   "source": [
    "## Предобработка "
   ]
  },
  {
   "cell_type": "code",
   "execution_count": 22,
   "id": "8686c1aa",
   "metadata": {},
   "outputs": [],
   "source": [
    "# Период жизни клиента\n",
    "contract['Period'] = (contract['EndDate'] - contract['BeginDate']).dt.days"
   ]
  },
  {
   "cell_type": "markdown",
   "id": "90c1267a",
   "metadata": {},
   "source": [
    "<div class=\"alert alert-success\">\n",
    "<b>Комментарий ментора:\n",
    "&#9989;</b> Отличный признак!  </div>"
   ]
  },
  {
   "cell_type": "code",
   "execution_count": 23,
   "id": "b07405ed",
   "metadata": {},
   "outputs": [],
   "source": [
    "# Добавлю признак пользования конкретными услугами, чтобы идентифицировать перед слиянием данных\n",
    "internet['Internet'] = 1\n",
    "phone['Phone'] = 1"
   ]
  },
  {
   "cell_type": "code",
   "execution_count": 24,
   "id": "ae4db34e",
   "metadata": {},
   "outputs": [],
   "source": [
    "df = contract.copy()\n",
    "df = df.join(personal)\n",
    "df = df.join(internet)\n",
    "df = df.join(phone)"
   ]
  },
  {
   "cell_type": "code",
   "execution_count": 25,
   "id": "65c3049c",
   "metadata": {},
   "outputs": [
    {
     "data": {
      "text/html": [
       "<div>\n",
       "<style scoped>\n",
       "    .dataframe tbody tr th:only-of-type {\n",
       "        vertical-align: middle;\n",
       "    }\n",
       "\n",
       "    .dataframe tbody tr th {\n",
       "        vertical-align: top;\n",
       "    }\n",
       "\n",
       "    .dataframe thead th {\n",
       "        text-align: right;\n",
       "    }\n",
       "</style>\n",
       "<table border=\"1\" class=\"dataframe\">\n",
       "  <thead>\n",
       "    <tr style=\"text-align: right;\">\n",
       "      <th></th>\n",
       "      <th>BeginDate</th>\n",
       "      <th>EndDate</th>\n",
       "      <th>Type</th>\n",
       "      <th>PaperlessBilling</th>\n",
       "      <th>PaymentMethod</th>\n",
       "      <th>MonthlyCharges</th>\n",
       "      <th>TotalCharges</th>\n",
       "      <th>Churn</th>\n",
       "      <th>Period</th>\n",
       "      <th>gender</th>\n",
       "      <th>...</th>\n",
       "      <th>InternetService</th>\n",
       "      <th>OnlineSecurity</th>\n",
       "      <th>OnlineBackup</th>\n",
       "      <th>DeviceProtection</th>\n",
       "      <th>TechSupport</th>\n",
       "      <th>StreamingTV</th>\n",
       "      <th>StreamingMovies</th>\n",
       "      <th>Internet</th>\n",
       "      <th>MultipleLines</th>\n",
       "      <th>Phone</th>\n",
       "    </tr>\n",
       "    <tr>\n",
       "      <th>customerID</th>\n",
       "      <th></th>\n",
       "      <th></th>\n",
       "      <th></th>\n",
       "      <th></th>\n",
       "      <th></th>\n",
       "      <th></th>\n",
       "      <th></th>\n",
       "      <th></th>\n",
       "      <th></th>\n",
       "      <th></th>\n",
       "      <th></th>\n",
       "      <th></th>\n",
       "      <th></th>\n",
       "      <th></th>\n",
       "      <th></th>\n",
       "      <th></th>\n",
       "      <th></th>\n",
       "      <th></th>\n",
       "      <th></th>\n",
       "      <th></th>\n",
       "      <th></th>\n",
       "    </tr>\n",
       "  </thead>\n",
       "  <tbody>\n",
       "    <tr>\n",
       "      <th>7590-VHVEG</th>\n",
       "      <td>2020-01-01</td>\n",
       "      <td>2020-02-01</td>\n",
       "      <td>Month-to-month</td>\n",
       "      <td>Yes</td>\n",
       "      <td>Electronic check</td>\n",
       "      <td>29.85</td>\n",
       "      <td>31.04</td>\n",
       "      <td>0</td>\n",
       "      <td>31</td>\n",
       "      <td>Female</td>\n",
       "      <td>...</td>\n",
       "      <td>DSL</td>\n",
       "      <td>No</td>\n",
       "      <td>Yes</td>\n",
       "      <td>No</td>\n",
       "      <td>No</td>\n",
       "      <td>No</td>\n",
       "      <td>No</td>\n",
       "      <td>1.0</td>\n",
       "      <td>NaN</td>\n",
       "      <td>NaN</td>\n",
       "    </tr>\n",
       "    <tr>\n",
       "      <th>5575-GNVDE</th>\n",
       "      <td>2017-04-01</td>\n",
       "      <td>2020-02-01</td>\n",
       "      <td>One year</td>\n",
       "      <td>No</td>\n",
       "      <td>Mailed check</td>\n",
       "      <td>56.95</td>\n",
       "      <td>2071.84</td>\n",
       "      <td>0</td>\n",
       "      <td>1036</td>\n",
       "      <td>Male</td>\n",
       "      <td>...</td>\n",
       "      <td>DSL</td>\n",
       "      <td>Yes</td>\n",
       "      <td>No</td>\n",
       "      <td>Yes</td>\n",
       "      <td>No</td>\n",
       "      <td>No</td>\n",
       "      <td>No</td>\n",
       "      <td>1.0</td>\n",
       "      <td>No</td>\n",
       "      <td>1.0</td>\n",
       "    </tr>\n",
       "    <tr>\n",
       "      <th>3668-QPYBK</th>\n",
       "      <td>2019-10-01</td>\n",
       "      <td>2020-02-01</td>\n",
       "      <td>Month-to-month</td>\n",
       "      <td>Yes</td>\n",
       "      <td>Mailed check</td>\n",
       "      <td>53.85</td>\n",
       "      <td>226.17</td>\n",
       "      <td>0</td>\n",
       "      <td>123</td>\n",
       "      <td>Male</td>\n",
       "      <td>...</td>\n",
       "      <td>DSL</td>\n",
       "      <td>Yes</td>\n",
       "      <td>Yes</td>\n",
       "      <td>No</td>\n",
       "      <td>No</td>\n",
       "      <td>No</td>\n",
       "      <td>No</td>\n",
       "      <td>1.0</td>\n",
       "      <td>No</td>\n",
       "      <td>1.0</td>\n",
       "    </tr>\n",
       "    <tr>\n",
       "      <th>7795-CFOCW</th>\n",
       "      <td>2016-05-01</td>\n",
       "      <td>2020-02-01</td>\n",
       "      <td>One year</td>\n",
       "      <td>No</td>\n",
       "      <td>Bank transfer (automatic)</td>\n",
       "      <td>42.30</td>\n",
       "      <td>1960.60</td>\n",
       "      <td>0</td>\n",
       "      <td>1371</td>\n",
       "      <td>Male</td>\n",
       "      <td>...</td>\n",
       "      <td>DSL</td>\n",
       "      <td>Yes</td>\n",
       "      <td>No</td>\n",
       "      <td>Yes</td>\n",
       "      <td>Yes</td>\n",
       "      <td>No</td>\n",
       "      <td>No</td>\n",
       "      <td>1.0</td>\n",
       "      <td>NaN</td>\n",
       "      <td>NaN</td>\n",
       "    </tr>\n",
       "    <tr>\n",
       "      <th>9237-HQITU</th>\n",
       "      <td>2019-09-01</td>\n",
       "      <td>2020-02-01</td>\n",
       "      <td>Month-to-month</td>\n",
       "      <td>Yes</td>\n",
       "      <td>Electronic check</td>\n",
       "      <td>70.70</td>\n",
       "      <td>353.50</td>\n",
       "      <td>0</td>\n",
       "      <td>153</td>\n",
       "      <td>Female</td>\n",
       "      <td>...</td>\n",
       "      <td>Fiber optic</td>\n",
       "      <td>No</td>\n",
       "      <td>No</td>\n",
       "      <td>No</td>\n",
       "      <td>No</td>\n",
       "      <td>No</td>\n",
       "      <td>No</td>\n",
       "      <td>1.0</td>\n",
       "      <td>No</td>\n",
       "      <td>1.0</td>\n",
       "    </tr>\n",
       "  </tbody>\n",
       "</table>\n",
       "<p>5 rows × 23 columns</p>\n",
       "</div>"
      ],
      "text/plain": [
       "            BeginDate    EndDate            Type PaperlessBilling  \\\n",
       "customerID                                                          \n",
       "7590-VHVEG 2020-01-01 2020-02-01  Month-to-month              Yes   \n",
       "5575-GNVDE 2017-04-01 2020-02-01        One year               No   \n",
       "3668-QPYBK 2019-10-01 2020-02-01  Month-to-month              Yes   \n",
       "7795-CFOCW 2016-05-01 2020-02-01        One year               No   \n",
       "9237-HQITU 2019-09-01 2020-02-01  Month-to-month              Yes   \n",
       "\n",
       "                        PaymentMethod  MonthlyCharges  TotalCharges  Churn  \\\n",
       "customerID                                                                   \n",
       "7590-VHVEG           Electronic check           29.85         31.04      0   \n",
       "5575-GNVDE               Mailed check           56.95       2071.84      0   \n",
       "3668-QPYBK               Mailed check           53.85        226.17      0   \n",
       "7795-CFOCW  Bank transfer (automatic)           42.30       1960.60      0   \n",
       "9237-HQITU           Electronic check           70.70        353.50      0   \n",
       "\n",
       "            Period  gender  ...  InternetService OnlineSecurity OnlineBackup  \\\n",
       "customerID                  ...                                                \n",
       "7590-VHVEG      31  Female  ...              DSL             No          Yes   \n",
       "5575-GNVDE    1036    Male  ...              DSL            Yes           No   \n",
       "3668-QPYBK     123    Male  ...              DSL            Yes          Yes   \n",
       "7795-CFOCW    1371    Male  ...              DSL            Yes           No   \n",
       "9237-HQITU     153  Female  ...      Fiber optic             No           No   \n",
       "\n",
       "           DeviceProtection TechSupport StreamingTV StreamingMovies Internet  \\\n",
       "customerID                                                                     \n",
       "7590-VHVEG               No          No          No              No      1.0   \n",
       "5575-GNVDE              Yes          No          No              No      1.0   \n",
       "3668-QPYBK               No          No          No              No      1.0   \n",
       "7795-CFOCW              Yes         Yes          No              No      1.0   \n",
       "9237-HQITU               No          No          No              No      1.0   \n",
       "\n",
       "           MultipleLines Phone  \n",
       "customerID                      \n",
       "7590-VHVEG           NaN   NaN  \n",
       "5575-GNVDE            No   1.0  \n",
       "3668-QPYBK            No   1.0  \n",
       "7795-CFOCW           NaN   NaN  \n",
       "9237-HQITU            No   1.0  \n",
       "\n",
       "[5 rows x 23 columns]"
      ]
     },
     "execution_count": 25,
     "metadata": {},
     "output_type": "execute_result"
    }
   ],
   "source": [
    "df.head()"
   ]
  },
  {
   "cell_type": "code",
   "execution_count": 26,
   "id": "8f8a8721",
   "metadata": {},
   "outputs": [
    {
     "data": {
      "text/plain": [
       "BeginDate              0\n",
       "EndDate                0\n",
       "Type                   0\n",
       "PaperlessBilling       0\n",
       "PaymentMethod          0\n",
       "MonthlyCharges         0\n",
       "TotalCharges           0\n",
       "Churn                  0\n",
       "Period                 0\n",
       "gender                 0\n",
       "SeniorCitizen          0\n",
       "Partner                0\n",
       "Dependents             0\n",
       "InternetService     1526\n",
       "OnlineSecurity      1526\n",
       "OnlineBackup        1526\n",
       "DeviceProtection    1526\n",
       "TechSupport         1526\n",
       "StreamingTV         1526\n",
       "StreamingMovies     1526\n",
       "Internet            1526\n",
       "MultipleLines        682\n",
       "Phone                682\n",
       "dtype: int64"
      ]
     },
     "execution_count": 26,
     "metadata": {},
     "output_type": "execute_result"
    }
   ],
   "source": [
    "df.isna().sum()"
   ]
  },
  {
   "cell_type": "code",
   "execution_count": 27,
   "id": "92cda5e3",
   "metadata": {},
   "outputs": [],
   "source": [
    "df['Phone'] = df['Phone'].fillna(0)\n",
    "df = df.fillna('No')"
   ]
  },
  {
   "cell_type": "markdown",
   "id": "31a4fedd",
   "metadata": {},
   "source": [
    "<div class=\"alert alert-success\">\n",
    "<b>Комментарий ментора:\n",
    "&#9989;</b> Хорошо!  </div>"
   ]
  },
  {
   "cell_type": "code",
   "execution_count": 28,
   "id": "1e336bc6",
   "metadata": {},
   "outputs": [
    {
     "name": "stdout",
     "output_type": "stream",
     "text": [
      "<class 'pandas.core.frame.DataFrame'>\n",
      "Index: 7043 entries, 7590-VHVEG to 3186-AJIEK\n",
      "Data columns (total 23 columns):\n",
      " #   Column            Non-Null Count  Dtype         \n",
      "---  ------            --------------  -----         \n",
      " 0   BeginDate         7043 non-null   datetime64[ns]\n",
      " 1   EndDate           7043 non-null   datetime64[ns]\n",
      " 2   Type              7043 non-null   object        \n",
      " 3   PaperlessBilling  7043 non-null   object        \n",
      " 4   PaymentMethod     7043 non-null   object        \n",
      " 5   MonthlyCharges    7043 non-null   float64       \n",
      " 6   TotalCharges      7043 non-null   float64       \n",
      " 7   Churn             7043 non-null   int64         \n",
      " 8   Period            7043 non-null   int64         \n",
      " 9   gender            7043 non-null   object        \n",
      " 10  SeniorCitizen     7043 non-null   int64         \n",
      " 11  Partner           7043 non-null   object        \n",
      " 12  Dependents        7043 non-null   object        \n",
      " 13  InternetService   7043 non-null   object        \n",
      " 14  OnlineSecurity    7043 non-null   object        \n",
      " 15  OnlineBackup      7043 non-null   object        \n",
      " 16  DeviceProtection  7043 non-null   object        \n",
      " 17  TechSupport       7043 non-null   object        \n",
      " 18  StreamingTV       7043 non-null   object        \n",
      " 19  StreamingMovies   7043 non-null   object        \n",
      " 20  Internet          7043 non-null   object        \n",
      " 21  MultipleLines     7043 non-null   object        \n",
      " 22  Phone             7043 non-null   float64       \n",
      "dtypes: datetime64[ns](2), float64(3), int64(3), object(15)\n",
      "memory usage: 1.5+ MB\n"
     ]
    }
   ],
   "source": [
    "df.info()"
   ]
  },
  {
   "cell_type": "code",
   "execution_count": 29,
   "id": "4495beee",
   "metadata": {},
   "outputs": [],
   "source": [
    "# Удаляем все излишки:\n",
    "del df['BeginDate']\n",
    "del df['EndDate'] "
   ]
  },
  {
   "cell_type": "code",
   "execution_count": 30,
   "id": "d3defa61",
   "metadata": {},
   "outputs": [],
   "source": [
    "df['SeniorCitizen'] = df['SeniorCitizen'].astype(str)\n",
    "df['MultipleLines'] = df['MultipleLines'].astype(str)"
   ]
  },
  {
   "cell_type": "markdown",
   "id": "c6faed42",
   "metadata": {},
   "source": [
    "<div class=\"alert alert-success\">\n",
    "<b>Комментарий ментора:\n",
    "&#9989;</b>Хорошее решение! MultipleLines уже имеет тип object, можно было его не трогать\n",
    "</div>"
   ]
  },
  {
   "cell_type": "markdown",
   "id": "873781c1",
   "metadata": {},
   "source": [
    "## Исследовательский анализ"
   ]
  },
  {
   "cell_type": "code",
   "execution_count": 31,
   "id": "97ea0bdc",
   "metadata": {},
   "outputs": [
    {
     "data": {
      "image/png": "[encoded data removed]",
      "text/plain": [
       "<Figure size 432x432 with 1 Axes>"
      ]
     },
     "metadata": {
      "needs_background": "light"
     },
     "output_type": "display_data"
    }
   ],
   "source": [
    "df['Churn'].hist(figsize=(6,6))\n",
    "plt.title('Баланс классов');"
   ]
  },
  {
   "cell_type": "code",
   "execution_count": 32,
   "id": "3589a56a",
   "metadata": {},
   "outputs": [
    {
     "data": {
      "image/png": "[encoded data removed]",
      "text/plain": [
       "<Figure size 432x288 with 1 Axes>"
      ]
     },
     "metadata": {
      "needs_background": "light"
     },
     "output_type": "display_data"
    }
   ],
   "source": [
    "plt.hist([df[df['Churn'] == 1]['MonthlyCharges'], df[df['Churn'] == 0]['MonthlyCharges']], \n",
    "         label=['Ушедшие', 'Оставшиеся'], density=True)\n",
    "plt.legend()\n",
    "plt.title('Ежемесечные платежи')\n",
    "plt.show();"
   ]
  },
  {
   "cell_type": "code",
   "execution_count": 33,
   "id": "4e215ca6",
   "metadata": {},
   "outputs": [],
   "source": [
    "col_list = list(df.columns)\n",
    "col_list.remove('Churn')\n",
    "col_list.remove('Internet')"
   ]
  },
  {
   "cell_type": "code",
   "execution_count": 34,
   "id": "7c09a1ef",
   "metadata": {},
   "outputs": [
    {
     "data": {
      "image/png": "[encoded data removed]",
      "text/plain": [
       "<Figure size 432x288 with 1 Axes>"
      ]
     },
     "metadata": {
      "needs_background": "light"
     },
     "output_type": "display_data"
    },
    {
     "data": {
      "image/png": "[encoded data removed]",
      "text/plain": [
       "<Figure size 432x288 with 1 Axes>"
      ]
     },
     "metadata": {
      "needs_background": "light"
     },
     "output_type": "display_data"
    },
    {
     "data": {
      "image/png": "[encoded data removed]",
      "text/plain": [
       "<Figure size 432x288 with 1 Axes>"
      ]
     },
     "metadata": {
      "needs_background": "light"
     },
     "output_type": "display_data"
    },
    {
     "data": {
      "image/png": "[encoded data removed]",
      "text/plain": [
       "<Figure size 432x288 with 1 Axes>"
      ]
     },
     "metadata": {
      "needs_background": "light"
     },
     "output_type": "display_data"
    },
    {
     "data": {
      "image/png": "[encoded data removed]",
      "text/plain": [
       "<Figure size 432x288 with 1 Axes>"
      ]
     },
     "metadata": {
      "needs_background": "light"
     },
     "output_type": "display_data"
    },
    {
     "data": {
      "image/png": "[encoded data removed]",
      "text/plain": [
       "<Figure size 432x288 with 1 Axes>"
      ]
     },
     "metadata": {
      "needs_background": "light"
     },
     "output_type": "display_data"
    },
    {
     "data": {
      "image/png": "[encoded data removed]",
      "text/plain": [
       "<Figure size 432x288 with 1 Axes>"
      ]
     },
     "metadata": {
      "needs_background": "light"
     },
     "output_type": "display_data"
    },
    {
     "data": {
      "image/png": "[encoded data removed]",
      "text/plain": [
       "<Figure size 432x288 with 1 Axes>"
      ]
     },
     "metadata": {
      "needs_background": "light"
     },
     "output_type": "display_data"
    },
    {
     "data": {
      "image/png": "[encoded data removed]",
      "text/plain": [
       "<Figure size 432x288 with 1 Axes>"
      ]
     },
     "metadata": {
      "needs_background": "light"
     },
     "output_type": "display_data"
    },
    {
     "data": {
      "image/png": "[encoded data removed]",
      "text/plain": [
       "<Figure size 432x288 with 1 Axes>"
      ]
     },
     "metadata": {
      "needs_background": "light"
     },
     "output_type": "display_data"
    },
    {
     "data": {
      "image/png": "[encoded data removed]",
      "text/plain": [
       "<Figure size 432x288 with 1 Axes>"
      ]
     },
     "metadata": {
      "needs_background": "light"
     },
     "output_type": "display_data"
    },
    {
     "data": {
      "image/png": "[encoded data removed]",
      "text/plain": [
       "<Figure size 432x288 with 1 Axes>"
      ]
     },
     "metadata": {
      "needs_background": "light"
     },
     "output_type": "display_data"
    },
    {
     "data": {
      "image/png": "[encoded data removed]",
      "text/plain": [
       "<Figure size 432x288 with 1 Axes>"
      ]
     },
     "metadata": {
      "needs_background": "light"
     },
     "output_type": "display_data"
    },
    {
     "data": {
      "image/png": "[encoded data removed]",
      "text/plain": [
       "<Figure size 432x288 with 1 Axes>"
      ]
     },
     "metadata": {
      "needs_background": "light"
     },
     "output_type": "display_data"
    },
    {
     "data": {
      "image/png": "[encoded data removed]",
      "text/plain": [
       "<Figure size 432x288 with 1 Axes>"
      ]
     },
     "metadata": {
      "needs_background": "light"
     },
     "output_type": "display_data"
    },
    {
     "data": {
      "image/png": "[encoded data removed]",
      "text/plain": [
       "<Figure size 432x288 with 1 Axes>"
      ]
     },
     "metadata": {
      "needs_background": "light"
     },
     "output_type": "display_data"
    },
    {
     "data": {
      "image/png": "[encoded data removed]",
      "text/plain": [
       "<Figure size 432x288 with 1 Axes>"
      ]
     },
     "metadata": {
      "needs_background": "light"
     },
     "output_type": "display_data"
    },
    {
     "data": {
      "image/png": "[encoded data removed]",
      "text/plain": [
       "<Figure size 432x288 with 1 Axes>"
      ]
     },
     "metadata": {
      "needs_background": "light"
     },
     "output_type": "display_data"
    },
    {
     "data": {
      "image/png": "[encoded data removed]",
      "text/plain": [
       "<Figure size 432x288 with 1 Axes>"
      ]
     },
     "metadata": {
      "needs_background": "light"
     },
     "output_type": "display_data"
    }
   ],
   "source": [
    "for name in col_list:\n",
    "    plt.hist([df[df['Churn'] == 1][name], df[df['Churn'] == 0][name]], \n",
    "         label=['Ушедшие', 'Оставшиеся'], density=True)\n",
    "    plt.legend()\n",
    "    plt.title(f'Распределение {name}')\n",
    "    plt.show();"
   ]
  },
  {
   "cell_type": "markdown",
   "id": "18466c05",
   "metadata": {},
   "source": [
    "<div class=\"alert alert-danger\">\n",
    "<b>Комментарий ментора: &#10060; </b> Хорошо, но давай проанализируем все признаки после объединения выборок </div>"
   ]
  },
  {
   "cell_type": "markdown",
   "id": "06a9187b",
   "metadata": {},
   "source": [
    "- Видно что плоность ушедших клиентов больше у клиентов, у которых ежемесечный платеж от 70 до 100\n",
    "- Уход от типа подписки особо не зависит\n",
    "- Меньше всего клиенты уходят при получении чека на почту\n",
    "- Чем меньше общие траты клиента, тем чаще уходят\n",
    "- Чаще отказываются от подписки пользователи Антивируса и облачного хранилища\n",
    "- Пользователи стримингового ТВ чаще отказываются от подписки"
   ]
  },
  {
   "cell_type": "code",
   "execution_count": 35,
   "id": "4a40852d",
   "metadata": {},
   "outputs": [
    {
     "data": {
      "image/png": "[encoded data removed]",
      "text/plain": [
       "<Figure size 864x720 with 2 Axes>"
      ]
     },
     "metadata": {
      "needs_background": "light"
     },
     "output_type": "display_data"
    }
   ],
   "source": [
    "phik_matrix = df.phik_matrix(interval_cols=['MonthlyCharges', 'TotalCharges', 'Period'])\n",
    "phik_matrix.round(2)\n",
    "\n",
    "plot_correlation_matrix(phik_matrix.values, \n",
    "                        x_labels=phik_matrix.columns, \n",
    "                        y_labels=phik_matrix.index, \n",
    "                        vmin=0, vmax=1,\n",
    "                        title=\"Корреляция\", \n",
    "                        fontsize_factor=0.8, \n",
    "                        figsize=(12, 10))\n",
    "plt.tight_layout()\n",
    "plt.show()\n"
   ]
  },
  {
   "cell_type": "markdown",
   "id": "5a3a865d",
   "metadata": {},
   "source": [
    "### Вывод:\n",
    "1. Очень слабая связь с целевым признаком у признаков Phone, gender.\n",
    "2. Слабая связь с MultipleLines, StreamingMovies, StreamingTV, DeviceProtection, OnlineBackup. \n",
    "3. Присутствует дисбаланс классов"
   ]
  },
  {
   "cell_type": "markdown",
   "id": "2e7b5e88",
   "metadata": {},
   "source": [
    "## Подготовка данных к обучению"
   ]
  },
  {
   "cell_type": "markdown",
   "id": "ef79e327",
   "metadata": {},
   "source": [
    "Поиск гиперпараметров лучшей модели буду определять по RandomizedSearchCV. Метрика качества - ROC AUC >= 85%."
   ]
  },
  {
   "cell_type": "code",
   "execution_count": 36,
   "id": "d036ac38",
   "metadata": {},
   "outputs": [],
   "source": [
    "RANDOM_STATE = 240225"
   ]
  },
  {
   "cell_type": "code",
   "execution_count": 37,
   "id": "0cf9cfa8",
   "metadata": {},
   "outputs": [],
   "source": [
    "num_col = ['MonthlyCharges', 'TotalCharges', 'Period']\n",
    "ohe_col = ['Type', 'PaperlessBilling', 'PaymentMethod', 'SeniorCitizen', 'Partner',\n",
    "          'Dependents', 'InternetService', 'OnlineSecurity', 'OnlineBackup',\n",
    "          'DeviceProtection', 'TechSupport', 'StreamingTV', 'StreamingMovies', 'Internet', 'MultipleLines', #'Phone', 'gender'\n",
    "          ]"
   ]
  },
  {
   "cell_type": "markdown",
   "id": "f7e9a7ed",
   "metadata": {},
   "source": [
    "<div class=\"alert alert-success\">\n",
    "<b>Комментарий ментора:\n",
    "&#9989;</b>Отлично!\n",
    "</div>"
   ]
  },
  {
   "cell_type": "code",
   "execution_count": 38,
   "id": "ced5ff45",
   "metadata": {},
   "outputs": [],
   "source": [
    "features = df.drop(['Churn'\n",
    "                    , 'Phone', 'gender'\n",
    "                   ]\n",
    "                    , axis=1)\n",
    "target = df['Churn']"
   ]
  },
  {
   "cell_type": "code",
   "execution_count": 39,
   "id": "bbe057b9",
   "metadata": {},
   "outputs": [],
   "source": [
    "features[ohe_col] = features[ohe_col].astype(str)"
   ]
  },
  {
   "cell_type": "code",
   "execution_count": 40,
   "id": "0cd0c3ad",
   "metadata": {},
   "outputs": [],
   "source": [
    "features_train, features_test, target_train, target_test = train_test_split(features, target,\n",
    "                                                                            test_size = 0.25,\n",
    "                                                                            random_state = RANDOM_STATE)"
   ]
  },
  {
   "cell_type": "code",
   "execution_count": 41,
   "id": "46cc08ce",
   "metadata": {},
   "outputs": [
    {
     "name": "stdout",
     "output_type": "stream",
     "text": [
      "(5282, 18) (5282,) (1761, 18) (1761,)\n"
     ]
    }
   ],
   "source": [
    "print(features_train.shape, target_train.shape,\n",
    "      features_test.shape, target_test.shape)"
   ]
  },
  {
   "cell_type": "code",
   "execution_count": 42,
   "id": "a80125d9",
   "metadata": {},
   "outputs": [
    {
     "name": "stdout",
     "output_type": "stream",
     "text": [
      "<class 'pandas.core.frame.DataFrame'>\n",
      "Index: 5282 entries, 0824-VWDPO to 6128-CZOMY\n",
      "Data columns (total 18 columns):\n",
      " #   Column            Non-Null Count  Dtype  \n",
      "---  ------            --------------  -----  \n",
      " 0   Type              5282 non-null   object \n",
      " 1   PaperlessBilling  5282 non-null   object \n",
      " 2   PaymentMethod     5282 non-null   object \n",
      " 3   MonthlyCharges    5282 non-null   float64\n",
      " 4   TotalCharges      5282 non-null   float64\n",
      " 5   Period            5282 non-null   int64  \n",
      " 6   SeniorCitizen     5282 non-null   object \n",
      " 7   Partner           5282 non-null   object \n",
      " 8   Dependents        5282 non-null   object \n",
      " 9   InternetService   5282 non-null   object \n",
      " 10  OnlineSecurity    5282 non-null   object \n",
      " 11  OnlineBackup      5282 non-null   object \n",
      " 12  DeviceProtection  5282 non-null   object \n",
      " 13  TechSupport       5282 non-null   object \n",
      " 14  StreamingTV       5282 non-null   object \n",
      " 15  StreamingMovies   5282 non-null   object \n",
      " 16  Internet          5282 non-null   object \n",
      " 17  MultipleLines     5282 non-null   object \n",
      "dtypes: float64(2), int64(1), object(15)\n",
      "memory usage: 784.0+ KB\n"
     ]
    }
   ],
   "source": [
    "features_train.info()"
   ]
  },
  {
   "cell_type": "code",
   "execution_count": 43,
   "id": "c6161ad8",
   "metadata": {},
   "outputs": [],
   "source": [
    "#Pipeline для кодирования категориальных признаков\n",
    "ohe_pipe = Pipeline(\n",
    "#     [\n",
    "#         ('simpleImputer_ohe', \n",
    "#          SimpleImputer(missing_values=np.nan, \n",
    "#                        strategy='most_frequent')), \n",
    "#         ('ohe', \n",
    "#          OneHotEncoder(drop='first', \n",
    "#                        handle_unknown='error', \n",
    "#                        sparse_output=False))\n",
    "#     ]\n",
    "# )\n",
    "    [\n",
    "        ('simpleImputer_ordinal', SimpleImputer(strategy='most_frequent')), \n",
    "        ('ordinal', OrdinalEncoder(handle_unknown='use_encoded_value', unknown_value=np.nan))  \n",
    "    ]\n",
    ")"
   ]
  },
  {
   "cell_type": "code",
   "execution_count": 44,
   "id": "12f36ef6",
   "metadata": {},
   "outputs": [],
   "source": [
    "num_pipe = Pipeline([\n",
    "    ('imputer', SimpleImputer(strategy='mean')),\n",
    "    ('scaler', 'passthrough')\n",
    "])"
   ]
  },
  {
   "cell_type": "code",
   "execution_count": 45,
   "id": "67a2a7f1",
   "metadata": {},
   "outputs": [],
   "source": [
    "data_preprocessor = ColumnTransformer(\n",
    "    [\n",
    "        ('ohe', ohe_pipe, ohe_col),\n",
    "        ('num', num_pipe, num_col) \n",
    "    ], \n",
    "    remainder='passthrough'\n",
    ")\n"
   ]
  },
  {
   "cell_type": "code",
   "execution_count": 46,
   "id": "8e319824",
   "metadata": {},
   "outputs": [],
   "source": [
    "# Итоговый Pipeline: подготовка данных и модель\n",
    "pipe_final = Pipeline([\n",
    "    ('preprocessor', data_preprocessor),\n",
    "    ('models', DecisionTreeClassifier(random_state=RANDOM_STATE))\n",
    "])"
   ]
  },
  {
   "cell_type": "code",
   "execution_count": 47,
   "id": "77633c1b",
   "metadata": {},
   "outputs": [],
   "source": [
    "param_grid = {\n",
    "    'preprocessor__num': [StandardScaler(), MinMaxScaler(), 'passthrough'], \n",
    "    'models': [DecisionTreeClassifier(random_state=RANDOM_STATE),\n",
    "               KNeighborsClassifier(),\n",
    "               LogisticRegression(random_state=RANDOM_STATE),\n",
    "              #CatBoostClassifier(random_state = RANDOM_STATE)\n",
    "              ]\n",
    "}"
   ]
  },
  {
   "cell_type": "code",
   "execution_count": 48,
   "id": "47c61138",
   "metadata": {},
   "outputs": [],
   "source": [
    "param_distributions = [\n",
    "    {\n",
    "        'preprocessor__num__scaler': [StandardScaler(), MinMaxScaler(), 'passthrough'],\n",
    "        'models': [DecisionTreeClassifier(random_state=RANDOM_STATE)],\n",
    "        'models__max_depth': list(range(2, 15)),\n",
    "        'models__max_leaf_nodes': list(range(2,15))\n",
    "    },\n",
    "    {\n",
    "        'preprocessor__num__scaler': [StandardScaler(), MinMaxScaler(), 'passthrough'],\n",
    "        'models': [LogisticRegression(random_state=RANDOM_STATE)],\n",
    "        'models__C': [0.1, 1, 10]  \n",
    "    },\n",
    "    {\n",
    "        'preprocessor__num__scaler': [StandardScaler(), MinMaxScaler(), 'passthrough'],\n",
    "        'models': [KNeighborsClassifier()],\n",
    "        'models__n_neighbors': list(range(1, 20))  \n",
    "    },\n",
    "    {\n",
    "        'preprocessor__num__scaler': [StandardScaler(), MinMaxScaler(), 'passthrough'],\n",
    "        'models': [CatBoostClassifier()],\n",
    "        'models__logging_level': [None, 'Silent'],\n",
    "        'models__loss_function': [None, 'Logloss']\n",
    "    },\n",
    "\n",
    "]"
   ]
  },
  {
   "cell_type": "markdown",
   "id": "7d0708b5",
   "metadata": {},
   "source": [
    "## Обучение модели"
   ]
  },
  {
   "cell_type": "code",
   "execution_count": 49,
   "id": "302e684f",
   "metadata": {},
   "outputs": [],
   "source": [
    "rgrid = RandomizedSearchCV(\n",
    "    pipe_final,\n",
    "    param_distributions,\n",
    "    n_iter=30,\n",
    "    cv=5,\n",
    "    scoring='roc_auc',\n",
    "    n_jobs=-1,\n",
    "    random_state=RANDOM_STATE\n",
    ")"
   ]
  },
  {
   "cell_type": "code",
   "execution_count": 50,
   "id": "5c5986d0",
   "metadata": {},
   "outputs": [
    {
     "name": "stdout",
     "output_type": "stream",
     "text": [
      "Лучшая модель и её параметры: {'preprocessor__num__scaler': 'passthrough', 'models__loss_function': 'Logloss', 'models__logging_level': 'Silent', 'models': <catboost.core.CatBoostClassifier object at 0x7fba7c71da90>}\n"
     ]
    }
   ],
   "source": [
    "rgrid.fit(features_train, target_train)\n",
    "\n",
    "#вывод лучшей модели\n",
    "print('Лучшая модель и её параметры:', rgrid.best_params_)"
   ]
  },
  {
   "cell_type": "code",
   "execution_count": 51,
   "id": "ae3efae7",
   "metadata": {},
   "outputs": [
    {
     "name": "stdout",
     "output_type": "stream",
     "text": [
      "Метрика ROC-AUC для лучшей модели: 0.8784\n"
     ]
    }
   ],
   "source": [
    "print('Метрика ROC-AUC для лучшей модели:', round(rgrid.best_score_, 4)) "
   ]
  },
  {
   "cell_type": "markdown",
   "id": "af9663d8",
   "metadata": {},
   "source": [
    "## Тестирование модели"
   ]
  },
  {
   "cell_type": "code",
   "execution_count": 52,
   "id": "3d13ccb3",
   "metadata": {},
   "outputs": [
    {
     "data": {
      "text/html": [
       "<style>#sk-container-id-1 {\n",
       "  /* Definition of color scheme common for light and dark mode */\n",
       "  --sklearn-color-text: #000;\n",
       "  --sklearn-color-text-muted: #666;\n",
       "  --sklearn-color-line: gray;\n",
       "  /* Definition of color scheme for unfitted estimators */\n",
       "  --sklearn-color-unfitted-level-0: #fff5e6;\n",
       "  --sklearn-color-unfitted-level-1: #f6e4d2;\n",
       "  --sklearn-color-unfitted-level-2: #ffe0b3;\n",
       "  --sklearn-color-unfitted-level-3: chocolate;\n",
       "  /* Definition of color scheme for fitted estimators */\n",
       "  --sklearn-color-fitted-level-0: #f0f8ff;\n",
       "  --sklearn-color-fitted-level-1: #d4ebff;\n",
       "  --sklearn-color-fitted-level-2: #b3dbfd;\n",
       "  --sklearn-color-fitted-level-3: cornflowerblue;\n",
       "\n",
       "  /* Specific color for light theme */\n",
       "  --sklearn-color-text-on-default-background: var(--sg-text-color, var(--theme-code-foreground, var(--jp-content-font-color1, black)));\n",
       "  --sklearn-color-background: var(--sg-background-color, var(--theme-background, var(--jp-layout-color0, white)));\n",
       "  --sklearn-color-border-box: var(--sg-text-color, var(--theme-code-foreground, var(--jp-content-font-color1, black)));\n",
       "  --sklearn-color-icon: #696969;\n",
       "\n",
       "  @media (prefers-color-scheme: dark) {\n",
       "    /* Redefinition of color scheme for dark theme */\n",
       "    --sklearn-color-text-on-default-background: var(--sg-text-color, var(--theme-code-foreground, var(--jp-content-font-color1, white)));\n",
       "    --sklearn-color-background: var(--sg-background-color, var(--theme-background, var(--jp-layout-color0, #111)));\n",
       "    --sklearn-color-border-box: var(--sg-text-color, var(--theme-code-foreground, var(--jp-content-font-color1, white)));\n",
       "    --sklearn-color-icon: #878787;\n",
       "  }\n",
       "}\n",
       "\n",
       "#sk-container-id-1 {\n",
       "  color: var(--sklearn-color-text);\n",
       "}\n",
       "\n",
       "#sk-container-id-1 pre {\n",
       "  padding: 0;\n",
       "}\n",
       "\n",
       "#sk-container-id-1 input.sk-hidden--visually {\n",
       "  border: 0;\n",
       "  clip: rect(1px 1px 1px 1px);\n",
       "  clip: rect(1px, 1px, 1px, 1px);\n",
       "  height: 1px;\n",
       "  margin: -1px;\n",
       "  overflow: hidden;\n",
       "  padding: 0;\n",
       "  position: absolute;\n",
       "  width: 1px;\n",
       "}\n",
       "\n",
       "#sk-container-id-1 div.sk-dashed-wrapped {\n",
       "  border: 1px dashed var(--sklearn-color-line);\n",
       "  margin: 0 0.4em 0.5em 0.4em;\n",
       "  box-sizing: border-box;\n",
       "  padding-bottom: 0.4em;\n",
       "  background-color: var(--sklearn-color-background);\n",
       "}\n",
       "\n",
       "#sk-container-id-1 div.sk-container {\n",
       "  /* jupyter's `normalize.less` sets `[hidden] { display: none; }`\n",
       "     but bootstrap.min.css set `[hidden] { display: none !important; }`\n",
       "     so we also need the `!important` here to be able to override the\n",
       "     default hidden behavior on the sphinx rendered scikit-learn.org.\n",
       "     See: https://github.com/scikit-learn/scikit-learn/issues/21755 */\n",
       "  display: inline-block !important;\n",
       "  position: relative;\n",
       "}\n",
       "\n",
       "#sk-container-id-1 div.sk-text-repr-fallback {\n",
       "  display: none;\n",
       "}\n",
       "\n",
       "div.sk-parallel-item,\n",
       "div.sk-serial,\n",
       "div.sk-item {\n",
       "  /* draw centered vertical line to link estimators */\n",
       "  background-image: linear-gradient(var(--sklearn-color-text-on-default-background), var(--sklearn-color-text-on-default-background));\n",
       "  background-size: 2px 100%;\n",
       "  background-repeat: no-repeat;\n",
       "  background-position: center center;\n",
       "}\n",
       "\n",
       "/* Parallel-specific style estimator block */\n",
       "\n",
       "#sk-container-id-1 div.sk-parallel-item::after {\n",
       "  content: \"\";\n",
       "  width: 100%;\n",
       "  border-bottom: 2px solid var(--sklearn-color-text-on-default-background);\n",
       "  flex-grow: 1;\n",
       "}\n",
       "\n",
       "#sk-container-id-1 div.sk-parallel {\n",
       "  display: flex;\n",
       "  align-items: stretch;\n",
       "  justify-content: center;\n",
       "  background-color: var(--sklearn-color-background);\n",
       "  position: relative;\n",
       "}\n",
       "\n",
       "#sk-container-id-1 div.sk-parallel-item {\n",
       "  display: flex;\n",
       "  flex-direction: column;\n",
       "}\n",
       "\n",
       "#sk-container-id-1 div.sk-parallel-item:first-child::after {\n",
       "  align-self: flex-end;\n",
       "  width: 50%;\n",
       "}\n",
       "\n",
       "#sk-container-id-1 div.sk-parallel-item:last-child::after {\n",
       "  align-self: flex-start;\n",
       "  width: 50%;\n",
       "}\n",
       "\n",
       "#sk-container-id-1 div.sk-parallel-item:only-child::after {\n",
       "  width: 0;\n",
       "}\n",
       "\n",
       "/* Serial-specific style estimator block */\n",
       "\n",
       "#sk-container-id-1 div.sk-serial {\n",
       "  display: flex;\n",
       "  flex-direction: column;\n",
       "  align-items: center;\n",
       "  background-color: var(--sklearn-color-background);\n",
       "  padding-right: 1em;\n",
       "  padding-left: 1em;\n",
       "}\n",
       "\n",
       "\n",
       "/* Toggleable style: style used for estimator/Pipeline/ColumnTransformer box that is\n",
       "clickable and can be expanded/collapsed.\n",
       "- Pipeline and ColumnTransformer use this feature and define the default style\n",
       "- Estimators will overwrite some part of the style using the `sk-estimator` class\n",
       "*/\n",
       "\n",
       "/* Pipeline and ColumnTransformer style (default) */\n",
       "\n",
       "#sk-container-id-1 div.sk-toggleable {\n",
       "  /* Default theme specific background. It is overwritten whether we have a\n",
       "  specific estimator or a Pipeline/ColumnTransformer */\n",
       "  background-color: var(--sklearn-color-background);\n",
       "}\n",
       "\n",
       "/* Toggleable label */\n",
       "#sk-container-id-1 label.sk-toggleable__label {\n",
       "  cursor: pointer;\n",
       "  display: flex;\n",
       "  width: 100%;\n",
       "  margin-bottom: 0;\n",
       "  padding: 0.5em;\n",
       "  box-sizing: border-box;\n",
       "  text-align: center;\n",
       "  align-items: start;\n",
       "  justify-content: space-between;\n",
       "  gap: 0.5em;\n",
       "}\n",
       "\n",
       "#sk-container-id-1 label.sk-toggleable__label .caption {\n",
       "  font-size: 0.6rem;\n",
       "  font-weight: lighter;\n",
       "  color: var(--sklearn-color-text-muted);\n",
       "}\n",
       "\n",
       "#sk-container-id-1 label.sk-toggleable__label-arrow:before {\n",
       "  /* Arrow on the left of the label */\n",
       "  content: \"▸\";\n",
       "  float: left;\n",
       "  margin-right: 0.25em;\n",
       "  color: var(--sklearn-color-icon);\n",
       "}\n",
       "\n",
       "#sk-container-id-1 label.sk-toggleable__label-arrow:hover:before {\n",
       "  color: var(--sklearn-color-text);\n",
       "}\n",
       "\n",
       "/* Toggleable content - dropdown */\n",
       "\n",
       "#sk-container-id-1 div.sk-toggleable__content {\n",
       "  max-height: 0;\n",
       "  max-width: 0;\n",
       "  overflow: hidden;\n",
       "  text-align: left;\n",
       "  /* unfitted */\n",
       "  background-color: var(--sklearn-color-unfitted-level-0);\n",
       "}\n",
       "\n",
       "#sk-container-id-1 div.sk-toggleable__content.fitted {\n",
       "  /* fitted */\n",
       "  background-color: var(--sklearn-color-fitted-level-0);\n",
       "}\n",
       "\n",
       "#sk-container-id-1 div.sk-toggleable__content pre {\n",
       "  margin: 0.2em;\n",
       "  border-radius: 0.25em;\n",
       "  color: var(--sklearn-color-text);\n",
       "  /* unfitted */\n",
       "  background-color: var(--sklearn-color-unfitted-level-0);\n",
       "}\n",
       "\n",
       "#sk-container-id-1 div.sk-toggleable__content.fitted pre {\n",
       "  /* unfitted */\n",
       "  background-color: var(--sklearn-color-fitted-level-0);\n",
       "}\n",
       "\n",
       "#sk-container-id-1 input.sk-toggleable__control:checked~div.sk-toggleable__content {\n",
       "  /* Expand drop-down */\n",
       "  max-height: 200px;\n",
       "  max-width: 100%;\n",
       "  overflow: auto;\n",
       "}\n",
       "\n",
       "#sk-container-id-1 input.sk-toggleable__control:checked~label.sk-toggleable__label-arrow:before {\n",
       "  content: \"▾\";\n",
       "}\n",
       "\n",
       "/* Pipeline/ColumnTransformer-specific style */\n",
       "\n",
       "#sk-container-id-1 div.sk-label input.sk-toggleable__control:checked~label.sk-toggleable__label {\n",
       "  color: var(--sklearn-color-text);\n",
       "  background-color: var(--sklearn-color-unfitted-level-2);\n",
       "}\n",
       "\n",
       "#sk-container-id-1 div.sk-label.fitted input.sk-toggleable__control:checked~label.sk-toggleable__label {\n",
       "  background-color: var(--sklearn-color-fitted-level-2);\n",
       "}\n",
       "\n",
       "/* Estimator-specific style */\n",
       "\n",
       "/* Colorize estimator box */\n",
       "#sk-container-id-1 div.sk-estimator input.sk-toggleable__control:checked~label.sk-toggleable__label {\n",
       "  /* unfitted */\n",
       "  background-color: var(--sklearn-color-unfitted-level-2);\n",
       "}\n",
       "\n",
       "#sk-container-id-1 div.sk-estimator.fitted input.sk-toggleable__control:checked~label.sk-toggleable__label {\n",
       "  /* fitted */\n",
       "  background-color: var(--sklearn-color-fitted-level-2);\n",
       "}\n",
       "\n",
       "#sk-container-id-1 div.sk-label label.sk-toggleable__label,\n",
       "#sk-container-id-1 div.sk-label label {\n",
       "  /* The background is the default theme color */\n",
       "  color: var(--sklearn-color-text-on-default-background);\n",
       "}\n",
       "\n",
       "/* On hover, darken the color of the background */\n",
       "#sk-container-id-1 div.sk-label:hover label.sk-toggleable__label {\n",
       "  color: var(--sklearn-color-text);\n",
       "  background-color: var(--sklearn-color-unfitted-level-2);\n",
       "}\n",
       "\n",
       "/* Label box, darken color on hover, fitted */\n",
       "#sk-container-id-1 div.sk-label.fitted:hover label.sk-toggleable__label.fitted {\n",
       "  color: var(--sklearn-color-text);\n",
       "  background-color: var(--sklearn-color-fitted-level-2);\n",
       "}\n",
       "\n",
       "/* Estimator label */\n",
       "\n",
       "#sk-container-id-1 div.sk-label label {\n",
       "  font-family: monospace;\n",
       "  font-weight: bold;\n",
       "  display: inline-block;\n",
       "  line-height: 1.2em;\n",
       "}\n",
       "\n",
       "#sk-container-id-1 div.sk-label-container {\n",
       "  text-align: center;\n",
       "}\n",
       "\n",
       "/* Estimator-specific */\n",
       "#sk-container-id-1 div.sk-estimator {\n",
       "  font-family: monospace;\n",
       "  border: 1px dotted var(--sklearn-color-border-box);\n",
       "  border-radius: 0.25em;\n",
       "  box-sizing: border-box;\n",
       "  margin-bottom: 0.5em;\n",
       "  /* unfitted */\n",
       "  background-color: var(--sklearn-color-unfitted-level-0);\n",
       "}\n",
       "\n",
       "#sk-container-id-1 div.sk-estimator.fitted {\n",
       "  /* fitted */\n",
       "  background-color: var(--sklearn-color-fitted-level-0);\n",
       "}\n",
       "\n",
       "/* on hover */\n",
       "#sk-container-id-1 div.sk-estimator:hover {\n",
       "  /* unfitted */\n",
       "  background-color: var(--sklearn-color-unfitted-level-2);\n",
       "}\n",
       "\n",
       "#sk-container-id-1 div.sk-estimator.fitted:hover {\n",
       "  /* fitted */\n",
       "  background-color: var(--sklearn-color-fitted-level-2);\n",
       "}\n",
       "\n",
       "/* Specification for estimator info (e.g. \"i\" and \"?\") */\n",
       "\n",
       "/* Common style for \"i\" and \"?\" */\n",
       "\n",
       ".sk-estimator-doc-link,\n",
       "a:link.sk-estimator-doc-link,\n",
       "a:visited.sk-estimator-doc-link {\n",
       "  float: right;\n",
       "  font-size: smaller;\n",
       "  line-height: 1em;\n",
       "  font-family: monospace;\n",
       "  background-color: var(--sklearn-color-background);\n",
       "  border-radius: 1em;\n",
       "  height: 1em;\n",
       "  width: 1em;\n",
       "  text-decoration: none !important;\n",
       "  margin-left: 0.5em;\n",
       "  text-align: center;\n",
       "  /* unfitted */\n",
       "  border: var(--sklearn-color-unfitted-level-1) 1pt solid;\n",
       "  color: var(--sklearn-color-unfitted-level-1);\n",
       "}\n",
       "\n",
       ".sk-estimator-doc-link.fitted,\n",
       "a:link.sk-estimator-doc-link.fitted,\n",
       "a:visited.sk-estimator-doc-link.fitted {\n",
       "  /* fitted */\n",
       "  border: var(--sklearn-color-fitted-level-1) 1pt solid;\n",
       "  color: var(--sklearn-color-fitted-level-1);\n",
       "}\n",
       "\n",
       "/* On hover */\n",
       "div.sk-estimator:hover .sk-estimator-doc-link:hover,\n",
       ".sk-estimator-doc-link:hover,\n",
       "div.sk-label-container:hover .sk-estimator-doc-link:hover,\n",
       ".sk-estimator-doc-link:hover {\n",
       "  /* unfitted */\n",
       "  background-color: var(--sklearn-color-unfitted-level-3);\n",
       "  color: var(--sklearn-color-background);\n",
       "  text-decoration: none;\n",
       "}\n",
       "\n",
       "div.sk-estimator.fitted:hover .sk-estimator-doc-link.fitted:hover,\n",
       ".sk-estimator-doc-link.fitted:hover,\n",
       "div.sk-label-container:hover .sk-estimator-doc-link.fitted:hover,\n",
       ".sk-estimator-doc-link.fitted:hover {\n",
       "  /* fitted */\n",
       "  background-color: var(--sklearn-color-fitted-level-3);\n",
       "  color: var(--sklearn-color-background);\n",
       "  text-decoration: none;\n",
       "}\n",
       "\n",
       "/* Span, style for the box shown on hovering the info icon */\n",
       ".sk-estimator-doc-link span {\n",
       "  display: none;\n",
       "  z-index: 9999;\n",
       "  position: relative;\n",
       "  font-weight: normal;\n",
       "  right: .2ex;\n",
       "  padding: .5ex;\n",
       "  margin: .5ex;\n",
       "  width: min-content;\n",
       "  min-width: 20ex;\n",
       "  max-width: 50ex;\n",
       "  color: var(--sklearn-color-text);\n",
       "  box-shadow: 2pt 2pt 4pt #999;\n",
       "  /* unfitted */\n",
       "  background: var(--sklearn-color-unfitted-level-0);\n",
       "  border: .5pt solid var(--sklearn-color-unfitted-level-3);\n",
       "}\n",
       "\n",
       ".sk-estimator-doc-link.fitted span {\n",
       "  /* fitted */\n",
       "  background: var(--sklearn-color-fitted-level-0);\n",
       "  border: var(--sklearn-color-fitted-level-3);\n",
       "}\n",
       "\n",
       ".sk-estimator-doc-link:hover span {\n",
       "  display: block;\n",
       "}\n",
       "\n",
       "/* \"?\"-specific style due to the `<a>` HTML tag */\n",
       "\n",
       "#sk-container-id-1 a.estimator_doc_link {\n",
       "  float: right;\n",
       "  font-size: 1rem;\n",
       "  line-height: 1em;\n",
       "  font-family: monospace;\n",
       "  background-color: var(--sklearn-color-background);\n",
       "  border-radius: 1rem;\n",
       "  height: 1rem;\n",
       "  width: 1rem;\n",
       "  text-decoration: none;\n",
       "  /* unfitted */\n",
       "  color: var(--sklearn-color-unfitted-level-1);\n",
       "  border: var(--sklearn-color-unfitted-level-1) 1pt solid;\n",
       "}\n",
       "\n",
       "#sk-container-id-1 a.estimator_doc_link.fitted {\n",
       "  /* fitted */\n",
       "  border: var(--sklearn-color-fitted-level-1) 1pt solid;\n",
       "  color: var(--sklearn-color-fitted-level-1);\n",
       "}\n",
       "\n",
       "/* On hover */\n",
       "#sk-container-id-1 a.estimator_doc_link:hover {\n",
       "  /* unfitted */\n",
       "  background-color: var(--sklearn-color-unfitted-level-3);\n",
       "  color: var(--sklearn-color-background);\n",
       "  text-decoration: none;\n",
       "}\n",
       "\n",
       "#sk-container-id-1 a.estimator_doc_link.fitted:hover {\n",
       "  /* fitted */\n",
       "  background-color: var(--sklearn-color-fitted-level-3);\n",
       "}\n",
       "</style><div id=\"sk-container-id-1\" class=\"sk-top-container\"><div class=\"sk-text-repr-fallback\"><pre>Pipeline(steps=[(&#x27;preprocessor&#x27;,\n",
       "                 ColumnTransformer(remainder=&#x27;passthrough&#x27;,\n",
       "                                   transformers=[(&#x27;ohe&#x27;,\n",
       "                                                  Pipeline(steps=[(&#x27;simpleImputer_ordinal&#x27;,\n",
       "                                                                   SimpleImputer(strategy=&#x27;most_frequent&#x27;)),\n",
       "                                                                  (&#x27;ordinal&#x27;,\n",
       "                                                                   OrdinalEncoder(handle_unknown=&#x27;use_encoded_value&#x27;,\n",
       "                                                                                  unknown_value=nan))]),\n",
       "                                                  [&#x27;Type&#x27;, &#x27;PaperlessBilling&#x27;,\n",
       "                                                   &#x27;PaymentMethod&#x27;,\n",
       "                                                   &#x27;SeniorCitizen&#x27;, &#x27;Partner&#x27;,\n",
       "                                                   &#x27;Dependents&#x27;,\n",
       "                                                   &#x27;InternetService&#x27;,\n",
       "                                                   &#x27;OnlineSecurity&#x27;,\n",
       "                                                   &#x27;OnlineBackup&#x27;,\n",
       "                                                   &#x27;DeviceProtection&#x27;,\n",
       "                                                   &#x27;TechSupport&#x27;, &#x27;StreamingTV&#x27;,\n",
       "                                                   &#x27;StreamingMovies&#x27;,\n",
       "                                                   &#x27;Internet&#x27;,\n",
       "                                                   &#x27;MultipleLines&#x27;]),\n",
       "                                                 (&#x27;num&#x27;,\n",
       "                                                  Pipeline(steps=[(&#x27;imputer&#x27;,\n",
       "                                                                   SimpleImputer()),\n",
       "                                                                  (&#x27;scaler&#x27;,\n",
       "                                                                   &#x27;passthrough&#x27;)]),\n",
       "                                                  [&#x27;MonthlyCharges&#x27;,\n",
       "                                                   &#x27;TotalCharges&#x27;,\n",
       "                                                   &#x27;Period&#x27;])])),\n",
       "                (&#x27;models&#x27;,\n",
       "                 &lt;catboost.core.CatBoostClassifier object at 0x7fba7c572670&gt;)])</pre><b>In a Jupyter environment, please rerun this cell to show the HTML representation or trust the notebook. <br />On GitHub, the HTML representation is unable to render, please try loading this page with nbviewer.org.</b></div><div class=\"sk-container\" hidden><div class=\"sk-item sk-dashed-wrapped\"><div class=\"sk-label-container\"><div class=\"sk-label fitted sk-toggleable\"><input class=\"sk-toggleable__control sk-hidden--visually\" id=\"sk-estimator-id-1\" type=\"checkbox\" ><label for=\"sk-estimator-id-1\" class=\"sk-toggleable__label fitted sk-toggleable__label-arrow\"><div><div>Pipeline</div></div><div><a class=\"sk-estimator-doc-link fitted\" rel=\"noreferrer\" target=\"_blank\" href=\"https://scikit-learn.org/1.6/modules/generated/sklearn.pipeline.Pipeline.html\">?<span>Documentation for Pipeline</span></a><span class=\"sk-estimator-doc-link fitted\">i<span>Fitted</span></span></div></label><div class=\"sk-toggleable__content fitted\"><pre>Pipeline(steps=[(&#x27;preprocessor&#x27;,\n",
       "                 ColumnTransformer(remainder=&#x27;passthrough&#x27;,\n",
       "                                   transformers=[(&#x27;ohe&#x27;,\n",
       "                                                  Pipeline(steps=[(&#x27;simpleImputer_ordinal&#x27;,\n",
       "                                                                   SimpleImputer(strategy=&#x27;most_frequent&#x27;)),\n",
       "                                                                  (&#x27;ordinal&#x27;,\n",
       "                                                                   OrdinalEncoder(handle_unknown=&#x27;use_encoded_value&#x27;,\n",
       "                                                                                  unknown_value=nan))]),\n",
       "                                                  [&#x27;Type&#x27;, &#x27;PaperlessBilling&#x27;,\n",
       "                                                   &#x27;PaymentMethod&#x27;,\n",
       "                                                   &#x27;SeniorCitizen&#x27;, &#x27;Partner&#x27;,\n",
       "                                                   &#x27;Dependents&#x27;,\n",
       "                                                   &#x27;InternetService&#x27;,\n",
       "                                                   &#x27;OnlineSecurity&#x27;,\n",
       "                                                   &#x27;OnlineBackup&#x27;,\n",
       "                                                   &#x27;DeviceProtection&#x27;,\n",
       "                                                   &#x27;TechSupport&#x27;, &#x27;StreamingTV&#x27;,\n",
       "                                                   &#x27;StreamingMovies&#x27;,\n",
       "                                                   &#x27;Internet&#x27;,\n",
       "                                                   &#x27;MultipleLines&#x27;]),\n",
       "                                                 (&#x27;num&#x27;,\n",
       "                                                  Pipeline(steps=[(&#x27;imputer&#x27;,\n",
       "                                                                   SimpleImputer()),\n",
       "                                                                  (&#x27;scaler&#x27;,\n",
       "                                                                   &#x27;passthrough&#x27;)]),\n",
       "                                                  [&#x27;MonthlyCharges&#x27;,\n",
       "                                                   &#x27;TotalCharges&#x27;,\n",
       "                                                   &#x27;Period&#x27;])])),\n",
       "                (&#x27;models&#x27;,\n",
       "                 &lt;catboost.core.CatBoostClassifier object at 0x7fba7c572670&gt;)])</pre></div> </div></div><div class=\"sk-serial\"><div class=\"sk-item sk-dashed-wrapped\"><div class=\"sk-label-container\"><div class=\"sk-label fitted sk-toggleable\"><input class=\"sk-toggleable__control sk-hidden--visually\" id=\"sk-estimator-id-2\" type=\"checkbox\" ><label for=\"sk-estimator-id-2\" class=\"sk-toggleable__label fitted sk-toggleable__label-arrow\"><div><div>preprocessor: ColumnTransformer</div></div><div><a class=\"sk-estimator-doc-link fitted\" rel=\"noreferrer\" target=\"_blank\" href=\"https://scikit-learn.org/1.6/modules/generated/sklearn.compose.ColumnTransformer.html\">?<span>Documentation for preprocessor: ColumnTransformer</span></a></div></label><div class=\"sk-toggleable__content fitted\"><pre>ColumnTransformer(remainder=&#x27;passthrough&#x27;,\n",
       "                  transformers=[(&#x27;ohe&#x27;,\n",
       "                                 Pipeline(steps=[(&#x27;simpleImputer_ordinal&#x27;,\n",
       "                                                  SimpleImputer(strategy=&#x27;most_frequent&#x27;)),\n",
       "                                                 (&#x27;ordinal&#x27;,\n",
       "                                                  OrdinalEncoder(handle_unknown=&#x27;use_encoded_value&#x27;,\n",
       "                                                                 unknown_value=nan))]),\n",
       "                                 [&#x27;Type&#x27;, &#x27;PaperlessBilling&#x27;, &#x27;PaymentMethod&#x27;,\n",
       "                                  &#x27;SeniorCitizen&#x27;, &#x27;Partner&#x27;, &#x27;Dependents&#x27;,\n",
       "                                  &#x27;InternetService&#x27;, &#x27;OnlineSecurity&#x27;,\n",
       "                                  &#x27;OnlineBackup&#x27;, &#x27;DeviceProtection&#x27;,\n",
       "                                  &#x27;TechSupport&#x27;, &#x27;StreamingTV&#x27;,\n",
       "                                  &#x27;StreamingMovies&#x27;, &#x27;Internet&#x27;,\n",
       "                                  &#x27;MultipleLines&#x27;]),\n",
       "                                (&#x27;num&#x27;,\n",
       "                                 Pipeline(steps=[(&#x27;imputer&#x27;, SimpleImputer()),\n",
       "                                                 (&#x27;scaler&#x27;, &#x27;passthrough&#x27;)]),\n",
       "                                 [&#x27;MonthlyCharges&#x27;, &#x27;TotalCharges&#x27;, &#x27;Period&#x27;])])</pre></div> </div></div><div class=\"sk-parallel\"><div class=\"sk-parallel-item\"><div class=\"sk-item\"><div class=\"sk-label-container\"><div class=\"sk-label fitted sk-toggleable\"><input class=\"sk-toggleable__control sk-hidden--visually\" id=\"sk-estimator-id-3\" type=\"checkbox\" ><label for=\"sk-estimator-id-3\" class=\"sk-toggleable__label fitted sk-toggleable__label-arrow\"><div><div>ohe</div></div></label><div class=\"sk-toggleable__content fitted\"><pre>[&#x27;Type&#x27;, &#x27;PaperlessBilling&#x27;, &#x27;PaymentMethod&#x27;, &#x27;SeniorCitizen&#x27;, &#x27;Partner&#x27;, &#x27;Dependents&#x27;, &#x27;InternetService&#x27;, &#x27;OnlineSecurity&#x27;, &#x27;OnlineBackup&#x27;, &#x27;DeviceProtection&#x27;, &#x27;TechSupport&#x27;, &#x27;StreamingTV&#x27;, &#x27;StreamingMovies&#x27;, &#x27;Internet&#x27;, &#x27;MultipleLines&#x27;]</pre></div> </div></div><div class=\"sk-serial\"><div class=\"sk-item\"><div class=\"sk-serial\"><div class=\"sk-item\"><div class=\"sk-estimator fitted sk-toggleable\"><input class=\"sk-toggleable__control sk-hidden--visually\" id=\"sk-estimator-id-4\" type=\"checkbox\" ><label for=\"sk-estimator-id-4\" class=\"sk-toggleable__label fitted sk-toggleable__label-arrow\"><div><div>SimpleImputer</div></div><div><a class=\"sk-estimator-doc-link fitted\" rel=\"noreferrer\" target=\"_blank\" href=\"https://scikit-learn.org/1.6/modules/generated/sklearn.impute.SimpleImputer.html\">?<span>Documentation for SimpleImputer</span></a></div></label><div class=\"sk-toggleable__content fitted\"><pre>SimpleImputer(strategy=&#x27;most_frequent&#x27;)</pre></div> </div></div><div class=\"sk-item\"><div class=\"sk-estimator fitted sk-toggleable\"><input class=\"sk-toggleable__control sk-hidden--visually\" id=\"sk-estimator-id-5\" type=\"checkbox\" ><label for=\"sk-estimator-id-5\" class=\"sk-toggleable__label fitted sk-toggleable__label-arrow\"><div><div>OrdinalEncoder</div></div><div><a class=\"sk-estimator-doc-link fitted\" rel=\"noreferrer\" target=\"_blank\" href=\"https://scikit-learn.org/1.6/modules/generated/sklearn.preprocessing.OrdinalEncoder.html\">?<span>Documentation for OrdinalEncoder</span></a></div></label><div class=\"sk-toggleable__content fitted\"><pre>OrdinalEncoder(handle_unknown=&#x27;use_encoded_value&#x27;, unknown_value=nan)</pre></div> </div></div></div></div></div></div></div><div class=\"sk-parallel-item\"><div class=\"sk-item\"><div class=\"sk-label-container\"><div class=\"sk-label fitted sk-toggleable\"><input class=\"sk-toggleable__control sk-hidden--visually\" id=\"sk-estimator-id-6\" type=\"checkbox\" ><label for=\"sk-estimator-id-6\" class=\"sk-toggleable__label fitted sk-toggleable__label-arrow\"><div><div>num</div></div></label><div class=\"sk-toggleable__content fitted\"><pre>[&#x27;MonthlyCharges&#x27;, &#x27;TotalCharges&#x27;, &#x27;Period&#x27;]</pre></div> </div></div><div class=\"sk-serial\"><div class=\"sk-item\"><div class=\"sk-serial\"><div class=\"sk-item\"><div class=\"sk-estimator fitted sk-toggleable\"><input class=\"sk-toggleable__control sk-hidden--visually\" id=\"sk-estimator-id-7\" type=\"checkbox\" ><label for=\"sk-estimator-id-7\" class=\"sk-toggleable__label fitted sk-toggleable__label-arrow\"><div><div>SimpleImputer</div></div><div><a class=\"sk-estimator-doc-link fitted\" rel=\"noreferrer\" target=\"_blank\" href=\"https://scikit-learn.org/1.6/modules/generated/sklearn.impute.SimpleImputer.html\">?<span>Documentation for SimpleImputer</span></a></div></label><div class=\"sk-toggleable__content fitted\"><pre>SimpleImputer()</pre></div> </div></div><div class=\"sk-item\"><div class=\"sk-estimator fitted sk-toggleable\"><input class=\"sk-toggleable__control sk-hidden--visually\" id=\"sk-estimator-id-8\" type=\"checkbox\" ><label for=\"sk-estimator-id-8\" class=\"sk-toggleable__label fitted sk-toggleable__label-arrow\"><div><div>passthrough</div></div></label><div class=\"sk-toggleable__content fitted\"><pre>passthrough</pre></div> </div></div></div></div></div></div></div><div class=\"sk-parallel-item\"><div class=\"sk-item\"><div class=\"sk-label-container\"><div class=\"sk-label fitted sk-toggleable\"><input class=\"sk-toggleable__control sk-hidden--visually\" id=\"sk-estimator-id-9\" type=\"checkbox\" ><label for=\"sk-estimator-id-9\" class=\"sk-toggleable__label fitted sk-toggleable__label-arrow\"><div><div>remainder</div></div></label><div class=\"sk-toggleable__content fitted\"><pre>[]</pre></div> </div></div><div class=\"sk-serial\"><div class=\"sk-item\"><div class=\"sk-estimator fitted sk-toggleable\"><input class=\"sk-toggleable__control sk-hidden--visually\" id=\"sk-estimator-id-10\" type=\"checkbox\" ><label for=\"sk-estimator-id-10\" class=\"sk-toggleable__label fitted sk-toggleable__label-arrow\"><div><div>passthrough</div></div></label><div class=\"sk-toggleable__content fitted\"><pre>passthrough</pre></div> </div></div></div></div></div></div></div><div class=\"sk-item\"><div class=\"sk-estimator fitted sk-toggleable\"><input class=\"sk-toggleable__control sk-hidden--visually\" id=\"sk-estimator-id-11\" type=\"checkbox\" ><label for=\"sk-estimator-id-11\" class=\"sk-toggleable__label fitted sk-toggleable__label-arrow\"><div><div>CatBoostClassifier</div></div></label><div class=\"sk-toggleable__content fitted\"><pre>&lt;catboost.core.CatBoostClassifier object at 0x7fba7c572670&gt;</pre></div> </div></div></div></div></div></div>"
      ],
      "text/plain": [
       "Pipeline(steps=[('preprocessor',\n",
       "                 ColumnTransformer(remainder='passthrough',\n",
       "                                   transformers=[('ohe',\n",
       "                                                  Pipeline(steps=[('simpleImputer_ordinal',\n",
       "                                                                   SimpleImputer(strategy='most_frequent')),\n",
       "                                                                  ('ordinal',\n",
       "                                                                   OrdinalEncoder(handle_unknown='use_encoded_value',\n",
       "                                                                                  unknown_value=nan))]),\n",
       "                                                  ['Type', 'PaperlessBilling',\n",
       "                                                   'PaymentMethod',\n",
       "                                                   'SeniorCitizen', 'Partner',\n",
       "                                                   'Dependents',\n",
       "                                                   'InternetService',\n",
       "                                                   'OnlineSecurity',\n",
       "                                                   'OnlineBackup',\n",
       "                                                   'DeviceProtection',\n",
       "                                                   'TechSupport', 'StreamingTV',\n",
       "                                                   'StreamingMovies',\n",
       "                                                   'Internet',\n",
       "                                                   'MultipleLines']),\n",
       "                                                 ('num',\n",
       "                                                  Pipeline(steps=[('imputer',\n",
       "                                                                   SimpleImputer()),\n",
       "                                                                  ('scaler',\n",
       "                                                                   'passthrough')]),\n",
       "                                                  ['MonthlyCharges',\n",
       "                                                   'TotalCharges',\n",
       "                                                   'Period'])])),\n",
       "                ('models',\n",
       "                 <catboost.core.CatBoostClassifier object at 0x7fba7c572670>)])"
      ]
     },
     "execution_count": 52,
     "metadata": {},
     "output_type": "execute_result"
    }
   ],
   "source": [
    "rgrid.best_estimator_"
   ]
  },
  {
   "cell_type": "code",
   "execution_count": 53,
   "id": "7f322647",
   "metadata": {},
   "outputs": [],
   "source": [
    "predictions = rgrid.best_estimator_.predict(features_test)"
   ]
  },
  {
   "cell_type": "code",
   "execution_count": 54,
   "id": "e67a685b",
   "metadata": {},
   "outputs": [],
   "source": [
    "y_pred_proba = rgrid.best_estimator_.predict_proba(features_test)[:, 1]"
   ]
  },
  {
   "cell_type": "code",
   "execution_count": 55,
   "id": "b2a57ae5",
   "metadata": {},
   "outputs": [
    {
     "name": "stdout",
     "output_type": "stream",
     "text": [
      "AUC-ROC на тестовом наборе данных: 0.9059\n"
     ]
    }
   ],
   "source": [
    "# Вычисляем ROC_AUC на тесте:\n",
    "roc_auc = roc_auc_score(target_test, y_pred_proba)\n",
    "print('AUC-ROC на тестовом наборе данных:', round(roc_auc, 4))"
   ]
  },
  {
   "cell_type": "code",
   "execution_count": 56,
   "id": "d03ca570",
   "metadata": {},
   "outputs": [
    {
     "data": {
      "image/png": "[encoded data removed]",
      "text/plain": [
       "<Figure size 720x720 with 2 Axes>"
      ]
     },
     "metadata": {
      "needs_background": "light"
     },
     "output_type": "display_data"
    }
   ],
   "source": [
    "# Матрица ошибок:\n",
    "cm = confusion_matrix(target_test, predictions)\n",
    "cm_data = pd.DataFrame(cm, index=['0', '1'], columns=['0', '1'])\n",
    "\n",
    "plt.figure(figsize=(10, 10))\n",
    "sns.heatmap(cm, xticklabels=cm_data.columns, yticklabels=cm_data.index, annot=True, fmt='g', annot_kws={\"size\": 16})\n",
    "plt.title(\"Матрица ошибок\", size=18)\n",
    "plt.xlabel('predictions', size=18)\n",
    "plt.ylabel('target', size=18);"
   ]
  },
  {
   "cell_type": "code",
   "execution_count": 57,
   "id": "93b347a7",
   "metadata": {},
   "outputs": [],
   "source": [
    "best_model = rgrid.best_estimator_"
   ]
  },
  {
   "cell_type": "code",
   "execution_count": 58,
   "id": "5e1e9cae",
   "metadata": {},
   "outputs": [
    {
     "name": "stdout",
     "output_type": "stream",
     "text": [
      "Важности признаков:\n",
      "                  Feature  Importance\n",
      "17            num__Period   41.293796\n",
      "0               ohe__Type   10.153007\n",
      "16      num__TotalCharges    8.933757\n",
      "15    num__MonthlyCharges    8.651946\n",
      "2      ohe__PaymentMethod    5.294962\n",
      "4            ohe__Partner    4.380876\n",
      "14     ohe__MultipleLines    3.573956\n",
      "6    ohe__InternetService    3.378388\n",
      "1   ohe__PaperlessBilling    2.251696\n",
      "8       ohe__OnlineBackup    2.155645\n",
      "12   ohe__StreamingMovies    1.792278\n",
      "5         ohe__Dependents    1.635152\n",
      "3      ohe__SeniorCitizen    1.540185\n",
      "7     ohe__OnlineSecurity    1.267282\n",
      "9   ohe__DeviceProtection    1.249060\n",
      "10       ohe__TechSupport    1.014705\n",
      "11       ohe__StreamingTV    0.885209\n",
      "13          ohe__Internet    0.548099\n"
     ]
    }
   ],
   "source": [
    "feature_names = best_model.named_steps['preprocessor'].get_feature_names_out()\n",
    "\n",
    "if hasattr(best_model.named_steps['models'], 'feature_importances_'):\n",
    "    feature_importances = best_model.named_steps['models'].feature_importances_\n",
    "    \n",
    "    import pandas as pd\n",
    "    feature_importance_df = pd.DataFrame({\n",
    "        'Feature': feature_names,\n",
    "        'Importance': feature_importances\n",
    "    })\n",
    "    \n",
    "    feature_importance_df = feature_importance_df.sort_values(by='Importance', ascending=False)\n",
    "    \n",
    "    print(\"Важности признаков:\")\n",
    "    print(feature_importance_df)\n",
    "else:\n",
    "    print(\"Модель не поддерживает feature_importances_.\")"
   ]
  },
  {
   "cell_type": "code",
   "execution_count": 59,
   "id": "2c91ddfa",
   "metadata": {},
   "outputs": [
    {
     "name": "stdout",
     "output_type": "stream",
     "text": [
      "AUC: 0.9059\n"
     ]
    }
   ],
   "source": [
    "fpr, tpr, thresholds = roc_curve(target_test, y_pred_proba)\n",
    "auc_score = roc_auc_score(target_test, y_pred_proba)\n",
    "print(f\"AUC: {auc_score:.4f}\")"
   ]
  },
  {
   "cell_type": "code",
   "execution_count": 60,
   "id": "efe62162",
   "metadata": {},
   "outputs": [
    {
     "data": {
      "image/png": "[encoded data removed]",
      "text/plain": [
       "<Figure size 576x432 with 1 Axes>"
      ]
     },
     "metadata": {
      "needs_background": "light"
     },
     "output_type": "display_data"
    }
   ],
   "source": [
    "plt.figure(figsize=(8, 6))\n",
    "plt.plot(fpr, tpr, color='blue', label=f'ROC кривая (AUC = {auc_score:.4f})')\n",
    "plt.plot([0, 1], [0, 1], color='gray', linestyle='--')\n",
    "plt.xlabel('False Positive Rate (FPR)')\n",
    "plt.ylabel('True Positive Rate (TPR)')\n",
    "plt.title('ROC кривая')\n",
    "plt.legend(loc='lower right')\n",
    "plt.grid()\n",
    "plt.show()"
   ]
  },
  {
   "cell_type": "code",
   "execution_count": 61,
   "id": "39d8c10a",
   "metadata": {},
   "outputs": [
    {
     "name": "stdout",
     "output_type": "stream",
     "text": [
      "Метрика accuracy 0.9080068143100511\n"
     ]
    }
   ],
   "source": [
    "print(f'Метрика accuracy {accuracy_score(target_test, predictions)}')"
   ]
  },
  {
   "cell_type": "markdown",
   "id": "0b51c4a3",
   "metadata": {},
   "source": [
    "### Вывод:\n",
    "1. Результат предсказаний на тестовой выборке оказался 90%, что удовлетворяет условию >= 85%.\n",
    "2. Построил матрицу ошибок и исследовали важность признаков. \n",
    "3. Модель лучше определяет тех, кто останется, нежели тех кто уйдет. Стоит отталкиваться от этого\n",
    "4. Среди признаков видно явных лидеров, что влияют на отток: продолжительность оказания услуг, тип, общие траты и месячные траты.\n",
    "5. Метрика точности показала 90.8%"
   ]
  },
  {
   "cell_type": "markdown",
   "id": "47852aef",
   "metadata": {},
   "source": [
    "## Итоговый вывод\n",
    "1. Было получено 4 файла с информацией о клиентах телекома.<br><br>\n",
    "- Произведена предобработка данных, в ходе которой были совершены следующие действия:\n",
    "    - обработаны типы данных\n",
    "    - добавлены новые признаки\n",
    "    - заполнены пропуски\n",
    "    - удалены лишние столбцы.\n",
    "    - объединены исходные датафреймы\n",
    "2. Была построена матрица корреляции, в ходе которой выяснилось, что между оттоком и признаками Phone, gender, MultipleLines, StreamingMovies, StreamingTV, DeviceProtection, OnlineBackup имеется слабая корреляция\n",
    "3. В ходе работы были обучены 4 модели машинного обучения: CatBoostClassifier, KNeighborsClassifier, LogisticRegression, DecisionTreeClassifier.\n",
    "4. Лучшей себя показала CatBoostClassifier показателем метрики ROC_AUC 0.9. Параметры модели:\n",
    "    - Для текста был применен SimpleImputer (который заполнял пропуски наиболее частыми значениями) и OrdinalEncoder (кодирование строковых признаков)\n",
    "    - Числовые данные не масштабировались\n",
    "    - Так же для модели были подобраны гиперпараметры loss_function со значением 'Logloss' и logging_level со значением 'Silent', а так же random_state = 240225\n",
    "5. Построил матрицу ошибок и исследовали важность признаков. Результаты следующие:\n",
    "    - Модель хорошо справляется с определением тех, кто останется. С теми кто уйдет, она испытывает проблемы. Возможно из-за дисбаланса классов\n",
    "    - продолжительность оказания услуг, тип, общие траты и месячные траты являются лидирующими признаками при оттоке\n",
    "6. Метрика точности accuracy составила 90.8%\n",
    "7. В качестве рекомендации стоит предлагать пользователям, которые по предсказанию модели могут уйти, некоторые скидки или дополнительные услуги. Например, скидка на определенный Type, чтобы вырастить длительность заключаемого договора - следовательно и длительность пользования услугами компании."
   ]
  },
  {
   "cell_type": "markdown",
   "id": "5777a1fa",
   "metadata": {},
   "source": [
    "<div style=\"border-radius: 15px; border: 3px solid indigo; padding: 15px;background:rgb(185, 176, 207)\">\n",
    "<b>Итоговый комментарий ментора V1:\n",
    "</b> К сожалению наблюдаются признаки заимствования из чужих проектов<br>\n",
    "    1. Пути ведут к старым выборкам<br>\n",
    "    2. Графики <a href = \"https://github.com/Bormatyha/data_science/blob/main/final_sprint.ipynb\">Графики</a>,<a href = \"https://github.com/Dymich/practicum_projects/blob/main/final_project.ipynb\">Графики, пайплайн</a>\n",
    "</div>"
   ]
  },
  {
   "cell_type": "markdown",
   "id": "2449d5a2",
   "metadata": {},
   "source": [
    "<div class=\"alert alert-info\">\n",
    "<b> Комментарий студента:</b><br>\n",
    "    Категорически не могу согласиться со сделанными выводами касательно проделанной мною работы. Да, вижу похожие практики в построении пары графиков. В остальном схожести не вижу. Как минимум в использовании пайплайнов, как максимум в общем подходе к решению задачи. Прошу проверять по существу. Касательно инцедента я дополнительно сообщю куратору, тк это трата одной из моих итераций"
   ]
  },
  {
   "cell_type": "markdown",
   "id": "a3000000",
   "metadata": {},
   "source": [
    "<div style=\"border-radius: 15px; border: 3px solid indigo; padding: 15px;background:rgb(185, 176, 207)\">\n",
    "<b>Итоговый комментарий ментора V2:\n",
    "</b> Ок, возможно наблюдались схожие техники, но в любом случае работа не может быть проверена, т.к. ты используешь старые датасеты(можешь подсказать, откуда ты их взял?). Так же советую посмотреть хотя бы презентацию, т.к. не все задачи были выполнены!\n",
    "</div>"
   ]
  },
  {
   "cell_type": "markdown",
   "id": "c4b0e8f1",
   "metadata": {},
   "source": [
    "<div class=\"alert alert-info\">\n",
    "<b> Комментарий студента:</b><br>\n",
    "    Изначально не получалось подгрузить данные, потому что не мог нащупать путь и потому попросил бывшего коллегу, ранее прошедшего курс, поделиться как это сделать. А проект я начинал делать еще до вебинара, где как раз был указа путь"
   ]
  },
  {
   "cell_type": "markdown",
   "id": "6469cc8a",
   "metadata": {},
   "source": [
    "<div style=\"border-radius: 15px; border: 3px solid indigo; padding: 15px;background:rgb(185, 176, 207)\">\n",
    "<b>Итоговый комментарий ментора V3:\n",
    "</b> Понял! Ничего страшного тогда! Давай исправим пару моментов:<br>\n",
    "    1.Анализ и визуализация всех признаков после объединения выборок и заполнения пропусков<br>\n",
    "    2.В итоговом выводе стоит указать подобранные гиперпараметры итоговой модели(включая random_state) и признаки, на которых модель обучалась(включая их обработку - кодирование, масштабирование). В 4 пункте все-таки не точность, а площадь под ROC кривой<br>\n",
    "    В целом все хорошо!\n",
    "    \n",
    "</div>"
   ]
  },
  {
   "cell_type": "code",
   "execution_count": null,
   "id": "e96eb5fe",
   "metadata": {},
   "outputs": [],
   "source": []
  }
 ],
 "metadata": {
  "ExecuteTimeLog": [
   {
    "duration": 1764,
    "start_time": "2025-02-24T08:15:31.923Z"
   },
   {
    "duration": 317,
    "start_time": "2025-02-24T08:18:44.515Z"
   },
   {
    "duration": 18,
    "start_time": "2025-02-24T08:18:47.876Z"
   },
   {
    "duration": 12,
    "start_time": "2025-02-24T08:19:12.495Z"
   },
   {
    "duration": 15,
    "start_time": "2025-02-24T08:20:05.052Z"
   },
   {
    "duration": 112,
    "start_time": "2025-02-24T08:21:17.277Z"
   },
   {
    "duration": 11,
    "start_time": "2025-02-24T08:21:17.967Z"
   },
   {
    "duration": 12,
    "start_time": "2025-02-24T08:21:18.916Z"
   },
   {
    "duration": 2002,
    "start_time": "2025-02-24T08:24:54.760Z"
   },
   {
    "duration": 11,
    "start_time": "2025-02-24T08:25:20.683Z"
   },
   {
    "duration": 17,
    "start_time": "2025-02-24T08:25:23.422Z"
   },
   {
    "duration": 29,
    "start_time": "2025-02-24T08:26:15.599Z"
   },
   {
    "duration": 180,
    "start_time": "2025-02-24T08:26:54.268Z"
   },
   {
    "duration": 208,
    "start_time": "2025-02-24T08:27:00.715Z"
   },
   {
    "duration": 141,
    "start_time": "2025-02-24T08:27:07.135Z"
   },
   {
    "duration": 86,
    "start_time": "2025-02-24T08:27:38.709Z"
   },
   {
    "duration": 117,
    "start_time": "2025-02-24T08:28:03.959Z"
   },
   {
    "duration": 252,
    "start_time": "2025-02-24T08:29:13.174Z"
   },
   {
    "duration": 192,
    "start_time": "2025-02-24T08:29:51.880Z"
   },
   {
    "duration": 26616,
    "start_time": "2025-02-24T08:31:18.435Z"
   },
   {
    "duration": 24,
    "start_time": "2025-02-24T08:32:23.803Z"
   },
   {
    "duration": 15,
    "start_time": "2025-02-24T08:32:29.729Z"
   },
   {
    "duration": 17,
    "start_time": "2025-02-24T08:33:21.834Z"
   },
   {
    "duration": 12,
    "start_time": "2025-02-24T08:33:44.067Z"
   },
   {
    "duration": 9,
    "start_time": "2025-02-24T08:34:32.150Z"
   },
   {
    "duration": 12,
    "start_time": "2025-02-24T08:34:37.906Z"
   },
   {
    "duration": 113,
    "start_time": "2025-02-24T08:35:09.771Z"
   },
   {
    "duration": 132,
    "start_time": "2025-02-24T08:35:23.182Z"
   },
   {
    "duration": 125,
    "start_time": "2025-02-24T08:35:36.539Z"
   },
   {
    "duration": 108,
    "start_time": "2025-02-24T08:35:57.302Z"
   },
   {
    "duration": 11,
    "start_time": "2025-02-24T08:36:34.438Z"
   },
   {
    "duration": 3,
    "start_time": "2025-02-24T08:37:22.585Z"
   },
   {
    "duration": 4,
    "start_time": "2025-02-24T08:37:25.155Z"
   },
   {
    "duration": 3,
    "start_time": "2025-02-24T08:37:32.057Z"
   },
   {
    "duration": 3,
    "start_time": "2025-02-24T08:37:32.407Z"
   },
   {
    "duration": 80,
    "start_time": "2025-02-24T08:37:44.786Z"
   },
   {
    "duration": 223,
    "start_time": "2025-02-24T08:38:13.364Z"
   },
   {
    "duration": 744,
    "start_time": "2025-02-24T08:38:24.279Z"
   },
   {
    "duration": 7,
    "start_time": "2025-02-24T08:40:53.218Z"
   },
   {
    "duration": 112,
    "start_time": "2025-02-24T08:41:28.831Z"
   },
   {
    "duration": 1582,
    "start_time": "2025-02-24T08:48:10.164Z"
   },
   {
    "duration": 114,
    "start_time": "2025-02-24T08:48:11.748Z"
   },
   {
    "duration": 18,
    "start_time": "2025-02-24T08:48:11.863Z"
   },
   {
    "duration": 15,
    "start_time": "2025-02-24T08:48:12.519Z"
   },
   {
    "duration": 145,
    "start_time": "2025-02-24T08:48:13.481Z"
   },
   {
    "duration": 126,
    "start_time": "2025-02-24T08:48:14.721Z"
   },
   {
    "duration": 191,
    "start_time": "2025-02-24T08:48:14.980Z"
   },
   {
    "duration": 19,
    "start_time": "2025-02-24T08:48:16.050Z"
   },
   {
    "duration": 15,
    "start_time": "2025-02-24T08:48:16.318Z"
   },
   {
    "duration": 9,
    "start_time": "2025-02-24T08:48:18.124Z"
   },
   {
    "duration": 87,
    "start_time": "2025-02-24T08:48:18.829Z"
   },
   {
    "duration": 119,
    "start_time": "2025-02-24T08:48:19.172Z"
   },
   {
    "duration": 134,
    "start_time": "2025-02-24T08:48:19.638Z"
   },
   {
    "duration": 111,
    "start_time": "2025-02-24T08:48:20.397Z"
   },
   {
    "duration": 99,
    "start_time": "2025-02-24T08:48:20.624Z"
   },
   {
    "duration": 11,
    "start_time": "2025-02-24T08:48:21.845Z"
   },
   {
    "duration": 3,
    "start_time": "2025-02-24T08:48:22.234Z"
   },
   {
    "duration": 765,
    "start_time": "2025-02-24T08:48:22.533Z"
   },
   {
    "duration": 8,
    "start_time": "2025-02-24T08:48:25.236Z"
   },
   {
    "duration": 118,
    "start_time": "2025-02-24T08:48:25.596Z"
   },
   {
    "duration": 5,
    "start_time": "2025-02-24T08:49:40.836Z"
   },
   {
    "duration": 3,
    "start_time": "2025-02-24T08:50:52.094Z"
   },
   {
    "duration": 16,
    "start_time": "2025-02-24T08:51:32.484Z"
   },
   {
    "duration": 27,
    "start_time": "2025-02-24T08:51:35.979Z"
   },
   {
    "duration": 5,
    "start_time": "2025-02-24T08:53:26.910Z"
   },
   {
    "duration": 17,
    "start_time": "2025-02-24T08:53:30.073Z"
   },
   {
    "duration": 12,
    "start_time": "2025-02-24T08:54:12.603Z"
   },
   {
    "duration": 30,
    "start_time": "2025-02-24T08:54:46.806Z"
   },
   {
    "duration": 18,
    "start_time": "2025-02-24T08:54:47.525Z"
   },
   {
    "duration": 1695,
    "start_time": "2025-02-24T08:55:05.141Z"
   },
   {
    "duration": 110,
    "start_time": "2025-02-24T08:55:06.838Z"
   },
   {
    "duration": 16,
    "start_time": "2025-02-24T08:55:06.950Z"
   },
   {
    "duration": 15,
    "start_time": "2025-02-24T08:55:06.968Z"
   },
   {
    "duration": 169,
    "start_time": "2025-02-24T08:55:06.986Z"
   },
   {
    "duration": 136,
    "start_time": "2025-02-24T08:55:07.157Z"
   },
   {
    "duration": 208,
    "start_time": "2025-02-24T08:55:07.295Z"
   },
   {
    "duration": 20,
    "start_time": "2025-02-24T08:55:07.505Z"
   },
   {
    "duration": 159,
    "start_time": "2025-02-24T08:55:07.527Z"
   },
   {
    "duration": 47,
    "start_time": "2025-02-24T08:55:07.687Z"
   },
   {
    "duration": 16,
    "start_time": "2025-02-24T08:55:07.735Z"
   },
   {
    "duration": 116,
    "start_time": "2025-02-24T08:55:07.752Z"
   },
   {
    "duration": 152,
    "start_time": "2025-02-24T08:55:07.869Z"
   },
   {
    "duration": 131,
    "start_time": "2025-02-24T08:55:08.025Z"
   },
   {
    "duration": 117,
    "start_time": "2025-02-24T08:55:08.157Z"
   },
   {
    "duration": 11,
    "start_time": "2025-02-24T08:55:08.276Z"
   },
   {
    "duration": 3,
    "start_time": "2025-02-24T08:55:08.289Z"
   },
   {
    "duration": 822,
    "start_time": "2025-02-24T08:55:08.293Z"
   },
   {
    "duration": 7,
    "start_time": "2025-02-24T08:55:09.117Z"
   },
   {
    "duration": 137,
    "start_time": "2025-02-24T08:55:09.125Z"
   },
   {
    "duration": 6,
    "start_time": "2025-02-24T08:55:09.263Z"
   },
   {
    "duration": 4,
    "start_time": "2025-02-24T08:55:09.270Z"
   },
   {
    "duration": 16,
    "start_time": "2025-02-24T08:55:09.276Z"
   },
   {
    "duration": 45,
    "start_time": "2025-02-24T08:55:09.293Z"
   },
   {
    "duration": 13,
    "start_time": "2025-02-24T08:55:09.339Z"
   },
   {
    "duration": 21,
    "start_time": "2025-02-24T08:55:09.353Z"
   },
   {
    "duration": 51,
    "start_time": "2025-02-24T08:55:09.375Z"
   },
   {
    "duration": 13,
    "start_time": "2025-02-24T08:55:20.468Z"
   },
   {
    "duration": 146,
    "start_time": "2025-02-24T08:56:05.890Z"
   },
   {
    "duration": 79,
    "start_time": "2025-02-24T08:57:05.755Z"
   },
   {
    "duration": 117,
    "start_time": "2025-02-24T08:57:08.723Z"
   },
   {
    "duration": 260,
    "start_time": "2025-02-24T08:57:14.705Z"
   },
   {
    "duration": 164,
    "start_time": "2025-02-24T08:57:24.309Z"
   },
   {
    "duration": 166,
    "start_time": "2025-02-24T08:57:28.110Z"
   },
   {
    "duration": 90,
    "start_time": "2025-02-24T08:58:45.796Z"
   },
   {
    "duration": 3590,
    "start_time": "2025-02-24T09:27:36.513Z"
   },
   {
    "duration": 2536,
    "start_time": "2025-02-24T09:27:59.024Z"
   },
   {
    "duration": 1466,
    "start_time": "2025-02-24T09:28:01.563Z"
   },
   {
    "duration": 120,
    "start_time": "2025-02-24T09:28:03.033Z"
   },
   {
    "duration": 18,
    "start_time": "2025-02-24T09:28:03.155Z"
   },
   {
    "duration": 13,
    "start_time": "2025-02-24T09:28:03.175Z"
   },
   {
    "duration": 154,
    "start_time": "2025-02-24T09:28:03.190Z"
   },
   {
    "duration": 141,
    "start_time": "2025-02-24T09:28:03.345Z"
   },
   {
    "duration": 198,
    "start_time": "2025-02-24T09:28:03.488Z"
   },
   {
    "duration": 26,
    "start_time": "2025-02-24T09:28:03.689Z"
   },
   {
    "duration": 108,
    "start_time": "2025-02-24T09:28:03.716Z"
   },
   {
    "duration": 24,
    "start_time": "2025-02-24T09:28:03.826Z"
   },
   {
    "duration": 14,
    "start_time": "2025-02-24T09:28:03.852Z"
   },
   {
    "duration": 125,
    "start_time": "2025-02-24T09:28:03.868Z"
   },
   {
    "duration": 152,
    "start_time": "2025-02-24T09:28:03.994Z"
   },
   {
    "duration": 132,
    "start_time": "2025-02-24T09:28:04.148Z"
   },
   {
    "duration": 117,
    "start_time": "2025-02-24T09:28:04.282Z"
   },
   {
    "duration": 20,
    "start_time": "2025-02-24T09:28:04.401Z"
   },
   {
    "duration": 15,
    "start_time": "2025-02-24T09:28:04.423Z"
   },
   {
    "duration": 778,
    "start_time": "2025-02-24T09:28:04.440Z"
   },
   {
    "duration": 7,
    "start_time": "2025-02-24T09:28:05.220Z"
   },
   {
    "duration": 128,
    "start_time": "2025-02-24T09:28:05.229Z"
   },
   {
    "duration": 18,
    "start_time": "2025-02-24T09:28:05.359Z"
   },
   {
    "duration": 19,
    "start_time": "2025-02-24T09:28:05.379Z"
   },
   {
    "duration": 29,
    "start_time": "2025-02-24T09:28:05.400Z"
   },
   {
    "duration": 35,
    "start_time": "2025-02-24T09:28:05.431Z"
   },
   {
    "duration": 12,
    "start_time": "2025-02-24T09:28:05.467Z"
   },
   {
    "duration": 39,
    "start_time": "2025-02-24T09:28:05.482Z"
   },
   {
    "duration": 18,
    "start_time": "2025-02-24T09:28:05.523Z"
   },
   {
    "duration": 196,
    "start_time": "2025-02-24T09:28:05.542Z"
   },
   {
    "duration": 273,
    "start_time": "2025-02-24T09:28:05.740Z"
   },
   {
    "duration": 2,
    "start_time": "2025-02-24T09:29:29.008Z"
   },
   {
    "duration": 5,
    "start_time": "2025-02-24T09:30:56.872Z"
   },
   {
    "duration": 2635,
    "start_time": "2025-02-24T09:33:21.048Z"
   },
   {
    "duration": 1244,
    "start_time": "2025-02-24T09:33:23.686Z"
   },
   {
    "duration": 0,
    "start_time": "2025-02-24T09:33:24.932Z"
   },
   {
    "duration": 0,
    "start_time": "2025-02-24T09:33:24.934Z"
   },
   {
    "duration": 0,
    "start_time": "2025-02-24T09:33:24.935Z"
   },
   {
    "duration": 0,
    "start_time": "2025-02-24T09:33:24.936Z"
   },
   {
    "duration": 0,
    "start_time": "2025-02-24T09:33:24.937Z"
   },
   {
    "duration": 0,
    "start_time": "2025-02-24T09:33:24.938Z"
   },
   {
    "duration": 0,
    "start_time": "2025-02-24T09:33:24.939Z"
   },
   {
    "duration": 0,
    "start_time": "2025-02-24T09:33:24.940Z"
   },
   {
    "duration": 0,
    "start_time": "2025-02-24T09:33:24.941Z"
   },
   {
    "duration": 0,
    "start_time": "2025-02-24T09:33:24.942Z"
   },
   {
    "duration": 0,
    "start_time": "2025-02-24T09:33:24.943Z"
   },
   {
    "duration": 0,
    "start_time": "2025-02-24T09:33:24.944Z"
   },
   {
    "duration": 0,
    "start_time": "2025-02-24T09:33:24.945Z"
   },
   {
    "duration": 0,
    "start_time": "2025-02-24T09:33:24.946Z"
   },
   {
    "duration": 0,
    "start_time": "2025-02-24T09:33:24.947Z"
   },
   {
    "duration": 0,
    "start_time": "2025-02-24T09:33:24.948Z"
   },
   {
    "duration": 0,
    "start_time": "2025-02-24T09:33:24.949Z"
   },
   {
    "duration": 0,
    "start_time": "2025-02-24T09:33:24.950Z"
   },
   {
    "duration": 0,
    "start_time": "2025-02-24T09:33:24.951Z"
   },
   {
    "duration": 0,
    "start_time": "2025-02-24T09:33:24.952Z"
   },
   {
    "duration": 0,
    "start_time": "2025-02-24T09:33:24.953Z"
   },
   {
    "duration": 0,
    "start_time": "2025-02-24T09:33:24.954Z"
   },
   {
    "duration": 0,
    "start_time": "2025-02-24T09:33:24.955Z"
   },
   {
    "duration": 0,
    "start_time": "2025-02-24T09:33:24.956Z"
   },
   {
    "duration": 0,
    "start_time": "2025-02-24T09:33:24.957Z"
   },
   {
    "duration": 0,
    "start_time": "2025-02-24T09:33:24.958Z"
   },
   {
    "duration": 0,
    "start_time": "2025-02-24T09:33:24.959Z"
   },
   {
    "duration": 0,
    "start_time": "2025-02-24T09:33:24.960Z"
   },
   {
    "duration": 0,
    "start_time": "2025-02-24T09:33:24.961Z"
   },
   {
    "duration": 0,
    "start_time": "2025-02-24T09:33:24.962Z"
   },
   {
    "duration": 10528,
    "start_time": "2025-02-24T09:38:02.909Z"
   },
   {
    "duration": 1555,
    "start_time": "2025-02-24T09:38:13.439Z"
   },
   {
    "duration": 115,
    "start_time": "2025-02-24T09:38:14.996Z"
   },
   {
    "duration": 16,
    "start_time": "2025-02-24T09:38:15.113Z"
   },
   {
    "duration": 22,
    "start_time": "2025-02-24T09:38:15.132Z"
   },
   {
    "duration": 164,
    "start_time": "2025-02-24T09:38:15.156Z"
   },
   {
    "duration": 213,
    "start_time": "2025-02-24T09:38:15.322Z"
   },
   {
    "duration": 208,
    "start_time": "2025-02-24T09:38:15.538Z"
   },
   {
    "duration": 16,
    "start_time": "2025-02-24T09:38:15.748Z"
   },
   {
    "duration": 100,
    "start_time": "2025-02-24T09:38:15.766Z"
   },
   {
    "duration": 9,
    "start_time": "2025-02-24T09:38:15.868Z"
   },
   {
    "duration": 20,
    "start_time": "2025-02-24T09:38:15.878Z"
   },
   {
    "duration": 117,
    "start_time": "2025-02-24T09:38:15.900Z"
   },
   {
    "duration": 143,
    "start_time": "2025-02-24T09:38:16.020Z"
   },
   {
    "duration": 125,
    "start_time": "2025-02-24T09:38:16.165Z"
   },
   {
    "duration": 116,
    "start_time": "2025-02-24T09:38:16.291Z"
   },
   {
    "duration": 12,
    "start_time": "2025-02-24T09:38:16.409Z"
   },
   {
    "duration": 5,
    "start_time": "2025-02-24T09:38:16.423Z"
   },
   {
    "duration": 969,
    "start_time": "2025-02-24T09:38:16.430Z"
   },
   {
    "duration": 16,
    "start_time": "2025-02-24T09:38:17.400Z"
   },
   {
    "duration": 129,
    "start_time": "2025-02-24T09:38:17.418Z"
   },
   {
    "duration": 5,
    "start_time": "2025-02-24T09:38:17.549Z"
   },
   {
    "duration": 12,
    "start_time": "2025-02-24T09:38:17.556Z"
   },
   {
    "duration": 14,
    "start_time": "2025-02-24T09:38:17.570Z"
   },
   {
    "duration": 119,
    "start_time": "2025-02-24T09:38:17.586Z"
   },
   {
    "duration": 169,
    "start_time": "2025-02-24T09:38:17.707Z"
   },
   {
    "duration": 19,
    "start_time": "2025-02-24T09:38:17.878Z"
   },
   {
    "duration": 23,
    "start_time": "2025-02-24T09:38:17.898Z"
   },
   {
    "duration": 138,
    "start_time": "2025-02-24T09:38:17.923Z"
   },
   {
    "duration": 180,
    "start_time": "2025-02-24T09:38:18.062Z"
   },
   {
    "duration": 3,
    "start_time": "2025-02-24T09:38:18.244Z"
   },
   {
    "duration": 13,
    "start_time": "2025-02-24T09:38:18.249Z"
   },
   {
    "duration": 4,
    "start_time": "2025-02-24T09:44:09.622Z"
   },
   {
    "duration": 5,
    "start_time": "2025-02-24T09:44:10.536Z"
   },
   {
    "duration": 23,
    "start_time": "2025-02-24T09:48:52.488Z"
   },
   {
    "duration": 6,
    "start_time": "2025-02-24T09:49:11.561Z"
   },
   {
    "duration": 4,
    "start_time": "2025-02-24T09:50:03.913Z"
   },
   {
    "duration": 5091,
    "start_time": "2025-02-24T09:50:13.949Z"
   },
   {
    "duration": 1463,
    "start_time": "2025-02-24T09:50:19.043Z"
   },
   {
    "duration": 110,
    "start_time": "2025-02-24T09:50:20.508Z"
   },
   {
    "duration": 15,
    "start_time": "2025-02-24T09:50:20.620Z"
   },
   {
    "duration": 37,
    "start_time": "2025-02-24T09:50:20.636Z"
   },
   {
    "duration": 142,
    "start_time": "2025-02-24T09:50:20.675Z"
   },
   {
    "duration": 210,
    "start_time": "2025-02-24T09:50:20.818Z"
   },
   {
    "duration": 186,
    "start_time": "2025-02-24T09:50:21.030Z"
   },
   {
    "duration": 15,
    "start_time": "2025-02-24T09:50:21.218Z"
   },
   {
    "duration": 12,
    "start_time": "2025-02-24T09:50:21.236Z"
   },
   {
    "duration": 7,
    "start_time": "2025-02-24T09:50:21.249Z"
   },
   {
    "duration": 10,
    "start_time": "2025-02-24T09:50:21.258Z"
   },
   {
    "duration": 145,
    "start_time": "2025-02-24T09:50:21.270Z"
   },
   {
    "duration": 137,
    "start_time": "2025-02-24T09:50:21.417Z"
   },
   {
    "duration": 120,
    "start_time": "2025-02-24T09:50:21.556Z"
   },
   {
    "duration": 110,
    "start_time": "2025-02-24T09:50:21.678Z"
   },
   {
    "duration": 10,
    "start_time": "2025-02-24T09:50:21.789Z"
   },
   {
    "duration": 101,
    "start_time": "2025-02-24T09:50:21.801Z"
   },
   {
    "duration": 810,
    "start_time": "2025-02-24T09:50:21.905Z"
   },
   {
    "duration": 7,
    "start_time": "2025-02-24T09:50:22.717Z"
   },
   {
    "duration": 144,
    "start_time": "2025-02-24T09:50:22.726Z"
   },
   {
    "duration": 5,
    "start_time": "2025-02-24T09:50:22.873Z"
   },
   {
    "duration": 5,
    "start_time": "2025-02-24T09:50:22.880Z"
   },
   {
    "duration": 27,
    "start_time": "2025-02-24T09:50:22.886Z"
   },
   {
    "duration": 25,
    "start_time": "2025-02-24T09:50:22.916Z"
   },
   {
    "duration": 13,
    "start_time": "2025-02-24T09:50:22.943Z"
   },
   {
    "duration": 19,
    "start_time": "2025-02-24T09:50:22.957Z"
   },
   {
    "duration": 48,
    "start_time": "2025-02-24T09:50:22.980Z"
   },
   {
    "duration": 6,
    "start_time": "2025-02-24T09:50:23.030Z"
   },
   {
    "duration": 24,
    "start_time": "2025-02-24T09:50:23.037Z"
   },
   {
    "duration": 4,
    "start_time": "2025-02-24T09:50:23.063Z"
   },
   {
    "duration": 175,
    "start_time": "2025-02-24T09:50:23.069Z"
   },
   {
    "duration": 195,
    "start_time": "2025-02-24T09:50:23.245Z"
   },
   {
    "duration": 3,
    "start_time": "2025-02-24T09:50:23.442Z"
   },
   {
    "duration": 5,
    "start_time": "2025-02-24T09:50:23.446Z"
   },
   {
    "duration": 5235,
    "start_time": "2025-02-24T09:51:22.935Z"
   },
   {
    "duration": 117,
    "start_time": "2025-02-24T09:51:44.640Z"
   },
   {
    "duration": 5005,
    "start_time": "2025-02-24T09:51:47.548Z"
   },
   {
    "duration": 9,
    "start_time": "2025-02-24T10:04:19.705Z"
   },
   {
    "duration": 4,
    "start_time": "2025-02-24T10:04:21.439Z"
   },
   {
    "duration": 30,
    "start_time": "2025-02-24T10:06:53.129Z"
   },
   {
    "duration": 18,
    "start_time": "2025-02-24T10:07:05.961Z"
   },
   {
    "duration": 14,
    "start_time": "2025-02-24T10:07:10.174Z"
   },
   {
    "duration": 5,
    "start_time": "2025-02-24T10:11:54.268Z"
   },
   {
    "duration": 8,
    "start_time": "2025-02-24T10:11:55.048Z"
   },
   {
    "duration": 4,
    "start_time": "2025-02-24T10:11:55.481Z"
   },
   {
    "duration": 16,
    "start_time": "2025-02-24T10:11:57.368Z"
   },
   {
    "duration": 3,
    "start_time": "2025-02-24T10:12:59.754Z"
   },
   {
    "duration": 136,
    "start_time": "2025-02-24T10:13:52.564Z"
   },
   {
    "duration": 7,
    "start_time": "2025-02-24T10:14:15.224Z"
   },
   {
    "duration": 12,
    "start_time": "2025-02-24T10:14:19.383Z"
   },
   {
    "duration": 11,
    "start_time": "2025-02-24T10:14:29.826Z"
   },
   {
    "duration": 4,
    "start_time": "2025-02-24T10:17:09.402Z"
   },
   {
    "duration": 11,
    "start_time": "2025-02-24T10:26:56.096Z"
   },
   {
    "duration": 5,
    "start_time": "2025-02-24T10:27:29.856Z"
   },
   {
    "duration": 4,
    "start_time": "2025-02-24T10:27:33.173Z"
   },
   {
    "duration": 10,
    "start_time": "2025-02-24T10:28:15.385Z"
   },
   {
    "duration": 5,
    "start_time": "2025-02-24T10:59:33.634Z"
   },
   {
    "duration": 3,
    "start_time": "2025-02-24T11:02:13.229Z"
   },
   {
    "duration": 4,
    "start_time": "2025-02-24T11:03:20.340Z"
   },
   {
    "duration": 5,
    "start_time": "2025-02-24T11:08:13.176Z"
   },
   {
    "duration": 2,
    "start_time": "2025-02-24T11:08:33.033Z"
   },
   {
    "duration": 3,
    "start_time": "2025-02-24T11:09:22.259Z"
   },
   {
    "duration": 3,
    "start_time": "2025-02-24T11:13:00.329Z"
   },
   {
    "duration": 14037,
    "start_time": "2025-02-24T11:13:29.750Z"
   },
   {
    "duration": 7,
    "start_time": "2025-02-24T11:14:21.974Z"
   },
   {
    "duration": 4,
    "start_time": "2025-02-24T11:15:53.246Z"
   },
   {
    "duration": 6,
    "start_time": "2025-02-24T11:15:53.640Z"
   },
   {
    "duration": 11,
    "start_time": "2025-02-24T11:16:09.929Z"
   },
   {
    "duration": 11,
    "start_time": "2025-02-24T11:19:11.850Z"
   },
   {
    "duration": 3,
    "start_time": "2025-02-24T11:19:28.000Z"
   },
   {
    "duration": 1108,
    "start_time": "2025-02-24T11:19:29.473Z"
   },
   {
    "duration": 5,
    "start_time": "2025-02-24T11:21:03.323Z"
   },
   {
    "duration": 4,
    "start_time": "2025-02-24T11:22:12.865Z"
   },
   {
    "duration": 3,
    "start_time": "2025-02-24T11:22:13.441Z"
   },
   {
    "duration": 1104,
    "start_time": "2025-02-24T11:22:14.427Z"
   },
   {
    "duration": 81,
    "start_time": "2025-02-24T11:23:42.299Z"
   },
   {
    "duration": 3,
    "start_time": "2025-02-24T11:23:49.408Z"
   },
   {
    "duration": 5530,
    "start_time": "2025-02-24T11:24:57.766Z"
   },
   {
    "duration": 1500,
    "start_time": "2025-02-24T11:25:03.298Z"
   },
   {
    "duration": 120,
    "start_time": "2025-02-24T11:25:04.800Z"
   },
   {
    "duration": 16,
    "start_time": "2025-02-24T11:25:04.922Z"
   },
   {
    "duration": 26,
    "start_time": "2025-02-24T11:25:04.941Z"
   },
   {
    "duration": 176,
    "start_time": "2025-02-24T11:25:04.969Z"
   },
   {
    "duration": 134,
    "start_time": "2025-02-24T11:25:05.147Z"
   },
   {
    "duration": 286,
    "start_time": "2025-02-24T11:25:05.283Z"
   },
   {
    "duration": 15,
    "start_time": "2025-02-24T11:25:05.571Z"
   },
   {
    "duration": 28,
    "start_time": "2025-02-24T11:25:05.588Z"
   },
   {
    "duration": 88,
    "start_time": "2025-02-24T11:25:05.623Z"
   },
   {
    "duration": 37,
    "start_time": "2025-02-24T11:25:05.712Z"
   },
   {
    "duration": 125,
    "start_time": "2025-02-24T11:25:05.750Z"
   },
   {
    "duration": 171,
    "start_time": "2025-02-24T11:25:05.878Z"
   },
   {
    "duration": 138,
    "start_time": "2025-02-24T11:25:06.050Z"
   },
   {
    "duration": 136,
    "start_time": "2025-02-24T11:25:06.190Z"
   },
   {
    "duration": 20,
    "start_time": "2025-02-24T11:25:06.332Z"
   },
   {
    "duration": 111,
    "start_time": "2025-02-24T11:25:06.353Z"
   },
   {
    "duration": 930,
    "start_time": "2025-02-24T11:25:06.466Z"
   },
   {
    "duration": 7,
    "start_time": "2025-02-24T11:25:07.398Z"
   },
   {
    "duration": 254,
    "start_time": "2025-02-24T11:25:07.414Z"
   },
   {
    "duration": 6,
    "start_time": "2025-02-24T11:25:07.671Z"
   },
   {
    "duration": 15,
    "start_time": "2025-02-24T11:25:07.679Z"
   },
   {
    "duration": 34,
    "start_time": "2025-02-24T11:25:07.696Z"
   },
   {
    "duration": 27,
    "start_time": "2025-02-24T11:25:07.732Z"
   },
   {
    "duration": 14,
    "start_time": "2025-02-24T11:25:07.761Z"
   },
   {
    "duration": 89,
    "start_time": "2025-02-24T11:25:07.777Z"
   },
   {
    "duration": 21,
    "start_time": "2025-02-24T11:25:07.868Z"
   },
   {
    "duration": 6,
    "start_time": "2025-02-24T11:25:07.891Z"
   },
   {
    "duration": 156,
    "start_time": "2025-02-24T11:25:07.900Z"
   },
   {
    "duration": 196,
    "start_time": "2025-02-24T11:25:08.058Z"
   },
   {
    "duration": 5334,
    "start_time": "2025-02-24T11:25:08.257Z"
   },
   {
    "duration": 2,
    "start_time": "2025-02-24T11:25:13.593Z"
   },
   {
    "duration": 21,
    "start_time": "2025-02-24T11:25:13.598Z"
   },
   {
    "duration": 75,
    "start_time": "2025-02-24T11:25:13.620Z"
   },
   {
    "duration": 5,
    "start_time": "2025-02-24T11:25:13.696Z"
   },
   {
    "duration": 29,
    "start_time": "2025-02-24T11:25:13.703Z"
   },
   {
    "duration": 3,
    "start_time": "2025-02-24T11:25:13.734Z"
   },
   {
    "duration": 5,
    "start_time": "2025-02-24T11:25:13.739Z"
   },
   {
    "duration": 13,
    "start_time": "2025-02-24T11:25:13.745Z"
   },
   {
    "duration": 34,
    "start_time": "2025-02-24T11:25:13.761Z"
   },
   {
    "duration": 55,
    "start_time": "2025-02-24T11:25:13.797Z"
   },
   {
    "duration": 5,
    "start_time": "2025-02-24T11:25:13.854Z"
   },
   {
    "duration": 5,
    "start_time": "2025-02-24T11:25:13.860Z"
   },
   {
    "duration": 2045,
    "start_time": "2025-02-24T11:25:13.867Z"
   },
   {
    "duration": 2,
    "start_time": "2025-02-24T11:34:01.159Z"
   },
   {
    "duration": 1804,
    "start_time": "2025-02-24T11:34:01.744Z"
   },
   {
    "duration": 11,
    "start_time": "2025-02-24T11:36:23.822Z"
   },
   {
    "duration": 5327,
    "start_time": "2025-02-24T11:36:34.427Z"
   },
   {
    "duration": 1449,
    "start_time": "2025-02-24T11:36:39.757Z"
   },
   {
    "duration": 124,
    "start_time": "2025-02-24T11:36:41.209Z"
   },
   {
    "duration": 16,
    "start_time": "2025-02-24T11:36:41.335Z"
   },
   {
    "duration": 14,
    "start_time": "2025-02-24T11:36:41.354Z"
   },
   {
    "duration": 165,
    "start_time": "2025-02-24T11:36:41.370Z"
   },
   {
    "duration": 135,
    "start_time": "2025-02-24T11:36:41.537Z"
   },
   {
    "duration": 276,
    "start_time": "2025-02-24T11:36:41.674Z"
   },
   {
    "duration": 16,
    "start_time": "2025-02-24T11:36:41.952Z"
   },
   {
    "duration": 13,
    "start_time": "2025-02-24T11:36:41.970Z"
   },
   {
    "duration": 33,
    "start_time": "2025-02-24T11:36:41.985Z"
   },
   {
    "duration": 77,
    "start_time": "2025-02-24T11:36:42.024Z"
   },
   {
    "duration": 138,
    "start_time": "2025-02-24T11:36:42.103Z"
   },
   {
    "duration": 145,
    "start_time": "2025-02-24T11:36:42.245Z"
   },
   {
    "duration": 122,
    "start_time": "2025-02-24T11:36:42.391Z"
   },
   {
    "duration": 105,
    "start_time": "2025-02-24T11:36:42.528Z"
   },
   {
    "duration": 10,
    "start_time": "2025-02-24T11:36:42.634Z"
   },
   {
    "duration": 3,
    "start_time": "2025-02-24T11:36:42.645Z"
   },
   {
    "duration": 882,
    "start_time": "2025-02-24T11:36:42.649Z"
   },
   {
    "duration": 7,
    "start_time": "2025-02-24T11:36:43.533Z"
   },
   {
    "duration": 243,
    "start_time": "2025-02-24T11:36:43.541Z"
   },
   {
    "duration": 6,
    "start_time": "2025-02-24T11:36:43.786Z"
   },
   {
    "duration": 5,
    "start_time": "2025-02-24T11:36:43.793Z"
   },
   {
    "duration": 32,
    "start_time": "2025-02-24T11:36:43.800Z"
   },
   {
    "duration": 100,
    "start_time": "2025-02-24T11:36:43.834Z"
   },
   {
    "duration": 16,
    "start_time": "2025-02-24T11:36:43.936Z"
   },
   {
    "duration": 20,
    "start_time": "2025-02-24T11:36:43.953Z"
   },
   {
    "duration": 20,
    "start_time": "2025-02-24T11:36:43.975Z"
   },
   {
    "duration": 9,
    "start_time": "2025-02-24T11:36:44.018Z"
   },
   {
    "duration": 115,
    "start_time": "2025-02-24T11:36:44.029Z"
   },
   {
    "duration": 136,
    "start_time": "2025-02-24T11:36:44.145Z"
   },
   {
    "duration": 182,
    "start_time": "2025-02-24T11:36:44.283Z"
   },
   {
    "duration": 5284,
    "start_time": "2025-02-24T11:36:44.467Z"
   },
   {
    "duration": 2,
    "start_time": "2025-02-24T11:36:49.753Z"
   },
   {
    "duration": 16,
    "start_time": "2025-02-24T11:36:49.757Z"
   },
   {
    "duration": 9,
    "start_time": "2025-02-24T11:36:49.775Z"
   },
   {
    "duration": 13,
    "start_time": "2025-02-24T11:36:49.786Z"
   },
   {
    "duration": 31,
    "start_time": "2025-02-24T11:36:49.801Z"
   },
   {
    "duration": 68,
    "start_time": "2025-02-24T11:36:49.834Z"
   },
   {
    "duration": 4,
    "start_time": "2025-02-24T11:36:49.904Z"
   },
   {
    "duration": 3,
    "start_time": "2025-02-24T11:36:49.912Z"
   },
   {
    "duration": 5,
    "start_time": "2025-02-24T11:36:49.917Z"
   },
   {
    "duration": 4,
    "start_time": "2025-02-24T11:36:49.926Z"
   },
   {
    "duration": 10,
    "start_time": "2025-02-24T11:36:49.932Z"
   },
   {
    "duration": 3,
    "start_time": "2025-02-24T11:36:49.944Z"
   },
   {
    "duration": 1801,
    "start_time": "2025-02-24T11:36:49.949Z"
   },
   {
    "duration": 22,
    "start_time": "2025-02-24T11:37:32.022Z"
   },
   {
    "duration": 2,
    "start_time": "2025-02-24T11:40:42.153Z"
   },
   {
    "duration": 1815,
    "start_time": "2025-02-24T11:40:43.086Z"
   },
   {
    "duration": 4,
    "start_time": "2025-02-24T11:42:56.365Z"
   },
   {
    "duration": 3,
    "start_time": "2025-02-24T11:42:58.054Z"
   },
   {
    "duration": 3,
    "start_time": "2025-02-24T11:43:22.649Z"
   },
   {
    "duration": 38,
    "start_time": "2025-02-24T11:43:29.122Z"
   },
   {
    "duration": 4,
    "start_time": "2025-02-24T11:44:57.599Z"
   },
   {
    "duration": 6,
    "start_time": "2025-02-24T11:44:58.518Z"
   },
   {
    "duration": 27,
    "start_time": "2025-02-24T11:44:59.541Z"
   },
   {
    "duration": 3,
    "start_time": "2025-02-24T11:46:57.286Z"
   },
   {
    "duration": 4,
    "start_time": "2025-02-24T11:46:58.451Z"
   },
   {
    "duration": 3,
    "start_time": "2025-02-24T11:46:58.644Z"
   },
   {
    "duration": 4,
    "start_time": "2025-02-24T11:46:58.826Z"
   },
   {
    "duration": 4,
    "start_time": "2025-02-24T11:46:59.002Z"
   },
   {
    "duration": 3,
    "start_time": "2025-02-24T11:46:59.854Z"
   },
   {
    "duration": 28,
    "start_time": "2025-02-24T11:47:00.077Z"
   },
   {
    "duration": 9,
    "start_time": "2025-02-24T11:47:23.044Z"
   },
   {
    "duration": 4,
    "start_time": "2025-02-24T11:47:23.282Z"
   },
   {
    "duration": 4,
    "start_time": "2025-02-24T11:47:23.464Z"
   },
   {
    "duration": 4,
    "start_time": "2025-02-24T11:47:23.630Z"
   },
   {
    "duration": 3,
    "start_time": "2025-02-24T11:47:23.947Z"
   },
   {
    "duration": 27,
    "start_time": "2025-02-24T11:47:24.269Z"
   },
   {
    "duration": 4,
    "start_time": "2025-02-24T11:50:38.483Z"
   },
   {
    "duration": 4,
    "start_time": "2025-02-24T11:50:41.361Z"
   },
   {
    "duration": 43,
    "start_time": "2025-02-24T11:50:41.815Z"
   },
   {
    "duration": 7,
    "start_time": "2025-02-24T11:51:03.583Z"
   },
   {
    "duration": 4,
    "start_time": "2025-02-24T11:51:04.223Z"
   },
   {
    "duration": 1878,
    "start_time": "2025-02-24T11:51:04.410Z"
   },
   {
    "duration": 6,
    "start_time": "2025-02-24T11:51:15.543Z"
   },
   {
    "duration": 5,
    "start_time": "2025-02-24T11:51:16.007Z"
   },
   {
    "duration": 1949,
    "start_time": "2025-02-24T11:51:16.202Z"
   },
   {
    "duration": 27,
    "start_time": "2025-02-24T11:52:51.428Z"
   },
   {
    "duration": 17,
    "start_time": "2025-02-24T11:53:16.619Z"
   },
   {
    "duration": 4,
    "start_time": "2025-02-24T11:53:54.827Z"
   },
   {
    "duration": 5560,
    "start_time": "2025-02-24T11:54:12.110Z"
   },
   {
    "duration": 1534,
    "start_time": "2025-02-24T11:54:17.673Z"
   },
   {
    "duration": 122,
    "start_time": "2025-02-24T11:54:19.209Z"
   },
   {
    "duration": 16,
    "start_time": "2025-02-24T11:54:19.333Z"
   },
   {
    "duration": 14,
    "start_time": "2025-02-24T11:54:19.351Z"
   },
   {
    "duration": 179,
    "start_time": "2025-02-24T11:54:19.367Z"
   },
   {
    "duration": 201,
    "start_time": "2025-02-24T11:54:19.548Z"
   },
   {
    "duration": 324,
    "start_time": "2025-02-24T11:54:19.752Z"
   },
   {
    "duration": 23,
    "start_time": "2025-02-24T11:54:20.078Z"
   },
   {
    "duration": 89,
    "start_time": "2025-02-24T11:54:20.115Z"
   },
   {
    "duration": 8,
    "start_time": "2025-02-24T11:54:20.206Z"
   },
   {
    "duration": 26,
    "start_time": "2025-02-24T11:54:20.220Z"
   },
   {
    "duration": 124,
    "start_time": "2025-02-24T11:54:20.248Z"
   },
   {
    "duration": 158,
    "start_time": "2025-02-24T11:54:20.376Z"
   },
   {
    "duration": 135,
    "start_time": "2025-02-24T11:54:20.535Z"
   },
   {
    "duration": 129,
    "start_time": "2025-02-24T11:54:20.672Z"
   },
   {
    "duration": 26,
    "start_time": "2025-02-24T11:54:20.802Z"
   },
   {
    "duration": 3,
    "start_time": "2025-02-24T11:54:20.834Z"
   },
   {
    "duration": 856,
    "start_time": "2025-02-24T11:54:20.839Z"
   },
   {
    "duration": 7,
    "start_time": "2025-02-24T11:54:21.697Z"
   },
   {
    "duration": 304,
    "start_time": "2025-02-24T11:54:21.706Z"
   },
   {
    "duration": 9,
    "start_time": "2025-02-24T11:54:22.017Z"
   },
   {
    "duration": 6,
    "start_time": "2025-02-24T11:54:22.028Z"
   },
   {
    "duration": 13,
    "start_time": "2025-02-24T11:54:22.035Z"
   },
   {
    "duration": 24,
    "start_time": "2025-02-24T11:54:22.050Z"
   },
   {
    "duration": 259,
    "start_time": "2025-02-24T11:54:22.075Z"
   },
   {
    "duration": 0,
    "start_time": "2025-02-24T11:54:22.336Z"
   },
   {
    "duration": 0,
    "start_time": "2025-02-24T11:54:22.337Z"
   },
   {
    "duration": 0,
    "start_time": "2025-02-24T11:54:22.338Z"
   },
   {
    "duration": 0,
    "start_time": "2025-02-24T11:54:22.339Z"
   },
   {
    "duration": 0,
    "start_time": "2025-02-24T11:54:22.340Z"
   },
   {
    "duration": 0,
    "start_time": "2025-02-24T11:54:22.341Z"
   },
   {
    "duration": 0,
    "start_time": "2025-02-24T11:54:22.342Z"
   },
   {
    "duration": 0,
    "start_time": "2025-02-24T11:54:22.343Z"
   },
   {
    "duration": 0,
    "start_time": "2025-02-24T11:54:22.344Z"
   },
   {
    "duration": 0,
    "start_time": "2025-02-24T11:54:22.345Z"
   },
   {
    "duration": 0,
    "start_time": "2025-02-24T11:54:22.346Z"
   },
   {
    "duration": 0,
    "start_time": "2025-02-24T11:54:22.347Z"
   },
   {
    "duration": 0,
    "start_time": "2025-02-24T11:54:22.348Z"
   },
   {
    "duration": 0,
    "start_time": "2025-02-24T11:54:22.350Z"
   },
   {
    "duration": 0,
    "start_time": "2025-02-24T11:54:22.351Z"
   },
   {
    "duration": 0,
    "start_time": "2025-02-24T11:54:22.352Z"
   },
   {
    "duration": 0,
    "start_time": "2025-02-24T11:54:22.353Z"
   },
   {
    "duration": 0,
    "start_time": "2025-02-24T11:54:22.354Z"
   },
   {
    "duration": 0,
    "start_time": "2025-02-24T11:54:22.355Z"
   },
   {
    "duration": 0,
    "start_time": "2025-02-24T11:54:22.356Z"
   },
   {
    "duration": 0,
    "start_time": "2025-02-24T11:54:22.357Z"
   },
   {
    "duration": 0,
    "start_time": "2025-02-24T11:54:22.358Z"
   },
   {
    "duration": 13,
    "start_time": "2025-02-24T11:54:32.468Z"
   },
   {
    "duration": 29,
    "start_time": "2025-02-24T11:54:33.028Z"
   },
   {
    "duration": 31,
    "start_time": "2025-02-24T11:54:33.494Z"
   },
   {
    "duration": 5,
    "start_time": "2025-02-24T11:54:33.944Z"
   },
   {
    "duration": 9,
    "start_time": "2025-02-24T11:54:34.376Z"
   },
   {
    "duration": 148,
    "start_time": "2025-02-24T11:54:35.210Z"
   },
   {
    "duration": 178,
    "start_time": "2025-02-24T11:54:35.408Z"
   },
   {
    "duration": 5274,
    "start_time": "2025-02-24T11:54:35.961Z"
   },
   {
    "duration": 3,
    "start_time": "2025-02-24T11:54:41.237Z"
   },
   {
    "duration": 6,
    "start_time": "2025-02-24T11:54:41.241Z"
   },
   {
    "duration": 13,
    "start_time": "2025-02-24T11:54:41.249Z"
   },
   {
    "duration": 4,
    "start_time": "2025-02-24T11:54:41.264Z"
   },
   {
    "duration": 18,
    "start_time": "2025-02-24T11:54:41.269Z"
   },
   {
    "duration": 15,
    "start_time": "2025-02-24T11:54:41.314Z"
   },
   {
    "duration": 4,
    "start_time": "2025-02-24T11:54:41.331Z"
   },
   {
    "duration": 3,
    "start_time": "2025-02-24T11:54:43.343Z"
   },
   {
    "duration": 3,
    "start_time": "2025-02-24T11:54:43.578Z"
   },
   {
    "duration": 3,
    "start_time": "2025-02-24T11:54:43.764Z"
   },
   {
    "duration": 4,
    "start_time": "2025-02-24T11:54:43.938Z"
   },
   {
    "duration": 5,
    "start_time": "2025-02-24T11:54:44.522Z"
   },
   {
    "duration": 3,
    "start_time": "2025-02-24T11:54:45.541Z"
   },
   {
    "duration": 1835,
    "start_time": "2025-02-24T11:54:45.940Z"
   },
   {
    "duration": 3,
    "start_time": "2025-02-24T11:55:39.908Z"
   },
   {
    "duration": 2,
    "start_time": "2025-02-24T11:55:40.139Z"
   },
   {
    "duration": 5,
    "start_time": "2025-02-24T11:55:40.356Z"
   },
   {
    "duration": 11,
    "start_time": "2025-02-24T11:55:40.844Z"
   },
   {
    "duration": 9,
    "start_time": "2025-02-24T11:55:41.238Z"
   },
   {
    "duration": 3,
    "start_time": "2025-02-24T11:55:41.456Z"
   },
   {
    "duration": 16,
    "start_time": "2025-02-24T11:55:41.773Z"
   },
   {
    "duration": 3,
    "start_time": "2025-02-24T11:55:42.864Z"
   },
   {
    "duration": 3,
    "start_time": "2025-02-24T11:55:43.068Z"
   },
   {
    "duration": 3,
    "start_time": "2025-02-24T11:55:43.240Z"
   },
   {
    "duration": 13,
    "start_time": "2025-02-24T11:55:43.416Z"
   },
   {
    "duration": 3,
    "start_time": "2025-02-24T11:55:43.581Z"
   },
   {
    "duration": 4,
    "start_time": "2025-02-24T11:55:43.773Z"
   },
   {
    "duration": 5,
    "start_time": "2025-02-24T11:55:44.110Z"
   },
   {
    "duration": 12737,
    "start_time": "2025-02-24T11:55:44.301Z"
   },
   {
    "duration": 12979,
    "start_time": "2025-02-24T11:56:00.639Z"
   },
   {
    "duration": 3,
    "start_time": "2025-02-24T11:57:14.196Z"
   },
   {
    "duration": 3,
    "start_time": "2025-02-24T11:57:26.473Z"
   },
   {
    "duration": 13505,
    "start_time": "2025-02-24T11:57:26.752Z"
   },
   {
    "duration": 4,
    "start_time": "2025-02-24T11:57:40.259Z"
   },
   {
    "duration": 11,
    "start_time": "2025-02-24T11:59:42.737Z"
   },
   {
    "duration": 6,
    "start_time": "2025-02-24T11:59:54.013Z"
   },
   {
    "duration": 115359,
    "start_time": "2025-02-24T11:59:55.932Z"
   },
   {
    "duration": 3,
    "start_time": "2025-02-24T12:01:51.293Z"
   },
   {
    "duration": 4,
    "start_time": "2025-02-24T13:22:07.385Z"
   },
   {
    "duration": 3,
    "start_time": "2025-02-24T13:22:07.903Z"
   },
   {
    "duration": 287318,
    "start_time": "2025-02-24T13:22:11.307Z"
   },
   {
    "duration": 91,
    "start_time": "2025-02-24T13:26:58.628Z"
   },
   {
    "duration": 2,
    "start_time": "2025-02-24T15:03:30.626Z"
   },
   {
    "duration": 4,
    "start_time": "2025-02-24T15:03:30.881Z"
   },
   {
    "duration": 5,
    "start_time": "2025-02-24T15:03:31.064Z"
   },
   {
    "duration": 11,
    "start_time": "2025-02-24T15:03:31.234Z"
   },
   {
    "duration": 10,
    "start_time": "2025-02-24T15:03:31.399Z"
   },
   {
    "duration": 3,
    "start_time": "2025-02-24T15:03:31.566Z"
   },
   {
    "duration": 17,
    "start_time": "2025-02-24T15:03:31.734Z"
   },
   {
    "duration": 3,
    "start_time": "2025-02-24T15:03:31.893Z"
   },
   {
    "duration": 3,
    "start_time": "2025-02-24T15:03:32.065Z"
   },
   {
    "duration": 3,
    "start_time": "2025-02-24T15:03:32.232Z"
   },
   {
    "duration": 3,
    "start_time": "2025-02-24T15:03:32.410Z"
   },
   {
    "duration": 3,
    "start_time": "2025-02-24T15:03:32.597Z"
   },
   {
    "duration": 5,
    "start_time": "2025-02-24T15:03:32.766Z"
   },
   {
    "duration": 3,
    "start_time": "2025-02-24T15:03:33.254Z"
   },
   {
    "duration": 148577,
    "start_time": "2025-02-24T15:03:33.639Z"
   },
   {
    "duration": 0,
    "start_time": "2025-02-24T15:06:02.219Z"
   },
   {
    "duration": 3,
    "start_time": "2025-02-24T15:06:51.645Z"
   },
   {
    "duration": 3,
    "start_time": "2025-02-24T15:06:52.011Z"
   },
   {
    "duration": 5,
    "start_time": "2025-02-24T15:06:52.322Z"
   },
   {
    "duration": 17,
    "start_time": "2025-02-24T15:06:53.107Z"
   },
   {
    "duration": 9,
    "start_time": "2025-02-24T15:06:53.437Z"
   },
   {
    "duration": 4,
    "start_time": "2025-02-24T15:06:53.617Z"
   },
   {
    "duration": 16,
    "start_time": "2025-02-24T15:06:53.783Z"
   },
   {
    "duration": 3,
    "start_time": "2025-02-24T15:06:53.950Z"
   },
   {
    "duration": 3,
    "start_time": "2025-02-24T15:06:54.114Z"
   },
   {
    "duration": 3,
    "start_time": "2025-02-24T15:06:54.281Z"
   },
   {
    "duration": 3,
    "start_time": "2025-02-24T15:06:54.446Z"
   },
   {
    "duration": 3,
    "start_time": "2025-02-24T15:06:55.162Z"
   },
   {
    "duration": 61,
    "start_time": "2025-02-24T15:06:55.167Z"
   },
   {
    "duration": 5,
    "start_time": "2025-02-24T15:06:55.230Z"
   },
   {
    "duration": 311362,
    "start_time": "2025-02-24T15:06:55.519Z"
   },
   {
    "duration": 4,
    "start_time": "2025-02-24T15:12:06.883Z"
   },
   {
    "duration": 3,
    "start_time": "2025-02-24T15:53:32.216Z"
   },
   {
    "duration": 5146,
    "start_time": "2025-02-24T15:53:38.132Z"
   },
   {
    "duration": 1448,
    "start_time": "2025-02-24T15:53:43.280Z"
   },
   {
    "duration": 101,
    "start_time": "2025-02-24T15:53:44.730Z"
   },
   {
    "duration": 15,
    "start_time": "2025-02-24T15:53:44.832Z"
   },
   {
    "duration": 55,
    "start_time": "2025-02-24T15:53:44.849Z"
   },
   {
    "duration": 142,
    "start_time": "2025-02-24T15:53:44.906Z"
   },
   {
    "duration": 133,
    "start_time": "2025-02-24T15:53:45.050Z"
   },
   {
    "duration": 269,
    "start_time": "2025-02-24T15:53:45.185Z"
   },
   {
    "duration": 16,
    "start_time": "2025-02-24T15:53:45.456Z"
   },
   {
    "duration": 12,
    "start_time": "2025-02-24T15:53:45.473Z"
   },
   {
    "duration": 28,
    "start_time": "2025-02-24T15:53:45.487Z"
   },
   {
    "duration": 12,
    "start_time": "2025-02-24T15:53:45.516Z"
   },
   {
    "duration": 135,
    "start_time": "2025-02-24T15:53:45.530Z"
   },
   {
    "duration": 146,
    "start_time": "2025-02-24T15:53:45.668Z"
   },
   {
    "duration": 129,
    "start_time": "2025-02-24T15:53:45.815Z"
   },
   {
    "duration": 117,
    "start_time": "2025-02-24T15:53:45.946Z"
   },
   {
    "duration": 9,
    "start_time": "2025-02-24T15:53:46.065Z"
   },
   {
    "duration": 3,
    "start_time": "2025-02-24T15:53:46.076Z"
   },
   {
    "duration": 813,
    "start_time": "2025-02-24T15:53:46.081Z"
   },
   {
    "duration": 6,
    "start_time": "2025-02-24T15:53:46.896Z"
   },
   {
    "duration": 219,
    "start_time": "2025-02-24T15:53:46.904Z"
   },
   {
    "duration": 4,
    "start_time": "2025-02-24T15:53:47.125Z"
   },
   {
    "duration": 34,
    "start_time": "2025-02-24T15:53:47.131Z"
   },
   {
    "duration": 16,
    "start_time": "2025-02-24T15:53:47.166Z"
   },
   {
    "duration": 23,
    "start_time": "2025-02-24T15:53:47.184Z"
   },
   {
    "duration": 11,
    "start_time": "2025-02-24T15:53:47.209Z"
   },
   {
    "duration": 17,
    "start_time": "2025-02-24T15:53:47.222Z"
   },
   {
    "duration": 17,
    "start_time": "2025-02-24T15:53:47.241Z"
   },
   {
    "duration": 5,
    "start_time": "2025-02-24T15:53:47.259Z"
   },
   {
    "duration": 7,
    "start_time": "2025-02-24T15:53:47.266Z"
   },
   {
    "duration": 152,
    "start_time": "2025-02-24T15:53:47.275Z"
   },
   {
    "duration": 171,
    "start_time": "2025-02-24T15:53:47.429Z"
   },
   {
    "duration": 4940,
    "start_time": "2025-02-24T15:53:47.602Z"
   },
   {
    "duration": 2,
    "start_time": "2025-02-24T15:53:52.544Z"
   },
   {
    "duration": 34,
    "start_time": "2025-02-24T15:53:52.548Z"
   },
   {
    "duration": 7,
    "start_time": "2025-02-24T15:53:52.583Z"
   },
   {
    "duration": 14,
    "start_time": "2025-02-24T15:53:52.592Z"
   },
   {
    "duration": 8,
    "start_time": "2025-02-24T15:53:52.608Z"
   },
   {
    "duration": 3,
    "start_time": "2025-02-24T15:53:52.617Z"
   },
   {
    "duration": 17,
    "start_time": "2025-02-24T15:53:52.621Z"
   },
   {
    "duration": 2,
    "start_time": "2025-02-24T15:53:52.642Z"
   },
   {
    "duration": 4,
    "start_time": "2025-02-24T15:53:52.646Z"
   },
   {
    "duration": 3,
    "start_time": "2025-02-24T15:53:52.652Z"
   },
   {
    "duration": 4,
    "start_time": "2025-02-24T15:53:52.656Z"
   },
   {
    "duration": 3,
    "start_time": "2025-02-24T15:53:52.662Z"
   },
   {
    "duration": 5,
    "start_time": "2025-02-24T15:53:52.666Z"
   },
   {
    "duration": 40,
    "start_time": "2025-02-24T15:53:52.673Z"
   },
   {
    "duration": 938757,
    "start_time": "2025-02-24T15:53:52.715Z"
   },
   {
    "duration": 0,
    "start_time": "2025-02-24T16:09:31.475Z"
   },
   {
    "duration": 4954,
    "start_time": "2025-02-24T16:09:36.922Z"
   },
   {
    "duration": 1420,
    "start_time": "2025-02-24T16:09:41.879Z"
   },
   {
    "duration": 106,
    "start_time": "2025-02-24T16:09:43.300Z"
   },
   {
    "duration": 16,
    "start_time": "2025-02-24T16:09:43.408Z"
   },
   {
    "duration": 13,
    "start_time": "2025-02-24T16:09:43.425Z"
   },
   {
    "duration": 155,
    "start_time": "2025-02-24T16:09:43.440Z"
   },
   {
    "duration": 119,
    "start_time": "2025-02-24T16:09:43.596Z"
   },
   {
    "duration": 249,
    "start_time": "2025-02-24T16:09:43.717Z"
   },
   {
    "duration": 15,
    "start_time": "2025-02-24T16:09:43.968Z"
   },
   {
    "duration": 29,
    "start_time": "2025-02-24T16:09:43.985Z"
   },
   {
    "duration": 11,
    "start_time": "2025-02-24T16:09:44.015Z"
   },
   {
    "duration": 13,
    "start_time": "2025-02-24T16:09:44.028Z"
   },
   {
    "duration": 120,
    "start_time": "2025-02-24T16:09:44.043Z"
   },
   {
    "duration": 135,
    "start_time": "2025-02-24T16:09:44.165Z"
   },
   {
    "duration": 119,
    "start_time": "2025-02-24T16:09:44.301Z"
   },
   {
    "duration": 109,
    "start_time": "2025-02-24T16:09:44.421Z"
   },
   {
    "duration": 10,
    "start_time": "2025-02-24T16:09:44.532Z"
   },
   {
    "duration": 5,
    "start_time": "2025-02-24T16:09:44.543Z"
   },
   {
    "duration": 815,
    "start_time": "2025-02-24T16:09:44.550Z"
   },
   {
    "duration": 7,
    "start_time": "2025-02-24T16:09:45.366Z"
   },
   {
    "duration": 231,
    "start_time": "2025-02-24T16:09:45.374Z"
   },
   {
    "duration": 5,
    "start_time": "2025-02-24T16:09:45.615Z"
   },
   {
    "duration": 5,
    "start_time": "2025-02-24T16:09:45.622Z"
   },
   {
    "duration": 17,
    "start_time": "2025-02-24T16:09:45.629Z"
   },
   {
    "duration": 35,
    "start_time": "2025-02-24T16:09:45.647Z"
   },
   {
    "duration": 12,
    "start_time": "2025-02-24T16:09:45.713Z"
   },
   {
    "duration": 17,
    "start_time": "2025-02-24T16:09:45.727Z"
   },
   {
    "duration": 17,
    "start_time": "2025-02-24T16:09:45.748Z"
   },
   {
    "duration": 4,
    "start_time": "2025-02-24T16:09:45.766Z"
   },
   {
    "duration": 11,
    "start_time": "2025-02-24T16:09:45.771Z"
   },
   {
    "duration": 165,
    "start_time": "2025-02-24T16:09:45.783Z"
   },
   {
    "duration": 179,
    "start_time": "2025-02-24T16:09:45.950Z"
   },
   {
    "duration": 5048,
    "start_time": "2025-02-24T16:09:46.130Z"
   },
   {
    "duration": 3,
    "start_time": "2025-02-24T16:09:51.180Z"
   },
   {
    "duration": 42,
    "start_time": "2025-02-24T16:09:51.184Z"
   },
   {
    "duration": 11,
    "start_time": "2025-02-24T16:09:51.228Z"
   },
   {
    "duration": 26,
    "start_time": "2025-02-24T16:09:51.240Z"
   },
   {
    "duration": 7,
    "start_time": "2025-02-24T16:09:51.268Z"
   },
   {
    "duration": 21,
    "start_time": "2025-02-24T16:09:51.277Z"
   },
   {
    "duration": 35,
    "start_time": "2025-02-24T16:09:51.300Z"
   },
   {
    "duration": 9,
    "start_time": "2025-02-24T16:09:51.336Z"
   },
   {
    "duration": 18,
    "start_time": "2025-02-24T16:09:51.346Z"
   },
   {
    "duration": 22,
    "start_time": "2025-02-24T16:09:51.365Z"
   },
   {
    "duration": 5,
    "start_time": "2025-02-24T16:09:51.388Z"
   },
   {
    "duration": 5,
    "start_time": "2025-02-24T16:09:51.395Z"
   },
   {
    "duration": 37,
    "start_time": "2025-02-24T16:09:51.401Z"
   },
   {
    "duration": 123,
    "start_time": "2025-02-24T16:09:51.440Z"
   },
   {
    "duration": 44469,
    "start_time": "2025-02-24T16:09:51.565Z"
   },
   {
    "duration": 4,
    "start_time": "2025-02-24T16:10:36.036Z"
   },
   {
    "duration": 5001,
    "start_time": "2025-02-24T16:29:50.219Z"
   },
   {
    "duration": 1462,
    "start_time": "2025-02-24T16:29:55.223Z"
   },
   {
    "duration": 108,
    "start_time": "2025-02-24T16:29:56.687Z"
   },
   {
    "duration": 15,
    "start_time": "2025-02-24T16:29:56.797Z"
   },
   {
    "duration": 13,
    "start_time": "2025-02-24T16:29:56.813Z"
   },
   {
    "duration": 150,
    "start_time": "2025-02-24T16:29:56.828Z"
   },
   {
    "duration": 126,
    "start_time": "2025-02-24T16:29:56.980Z"
   },
   {
    "duration": 258,
    "start_time": "2025-02-24T16:29:57.107Z"
   },
   {
    "duration": 15,
    "start_time": "2025-02-24T16:29:57.367Z"
   },
   {
    "duration": 12,
    "start_time": "2025-02-24T16:29:57.384Z"
   },
   {
    "duration": 8,
    "start_time": "2025-02-24T16:29:57.413Z"
   },
   {
    "duration": 11,
    "start_time": "2025-02-24T16:29:57.422Z"
   },
   {
    "duration": 131,
    "start_time": "2025-02-24T16:29:57.434Z"
   },
   {
    "duration": 137,
    "start_time": "2025-02-24T16:29:57.567Z"
   },
   {
    "duration": 120,
    "start_time": "2025-02-24T16:29:57.706Z"
   },
   {
    "duration": 114,
    "start_time": "2025-02-24T16:29:57.827Z"
   },
   {
    "duration": 11,
    "start_time": "2025-02-24T16:29:57.943Z"
   },
   {
    "duration": 59,
    "start_time": "2025-02-24T16:29:57.955Z"
   },
   {
    "duration": 746,
    "start_time": "2025-02-24T16:29:58.016Z"
   },
   {
    "duration": 6,
    "start_time": "2025-02-24T16:29:58.764Z"
   },
   {
    "duration": 228,
    "start_time": "2025-02-24T16:29:58.772Z"
   },
   {
    "duration": 16,
    "start_time": "2025-02-24T16:29:59.001Z"
   },
   {
    "duration": 3,
    "start_time": "2025-02-24T16:29:59.019Z"
   },
   {
    "duration": 13,
    "start_time": "2025-02-24T16:29:59.024Z"
   },
   {
    "duration": 24,
    "start_time": "2025-02-24T16:29:59.038Z"
   },
   {
    "duration": 11,
    "start_time": "2025-02-24T16:29:59.063Z"
   },
   {
    "duration": 43,
    "start_time": "2025-02-24T16:29:59.075Z"
   },
   {
    "duration": 17,
    "start_time": "2025-02-24T16:29:59.122Z"
   },
   {
    "duration": 4,
    "start_time": "2025-02-24T16:29:59.141Z"
   },
   {
    "duration": 9,
    "start_time": "2025-02-24T16:29:59.146Z"
   },
   {
    "duration": 141,
    "start_time": "2025-02-24T16:29:59.156Z"
   },
   {
    "duration": 171,
    "start_time": "2025-02-24T16:29:59.298Z"
   },
   {
    "duration": 5075,
    "start_time": "2025-02-24T16:29:59.471Z"
   },
   {
    "duration": 3,
    "start_time": "2025-02-24T16:30:04.548Z"
   },
   {
    "duration": 10,
    "start_time": "2025-02-24T16:30:04.552Z"
   },
   {
    "duration": 7,
    "start_time": "2025-02-24T16:30:04.563Z"
   },
   {
    "duration": 22,
    "start_time": "2025-02-24T16:30:04.572Z"
   },
   {
    "duration": 86,
    "start_time": "2025-02-24T16:30:04.596Z"
   },
   {
    "duration": 6,
    "start_time": "2025-02-24T16:30:04.684Z"
   },
   {
    "duration": 18,
    "start_time": "2025-02-24T16:30:04.691Z"
   },
   {
    "duration": 15,
    "start_time": "2025-02-24T16:30:04.711Z"
   },
   {
    "duration": 9,
    "start_time": "2025-02-24T16:30:04.728Z"
   },
   {
    "duration": 5,
    "start_time": "2025-02-24T16:30:04.739Z"
   },
   {
    "duration": 4,
    "start_time": "2025-02-24T16:30:04.745Z"
   },
   {
    "duration": 17,
    "start_time": "2025-02-24T16:30:04.750Z"
   },
   {
    "duration": 21,
    "start_time": "2025-02-24T16:30:04.768Z"
   },
   {
    "duration": 31,
    "start_time": "2025-02-24T16:30:04.791Z"
   },
   {
    "duration": 29834,
    "start_time": "2025-02-24T16:30:04.824Z"
   },
   {
    "duration": 4,
    "start_time": "2025-02-24T16:30:34.660Z"
   },
   {
    "duration": 130,
    "start_time": "2025-02-24T17:15:27.139Z"
   },
   {
    "duration": 47,
    "start_time": "2025-02-24T17:15:29.879Z"
   },
   {
    "duration": 36,
    "start_time": "2025-02-24T17:16:20.554Z"
   },
   {
    "duration": 10,
    "start_time": "2025-02-24T17:20:12.836Z"
   },
   {
    "duration": 35,
    "start_time": "2025-02-24T17:20:16.885Z"
   },
   {
    "duration": 7,
    "start_time": "2025-02-24T17:20:36.560Z"
   },
   {
    "duration": 6,
    "start_time": "2025-02-24T17:20:41.227Z"
   },
   {
    "duration": 7,
    "start_time": "2025-02-24T17:20:47.405Z"
   },
   {
    "duration": 185,
    "start_time": "2025-02-24T17:21:52.571Z"
   },
   {
    "duration": 12,
    "start_time": "2025-02-24T17:22:46.550Z"
   },
   {
    "duration": 3,
    "start_time": "2025-02-24T17:23:01.025Z"
   },
   {
    "duration": 10,
    "start_time": "2025-02-24T17:23:06.102Z"
   },
   {
    "duration": 8,
    "start_time": "2025-02-24T17:24:40.750Z"
   },
   {
    "duration": 10,
    "start_time": "2025-02-24T17:26:20.553Z"
   },
   {
    "duration": 14164,
    "start_time": "2025-02-25T07:28:46.830Z"
   },
   {
    "duration": 1909,
    "start_time": "2025-02-25T07:29:00.996Z"
   },
   {
    "duration": 125,
    "start_time": "2025-02-25T07:29:02.914Z"
   },
   {
    "duration": 19,
    "start_time": "2025-02-25T07:29:03.041Z"
   },
   {
    "duration": 33,
    "start_time": "2025-02-25T07:29:03.063Z"
   },
   {
    "duration": 202,
    "start_time": "2025-02-25T07:29:03.098Z"
   },
   {
    "duration": 259,
    "start_time": "2025-02-25T07:29:03.302Z"
   },
   {
    "duration": 219,
    "start_time": "2025-02-25T07:29:03.563Z"
   },
   {
    "duration": 31,
    "start_time": "2025-02-25T07:29:03.784Z"
   },
   {
    "duration": 14,
    "start_time": "2025-02-25T07:29:03.817Z"
   },
   {
    "duration": 19,
    "start_time": "2025-02-25T07:29:03.833Z"
   },
   {
    "duration": 37,
    "start_time": "2025-02-25T07:29:03.853Z"
   },
   {
    "duration": 162,
    "start_time": "2025-02-25T07:29:03.892Z"
   },
   {
    "duration": 200,
    "start_time": "2025-02-25T07:29:04.059Z"
   },
   {
    "duration": 155,
    "start_time": "2025-02-25T07:29:04.261Z"
   },
   {
    "duration": 137,
    "start_time": "2025-02-25T07:29:04.418Z"
   },
   {
    "duration": 12,
    "start_time": "2025-02-25T07:29:04.557Z"
   },
   {
    "duration": 24,
    "start_time": "2025-02-25T07:29:04.571Z"
   },
   {
    "duration": 1091,
    "start_time": "2025-02-25T07:29:04.597Z"
   },
   {
    "duration": 7,
    "start_time": "2025-02-25T07:29:05.690Z"
   },
   {
    "duration": 150,
    "start_time": "2025-02-25T07:29:05.708Z"
   },
   {
    "duration": 6,
    "start_time": "2025-02-25T07:29:05.860Z"
   },
   {
    "duration": 49,
    "start_time": "2025-02-25T07:29:05.868Z"
   },
   {
    "duration": 40,
    "start_time": "2025-02-25T07:29:05.919Z"
   },
   {
    "duration": 26,
    "start_time": "2025-02-25T07:29:05.961Z"
   },
   {
    "duration": 42,
    "start_time": "2025-02-25T07:29:05.989Z"
   },
   {
    "duration": 49,
    "start_time": "2025-02-25T07:29:06.033Z"
   },
   {
    "duration": 47,
    "start_time": "2025-02-25T07:29:06.084Z"
   },
   {
    "duration": 29,
    "start_time": "2025-02-25T07:29:06.133Z"
   },
   {
    "duration": 115,
    "start_time": "2025-02-25T07:29:06.164Z"
   },
   {
    "duration": 193,
    "start_time": "2025-02-25T07:29:06.281Z"
   },
   {
    "duration": 212,
    "start_time": "2025-02-25T07:29:06.476Z"
   },
   {
    "duration": 6186,
    "start_time": "2025-02-25T07:29:06.690Z"
   },
   {
    "duration": 2,
    "start_time": "2025-02-25T07:29:12.878Z"
   },
   {
    "duration": 9,
    "start_time": "2025-02-25T07:29:12.882Z"
   },
   {
    "duration": 25,
    "start_time": "2025-02-25T07:29:12.893Z"
   },
   {
    "duration": 28,
    "start_time": "2025-02-25T07:29:12.920Z"
   },
   {
    "duration": 88,
    "start_time": "2025-02-25T07:29:12.950Z"
   },
   {
    "duration": 5,
    "start_time": "2025-02-25T07:29:13.040Z"
   },
   {
    "duration": 30,
    "start_time": "2025-02-25T07:29:13.047Z"
   },
   {
    "duration": 3,
    "start_time": "2025-02-25T07:29:13.082Z"
   },
   {
    "duration": 6,
    "start_time": "2025-02-25T07:29:13.087Z"
   },
   {
    "duration": 15,
    "start_time": "2025-02-25T07:29:13.095Z"
   },
   {
    "duration": 5,
    "start_time": "2025-02-25T07:29:13.112Z"
   },
   {
    "duration": 12,
    "start_time": "2025-02-25T07:29:13.119Z"
   },
   {
    "duration": 27,
    "start_time": "2025-02-25T07:29:13.133Z"
   },
   {
    "duration": 54,
    "start_time": "2025-02-25T07:29:13.162Z"
   },
   {
    "duration": 36893,
    "start_time": "2025-02-25T07:29:13.218Z"
   },
   {
    "duration": 5,
    "start_time": "2025-02-25T07:29:50.114Z"
   },
   {
    "duration": 101,
    "start_time": "2025-02-25T07:29:50.121Z"
   },
   {
    "duration": 45,
    "start_time": "2025-02-25T07:29:50.224Z"
   },
   {
    "duration": 71,
    "start_time": "2025-02-25T07:29:50.271Z"
   },
   {
    "duration": 10,
    "start_time": "2025-02-25T07:29:50.344Z"
   },
   {
    "duration": 251,
    "start_time": "2025-02-25T07:29:50.357Z"
   },
   {
    "duration": 5,
    "start_time": "2025-02-25T07:29:50.610Z"
   },
   {
    "duration": 20,
    "start_time": "2025-02-25T07:29:50.617Z"
   },
   {
    "duration": 157,
    "start_time": "2025-02-25T07:29:50.639Z"
   },
   {
    "duration": 6549,
    "start_time": "2025-02-25T07:34:53.071Z"
   },
   {
    "duration": 1803,
    "start_time": "2025-02-25T07:34:59.623Z"
   },
   {
    "duration": 147,
    "start_time": "2025-02-25T07:35:01.428Z"
   },
   {
    "duration": 21,
    "start_time": "2025-02-25T07:35:01.577Z"
   },
   {
    "duration": 151,
    "start_time": "2025-02-25T07:35:01.614Z"
   },
   {
    "duration": 258,
    "start_time": "2025-02-25T07:35:01.767Z"
   },
   {
    "duration": 170,
    "start_time": "2025-02-25T07:35:02.027Z"
   },
   {
    "duration": 326,
    "start_time": "2025-02-25T07:35:02.204Z"
   },
   {
    "duration": 25,
    "start_time": "2025-02-25T07:35:02.532Z"
   },
   {
    "duration": 64,
    "start_time": "2025-02-25T07:35:02.560Z"
   },
   {
    "duration": 15,
    "start_time": "2025-02-25T07:35:02.626Z"
   },
   {
    "duration": 73,
    "start_time": "2025-02-25T07:35:02.644Z"
   },
   {
    "duration": 235,
    "start_time": "2025-02-25T07:35:02.720Z"
   },
   {
    "duration": 195,
    "start_time": "2025-02-25T07:35:02.960Z"
   },
   {
    "duration": 160,
    "start_time": "2025-02-25T07:35:03.158Z"
   },
   {
    "duration": 155,
    "start_time": "2025-02-25T07:35:03.321Z"
   },
   {
    "duration": 17,
    "start_time": "2025-02-25T07:35:03.479Z"
   },
   {
    "duration": 23,
    "start_time": "2025-02-25T07:35:03.498Z"
   },
   {
    "duration": 1057,
    "start_time": "2025-02-25T07:35:03.524Z"
   },
   {
    "duration": 8,
    "start_time": "2025-02-25T07:35:04.585Z"
   },
   {
    "duration": 289,
    "start_time": "2025-02-25T07:35:04.595Z"
   },
   {
    "duration": 30,
    "start_time": "2025-02-25T07:35:04.886Z"
   },
   {
    "duration": 13,
    "start_time": "2025-02-25T07:35:04.920Z"
   },
   {
    "duration": 50,
    "start_time": "2025-02-25T07:35:04.936Z"
   },
   {
    "duration": 93,
    "start_time": "2025-02-25T07:35:04.989Z"
   },
   {
    "duration": 36,
    "start_time": "2025-02-25T07:35:05.084Z"
   },
   {
    "duration": 20,
    "start_time": "2025-02-25T07:35:05.122Z"
   },
   {
    "duration": 22,
    "start_time": "2025-02-25T07:35:05.144Z"
   },
   {
    "duration": 23,
    "start_time": "2025-02-25T07:35:05.168Z"
   },
   {
    "duration": 22,
    "start_time": "2025-02-25T07:35:05.196Z"
   },
   {
    "duration": 174,
    "start_time": "2025-02-25T07:35:05.221Z"
   },
   {
    "duration": 235,
    "start_time": "2025-02-25T07:35:05.399Z"
   },
   {
    "duration": 6240,
    "start_time": "2025-02-25T07:35:05.636Z"
   },
   {
    "duration": 3,
    "start_time": "2025-02-25T07:35:11.878Z"
   },
   {
    "duration": 37,
    "start_time": "2025-02-25T07:35:11.883Z"
   },
   {
    "duration": 12,
    "start_time": "2025-02-25T07:35:11.922Z"
   },
   {
    "duration": 28,
    "start_time": "2025-02-25T07:35:11.936Z"
   },
   {
    "duration": 20,
    "start_time": "2025-02-25T07:35:11.966Z"
   },
   {
    "duration": 5,
    "start_time": "2025-02-25T07:35:11.988Z"
   },
   {
    "duration": 36,
    "start_time": "2025-02-25T07:35:11.995Z"
   },
   {
    "duration": 5,
    "start_time": "2025-02-25T07:35:12.040Z"
   },
   {
    "duration": 11,
    "start_time": "2025-02-25T07:35:12.047Z"
   },
   {
    "duration": 14,
    "start_time": "2025-02-25T07:35:12.060Z"
   },
   {
    "duration": 41,
    "start_time": "2025-02-25T07:35:12.077Z"
   },
   {
    "duration": 18,
    "start_time": "2025-02-25T07:35:12.120Z"
   },
   {
    "duration": 9,
    "start_time": "2025-02-25T07:35:12.140Z"
   },
   {
    "duration": 7,
    "start_time": "2025-02-25T07:35:12.151Z"
   },
   {
    "duration": 52223,
    "start_time": "2025-02-25T07:35:12.160Z"
   },
   {
    "duration": 5,
    "start_time": "2025-02-25T07:36:04.385Z"
   },
   {
    "duration": 77,
    "start_time": "2025-02-25T07:36:04.392Z"
   },
   {
    "duration": 45,
    "start_time": "2025-02-25T07:36:04.470Z"
   },
   {
    "duration": 48,
    "start_time": "2025-02-25T07:36:04.518Z"
   },
   {
    "duration": 9,
    "start_time": "2025-02-25T07:36:04.568Z"
   },
   {
    "duration": 254,
    "start_time": "2025-02-25T07:36:04.578Z"
   },
   {
    "duration": 3,
    "start_time": "2025-02-25T07:36:04.833Z"
   },
   {
    "duration": 27,
    "start_time": "2025-02-25T07:36:04.838Z"
   },
   {
    "duration": 158,
    "start_time": "2025-02-25T07:36:04.867Z"
   },
   {
    "duration": 5980,
    "start_time": "2025-02-25T07:40:26.164Z"
   },
   {
    "duration": 1679,
    "start_time": "2025-02-25T07:40:32.148Z"
   },
   {
    "duration": 147,
    "start_time": "2025-02-25T07:40:33.831Z"
   },
   {
    "duration": 39,
    "start_time": "2025-02-25T07:40:33.982Z"
   },
   {
    "duration": 21,
    "start_time": "2025-02-25T07:40:34.024Z"
   },
   {
    "duration": 208,
    "start_time": "2025-02-25T07:40:34.047Z"
   },
   {
    "duration": 171,
    "start_time": "2025-02-25T07:40:34.257Z"
   },
   {
    "duration": 313,
    "start_time": "2025-02-25T07:40:34.430Z"
   },
   {
    "duration": 17,
    "start_time": "2025-02-25T07:40:34.745Z"
   },
   {
    "duration": 72,
    "start_time": "2025-02-25T07:40:34.764Z"
   },
   {
    "duration": 28,
    "start_time": "2025-02-25T07:40:34.838Z"
   },
   {
    "duration": 42,
    "start_time": "2025-02-25T07:40:34.868Z"
   },
   {
    "duration": 164,
    "start_time": "2025-02-25T07:40:34.915Z"
   },
   {
    "duration": 167,
    "start_time": "2025-02-25T07:40:35.081Z"
   },
   {
    "duration": 171,
    "start_time": "2025-02-25T07:40:35.251Z"
   },
   {
    "duration": 121,
    "start_time": "2025-02-25T07:40:35.424Z"
   },
   {
    "duration": 11,
    "start_time": "2025-02-25T07:40:35.547Z"
   },
   {
    "duration": 22,
    "start_time": "2025-02-25T07:40:35.560Z"
   },
   {
    "duration": 936,
    "start_time": "2025-02-25T07:40:35.584Z"
   },
   {
    "duration": 8,
    "start_time": "2025-02-25T07:40:36.522Z"
   },
   {
    "duration": 305,
    "start_time": "2025-02-25T07:40:36.532Z"
   },
   {
    "duration": 6,
    "start_time": "2025-02-25T07:40:36.839Z"
   },
   {
    "duration": 12,
    "start_time": "2025-02-25T07:40:36.847Z"
   },
   {
    "duration": 19,
    "start_time": "2025-02-25T07:40:36.861Z"
   },
   {
    "duration": 42,
    "start_time": "2025-02-25T07:40:36.882Z"
   },
   {
    "duration": 14,
    "start_time": "2025-02-25T07:40:36.926Z"
   },
   {
    "duration": 45,
    "start_time": "2025-02-25T07:40:36.942Z"
   },
   {
    "duration": 27,
    "start_time": "2025-02-25T07:40:36.989Z"
   },
   {
    "duration": 62,
    "start_time": "2025-02-25T07:40:37.020Z"
   },
   {
    "duration": 37,
    "start_time": "2025-02-25T07:40:37.084Z"
   },
   {
    "duration": 205,
    "start_time": "2025-02-25T07:40:37.124Z"
   },
   {
    "duration": 228,
    "start_time": "2025-02-25T07:40:37.332Z"
   },
   {
    "duration": 5999,
    "start_time": "2025-02-25T07:40:37.561Z"
   },
   {
    "duration": 2,
    "start_time": "2025-02-25T07:40:43.562Z"
   },
   {
    "duration": 5,
    "start_time": "2025-02-25T07:40:43.566Z"
   },
   {
    "duration": 6,
    "start_time": "2025-02-25T07:40:43.573Z"
   },
   {
    "duration": 35,
    "start_time": "2025-02-25T07:40:43.581Z"
   },
   {
    "duration": 13,
    "start_time": "2025-02-25T07:40:43.619Z"
   },
   {
    "duration": 6,
    "start_time": "2025-02-25T07:40:43.634Z"
   },
   {
    "duration": 18,
    "start_time": "2025-02-25T07:40:43.644Z"
   },
   {
    "duration": 4,
    "start_time": "2025-02-25T07:40:43.664Z"
   },
   {
    "duration": 44,
    "start_time": "2025-02-25T07:40:43.670Z"
   },
   {
    "duration": 4,
    "start_time": "2025-02-25T07:40:43.717Z"
   },
   {
    "duration": 4,
    "start_time": "2025-02-25T07:40:43.723Z"
   },
   {
    "duration": 20,
    "start_time": "2025-02-25T07:40:43.728Z"
   },
   {
    "duration": 23,
    "start_time": "2025-02-25T07:40:43.750Z"
   },
   {
    "duration": 13,
    "start_time": "2025-02-25T07:40:43.774Z"
   },
   {
    "duration": 53397,
    "start_time": "2025-02-25T07:40:43.789Z"
   },
   {
    "duration": 6,
    "start_time": "2025-02-25T07:41:37.188Z"
   },
   {
    "duration": 125,
    "start_time": "2025-02-25T07:41:37.196Z"
   },
   {
    "duration": 96,
    "start_time": "2025-02-25T07:41:37.324Z"
   },
   {
    "duration": 145,
    "start_time": "2025-02-25T07:41:37.422Z"
   },
   {
    "duration": 7,
    "start_time": "2025-02-25T07:41:37.569Z"
   },
   {
    "duration": 278,
    "start_time": "2025-02-25T07:41:37.578Z"
   },
   {
    "duration": 3,
    "start_time": "2025-02-25T07:41:37.861Z"
   },
   {
    "duration": 11,
    "start_time": "2025-02-25T07:41:37.868Z"
   },
   {
    "duration": 5949,
    "start_time": "2025-02-25T07:43:32.923Z"
   },
   {
    "duration": 1678,
    "start_time": "2025-02-25T07:43:38.876Z"
   },
   {
    "duration": 115,
    "start_time": "2025-02-25T07:43:40.556Z"
   },
   {
    "duration": 18,
    "start_time": "2025-02-25T07:43:40.673Z"
   },
   {
    "duration": 21,
    "start_time": "2025-02-25T07:43:40.694Z"
   },
   {
    "duration": 203,
    "start_time": "2025-02-25T07:43:40.718Z"
   },
   {
    "duration": 156,
    "start_time": "2025-02-25T07:43:40.923Z"
   },
   {
    "duration": 329,
    "start_time": "2025-02-25T07:43:41.081Z"
   },
   {
    "duration": 31,
    "start_time": "2025-02-25T07:43:41.412Z"
   },
   {
    "duration": 22,
    "start_time": "2025-02-25T07:43:41.446Z"
   },
   {
    "duration": 39,
    "start_time": "2025-02-25T07:43:41.471Z"
   },
   {
    "duration": 19,
    "start_time": "2025-02-25T07:43:41.512Z"
   },
   {
    "duration": 153,
    "start_time": "2025-02-25T07:43:41.533Z"
   },
   {
    "duration": 159,
    "start_time": "2025-02-25T07:43:41.689Z"
   },
   {
    "duration": 142,
    "start_time": "2025-02-25T07:43:41.850Z"
   },
   {
    "duration": 142,
    "start_time": "2025-02-25T07:43:41.994Z"
   },
   {
    "duration": 12,
    "start_time": "2025-02-25T07:43:42.139Z"
   },
   {
    "duration": 4,
    "start_time": "2025-02-25T07:43:42.153Z"
   },
   {
    "duration": 909,
    "start_time": "2025-02-25T07:43:42.159Z"
   },
   {
    "duration": 6,
    "start_time": "2025-02-25T07:43:43.070Z"
   },
   {
    "duration": 289,
    "start_time": "2025-02-25T07:43:43.078Z"
   },
   {
    "duration": 6,
    "start_time": "2025-02-25T07:43:43.369Z"
   },
   {
    "duration": 11,
    "start_time": "2025-02-25T07:43:43.377Z"
   },
   {
    "duration": 32,
    "start_time": "2025-02-25T07:43:43.389Z"
   },
   {
    "duration": 26,
    "start_time": "2025-02-25T07:43:43.423Z"
   },
   {
    "duration": 13,
    "start_time": "2025-02-25T07:43:43.451Z"
   },
   {
    "duration": 19,
    "start_time": "2025-02-25T07:43:43.466Z"
   },
   {
    "duration": 30,
    "start_time": "2025-02-25T07:43:43.508Z"
   },
   {
    "duration": 5,
    "start_time": "2025-02-25T07:43:43.540Z"
   },
   {
    "duration": 9,
    "start_time": "2025-02-25T07:43:43.547Z"
   },
   {
    "duration": 189,
    "start_time": "2025-02-25T07:43:43.558Z"
   },
   {
    "duration": 225,
    "start_time": "2025-02-25T07:43:43.750Z"
   },
   {
    "duration": 5883,
    "start_time": "2025-02-25T07:43:43.977Z"
   },
   {
    "duration": 3,
    "start_time": "2025-02-25T07:43:49.863Z"
   },
   {
    "duration": 11,
    "start_time": "2025-02-25T07:43:49.868Z"
   },
   {
    "duration": 10,
    "start_time": "2025-02-25T07:43:49.882Z"
   },
   {
    "duration": 33,
    "start_time": "2025-02-25T07:43:49.894Z"
   },
   {
    "duration": 12,
    "start_time": "2025-02-25T07:43:49.929Z"
   },
   {
    "duration": 10,
    "start_time": "2025-02-25T07:43:49.943Z"
   },
   {
    "duration": 32,
    "start_time": "2025-02-25T07:43:49.955Z"
   },
   {
    "duration": 25,
    "start_time": "2025-02-25T07:43:49.992Z"
   },
   {
    "duration": 33,
    "start_time": "2025-02-25T07:43:50.019Z"
   },
   {
    "duration": 10,
    "start_time": "2025-02-25T07:43:50.053Z"
   },
   {
    "duration": 11,
    "start_time": "2025-02-25T07:43:50.065Z"
   },
   {
    "duration": 4,
    "start_time": "2025-02-25T07:43:50.078Z"
   },
   {
    "duration": 9,
    "start_time": "2025-02-25T07:43:50.083Z"
   },
   {
    "duration": 13,
    "start_time": "2025-02-25T07:43:50.093Z"
   },
   {
    "duration": 8843,
    "start_time": "2025-02-25T07:43:50.108Z"
   },
   {
    "duration": 5,
    "start_time": "2025-02-25T07:43:58.954Z"
   },
   {
    "duration": 133,
    "start_time": "2025-02-25T07:43:58.960Z"
   },
   {
    "duration": 41,
    "start_time": "2025-02-25T07:43:59.099Z"
   },
   {
    "duration": 36,
    "start_time": "2025-02-25T07:43:59.142Z"
   },
   {
    "duration": 29,
    "start_time": "2025-02-25T07:43:59.181Z"
   },
   {
    "duration": 253,
    "start_time": "2025-02-25T07:43:59.216Z"
   },
   {
    "duration": 4,
    "start_time": "2025-02-25T07:43:59.472Z"
   },
   {
    "duration": 45,
    "start_time": "2025-02-25T07:43:59.478Z"
   },
   {
    "duration": 6040,
    "start_time": "2025-02-25T07:45:47.124Z"
   },
   {
    "duration": 1666,
    "start_time": "2025-02-25T07:45:53.168Z"
   },
   {
    "duration": 119,
    "start_time": "2025-02-25T07:45:54.838Z"
   },
   {
    "duration": 16,
    "start_time": "2025-02-25T07:45:54.960Z"
   },
   {
    "duration": 14,
    "start_time": "2025-02-25T07:45:54.978Z"
   },
   {
    "duration": 185,
    "start_time": "2025-02-25T07:45:54.995Z"
   },
   {
    "duration": 158,
    "start_time": "2025-02-25T07:45:55.182Z"
   },
   {
    "duration": 307,
    "start_time": "2025-02-25T07:45:55.342Z"
   },
   {
    "duration": 17,
    "start_time": "2025-02-25T07:45:55.651Z"
   },
   {
    "duration": 46,
    "start_time": "2025-02-25T07:45:55.670Z"
   },
   {
    "duration": 13,
    "start_time": "2025-02-25T07:45:55.719Z"
   },
   {
    "duration": 13,
    "start_time": "2025-02-25T07:45:55.734Z"
   },
   {
    "duration": 175,
    "start_time": "2025-02-25T07:45:55.750Z"
   },
   {
    "duration": 188,
    "start_time": "2025-02-25T07:45:55.927Z"
   },
   {
    "duration": 127,
    "start_time": "2025-02-25T07:45:56.118Z"
   },
   {
    "duration": 130,
    "start_time": "2025-02-25T07:45:56.247Z"
   },
   {
    "duration": 27,
    "start_time": "2025-02-25T07:45:56.379Z"
   },
   {
    "duration": 4,
    "start_time": "2025-02-25T07:45:56.413Z"
   },
   {
    "duration": 895,
    "start_time": "2025-02-25T07:45:56.420Z"
   },
   {
    "duration": 7,
    "start_time": "2025-02-25T07:45:57.318Z"
   },
   {
    "duration": 329,
    "start_time": "2025-02-25T07:45:57.327Z"
   },
   {
    "duration": 6,
    "start_time": "2025-02-25T07:45:57.658Z"
   },
   {
    "duration": 6,
    "start_time": "2025-02-25T07:45:57.666Z"
   },
   {
    "duration": 41,
    "start_time": "2025-02-25T07:45:57.674Z"
   },
   {
    "duration": 46,
    "start_time": "2025-02-25T07:45:57.717Z"
   },
   {
    "duration": 22,
    "start_time": "2025-02-25T07:45:57.765Z"
   },
   {
    "duration": 40,
    "start_time": "2025-02-25T07:45:57.789Z"
   },
   {
    "duration": 21,
    "start_time": "2025-02-25T07:45:57.831Z"
   },
   {
    "duration": 5,
    "start_time": "2025-02-25T07:45:57.854Z"
   },
   {
    "duration": 23,
    "start_time": "2025-02-25T07:45:57.860Z"
   },
   {
    "duration": 166,
    "start_time": "2025-02-25T07:45:57.884Z"
   },
   {
    "duration": 241,
    "start_time": "2025-02-25T07:45:58.052Z"
   },
   {
    "duration": 5929,
    "start_time": "2025-02-25T07:45:58.295Z"
   },
   {
    "duration": 4,
    "start_time": "2025-02-25T07:46:04.226Z"
   },
   {
    "duration": 80,
    "start_time": "2025-02-25T07:46:04.232Z"
   },
   {
    "duration": 77,
    "start_time": "2025-02-25T07:46:04.315Z"
   },
   {
    "duration": 31,
    "start_time": "2025-02-25T07:46:04.395Z"
   },
   {
    "duration": 14,
    "start_time": "2025-02-25T07:46:04.428Z"
   },
   {
    "duration": 14,
    "start_time": "2025-02-25T07:46:04.444Z"
   },
   {
    "duration": 29,
    "start_time": "2025-02-25T07:46:04.462Z"
   },
   {
    "duration": 22,
    "start_time": "2025-02-25T07:46:04.493Z"
   },
   {
    "duration": 8,
    "start_time": "2025-02-25T07:46:04.517Z"
   },
   {
    "duration": 11,
    "start_time": "2025-02-25T07:46:04.527Z"
   },
   {
    "duration": 11,
    "start_time": "2025-02-25T07:46:04.540Z"
   },
   {
    "duration": 6,
    "start_time": "2025-02-25T07:46:04.554Z"
   },
   {
    "duration": 12,
    "start_time": "2025-02-25T07:46:04.566Z"
   },
   {
    "duration": 33,
    "start_time": "2025-02-25T07:46:04.580Z"
   },
   {
    "duration": 8269,
    "start_time": "2025-02-25T07:46:04.616Z"
   },
   {
    "duration": 5,
    "start_time": "2025-02-25T07:46:12.887Z"
   },
   {
    "duration": 99,
    "start_time": "2025-02-25T07:46:12.893Z"
   },
   {
    "duration": 39,
    "start_time": "2025-02-25T07:46:12.994Z"
   },
   {
    "duration": 100,
    "start_time": "2025-02-25T07:46:13.035Z"
   },
   {
    "duration": 8,
    "start_time": "2025-02-25T07:46:13.137Z"
   },
   {
    "duration": 310,
    "start_time": "2025-02-25T07:46:13.148Z"
   },
   {
    "duration": 3,
    "start_time": "2025-02-25T07:46:13.460Z"
   },
   {
    "duration": 69,
    "start_time": "2025-02-25T07:46:13.465Z"
   },
   {
    "duration": 5974,
    "start_time": "2025-02-25T07:47:29.153Z"
   },
   {
    "duration": 1953,
    "start_time": "2025-02-25T07:47:35.132Z"
   },
   {
    "duration": 146,
    "start_time": "2025-02-25T07:47:37.087Z"
   },
   {
    "duration": 22,
    "start_time": "2025-02-25T07:47:37.235Z"
   },
   {
    "duration": 69,
    "start_time": "2025-02-25T07:47:37.260Z"
   },
   {
    "duration": 262,
    "start_time": "2025-02-25T07:47:37.331Z"
   },
   {
    "duration": 166,
    "start_time": "2025-02-25T07:47:37.595Z"
   },
   {
    "duration": 306,
    "start_time": "2025-02-25T07:47:37.763Z"
   },
   {
    "duration": 16,
    "start_time": "2025-02-25T07:47:38.072Z"
   },
   {
    "duration": 46,
    "start_time": "2025-02-25T07:47:38.090Z"
   },
   {
    "duration": 30,
    "start_time": "2025-02-25T07:47:38.137Z"
   },
   {
    "duration": 52,
    "start_time": "2025-02-25T07:47:38.169Z"
   },
   {
    "duration": 215,
    "start_time": "2025-02-25T07:47:38.223Z"
   },
   {
    "duration": 176,
    "start_time": "2025-02-25T07:47:38.442Z"
   },
   {
    "duration": 151,
    "start_time": "2025-02-25T07:47:38.620Z"
   },
   {
    "duration": 150,
    "start_time": "2025-02-25T07:47:38.772Z"
   },
   {
    "duration": 16,
    "start_time": "2025-02-25T07:47:38.924Z"
   },
   {
    "duration": 26,
    "start_time": "2025-02-25T07:47:38.941Z"
   },
   {
    "duration": 922,
    "start_time": "2025-02-25T07:47:38.969Z"
   },
   {
    "duration": 26,
    "start_time": "2025-02-25T07:47:39.892Z"
   },
   {
    "duration": 298,
    "start_time": "2025-02-25T07:47:39.920Z"
   },
   {
    "duration": 5,
    "start_time": "2025-02-25T07:47:40.220Z"
   },
   {
    "duration": 12,
    "start_time": "2025-02-25T07:47:40.227Z"
   },
   {
    "duration": 118,
    "start_time": "2025-02-25T07:47:40.241Z"
   },
   {
    "duration": 60,
    "start_time": "2025-02-25T07:47:40.361Z"
   },
   {
    "duration": 18,
    "start_time": "2025-02-25T07:47:40.423Z"
   },
   {
    "duration": 23,
    "start_time": "2025-02-25T07:47:40.443Z"
   },
   {
    "duration": 55,
    "start_time": "2025-02-25T07:47:40.468Z"
   },
   {
    "duration": 6,
    "start_time": "2025-02-25T07:47:40.525Z"
   },
   {
    "duration": 15,
    "start_time": "2025-02-25T07:47:40.533Z"
   },
   {
    "duration": 191,
    "start_time": "2025-02-25T07:47:40.550Z"
   },
   {
    "duration": 205,
    "start_time": "2025-02-25T07:47:40.743Z"
   },
   {
    "duration": 5881,
    "start_time": "2025-02-25T07:47:40.951Z"
   },
   {
    "duration": 3,
    "start_time": "2025-02-25T07:47:46.835Z"
   },
   {
    "duration": 12,
    "start_time": "2025-02-25T07:47:46.840Z"
   },
   {
    "duration": 19,
    "start_time": "2025-02-25T07:47:46.854Z"
   },
   {
    "duration": 177,
    "start_time": "2025-02-25T07:47:46.875Z"
   },
   {
    "duration": 0,
    "start_time": "2025-02-25T07:47:47.055Z"
   },
   {
    "duration": 0,
    "start_time": "2025-02-25T07:47:47.056Z"
   },
   {
    "duration": 0,
    "start_time": "2025-02-25T07:47:47.058Z"
   },
   {
    "duration": 0,
    "start_time": "2025-02-25T07:47:47.059Z"
   },
   {
    "duration": 0,
    "start_time": "2025-02-25T07:47:47.060Z"
   },
   {
    "duration": 0,
    "start_time": "2025-02-25T07:47:47.062Z"
   },
   {
    "duration": 0,
    "start_time": "2025-02-25T07:47:47.064Z"
   },
   {
    "duration": 0,
    "start_time": "2025-02-25T07:47:47.065Z"
   },
   {
    "duration": 0,
    "start_time": "2025-02-25T07:47:47.067Z"
   },
   {
    "duration": 0,
    "start_time": "2025-02-25T07:47:47.068Z"
   },
   {
    "duration": 0,
    "start_time": "2025-02-25T07:47:47.069Z"
   },
   {
    "duration": 0,
    "start_time": "2025-02-25T07:47:47.111Z"
   },
   {
    "duration": 0,
    "start_time": "2025-02-25T07:47:47.112Z"
   },
   {
    "duration": 0,
    "start_time": "2025-02-25T07:47:47.113Z"
   },
   {
    "duration": 0,
    "start_time": "2025-02-25T07:47:47.118Z"
   },
   {
    "duration": 0,
    "start_time": "2025-02-25T07:47:47.121Z"
   },
   {
    "duration": 0,
    "start_time": "2025-02-25T07:47:47.123Z"
   },
   {
    "duration": 0,
    "start_time": "2025-02-25T07:47:47.125Z"
   },
   {
    "duration": 0,
    "start_time": "2025-02-25T07:47:47.127Z"
   },
   {
    "duration": 5925,
    "start_time": "2025-02-25T07:48:17.912Z"
   },
   {
    "duration": 1575,
    "start_time": "2025-02-25T07:48:23.840Z"
   },
   {
    "duration": 111,
    "start_time": "2025-02-25T07:48:25.417Z"
   },
   {
    "duration": 17,
    "start_time": "2025-02-25T07:48:25.531Z"
   },
   {
    "duration": 15,
    "start_time": "2025-02-25T07:48:25.551Z"
   },
   {
    "duration": 174,
    "start_time": "2025-02-25T07:48:25.568Z"
   },
   {
    "duration": 176,
    "start_time": "2025-02-25T07:48:25.745Z"
   },
   {
    "duration": 322,
    "start_time": "2025-02-25T07:48:25.923Z"
   },
   {
    "duration": 17,
    "start_time": "2025-02-25T07:48:26.246Z"
   },
   {
    "duration": 101,
    "start_time": "2025-02-25T07:48:26.265Z"
   },
   {
    "duration": 12,
    "start_time": "2025-02-25T07:48:26.368Z"
   },
   {
    "duration": 20,
    "start_time": "2025-02-25T07:48:26.382Z"
   },
   {
    "duration": 137,
    "start_time": "2025-02-25T07:48:26.412Z"
   },
   {
    "duration": 166,
    "start_time": "2025-02-25T07:48:26.553Z"
   },
   {
    "duration": 142,
    "start_time": "2025-02-25T07:48:26.721Z"
   },
   {
    "duration": 123,
    "start_time": "2025-02-25T07:48:26.865Z"
   },
   {
    "duration": 24,
    "start_time": "2025-02-25T07:48:26.990Z"
   },
   {
    "duration": 27,
    "start_time": "2025-02-25T07:48:27.016Z"
   },
   {
    "duration": 932,
    "start_time": "2025-02-25T07:48:27.045Z"
   },
   {
    "duration": 7,
    "start_time": "2025-02-25T07:48:27.979Z"
   },
   {
    "duration": 271,
    "start_time": "2025-02-25T07:48:27.988Z"
   },
   {
    "duration": 5,
    "start_time": "2025-02-25T07:48:28.261Z"
   },
   {
    "duration": 102,
    "start_time": "2025-02-25T07:48:28.268Z"
   },
   {
    "duration": 16,
    "start_time": "2025-02-25T07:48:28.372Z"
   },
   {
    "duration": 45,
    "start_time": "2025-02-25T07:48:28.390Z"
   },
   {
    "duration": 19,
    "start_time": "2025-02-25T07:48:28.437Z"
   },
   {
    "duration": 47,
    "start_time": "2025-02-25T07:48:28.459Z"
   },
   {
    "duration": 23,
    "start_time": "2025-02-25T07:48:28.512Z"
   },
   {
    "duration": 5,
    "start_time": "2025-02-25T07:48:28.537Z"
   },
   {
    "duration": 28,
    "start_time": "2025-02-25T07:48:28.543Z"
   },
   {
    "duration": 181,
    "start_time": "2025-02-25T07:48:28.573Z"
   },
   {
    "duration": 207,
    "start_time": "2025-02-25T07:48:28.756Z"
   },
   {
    "duration": 6087,
    "start_time": "2025-02-25T07:48:28.965Z"
   },
   {
    "duration": 3,
    "start_time": "2025-02-25T07:48:35.055Z"
   },
   {
    "duration": 53,
    "start_time": "2025-02-25T07:48:35.060Z"
   },
   {
    "duration": 10,
    "start_time": "2025-02-25T07:48:35.115Z"
   },
   {
    "duration": 169,
    "start_time": "2025-02-25T07:48:35.127Z"
   },
   {
    "duration": 0,
    "start_time": "2025-02-25T07:48:35.303Z"
   },
   {
    "duration": 0,
    "start_time": "2025-02-25T07:48:35.304Z"
   },
   {
    "duration": 0,
    "start_time": "2025-02-25T07:48:35.305Z"
   },
   {
    "duration": 0,
    "start_time": "2025-02-25T07:48:35.306Z"
   },
   {
    "duration": 0,
    "start_time": "2025-02-25T07:48:35.307Z"
   },
   {
    "duration": 0,
    "start_time": "2025-02-25T07:48:35.314Z"
   },
   {
    "duration": 0,
    "start_time": "2025-02-25T07:48:35.315Z"
   },
   {
    "duration": 0,
    "start_time": "2025-02-25T07:48:35.316Z"
   },
   {
    "duration": 0,
    "start_time": "2025-02-25T07:48:35.317Z"
   },
   {
    "duration": 0,
    "start_time": "2025-02-25T07:48:35.318Z"
   },
   {
    "duration": 0,
    "start_time": "2025-02-25T07:48:35.320Z"
   },
   {
    "duration": 0,
    "start_time": "2025-02-25T07:48:35.321Z"
   },
   {
    "duration": 0,
    "start_time": "2025-02-25T07:48:35.322Z"
   },
   {
    "duration": 0,
    "start_time": "2025-02-25T07:48:35.324Z"
   },
   {
    "duration": 0,
    "start_time": "2025-02-25T07:48:35.325Z"
   },
   {
    "duration": 0,
    "start_time": "2025-02-25T07:48:35.326Z"
   },
   {
    "duration": 0,
    "start_time": "2025-02-25T07:48:35.327Z"
   },
   {
    "duration": 0,
    "start_time": "2025-02-25T07:48:35.329Z"
   },
   {
    "duration": 0,
    "start_time": "2025-02-25T07:48:35.330Z"
   },
   {
    "duration": 5800,
    "start_time": "2025-02-25T07:48:43.060Z"
   },
   {
    "duration": 1532,
    "start_time": "2025-02-25T07:48:48.862Z"
   },
   {
    "duration": 133,
    "start_time": "2025-02-25T07:48:50.396Z"
   },
   {
    "duration": 16,
    "start_time": "2025-02-25T07:48:50.531Z"
   },
   {
    "duration": 17,
    "start_time": "2025-02-25T07:48:50.549Z"
   },
   {
    "duration": 166,
    "start_time": "2025-02-25T07:48:50.568Z"
   },
   {
    "duration": 154,
    "start_time": "2025-02-25T07:48:50.736Z"
   },
   {
    "duration": 321,
    "start_time": "2025-02-25T07:48:50.892Z"
   },
   {
    "duration": 17,
    "start_time": "2025-02-25T07:48:51.217Z"
   },
   {
    "duration": 14,
    "start_time": "2025-02-25T07:48:51.236Z"
   },
   {
    "duration": 32,
    "start_time": "2025-02-25T07:48:51.252Z"
   },
   {
    "duration": 109,
    "start_time": "2025-02-25T07:48:51.286Z"
   },
   {
    "duration": 219,
    "start_time": "2025-02-25T07:48:51.397Z"
   },
   {
    "duration": 151,
    "start_time": "2025-02-25T07:48:51.618Z"
   },
   {
    "duration": 146,
    "start_time": "2025-02-25T07:48:51.771Z"
   },
   {
    "duration": 131,
    "start_time": "2025-02-25T07:48:51.919Z"
   },
   {
    "duration": 12,
    "start_time": "2025-02-25T07:48:52.052Z"
   },
   {
    "duration": 3,
    "start_time": "2025-02-25T07:48:52.066Z"
   },
   {
    "duration": 874,
    "start_time": "2025-02-25T07:48:52.071Z"
   },
   {
    "duration": 7,
    "start_time": "2025-02-25T07:48:52.947Z"
   },
   {
    "duration": 259,
    "start_time": "2025-02-25T07:48:52.955Z"
   },
   {
    "duration": 6,
    "start_time": "2025-02-25T07:48:53.217Z"
   },
   {
    "duration": 5,
    "start_time": "2025-02-25T07:48:53.224Z"
   },
   {
    "duration": 21,
    "start_time": "2025-02-25T07:48:53.230Z"
   },
   {
    "duration": 58,
    "start_time": "2025-02-25T07:48:53.253Z"
   },
   {
    "duration": 17,
    "start_time": "2025-02-25T07:48:53.314Z"
   },
   {
    "duration": 88,
    "start_time": "2025-02-25T07:48:53.336Z"
   },
   {
    "duration": 22,
    "start_time": "2025-02-25T07:48:53.426Z"
   },
   {
    "duration": 5,
    "start_time": "2025-02-25T07:48:53.450Z"
   },
   {
    "duration": 18,
    "start_time": "2025-02-25T07:48:53.456Z"
   },
   {
    "duration": 164,
    "start_time": "2025-02-25T07:48:53.476Z"
   },
   {
    "duration": 199,
    "start_time": "2025-02-25T07:48:53.642Z"
   },
   {
    "duration": 5785,
    "start_time": "2025-02-25T07:48:53.843Z"
   },
   {
    "duration": 3,
    "start_time": "2025-02-25T07:48:59.630Z"
   },
   {
    "duration": 4,
    "start_time": "2025-02-25T07:48:59.635Z"
   },
   {
    "duration": 8,
    "start_time": "2025-02-25T07:48:59.641Z"
   },
   {
    "duration": 59,
    "start_time": "2025-02-25T07:48:59.651Z"
   },
   {
    "duration": 9,
    "start_time": "2025-02-25T07:48:59.713Z"
   },
   {
    "duration": 10,
    "start_time": "2025-02-25T07:48:59.724Z"
   },
   {
    "duration": 23,
    "start_time": "2025-02-25T07:48:59.736Z"
   },
   {
    "duration": 3,
    "start_time": "2025-02-25T07:48:59.761Z"
   },
   {
    "duration": 6,
    "start_time": "2025-02-25T07:48:59.766Z"
   },
   {
    "duration": 7,
    "start_time": "2025-02-25T07:48:59.773Z"
   },
   {
    "duration": 9,
    "start_time": "2025-02-25T07:48:59.802Z"
   },
   {
    "duration": 5,
    "start_time": "2025-02-25T07:48:59.814Z"
   },
   {
    "duration": 5,
    "start_time": "2025-02-25T07:48:59.821Z"
   },
   {
    "duration": 4,
    "start_time": "2025-02-25T07:48:59.828Z"
   },
   {
    "duration": 51913,
    "start_time": "2025-02-25T07:48:59.834Z"
   },
   {
    "duration": 4,
    "start_time": "2025-02-25T07:49:51.749Z"
   },
   {
    "duration": 78,
    "start_time": "2025-02-25T07:49:51.755Z"
   },
   {
    "duration": 35,
    "start_time": "2025-02-25T07:49:51.834Z"
   },
   {
    "duration": 58,
    "start_time": "2025-02-25T07:49:51.871Z"
   },
   {
    "duration": 9,
    "start_time": "2025-02-25T07:49:51.931Z"
   },
   {
    "duration": 277,
    "start_time": "2025-02-25T07:49:51.941Z"
   },
   {
    "duration": 3,
    "start_time": "2025-02-25T07:49:52.220Z"
   },
   {
    "duration": 131,
    "start_time": "2025-02-25T07:49:52.225Z"
   },
   {
    "duration": 6024,
    "start_time": "2025-02-25T08:02:40.480Z"
   },
   {
    "duration": 1750,
    "start_time": "2025-02-25T08:02:46.511Z"
   },
   {
    "duration": 114,
    "start_time": "2025-02-25T08:02:48.263Z"
   },
   {
    "duration": 16,
    "start_time": "2025-02-25T08:02:48.379Z"
   },
   {
    "duration": 54,
    "start_time": "2025-02-25T08:02:48.398Z"
   },
   {
    "duration": 187,
    "start_time": "2025-02-25T08:02:48.454Z"
   },
   {
    "duration": 156,
    "start_time": "2025-02-25T08:02:48.643Z"
   },
   {
    "duration": 337,
    "start_time": "2025-02-25T08:02:48.802Z"
   },
   {
    "duration": 18,
    "start_time": "2025-02-25T08:02:49.141Z"
   },
   {
    "duration": 39,
    "start_time": "2025-02-25T08:02:49.161Z"
   },
   {
    "duration": 22,
    "start_time": "2025-02-25T08:02:49.203Z"
   },
   {
    "duration": 34,
    "start_time": "2025-02-25T08:02:49.228Z"
   },
   {
    "duration": 138,
    "start_time": "2025-02-25T08:02:49.264Z"
   },
   {
    "duration": 175,
    "start_time": "2025-02-25T08:02:49.407Z"
   },
   {
    "duration": 159,
    "start_time": "2025-02-25T08:02:49.584Z"
   },
   {
    "duration": 138,
    "start_time": "2025-02-25T08:02:49.745Z"
   },
   {
    "duration": 25,
    "start_time": "2025-02-25T08:02:49.885Z"
   },
   {
    "duration": 9,
    "start_time": "2025-02-25T08:02:49.913Z"
   },
   {
    "duration": 974,
    "start_time": "2025-02-25T08:02:49.925Z"
   },
   {
    "duration": 11,
    "start_time": "2025-02-25T08:02:50.902Z"
   },
   {
    "duration": 287,
    "start_time": "2025-02-25T08:02:50.916Z"
   },
   {
    "duration": 8,
    "start_time": "2025-02-25T08:02:51.206Z"
   },
   {
    "duration": 10,
    "start_time": "2025-02-25T08:02:51.216Z"
   },
   {
    "duration": 20,
    "start_time": "2025-02-25T08:02:51.229Z"
   },
   {
    "duration": 58,
    "start_time": "2025-02-25T08:02:51.251Z"
   },
   {
    "duration": 23,
    "start_time": "2025-02-25T08:02:51.312Z"
   },
   {
    "duration": 28,
    "start_time": "2025-02-25T08:02:51.336Z"
   },
   {
    "duration": 53,
    "start_time": "2025-02-25T08:02:51.366Z"
   },
   {
    "duration": 10,
    "start_time": "2025-02-25T08:02:51.422Z"
   },
   {
    "duration": 140,
    "start_time": "2025-02-25T08:02:51.434Z"
   },
   {
    "duration": 182,
    "start_time": "2025-02-25T08:02:51.576Z"
   },
   {
    "duration": 228,
    "start_time": "2025-02-25T08:02:51.760Z"
   },
   {
    "duration": 6054,
    "start_time": "2025-02-25T08:02:51.990Z"
   },
   {
    "duration": 3,
    "start_time": "2025-02-25T08:02:58.047Z"
   },
   {
    "duration": 18,
    "start_time": "2025-02-25T08:02:58.052Z"
   },
   {
    "duration": 13,
    "start_time": "2025-02-25T08:02:58.072Z"
   },
   {
    "duration": 20,
    "start_time": "2025-02-25T08:02:58.087Z"
   },
   {
    "duration": 13,
    "start_time": "2025-02-25T08:02:58.110Z"
   },
   {
    "duration": 24,
    "start_time": "2025-02-25T08:02:58.125Z"
   },
   {
    "duration": 35,
    "start_time": "2025-02-25T08:02:58.151Z"
   },
   {
    "duration": 3,
    "start_time": "2025-02-25T08:02:58.192Z"
   },
   {
    "duration": 22,
    "start_time": "2025-02-25T08:02:58.197Z"
   },
   {
    "duration": 4,
    "start_time": "2025-02-25T08:02:58.224Z"
   },
   {
    "duration": 18,
    "start_time": "2025-02-25T08:02:58.231Z"
   },
   {
    "duration": 26,
    "start_time": "2025-02-25T08:02:58.250Z"
   },
   {
    "duration": 6,
    "start_time": "2025-02-25T08:02:58.278Z"
   },
   {
    "duration": 30,
    "start_time": "2025-02-25T08:02:58.286Z"
   },
   {
    "duration": 51212,
    "start_time": "2025-02-25T08:02:58.319Z"
   },
   {
    "duration": 4,
    "start_time": "2025-02-25T08:03:49.534Z"
   },
   {
    "duration": 67,
    "start_time": "2025-02-25T08:03:49.540Z"
   },
   {
    "duration": 37,
    "start_time": "2025-02-25T08:03:49.610Z"
   },
   {
    "duration": 62,
    "start_time": "2025-02-25T08:03:49.649Z"
   },
   {
    "duration": 9,
    "start_time": "2025-02-25T08:03:49.713Z"
   },
   {
    "duration": 224,
    "start_time": "2025-02-25T08:03:49.725Z"
   },
   {
    "duration": 3,
    "start_time": "2025-02-25T08:03:49.951Z"
   },
   {
    "duration": 13,
    "start_time": "2025-02-25T08:03:49.956Z"
   },
   {
    "duration": 10,
    "start_time": "2025-02-25T16:16:20.956Z"
   },
   {
    "duration": 6,
    "start_time": "2025-02-25T16:16:28.465Z"
   },
   {
    "duration": 5003,
    "start_time": "2025-02-25T16:16:37.985Z"
   },
   {
    "duration": 1379,
    "start_time": "2025-02-25T16:16:42.991Z"
   },
   {
    "duration": 96,
    "start_time": "2025-02-25T16:16:44.372Z"
   },
   {
    "duration": 14,
    "start_time": "2025-02-25T16:16:44.470Z"
   },
   {
    "duration": 16,
    "start_time": "2025-02-25T16:16:44.486Z"
   },
   {
    "duration": 136,
    "start_time": "2025-02-25T16:16:44.504Z"
   },
   {
    "duration": 116,
    "start_time": "2025-02-25T16:16:44.641Z"
   },
   {
    "duration": 240,
    "start_time": "2025-02-25T16:16:44.759Z"
   },
   {
    "duration": 20,
    "start_time": "2025-02-25T16:16:45.001Z"
   },
   {
    "duration": 19,
    "start_time": "2025-02-25T16:16:45.032Z"
   },
   {
    "duration": 37,
    "start_time": "2025-02-25T16:16:45.053Z"
   },
   {
    "duration": 30,
    "start_time": "2025-02-25T16:16:45.092Z"
   },
   {
    "duration": 149,
    "start_time": "2025-02-25T16:16:45.124Z"
   },
   {
    "duration": 128,
    "start_time": "2025-02-25T16:16:45.274Z"
   },
   {
    "duration": 178,
    "start_time": "2025-02-25T16:16:45.403Z"
   },
   {
    "duration": 103,
    "start_time": "2025-02-25T16:16:45.583Z"
   },
   {
    "duration": 10,
    "start_time": "2025-02-25T16:16:45.688Z"
   },
   {
    "duration": 17,
    "start_time": "2025-02-25T16:16:45.699Z"
   },
   {
    "duration": 691,
    "start_time": "2025-02-25T16:16:45.717Z"
   },
   {
    "duration": 7,
    "start_time": "2025-02-25T16:16:46.409Z"
   },
   {
    "duration": 215,
    "start_time": "2025-02-25T16:16:46.417Z"
   },
   {
    "duration": 6,
    "start_time": "2025-02-25T16:16:46.636Z"
   },
   {
    "duration": 12,
    "start_time": "2025-02-25T16:16:46.644Z"
   },
   {
    "duration": 19,
    "start_time": "2025-02-25T16:16:46.657Z"
   },
   {
    "duration": 29,
    "start_time": "2025-02-25T16:16:46.678Z"
   },
   {
    "duration": 10,
    "start_time": "2025-02-25T16:16:46.708Z"
   },
   {
    "duration": 25,
    "start_time": "2025-02-25T16:16:46.720Z"
   },
   {
    "duration": 125,
    "start_time": "2025-02-25T16:16:46.750Z"
   },
   {
    "duration": 33,
    "start_time": "2025-02-25T16:16:46.877Z"
   },
   {
    "duration": 26,
    "start_time": "2025-02-25T16:16:46.912Z"
   },
   {
    "duration": 148,
    "start_time": "2025-02-25T16:16:46.939Z"
   },
   {
    "duration": 163,
    "start_time": "2025-02-25T16:16:47.089Z"
   },
   {
    "duration": 4745,
    "start_time": "2025-02-25T16:16:47.254Z"
   },
   {
    "duration": 3,
    "start_time": "2025-02-25T16:16:52.000Z"
   },
   {
    "duration": 42,
    "start_time": "2025-02-25T16:16:52.005Z"
   },
   {
    "duration": 25,
    "start_time": "2025-02-25T16:16:52.049Z"
   },
   {
    "duration": 14,
    "start_time": "2025-02-25T16:16:52.076Z"
   },
   {
    "duration": 10,
    "start_time": "2025-02-25T16:16:52.092Z"
   },
   {
    "duration": 23,
    "start_time": "2025-02-25T16:16:52.104Z"
   },
   {
    "duration": 40,
    "start_time": "2025-02-25T16:16:52.129Z"
   },
   {
    "duration": 29,
    "start_time": "2025-02-25T16:16:52.171Z"
   },
   {
    "duration": 4,
    "start_time": "2025-02-25T16:16:52.202Z"
   },
   {
    "duration": 17,
    "start_time": "2025-02-25T16:16:52.207Z"
   },
   {
    "duration": 47,
    "start_time": "2025-02-25T16:16:52.226Z"
   },
   {
    "duration": 15,
    "start_time": "2025-02-25T16:16:52.275Z"
   },
   {
    "duration": 5,
    "start_time": "2025-02-25T16:16:52.292Z"
   },
   {
    "duration": 4,
    "start_time": "2025-02-25T16:16:52.298Z"
   },
   {
    "duration": 45314,
    "start_time": "2025-02-25T16:16:52.304Z"
   },
   {
    "duration": 4,
    "start_time": "2025-02-25T16:17:37.619Z"
   },
   {
    "duration": 64,
    "start_time": "2025-02-25T16:17:37.625Z"
   },
   {
    "duration": 27,
    "start_time": "2025-02-25T16:17:37.690Z"
   },
   {
    "duration": 57,
    "start_time": "2025-02-25T16:17:37.718Z"
   },
   {
    "duration": 7,
    "start_time": "2025-02-25T16:17:37.777Z"
   },
   {
    "duration": 197,
    "start_time": "2025-02-25T16:17:37.786Z"
   },
   {
    "duration": 3,
    "start_time": "2025-02-25T16:17:37.985Z"
   },
   {
    "duration": 55,
    "start_time": "2025-02-25T16:17:37.990Z"
   },
   {
    "duration": 11543,
    "start_time": "2025-02-26T08:28:15.529Z"
   },
   {
    "duration": 1727,
    "start_time": "2025-02-26T08:28:27.074Z"
   },
   {
    "duration": 369,
    "start_time": "2025-02-26T08:28:28.802Z"
   },
   {
    "duration": 17,
    "start_time": "2025-02-26T08:28:29.173Z"
   },
   {
    "duration": 14,
    "start_time": "2025-02-26T08:28:29.192Z"
   },
   {
    "duration": 140,
    "start_time": "2025-02-26T08:31:14.689Z"
   },
   {
    "duration": 117,
    "start_time": "2025-02-26T08:31:15.614Z"
   },
   {
    "duration": 257,
    "start_time": "2025-02-26T08:31:16.035Z"
   },
   {
    "duration": 17,
    "start_time": "2025-02-26T08:31:17.003Z"
   },
   {
    "duration": 12,
    "start_time": "2025-02-26T08:31:17.527Z"
   },
   {
    "duration": 8,
    "start_time": "2025-02-26T08:31:18.605Z"
   },
   {
    "duration": 12,
    "start_time": "2025-02-26T08:31:18.769Z"
   },
   {
    "duration": 114,
    "start_time": "2025-02-26T08:31:18.950Z"
   },
   {
    "duration": 130,
    "start_time": "2025-02-26T08:31:19.726Z"
   },
   {
    "duration": 115,
    "start_time": "2025-02-26T08:31:19.947Z"
   },
   {
    "duration": 106,
    "start_time": "2025-02-26T08:31:20.723Z"
   },
   {
    "duration": 11,
    "start_time": "2025-02-26T08:31:21.995Z"
   },
   {
    "duration": 3,
    "start_time": "2025-02-26T08:31:22.623Z"
   },
   {
    "duration": 720,
    "start_time": "2025-02-26T08:31:23.194Z"
   },
   {
    "duration": 7,
    "start_time": "2025-02-26T08:31:25.421Z"
   },
   {
    "duration": 212,
    "start_time": "2025-02-26T08:31:28.440Z"
   },
   {
    "duration": 4,
    "start_time": "2025-02-26T08:31:38.336Z"
   },
   {
    "duration": 4,
    "start_time": "2025-02-26T08:31:38.910Z"
   },
   {
    "duration": 13,
    "start_time": "2025-02-26T08:31:39.317Z"
   },
   {
    "duration": 24,
    "start_time": "2025-02-26T08:31:39.757Z"
   },
   {
    "duration": 12,
    "start_time": "2025-02-26T08:31:41.531Z"
   },
   {
    "duration": 17,
    "start_time": "2025-02-26T08:31:43.964Z"
   },
   {
    "duration": 18,
    "start_time": "2025-02-26T08:31:44.640Z"
   },
   {
    "duration": 5,
    "start_time": "2025-02-26T08:31:47.180Z"
   },
   {
    "duration": 7,
    "start_time": "2025-02-26T08:31:48.938Z"
   },
   {
    "duration": 130,
    "start_time": "2025-02-26T08:31:51.322Z"
   },
   {
    "duration": 160,
    "start_time": "2025-02-26T08:31:52.490Z"
   },
   {
    "duration": 4901,
    "start_time": "2025-02-26T08:31:55.024Z"
   },
   {
    "duration": 3,
    "start_time": "2025-02-26T08:35:39.792Z"
   },
   {
    "duration": 3,
    "start_time": "2025-02-26T08:35:54.576Z"
   },
   {
    "duration": 5,
    "start_time": "2025-02-26T08:35:54.877Z"
   },
   {
    "duration": 10,
    "start_time": "2025-02-26T08:35:55.109Z"
   },
   {
    "duration": 8,
    "start_time": "2025-02-26T08:35:55.472Z"
   },
   {
    "duration": 4,
    "start_time": "2025-02-26T08:35:56.315Z"
   },
   {
    "duration": 15,
    "start_time": "2025-02-26T08:35:57.277Z"
   },
   {
    "duration": 4,
    "start_time": "2025-02-26T08:35:59.154Z"
   },
   {
    "duration": 3,
    "start_time": "2025-02-26T08:36:01.642Z"
   },
   {
    "duration": 3,
    "start_time": "2025-02-26T08:36:01.832Z"
   },
   {
    "duration": 5,
    "start_time": "2025-02-26T08:36:02.054Z"
   },
   {
    "duration": 4,
    "start_time": "2025-02-26T08:36:02.277Z"
   },
   {
    "duration": 5,
    "start_time": "2025-02-26T08:36:02.812Z"
   },
   {
    "duration": 3,
    "start_time": "2025-02-26T08:36:06.103Z"
   },
   {
    "duration": 3,
    "start_time": "2025-02-26T08:36:15.588Z"
   },
   {
    "duration": 45042,
    "start_time": "2025-02-26T08:36:16.761Z"
   },
   {
    "duration": 5,
    "start_time": "2025-02-26T08:37:01.805Z"
   },
   {
    "duration": 60,
    "start_time": "2025-02-26T08:59:44.715Z"
   },
   {
    "duration": 39,
    "start_time": "2025-02-26T09:03:33.494Z"
   },
   {
    "duration": 41,
    "start_time": "2025-02-26T09:03:33.792Z"
   },
   {
    "duration": 7,
    "start_time": "2025-02-26T09:03:34.546Z"
   },
   {
    "duration": 172,
    "start_time": "2025-02-26T09:03:37.672Z"
   },
   {
    "duration": 4,
    "start_time": "2025-02-26T09:03:46.675Z"
   },
   {
    "duration": 13,
    "start_time": "2025-02-26T09:03:47.063Z"
   },
   {
    "duration": 5,
    "start_time": "2025-02-26T09:31:16.318Z"
   },
   {
    "duration": 3,
    "start_time": "2025-02-26T09:31:16.607Z"
   },
   {
    "duration": 22,
    "start_time": "2025-02-26T09:31:19.153Z"
   },
   {
    "duration": 24,
    "start_time": "2025-02-26T09:31:19.670Z"
   },
   {
    "duration": 12,
    "start_time": "2025-02-26T09:31:21.822Z"
   },
   {
    "duration": 18,
    "start_time": "2025-02-26T09:31:24.775Z"
   },
   {
    "duration": 19,
    "start_time": "2025-02-26T09:31:25.179Z"
   },
   {
    "duration": 4,
    "start_time": "2025-02-26T09:31:27.834Z"
   },
   {
    "duration": 8,
    "start_time": "2025-02-26T09:31:29.567Z"
   },
   {
    "duration": 158,
    "start_time": "2025-02-26T09:31:31.514Z"
   },
   {
    "duration": 2,
    "start_time": "2025-02-26T09:48:06.879Z"
   },
   {
    "duration": 3,
    "start_time": "2025-02-26T09:48:07.266Z"
   },
   {
    "duration": 9,
    "start_time": "2025-02-26T09:48:07.609Z"
   },
   {
    "duration": 10,
    "start_time": "2025-02-26T09:48:08.524Z"
   },
   {
    "duration": 9,
    "start_time": "2025-02-26T09:48:08.780Z"
   },
   {
    "duration": 4,
    "start_time": "2025-02-26T09:48:08.969Z"
   },
   {
    "duration": 16,
    "start_time": "2025-02-26T09:48:09.155Z"
   },
   {
    "duration": 4,
    "start_time": "2025-02-26T09:48:10.706Z"
   },
   {
    "duration": 3,
    "start_time": "2025-02-26T09:48:10.915Z"
   },
   {
    "duration": 3,
    "start_time": "2025-02-26T09:48:11.089Z"
   },
   {
    "duration": 3,
    "start_time": "2025-02-26T09:48:11.277Z"
   },
   {
    "duration": 3,
    "start_time": "2025-02-26T09:48:13.380Z"
   },
   {
    "duration": 5,
    "start_time": "2025-02-26T09:48:13.611Z"
   },
   {
    "duration": 4,
    "start_time": "2025-02-26T09:48:14.531Z"
   },
   {
    "duration": 42545,
    "start_time": "2025-02-26T09:48:14.782Z"
   },
   {
    "duration": 4,
    "start_time": "2025-02-26T09:48:57.329Z"
   },
   {
    "duration": 210,
    "start_time": "2025-02-26T09:48:57.334Z"
   },
   {
    "duration": 27,
    "start_time": "2025-02-26T09:48:57.546Z"
   },
   {
    "duration": 27,
    "start_time": "2025-02-26T09:48:57.575Z"
   },
   {
    "duration": 7,
    "start_time": "2025-02-26T09:48:57.604Z"
   },
   {
    "duration": 186,
    "start_time": "2025-02-26T09:48:57.612Z"
   },
   {
    "duration": 169,
    "start_time": "2025-02-26T09:49:14.549Z"
   },
   {
    "duration": 3,
    "start_time": "2025-02-26T09:49:15.101Z"
   },
   {
    "duration": 10,
    "start_time": "2025-02-26T09:49:16.091Z"
   },
   {
    "duration": 4969,
    "start_time": "2025-02-26T10:09:02.586Z"
   },
   {
    "duration": 1464,
    "start_time": "2025-02-26T10:09:07.557Z"
   },
   {
    "duration": 122,
    "start_time": "2025-02-26T10:09:09.022Z"
   },
   {
    "duration": 14,
    "start_time": "2025-02-26T10:09:09.145Z"
   },
   {
    "duration": 122,
    "start_time": "2025-02-26T10:09:09.161Z"
   },
   {
    "duration": 142,
    "start_time": "2025-02-26T10:09:09.285Z"
   },
   {
    "duration": 123,
    "start_time": "2025-02-26T10:09:09.429Z"
   },
   {
    "duration": 253,
    "start_time": "2025-02-26T10:09:09.554Z"
   },
   {
    "duration": 15,
    "start_time": "2025-02-26T10:09:09.808Z"
   },
   {
    "duration": 24,
    "start_time": "2025-02-26T10:09:09.825Z"
   },
   {
    "duration": 8,
    "start_time": "2025-02-26T10:09:09.851Z"
   },
   {
    "duration": 112,
    "start_time": "2025-02-26T10:09:09.860Z"
   },
   {
    "duration": 123,
    "start_time": "2025-02-26T10:09:09.973Z"
   },
   {
    "duration": 138,
    "start_time": "2025-02-26T10:09:10.098Z"
   },
   {
    "duration": 116,
    "start_time": "2025-02-26T10:09:10.237Z"
   },
   {
    "duration": 106,
    "start_time": "2025-02-26T10:09:10.355Z"
   },
   {
    "duration": 10,
    "start_time": "2025-02-26T10:09:10.463Z"
   },
   {
    "duration": 10,
    "start_time": "2025-02-26T10:09:10.474Z"
   },
   {
    "duration": 773,
    "start_time": "2025-02-26T10:09:10.485Z"
   },
   {
    "duration": 7,
    "start_time": "2025-02-26T10:09:11.260Z"
   },
   {
    "duration": 232,
    "start_time": "2025-02-26T10:09:11.268Z"
   },
   {
    "duration": 5,
    "start_time": "2025-02-26T10:09:11.501Z"
   },
   {
    "duration": 41,
    "start_time": "2025-02-26T10:09:11.507Z"
   },
   {
    "duration": 38,
    "start_time": "2025-02-26T10:09:11.549Z"
   },
   {
    "duration": 24,
    "start_time": "2025-02-26T10:09:11.588Z"
   },
   {
    "duration": 12,
    "start_time": "2025-02-26T10:09:11.614Z"
   },
   {
    "duration": 23,
    "start_time": "2025-02-26T10:09:11.627Z"
   },
   {
    "duration": 19,
    "start_time": "2025-02-26T10:09:11.651Z"
   },
   {
    "duration": 4,
    "start_time": "2025-02-26T10:09:11.672Z"
   },
   {
    "duration": 10,
    "start_time": "2025-02-26T10:09:11.677Z"
   },
   {
    "duration": 149,
    "start_time": "2025-02-26T10:09:11.688Z"
   },
   {
    "duration": 176,
    "start_time": "2025-02-26T10:09:11.838Z"
   },
   {
    "duration": 4860,
    "start_time": "2025-02-26T10:09:12.016Z"
   },
   {
    "duration": 2,
    "start_time": "2025-02-26T10:09:16.878Z"
   },
   {
    "duration": 7,
    "start_time": "2025-02-26T10:09:16.882Z"
   },
   {
    "duration": 15,
    "start_time": "2025-02-26T10:09:16.891Z"
   },
   {
    "duration": 32,
    "start_time": "2025-02-26T10:09:16.907Z"
   },
   {
    "duration": 9,
    "start_time": "2025-02-26T10:09:16.941Z"
   },
   {
    "duration": 3,
    "start_time": "2025-02-26T10:09:16.951Z"
   },
   {
    "duration": 25,
    "start_time": "2025-02-26T10:09:16.956Z"
   },
   {
    "duration": 3,
    "start_time": "2025-02-26T10:09:16.985Z"
   },
   {
    "duration": 11,
    "start_time": "2025-02-26T10:09:16.990Z"
   },
   {
    "duration": 7,
    "start_time": "2025-02-26T10:09:17.003Z"
   },
   {
    "duration": 14,
    "start_time": "2025-02-26T10:09:17.012Z"
   },
   {
    "duration": 17,
    "start_time": "2025-02-26T10:09:17.028Z"
   },
   {
    "duration": 8,
    "start_time": "2025-02-26T10:09:17.046Z"
   },
   {
    "duration": 30,
    "start_time": "2025-02-26T10:09:17.055Z"
   },
   {
    "duration": 44119,
    "start_time": "2025-02-26T10:09:17.087Z"
   },
   {
    "duration": 4,
    "start_time": "2025-02-26T10:10:01.207Z"
   },
   {
    "duration": 142,
    "start_time": "2025-02-26T10:10:01.213Z"
   },
   {
    "duration": 29,
    "start_time": "2025-02-26T10:10:01.357Z"
   },
   {
    "duration": 28,
    "start_time": "2025-02-26T10:10:01.388Z"
   },
   {
    "duration": 8,
    "start_time": "2025-02-26T10:10:01.417Z"
   },
   {
    "duration": 294,
    "start_time": "2025-02-26T10:10:01.426Z"
   },
   {
    "duration": 2,
    "start_time": "2025-02-26T10:10:01.722Z"
   },
   {
    "duration": 29,
    "start_time": "2025-02-26T10:10:01.726Z"
   },
   {
    "duration": 11517,
    "start_time": "2025-02-26T11:29:46.578Z"
   },
   {
    "duration": 1683,
    "start_time": "2025-02-26T11:29:58.098Z"
   },
   {
    "duration": 325,
    "start_time": "2025-02-26T11:29:59.785Z"
   },
   {
    "duration": 17,
    "start_time": "2025-02-26T11:30:00.112Z"
   },
   {
    "duration": 83,
    "start_time": "2025-02-26T11:30:00.131Z"
   },
   {
    "duration": 174,
    "start_time": "2025-02-26T11:30:00.216Z"
   },
   {
    "duration": 215,
    "start_time": "2025-02-26T11:30:00.392Z"
   },
   {
    "duration": 287,
    "start_time": "2025-02-26T11:30:00.608Z"
   },
   {
    "duration": 17,
    "start_time": "2025-02-26T11:30:00.901Z"
   },
   {
    "duration": 23,
    "start_time": "2025-02-26T11:30:00.920Z"
   },
   {
    "duration": 28,
    "start_time": "2025-02-26T11:30:00.945Z"
   },
   {
    "duration": 72,
    "start_time": "2025-02-26T11:30:00.975Z"
   },
   {
    "duration": 318,
    "start_time": "2025-02-26T11:30:01.049Z"
   },
   {
    "duration": 204,
    "start_time": "2025-02-26T11:30:01.369Z"
   },
   {
    "duration": 123,
    "start_time": "2025-02-26T11:30:01.574Z"
   },
   {
    "duration": 180,
    "start_time": "2025-02-26T11:30:01.699Z"
   },
   {
    "duration": 11,
    "start_time": "2025-02-26T11:30:01.881Z"
   },
   {
    "duration": 52,
    "start_time": "2025-02-26T11:30:01.893Z"
   },
   {
    "duration": 1003,
    "start_time": "2025-02-26T11:30:01.947Z"
   },
   {
    "duration": 8,
    "start_time": "2025-02-26T11:30:02.952Z"
   },
   {
    "duration": 192,
    "start_time": "2025-02-26T11:30:02.961Z"
   },
   {
    "duration": 5,
    "start_time": "2025-02-26T11:30:03.155Z"
   },
   {
    "duration": 73,
    "start_time": "2025-02-26T11:30:03.162Z"
   },
   {
    "duration": 31,
    "start_time": "2025-02-26T11:30:03.237Z"
   },
   {
    "duration": 174,
    "start_time": "2025-02-26T11:30:03.270Z"
   },
   {
    "duration": 55,
    "start_time": "2025-02-26T11:30:03.446Z"
   },
   {
    "duration": 208,
    "start_time": "2025-02-26T11:30:03.503Z"
   },
   {
    "duration": 52,
    "start_time": "2025-02-26T11:30:03.715Z"
   },
   {
    "duration": 24,
    "start_time": "2025-02-26T11:30:03.768Z"
   },
   {
    "duration": 50,
    "start_time": "2025-02-26T11:30:03.794Z"
   },
   {
    "duration": 184,
    "start_time": "2025-02-26T11:30:03.846Z"
   },
   {
    "duration": 189,
    "start_time": "2025-02-26T11:30:04.032Z"
   },
   {
    "duration": 5237,
    "start_time": "2025-02-26T11:30:04.222Z"
   },
   {
    "duration": 3,
    "start_time": "2025-02-26T11:30:09.460Z"
   },
   {
    "duration": 6,
    "start_time": "2025-02-26T11:30:09.465Z"
   },
   {
    "duration": 14,
    "start_time": "2025-02-26T11:30:09.473Z"
   },
   {
    "duration": 139,
    "start_time": "2025-02-26T11:30:09.489Z"
   },
   {
    "duration": 7,
    "start_time": "2025-02-26T11:30:09.630Z"
   },
   {
    "duration": 4,
    "start_time": "2025-02-26T11:30:09.639Z"
   },
   {
    "duration": 16,
    "start_time": "2025-02-26T11:30:09.644Z"
   },
   {
    "duration": 4,
    "start_time": "2025-02-26T11:30:09.661Z"
   },
   {
    "duration": 16,
    "start_time": "2025-02-26T11:30:09.673Z"
   },
   {
    "duration": 15,
    "start_time": "2025-02-26T11:30:09.690Z"
   },
   {
    "duration": 16,
    "start_time": "2025-02-26T11:30:09.706Z"
   },
   {
    "duration": 15,
    "start_time": "2025-02-26T11:30:09.724Z"
   },
   {
    "duration": 31,
    "start_time": "2025-02-26T11:30:09.741Z"
   },
   {
    "duration": 18,
    "start_time": "2025-02-26T11:30:09.773Z"
   },
   {
    "duration": 45939,
    "start_time": "2025-02-26T11:30:09.793Z"
   },
   {
    "duration": 4,
    "start_time": "2025-02-26T11:30:55.734Z"
   },
   {
    "duration": 56,
    "start_time": "2025-02-26T11:30:55.740Z"
   },
   {
    "duration": 29,
    "start_time": "2025-02-26T11:30:55.798Z"
   },
   {
    "duration": 29,
    "start_time": "2025-02-26T11:30:55.829Z"
   },
   {
    "duration": 7,
    "start_time": "2025-02-26T11:30:55.860Z"
   },
   {
    "duration": 233,
    "start_time": "2025-02-26T11:30:55.869Z"
   },
   {
    "duration": 5,
    "start_time": "2025-02-26T11:30:56.104Z"
   },
   {
    "duration": 14,
    "start_time": "2025-02-26T11:30:56.112Z"
   },
   {
    "duration": 12277,
    "start_time": "2025-02-26T16:54:27.199Z"
   },
   {
    "duration": 1756,
    "start_time": "2025-02-26T16:54:39.478Z"
   },
   {
    "duration": 156,
    "start_time": "2025-02-26T16:58:52.025Z"
   },
   {
    "duration": 103,
    "start_time": "2025-02-26T17:00:39.474Z"
   },
   {
    "duration": 112,
    "start_time": "2025-02-26T17:00:44.255Z"
   },
   {
    "duration": 22,
    "start_time": "2025-02-26T17:00:45.015Z"
   },
   {
    "duration": 14,
    "start_time": "2025-02-26T17:00:46.981Z"
   },
   {
    "duration": 149,
    "start_time": "2025-02-26T17:00:48.038Z"
   },
   {
    "duration": 212,
    "start_time": "2025-02-26T17:00:48.551Z"
   },
   {
    "duration": 208,
    "start_time": "2025-02-26T17:00:48.765Z"
   },
   {
    "duration": 16,
    "start_time": "2025-02-26T17:00:48.975Z"
   },
   {
    "duration": 16,
    "start_time": "2025-02-26T17:00:49.906Z"
   },
   {
    "duration": 11,
    "start_time": "2025-02-26T17:00:50.806Z"
   },
   {
    "duration": 17,
    "start_time": "2025-02-26T17:00:51.886Z"
   },
   {
    "duration": 121,
    "start_time": "2025-02-26T17:00:53.673Z"
   },
   {
    "duration": 151,
    "start_time": "2025-02-26T17:00:54.509Z"
   },
   {
    "duration": 137,
    "start_time": "2025-02-26T17:00:54.702Z"
   },
   {
    "duration": 113,
    "start_time": "2025-02-26T17:00:54.889Z"
   },
   {
    "duration": 13,
    "start_time": "2025-02-26T17:00:56.036Z"
   },
   {
    "duration": 3,
    "start_time": "2025-02-26T17:00:56.233Z"
   },
   {
    "duration": 916,
    "start_time": "2025-02-26T17:00:56.424Z"
   },
   {
    "duration": 7,
    "start_time": "2025-02-26T17:00:58.462Z"
   },
   {
    "duration": 135,
    "start_time": "2025-02-26T17:00:58.909Z"
   },
   {
    "duration": 7,
    "start_time": "2025-02-26T17:01:00.742Z"
   },
   {
    "duration": 5,
    "start_time": "2025-02-26T17:01:01.065Z"
   },
   {
    "duration": 16,
    "start_time": "2025-02-26T17:01:01.557Z"
   },
   {
    "duration": 27,
    "start_time": "2025-02-26T17:01:02.269Z"
   },
   {
    "duration": 13,
    "start_time": "2025-02-26T17:01:04.462Z"
   },
   {
    "duration": 18,
    "start_time": "2025-02-26T17:01:05.752Z"
   },
   {
    "duration": 25,
    "start_time": "2025-02-26T17:01:06.093Z"
   },
   {
    "duration": 5,
    "start_time": "2025-02-26T17:01:06.498Z"
   },
   {
    "duration": 10,
    "start_time": "2025-02-26T17:01:06.995Z"
   },
   {
    "duration": 163,
    "start_time": "2025-02-26T17:01:07.744Z"
   },
   {
    "duration": 204,
    "start_time": "2025-02-26T17:01:08.195Z"
   },
   {
    "duration": 5743,
    "start_time": "2025-02-26T17:01:11.255Z"
   },
   {
    "duration": 2,
    "start_time": "2025-02-26T17:01:26.402Z"
   },
   {
    "duration": 4,
    "start_time": "2025-02-26T17:01:26.678Z"
   },
   {
    "duration": 6,
    "start_time": "2025-02-26T17:01:27.028Z"
   },
   {
    "duration": 15,
    "start_time": "2025-02-26T17:01:27.321Z"
   },
   {
    "duration": 9,
    "start_time": "2025-02-26T17:01:27.628Z"
   },
   {
    "duration": 5,
    "start_time": "2025-02-26T17:01:27.925Z"
   },
   {
    "duration": 17,
    "start_time": "2025-02-26T17:01:28.385Z"
   },
   {
    "duration": 4,
    "start_time": "2025-02-26T17:01:31.174Z"
   },
   {
    "duration": 5,
    "start_time": "2025-02-26T17:01:31.713Z"
   },
   {
    "duration": 3,
    "start_time": "2025-02-26T17:01:31.906Z"
   },
   {
    "duration": 3,
    "start_time": "2025-02-26T17:01:32.072Z"
   },
   {
    "duration": 3,
    "start_time": "2025-02-26T17:01:32.244Z"
   },
   {
    "duration": 5,
    "start_time": "2025-02-26T17:01:32.666Z"
   },
   {
    "duration": 3,
    "start_time": "2025-02-26T17:01:34.298Z"
   },
   {
    "duration": 49711,
    "start_time": "2025-02-26T17:01:34.596Z"
   },
   {
    "duration": 3,
    "start_time": "2025-02-26T17:02:24.310Z"
   },
   {
    "duration": 61,
    "start_time": "2025-02-26T17:02:24.315Z"
   },
   {
    "duration": 29,
    "start_time": "2025-02-26T17:02:28.931Z"
   },
   {
    "duration": 40,
    "start_time": "2025-02-26T17:02:29.499Z"
   },
   {
    "duration": 7,
    "start_time": "2025-02-26T17:02:30.146Z"
   },
   {
    "duration": 205,
    "start_time": "2025-02-26T17:02:32.782Z"
   },
   {
    "duration": 3,
    "start_time": "2025-02-26T17:02:39.270Z"
   },
   {
    "duration": 17,
    "start_time": "2025-02-26T17:02:39.511Z"
   },
   {
    "duration": 50,
    "start_time": "2025-02-27T08:37:32.051Z"
   },
   {
    "duration": 11583,
    "start_time": "2025-02-27T08:37:37.244Z"
   },
   {
    "duration": 1667,
    "start_time": "2025-02-27T08:37:48.830Z"
   },
   {
    "duration": 101,
    "start_time": "2025-02-27T08:37:50.501Z"
   },
   {
    "duration": 16,
    "start_time": "2025-02-27T08:37:50.604Z"
   },
   {
    "duration": 27,
    "start_time": "2025-02-27T08:37:50.622Z"
   },
   {
    "duration": 154,
    "start_time": "2025-02-27T08:37:50.651Z"
   },
   {
    "duration": 218,
    "start_time": "2025-02-27T08:37:50.807Z"
   },
   {
    "duration": 193,
    "start_time": "2025-02-27T08:37:51.027Z"
   },
   {
    "duration": 16,
    "start_time": "2025-02-27T08:37:51.221Z"
   },
   {
    "duration": 33,
    "start_time": "2025-02-27T08:37:51.240Z"
   },
   {
    "duration": 26,
    "start_time": "2025-02-27T08:37:51.275Z"
   },
   {
    "duration": 16,
    "start_time": "2025-02-27T08:37:51.302Z"
   },
   {
    "duration": 119,
    "start_time": "2025-02-27T08:37:51.320Z"
   },
   {
    "duration": 146,
    "start_time": "2025-02-27T08:37:51.441Z"
   },
   {
    "duration": 130,
    "start_time": "2025-02-27T08:37:51.589Z"
   },
   {
    "duration": 118,
    "start_time": "2025-02-27T08:37:51.721Z"
   },
   {
    "duration": 10,
    "start_time": "2025-02-27T08:37:51.841Z"
   },
   {
    "duration": 108,
    "start_time": "2025-02-27T08:37:51.853Z"
   },
   {
    "duration": 900,
    "start_time": "2025-02-27T08:37:51.963Z"
   },
   {
    "duration": 7,
    "start_time": "2025-02-27T08:37:52.865Z"
   },
   {
    "duration": 301,
    "start_time": "2025-02-27T08:37:52.874Z"
   },
   {
    "duration": 70,
    "start_time": "2025-02-27T08:37:53.176Z"
   },
   {
    "duration": 58,
    "start_time": "2025-02-27T08:37:53.248Z"
   },
   {
    "duration": 22,
    "start_time": "2025-02-27T08:37:53.308Z"
   },
   {
    "duration": 36,
    "start_time": "2025-02-27T08:37:53.332Z"
   },
   {
    "duration": 193,
    "start_time": "2025-02-27T08:37:53.370Z"
   },
   {
    "duration": 66,
    "start_time": "2025-02-27T08:37:53.565Z"
   },
   {
    "duration": 26,
    "start_time": "2025-02-27T08:37:53.635Z"
   },
   {
    "duration": 16,
    "start_time": "2025-02-27T08:37:53.663Z"
   },
   {
    "duration": 47,
    "start_time": "2025-02-27T08:37:53.681Z"
   },
   {
    "duration": 168,
    "start_time": "2025-02-27T08:37:53.730Z"
   },
   {
    "duration": 201,
    "start_time": "2025-02-27T08:37:53.903Z"
   },
   {
    "duration": 5213,
    "start_time": "2025-02-27T08:37:54.106Z"
   },
   {
    "duration": 3,
    "start_time": "2025-02-27T08:37:59.320Z"
   },
   {
    "duration": 16,
    "start_time": "2025-02-27T08:37:59.324Z"
   },
   {
    "duration": 27,
    "start_time": "2025-02-27T08:37:59.342Z"
   },
   {
    "duration": 156,
    "start_time": "2025-02-27T08:37:59.371Z"
   },
   {
    "duration": 33,
    "start_time": "2025-02-27T08:37:59.529Z"
   },
   {
    "duration": 17,
    "start_time": "2025-02-27T08:37:59.564Z"
   },
   {
    "duration": 26,
    "start_time": "2025-02-27T08:37:59.583Z"
   },
   {
    "duration": 4,
    "start_time": "2025-02-27T08:37:59.611Z"
   },
   {
    "duration": 28,
    "start_time": "2025-02-27T08:37:59.617Z"
   },
   {
    "duration": 18,
    "start_time": "2025-02-27T08:37:59.646Z"
   },
   {
    "duration": 7,
    "start_time": "2025-02-27T08:37:59.666Z"
   },
   {
    "duration": 17,
    "start_time": "2025-02-27T08:37:59.675Z"
   },
   {
    "duration": 26,
    "start_time": "2025-02-27T08:37:59.694Z"
   },
   {
    "duration": 8,
    "start_time": "2025-02-27T08:37:59.722Z"
   },
   {
    "duration": 48331,
    "start_time": "2025-02-27T08:37:59.731Z"
   },
   {
    "duration": 3,
    "start_time": "2025-02-27T08:38:48.064Z"
   },
   {
    "duration": 88,
    "start_time": "2025-02-27T08:38:48.069Z"
   },
   {
    "duration": 30,
    "start_time": "2025-02-27T08:38:48.159Z"
   },
   {
    "duration": 34,
    "start_time": "2025-02-27T08:38:48.191Z"
   },
   {
    "duration": 9,
    "start_time": "2025-02-27T08:38:48.226Z"
   },
   {
    "duration": 215,
    "start_time": "2025-02-27T08:38:48.236Z"
   },
   {
    "duration": 3,
    "start_time": "2025-02-27T08:38:48.453Z"
   },
   {
    "duration": 83,
    "start_time": "2025-02-27T08:38:48.458Z"
   },
   {
    "duration": 188,
    "start_time": "2025-02-27T08:38:48.542Z"
   },
   {
    "duration": 12,
    "start_time": "2025-02-27T08:39:13.562Z"
   },
   {
    "duration": 10,
    "start_time": "2025-02-27T08:40:10.676Z"
   },
   {
    "duration": 4,
    "start_time": "2025-02-27T08:40:58.674Z"
   },
   {
    "duration": 11,
    "start_time": "2025-02-27T08:41:22.668Z"
   },
   {
    "duration": 28,
    "start_time": "2025-02-27T08:41:38.963Z"
   },
   {
    "duration": 11,
    "start_time": "2025-02-27T08:41:57.852Z"
   },
   {
    "duration": 9938,
    "start_time": "2025-02-27T08:42:38.035Z"
   },
   {
    "duration": 471,
    "start_time": "2025-02-27T08:42:49.986Z"
   },
   {
    "duration": 20,
    "start_time": "2025-02-27T08:42:58.074Z"
   },
   {
    "duration": 1648,
    "start_time": "2025-02-27T08:43:20.915Z"
   },
   {
    "duration": 37,
    "start_time": "2025-02-27T08:43:45.834Z"
   },
   {
    "duration": 14,
    "start_time": "2025-02-27T08:43:53.262Z"
   },
   {
    "duration": 22,
    "start_time": "2025-02-27T08:44:24.752Z"
   },
   {
    "duration": 12,
    "start_time": "2025-02-27T08:45:14.537Z"
   },
   {
    "duration": 13,
    "start_time": "2025-02-27T08:45:20.271Z"
   },
   {
    "duration": 11,
    "start_time": "2025-02-27T08:55:00.544Z"
   },
   {
    "duration": 14,
    "start_time": "2025-02-27T08:55:36.799Z"
   },
   {
    "duration": 14,
    "start_time": "2025-02-27T08:55:41.841Z"
   },
   {
    "duration": 8,
    "start_time": "2025-02-27T08:56:03.635Z"
   },
   {
    "duration": 156,
    "start_time": "2025-02-27T08:56:31.062Z"
   },
   {
    "duration": 157,
    "start_time": "2025-02-27T08:57:04.532Z"
   },
   {
    "duration": 151,
    "start_time": "2025-02-27T08:57:22.128Z"
   },
   {
    "duration": 7795,
    "start_time": "2025-02-27T08:57:54.781Z"
   },
   {
    "duration": 1952,
    "start_time": "2025-02-27T08:58:02.578Z"
   },
   {
    "duration": 99,
    "start_time": "2025-02-27T08:58:04.532Z"
   },
   {
    "duration": 40,
    "start_time": "2025-02-27T08:58:04.634Z"
   },
   {
    "duration": 68,
    "start_time": "2025-02-27T08:58:04.676Z"
   },
   {
    "duration": 159,
    "start_time": "2025-02-27T08:58:04.747Z"
   },
   {
    "duration": 138,
    "start_time": "2025-02-27T08:58:04.908Z"
   },
   {
    "duration": 199,
    "start_time": "2025-02-27T08:58:05.048Z"
   },
   {
    "duration": 17,
    "start_time": "2025-02-27T08:58:05.249Z"
   },
   {
    "duration": 80,
    "start_time": "2025-02-27T08:58:05.270Z"
   },
   {
    "duration": 55,
    "start_time": "2025-02-27T08:58:05.352Z"
   },
   {
    "duration": 51,
    "start_time": "2025-02-27T08:58:05.409Z"
   },
   {
    "duration": 275,
    "start_time": "2025-02-27T08:58:05.462Z"
   },
   {
    "duration": 145,
    "start_time": "2025-02-27T08:58:05.739Z"
   },
   {
    "duration": 256,
    "start_time": "2025-02-27T08:58:05.886Z"
   },
   {
    "duration": 116,
    "start_time": "2025-02-27T08:58:06.144Z"
   },
   {
    "duration": 11,
    "start_time": "2025-02-27T08:58:06.262Z"
   },
   {
    "duration": 51,
    "start_time": "2025-02-27T08:58:06.275Z"
   },
   {
    "duration": 760,
    "start_time": "2025-02-27T08:58:06.328Z"
   },
   {
    "duration": 16,
    "start_time": "2025-02-27T08:58:07.090Z"
   },
   {
    "duration": 138,
    "start_time": "2025-02-27T08:58:07.107Z"
   },
   {
    "duration": 5,
    "start_time": "2025-02-27T08:58:07.246Z"
   },
   {
    "duration": 102,
    "start_time": "2025-02-27T08:58:07.252Z"
   },
   {
    "duration": 36,
    "start_time": "2025-02-27T08:58:07.356Z"
   },
   {
    "duration": 43,
    "start_time": "2025-02-27T08:58:07.394Z"
   },
   {
    "duration": 12,
    "start_time": "2025-02-27T08:58:07.439Z"
   },
   {
    "duration": 196,
    "start_time": "2025-02-27T08:58:07.453Z"
   },
   {
    "duration": 18,
    "start_time": "2025-02-27T08:58:07.653Z"
   },
   {
    "duration": 29,
    "start_time": "2025-02-27T08:58:07.672Z"
   },
   {
    "duration": 37,
    "start_time": "2025-02-27T08:58:07.703Z"
   },
   {
    "duration": 163,
    "start_time": "2025-02-27T08:58:07.742Z"
   },
   {
    "duration": 183,
    "start_time": "2025-02-27T08:58:07.907Z"
   },
   {
    "duration": 5259,
    "start_time": "2025-02-27T08:58:08.092Z"
   },
   {
    "duration": 2,
    "start_time": "2025-02-27T08:58:13.353Z"
   },
   {
    "duration": 25,
    "start_time": "2025-02-27T08:58:13.357Z"
   },
   {
    "duration": 9,
    "start_time": "2025-02-27T08:58:13.383Z"
   },
   {
    "duration": 33,
    "start_time": "2025-02-27T08:58:13.393Z"
   },
   {
    "duration": 7,
    "start_time": "2025-02-27T08:58:13.428Z"
   },
   {
    "duration": 6,
    "start_time": "2025-02-27T08:58:13.437Z"
   },
   {
    "duration": 161,
    "start_time": "2025-02-27T08:58:13.444Z"
   },
   {
    "duration": 11,
    "start_time": "2025-02-27T08:58:13.607Z"
   },
   {
    "duration": 21,
    "start_time": "2025-02-27T08:58:13.620Z"
   },
   {
    "duration": 5,
    "start_time": "2025-02-27T08:58:13.643Z"
   },
   {
    "duration": 7,
    "start_time": "2025-02-27T08:58:13.650Z"
   },
   {
    "duration": 7,
    "start_time": "2025-02-27T08:58:13.658Z"
   },
   {
    "duration": 16,
    "start_time": "2025-02-27T08:58:13.666Z"
   },
   {
    "duration": 6,
    "start_time": "2025-02-27T08:58:13.684Z"
   },
   {
    "duration": 47240,
    "start_time": "2025-02-27T08:58:13.691Z"
   },
   {
    "duration": 4,
    "start_time": "2025-02-27T08:59:00.933Z"
   },
   {
    "duration": 102,
    "start_time": "2025-02-27T08:59:00.938Z"
   },
   {
    "duration": 31,
    "start_time": "2025-02-27T08:59:01.042Z"
   },
   {
    "duration": 46,
    "start_time": "2025-02-27T08:59:01.075Z"
   },
   {
    "duration": 7,
    "start_time": "2025-02-27T08:59:01.123Z"
   },
   {
    "duration": 213,
    "start_time": "2025-02-27T08:59:01.131Z"
   },
   {
    "duration": 3,
    "start_time": "2025-02-27T08:59:01.346Z"
   },
   {
    "duration": 15,
    "start_time": "2025-02-27T08:59:01.351Z"
   },
   {
    "duration": 84,
    "start_time": "2025-02-27T08:59:01.368Z"
   },
   {
    "duration": 304,
    "start_time": "2025-02-27T08:59:01.454Z"
   },
   {
    "duration": 165,
    "start_time": "2025-02-27T10:23:07.844Z"
   },
   {
    "duration": 6,
    "start_time": "2025-02-27T10:23:24.824Z"
   },
   {
    "duration": 5,
    "start_time": "2025-02-27T10:24:06.674Z"
   },
   {
    "duration": 5,
    "start_time": "2025-02-27T10:24:13.629Z"
   },
   {
    "duration": 8039,
    "start_time": "2025-02-27T10:36:02.450Z"
   },
   {
    "duration": 1910,
    "start_time": "2025-02-27T10:36:10.492Z"
   },
   {
    "duration": 98,
    "start_time": "2025-02-27T10:36:12.404Z"
   },
   {
    "duration": 16,
    "start_time": "2025-02-27T10:36:12.504Z"
   },
   {
    "duration": 20,
    "start_time": "2025-02-27T10:36:12.521Z"
   },
   {
    "duration": 157,
    "start_time": "2025-02-27T10:36:12.543Z"
   },
   {
    "duration": 137,
    "start_time": "2025-02-27T10:36:12.702Z"
   },
   {
    "duration": 211,
    "start_time": "2025-02-27T10:36:12.841Z"
   },
   {
    "duration": 16,
    "start_time": "2025-02-27T10:36:13.054Z"
   },
   {
    "duration": 35,
    "start_time": "2025-02-27T10:36:13.073Z"
   },
   {
    "duration": 9,
    "start_time": "2025-02-27T10:36:13.109Z"
   },
   {
    "duration": 27,
    "start_time": "2025-02-27T10:36:13.119Z"
   },
   {
    "duration": 132,
    "start_time": "2025-02-27T10:36:13.148Z"
   },
   {
    "duration": 141,
    "start_time": "2025-02-27T10:36:13.282Z"
   },
   {
    "duration": 232,
    "start_time": "2025-02-27T10:36:13.425Z"
   },
   {
    "duration": 112,
    "start_time": "2025-02-27T10:36:13.658Z"
   },
   {
    "duration": 10,
    "start_time": "2025-02-27T10:36:13.772Z"
   },
   {
    "duration": 13,
    "start_time": "2025-02-27T10:36:13.784Z"
   },
   {
    "duration": 788,
    "start_time": "2025-02-27T10:36:13.803Z"
   },
   {
    "duration": 12,
    "start_time": "2025-02-27T10:36:14.592Z"
   },
   {
    "duration": 143,
    "start_time": "2025-02-27T10:36:14.605Z"
   },
   {
    "duration": 5,
    "start_time": "2025-02-27T10:36:14.750Z"
   },
   {
    "duration": 33,
    "start_time": "2025-02-27T10:36:14.756Z"
   },
   {
    "duration": 64,
    "start_time": "2025-02-27T10:36:14.791Z"
   },
   {
    "duration": 49,
    "start_time": "2025-02-27T10:36:14.857Z"
   },
   {
    "duration": 219,
    "start_time": "2025-02-27T10:36:14.907Z"
   },
   {
    "duration": 113,
    "start_time": "2025-02-27T10:36:15.128Z"
   },
   {
    "duration": 88,
    "start_time": "2025-02-27T10:36:15.245Z"
   },
   {
    "duration": 74,
    "start_time": "2025-02-27T10:36:15.335Z"
   },
   {
    "duration": 80,
    "start_time": "2025-02-27T10:36:15.411Z"
   },
   {
    "duration": 149,
    "start_time": "2025-02-27T10:36:15.493Z"
   },
   {
    "duration": 182,
    "start_time": "2025-02-27T10:36:15.644Z"
   },
   {
    "duration": 5296,
    "start_time": "2025-02-27T10:36:15.827Z"
   },
   {
    "duration": 3,
    "start_time": "2025-02-27T10:36:21.124Z"
   },
   {
    "duration": 46,
    "start_time": "2025-02-27T10:36:21.129Z"
   },
   {
    "duration": 59,
    "start_time": "2025-02-27T10:36:21.176Z"
   },
   {
    "duration": 93,
    "start_time": "2025-02-27T10:36:21.237Z"
   },
   {
    "duration": 23,
    "start_time": "2025-02-27T10:36:21.332Z"
   },
   {
    "duration": 87,
    "start_time": "2025-02-27T10:36:21.357Z"
   },
   {
    "duration": 38,
    "start_time": "2025-02-27T10:36:21.446Z"
   },
   {
    "duration": 3,
    "start_time": "2025-02-27T10:36:21.486Z"
   },
   {
    "duration": 22,
    "start_time": "2025-02-27T10:36:21.491Z"
   },
   {
    "duration": 54,
    "start_time": "2025-02-27T10:36:21.515Z"
   },
   {
    "duration": 21,
    "start_time": "2025-02-27T10:36:21.571Z"
   },
   {
    "duration": 6,
    "start_time": "2025-02-27T10:36:21.593Z"
   },
   {
    "duration": 40,
    "start_time": "2025-02-27T10:36:21.600Z"
   },
   {
    "duration": 20,
    "start_time": "2025-02-27T10:36:21.641Z"
   },
   {
    "duration": 47500,
    "start_time": "2025-02-27T10:36:21.663Z"
   },
   {
    "duration": 4,
    "start_time": "2025-02-27T10:37:09.165Z"
   },
   {
    "duration": 57,
    "start_time": "2025-02-27T10:37:09.170Z"
   },
   {
    "duration": 31,
    "start_time": "2025-02-27T10:37:09.229Z"
   },
   {
    "duration": 41,
    "start_time": "2025-02-27T10:37:09.262Z"
   },
   {
    "duration": 7,
    "start_time": "2025-02-27T10:37:09.305Z"
   },
   {
    "duration": 203,
    "start_time": "2025-02-27T10:37:09.313Z"
   },
   {
    "duration": 2,
    "start_time": "2025-02-27T10:37:09.518Z"
   },
   {
    "duration": 15,
    "start_time": "2025-02-27T10:37:09.522Z"
   },
   {
    "duration": 7,
    "start_time": "2025-02-27T10:37:09.539Z"
   },
   {
    "duration": 177,
    "start_time": "2025-02-27T10:37:09.548Z"
   },
   {
    "duration": 5,
    "start_time": "2025-02-27T10:37:09.726Z"
   },
   {
    "duration": 21857,
    "start_time": "2025-02-27T15:27:34.689Z"
   },
   {
    "duration": 2307,
    "start_time": "2025-02-27T15:27:56.548Z"
   },
   {
    "duration": 379,
    "start_time": "2025-02-27T15:27:58.857Z"
   },
   {
    "duration": 17,
    "start_time": "2025-02-27T15:27:59.238Z"
   },
   {
    "duration": 18,
    "start_time": "2025-02-27T15:27:59.257Z"
   },
   {
    "duration": 174,
    "start_time": "2025-02-27T15:27:59.280Z"
   },
   {
    "duration": 158,
    "start_time": "2025-02-27T15:27:59.455Z"
   },
   {
    "duration": 208,
    "start_time": "2025-02-27T15:27:59.615Z"
   },
   {
    "duration": 18,
    "start_time": "2025-02-27T15:27:59.825Z"
   },
   {
    "duration": 45,
    "start_time": "2025-02-27T15:27:59.844Z"
   },
   {
    "duration": 9,
    "start_time": "2025-02-27T15:27:59.891Z"
   },
   {
    "duration": 13,
    "start_time": "2025-02-27T15:27:59.901Z"
   },
   {
    "duration": 141,
    "start_time": "2025-02-27T15:27:59.917Z"
   },
   {
    "duration": 274,
    "start_time": "2025-02-27T15:28:00.061Z"
   },
   {
    "duration": 149,
    "start_time": "2025-02-27T15:28:00.337Z"
   },
   {
    "duration": 122,
    "start_time": "2025-02-27T15:28:00.489Z"
   },
   {
    "duration": 12,
    "start_time": "2025-02-27T15:28:00.613Z"
   },
   {
    "duration": 8,
    "start_time": "2025-02-27T15:28:00.628Z"
   },
   {
    "duration": 891,
    "start_time": "2025-02-27T15:28:00.637Z"
   },
   {
    "duration": 8,
    "start_time": "2025-02-27T15:28:01.530Z"
   },
   {
    "duration": 159,
    "start_time": "2025-02-27T15:28:01.540Z"
   },
   {
    "duration": 6,
    "start_time": "2025-02-27T15:28:01.702Z"
   },
   {
    "duration": 7,
    "start_time": "2025-02-27T15:28:01.710Z"
   },
   {
    "duration": 16,
    "start_time": "2025-02-27T15:28:01.720Z"
   },
   {
    "duration": 58,
    "start_time": "2025-02-27T15:28:01.738Z"
   },
   {
    "duration": 14,
    "start_time": "2025-02-27T15:28:01.797Z"
   },
   {
    "duration": 28,
    "start_time": "2025-02-27T15:28:01.812Z"
   },
   {
    "duration": 41,
    "start_time": "2025-02-27T15:28:01.842Z"
   },
   {
    "duration": 6,
    "start_time": "2025-02-27T15:28:01.887Z"
   },
   {
    "duration": 24,
    "start_time": "2025-02-27T15:28:01.895Z"
   },
   {
    "duration": 180,
    "start_time": "2025-02-27T15:28:01.921Z"
   },
   {
    "duration": 219,
    "start_time": "2025-02-27T15:28:02.104Z"
   },
   {
    "duration": 5872,
    "start_time": "2025-02-27T15:28:02.325Z"
   },
   {
    "duration": 3,
    "start_time": "2025-02-27T15:28:08.198Z"
   },
   {
    "duration": 17,
    "start_time": "2025-02-27T15:28:08.203Z"
   },
   {
    "duration": 15,
    "start_time": "2025-02-27T15:28:08.222Z"
   },
   {
    "duration": 28,
    "start_time": "2025-02-27T15:28:08.239Z"
   },
   {
    "duration": 32,
    "start_time": "2025-02-27T15:28:08.269Z"
   },
   {
    "duration": 38,
    "start_time": "2025-02-27T15:28:08.303Z"
   },
   {
    "duration": 19,
    "start_time": "2025-02-27T15:28:08.343Z"
   },
   {
    "duration": 6,
    "start_time": "2025-02-27T15:28:08.367Z"
   },
   {
    "duration": 10,
    "start_time": "2025-02-27T15:28:08.379Z"
   },
   {
    "duration": 4,
    "start_time": "2025-02-27T15:28:08.390Z"
   },
   {
    "duration": 3,
    "start_time": "2025-02-27T15:28:08.396Z"
   },
   {
    "duration": 4,
    "start_time": "2025-02-27T15:28:08.401Z"
   },
   {
    "duration": 5,
    "start_time": "2025-02-27T15:28:08.408Z"
   },
   {
    "duration": 5,
    "start_time": "2025-02-27T15:28:08.415Z"
   },
   {
    "duration": 50165,
    "start_time": "2025-02-27T15:28:08.422Z"
   },
   {
    "duration": 5,
    "start_time": "2025-02-27T15:28:58.589Z"
   },
   {
    "duration": 54,
    "start_time": "2025-02-27T15:28:58.595Z"
   },
   {
    "duration": 50,
    "start_time": "2025-02-27T15:28:58.651Z"
   },
   {
    "duration": 31,
    "start_time": "2025-02-27T15:28:58.703Z"
   },
   {
    "duration": 8,
    "start_time": "2025-02-27T15:28:58.736Z"
   },
   {
    "duration": 248,
    "start_time": "2025-02-27T15:28:58.745Z"
   },
   {
    "duration": 3,
    "start_time": "2025-02-27T15:28:58.994Z"
   },
   {
    "duration": 14,
    "start_time": "2025-02-27T15:28:58.999Z"
   },
   {
    "duration": 11,
    "start_time": "2025-02-27T15:28:59.015Z"
   },
   {
    "duration": 220,
    "start_time": "2025-02-27T15:28:59.028Z"
   },
   {
    "duration": 6,
    "start_time": "2025-02-27T15:28:59.249Z"
   },
   {
    "duration": 14538,
    "start_time": "2025-02-28T06:14:24.732Z"
   },
   {
    "duration": 1927,
    "start_time": "2025-02-28T06:14:39.272Z"
   },
   {
    "duration": 322,
    "start_time": "2025-02-28T06:14:41.200Z"
   },
   {
    "duration": 15,
    "start_time": "2025-02-28T06:14:41.524Z"
   },
   {
    "duration": 19,
    "start_time": "2025-02-28T06:14:41.540Z"
   },
   {
    "duration": 152,
    "start_time": "2025-02-28T06:14:41.561Z"
   },
   {
    "duration": 128,
    "start_time": "2025-02-28T06:14:41.715Z"
   },
   {
    "duration": 178,
    "start_time": "2025-02-28T06:14:41.845Z"
   },
   {
    "duration": 15,
    "start_time": "2025-02-28T06:14:42.024Z"
   },
   {
    "duration": 12,
    "start_time": "2025-02-28T06:14:42.041Z"
   },
   {
    "duration": 13,
    "start_time": "2025-02-28T06:14:42.054Z"
   },
   {
    "duration": 11,
    "start_time": "2025-02-28T06:14:42.068Z"
   },
   {
    "duration": 250,
    "start_time": "2025-02-28T06:14:42.080Z"
   },
   {
    "duration": 225,
    "start_time": "2025-02-28T06:14:42.332Z"
   },
   {
    "duration": 106,
    "start_time": "2025-02-28T06:14:46.359Z"
   },
   {
    "duration": 96,
    "start_time": "2025-02-28T06:14:47.120Z"
   },
   {
    "duration": 11,
    "start_time": "2025-02-28T06:14:48.938Z"
   },
   {
    "duration": 3,
    "start_time": "2025-02-28T06:14:49.551Z"
   },
   {
    "duration": 680,
    "start_time": "2025-02-28T06:14:49.957Z"
   },
   {
    "duration": 7,
    "start_time": "2025-02-28T06:14:51.814Z"
   },
   {
    "duration": 128,
    "start_time": "2025-02-28T06:14:52.219Z"
   },
   {
    "duration": 5,
    "start_time": "2025-02-28T06:14:54.757Z"
   },
   {
    "duration": 4,
    "start_time": "2025-02-28T06:14:55.499Z"
   },
   {
    "duration": 15,
    "start_time": "2025-02-28T06:14:56.270Z"
   },
   {
    "duration": 24,
    "start_time": "2025-02-28T06:14:56.678Z"
   },
   {
    "duration": 12,
    "start_time": "2025-02-28T06:14:58.002Z"
   },
   {
    "duration": 21,
    "start_time": "2025-02-28T06:14:58.466Z"
   },
   {
    "duration": 18,
    "start_time": "2025-02-28T06:18:45.233Z"
   },
   {
    "duration": 5,
    "start_time": "2025-02-28T06:18:45.411Z"
   },
   {
    "duration": 8,
    "start_time": "2025-02-28T06:18:46.275Z"
   },
   {
    "duration": 132,
    "start_time": "2025-02-28T06:18:49.402Z"
   },
   {
    "duration": 3,
    "start_time": "2025-02-28T06:19:33.496Z"
   },
   {
    "duration": 4,
    "start_time": "2025-02-28T06:19:37.055Z"
   },
   {
    "duration": 2,
    "start_time": "2025-02-28T06:30:48.748Z"
   },
   {
    "duration": 4,
    "start_time": "2025-02-28T06:30:50.845Z"
   },
   {
    "duration": 3090,
    "start_time": "2025-02-28T06:31:39.637Z"
   },
   {
    "duration": 4,
    "start_time": "2025-02-28T06:33:13.102Z"
   },
   {
    "duration": 3,
    "start_time": "2025-02-28T06:34:56.921Z"
   },
   {
    "duration": 2757,
    "start_time": "2025-02-28T06:34:57.262Z"
   },
   {
    "duration": 7253,
    "start_time": "2025-02-28T06:42:47.379Z"
   },
   {
    "duration": 1787,
    "start_time": "2025-02-28T06:42:54.635Z"
   },
   {
    "duration": 98,
    "start_time": "2025-02-28T06:42:56.423Z"
   },
   {
    "duration": 14,
    "start_time": "2025-02-28T06:42:56.523Z"
   },
   {
    "duration": 27,
    "start_time": "2025-02-28T06:42:56.538Z"
   },
   {
    "duration": 131,
    "start_time": "2025-02-28T06:42:56.567Z"
   },
   {
    "duration": 115,
    "start_time": "2025-02-28T06:42:56.700Z"
   },
   {
    "duration": 174,
    "start_time": "2025-02-28T06:42:56.816Z"
   },
   {
    "duration": 19,
    "start_time": "2025-02-28T06:42:56.991Z"
   },
   {
    "duration": 27,
    "start_time": "2025-02-28T06:42:57.013Z"
   },
   {
    "duration": 19,
    "start_time": "2025-02-28T06:42:57.042Z"
   },
   {
    "duration": 11,
    "start_time": "2025-02-28T06:42:57.062Z"
   },
   {
    "duration": 104,
    "start_time": "2025-02-28T06:42:57.075Z"
   },
   {
    "duration": 132,
    "start_time": "2025-02-28T06:42:57.180Z"
   },
   {
    "duration": 206,
    "start_time": "2025-02-28T06:42:57.314Z"
   },
   {
    "duration": 102,
    "start_time": "2025-02-28T06:42:57.522Z"
   },
   {
    "duration": 11,
    "start_time": "2025-02-28T06:42:57.626Z"
   },
   {
    "duration": 11,
    "start_time": "2025-02-28T06:42:57.638Z"
   },
   {
    "duration": 721,
    "start_time": "2025-02-28T06:42:57.651Z"
   },
   {
    "duration": 7,
    "start_time": "2025-02-28T06:42:58.374Z"
   },
   {
    "duration": 120,
    "start_time": "2025-02-28T06:42:58.383Z"
   },
   {
    "duration": 8,
    "start_time": "2025-02-28T06:42:58.504Z"
   },
   {
    "duration": 10,
    "start_time": "2025-02-28T06:42:58.514Z"
   },
   {
    "duration": 29,
    "start_time": "2025-02-28T06:42:58.526Z"
   },
   {
    "duration": 25,
    "start_time": "2025-02-28T06:42:58.556Z"
   },
   {
    "duration": 12,
    "start_time": "2025-02-28T06:42:58.583Z"
   },
   {
    "duration": 20,
    "start_time": "2025-02-28T06:42:58.610Z"
   },
   {
    "duration": 18,
    "start_time": "2025-02-28T06:42:58.634Z"
   },
   {
    "duration": 5,
    "start_time": "2025-02-28T06:42:58.654Z"
   },
   {
    "duration": 16,
    "start_time": "2025-02-28T06:42:58.661Z"
   },
   {
    "duration": 162,
    "start_time": "2025-02-28T06:42:58.679Z"
   },
   {
    "duration": 180,
    "start_time": "2025-02-28T06:42:58.843Z"
   },
   {
    "duration": 141,
    "start_time": "2025-02-28T06:42:59.025Z"
   },
   {
    "duration": 0,
    "start_time": "2025-02-28T06:42:59.167Z"
   },
   {
    "duration": 0,
    "start_time": "2025-02-28T06:42:59.169Z"
   },
   {
    "duration": 0,
    "start_time": "2025-02-28T06:42:59.170Z"
   },
   {
    "duration": 0,
    "start_time": "2025-02-28T06:42:59.171Z"
   },
   {
    "duration": 0,
    "start_time": "2025-02-28T06:42:59.174Z"
   },
   {
    "duration": 0,
    "start_time": "2025-02-28T06:42:59.175Z"
   },
   {
    "duration": 0,
    "start_time": "2025-02-28T06:42:59.176Z"
   },
   {
    "duration": 0,
    "start_time": "2025-02-28T06:42:59.177Z"
   },
   {
    "duration": 0,
    "start_time": "2025-02-28T06:42:59.177Z"
   },
   {
    "duration": 0,
    "start_time": "2025-02-28T06:42:59.178Z"
   },
   {
    "duration": 0,
    "start_time": "2025-02-28T06:42:59.179Z"
   },
   {
    "duration": 0,
    "start_time": "2025-02-28T06:42:59.180Z"
   },
   {
    "duration": 0,
    "start_time": "2025-02-28T06:42:59.181Z"
   },
   {
    "duration": 0,
    "start_time": "2025-02-28T06:42:59.182Z"
   },
   {
    "duration": 0,
    "start_time": "2025-02-28T06:42:59.209Z"
   },
   {
    "duration": 0,
    "start_time": "2025-02-28T06:42:59.209Z"
   },
   {
    "duration": 1,
    "start_time": "2025-02-28T06:42:59.210Z"
   },
   {
    "duration": 0,
    "start_time": "2025-02-28T06:42:59.212Z"
   },
   {
    "duration": 0,
    "start_time": "2025-02-28T06:42:59.213Z"
   },
   {
    "duration": 0,
    "start_time": "2025-02-28T06:42:59.214Z"
   },
   {
    "duration": 0,
    "start_time": "2025-02-28T06:42:59.214Z"
   },
   {
    "duration": 0,
    "start_time": "2025-02-28T06:42:59.215Z"
   },
   {
    "duration": 0,
    "start_time": "2025-02-28T06:42:59.216Z"
   },
   {
    "duration": 0,
    "start_time": "2025-02-28T06:42:59.217Z"
   },
   {
    "duration": 1,
    "start_time": "2025-02-28T06:42:59.218Z"
   },
   {
    "duration": 0,
    "start_time": "2025-02-28T06:42:59.219Z"
   },
   {
    "duration": 0,
    "start_time": "2025-02-28T06:42:59.220Z"
   },
   {
    "duration": 0,
    "start_time": "2025-02-28T06:42:59.221Z"
   },
   {
    "duration": 0,
    "start_time": "2025-02-28T06:42:59.222Z"
   },
   {
    "duration": 7394,
    "start_time": "2025-02-28T06:45:11.847Z"
   },
   {
    "duration": 1705,
    "start_time": "2025-02-28T06:45:19.244Z"
   },
   {
    "duration": 98,
    "start_time": "2025-02-28T06:45:20.950Z"
   },
   {
    "duration": 14,
    "start_time": "2025-02-28T06:45:21.050Z"
   },
   {
    "duration": 32,
    "start_time": "2025-02-28T06:45:21.066Z"
   },
   {
    "duration": 136,
    "start_time": "2025-02-28T06:45:21.100Z"
   },
   {
    "duration": 120,
    "start_time": "2025-02-28T06:45:21.238Z"
   },
   {
    "duration": 182,
    "start_time": "2025-02-28T06:45:21.360Z"
   },
   {
    "duration": 16,
    "start_time": "2025-02-28T06:45:21.543Z"
   },
   {
    "duration": 11,
    "start_time": "2025-02-28T06:45:21.561Z"
   },
   {
    "duration": 7,
    "start_time": "2025-02-28T06:45:21.574Z"
   },
   {
    "duration": 33,
    "start_time": "2025-02-28T06:45:21.582Z"
   },
   {
    "duration": 117,
    "start_time": "2025-02-28T06:45:21.617Z"
   },
   {
    "duration": 133,
    "start_time": "2025-02-28T06:45:21.737Z"
   },
   {
    "duration": 207,
    "start_time": "2025-02-28T06:45:21.872Z"
   },
   {
    "duration": 107,
    "start_time": "2025-02-28T06:45:22.080Z"
   },
   {
    "duration": 9,
    "start_time": "2025-02-28T06:45:22.189Z"
   },
   {
    "duration": 56,
    "start_time": "2025-02-28T06:45:22.199Z"
   },
   {
    "duration": 745,
    "start_time": "2025-02-28T06:45:22.257Z"
   },
   {
    "duration": 7,
    "start_time": "2025-02-28T06:45:23.009Z"
   },
   {
    "duration": 155,
    "start_time": "2025-02-28T06:45:23.018Z"
   },
   {
    "duration": 4,
    "start_time": "2025-02-28T06:45:23.175Z"
   },
   {
    "duration": 12,
    "start_time": "2025-02-28T06:45:23.181Z"
   },
   {
    "duration": 24,
    "start_time": "2025-02-28T06:45:23.195Z"
   },
   {
    "duration": 24,
    "start_time": "2025-02-28T06:45:23.221Z"
   },
   {
    "duration": 11,
    "start_time": "2025-02-28T06:45:23.247Z"
   },
   {
    "duration": 21,
    "start_time": "2025-02-28T06:45:23.259Z"
   },
   {
    "duration": 38,
    "start_time": "2025-02-28T06:45:23.282Z"
   },
   {
    "duration": 4,
    "start_time": "2025-02-28T06:45:23.321Z"
   },
   {
    "duration": 8,
    "start_time": "2025-02-28T06:45:23.326Z"
   },
   {
    "duration": 154,
    "start_time": "2025-02-28T06:45:23.335Z"
   },
   {
    "duration": 168,
    "start_time": "2025-02-28T06:45:23.491Z"
   },
   {
    "duration": 3,
    "start_time": "2025-02-28T06:45:23.661Z"
   },
   {
    "duration": 2921,
    "start_time": "2025-02-28T06:45:23.665Z"
   },
   {
    "duration": 4735,
    "start_time": "2025-02-28T06:45:26.587Z"
   },
   {
    "duration": 3,
    "start_time": "2025-02-28T06:45:31.324Z"
   },
   {
    "duration": 18,
    "start_time": "2025-02-28T06:45:31.329Z"
   },
   {
    "duration": 9,
    "start_time": "2025-02-28T06:45:31.349Z"
   },
   {
    "duration": 12,
    "start_time": "2025-02-28T06:45:31.360Z"
   },
   {
    "duration": 10,
    "start_time": "2025-02-28T06:45:31.373Z"
   },
   {
    "duration": 7,
    "start_time": "2025-02-28T06:45:31.387Z"
   },
   {
    "duration": 33,
    "start_time": "2025-02-28T06:45:31.395Z"
   },
   {
    "duration": 17,
    "start_time": "2025-02-28T06:45:31.429Z"
   },
   {
    "duration": 11,
    "start_time": "2025-02-28T06:45:31.447Z"
   },
   {
    "duration": 5,
    "start_time": "2025-02-28T06:45:31.460Z"
   },
   {
    "duration": 3,
    "start_time": "2025-02-28T06:45:31.467Z"
   },
   {
    "duration": 4,
    "start_time": "2025-02-28T06:45:31.472Z"
   },
   {
    "duration": 10,
    "start_time": "2025-02-28T06:45:31.477Z"
   },
   {
    "duration": 10,
    "start_time": "2025-02-28T06:45:31.488Z"
   },
   {
    "duration": 41388,
    "start_time": "2025-02-28T06:45:31.499Z"
   },
   {
    "duration": 4,
    "start_time": "2025-02-28T06:46:12.888Z"
   },
   {
    "duration": 48,
    "start_time": "2025-02-28T06:46:12.893Z"
   },
   {
    "duration": 47,
    "start_time": "2025-02-28T06:46:12.942Z"
   },
   {
    "duration": 27,
    "start_time": "2025-02-28T06:46:12.990Z"
   },
   {
    "duration": 60,
    "start_time": "2025-02-28T06:46:13.018Z"
   },
   {
    "duration": 184,
    "start_time": "2025-02-28T06:46:13.080Z"
   },
   {
    "duration": 3,
    "start_time": "2025-02-28T06:46:13.266Z"
   },
   {
    "duration": 10,
    "start_time": "2025-02-28T06:46:13.271Z"
   },
   {
    "duration": 28,
    "start_time": "2025-02-28T06:46:13.282Z"
   },
   {
    "duration": 149,
    "start_time": "2025-02-28T06:46:13.312Z"
   },
   {
    "duration": 6,
    "start_time": "2025-02-28T06:46:13.463Z"
   }
  ],
  "kernelspec": {
   "display_name": "Python 3 (ipykernel)",
   "language": "python",
   "name": "python3"
  },
  "language_info": {
   "codemirror_mode": {
    "name": "ipython",
    "version": 3
   },
   "file_extension": ".py",
   "mimetype": "text/x-python",
   "name": "python",
   "nbconvert_exporter": "python",
   "pygments_lexer": "ipython3",
   "version": "3.9.5"
  },
  "toc": {
   "base_numbering": 1,
   "nav_menu": {},
   "number_sections": true,
   "sideBar": true,
   "skip_h1_title": true,
   "title_cell": "Table of Contents",
   "title_sidebar": "Contents",
   "toc_cell": false,
   "toc_position": {},
   "toc_section_display": true,
   "toc_window_display": true
  }
 },
 "nbformat": 4,
 "nbformat_minor": 5
}
